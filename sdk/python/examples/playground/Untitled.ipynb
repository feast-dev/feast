{
 "cells": [
  {
   "cell_type": "code",
   "execution_count": 12,
   "metadata": {
    "collapsed": true
   },
   "outputs": [],
   "source": [
    "import sys\n",
    "sys.path.append(\"/Users/zhilingc/Documents/go-projects/src/github.com/gojektech/feast/sdk/python\")\n"
   ]
  },
  {
   "cell_type": "code",
   "execution_count": 13,
   "metadata": {
    "collapsed": true
   },
   "outputs": [],
   "source": [
    "from feast.sdk.utils.gs_utils import *\n",
    "import numpy as np\n",
    "import pandas as pd"
   ]
  },
  {
   "cell_type": "code",
   "execution_count": 14,
   "metadata": {},
   "outputs": [
    {
     "data": {
      "text/plain": [
       "['zl-test-bucket', 'cicilan.csv']"
      ]
     },
     "execution_count": 14,
     "metadata": {},
     "output_type": "execute_result"
    }
   ],
   "source": [
    "path = \"gs://zl-test-bucket/cicilan.csv\"\n",
    "path = path.replace('gs://', '', 1)\n",
    "path.split('/', 1)"
   ]
  },
  {
   "cell_type": "code",
   "execution_count": 15,
   "metadata": {},
   "outputs": [
    {
     "ename": "NameError",
     "evalue": "name 'gs_to_pd' is not defined",
     "output_type": "error",
     "traceback": [
      "\u001b[0;31m---------------------------------------------------------------------------\u001b[0m",
      "\u001b[0;31mNameError\u001b[0m                                 Traceback (most recent call last)",
      "\u001b[0;32m<ipython-input-15-5b012817a0b3>\u001b[0m in \u001b[0;36m<module>\u001b[0;34m()\u001b[0m\n\u001b[0;32m----> 1\u001b[0;31m \u001b[0mdf\u001b[0m \u001b[0;34m=\u001b[0m \u001b[0mgs_to_pd\u001b[0m\u001b[0;34m(\u001b[0m\u001b[0;34m\"gs://zl-test-bucket/cicilan.csv\"\u001b[0m\u001b[0;34m)\u001b[0m\u001b[0;34m\u001b[0m\u001b[0m\n\u001b[0m",
      "\u001b[0;31mNameError\u001b[0m: name 'gs_to_pd' is not defined"
     ]
    }
   ],
   "source": [
    "df = gs_to_pd(\"gs://zl-test-bucket/cicilan.csv\")"
   ]
  },
  {
   "cell_type": "code",
   "execution_count": 17,
   "metadata": {},
   "outputs": [
    {
     "name": "stdout",
     "output_type": "stream",
     "text": [
      "int64\n"
     ]
    }
   ],
   "source": [
    "df.dtypes[0]"
   ]
  },
  {
   "cell_type": "code",
   "execution_count": 13,
   "metadata": {},
   "outputs": [
    {
     "data": {
      "text/html": [
       "<div>\n",
       "<style>\n",
       "    .dataframe thead tr:only-child th {\n",
       "        text-align: right;\n",
       "    }\n",
       "\n",
       "    .dataframe thead th {\n",
       "        text-align: left;\n",
       "    }\n",
       "\n",
       "    .dataframe tbody tr th {\n",
       "        vertical-align: top;\n",
       "    }\n",
       "</style>\n",
       "<table border=\"1\" class=\"dataframe\">\n",
       "  <thead>\n",
       "    <tr style=\"text-align: right;\">\n",
       "      <th></th>\n",
       "      <th>driver_id</th>\n",
       "      <th>cicilan_id</th>\n",
       "      <th>start_date</th>\n",
       "      <th>status</th>\n",
       "      <th>paused_overdue_payments</th>\n",
       "      <th>paused_pending_payments</th>\n",
       "      <th>total_paid_payments_migrated</th>\n",
       "      <th>customised_installment_count</th>\n",
       "      <th>id</th>\n",
       "      <th>installment_value</th>\n",
       "      <th>installment_count</th>\n",
       "      <th>driverid</th>\n",
       "      <th>match</th>\n",
       "    </tr>\n",
       "  </thead>\n",
       "  <tbody>\n",
       "    <tr>\n",
       "      <th>0</th>\n",
       "      <td>540212233</td>\n",
       "      <td>1</td>\n",
       "      <td>2017-02-01</td>\n",
       "      <td>applied</td>\n",
       "      <td>NaN</td>\n",
       "      <td>NaN</td>\n",
       "      <td>NaN</td>\n",
       "      <td>NaN</td>\n",
       "      <td>1</td>\n",
       "      <td>8500</td>\n",
       "      <td>20.0</td>\n",
       "      <td>540212233</td>\n",
       "      <td>1</td>\n",
       "    </tr>\n",
       "    <tr>\n",
       "      <th>1</th>\n",
       "      <td>540212233</td>\n",
       "      <td>1</td>\n",
       "      <td>2017-02-01</td>\n",
       "      <td>applied</td>\n",
       "      <td>NaN</td>\n",
       "      <td>NaN</td>\n",
       "      <td>NaN</td>\n",
       "      <td>NaN</td>\n",
       "      <td>1</td>\n",
       "      <td>8500</td>\n",
       "      <td>20.0</td>\n",
       "      <td>540212233</td>\n",
       "      <td>1</td>\n",
       "    </tr>\n",
       "    <tr>\n",
       "      <th>2</th>\n",
       "      <td>540212233</td>\n",
       "      <td>1</td>\n",
       "      <td>2017-02-01</td>\n",
       "      <td>applied</td>\n",
       "      <td>NaN</td>\n",
       "      <td>NaN</td>\n",
       "      <td>NaN</td>\n",
       "      <td>NaN</td>\n",
       "      <td>1</td>\n",
       "      <td>8500</td>\n",
       "      <td>20.0</td>\n",
       "      <td>540212233</td>\n",
       "      <td>1</td>\n",
       "    </tr>\n",
       "    <tr>\n",
       "      <th>3</th>\n",
       "      <td>540212233</td>\n",
       "      <td>1</td>\n",
       "      <td>2017-02-01</td>\n",
       "      <td>applied</td>\n",
       "      <td>NaN</td>\n",
       "      <td>NaN</td>\n",
       "      <td>NaN</td>\n",
       "      <td>NaN</td>\n",
       "      <td>1</td>\n",
       "      <td>8500</td>\n",
       "      <td>20.0</td>\n",
       "      <td>540212233</td>\n",
       "      <td>1</td>\n",
       "    </tr>\n",
       "    <tr>\n",
       "      <th>4</th>\n",
       "      <td>540182770</td>\n",
       "      <td>6</td>\n",
       "      <td>2015-09-18</td>\n",
       "      <td>applied</td>\n",
       "      <td>NaN</td>\n",
       "      <td>NaN</td>\n",
       "      <td>NaN</td>\n",
       "      <td>NaN</td>\n",
       "      <td>6</td>\n",
       "      <td>26000</td>\n",
       "      <td>1050.0</td>\n",
       "      <td>540182770</td>\n",
       "      <td>1</td>\n",
       "    </tr>\n",
       "  </tbody>\n",
       "</table>\n",
       "</div>"
      ],
      "text/plain": [
       "   driver_id  cicilan_id  start_date   status  paused_overdue_payments  \\\n",
       "0  540212233           1  2017-02-01  applied                      NaN   \n",
       "1  540212233           1  2017-02-01  applied                      NaN   \n",
       "2  540212233           1  2017-02-01  applied                      NaN   \n",
       "3  540212233           1  2017-02-01  applied                      NaN   \n",
       "4  540182770           6  2015-09-18  applied                      NaN   \n",
       "\n",
       "   paused_pending_payments  total_paid_payments_migrated  \\\n",
       "0                      NaN                           NaN   \n",
       "1                      NaN                           NaN   \n",
       "2                      NaN                           NaN   \n",
       "3                      NaN                           NaN   \n",
       "4                      NaN                           NaN   \n",
       "\n",
       "   customised_installment_count  id  installment_value  installment_count  \\\n",
       "0                           NaN   1               8500               20.0   \n",
       "1                           NaN   1               8500               20.0   \n",
       "2                           NaN   1               8500               20.0   \n",
       "3                           NaN   1               8500               20.0   \n",
       "4                           NaN   6              26000             1050.0   \n",
       "\n",
       "    driverid  match  \n",
       "0  540212233      1  \n",
       "1  540212233      1  \n",
       "2  540212233      1  \n",
       "3  540212233      1  \n",
       "4  540182770      1  "
      ]
     },
     "execution_count": 13,
     "metadata": {},
     "output_type": "execute_result"
    }
   ],
   "source": [
    "df.head()"
   ]
  },
  {
   "cell_type": "code",
   "execution_count": 55,
   "metadata": {},
   "outputs": [
    {
     "ename": "ValueError",
     "evalue": "list.remove(x): x not in list",
     "output_type": "error",
     "traceback": [
      "\u001b[0;31m---------------------------------------------------------------------------\u001b[0m",
      "\u001b[0;31mValueError\u001b[0m                                Traceback (most recent call last)",
      "\u001b[0;32m<ipython-input-55-f256e3e60f6e>\u001b[0m in \u001b[0;36m<module>\u001b[0;34m()\u001b[0m\n\u001b[1;32m      3\u001b[0m \u001b[0;34m\u001b[0m\u001b[0m\n\u001b[1;32m      4\u001b[0m \u001b[0mcolumn_name\u001b[0m\u001b[0;34m.\u001b[0m\u001b[0mremove\u001b[0m\u001b[0;34m(\u001b[0m\u001b[0;34m'driver_id'\u001b[0m\u001b[0;34m)\u001b[0m\u001b[0;34m\u001b[0m\u001b[0m\n\u001b[0;32m----> 5\u001b[0;31m \u001b[0mcolumn_name\u001b[0m\u001b[0;34m.\u001b[0m\u001b[0mremove\u001b[0m\u001b[0;34m(\u001b[0m\u001b[0;32mNone\u001b[0m\u001b[0;34m)\u001b[0m\u001b[0;34m\u001b[0m\u001b[0m\n\u001b[0m",
      "\u001b[0;31mValueError\u001b[0m: list.remove(x): x not in list"
     ]
    }
   ],
   "source": [
    "column_name = list(df.columns.values)\n",
    "column_name\n",
    "\n",
    "column_name.remove('driver_id')\n",
    "column_name.remove(None)"
   ]
  },
  {
   "cell_type": "code",
   "execution_count": 16,
   "metadata": {},
   "outputs": [
    {
     "ename": "NameError",
     "evalue": "name 'dtype' is not defined",
     "output_type": "error",
     "traceback": [
      "\u001b[0;31m---------------------------------------------------------------------------\u001b[0m",
      "\u001b[0;31mNameError\u001b[0m                                 Traceback (most recent call last)",
      "\u001b[0;32m<ipython-input-16-7c2aca8bbb4e>\u001b[0m in \u001b[0;36m<module>\u001b[0;34m()\u001b[0m\n\u001b[0;32m----> 1\u001b[0;31m \u001b[0mdtype\u001b[0m\u001b[0;34m(\u001b[0m\u001b[0;34m'int64'\u001b[0m\u001b[0;34m)\u001b[0m\u001b[0;34m\u001b[0m\u001b[0m\n\u001b[0m",
      "\u001b[0;31mNameError\u001b[0m: name 'dtype' is not defined"
     ]
    }
   ],
   "source": [
    "dtype('int64')"
   ]
  },
  {
   "cell_type": "code",
   "execution_count": 35,
   "metadata": {
    "code_folding": [],
    "collapsed": true
   },
   "outputs": [],
   "source": [
    "dft = pd.DataFrame(dict(A = np.random.rand(3),\n",
    "                            B = 1,\n",
    "                            C = 'foo',\n",
    "                            D = pd.Timestamp('20180310'),\n",
    "                            E = pd.Series([1.0]*3).astype('float32'),\n",
    "                            F = False,\n",
    "                            G = pd.Series([1]*3,dtype='int8')))"
   ]
  },
  {
   "cell_type": "code",
   "execution_count": 45,
   "metadata": {},
   "outputs": [
    {
     "data": {
      "text/plain": [
       "'object'"
      ]
     },
     "execution_count": 45,
     "metadata": {},
     "output_type": "execute_result"
    }
   ],
   "source": [
    "dft['C'].dtype.__str__()"
   ]
  },
  {
   "cell_type": "code",
   "execution_count": 1,
   "metadata": {},
   "outputs": [],
   "source": [
    "import sys\n",
    "sys.path.append(\"/Users/zhilingc/Documents/go-projects/src/github.com/gojektech/feast/sdk/python\")\n",
    "\n"
   ]
  },
  {
   "cell_type": "code",
   "execution_count": 2,
   "metadata": {},
   "outputs": [],
   "source": [
    "from feast.sdk.importer import Importer\n",
    "from feast.types.Granularity_pb2 import Granularity\n",
    "# from feast.types.Value_pb2 import ValueType"
   ]
  },
  {
   "cell_type": "code",
   "execution_count": 3,
   "metadata": {},
   "outputs": [],
   "source": [
    "importer = Importer.from_csv(\"driver_features.csv\", \"entity\", Granularity.DAY, \"me\", staging_location=\"gs://zl-test-bucket\",\n",
    "        id_column=\"driver_id\", timestamp_column=\"ts\")"
   ]
  },
  {
   "cell_type": "code",
   "execution_count": 4,
   "metadata": {},
   "outputs": [
    {
     "name": "stdout",
     "output_type": "stream",
     "text": [
      "id: entity.day.completed\n",
      "name: completed\n",
      "owner: me\n",
      "granularity: DAY\n",
      "valueType: INT64\n",
      "entity: entity\n",
      "dataStores: {}\n",
      "\n",
      "id: entity.day.avg_distance_completed\n",
      "name: avg_distance_completed\n",
      "owner: me\n",
      "granularity: DAY\n",
      "valueType: DOUBLE\n",
      "entity: entity\n",
      "dataStores: {}\n",
      "\n",
      "id: entity.day.avg_customer_distance_completed\n",
      "name: avg_customer_distance_completed\n",
      "owner: me\n",
      "granularity: DAY\n",
      "valueType: DOUBLE\n",
      "entity: entity\n",
      "dataStores: {}\n",
      "\n",
      "id: entity.day.avg_distance_cancelled\n",
      "name: avg_distance_cancelled\n",
      "owner: me\n",
      "granularity: DAY\n",
      "valueType: DOUBLE\n",
      "entity: entity\n",
      "dataStores: {}\n",
      "\n"
     ]
    }
   ],
   "source": [
    "for ft in importer.features:\n",
    "    print(ft)\n",
    "\n",
    "importer.update_feature('feature_id', )"
   ]
  },
  {
   "cell_type": "code",
   "execution_count": 11,
   "metadata": {},
   "outputs": [
    {
     "data": {
      "text/html": [
       "<div>\n",
       "<style>\n",
       "    .dataframe thead tr:only-child th {\n",
       "        text-align: right;\n",
       "    }\n",
       "\n",
       "    .dataframe thead th {\n",
       "        text-align: left;\n",
       "    }\n",
       "\n",
       "    .dataframe tbody tr th {\n",
       "        vertical-align: top;\n",
       "    }\n",
       "</style>\n",
       "<table border=\"1\" class=\"dataframe\">\n",
       "  <thead>\n",
       "    <tr style=\"text-align: right;\">\n",
       "      <th></th>\n",
       "      <th>driver_id</th>\n",
       "      <th>ts</th>\n",
       "      <th>completed</th>\n",
       "      <th>avg_distance_completed</th>\n",
       "      <th>avg_customer_distance_completed</th>\n",
       "      <th>avg_distance_cancelled</th>\n",
       "    </tr>\n",
       "  </thead>\n",
       "  <tbody>\n",
       "    <tr>\n",
       "      <th>0</th>\n",
       "      <td>540403892</td>\n",
       "      <td>2018-09-25T00:00:00.000</td>\n",
       "      <td>12</td>\n",
       "      <td>1.102000</td>\n",
       "      <td>172.000000</td>\n",
       "      <td>-1.0000</td>\n",
       "    </tr>\n",
       "    <tr>\n",
       "      <th>1</th>\n",
       "      <td>540403917</td>\n",
       "      <td>2018-09-25T00:00:00.000</td>\n",
       "      <td>23</td>\n",
       "      <td>8.160000</td>\n",
       "      <td>783.000000</td>\n",
       "      <td>15.6190</td>\n",
       "    </tr>\n",
       "    <tr>\n",
       "      <th>2</th>\n",
       "      <td>540403918</td>\n",
       "      <td>2018-09-25T00:00:00.000</td>\n",
       "      <td>14</td>\n",
       "      <td>2.833286</td>\n",
       "      <td>138.142857</td>\n",
       "      <td>18.5935</td>\n",
       "    </tr>\n",
       "    <tr>\n",
       "      <th>3</th>\n",
       "      <td>540403920</td>\n",
       "      <td>2018-09-25T00:00:00.000</td>\n",
       "      <td>7</td>\n",
       "      <td>4.593000</td>\n",
       "      <td>1575.000000</td>\n",
       "      <td>-1.0000</td>\n",
       "    </tr>\n",
       "    <tr>\n",
       "      <th>4</th>\n",
       "      <td>540403926</td>\n",
       "      <td>2018-09-25T00:00:00.000</td>\n",
       "      <td>15</td>\n",
       "      <td>11.765600</td>\n",
       "      <td>314.000000</td>\n",
       "      <td>6.7330</td>\n",
       "    </tr>\n",
       "  </tbody>\n",
       "</table>\n",
       "</div>"
      ],
      "text/plain": [
       "   driver_id                       ts  completed  avg_distance_completed  \\\n",
       "0  540403892  2018-09-25T00:00:00.000         12                1.102000   \n",
       "1  540403917  2018-09-25T00:00:00.000         23                8.160000   \n",
       "2  540403918  2018-09-25T00:00:00.000         14                2.833286   \n",
       "3  540403920  2018-09-25T00:00:00.000          7                4.593000   \n",
       "4  540403926  2018-09-25T00:00:00.000         15               11.765600   \n",
       "\n",
       "   avg_customer_distance_completed  avg_distance_cancelled  \n",
       "0                       172.000000                 -1.0000  \n",
       "1                       783.000000                 15.6190  \n",
       "2                       138.142857                 18.5935  \n",
       "3                      1575.000000                 -1.0000  \n",
       "4                       314.000000                  6.7330  "
      ]
     },
     "execution_count": 11,
     "metadata": {},
     "output_type": "execute_result"
    }
   ],
   "source": [
    "import pandas as pd\n",
    "pd.read_csv(\"driver_features.csv\").head()"
   ]
  },
  {
   "cell_type": "code",
   "execution_count": null,
   "metadata": {
    "collapsed": true
   },
   "outputs": [],
   "source": []
  }
 ],
 "metadata": {
  "kernelspec": {
   "display_name": "Python 3",
   "language": "python",
   "name": "python3"
  },
  "language_info": {
   "codemirror_mode": {
    "name": "ipython",
    "version": 3
   },
   "file_extension": ".py",
   "mimetype": "text/x-python",
   "name": "python",
   "nbconvert_exporter": "python",
   "pygments_lexer": "ipython3",
   "version": "3.6.1"
  }
 },
 "nbformat": 4,
 "nbformat_minor": 2
}
