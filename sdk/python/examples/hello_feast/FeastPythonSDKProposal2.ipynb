{
 "cells": [
  {
   "cell_type": "markdown",
   "metadata": {},
   "source": [
    "# __Feast Python SDK Proposal 2__"
   ]
  },
  {
   "cell_type": "code",
   "execution_count": 1,
   "metadata": {
    "collapsed": true
   },
   "outputs": [],
   "source": [
    "# ideally we install feast first\n",
    "import sys\n",
    "sys.path.append(\"/Users/zhilingc/Documents/go-projects/src/github.com/gojektech/feast/sdk/python\")"
   ]
  },
  {
   "cell_type": "code",
   "execution_count": 2,
   "metadata": {},
   "outputs": [],
   "source": [
    "import pandas as pd\n",
    "\n",
    "from feast.sdk.resources.entity import Entity\n",
    "from feast.sdk.resources.feature import Feature\n",
    "from feast.sdk.resources.storage import Datastore\n",
    "from feast.types.Granularity_pb2 import Granularity\n",
    "from feast.types.Value_pb2 import ValueType\n",
    "import feast.specs.FeatureSpec_pb2 as feature_pb\n",
    "\n",
    "from feast.sdk.importer import Importer\n",
    "\n",
    "from feast.sdk.client import Client"
   ]
  },
  {
   "cell_type": "markdown",
   "metadata": {},
   "source": [
    "### Connect to your Feast server"
   ]
  },
  {
   "cell_type": "code",
   "execution_count": 3,
   "metadata": {
    "collapsed": true
   },
   "outputs": [],
   "source": [
    "fs = Client('localhost:8433', verbose=True)"
   ]
  },
  {
   "cell_type": "markdown",
   "metadata": {},
   "source": [
    "### Load feature data from a local file"
   ]
  },
  {
   "cell_type": "code",
   "execution_count": 4,
   "metadata": {},
   "outputs": [
    {
     "data": {
      "text/html": [
       "<div>\n",
       "<style>\n",
       "    .dataframe thead tr:only-child th {\n",
       "        text-align: right;\n",
       "    }\n",
       "\n",
       "    .dataframe thead th {\n",
       "        text-align: left;\n",
       "    }\n",
       "\n",
       "    .dataframe tbody tr th {\n",
       "        vertical-align: top;\n",
       "    }\n",
       "</style>\n",
       "<table border=\"1\" class=\"dataframe\">\n",
       "  <thead>\n",
       "    <tr style=\"text-align: right;\">\n",
       "      <th></th>\n",
       "      <th>driver_id</th>\n",
       "      <th>ts</th>\n",
       "      <th>completed</th>\n",
       "      <th>avg_distance_completed</th>\n",
       "      <th>avg_customer_distance_completed</th>\n",
       "      <th>avg_distance_cancelled</th>\n",
       "    </tr>\n",
       "  </thead>\n",
       "  <tbody>\n",
       "    <tr>\n",
       "      <th>0</th>\n",
       "      <td>1</td>\n",
       "      <td>2018-09-25T00:00:00.000</td>\n",
       "      <td>12</td>\n",
       "      <td>1.102000</td>\n",
       "      <td>172.000000</td>\n",
       "      <td>-1.0000</td>\n",
       "    </tr>\n",
       "    <tr>\n",
       "      <th>1</th>\n",
       "      <td>2</td>\n",
       "      <td>2018-09-25T00:00:00.000</td>\n",
       "      <td>23</td>\n",
       "      <td>8.160000</td>\n",
       "      <td>783.000000</td>\n",
       "      <td>15.6190</td>\n",
       "    </tr>\n",
       "    <tr>\n",
       "      <th>2</th>\n",
       "      <td>3</td>\n",
       "      <td>2018-09-25T00:00:00.000</td>\n",
       "      <td>14</td>\n",
       "      <td>2.833286</td>\n",
       "      <td>138.142857</td>\n",
       "      <td>18.5935</td>\n",
       "    </tr>\n",
       "    <tr>\n",
       "      <th>3</th>\n",
       "      <td>4</td>\n",
       "      <td>2018-09-25T00:00:00.000</td>\n",
       "      <td>7</td>\n",
       "      <td>4.593000</td>\n",
       "      <td>1575.000000</td>\n",
       "      <td>-1.0000</td>\n",
       "    </tr>\n",
       "    <tr>\n",
       "      <th>4</th>\n",
       "      <td>5</td>\n",
       "      <td>2018-09-25T00:00:00.000</td>\n",
       "      <td>15</td>\n",
       "      <td>11.765600</td>\n",
       "      <td>314.000000</td>\n",
       "      <td>6.7330</td>\n",
       "    </tr>\n",
       "  </tbody>\n",
       "</table>\n",
       "</div>"
      ],
      "text/plain": [
       "   driver_id                       ts  completed  avg_distance_completed  \\\n",
       "0          1  2018-09-25T00:00:00.000         12                1.102000   \n",
       "1          2  2018-09-25T00:00:00.000         23                8.160000   \n",
       "2          3  2018-09-25T00:00:00.000         14                2.833286   \n",
       "3          4  2018-09-25T00:00:00.000          7                4.593000   \n",
       "4          5  2018-09-25T00:00:00.000         15               11.765600   \n",
       "\n",
       "   avg_customer_distance_completed  avg_distance_cancelled  \n",
       "0                       172.000000                 -1.0000  \n",
       "1                       783.000000                 15.6190  \n",
       "2                       138.142857                 18.5935  \n",
       "3                      1575.000000                 -1.0000  \n",
       "4                       314.000000                  6.7330  "
      ]
     },
     "execution_count": 4,
     "metadata": {},
     "output_type": "execute_result"
    }
   ],
   "source": [
    "df = pd.read_csv('driver_features.csv')\n",
    "df.head()"
   ]
  },
  {
   "cell_type": "markdown",
   "metadata": {},
   "source": [
    "### Create customer entity"
   ]
  },
  {
   "cell_type": "code",
   "execution_count": 5,
   "metadata": {},
   "outputs": [
    {
     "name": "stdout",
     "output_type": "stream",
     "text": [
      "name: customer\n",
      "description: desc\n",
      "tags:\n",
      "- loyal\n",
      "- customer\n",
      "\n"
     ]
    }
   ],
   "source": [
    "customer_entity = Entity('customer', \"desc\", [\"loyal\", \"customer\"])\n",
    "print(customer_entity)"
   ]
  },
  {
   "cell_type": "markdown",
   "metadata": {},
   "source": [
    "### Create customer feature"
   ]
  },
  {
   "cell_type": "code",
   "execution_count": 6,
   "metadata": {},
   "outputs": [
    {
     "name": "stdout",
     "output_type": "stream",
     "text": [
      "id: customer.day.age\n",
      "name: age\n",
      "owner: willem.p@go-jek.com\n",
      "description: Customer's age\n",
      "granularity: DAY\n",
      "valueType: INT64\n",
      "entity: customer\n",
      "dataStores:\n",
      "  serving:\n",
      "    id: REDIS1\n",
      "  warehouse:\n",
      "    id: BIGQUERY1\n",
      "\n"
     ]
    }
   ],
   "source": [
    "customer_age = Feature(name='age', \n",
    "                       entity=\"customer\",\n",
    "                       granularity=Granularity.DAY, \n",
    "                       owner='willem.p@go-jek.com',\n",
    "                       description=\"Customer's age\",\n",
    "                       value_type=ValueType.INT64, \n",
    "                       serving_store=Datastore(id=\"REDIS1\"),\n",
    "                       warehouse_store=Datastore(id=\"BIGQUERY1\"))\n",
    "print(customer_age)"
   ]
  },
  {
   "cell_type": "code",
   "execution_count": 7,
   "metadata": {},
   "outputs": [],
   "source": [
    "customer_balance = Feature(name='balance', \n",
    "                           entity=\"customer\",\n",
    "                           granularity=Granularity.DAY, \n",
    "                           owner='willem.p@go-jek.com', \n",
    "                           value_type=ValueType.FLOAT, \n",
    "                           description=\"Customer's account balance\",\n",
    "                           serving_store=Datastore(id=\"REDIS1\"),\n",
    "                           warehouse_store=Datastore(id=\"BIGQUERY1\"))"
   ]
  },
  {
   "cell_type": "markdown",
   "metadata": {},
   "source": [
    "### Register customer entity in Feast"
   ]
  },
  {
   "cell_type": "code",
   "execution_count": 8,
   "metadata": {},
   "outputs": [
    {
     "name": "stdout",
     "output_type": "stream",
     "text": [
      "Successfully applied entity with name: customer\n",
      "---\n",
      "name: customer\n",
      "description: desc\n",
      "tags:\n",
      "- loyal\n",
      "- customer\n",
      "\n"
     ]
    },
    {
     "data": {
      "text/plain": [
       "'customer'"
      ]
     },
     "execution_count": 8,
     "metadata": {},
     "output_type": "execute_result"
    }
   ],
   "source": [
    "fs.apply(customer_entity)"
   ]
  },
  {
   "cell_type": "markdown",
   "metadata": {},
   "source": [
    "### Register multiple customer features"
   ]
  },
  {
   "cell_type": "code",
   "execution_count": 9,
   "metadata": {},
   "outputs": [
    {
     "name": "stdout",
     "output_type": "stream",
     "text": [
      "Successfully applied feature with id: customer.day.age\n",
      "---\n",
      "id: customer.day.age\n",
      "name: age\n",
      "owner: willem.p@go-jek.com\n",
      "description: Customer's age\n",
      "granularity: DAY\n",
      "valueType: INT64\n",
      "entity: customer\n",
      "dataStores:\n",
      "  serving:\n",
      "    id: REDIS1\n",
      "  warehouse:\n",
      "    id: BIGQUERY1\n",
      "\n",
      "Successfully applied feature with id: customer.day.balance\n",
      "---\n",
      "id: customer.day.balance\n",
      "name: balance\n",
      "owner: willem.p@go-jek.com\n",
      "description: Customer's account balance\n",
      "granularity: DAY\n",
      "valueType: FLOAT\n",
      "entity: customer\n",
      "dataStores:\n",
      "  serving:\n",
      "    id: REDIS1\n",
      "  warehouse:\n",
      "    id: BIGQUERY1\n",
      "\n"
     ]
    },
    {
     "data": {
      "text/plain": [
       "['customer.day.age', 'customer.day.balance']"
      ]
     },
     "execution_count": 9,
     "metadata": {},
     "output_type": "execute_result"
    }
   ],
   "source": [
    "fs.apply([customer_age, customer_balance])"
   ]
  },
  {
   "cell_type": "markdown",
   "metadata": {},
   "source": [
    "### Register customer's \"age\" feature in Feast using the apply method\n",
    "* This command is idempotent"
   ]
  },
  {
   "cell_type": "code",
   "execution_count": 10,
   "metadata": {},
   "outputs": [
    {
     "name": "stdout",
     "output_type": "stream",
     "text": [
      "Successfully applied feature with id: customer.day.age\n",
      "---\n",
      "id: customer.day.age\n",
      "name: age\n",
      "owner: willem.p@go-jek.com\n",
      "description: Customer's age\n",
      "granularity: DAY\n",
      "valueType: INT64\n",
      "entity: customer\n",
      "dataStores:\n",
      "  serving:\n",
      "    id: REDIS1\n",
      "  warehouse:\n",
      "    id: BIGQUERY1\n",
      "\n"
     ]
    },
    {
     "data": {
      "text/plain": [
       "'customer.day.age'"
      ]
     },
     "execution_count": 10,
     "metadata": {},
     "output_type": "execute_result"
    }
   ],
   "source": [
    "fs.apply(customer_age)"
   ]
  },
  {
   "cell_type": "markdown",
   "metadata": {},
   "source": [
    "### Create an importer from a csv"
   ]
  },
  {
   "cell_type": "code",
   "execution_count": 11,
   "metadata": {},
   "outputs": [],
   "source": [
    "driver_importer = Importer.from_csv('driver_features.csv', \n",
    "                                    granularity=Granularity.DAY, \n",
    "                                    entity='driver', \n",
    "                                    owner='willem.p@go-jek.com',\n",
    "                                    staging_location=\"gs://staging-bucket/feast\",\n",
    "                                    id_column=\"driver_id\", \n",
    "                                    timestamp_column=\"ts\")"
   ]
  },
  {
   "cell_type": "markdown",
   "metadata": {},
   "source": [
    "### [Alternative] Create an importer from a BigQuery table"
   ]
  },
  {
   "cell_type": "code",
   "execution_count": 12,
   "metadata": {},
   "outputs": [
    {
     "name": "stderr",
     "output_type": "stream",
     "text": [
      "/usr/local/anaconda3/lib/python3.6/site-packages/google/auth/_default.py:66: UserWarning: Your application has authenticated using end user credentials from Google Cloud SDK. We recommend that most server applications use service accounts instead. If your application continues to use end user credentials from Cloud SDK, you might receive a \"quota exceeded\" or \"API not enabled\" error. For more information about service accounts, see https://cloud.google.com/docs/authentication/\n",
      "  warnings.warn(_CLOUD_SDK_CREDENTIALS_WARNING)\n",
      "/usr/local/anaconda3/lib/python3.6/site-packages/google/auth/_default.py:66: UserWarning: Your application has authenticated using end user credentials from Google Cloud SDK. We recommend that most server applications use service accounts instead. If your application continues to use end user credentials from Cloud SDK, you might receive a \"quota exceeded\" or \"API not enabled\" error. For more information about service accounts, see https://cloud.google.com/docs/authentication/\n",
      "  warnings.warn(_CLOUD_SDK_CREDENTIALS_WARNING)\n"
     ]
    }
   ],
   "source": [
    "driver_importer_from_bq = Importer.from_bq(\"the-big-data-staging-007.feast_test.surge_gocar\", \n",
    "                                           entity=\"s2id\", \n",
    "                                           granularity=Granularity.MINUTE, \n",
    "                                           owner='willem.p@go-jek.com',\n",
    "                                           timestamp_column=\"start_time\")"
   ]
  },
  {
   "cell_type": "markdown",
   "metadata": {},
   "source": [
    "### [Alternative] Create an importer from a Pandas dataframe"
   ]
  },
  {
   "cell_type": "code",
   "execution_count": 13,
   "metadata": {},
   "outputs": [],
   "source": [
    "my_pandas_df = driver_importer.df\n",
    "driver_importer_from_df = Importer.from_df(my_pandas_df, \n",
    "                                           entity='driver', \n",
    "                                           granularity=Granularity.DAY, \n",
    "                                           owner='willem.p@go-jek.com',  \n",
    "                                           staging_location=\"gs://staging-bucket/feast\",\n",
    "                                           id_column=\"driver_id\", \n",
    "                                           timestamp_column=\"ts\")"
   ]
  },
  {
   "cell_type": "markdown",
   "metadata": {},
   "source": [
    "### Preview the dataframe loaded by the importer"
   ]
  },
  {
   "cell_type": "code",
   "execution_count": 14,
   "metadata": {},
   "outputs": [
    {
     "data": {
      "text/html": [
       "<div>\n",
       "<style>\n",
       "    .dataframe thead tr:only-child th {\n",
       "        text-align: right;\n",
       "    }\n",
       "\n",
       "    .dataframe thead th {\n",
       "        text-align: left;\n",
       "    }\n",
       "\n",
       "    .dataframe tbody tr th {\n",
       "        vertical-align: top;\n",
       "    }\n",
       "</style>\n",
       "<table border=\"1\" class=\"dataframe\">\n",
       "  <thead>\n",
       "    <tr style=\"text-align: right;\">\n",
       "      <th></th>\n",
       "      <th>driver_id</th>\n",
       "      <th>ts</th>\n",
       "      <th>completed</th>\n",
       "      <th>avg_distance_completed</th>\n",
       "      <th>avg_customer_distance_completed</th>\n",
       "      <th>avg_distance_cancelled</th>\n",
       "    </tr>\n",
       "  </thead>\n",
       "  <tbody>\n",
       "    <tr>\n",
       "      <th>0</th>\n",
       "      <td>1</td>\n",
       "      <td>2018-09-25T00:00:00.000</td>\n",
       "      <td>12</td>\n",
       "      <td>1.102000</td>\n",
       "      <td>172.000000</td>\n",
       "      <td>-1.0000</td>\n",
       "    </tr>\n",
       "    <tr>\n",
       "      <th>1</th>\n",
       "      <td>2</td>\n",
       "      <td>2018-09-25T00:00:00.000</td>\n",
       "      <td>23</td>\n",
       "      <td>8.160000</td>\n",
       "      <td>783.000000</td>\n",
       "      <td>15.6190</td>\n",
       "    </tr>\n",
       "    <tr>\n",
       "      <th>2</th>\n",
       "      <td>3</td>\n",
       "      <td>2018-09-25T00:00:00.000</td>\n",
       "      <td>14</td>\n",
       "      <td>2.833286</td>\n",
       "      <td>138.142857</td>\n",
       "      <td>18.5935</td>\n",
       "    </tr>\n",
       "    <tr>\n",
       "      <th>3</th>\n",
       "      <td>4</td>\n",
       "      <td>2018-09-25T00:00:00.000</td>\n",
       "      <td>7</td>\n",
       "      <td>4.593000</td>\n",
       "      <td>1575.000000</td>\n",
       "      <td>-1.0000</td>\n",
       "    </tr>\n",
       "    <tr>\n",
       "      <th>4</th>\n",
       "      <td>5</td>\n",
       "      <td>2018-09-25T00:00:00.000</td>\n",
       "      <td>15</td>\n",
       "      <td>11.765600</td>\n",
       "      <td>314.000000</td>\n",
       "      <td>6.7330</td>\n",
       "    </tr>\n",
       "  </tbody>\n",
       "</table>\n",
       "</div>"
      ],
      "text/plain": [
       "   driver_id                       ts  completed  avg_distance_completed  \\\n",
       "0          1  2018-09-25T00:00:00.000         12                1.102000   \n",
       "1          2  2018-09-25T00:00:00.000         23                8.160000   \n",
       "2          3  2018-09-25T00:00:00.000         14                2.833286   \n",
       "3          4  2018-09-25T00:00:00.000          7                4.593000   \n",
       "4          5  2018-09-25T00:00:00.000         15               11.765600   \n",
       "\n",
       "   avg_customer_distance_completed  avg_distance_cancelled  \n",
       "0                       172.000000                 -1.0000  \n",
       "1                       783.000000                 15.6190  \n",
       "2                       138.142857                 18.5935  \n",
       "3                      1575.000000                 -1.0000  \n",
       "4                       314.000000                  6.7330  "
      ]
     },
     "execution_count": 14,
     "metadata": {},
     "output_type": "execute_result"
    }
   ],
   "source": [
    "driver_importer_from_df.df.head()"
   ]
  },
  {
   "cell_type": "markdown",
   "metadata": {},
   "source": [
    "### Describe the importer"
   ]
  },
  {
   "cell_type": "code",
   "execution_count": 15,
   "metadata": {},
   "outputs": [
    {
     "name": "stdout",
     "output_type": "stream",
     "text": [
      "type: file\n",
      "options:\n",
      "  format: csv\n",
      "  url: gs://staging-bucket/feast/tmp_driver_120418\n",
      "entities:\n",
      "- driver\n",
      "schema:\n",
      "  entityIdColumn: driver_id\n",
      "  fields:\n",
      "  - name: driver_id\n",
      "  - name: ts\n",
      "  - featureId: driver.day.completed\n",
      "    name: completed\n",
      "  - featureId: driver.day.avg_distance_completed\n",
      "    name: avg_distance_completed\n",
      "  - featureId: driver.day.avg_customer_distance_completed\n",
      "    name: avg_customer_distance_completed\n",
      "  - featureId: driver.day.avg_distance_cancelled\n",
      "    name: avg_distance_cancelled\n",
      "  timestampColumn: ts\n",
      "\n"
     ]
    }
   ],
   "source": [
    "driver_importer_from_df.describe()"
   ]
  },
  {
   "cell_type": "markdown",
   "metadata": {},
   "source": [
    "### Submit the import job\n",
    "* This loads the CSV from GCS into Feast\n",
    "* Automatically registers entities and features with Feast during submission"
   ]
  },
  {
   "cell_type": "code",
   "execution_count": null,
   "metadata": {
    "collapsed": true
   },
   "outputs": [],
   "source": [
    "fs.apply(driver_importer, create_entity=True, create_features=True)"
   ]
  },
  {
   "cell_type": "markdown",
   "metadata": {},
   "source": [
    "_starting import..._  \n",
    "_10%_   \n",
    "_50%_   \n",
    "_100%_    \n",
    "_10 rows imported successfully_ "
   ]
  },
  {
   "cell_type": "markdown",
   "metadata": {},
   "source": [
    "### Write out specification files for later use"
   ]
  },
  {
   "cell_type": "code",
   "execution_count": null,
   "metadata": {
    "collapsed": true
   },
   "outputs": [],
   "source": [
    "driver_importer.dump(\"driver_feature_import.yaml\")\n",
    "customer_entity.dump(\"customer_entity.yaml\")\n",
    "customer_age.dump(\"customer_entity.yaml\")"
   ]
  },
  {
   "cell_type": "markdown",
   "metadata": {},
   "source": [
    "### Create a “feature set” which can be used to query both training data and serving data.\n",
    "* The feature set is simply an object that locally tracks which entity, granularity, and features you are interested in."
   ]
  },
  {
   "cell_type": "code",
   "execution_count": null,
   "metadata": {
    "collapsed": true
   },
   "outputs": [],
   "source": [
    "feature_set = fs.create_feature_set(entity='driver', granularity='minute', features=['latitude', 'longitude', 'event_time'])"
   ]
  },
  {
   "cell_type": "markdown",
   "metadata": {},
   "source": [
    "### Produce training dataset\n",
    "* Stages a table in BQ with output data\n",
    "* Returns information about the dataset that has been created"
   ]
  },
  {
   "cell_type": "code",
   "execution_count": null,
   "metadata": {
    "collapsed": true
   },
   "outputs": [],
   "source": [
    "dataset_info = feature_set.create_training_dataset(start_date='2018-01-01', end_date='2018-02-01')"
   ]
  },
  {
   "cell_type": "markdown",
   "metadata": {},
   "source": [
    "### Retrieve training dataset"
   ]
  },
  {
   "cell_type": "code",
   "execution_count": null,
   "metadata": {
    "collapsed": true
   },
   "outputs": [],
   "source": [
    "file_path = 'mypath.feather'\n",
    "dataset_info.download(destination=file_path, type='feather')"
   ]
  },
  {
   "cell_type": "markdown",
   "metadata": {},
   "source": [
    "### Load training dataset into Pandas"
   ]
  },
  {
   "cell_type": "code",
   "execution_count": null,
   "metadata": {
    "collapsed": true
   },
   "outputs": [],
   "source": [
    "import feather\n",
    "df = feather.read_dataframe(file_path)"
   ]
  },
  {
   "cell_type": "markdown",
   "metadata": {},
   "source": [
    "### [Alternative] Download dataset directly into a Pandas dataframe"
   ]
  },
  {
   "cell_type": "code",
   "execution_count": null,
   "metadata": {
    "collapsed": true
   },
   "outputs": [],
   "source": [
    "df = dataset_info.download_to_df()"
   ]
  },
  {
   "cell_type": "markdown",
   "metadata": {},
   "source": [
    "### Do your model training..."
   ]
  },
  {
   "cell_type": "markdown",
   "metadata": {},
   "source": [
    " "
   ]
  },
  {
   "cell_type": "markdown",
   "metadata": {},
   "source": [
    " "
   ]
  },
  {
   "cell_type": "markdown",
   "metadata": {},
   "source": [
    "### Ensure you have the list of entity keys for which you want to retrieve features"
   ]
  },
  {
   "cell_type": "code",
   "execution_count": null,
   "metadata": {
    "collapsed": true
   },
   "outputs": [],
   "source": [
    "keys = [12345, 67890]"
   ]
  },
  {
   "cell_type": "markdown",
   "metadata": {},
   "source": [
    "### Fetch serving data from Feast by reusing the same feature set\n",
    "* This is a pandas dataframe (with possibly some extra methods which we will add)"
   ]
  },
  {
   "cell_type": "code",
   "execution_count": null,
   "metadata": {
    "collapsed": true
   },
   "outputs": [],
   "source": [
    "feature_data = feature_set.get_serving_data(keys, type='last')"
   ]
  }
 ],
 "metadata": {
  "kernelspec": {
   "display_name": "Python 3",
   "language": "python",
   "name": "python3"
  },
  "language_info": {
   "codemirror_mode": {
    "name": "ipython",
    "version": 3
   },
   "file_extension": ".py",
   "mimetype": "text/x-python",
   "name": "python",
   "nbconvert_exporter": "python",
   "pygments_lexer": "ipython3",
   "version": "3.6.1"
  }
 },
 "nbformat": 4,
 "nbformat_minor": 2
}
