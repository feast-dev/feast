{
 "cells": [
  {
   "cell_type": "markdown",
   "id": "8aea7cf6-81de-48af-8470-f5b9bf229113",
   "metadata": {
    "tags": []
   },
   "source": [
    "## Installing Feast\n",
    "Feast is a python dependency so we have to install it using `pip`"
   ]
  },
  {
   "cell_type": "code",
   "execution_count": 1,
   "id": "ceb60bdb-0c90-4991-91df-dc7334ff3a93",
   "metadata": {},
   "outputs": [
    {
     "name": "stdout",
     "output_type": "stream",
     "text": [
      "Requirement already satisfied: feast==0.40.1 in /opt/app-root/lib/python3.9/site-packages (0.40.1)\n",
      "Requirement already satisfied: tqdm<5,>=4 in /opt/app-root/lib/python3.9/site-packages (from feast==0.40.1) (4.66.5)\n",
      "Requirement already satisfied: pyarrow>=4 in /opt/app-root/lib/python3.9/site-packages (from feast==0.40.1) (17.0.0)\n",
      "Requirement already satisfied: SQLAlchemy[mypy]>1 in /opt/app-root/lib/python3.9/site-packages (from feast==0.40.1) (2.0.35)\n",
      "Requirement already satisfied: click<9.0.0,>=7.0.0 in /opt/app-root/lib/python3.9/site-packages (from feast==0.40.1) (8.1.7)\n",
      "Requirement already satisfied: dill~=0.3.0 in /opt/app-root/lib/python3.9/site-packages (from feast==0.40.1) (0.3.8)\n",
      "Requirement already satisfied: mmh3 in /opt/app-root/lib/python3.9/site-packages (from feast==0.40.1) (5.0.1)\n",
      "Requirement already satisfied: typeguard>=4.0.0 in /opt/app-root/lib/python3.9/site-packages (from feast==0.40.1) (4.3.0)\n",
      "Requirement already satisfied: pandas<3,>=1.4.3 in /opt/app-root/lib/python3.9/site-packages (from feast==0.40.1) (2.2.2)\n",
      "Requirement already satisfied: fastapi>=0.68.0 in /opt/app-root/lib/python3.9/site-packages (from feast==0.40.1) (0.115.0)\n",
      "Requirement already satisfied: toml<1,>=0.10.0 in /opt/app-root/lib/python3.9/site-packages (from feast==0.40.1) (0.10.2)\n",
      "Requirement already satisfied: Jinja2<4,>=2 in /opt/app-root/lib/python3.9/site-packages (from feast==0.40.1) (3.1.4)\n",
      "Requirement already satisfied: pygments<3,>=2.12.0 in /opt/app-root/lib/python3.9/site-packages (from feast==0.40.1) (2.18.0)\n",
      "Requirement already satisfied: protobuf<5.0.0,>=4.24.0 in /opt/app-root/lib/python3.9/site-packages (from feast==0.40.1) (4.25.4)\n",
      "Requirement already satisfied: gunicorn in /opt/app-root/lib/python3.9/site-packages (from feast==0.40.1) (23.0.0)\n",
      "Requirement already satisfied: PyYAML<7,>=5.4.0 in /opt/app-root/lib/python3.9/site-packages (from feast==0.40.1) (6.0.2)\n",
      "Requirement already satisfied: uvicorn[standard]<1,>=0.14.0 in /opt/app-root/lib/python3.9/site-packages (from feast==0.40.1) (0.30.6)\n",
      "Requirement already satisfied: dask[dataframe]>=2024.2.1 in /opt/app-root/lib/python3.9/site-packages (from feast==0.40.1) (2024.8.0)\n",
      "Requirement already satisfied: colorama<1,>=0.3.9 in /opt/app-root/lib/python3.9/site-packages (from feast==0.40.1) (0.4.6)\n",
      "Requirement already satisfied: jsonschema in /opt/app-root/lib/python3.9/site-packages (from feast==0.40.1) (4.23.0)\n",
      "Requirement already satisfied: tabulate<1,>=0.8.0 in /opt/app-root/lib/python3.9/site-packages (from feast==0.40.1) (0.9.0)\n",
      "Requirement already satisfied: mypy-protobuf>=3.1 in /opt/app-root/lib/python3.9/site-packages (from feast==0.40.1) (3.6.0)\n",
      "Requirement already satisfied: tenacity<9,>=7 in /opt/app-root/lib/python3.9/site-packages (from feast==0.40.1) (8.5.0)\n",
      "Requirement already satisfied: requests in /opt/app-root/lib/python3.9/site-packages (from feast==0.40.1) (2.32.3)\n",
      "Requirement already satisfied: numpy<2,>=1.22 in /opt/app-root/lib/python3.9/site-packages (from feast==0.40.1) (1.26.4)\n",
      "Requirement already satisfied: pydantic>=2.0.0 in /opt/app-root/lib/python3.9/site-packages (from feast==0.40.1) (2.9.2)\n",
      "Requirement already satisfied: fsspec>=2021.09.0 in /opt/app-root/lib/python3.9/site-packages (from dask[dataframe]>=2024.2.1->feast==0.40.1) (2024.6.1)\n",
      "Requirement already satisfied: toolz>=0.10.0 in /opt/app-root/lib/python3.9/site-packages (from dask[dataframe]>=2024.2.1->feast==0.40.1) (0.12.1)\n",
      "Requirement already satisfied: cloudpickle>=1.5.0 in /opt/app-root/lib/python3.9/site-packages (from dask[dataframe]>=2024.2.1->feast==0.40.1) (3.0.0)\n",
      "Requirement already satisfied: packaging>=20.0 in /opt/app-root/lib/python3.9/site-packages (from dask[dataframe]>=2024.2.1->feast==0.40.1) (24.1)\n",
      "Requirement already satisfied: partd>=1.4.0 in /opt/app-root/lib/python3.9/site-packages (from dask[dataframe]>=2024.2.1->feast==0.40.1) (1.4.2)\n",
      "Requirement already satisfied: importlib-metadata>=4.13.0 in /opt/app-root/lib/python3.9/site-packages (from dask[dataframe]>=2024.2.1->feast==0.40.1) (8.4.0)\n",
      "Requirement already satisfied: dask-expr<1.2,>=1.1 in /opt/app-root/lib/python3.9/site-packages (from dask[dataframe]>=2024.2.1->feast==0.40.1) (1.1.10)\n",
      "Requirement already satisfied: starlette<0.39.0,>=0.37.2 in /opt/app-root/lib/python3.9/site-packages (from fastapi>=0.68.0->feast==0.40.1) (0.38.6)\n",
      "Requirement already satisfied: typing-extensions>=4.8.0 in /opt/app-root/lib/python3.9/site-packages (from fastapi>=0.68.0->feast==0.40.1) (4.12.2)\n",
      "Requirement already satisfied: MarkupSafe>=2.0 in /opt/app-root/lib/python3.9/site-packages (from Jinja2<4,>=2->feast==0.40.1) (2.1.5)\n",
      "Requirement already satisfied: types-protobuf>=4.24 in /opt/app-root/lib/python3.9/site-packages (from mypy-protobuf>=3.1->feast==0.40.1) (5.27.0.20240920)\n",
      "Requirement already satisfied: pytz>=2020.1 in /opt/app-root/lib/python3.9/site-packages (from pandas<3,>=1.4.3->feast==0.40.1) (2024.1)\n",
      "Requirement already satisfied: python-dateutil>=2.8.2 in /opt/app-root/lib/python3.9/site-packages (from pandas<3,>=1.4.3->feast==0.40.1) (2.9.0.post0)\n",
      "Requirement already satisfied: tzdata>=2022.7 in /opt/app-root/lib/python3.9/site-packages (from pandas<3,>=1.4.3->feast==0.40.1) (2024.1)\n",
      "Requirement already satisfied: pydantic-core==2.23.4 in /opt/app-root/lib/python3.9/site-packages (from pydantic>=2.0.0->feast==0.40.1) (2.23.4)\n",
      "Requirement already satisfied: annotated-types>=0.6.0 in /opt/app-root/lib/python3.9/site-packages (from pydantic>=2.0.0->feast==0.40.1) (0.7.0)\n",
      "Requirement already satisfied: greenlet!=0.4.17 in /opt/app-root/lib/python3.9/site-packages (from SQLAlchemy[mypy]>1->feast==0.40.1) (3.1.1)\n",
      "Requirement already satisfied: mypy>=0.910 in /opt/app-root/lib/python3.9/site-packages (from SQLAlchemy[mypy]>1->feast==0.40.1) (1.11.2)\n",
      "Requirement already satisfied: h11>=0.8 in /opt/app-root/lib/python3.9/site-packages (from uvicorn[standard]<1,>=0.14.0->feast==0.40.1) (0.14.0)\n",
      "Requirement already satisfied: watchfiles>=0.13 in /opt/app-root/lib/python3.9/site-packages (from uvicorn[standard]<1,>=0.14.0->feast==0.40.1) (0.24.0)\n",
      "Requirement already satisfied: python-dotenv>=0.13 in /opt/app-root/lib/python3.9/site-packages (from uvicorn[standard]<1,>=0.14.0->feast==0.40.1) (1.0.1)\n",
      "Requirement already satisfied: httptools>=0.5.0 in /opt/app-root/lib/python3.9/site-packages (from uvicorn[standard]<1,>=0.14.0->feast==0.40.1) (0.6.1)\n",
      "Requirement already satisfied: uvloop!=0.15.0,!=0.15.1,>=0.14.0 in /opt/app-root/lib/python3.9/site-packages (from uvicorn[standard]<1,>=0.14.0->feast==0.40.1) (0.20.0)\n",
      "Requirement already satisfied: websockets>=10.4 in /opt/app-root/lib/python3.9/site-packages (from uvicorn[standard]<1,>=0.14.0->feast==0.40.1) (13.1)\n",
      "Requirement already satisfied: attrs>=22.2.0 in /opt/app-root/lib/python3.9/site-packages (from jsonschema->feast==0.40.1) (24.2.0)\n",
      "Requirement already satisfied: referencing>=0.28.4 in /opt/app-root/lib/python3.9/site-packages (from jsonschema->feast==0.40.1) (0.35.1)\n",
      "Requirement already satisfied: rpds-py>=0.7.1 in /opt/app-root/lib/python3.9/site-packages (from jsonschema->feast==0.40.1) (0.20.0)\n",
      "Requirement already satisfied: jsonschema-specifications>=2023.03.6 in /opt/app-root/lib/python3.9/site-packages (from jsonschema->feast==0.40.1) (2023.12.1)\n",
      "Requirement already satisfied: certifi>=2017.4.17 in /opt/app-root/lib/python3.9/site-packages (from requests->feast==0.40.1) (2024.7.4)\n",
      "Requirement already satisfied: idna<4,>=2.5 in /opt/app-root/lib/python3.9/site-packages (from requests->feast==0.40.1) (3.8)\n",
      "Requirement already satisfied: urllib3<3,>=1.21.1 in /opt/app-root/lib/python3.9/site-packages (from requests->feast==0.40.1) (1.26.19)\n",
      "Requirement already satisfied: charset-normalizer<4,>=2 in /opt/app-root/lib/python3.9/site-packages (from requests->feast==0.40.1) (3.3.2)\n",
      "Requirement already satisfied: zipp>=0.5 in /opt/app-root/lib/python3.9/site-packages (from importlib-metadata>=4.13.0->dask[dataframe]>=2024.2.1->feast==0.40.1) (3.20.1)\n",
      "Requirement already satisfied: mypy-extensions>=1.0.0 in /opt/app-root/lib/python3.9/site-packages (from mypy>=0.910->SQLAlchemy[mypy]>1->feast==0.40.1) (1.0.0)\n",
      "Requirement already satisfied: tomli>=1.1.0 in /opt/app-root/lib/python3.9/site-packages (from mypy>=0.910->SQLAlchemy[mypy]>1->feast==0.40.1) (2.0.1)\n",
      "Requirement already satisfied: locket in /opt/app-root/lib/python3.9/site-packages (from partd>=1.4.0->dask[dataframe]>=2024.2.1->feast==0.40.1) (1.0.0)\n",
      "Requirement already satisfied: six>=1.5 in /opt/app-root/lib/python3.9/site-packages (from python-dateutil>=2.8.2->pandas<3,>=1.4.3->feast==0.40.1) (1.16.0)\n",
      "Requirement already satisfied: anyio<5,>=3.4.0 in /opt/app-root/lib/python3.9/site-packages (from starlette<0.39.0,>=0.37.2->fastapi>=0.68.0->feast==0.40.1) (4.4.0)\n",
      "Requirement already satisfied: exceptiongroup>=1.0.2 in /opt/app-root/lib/python3.9/site-packages (from anyio<5,>=3.4.0->starlette<0.39.0,>=0.37.2->fastapi>=0.68.0->feast==0.40.1) (1.2.2)\n",
      "Requirement already satisfied: sniffio>=1.1 in /opt/app-root/lib/python3.9/site-packages (from anyio<5,>=3.4.0->starlette<0.39.0,>=0.37.2->fastapi>=0.68.0->feast==0.40.1) (1.3.1)\n",
      "\n",
      "\u001B[1m[\u001B[0m\u001B[34;49mnotice\u001B[0m\u001B[1;39;49m]\u001B[0m\u001B[39;49m A new release of pip available: \u001B[0m\u001B[31;49m22.2.2\u001B[0m\u001B[39;49m -> \u001B[0m\u001B[32;49m24.2\u001B[0m\n",
      "\u001B[1m[\u001B[0m\u001B[34;49mnotice\u001B[0m\u001B[1;39;49m]\u001B[0m\u001B[39;49m To update, run: \u001B[0m\u001B[32;49mpip install --upgrade pip\u001B[0m\n",
      "Note: you may need to restart the kernel to use updated packages.\n"
     ]
    }
   ],
   "source": [
    "# WE MUST ENSURE PYTHON CONSISTENCY BETWEEN NOTEBOOK AND FEAST SERVERS\n",
    "# LAUNCH THIS NOTEBOOK FROM A CLEAN PYTHON ENVIRONMENT >3.9\n",
    "%pip install feast==0.40.1"
   ]
  },
  {
   "cell_type": "code",
   "execution_count": 2,
   "id": "0fcecd34-ff0b-4528-88a5-3125187241f6",
   "metadata": {
    "tags": []
   },
   "outputs": [
    {
     "data": {
      "text/plain": [
       "'/opt/app-root/src/feast/examples/rhoai-quickstart'"
      ]
     },
     "execution_count": 2,
     "metadata": {},
     "output_type": "execute_result"
    }
   ],
   "source": [
    "# Displaying the current directory. We will know where the feast files will be created so that we can review them using jupyter console or explorer \n",
    "%pwd"
   ]
  },
  {
   "cell_type": "code",
   "execution_count": 3,
   "id": "1ad595e5-d98a-4f9c-bead-f2d0ad274855",
   "metadata": {
    "tags": []
   },
   "outputs": [
    {
     "name": "stdout",
     "output_type": "stream",
     "text": [
      "\n",
      "Creating a new Feast repository in \u001B[1m\u001B[32m/opt/app-root/src/feast/examples/rhoai-quickstart/my_feast_project\u001B[0m.\n",
      "\n"
     ]
    }
   ],
   "source": [
    "# Creating the feast repository. If there is already existing repository then removing it first.\n",
    "!rm -rf my_feast_project\n",
    "!feast init my_feast_project"
   ]
  },
  {
   "cell_type": "markdown",
   "id": "3beb2f85-3e28-4afa-8227-30271dd00c7f",
   "metadata": {},
   "source": [
    "Above output displays where the feast repo has been created. It may differ based on the environment configuration. On the example currently it is placing at `/opt/app-root/src/feast/examples/rhoai-quickstart/my_feast_project`"
   ]
  },
  {
   "cell_type": "code",
   "execution_count": 4,
   "id": "308610d4-9174-4972-a785-237c0b0477d8",
   "metadata": {
    "tags": []
   },
   "outputs": [
    {
     "name": "stdout",
     "output_type": "stream",
     "text": [
      "/opt/app-root/src/feast/examples/rhoai-quickstart/my_feast_project/feature_repo\n"
     ]
    },
    {
     "name": "stderr",
     "output_type": "stream",
     "text": [
      "/opt/app-root/lib64/python3.9/site-packages/IPython/core/magics/osm.py:417: UserWarning: using dhist requires you to install the `pickleshare` library.\n",
      "  self.shell.db['dhist'] = compress_dhist(dhist)[-100:]\n"
     ]
    }
   ],
   "source": [
    "# Going to change the current directory to feature_repo so that we can execute feast CLI commands.\n",
    "%cd my_feast_project/feature_repo"
   ]
  },
  {
   "cell_type": "code",
   "execution_count": 5,
   "id": "7f5212d8-cd46-4017-a762-91a4fb56e0d5",
   "metadata": {
    "tags": []
   },
   "outputs": [
    {
     "name": "stdout",
     "output_type": "stream",
     "text": [
      "total 36K\n",
      "drwxr-xr-x. 4 1001130000 1001130000 4.0K Sep 24 03:07 .\n",
      "drwxr-xr-x. 3 1001130000 1001130000 4.0K Sep 24 03:07 ..\n",
      "drwxr-xr-x. 2 1001130000 root       4.0K Sep 24 03:07 data\n",
      "-rw-r--r--. 1 1001130000 1001130000 5.2K Sep 24 03:07 example_repo.py\n",
      "-rw-r--r--. 1 1001130000 1001130000  372 Sep 24 03:07 feature_store.yaml\n",
      "-rw-r--r--. 1 1001130000 1001130000    0 Sep 23 16:09 __init__.py\n",
      "drwxr-xr-x. 2 1001130000 1001130000 4.0K Sep 23 16:09 __pycache__\n",
      "-rw-r--r--. 1 1001130000 1001130000 4.3K Sep 23 16:09 test_workflow.py\n"
     ]
    }
   ],
   "source": [
    "# Inspect the feast repo path files. Going to describe each file/folder purpose.\n",
    "!ls -lah"
   ]
  },
  {
   "cell_type": "markdown",
   "id": "2fa8d4c3-8f7d-4758-8048-945ebd0af53f",
   "metadata": {
    "tags": []
   },
   "source": [
    "Now the feast repo has been created for you. Inspect the below files.\n",
    "\n",
    "`data` contains the parquet file data used to demonstrate this example.\n",
    "\n",
    "`example_repo.py` file will have the code to create feast objects such as FeatureView, FeatureServices and OnDemandFeatureViews required to demonstrate this example.\n",
    "[my_feast_project/feature_repo/example_repo.py](./my_feast_project/feature_repo/example_repo.py)\n",
    "\n",
    "`feature_store.yaml` file will have all the configurations related to feast.\n",
    "[my_feast_project/feature_repo/feature_store.yaml](./my_feast_project/feature_repo/feature_store.yaml)\n",
    "\n",
    "`test_workflow.py` contains the python code to demonstrate run all key Feast commands, including defining, retrieving, and pushing features.\n",
    "[my_feast_project/feature_repo/test_workflow.py](./my_feast_project/feature_repo/test_workflow.py)"
   ]
  },
  {
   "cell_type": "code",
   "execution_count": 6,
   "id": "f0a63ea0-93fa-4d4e-b12d-6caef86478f9",
   "metadata": {
    "tags": []
   },
   "outputs": [
    {
     "data": {
      "text/plain": [
       "project: my_feast_project\n",
       "# By default, the registry is a file (but can be turned into a more scalable SQL-backed registry)\n",
       "registry: data/registry.db\n",
       "# The provider primarily specifies default offline / online stores & storing the registry in a given cloud\n",
       "provider: local\n",
       "online_store:\n",
       "    type: sqlite\n",
       "    path: data/online_store.db\n",
       "entity_key_serialization_version: 2\n"
      ]
     },
     "metadata": {},
     "output_type": "display_data"
    }
   ],
   "source": [
    "more feature_store.yaml"
   ]
  },
  {
   "cell_type": "markdown",
   "id": "81c5bc3c-8e50-410a-8a16-f92b1f4f4d08",
   "metadata": {},
   "source": [
    "The default feature store configuration uses the sqllite as registry and online store."
   ]
  },
  {
   "cell_type": "code",
   "execution_count": 7,
   "id": "6dc4f196-d9ec-421f-9cce-16678b783ea7",
   "metadata": {
    "tags": []
   },
   "outputs": [
    {
     "data": {
      "text/html": [
       "<div>\n",
       "<style scoped>\n",
       "    .dataframe tbody tr th:only-of-type {\n",
       "        vertical-align: middle;\n",
       "    }\n",
       "\n",
       "    .dataframe tbody tr th {\n",
       "        vertical-align: top;\n",
       "    }\n",
       "\n",
       "    .dataframe thead th {\n",
       "        text-align: right;\n",
       "    }\n",
       "</style>\n",
       "<table border=\"1\" class=\"dataframe\">\n",
       "  <thead>\n",
       "    <tr style=\"text-align: right;\">\n",
       "      <th></th>\n",
       "      <th>event_timestamp</th>\n",
       "      <th>driver_id</th>\n",
       "      <th>conv_rate</th>\n",
       "      <th>acc_rate</th>\n",
       "      <th>avg_daily_trips</th>\n",
       "      <th>created</th>\n",
       "    </tr>\n",
       "  </thead>\n",
       "  <tbody>\n",
       "    <tr>\n",
       "      <th>0</th>\n",
       "      <td>2024-09-09 03:00:00+00:00</td>\n",
       "      <td>1005</td>\n",
       "      <td>0.136662</td>\n",
       "      <td>0.043697</td>\n",
       "      <td>22</td>\n",
       "      <td>2024-09-24 03:07:44.487</td>\n",
       "    </tr>\n",
       "    <tr>\n",
       "      <th>1</th>\n",
       "      <td>2024-09-09 04:00:00+00:00</td>\n",
       "      <td>1005</td>\n",
       "      <td>0.027620</td>\n",
       "      <td>0.808205</td>\n",
       "      <td>953</td>\n",
       "      <td>2024-09-24 03:07:44.487</td>\n",
       "    </tr>\n",
       "    <tr>\n",
       "      <th>2</th>\n",
       "      <td>2024-09-09 05:00:00+00:00</td>\n",
       "      <td>1005</td>\n",
       "      <td>0.523759</td>\n",
       "      <td>0.807032</td>\n",
       "      <td>739</td>\n",
       "      <td>2024-09-24 03:07:44.487</td>\n",
       "    </tr>\n",
       "    <tr>\n",
       "      <th>3</th>\n",
       "      <td>2024-09-09 06:00:00+00:00</td>\n",
       "      <td>1005</td>\n",
       "      <td>0.795781</td>\n",
       "      <td>0.674151</td>\n",
       "      <td>743</td>\n",
       "      <td>2024-09-24 03:07:44.487</td>\n",
       "    </tr>\n",
       "    <tr>\n",
       "      <th>4</th>\n",
       "      <td>2024-09-09 07:00:00+00:00</td>\n",
       "      <td>1005</td>\n",
       "      <td>0.075056</td>\n",
       "      <td>0.902140</td>\n",
       "      <td>724</td>\n",
       "      <td>2024-09-24 03:07:44.487</td>\n",
       "    </tr>\n",
       "    <tr>\n",
       "      <th>...</th>\n",
       "      <td>...</td>\n",
       "      <td>...</td>\n",
       "      <td>...</td>\n",
       "      <td>...</td>\n",
       "      <td>...</td>\n",
       "      <td>...</td>\n",
       "    </tr>\n",
       "    <tr>\n",
       "      <th>1802</th>\n",
       "      <td>2024-09-24 01:00:00+00:00</td>\n",
       "      <td>1001</td>\n",
       "      <td>0.163166</td>\n",
       "      <td>0.803832</td>\n",
       "      <td>648</td>\n",
       "      <td>2024-09-24 03:07:44.487</td>\n",
       "    </tr>\n",
       "    <tr>\n",
       "      <th>1803</th>\n",
       "      <td>2024-09-24 02:00:00+00:00</td>\n",
       "      <td>1001</td>\n",
       "      <td>0.102868</td>\n",
       "      <td>0.695487</td>\n",
       "      <td>361</td>\n",
       "      <td>2024-09-24 03:07:44.487</td>\n",
       "    </tr>\n",
       "    <tr>\n",
       "      <th>1804</th>\n",
       "      <td>2021-04-12 07:00:00+00:00</td>\n",
       "      <td>1001</td>\n",
       "      <td>0.039615</td>\n",
       "      <td>0.870356</td>\n",
       "      <td>271</td>\n",
       "      <td>2024-09-24 03:07:44.487</td>\n",
       "    </tr>\n",
       "    <tr>\n",
       "      <th>1805</th>\n",
       "      <td>2024-09-16 15:00:00+00:00</td>\n",
       "      <td>1003</td>\n",
       "      <td>0.506131</td>\n",
       "      <td>0.342303</td>\n",
       "      <td>799</td>\n",
       "      <td>2024-09-24 03:07:44.487</td>\n",
       "    </tr>\n",
       "    <tr>\n",
       "      <th>1806</th>\n",
       "      <td>2024-09-16 15:00:00+00:00</td>\n",
       "      <td>1003</td>\n",
       "      <td>0.506131</td>\n",
       "      <td>0.342303</td>\n",
       "      <td>799</td>\n",
       "      <td>2024-09-24 03:07:44.487</td>\n",
       "    </tr>\n",
       "  </tbody>\n",
       "</table>\n",
       "<p>1807 rows × 6 columns</p>\n",
       "</div>"
      ],
      "text/plain": [
       "               event_timestamp  driver_id  conv_rate  acc_rate  \\\n",
       "0    2024-09-09 03:00:00+00:00       1005   0.136662  0.043697   \n",
       "1    2024-09-09 04:00:00+00:00       1005   0.027620  0.808205   \n",
       "2    2024-09-09 05:00:00+00:00       1005   0.523759  0.807032   \n",
       "3    2024-09-09 06:00:00+00:00       1005   0.795781  0.674151   \n",
       "4    2024-09-09 07:00:00+00:00       1005   0.075056  0.902140   \n",
       "...                        ...        ...        ...       ...   \n",
       "1802 2024-09-24 01:00:00+00:00       1001   0.163166  0.803832   \n",
       "1803 2024-09-24 02:00:00+00:00       1001   0.102868  0.695487   \n",
       "1804 2021-04-12 07:00:00+00:00       1001   0.039615  0.870356   \n",
       "1805 2024-09-16 15:00:00+00:00       1003   0.506131  0.342303   \n",
       "1806 2024-09-16 15:00:00+00:00       1003   0.506131  0.342303   \n",
       "\n",
       "      avg_daily_trips                 created  \n",
       "0                  22 2024-09-24 03:07:44.487  \n",
       "1                 953 2024-09-24 03:07:44.487  \n",
       "2                 739 2024-09-24 03:07:44.487  \n",
       "3                 743 2024-09-24 03:07:44.487  \n",
       "4                 724 2024-09-24 03:07:44.487  \n",
       "...               ...                     ...  \n",
       "1802              648 2024-09-24 03:07:44.487  \n",
       "1803              361 2024-09-24 03:07:44.487  \n",
       "1804              271 2024-09-24 03:07:44.487  \n",
       "1805              799 2024-09-24 03:07:44.487  \n",
       "1806              799 2024-09-24 03:07:44.487  \n",
       "\n",
       "[1807 rows x 6 columns]"
      ]
     },
     "execution_count": 7,
     "metadata": {},
     "output_type": "execute_result"
    }
   ],
   "source": [
    "import pandas as pd\n",
    "pd.read_parquet(\"data/driver_stats.parquet\")"
   ]
  },
  {
   "cell_type": "markdown",
   "id": "92557e68-f044-444e-a68a-31385b95092e",
   "metadata": {},
   "source": [
    "You have not created any feast objects to do that you have to execute command `feast apply` on the directory where `feature_store.yaml` exists. Lets go and do that now."
   ]
  },
  {
   "cell_type": "code",
   "execution_count": 8,
   "id": "8e0a05ec-f449-4371-9d55-f30176b51b38",
   "metadata": {
    "tags": []
   },
   "outputs": [],
   "source": [
    "# Below folder is creating interference with the feast apply command so deleting it in case if it exists.\n",
    "!rm -rf .ipynb_checkpoints/"
   ]
  },
  {
   "cell_type": "code",
   "execution_count": 9,
   "id": "5c6baa83-9834-46ac-82a4-cc0a9ae33080",
   "metadata": {
    "tags": []
   },
   "outputs": [
    {
     "name": "stdout",
     "output_type": "stream",
     "text": [
      "/opt/app-root/lib64/python3.9/site-packages/feast/feature_store.py:590: RuntimeWarning: On demand feature view is an experimental feature. This API is stable, but the functionality does not scale well for offline retrieval\n",
      "  warnings.warn(\n",
      "09/24/2024 03:08:32 AM root WARNING: Cannot use sqlite_vec for vector search\n",
      "09/24/2024 03:08:32 AM root WARNING: Cannot use sqlite_vec for vector search\n",
      "09/24/2024 03:08:32 AM root WARNING: Cannot use sqlite_vec for vector search\n",
      "09/24/2024 03:08:32 AM root WARNING: Cannot use sqlite_vec for vector search\n",
      "Created entity \u001B[1m\u001B[32mdriver\u001B[0m\n",
      "Created feature view \u001B[1m\u001B[32mdriver_hourly_stats\u001B[0m\n",
      "Created feature view \u001B[1m\u001B[32mdriver_hourly_stats_fresh\u001B[0m\n",
      "Created on demand feature view \u001B[1m\u001B[32mtransformed_conv_rate\u001B[0m\n",
      "Created on demand feature view \u001B[1m\u001B[32mtransformed_conv_rate_fresh\u001B[0m\n",
      "Created feature service \u001B[1m\u001B[32mdriver_activity_v2\u001B[0m\n",
      "Created feature service \u001B[1m\u001B[32mdriver_activity_v1\u001B[0m\n",
      "Created feature service \u001B[1m\u001B[32mdriver_activity_v3\u001B[0m\n",
      "\n",
      "09/24/2024 03:08:32 AM root WARNING: Cannot use sqlite_vec for vector search\n",
      "09/24/2024 03:08:32 AM root WARNING: Cannot use sqlite_vec for vector search\n",
      "Created sqlite table \u001B[1m\u001B[32mmy_feast_project_driver_hourly_stats_fresh\u001B[0m\n",
      "Created sqlite table \u001B[1m\u001B[32mmy_feast_project_driver_hourly_stats\u001B[0m\n",
      "\n"
     ]
    }
   ],
   "source": [
    "# this command will actual creates the feast objects mentioned in `example_repo.py`\n",
    "!feast apply"
   ]
  },
  {
   "cell_type": "markdown",
   "id": "8ab04029-b33c-49d4-b107-59ed4c662fa5",
   "metadata": {},
   "source": [
    "## Generating the training Data\n",
    "\n",
    "To train a model, we need features and labels. Often, this label data is stored separately (e.g. you have one table storing user survey results and another set of tables with feature values). Feast can help generate the features that map to these labels."
   ]
  },
  {
   "cell_type": "code",
   "execution_count": 10,
   "id": "7dd75fe4-4eed-4a2a-8714-e8079c4d5772",
   "metadata": {
    "tags": []
   },
   "outputs": [
    {
     "name": "stderr",
     "output_type": "stream",
     "text": [
      "WARNING:root:_list_feature_views will make breaking changes. Please use _list_batch_feature_views instead. _list_feature_views will behave like _list_all_feature_views in the future.\n"
     ]
    },
    {
     "name": "stdout",
     "output_type": "stream",
     "text": [
      "----- Feature schema -----\n",
      "\n",
      "<class 'pandas.core.frame.DataFrame'>\n",
      "RangeIndex: 3 entries, 0 to 2\n",
      "Data columns (total 10 columns):\n",
      " #   Column                              Non-Null Count  Dtype              \n",
      "---  ------                              --------------  -----              \n",
      " 0   driver_id                           3 non-null      int64              \n",
      " 1   event_timestamp                     3 non-null      datetime64[ns, UTC]\n",
      " 2   label_driver_reported_satisfaction  3 non-null      int64              \n",
      " 3   val_to_add                          3 non-null      int64              \n",
      " 4   val_to_add_2                        3 non-null      int64              \n",
      " 5   conv_rate                           3 non-null      float32            \n",
      " 6   acc_rate                            3 non-null      float32            \n",
      " 7   avg_daily_trips                     3 non-null      int32              \n",
      " 8   conv_rate_plus_val1                 3 non-null      float64            \n",
      " 9   conv_rate_plus_val2                 3 non-null      float64            \n",
      "dtypes: datetime64[ns, UTC](1), float32(2), float64(2), int32(1), int64(4)\n",
      "memory usage: 332.0 bytes\n",
      "None\n",
      "\n",
      "----- Example features -----\n",
      "\n",
      "   driver_id           event_timestamp  label_driver_reported_satisfaction  \\\n",
      "0       1001 2021-04-12 10:59:42+00:00                                   1   \n",
      "1       1002 2021-04-12 08:12:10+00:00                                   5   \n",
      "2       1003 2021-04-12 16:40:26+00:00                                   3   \n",
      "\n",
      "   val_to_add  val_to_add_2  conv_rate  acc_rate  avg_daily_trips  \\\n",
      "0           1            10   0.039615  0.870356              271   \n",
      "1           2            20   0.809592  0.723757              472   \n",
      "2           3            30   0.710984  0.014126              414   \n",
      "\n",
      "   conv_rate_plus_val1  conv_rate_plus_val2  \n",
      "0             1.039615            10.039615  \n",
      "1             2.809592            20.809592  \n",
      "2             3.710984            30.710984  \n"
     ]
    }
   ],
   "source": [
    "from datetime import datetime\n",
    "import pandas as pd\n",
    "\n",
    "from feast import FeatureStore\n",
    "\n",
    "# Note: see https://docs.feast.dev/getting-started/concepts/feature-retrieval for \n",
    "# more details on how to retrieve for all entities in the offline store instead\n",
    "entity_df = pd.DataFrame.from_dict(\n",
    "    {\n",
    "        # entity's join key -> entity values\n",
    "        \"driver_id\": [1001, 1002, 1003],\n",
    "        # \"event_timestamp\" (reserved key) -> timestamps\n",
    "        \"event_timestamp\": [\n",
    "            datetime(2021, 4, 12, 10, 59, 42),\n",
    "            datetime(2021, 4, 12, 8, 12, 10),\n",
    "            datetime(2021, 4, 12, 16, 40, 26),\n",
    "        ],\n",
    "        # (optional) label name -> label values. Feast does not process these\n",
    "        \"label_driver_reported_satisfaction\": [1, 5, 3],\n",
    "        # values we're using for an on-demand transformation\n",
    "        \"val_to_add\": [1, 2, 3],\n",
    "        \"val_to_add_2\": [10, 20, 30],\n",
    "    }\n",
    ")\n",
    "\n",
    "store = FeatureStore(repo_path=\".\")\n",
    "\n",
    "training_df = store.get_historical_features(\n",
    "    entity_df=entity_df,\n",
    "    features=[\n",
    "        \"driver_hourly_stats:conv_rate\",\n",
    "        \"driver_hourly_stats:acc_rate\",\n",
    "        \"driver_hourly_stats:avg_daily_trips\",\n",
    "        \"transformed_conv_rate:conv_rate_plus_val1\",\n",
    "        \"transformed_conv_rate:conv_rate_plus_val2\",\n",
    "    ],\n",
    ").to_df()\n",
    "\n",
    "print(\"----- Feature schema -----\\n\")\n",
    "print(training_df.info())\n",
    "\n",
    "print()\n",
    "print(\"----- Example features -----\\n\")\n",
    "print(training_df.head())"
   ]
  },
  {
   "cell_type": "markdown",
   "id": "70322893-947f-46cf-a4a8-6a49d8c799b5",
   "metadata": {
    "tags": []
   },
   "source": [
    "## Run offline inference (batch scoring)\n",
    "To power a batch model, we primarily need to generate features with the get_historical_features call, but using the current timestamp"
   ]
  },
  {
   "cell_type": "code",
   "execution_count": 11,
   "id": "c1fccc14-9d94-4d1a-a91a-d8b82f8d8044",
   "metadata": {
    "tags": []
   },
   "outputs": [
    {
     "name": "stderr",
     "output_type": "stream",
     "text": [
      "WARNING:root:_list_feature_views will make breaking changes. Please use _list_batch_feature_views instead. _list_feature_views will behave like _list_all_feature_views in the future.\n"
     ]
    },
    {
     "name": "stdout",
     "output_type": "stream",
     "text": [
      "\n",
      "----- Example features -----\n",
      "\n",
      "   driver_id                  event_timestamp  \\\n",
      "0       1001 2024-09-24 03:08:48.536177+00:00   \n",
      "1       1002 2024-09-24 03:08:48.536177+00:00   \n",
      "2       1003 2024-09-24 03:08:48.536177+00:00   \n",
      "\n",
      "   label_driver_reported_satisfaction  val_to_add  val_to_add_2  conv_rate  \\\n",
      "0                                   1           1            10   0.102868   \n",
      "1                                   5           2            20   0.691400   \n",
      "2                                   3           3            30   0.914943   \n",
      "\n",
      "   acc_rate  avg_daily_trips  conv_rate_plus_val1  conv_rate_plus_val2  \n",
      "0  0.695487              361             1.102868            10.102868  \n",
      "1  0.798216               18             2.691400            20.691400  \n",
      "2  0.274195              368             3.914943            30.914943  \n"
     ]
    }
   ],
   "source": [
    "entity_df[\"event_timestamp\"] = pd.to_datetime(\"now\", utc=True)\n",
    "training_df = store.get_historical_features(\n",
    "    entity_df=entity_df,\n",
    "    features=[\n",
    "        \"driver_hourly_stats:conv_rate\",\n",
    "        \"driver_hourly_stats:acc_rate\",\n",
    "        \"driver_hourly_stats:avg_daily_trips\",\n",
    "        \"transformed_conv_rate:conv_rate_plus_val1\",\n",
    "        \"transformed_conv_rate:conv_rate_plus_val2\",\n",
    "    ],\n",
    ").to_df()\n",
    "\n",
    "print(\"\\n----- Example features -----\\n\")\n",
    "print(training_df.head())"
   ]
  },
  {
   "cell_type": "markdown",
   "id": "56bd764f-4455-4ade-b630-81fdbb2eb444",
   "metadata": {},
   "source": [
    "## Ingest batch features into your online store"
   ]
  },
  {
   "cell_type": "code",
   "execution_count": 12,
   "id": "b95b0b1b-d608-429d-91ac-ef96c698d9ca",
   "metadata": {
    "tags": []
   },
   "outputs": [
    {
     "name": "stdout",
     "output_type": "stream",
     "text": [
      "09/24/2024 03:09:06 AM root WARNING: _list_feature_views will make breaking changes. Please use _list_batch_feature_views instead. _list_feature_views will behave like _list_all_feature_views in the future.\n",
      "Materializing \u001B[1m\u001B[32m2\u001B[0m feature views to \u001B[1m\u001B[32m2024-09-24 03:09:03+00:00\u001B[0m into the \u001B[1m\u001B[32msqlite\u001B[0m online store.\n",
      "\n",
      "\u001B[1m\u001B[32mdriver_hourly_stats\u001B[0m from \u001B[1m\u001B[32m2024-09-23 03:09:06+00:00\u001B[0m to \u001B[1m\u001B[32m2024-09-24 03:09:03+00:00\u001B[0m:\n",
      "  0%|                                                                         | 0/5 [00:00<?, ?it/s]09/24/2024 03:09:06 AM root WARNING: Cannot use sqlite_vec for vector search\n",
      "100%|████████████████████████████████████████████████████████████████| 5/5 [00:00<00:00, 677.51it/s]\n",
      "\u001B[1m\u001B[32mdriver_hourly_stats_fresh\u001B[0m from \u001B[1m\u001B[32m2024-09-23 03:09:06+00:00\u001B[0m to \u001B[1m\u001B[32m2024-09-24 03:09:03+00:00\u001B[0m:\n",
      "100%|████████████████████████████████████████████████████████████████| 5/5 [00:00<00:00, 885.40it/s]\n"
     ]
    }
   ],
   "source": [
    "!feast materialize-incremental $(date -u +\"%Y-%m-%dT%H:%M:%S\")"
   ]
  },
  {
   "cell_type": "markdown",
   "id": "59890c1d-fb96-4a56-a11a-ffb0883c3b04",
   "metadata": {},
   "source": [
    "## Fetching feature vectors for inference\n",
    "At inference time, we need to quickly read the latest feature values for different drivers (which otherwise might have existed only in batch sources) from the online feature store using `get_online_features()`. These feature vectors can then be fed to the model."
   ]
  },
  {
   "cell_type": "code",
   "execution_count": 13,
   "id": "18a57a9c-4637-4fe3-a37d-e2f51c8e8dd6",
   "metadata": {
    "tags": []
   },
   "outputs": [
    {
     "name": "stderr",
     "output_type": "stream",
     "text": [
      "WARNING:root:_list_feature_views will make breaking changes. Please use _list_batch_feature_views instead. _list_feature_views will behave like _list_all_feature_views in the future.\n",
      "WARNING:root:Cannot use sqlite_vec for vector search\n"
     ]
    },
    {
     "name": "stdout",
     "output_type": "stream",
     "text": [
      "{'acc_rate': [0.6362705826759338, 0.9071609377861023],\n",
      " 'avg_daily_trips': [846, 810],\n",
      " 'conv_rate': [0.35948044061660767, 0.6279279589653015],\n",
      " 'driver_id': [1004, 1005]}\n"
     ]
    }
   ],
   "source": [
    "from pprint import pprint\n",
    "from feast import FeatureStore\n",
    "\n",
    "store = FeatureStore(repo_path=\".\")\n",
    "\n",
    "feature_vector = store.get_online_features(\n",
    "    features=[\n",
    "        \"driver_hourly_stats:conv_rate\",\n",
    "        \"driver_hourly_stats:acc_rate\",\n",
    "        \"driver_hourly_stats:avg_daily_trips\",\n",
    "    ],\n",
    "    entity_rows=[\n",
    "        # {join_key: entity_value}\n",
    "        {\"driver_id\": 1004},\n",
    "        {\"driver_id\": 1005},\n",
    "    ],\n",
    ").to_dict()\n",
    "\n",
    "pprint(feature_vector)"
   ]
  },
  {
   "cell_type": "markdown",
   "id": "239ed52a-1460-4233-880e-620135b540b2",
   "metadata": {},
   "source": [
    "## Using a feature service to fetch online features instead.\n",
    "You can also use feature services to manage multiple features, and decouple feature view definitions and the features needed by end applications. The feature store can also be used to fetch either online or historical features using the same API below. \n",
    "\n",
    "The `driver_activity_v4` feature service pulls all features from the `driver_hourly_stats` feature view:"
   ]
  },
  {
   "cell_type": "code",
   "execution_count": 14,
   "id": "3878578f-bba6-4f48-a458-a2b69fc90f0a",
   "metadata": {
    "tags": []
   },
   "outputs": [
    {
     "name": "stderr",
     "output_type": "stream",
     "text": [
      "WARNING:root:Cannot use sqlite_vec for vector search\n"
     ]
    },
    {
     "name": "stdout",
     "output_type": "stream",
     "text": [
      "FeatureService driver_activity_v4 created.\n"
     ]
    }
   ],
   "source": [
    "import example_repo\n",
    "from feast import FeatureStore\n",
    "\n",
    "\n",
    "from feast import FeatureService\n",
    "driver_activity_v4 = FeatureService(\n",
    "    name=\"driver_activity_v4\",\n",
    "    features=[example_repo.driver_stats_fresh_fv],\n",
    ")\n",
    "\n",
    "feature_store = FeatureStore('.')  # Initialize the feature store\n",
    "\n",
    "feature_store.apply([driver_activity_v4])\n",
    "\n",
    "print(\"FeatureService driver_activity_v4 created.\")"
   ]
  },
  {
   "cell_type": "code",
   "execution_count": 15,
   "id": "974a3d09-2237-460a-a310-bdb1a13c6b85",
   "metadata": {
    "tags": []
   },
   "outputs": [
    {
     "name": "stderr",
     "output_type": "stream",
     "text": [
      "WARNING:root:_list_feature_views will make breaking changes. Please use _list_batch_feature_views instead. _list_feature_views will behave like _list_all_feature_views in the future.\n"
     ]
    },
    {
     "name": "stdout",
     "output_type": "stream",
     "text": [
      "{'acc_rate': [0.6362705826759338, 0.9071609377861023],\n",
      " 'avg_daily_trips': [846, 810],\n",
      " 'conv_rate': [0.35948044061660767, 0.6279279589653015],\n",
      " 'driver_id': [1004, 1005]}\n"
     ]
    }
   ],
   "source": [
    "import example_repo\n",
    "from pprint import pprint\n",
    "\n",
    "\n",
    "#feature_service = feature_store.get_feature_service(\"driver_activity_v4\")\n",
    "feature_vector = feature_store.get_online_features(\n",
    "    features=driver_activity_v4,\n",
    "    entity_rows=[\n",
    "        # {join_key: entity_value}\n",
    "        {\"driver_id\": 1004},\n",
    "        {\"driver_id\": 1005},\n",
    "    ],\n",
    ").to_dict()\n",
    "pprint(feature_vector)"
   ]
  },
  {
   "cell_type": "markdown",
   "id": "bf289369-bb77-4dfa-9ae1-994ddc9fa79a",
   "metadata": {
    "tags": []
   },
   "source": [
    "## Accessing Features using remote online store\n",
    "\n",
    "In this section we will start the feast in server and client mode. We will start the feast online server and retrieve online features using `remote` online store.\n",
    "\n",
    "By default online server starts on the port: `6566`. We are going to still refer the same registry as `my_feast_project` to keep this example simple to understand instead of starting registry and online server at the same time. You can review the client feature store configuration [here](./remote-online/feature_store.yaml). \n",
    "\n",
    "\n",
    "In the actual production environment you can run registry, online and offline servers and access them remotely using feature store clients. "
   ]
  },
  {
   "cell_type": "markdown",
   "id": "2f6dd4fd-b018-43c2-8467-b2f4d3a0994d",
   "metadata": {
    "jp-MarkdownHeadingCollapsed": true,
    "tags": []
   },
   "source": [
    "### Starting feast online sever"
   ]
  },
  {
   "cell_type": "code",
   "execution_count": 16,
   "id": "a3243672-4877-4588-b628-4d344bb55c7c",
   "metadata": {
    "tags": []
   },
   "outputs": [
    {
     "name": "stderr",
     "output_type": "stream",
     "text": [
      "/opt/app-root/lib64/python3.9/site-packages/uvicorn/workers.py:16: DeprecationWarning: The `uvicorn.workers` module is deprecated. Please use `uvicorn-worker` package instead.\n",
      "For more details, see https://github.com/Kludex/uvicorn-worker.\n",
      "  warnings.warn(\n",
      "[2024-09-24 03:09:58 +0000] [11973] [INFO] Starting gunicorn 23.0.0\n",
      "[2024-09-24 03:09:58 +0000] [11973] [INFO] Listening at: http://127.0.0.1:6566 (11973)\n",
      "[2024-09-24 03:09:58 +0000] [11973] [INFO] Using worker: uvicorn.workers.UvicornWorker\n",
      "[2024-09-24 03:09:58 +0000] [12007] [INFO] Booting worker with pid: 12007\n",
      "[2024-09-24 03:09:58 +0000] [12007] [INFO] Started server process [12007]\n",
      "[2024-09-24 03:09:58 +0000] [12007] [INFO] Waiting for application startup.\n",
      "[2024-09-24 03:09:58 +0000] [12007] [INFO] Application startup complete.\n"
     ]
    }
   ],
   "source": [
    "import subprocess\n",
    "\n",
    "# Run feast serve in the background\n",
    "feast_online_server_process = subprocess.Popen([\"feast\", \"serve\"])"
   ]
  },
  {
   "cell_type": "code",
   "execution_count": 17,
   "id": "cde4756b-ac6a-490b-bbcc-89d9b1ba3285",
   "metadata": {
    "tags": []
   },
   "outputs": [
    {
     "name": "stdout",
     "output_type": "stream",
     "text": [
      "1001130+   11973   11692 51 03:09 ?        00:00:04 /opt/app-root/bin/python3.9 /opt/app-root/bin/feast serve\n",
      "1001130+   12007   11973  0 03:09 ?        00:00:00 /opt/app-root/bin/python3.9 /opt/app-root/bin/feast serve\n",
      "1001130+   12014   12011  0 03:10 ?        00:00:00 grep feast serve\n"
     ]
    }
   ],
   "source": [
    "%%sh\n",
    "# checking if the online server process started.\n",
    "ps -ef | grep 'feast serve'"
   ]
  },
  {
   "cell_type": "markdown",
   "id": "ee01d7e9-90cf-405e-8f0b-bcf648f45d52",
   "metadata": {
    "jp-MarkdownHeadingCollapsed": true,
    "tags": []
   },
   "source": [
    "### Retrieving the features using online remote client "
   ]
  },
  {
   "cell_type": "code",
   "execution_count": 19,
   "id": "fbd81a9e-a388-4a1b-a2a0-3f1f838194d7",
   "metadata": {
    "tags": []
   },
   "outputs": [
    {
     "name": "stdout",
     "output_type": "stream",
     "text": [
      "remote-online feature_Store.yaml file has been created.\n"
     ]
    }
   ],
   "source": [
    "import os\n",
    "import yaml\n",
    "\n",
    "directory = os.path.abspath(\"./../../remote-online\")\n",
    "os.makedirs(directory, exist_ok=True)\n",
    "\n",
    "data = {\n",
    "    'project': 'my_feast_project',\n",
    "    'registry': './../my_feast_project/feature_repo/data/registry.db',\n",
    "    'provider': 'local',\n",
    "    'online_store': {\n",
    "        'type': 'remote',\n",
    "        'path': 'http://127.0.0.1:6566'\n",
    "    },\n",
    "    'entity_key_serialization_version': 2\n",
    "}\n",
    "\n",
    "file_path = os.path.join(directory, 'feature_store.yaml')\n",
    "\n",
    "# Write to a YAML file\n",
    "with open(file_path, 'w') as file:\n",
    "    yaml.dump(data, file, default_flow_style=False)\n",
    "\n",
    "print(\"remote-online feature_Store.yaml file has been created.\")\n"
   ]
  },
  {
   "cell_type": "code",
   "execution_count": 22,
   "id": "2a30b4d8-78f4-4bff-afb5-681cf951a812",
   "metadata": {
    "tags": []
   },
   "outputs": [
    {
     "name": "stdout",
     "output_type": "stream",
     "text": [
      "/opt/app-root/src/feast/examples/rhoai-quickstart/remote-online\n"
     ]
    },
    {
     "name": "stderr",
     "output_type": "stream",
     "text": [
      "/opt/app-root/lib64/python3.9/site-packages/IPython/core/magics/osm.py:417: UserWarning: using dhist requires you to install the `pickleshare` library.\n",
      "  self.shell.db['dhist'] = compress_dhist(dhist)[-100:]\n"
     ]
    }
   ],
   "source": [
    "%cd ./../../remote-online"
   ]
  },
  {
   "cell_type": "code",
   "execution_count": 23,
   "id": "e97fc9c6-2b3c-4acd-a095-fcbee2d9b2be",
   "metadata": {
    "tags": []
   },
   "outputs": [
    {
     "name": "stdout",
     "output_type": "stream",
     "text": [
      "remote online feature store client has been initialized.\n"
     ]
    }
   ],
   "source": [
    "online_feature_store_client = FeatureStore('.')\n",
    "online_feature_store_client.apply([])\n",
    "print(\"remote online feature store client has been initialized.\")"
   ]
  },
  {
   "cell_type": "markdown",
   "id": "ac28dac4-0d6d-4340-a883-60444887a01a",
   "metadata": {},
   "source": [
    "Now we are going to retrieve the same features we have retrieved in previous section. Here we are client store going to retrieve the features using remote feature store."
   ]
  },
  {
   "cell_type": "code",
   "execution_count": 24,
   "id": "698f5462-ad4a-40cb-955e-10353b765764",
   "metadata": {
    "tags": []
   },
   "outputs": [
    {
     "name": "stderr",
     "output_type": "stream",
     "text": [
      "WARNING:root:_list_feature_views will make breaking changes. Please use _list_batch_feature_views instead. _list_feature_views will behave like _list_all_feature_views in the future.\n"
     ]
    },
    {
     "name": "stdout",
     "output_type": "stream",
     "text": [
      "127.0.0.1:40596 - \"POST /get-online-features HTTP/1.1\" 200\n",
      "{'acc_rate': [0.6362705826759338, 0.9071609377861023],\n",
      " 'avg_daily_trips': [846, 810],\n",
      " 'conv_rate': [0.35948044061660767, 0.6279279589653015],\n",
      " 'driver_id': [1004, 1005]}\n"
     ]
    },
    {
     "name": "stderr",
     "output_type": "stream",
     "text": [
      "09/24/2024 03:15:16 AM root WARNING: _list_feature_views will make breaking changes. Please use _list_batch_feature_views instead. _list_feature_views will behave like _list_all_feature_views in the future.\n",
      "09/24/2024 03:15:16 AM root WARNING: Cannot use sqlite_vec for vector search\n"
     ]
    }
   ],
   "source": [
    "online_features_stores_client = online_feature_store_client.get_online_features(\n",
    "    features=driver_activity_v4,\n",
    "    entity_rows=[\n",
    "        # {join_key: entity_value}\n",
    "        {\"driver_id\": 1004},\n",
    "        {\"driver_id\": 1005},\n",
    "    ],\n",
    ").to_dict()\n",
    "pprint(online_features_stores_client)"
   ]
  },
  {
   "cell_type": "markdown",
   "id": "6bf1ad00-cd37-4feb-bd5d-4b00854e34dd",
   "metadata": {
    "tags": []
   },
   "source": [
    "## Accessing Feast Registry metadata using remote registry store\n",
    "Registry is going to have all the metadata information of feast objects such as FeatureService, FeatureViews. Either you can directly access this information using the way referred in above section.\n",
    "\n",
    "The other way to access in the client server model. You can start the registry server and access them using remote registry client as shown in this section.\n",
    "\n",
    "The default port for the registry is `6570`\n"
   ]
  },
  {
   "cell_type": "markdown",
   "id": "d2e068e2-e3cd-4444-81b3-f335d27d47a8",
   "metadata": {
    "jp-MarkdownHeadingCollapsed": true,
    "tags": []
   },
   "source": [
    "### Starting the registry server as remote"
   ]
  },
  {
   "cell_type": "code",
   "execution_count": 26,
   "id": "835c26e8-1df9-4b02-967a-08eb9747c258",
   "metadata": {
    "tags": []
   },
   "outputs": [
    {
     "name": "stdout",
     "output_type": "stream",
     "text": [
      "Registry server started on the default port 6570. Go to next cell.\n"
     ]
    }
   ],
   "source": [
    "import subprocess\n",
    "\n",
    "# Run feast serve in the background\n",
    "feast_remote_registry_server_process = subprocess.Popen([\"feast\", \"serve_registry\"])\n",
    "print(\"Registry server started on the default port 6570. Go to next cell and check if the process is available.\")"
   ]
  },
  {
   "cell_type": "code",
   "execution_count": 31,
   "id": "6330dea7-375d-4d50-888b-7f1d126a3a83",
   "metadata": {
    "tags": []
   },
   "outputs": [
    {
     "name": "stdout",
     "output_type": "stream",
     "text": [
      "/opt/app-root/src/feast/examples/rhoai-quickstart/my_feast_project/feature_repo\n",
      "1001130+   12533   11692  0 03:18 ?        00:00:04 /opt/app-root/bin/python3.9 /opt/app-root/bin/feast serve_registry\n",
      "1001130+   13097   13094  0 03:28 ?        00:00:00 grep feast serve_registry\n"
     ]
    }
   ],
   "source": [
    "%%sh\n",
    "# checking if the registry server process started.\n",
    "pwd\n",
    "ps -ef | grep 'feast serve_registry'"
   ]
  },
  {
   "cell_type": "markdown",
   "id": "b3d90ca8-c8ff-4c37-b72f-64e06cf8f97a",
   "metadata": {
    "jp-MarkdownHeadingCollapsed": true,
    "tags": []
   },
   "source": [
    "### Initializing the remote registry client and retrieving the feast metadata"
   ]
  },
  {
   "cell_type": "code",
   "execution_count": 32,
   "id": "392bf771-ecfb-43f3-8f87-b6762b12f5f3",
   "metadata": {
    "tags": []
   },
   "outputs": [
    {
     "name": "stdout",
     "output_type": "stream",
     "text": [
      "remote-registry feature_Store.yaml file has been created.\n"
     ]
    }
   ],
   "source": [
    "import os\n",
    "import yaml\n",
    "\n",
    "directory = os.path.abspath(\"./../../remote-registry\")\n",
    "os.makedirs(directory, exist_ok=True)\n",
    "\n",
    "data = {\n",
    "    'project': 'my_feast_project',\n",
    "    'registry': {\n",
    "        'type': 'remote',\n",
    "        'path': 'localhost:6570'\n",
    "    },\n",
    "    'provider': 'local',\n",
    "    'online_store': {\n",
    "        'type': 'remote',\n",
    "        'path': 'http://127.0.0.1:6566'\n",
    "    },\n",
    "    'entity_key_serialization_version': 2\n",
    "}\n",
    "\n",
    "file_path = os.path.join(directory, 'feature_store.yaml')\n",
    "\n",
    "# Write to a YAML file\n",
    "with open(file_path, 'w') as file:\n",
    "    yaml.dump(data, file, default_flow_style=False)\n",
    "\n",
    "print(\"remote-registry feature_Store.yaml file has been created.\")"
   ]
  },
  {
   "cell_type": "code",
   "execution_count": 33,
   "id": "4cce650d-bcbc-4ea7-8a5e-168ebb561765",
   "metadata": {
    "tags": []
   },
   "outputs": [
    {
     "name": "stdout",
     "output_type": "stream",
     "text": [
      "/opt/app-root/src/feast/examples/rhoai-quickstart/remote-registry\n"
     ]
    },
    {
     "name": "stderr",
     "output_type": "stream",
     "text": [
      "/opt/app-root/lib64/python3.9/site-packages/IPython/core/magics/osm.py:417: UserWarning: using dhist requires you to install the `pickleshare` library.\n",
      "  self.shell.db['dhist'] = compress_dhist(dhist)[-100:]\n"
     ]
    }
   ],
   "source": [
    "%cd ./../../remote-registry"
   ]
  },
  {
   "cell_type": "code",
   "execution_count": 36,
   "id": "39e255c9-7172-4ec2-9fee-5f30f2f465b3",
   "metadata": {
    "tags": []
   },
   "outputs": [
    {
     "name": "stdout",
     "output_type": "stream",
     "text": [
      "Remote registry feature store client has been initialized.\n"
     ]
    }
   ],
   "source": [
    "registry_feature_store_client = FeatureStore('.')\n",
    "registry_feature_store_client.apply([])\n",
    "print(\"Remote registry feature store client has been initialized.\")"
   ]
  },
  {
   "cell_type": "code",
   "execution_count": 37,
   "id": "e6778cb5-cee1-4010-bf6b-f81ef3fa38bd",
   "metadata": {
    "tags": []
   },
   "outputs": [
    {
     "name": "stderr",
     "output_type": "stream",
     "text": [
      "WARNING:root:_list_feature_views will make breaking changes. Please use _list_batch_feature_views instead. _list_feature_views will behave like _list_all_feature_views in the future.\n"
     ]
    },
    {
     "data": {
      "text/plain": [
       "[<FeatureView(name = driver_hourly_stats, entities = ['driver'], ttl = 1 day, 0:00:00, stream_source = None, batch_source = {\n",
       "   \"type\": \"BATCH_FILE\",\n",
       "   \"timestampField\": \"event_timestamp\",\n",
       "   \"createdTimestampColumn\": \"created\",\n",
       "   \"fileOptions\": {\n",
       "     \"uri\": \"/opt/app-root/src/feast/examples/rhoai-quickstart/my_feast_project/feature_repo/data/driver_stats.parquet\"\n",
       "   },\n",
       "   \"name\": \"driver_hourly_stats_source\"\n",
       " }, entity_columns = [driver_id-Int64], features = [conv_rate-Float32, acc_rate-Float32, avg_daily_trips-Int64], description = , tags = {'team': 'driver_performance'}, owner = , projection = FeatureViewProjection(name='driver_hourly_stats', name_alias=None, desired_features=[], features=[conv_rate-Float32, acc_rate-Float32, avg_daily_trips-Int64], join_key_map={}), created_timestamp = 2024-09-24 03:08:32.697894, last_updated_timestamp = 2024-09-24 03:09:06.081507, online = True, materialization_intervals = [(datetime.datetime(2024, 9, 23, 3, 9, 6, 17933, tzinfo=<UTC>), datetime.datetime(2024, 9, 24, 3, 9, 3, tzinfo=<UTC>))])>,\n",
       " <FeatureView(name = driver_hourly_stats_fresh, entities = ['driver'], ttl = 1 day, 0:00:00, stream_source = {\n",
       "   \"type\": \"PUSH_SOURCE\",\n",
       "   \"name\": \"driver_stats_push_source\",\n",
       "   \"batchSource\": {\n",
       "     \"type\": \"BATCH_FILE\",\n",
       "     \"timestampField\": \"event_timestamp\",\n",
       "     \"createdTimestampColumn\": \"created\",\n",
       "     \"fileOptions\": {\n",
       "       \"uri\": \"/opt/app-root/src/feast/examples/rhoai-quickstart/my_feast_project/feature_repo/data/driver_stats.parquet\"\n",
       "     },\n",
       "     \"name\": \"driver_hourly_stats_source\"\n",
       "   }\n",
       " }, batch_source = {\n",
       "   \"type\": \"BATCH_FILE\",\n",
       "   \"timestampField\": \"event_timestamp\",\n",
       "   \"createdTimestampColumn\": \"created\",\n",
       "   \"fileOptions\": {\n",
       "     \"uri\": \"/opt/app-root/src/feast/examples/rhoai-quickstart/my_feast_project/feature_repo/data/driver_stats.parquet\"\n",
       "   },\n",
       "   \"name\": \"driver_hourly_stats_source\"\n",
       " }, entity_columns = [driver_id-Int64], features = [conv_rate-Float32, acc_rate-Float32, avg_daily_trips-Int64], description = , tags = {'team': 'driver_performance'}, owner = , projection = FeatureViewProjection(name='driver_hourly_stats_fresh', name_alias=None, desired_features=[], features=[conv_rate-Float32, acc_rate-Float32, avg_daily_trips-Int64], join_key_map={}), created_timestamp = 2024-09-24 03:08:32.698033, last_updated_timestamp = 2024-09-24 03:09:06.133090, online = True, materialization_intervals = [(datetime.datetime(2024, 9, 23, 3, 9, 6, 81898, tzinfo=<UTC>), datetime.datetime(2024, 9, 24, 3, 9, 3, tzinfo=<UTC>))])>,\n",
       " <OnDemandFeatureView(name = transformed_conv_rate, features = [conv_rate_plus_val1-Float64, conv_rate_plus_val2-Float64], description = , tags = {}, owner = , projection = FeatureViewProjection(name='transformed_conv_rate', name_alias=None, desired_features=[], features=[conv_rate_plus_val1-Float64, conv_rate_plus_val2-Float64], join_key_map={}), created_timestamp = 2024-09-24 03:08:32.698189, last_updated_timestamp = 2024-09-24 03:08:32.698189, mode = pandas, source_feature_view_projections = {'driver_hourly_stats': FeatureViewProjection(name='driver_hourly_stats', name_alias=None, desired_features=[], features=[conv_rate-Float32, acc_rate-Float32, avg_daily_trips-Int64], join_key_map={})}, source_request_sources = {'vals_to_add': <feast.data_source.RequestSource object at 0x7fbc4ca0beb0>}, feature_transformation = <feast.transformation.pandas_transformation.PandasTransformation object at 0x7fbc4ca0b940>)>,\n",
       " <OnDemandFeatureView(name = transformed_conv_rate_fresh, features = [conv_rate_plus_val1-Float64, conv_rate_plus_val2-Float64], description = , tags = {}, owner = , projection = FeatureViewProjection(name='transformed_conv_rate_fresh', name_alias=None, desired_features=[], features=[conv_rate_plus_val1-Float64, conv_rate_plus_val2-Float64], join_key_map={}), created_timestamp = 2024-09-24 03:08:32.699098, last_updated_timestamp = 2024-09-24 03:08:32.699098, mode = pandas, source_feature_view_projections = {'driver_hourly_stats_fresh': FeatureViewProjection(name='driver_hourly_stats_fresh', name_alias=None, desired_features=[], features=[conv_rate-Float32, acc_rate-Float32, avg_daily_trips-Int64], join_key_map={})}, source_request_sources = {'vals_to_add': <feast.data_source.RequestSource object at 0x7fbc4c9ff4c0>}, feature_transformation = <feast.transformation.pandas_transformation.PandasTransformation object at 0x7fbc4c9ff2b0>)>]"
      ]
     },
     "execution_count": 37,
     "metadata": {},
     "output_type": "execute_result"
    }
   ],
   "source": [
    "# Liting all feature views using remote registry client\n",
    "registry_feature_store_client.list_all_feature_views(allow_cache=False)"
   ]
  },
  {
   "cell_type": "code",
   "execution_count": 38,
   "id": "31889388-5efc-423c-b64e-e8e5c0b67a68",
   "metadata": {
    "tags": []
   },
   "outputs": [
    {
     "data": {
      "text/plain": [
       "[<FeatureService(name = driver_activity_v2, _features = [], feature_view_projections = [FeatureViewProjection(name='driver_hourly_stats', name_alias=None, desired_features=[], features=[conv_rate-Float32, acc_rate-Float32, avg_daily_trips-Int64], join_key_map={}), FeatureViewProjection(name='transformed_conv_rate', name_alias=None, desired_features=[], features=[conv_rate_plus_val1-Float64, conv_rate_plus_val2-Float64], join_key_map={})], description = , tags = {}, owner = , created_timestamp = 2024-09-24 03:08:32.699926, last_updated_timestamp = 2024-09-24 03:08:32.699926, logging_config = None)>,\n",
       " <FeatureService(name = driver_activity_v1, _features = [], feature_view_projections = [FeatureViewProjection(name='driver_hourly_stats', name_alias=None, desired_features=[], features=[conv_rate-Float32], join_key_map={}), FeatureViewProjection(name='transformed_conv_rate', name_alias=None, desired_features=[], features=[conv_rate_plus_val1-Float64, conv_rate_plus_val2-Float64], join_key_map={})], description = , tags = {}, owner = , created_timestamp = 2024-09-24 03:08:32.700045, last_updated_timestamp = 2024-09-24 03:08:32.700045, logging_config = <feast.feature_logging.LoggingConfig object at 0x7fbc4c79df40>)>,\n",
       " <FeatureService(name = driver_activity_v3, _features = [], feature_view_projections = [FeatureViewProjection(name='driver_hourly_stats_fresh', name_alias=None, desired_features=[], features=[conv_rate-Float32, acc_rate-Float32, avg_daily_trips-Int64], join_key_map={}), FeatureViewProjection(name='transformed_conv_rate_fresh', name_alias=None, desired_features=[], features=[conv_rate_plus_val1-Float64, conv_rate_plus_val2-Float64], join_key_map={})], description = , tags = {}, owner = , created_timestamp = 2024-09-24 03:08:32.700140, last_updated_timestamp = 2024-09-24 03:08:32.700140, logging_config = None)>,\n",
       " <FeatureService(name = driver_activity_v4, _features = [], feature_view_projections = [FeatureViewProjection(name='driver_hourly_stats_fresh', name_alias=None, desired_features=[], features=[conv_rate-Float32, acc_rate-Float32, avg_daily_trips-Int64], join_key_map={})], description = , tags = {}, owner = , created_timestamp = 2024-09-24 03:09:26.242157, last_updated_timestamp = 2024-09-24 03:09:26.242157, logging_config = None)>]"
      ]
     },
     "execution_count": 38,
     "metadata": {},
     "output_type": "execute_result"
    }
   ],
   "source": [
    "# Liting all feature services using remote registry client\n",
    "registry_feature_store_client.list_feature_services()"
   ]
  },
  {
   "cell_type": "markdown",
   "id": "a074f5bc-1d1b-4ad1-9b08-b3aea58761e8",
   "metadata": {
    "jp-MarkdownHeadingCollapsed": true,
    "tags": []
   },
   "source": [
    "## Stopping the online, registry server"
   ]
  },
  {
   "cell_type": "code",
   "execution_count": 39,
   "id": "d8f353e0-3874-49f7-af82-bd79396eb6d8",
   "metadata": {
    "tags": []
   },
   "outputs": [
    {
     "name": "stdout",
     "output_type": "stream",
     "text": [
      "/opt/app-root/src/feast/examples/rhoai-quickstart/remote-registry\n",
      "1001130+   11973   11692  0 03:09 ?        00:00:04 /opt/app-root/bin/python3.9 /opt/app-root/bin/feast serve\n",
      "1001130+   12007   11973  0 03:09 ?        00:00:00 /opt/app-root/bin/python3.9 /opt/app-root/bin/feast serve\n",
      "1001130+   12533   11692  0 03:18 ?        00:00:04 /opt/app-root/bin/python3.9 /opt/app-root/bin/feast serve_registry\n",
      "1001130+   13663   13620  0 03:36 ?        00:00:00 grep feast serve\n"
     ]
    }
   ],
   "source": [
    "%%sh\n",
    "# checking if the registry server and online server process is already running.\n",
    "pwd\n",
    "ps -ef | grep 'feast serve'"
   ]
  },
  {
   "cell_type": "code",
   "execution_count": 40,
   "id": "8c84142d-b835-440e-9177-9b8bfe00768f",
   "metadata": {
    "tags": []
   },
   "outputs": [
    {
     "name": "stdout",
     "output_type": "stream",
     "text": [
      "remote online and registry server has been stopped.\n"
     ]
    },
    {
     "name": "stderr",
     "output_type": "stream",
     "text": [
      "[2024-09-24 03:36:24 +0000] [11973] [INFO] Handling signal: term\n",
      "[2024-09-24 03:36:24 +0000] [12007] [INFO] Shutting down\n",
      "[2024-09-24 03:36:24 +0000] [12007] [INFO] Error while closing socket [Errno 9] Bad file descriptor\n",
      "[2024-09-24 03:36:24 +0000] [12007] [INFO] Waiting for application shutdown.\n",
      "[2024-09-24 03:36:24 +0000] [12007] [INFO] Application shutdown complete.\n",
      "[2024-09-24 03:36:24 +0000] [12007] [INFO] Finished server process [12007]\n",
      "[2024-09-24 03:36:24 +0000] [11973] [ERROR] Worker (pid:12007) was sent SIGTERM!\n",
      "[2024-09-24 03:36:24 +0000] [11973] [INFO] Shutting down: Master\n"
     ]
    }
   ],
   "source": [
    "feast_online_server_process.terminate()  # Stop the remote Feast online server\n",
    "feast_remote_registry_server_process.terminate() # stops the remote registry server\n",
    "print(\"remote online and registry server has been stopped.\")\n"
   ]
  },
  {
   "cell_type": "code",
   "execution_count": 41,
   "id": "93bf01b6-5bf1-4345-9bef-2e83edc489b7",
   "metadata": {},
   "outputs": [
    {
     "name": "stdout",
     "output_type": "stream",
     "text": [
      "/opt/app-root/src/feast/examples/rhoai-quickstart/remote-registry\n",
      "1001130+   13848   13805  0 03:37 ?        00:00:00 grep feast serve\n"
     ]
    }
   ],
   "source": [
    "%%sh\n",
    "# checking if the registry server and online server process stopped. wait for some time until it kills.\n",
    "pwd\n",
    "ps -ef | grep 'feast serve'"
   ]
  },
  {
   "cell_type": "code",
   "execution_count": null,
   "id": "cbe06b35-7586-4b26-a63b-29bcd7ea3037",
   "metadata": {},
   "outputs": [],
   "source": []
  }
 ],
 "metadata": {
  "kernelspec": {
   "display_name": "Python 3.9",
   "language": "python",
   "name": "python3"
  },
  "language_info": {
   "codemirror_mode": {
    "name": "ipython",
    "version": 3
   },
   "file_extension": ".py",
   "mimetype": "text/x-python",
   "name": "python",
   "nbconvert_exporter": "python",
   "pygments_lexer": "ipython3",
   "version": "3.9.16"
  }
 },
 "nbformat": 4,
 "nbformat_minor": 5
}