{
 "cells": [
  {
   "metadata": {},
   "cell_type": "markdown",
   "source": [
    "## Feast Client with RBAC\n",
    "### RBAC Kubernetes Authentication\n",
    "Feast **Role-Based Access Control (RBAC)** in Kubernetes supports authentication  **inside a Kubernetes pod** and **outside a pod** when running a local script.\n",
    "### Inside a Kubernetes Pod\n",
    "Feast automatically retrieves the Kubernetes ServiceAccount token from:\n",
    "```\n",
    "/var/run/secrets/kubernetes.io/serviceaccount/token\n",
    "```\n",
    "This means:\n",
    "- No manual configuration is needed inside a pod.\n",
    "- The token is mounted automatically and used for authentication.\n",
    "- Developer just need create the binding with role and service account accordingly.\n",
    "- Code Reference:  \n",
    "[Feast Kubernetes Auth Client Manager (Pod Token Usage)](https://github.com/feast-dev/feast/blob/master/sdk/python/feast/permissions/client/kubernetes_auth_client_manager.py#L15) \n",
    "- See the example will use service account from pod [Example](https://github.com/feast-dev/feast/blob/master/examples/rbac-remote/client/k8s/)\n",
    "\n",
    "### Outside a Kubernetes Pod (Local Machine)\n",
    "If running Feast outside of Kubernetes, authentication requires setting the token manually:\n",
    "```sh\n",
    "export LOCAL_K8S_TOKEN=\"your-service-account-token\"\n",
    "```\n",
    "Feast will use this token for authentication.\n",
    "\n",
    "Reference:  \n",
    "[Feast Authentication via `LOCAL_K8S_TOKEN`](https://github.com/feast-dev/feast/blob/master/sdk/python/feast/permissions/client/kubernetes_auth_client_manager.py#L50)"
   ],
   "id": "bb0145c9c1f6ebcc"
  },
  {
   "metadata": {},
   "cell_type": "markdown",
   "source": [
    "## Test Cases\n",
    "| User Type       | ServiceAccount               | RoleBinding Assigned | Expected Behavior in output                                |\n",
    "|----------------|-----------------------------|----------------------|------------------------------------------------------------|\n",
    "| **Read-Only**  | `feast-user-sa`              | `feast-reader`       | Can **read** from the feature store, but **cannot write**. |\n",
    "| **Unauthorized** | `feast-unauthorized-user-sa` | _None_               | **Access should be denied** in `test.py`.                  |\n",
    "| **Admin**      | `feast-admin-sa`             | `feast-writer`       | Can **read and write** feature store data.                 |"
   ],
   "id": "160681ba4ab3c2c5"
  },
  {
   "metadata": {},
   "cell_type": "markdown",
   "source": "###  Feature Store settings",
   "id": "6590c081efb1fe3c"
  },
  {
   "metadata": {
    "ExecuteTime": {
     "end_time": "2025-03-05T18:51:44.898752Z",
     "start_time": "2025-03-05T18:51:44.757430Z"
    }
   },
   "cell_type": "code",
   "source": "!cat client/feature_store.yaml",
   "id": "fac5f67ff391b5cf",
   "outputs": [
    {
     "name": "stdout",
     "output_type": "stream",
     "text": [
      "project: feast_rbac\r\n",
      "provider: local\r\n",
      "offline_store:\r\n",
      "    host: localhost\r\n",
      "    type: remote\r\n",
      "    port: 8081\r\n",
      "online_store:\r\n",
      "    path: http://localhost:8082\r\n",
      "    type: remote\r\n",
      "registry:\r\n",
      "    path: localhost:8083\r\n",
      "    registry_type: remote\r\n",
      "auth:\r\n",
      "    type: kubernetes\r\n",
      "entity_key_serialization_version: 3\r\n"
     ]
    }
   ],
   "execution_count": 7
  },
  {
   "metadata": {},
   "cell_type": "markdown",
   "source": "**The Operator creates the client ConfigMap containing the feature_store.yaml. We can retrieve it and port froward to local**",
   "id": "84f73e09711bff9f"
  },
  {
   "metadata": {
    "ExecuteTime": {
     "end_time": "2025-03-05T18:51:50.571415Z",
     "start_time": "2025-03-05T18:51:50.339196Z"
    }
   },
   "cell_type": "code",
   "source": "!kubectl get configmap feast-sample-kubernetes-auth-client -n feast -o jsonpath='{.data.feature_store\\.yaml}' ",
   "id": "456fb4df46f32380",
   "outputs": [
    {
     "name": "stdout",
     "output_type": "stream",
     "text": [
      "project: feast_rbac\r\n",
      "provider: local\r\n",
      "offline_store:\r\n",
      "    host: feast-sample-kubernetes-auth-offline.feast.svc.cluster.local\r\n",
      "    type: remote\r\n",
      "    port: 80\r\n",
      "online_store:\r\n",
      "    path: http://feast-sample-kubernetes-auth-online.feast.svc.cluster.local:80\r\n",
      "    type: remote\r\n",
      "registry:\r\n",
      "    path: feast-sample-kubernetes-auth-registry.feast.svc.cluster.local:80\r\n",
      "    registry_type: remote\r\n",
      "auth:\r\n",
      "    type: kubernetes\r\n",
      "entity_key_serialization_version: 3\r\n"
     ]
    }
   ],
   "execution_count": 8
  },
  {
   "metadata": {},
   "cell_type": "markdown",
   "source": "### The function below is executed to support the preparation of client testing.",
   "id": "ae61f4dca31f3466"
  },
  {
   "metadata": {},
   "cell_type": "markdown",
   "source": "Run Port Forwarding for All Services for local testing ",
   "id": "28636825ae8f676d"
  },
  {
   "metadata": {
    "ExecuteTime": {
     "end_time": "2025-03-05T19:07:49.786503Z",
     "start_time": "2025-03-05T19:07:49.754932Z"
    }
   },
   "cell_type": "code",
   "source": [
    "import subprocess\n",
    "\n",
    "# Define services and their local ports\n",
    "services = {\n",
    "    \"offline_store\": (\"feast-sample-kubernetes-auth-offline\", 8081),\n",
    "    \"online_store\": (\"feast-sample-kubernetes-auth-online\", 8082),\n",
    "    \"registry\": (\"feast-sample-kubernetes-auth-registry\", 8083),\n",
    "}\n",
    "\n",
    "# Start port-forwarding for each service\n",
    "port_forward_processes = {}\n",
    "for name, (service, local_port) in services.items():\n",
    "    cmd = f\"kubectl port-forward svc/{service} -n feast {local_port}:80\"\n",
    "    process = subprocess.Popen(cmd, shell=True)\n",
    "    port_forward_processes[name] = process\n",
    "    print(f\"Port forwarding {service} -> localhost:{local_port}\")"
   ],
   "id": "c014248190863e8a",
   "outputs": [
    {
     "name": "stdout",
     "output_type": "stream",
     "text": [
      "Port forwarding feast-sample-kubernetes-auth-offline -> localhost:8081\n",
      "Port forwarding feast-sample-kubernetes-auth-online -> localhost:8082\n",
      "Port forwarding feast-sample-kubernetes-auth-registry -> localhost:8083\n"
     ]
    }
   ],
   "execution_count": 19
  },
  {
   "metadata": {},
   "cell_type": "markdown",
   "source": "Function to retrieve a Kubernetes service account token and set it as an environment variable",
   "id": "c0eccef6379f442c"
  },
  {
   "metadata": {
    "ExecuteTime": {
     "end_time": "2025-03-05T18:52:03.520366Z",
     "start_time": "2025-03-05T18:52:03.512357Z"
    }
   },
   "cell_type": "code",
   "source": [
    "import subprocess\n",
    "import os\n",
    "\n",
    "def get_k8s_token(service_account):\n",
    "    namespace = \"feast\"\n",
    "\n",
    "    if not service_account:\n",
    "        raise ValueError(\"Service account name is required.\")\n",
    "\n",
    "    result = subprocess.run(\n",
    "        [\"kubectl\", \"create\", \"token\", service_account, \"-n\", namespace],\n",
    "        capture_output=True, text=True, check=True\n",
    "    )\n",
    "\n",
    "    token = result.stdout.strip()\n",
    "\n",
    "    if not token:\n",
    "        return None  # Silently return None if token retrieval fails\n",
    "\n",
    "    os.environ[\"LOCAL_K8S_TOKEN\"] = token\n",
    "    return \"Token Retrieved: ***** (hidden for security)\"\n"
   ],
   "id": "70bdbcd7b3fe44",
   "outputs": [],
   "execution_count": 10
  },
  {
   "metadata": {},
   "cell_type": "markdown",
   "source": [
    "**Generating training data. The following test functions were copied from the `test_workflow.py` template but we added `try` blocks to print only \n",
    "the relevant error messages, since we expect to receive errors from the permission enforcement modules.**"
   ],
   "id": "8c9e27ec4ed8ca2c"
  },
  {
   "metadata": {
    "ExecuteTime": {
     "end_time": "2025-03-05T18:52:09.002273Z",
     "start_time": "2025-03-05T18:52:08.996378Z"
    }
   },
   "cell_type": "code",
   "source": [
    "from feast import FeatureStore\n",
    "\n",
    "def fetch_historical_features_entity_df(store: FeatureStore, for_batch_scoring: bool):\n",
    "    try:\n",
    "        entity_df = pd.DataFrame.from_dict(\n",
    "            {\n",
    "                \"driver_id\": [1001, 1002, 1003],\n",
    "                \"event_timestamp\": [\n",
    "                    datetime(2021, 4, 12, 10, 59, 42),\n",
    "                    datetime(2021, 4, 12, 8, 12, 10),\n",
    "                    datetime(2021, 4, 12, 16, 40, 26),\n",
    "                ],\n",
    "                \"label_driver_reported_satisfaction\": [1, 5, 3],\n",
    "                # values we're using for an on-demand transformation\n",
    "                \"val_to_add\": [1, 2, 3],\n",
    "                \"val_to_add_2\": [10, 20, 30],\n",
    "            }\n",
    "        )\n",
    "        if for_batch_scoring:\n",
    "            entity_df[\"event_timestamp\"] = pd.to_datetime(\"now\", utc=True)\n",
    "\n",
    "        training_df = store.get_historical_features(\n",
    "            entity_df=entity_df,\n",
    "            features=[\n",
    "                \"driver_hourly_stats:conv_rate\",\n",
    "                \"driver_hourly_stats:acc_rate\",\n",
    "                \"driver_hourly_stats:avg_daily_trips\",\n",
    "                \"transformed_conv_rate:conv_rate_plus_val1\",\n",
    "                \"transformed_conv_rate:conv_rate_plus_val2\",\n",
    "            ],\n",
    "\n",
    "        ).to_df()\n",
    "        print(training_df.head())\n",
    "\n",
    "    except Exception as e:\n",
    "        print(f\"An error occurred while fetching historical features: {e}\")\n",
    "\n",
    "\n",
    "def fetch_online_features(store, source: str = \"\"):\n",
    "    try:\n",
    "        entity_rows = [\n",
    "            # {join_key: entity_value}\n",
    "            {\n",
    "                \"driver_id\": 1001,\n",
    "                \"val_to_add\": 1000,\n",
    "                \"val_to_add_2\": 2000,\n",
    "            },\n",
    "            {\n",
    "                \"driver_id\": 1002,\n",
    "                \"val_to_add\": 1001,\n",
    "                \"val_to_add_2\": 2002,\n",
    "            },\n",
    "        ]\n",
    "        if source == \"feature_service\":\n",
    "            features_to_fetch = store.get_feature_service(\"driver_activity_v1\")\n",
    "        elif source == \"push\":\n",
    "            features_to_fetch = store.get_feature_service(\"driver_activity_v3\")\n",
    "        else:\n",
    "            features_to_fetch = [\n",
    "                \"driver_hourly_stats:acc_rate\",\n",
    "                \"transformed_conv_rate:conv_rate_plus_val1\",\n",
    "                \"transformed_conv_rate:conv_rate_plus_val2\",\n",
    "            ]\n",
    "        returned_features = store.get_online_features(\n",
    "            features=features_to_fetch,\n",
    "            entity_rows=entity_rows,\n",
    "        ).to_dict()\n",
    "        for key, value in sorted(returned_features.items()):\n",
    "            print(key, \" : \", value)\n",
    "\n",
    "    except Exception as e:\n",
    "        print(f\"An error occurred while fetching online features: {e}\")"
   ],
   "id": "934963c5f6b18930",
   "outputs": [],
   "execution_count": 11
  },
  {
   "metadata": {},
   "cell_type": "markdown",
   "source": [
    "### Test Read-Only Feast User \n",
    "**Step 1: Set the Token**"
   ],
   "id": "84e3f83699b8d83"
  },
  {
   "metadata": {
    "ExecuteTime": {
     "end_time": "2025-03-05T18:52:20.736183Z",
     "start_time": "2025-03-05T18:52:20.654808Z"
    }
   },
   "cell_type": "code",
   "source": "get_k8s_token(\"feast-user-sa\")",
   "id": "f1fe8baa02d27d38",
   "outputs": [
    {
     "data": {
      "text/plain": [
       "'Token Retrieved: ***** (hidden for security)'"
      ]
     },
     "execution_count": 12,
     "metadata": {},
     "output_type": "execute_result"
    }
   ],
   "execution_count": 12
  },
  {
   "metadata": {},
   "cell_type": "markdown",
   "source": "**Step 2: Test misc functions from offline, online, materialize_incremental, and others**",
   "id": "140c909fa8bcc6ab"
  },
  {
   "metadata": {
    "ExecuteTime": {
     "end_time": "2025-03-05T19:08:31.257351Z",
     "start_time": "2025-03-05T19:08:25.274715Z"
    }
   },
   "cell_type": "code",
   "source": [
    "!echo \"Running the Feast RBAC test for a Read only User...\"\n",
    "from feast.data_source import PushMode\n",
    "from feast import FeatureStore\n",
    "from datetime import datetime\n",
    "import pandas as pd\n",
    "\n",
    "try:\n",
    "\n",
    "    store = FeatureStore(repo_path=\"client\")\n",
    "\n",
    "    print(\"\\n--- Historical features for training ---\")\n",
    "    fetch_historical_features_entity_df(store, for_batch_scoring=False)\n",
    "\n",
    "    print(\"\\n--- Historical features for batch scoring ---\")\n",
    "    fetch_historical_features_entity_df(store, for_batch_scoring=True)\n",
    "\n",
    "    try:\n",
    "        print(\"\\n--- Load features into online store/materialize_incremental ---\")\n",
    "        feature_views= store.list_feature_views()\n",
    "        if not feature_views:\n",
    "            raise PermissionError(\"No access to feature-views or no feature-views available.\")\n",
    "        store.materialize_incremental(end_date=datetime.now())\n",
    "    except PermissionError as pe:\n",
    "        print(f\"Permission error: {pe}\")\n",
    "    except Exception as e:\n",
    "        print(f\"An occurred while performing materialize incremental: {e}\")\n",
    "\n",
    "    print(\"\\n--- Online features ---\")\n",
    "    fetch_online_features(store)\n",
    "\n",
    "    print(\"\\n--- Online features retrieved (instead) through a feature service---\")\n",
    "    fetch_online_features(store, source=\"feature_service\")\n",
    "\n",
    "    print(\n",
    "        \"\\n--- Online features retrieved (using feature service v3, which uses a feature view with a push source---\"\n",
    "    )\n",
    "    fetch_online_features(store, source=\"push\")\n",
    "\n",
    "    print(\"\\n--- Simulate a stream event ingestion of the hourly stats df ---\")\n",
    "    event_df = pd.DataFrame.from_dict(\n",
    "        {\n",
    "            \"driver_id\": [1001],\n",
    "            \"event_timestamp\": [datetime.now()],\n",
    "            \"created\": [datetime.now()],\n",
    "            \"conv_rate\": [1.0],\n",
    "            \"acc_rate\": [1.0],\n",
    "            \"avg_daily_trips\": [1000],\n",
    "        }\n",
    "    )\n",
    "    store.push(\"driver_stats_push_source\", event_df, to=PushMode.ONLINE_AND_OFFLINE)\n",
    "\n",
    "    print(\"\\n--- Online features again with updated values from a stream push---\")\n",
    "    fetch_online_features(store, source=\"push\")\n",
    "\n",
    "except Exception as e:\n",
    "    print(f\"An error occurred: {e}\")\n"
   ],
   "id": "14b7ad38368db767",
   "outputs": [
    {
     "name": "stdout",
     "output_type": "stream",
     "text": [
      "Running Feast RBAC test for Read only User...\r\n",
      "\n",
      "--- Historical features for training ---\n",
      "Handling connection for 8083\n",
      "Handling connection for 8081\n",
      "   driver_id           event_timestamp  label_driver_reported_satisfaction  \\\n",
      "0       1001 2021-04-12 10:59:42+00:00                                   1   \n",
      "1       1002 2021-04-12 08:12:10+00:00                                   5   \n",
      "2       1003 2021-04-12 16:40:26+00:00                                   3   \n",
      "\n",
      "   val_to_add  val_to_add_2  conv_rate  acc_rate  avg_daily_trips  \\\n",
      "0           1            10   0.568053  0.225828              614   \n",
      "1           2            20   0.449785  0.860379              686   \n",
      "2           3            30   0.153563  0.300467              725   \n",
      "\n",
      "   conv_rate_plus_val1  conv_rate_plus_val2  \n",
      "0             1.568053            10.568053  \n",
      "1             2.449785            20.449785  \n",
      "2             3.153563            30.153563  \n",
      "\n",
      "--- Historical features for batch scoring ---\n",
      "Handling connection for 8081\n",
      "   driver_id                  event_timestamp  \\\n",
      "0       1002 2025-03-05 19:08:29.434969+00:00   \n",
      "1       1001 2025-03-05 19:08:29.434969+00:00   \n",
      "2       1003 2025-03-05 19:08:29.434969+00:00   \n",
      "\n",
      "   label_driver_reported_satisfaction  val_to_add  val_to_add_2  conv_rate  \\\n",
      "0                                   5           2            20   0.806965   \n",
      "1                                   1           1            10   0.432434   \n",
      "2                                   3           3            30   0.295015   \n",
      "\n",
      "   acc_rate  avg_daily_trips  conv_rate_plus_val1  conv_rate_plus_val2  \n",
      "0  0.290849              144             2.806965            20.806965  \n",
      "1  0.076731              357             1.432434            10.432434  \n",
      "2  0.962840              733             3.295015            30.295015  \n",
      "\n",
      "--- Load features into online store/materialize_incremental ---\n",
      "Materializing \u001B[1m\u001B[32m2\u001B[0m feature views to \u001B[1m\u001B[32m2025-03-05 14:08:30-05:00\u001B[0m into the \u001B[1m\u001B[32mremote\u001B[0m online store.\n",
      "\n",
      "\u001B[1m\u001B[32mdriver_hourly_stats_fresh\u001B[0m from \u001B[1m\u001B[32m2025-03-04 14:08:30-05:00\u001B[0m to \u001B[1m\u001B[32m2025-03-05 14:08:30-05:00\u001B[0m:\n",
      "Handling connection for 8081\n"
     ]
    },
    {
     "name": "stderr",
     "output_type": "stream",
     "text": [
      "  0%|                                                                         | 0/5 [00:00<?, ?it/s]\n"
     ]
    },
    {
     "name": "stdout",
     "output_type": "stream",
     "text": [
      "An occurred while performing materialize incremental: \n",
      "\n",
      "--- Online features ---\n",
      "Handling connection for 8082\n",
      "acc_rate  :  [None, None]\n",
      "conv_rate_plus_val1  :  [None, None]\n",
      "conv_rate_plus_val2  :  [None, None]\n",
      "driver_id  :  [1001, 1002]\n",
      "\n",
      "--- Online features retrieved (instead) through a feature service---\n",
      "Handling connection for 8082\n",
      "conv_rate  :  [None, None]\n",
      "conv_rate_plus_val1  :  [None, None]\n",
      "conv_rate_plus_val2  :  [None, None]\n",
      "driver_id  :  [1001, 1002]\n",
      "\n",
      "--- Online features retrieved (using feature service v3, which uses a feature view with a push source---\n",
      "Handling connection for 8082\n",
      "acc_rate  :  [None, None]\n",
      "avg_daily_trips  :  [None, None]\n",
      "conv_rate  :  [None, None]\n",
      "conv_rate_plus_val1  :  [None, None]\n",
      "conv_rate_plus_val2  :  [None, None]\n",
      "driver_id  :  [1001, 1002]\n",
      "\n",
      "--- Simulate a stream event ingestion of the hourly stats df ---\n",
      "An error occurred: \n"
     ]
    }
   ],
   "execution_count": 20
  },
  {
   "metadata": {},
   "cell_type": "markdown",
   "source": "### Test Unauthorized Feast User ",
   "id": "e5e63a172da6d6d7"
  },
  {
   "metadata": {
    "ExecuteTime": {
     "end_time": "2025-03-05T19:09:01.899205Z",
     "start_time": "2025-03-05T19:09:01.811315Z"
    }
   },
   "cell_type": "code",
   "source": [
    "# Retrieve and store the token\n",
    "get_k8s_token(\"feast-unauthorized-user-sa\")"
   ],
   "id": "a7b3a6578fcf5c3c",
   "outputs": [
    {
     "data": {
      "text/plain": [
       "'Token Retrieved: ***** (hidden for security)'"
      ]
     },
     "execution_count": 21,
     "metadata": {},
     "output_type": "execute_result"
    }
   ],
   "execution_count": 21
  },
  {
   "metadata": {
    "ExecuteTime": {
     "end_time": "2025-03-05T19:09:07.889033Z",
     "start_time": "2025-03-05T19:09:06.020535Z"
    }
   },
   "cell_type": "code",
   "source": [
    "!echo \"Running Feast RBAC test for Unauthorized User...\"\n",
    "from feast.data_source import PushMode\n",
    "from feast import FeatureStore\n",
    "from datetime import datetime\n",
    "import pandas as pd\n",
    "\n",
    "try:\n",
    "\n",
    "    store = FeatureStore(repo_path=\"client\")\n",
    "\n",
    "    print(\"\\n--- Historical features for training ---\")\n",
    "    fetch_historical_features_entity_df(store, for_batch_scoring=False)\n",
    "\n",
    "    print(\"\\n--- Historical features for batch scoring ---\")\n",
    "    fetch_historical_features_entity_df(store, for_batch_scoring=True)\n",
    "\n",
    "    try:\n",
    "        print(\"\\n--- Load features into online store/materialize_incremental ---\")\n",
    "        feature_views= store.list_feature_views()\n",
    "        if not feature_views:\n",
    "            raise PermissionError(\"No access to feature-views or no feature-views available.\")\n",
    "        store.materialize_incremental(end_date=datetime.now())\n",
    "    except PermissionError as pe:\n",
    "        print(f\"Permission error: {pe}\")\n",
    "    except Exception as e:\n",
    "        print(f\"An occurred while performing materialize incremental: {e}\")\n",
    "\n",
    "    print(\"\\n--- Online features ---\")\n",
    "    fetch_online_features(store)\n",
    "\n",
    "    print(\"\\n--- Online features retrieved (instead) through a feature service---\")\n",
    "    fetch_online_features(store, source=\"feature_service\")\n",
    "\n",
    "    print(\n",
    "        \"\\n--- Online features retrieved (using feature service v3, which uses a feature view with a push source---\"\n",
    "    )\n",
    "    fetch_online_features(store, source=\"push\")\n",
    "\n",
    "    print(\"\\n--- Simulate a stream event ingestion of the hourly stats df ---\")\n",
    "    event_df = pd.DataFrame.from_dict(\n",
    "        {\n",
    "            \"driver_id\": [1001],\n",
    "            \"event_timestamp\": [datetime.now()],\n",
    "            \"created\": [datetime.now()],\n",
    "            \"conv_rate\": [1.0],\n",
    "            \"acc_rate\": [1.0],\n",
    "            \"avg_daily_trips\": [1000],\n",
    "        }\n",
    "    )\n",
    "    store.push(\"driver_stats_push_source\", event_df, to=PushMode.ONLINE_AND_OFFLINE)\n",
    "\n",
    "    print(\"\\n--- Online features again with updated values from a stream push---\")\n",
    "    fetch_online_features(store, source=\"push\")\n",
    "\n",
    "except Exception as e:\n",
    "    print(f\"An error occurred: {e}\")\n"
   ],
   "id": "7aea5658325ab008",
   "outputs": [
    {
     "name": "stdout",
     "output_type": "stream",
     "text": [
      "Running Feast RBAC test for Unauthorized User...\r\n",
      "\n",
      "--- Historical features for training ---\n",
      "An error occurred while fetching historical features: Permission error:\n",
      "Permission feast_admin_permission denied execution of ['DESCRIBE'] to FeatureView:driver_hourly_stats: Requires roles ['feast-writer'],Permission feast_user_permission denied execution of ['DESCRIBE'] to FeatureView:driver_hourly_stats: Requires roles ['feast-reader']\n",
      "\n",
      "--- Historical features for batch scoring ---\n",
      "An error occurred while fetching historical features: Permission error:\n",
      "Permission feast_admin_permission denied execution of ['DESCRIBE'] to FeatureView:driver_hourly_stats: Requires roles ['feast-writer'],Permission feast_user_permission denied execution of ['DESCRIBE'] to FeatureView:driver_hourly_stats: Requires roles ['feast-reader']\n",
      "\n",
      "--- Load features into online store/materialize_incremental ---\n",
      "Permission error: No access to feature-views or no feature-views available.\n",
      "\n",
      "--- Online features ---\n",
      "An error occurred while fetching online features: Permission error:\n",
      "Permission feast_admin_permission denied execution of ['DESCRIBE'] to FeatureView:driver_hourly_stats: Requires roles ['feast-writer'],Permission feast_user_permission denied execution of ['DESCRIBE'] to FeatureView:driver_hourly_stats: Requires roles ['feast-reader']\n",
      "\n",
      "--- Online features retrieved (instead) through a feature service---\n",
      "An error occurred while fetching online features: Permission error:\n",
      "Permission feast_admin_permission denied execution of ['DESCRIBE'] to FeatureService:driver_activity_v1: Requires roles ['feast-writer'],Permission feast_user_permission denied execution of ['DESCRIBE'] to FeatureService:driver_activity_v1: Requires roles ['feast-reader']\n",
      "\n",
      "--- Online features retrieved (using feature service v3, which uses a feature view with a push source---\n",
      "An error occurred while fetching online features: Permission error:\n",
      "Permission feast_admin_permission denied execution of ['DESCRIBE'] to FeatureService:driver_activity_v3: Requires roles ['feast-writer'],Permission feast_user_permission denied execution of ['DESCRIBE'] to FeatureService:driver_activity_v3: Requires roles ['feast-reader']\n",
      "\n",
      "--- Simulate a stream event ingestion of the hourly stats df ---\n",
      "An error occurred: Unable to find push source 'driver_stats_push_source'.\n"
     ]
    }
   ],
   "execution_count": 22
  },
  {
   "metadata": {},
   "cell_type": "markdown",
   "source": "## Test Admin Feast User",
   "id": "cb78ced7c37ceb4c"
  },
  {
   "metadata": {
    "ExecuteTime": {
     "end_time": "2025-03-05T19:09:13.893150Z",
     "start_time": "2025-03-05T19:09:13.795101Z"
    }
   },
   "cell_type": "code",
   "source": [
    "# Retrieve and store the token\n",
    "get_k8s_token(\"feast-admin-sa\")"
   ],
   "id": "4f10aae116825619",
   "outputs": [
    {
     "data": {
      "text/plain": [
       "'Token Retrieved: ***** (hidden for security)'"
      ]
     },
     "execution_count": 23,
     "metadata": {},
     "output_type": "execute_result"
    }
   ],
   "execution_count": 23
  },
  {
   "metadata": {
    "ExecuteTime": {
     "end_time": "2025-03-05T19:09:19.483262Z",
     "start_time": "2025-03-05T19:09:17.442142Z"
    }
   },
   "cell_type": "code",
   "source": [
    "!echo \"Running Feast RBAC test for Admin User...\"\n",
    "from feast.data_source import PushMode\n",
    "from feast import FeatureStore\n",
    "from datetime import datetime\n",
    "import pandas as pd\n",
    "\n",
    "try:\n",
    "\n",
    "    store = FeatureStore(repo_path=\"client\")\n",
    "\n",
    "    print(\"\\n--- Historical features for training ---\")\n",
    "    fetch_historical_features_entity_df(store, for_batch_scoring=False)\n",
    "\n",
    "    print(\"\\n--- Historical features for batch scoring ---\")\n",
    "    fetch_historical_features_entity_df(store, for_batch_scoring=True)\n",
    "\n",
    "    try:\n",
    "        print(\"\\n--- Load features into online store/materialize_incremental ---\")\n",
    "        feature_views= store.list_feature_views()\n",
    "        if not feature_views:\n",
    "            raise PermissionError(\"No access to feature-views or no feature-views available.\")\n",
    "        store.materialize_incremental(end_date=datetime.now())\n",
    "    except PermissionError as pe:\n",
    "        print(f\"Permission error: {pe}\")\n",
    "    except Exception as e:\n",
    "        print(f\"An occurred while performing materialize incremental: {e}\")\n",
    "\n",
    "    print(\"\\n--- Online features ---\")\n",
    "    fetch_online_features(store)\n",
    "\n",
    "    print(\"\\n--- Online features retrieved (instead) through a feature service---\")\n",
    "    fetch_online_features(store, source=\"feature_service\")\n",
    "\n",
    "    print(\n",
    "        \"\\n--- Online features retrieved (using feature service v3, which uses a feature view with a push source---\"\n",
    "    )\n",
    "    fetch_online_features(store, source=\"push\")\n",
    "\n",
    "    print(\"\\n--- Simulate a stream event ingestion of the hourly stats df ---\")\n",
    "    event_df = pd.DataFrame.from_dict(\n",
    "        {\n",
    "            \"driver_id\": [1001],\n",
    "            \"event_timestamp\": [datetime.now()],\n",
    "            \"created\": [datetime.now()],\n",
    "            \"conv_rate\": [1.0],\n",
    "            \"acc_rate\": [1.0],\n",
    "            \"avg_daily_trips\": [1000],\n",
    "        }\n",
    "    )\n",
    "    store.push(\"driver_stats_push_source\", event_df, to=PushMode.ONLINE_AND_OFFLINE)\n",
    "\n",
    "    print(\"\\n--- Online features again with updated values from a stream push---\")\n",
    "    fetch_online_features(store, source=\"push\")\n",
    "\n",
    "except Exception as e:\n",
    "    print(f\"An error occurred: {e}\")\n"
   ],
   "id": "7a6133f052b9cfe1",
   "outputs": [
    {
     "name": "stdout",
     "output_type": "stream",
     "text": [
      "Running Feast RBAC test for Admin User...\r\n",
      "\n",
      "--- Historical features for training ---\n",
      "Handling connection for 8081\n",
      "   driver_id           event_timestamp  label_driver_reported_satisfaction  \\\n",
      "0       1001 2021-04-12 10:59:42+00:00                                   1   \n",
      "1       1002 2021-04-12 08:12:10+00:00                                   5   \n",
      "2       1003 2021-04-12 16:40:26+00:00                                   3   \n",
      "\n",
      "   val_to_add  val_to_add_2  conv_rate  acc_rate  avg_daily_trips  \\\n",
      "0           1            10   0.568053  0.225828              614   \n",
      "1           2            20   0.449785  0.860379              686   \n",
      "2           3            30   0.153563  0.300467              725   \n",
      "\n",
      "   conv_rate_plus_val1  conv_rate_plus_val2  \n",
      "0             1.568053            10.568053  \n",
      "1             2.449785            20.449785  \n",
      "2             3.153563            30.153563  \n",
      "\n",
      "--- Historical features for batch scoring ---\n",
      "Handling connection for 8081\n",
      "   driver_id                  event_timestamp  \\\n",
      "0       1002 2025-03-05 19:09:18.159824+00:00   \n",
      "1       1001 2025-03-05 19:09:18.159824+00:00   \n",
      "2       1003 2025-03-05 19:09:18.159824+00:00   \n",
      "\n",
      "   label_driver_reported_satisfaction  val_to_add  val_to_add_2  conv_rate  \\\n",
      "0                                   5           2            20   0.806965   \n",
      "1                                   1           1            10   0.432434   \n",
      "2                                   3           3            30   0.295015   \n",
      "\n",
      "   acc_rate  avg_daily_trips  conv_rate_plus_val1  conv_rate_plus_val2  \n",
      "0  0.290849              144             2.806965            20.806965  \n",
      "1  0.076731              357             1.432434            10.432434  \n",
      "2  0.962840              733             3.295015            30.295015  \n",
      "\n",
      "--- Load features into online store/materialize_incremental ---\n",
      "Materializing \u001B[1m\u001B[32m2\u001B[0m feature views to \u001B[1m\u001B[32m2025-03-05 14:09:18-05:00\u001B[0m into the \u001B[1m\u001B[32mremote\u001B[0m online store.\n",
      "\n",
      "\u001B[1m\u001B[32mdriver_hourly_stats_fresh\u001B[0m from \u001B[1m\u001B[32m2025-03-04 14:09:18-05:00\u001B[0m to \u001B[1m\u001B[32m2025-03-05 14:09:18-05:00\u001B[0m:\n",
      "Handling connection for 8081\n"
     ]
    },
    {
     "name": "stderr",
     "output_type": "stream",
     "text": [
      "  0%|                                                                         | 0/5 [00:00<?, ?it/s]\n"
     ]
    },
    {
     "name": "stdout",
     "output_type": "stream",
     "text": [
      "An occurred while performing materialize incremental: \n",
      "\n",
      "--- Online features ---\n",
      "Handling connection for 8082\n",
      "acc_rate  :  [None, None]\n",
      "conv_rate_plus_val1  :  [None, None]\n",
      "conv_rate_plus_val2  :  [None, None]\n",
      "driver_id  :  [1001, 1002]\n",
      "\n",
      "--- Online features retrieved (instead) through a feature service---\n",
      "Handling connection for 8082\n",
      "conv_rate  :  [None, None]\n",
      "conv_rate_plus_val1  :  [None, None]\n",
      "conv_rate_plus_val2  :  [None, None]\n",
      "driver_id  :  [1001, 1002]\n",
      "\n",
      "--- Online features retrieved (using feature service v3, which uses a feature view with a push source---\n",
      "Handling connection for 8082\n",
      "acc_rate  :  [None, None]\n",
      "avg_daily_trips  :  [None, None]\n",
      "conv_rate  :  [None, None]\n",
      "conv_rate_plus_val1  :  [None, None]\n",
      "conv_rate_plus_val2  :  [None, None]\n",
      "driver_id  :  [1001, 1002]\n",
      "\n",
      "--- Simulate a stream event ingestion of the hourly stats df ---\n",
      "An error occurred: \n"
     ]
    }
   ],
   "execution_count": 24
  },
  {
   "metadata": {},
   "cell_type": "markdown",
   "source": [
    " **Note:**\n",
    "Currently, remote materialization not available in Feast when using the Remote Client so the above error showing in that step.\n",
    "\n",
    " Workaround: Consider using running it from pod like\n",
    "  \n",
    " `kubectl exec deploy/feast-sample-kubernetes-auth -itc online -- bash -c 'feast materialize-incremental $(date -u +\"%Y-%m-%dT%H:%M:%S\")`\n"
   ],
   "id": "e451c30649630b2f"
  },
  {
   "metadata": {},
   "cell_type": "markdown",
   "source": "Terminate the process",
   "id": "e88442b1bae2b327"
  },
  {
   "metadata": {
    "ExecuteTime": {
     "end_time": "2025-03-05T19:09:29.743583Z",
     "start_time": "2025-03-05T19:09:29.734671Z"
    }
   },
   "cell_type": "code",
   "source": [
    "for name, process in port_forward_processes.items():\n",
    "    process.terminate()\n",
    "    print(f\"Stopped port forwarding for {name}\")"
   ],
   "id": "2984d62766da122a",
   "outputs": [
    {
     "name": "stdout",
     "output_type": "stream",
     "text": [
      "Stopped port forwarding for offline_store\n",
      "Stopped port forwarding for online_store\n",
      "Stopped port forwarding for registry\n"
     ]
    }
   ],
   "execution_count": 25
  },
  {
   "metadata": {},
   "cell_type": "markdown",
   "source": "Next :  Uninstall the Operator and all Feast objects -> 03-uninstall.ipynb",
   "id": "38c54e92643e0bda"
  }
 ],
 "metadata": {
  "kernelspec": {
   "display_name": "Python 3",
   "language": "python",
   "name": "python3"
  },
  "language_info": {
   "codemirror_mode": {
    "name": "ipython",
    "version": 2
   },
   "file_extension": ".py",
   "mimetype": "text/x-python",
   "name": "python",
   "nbconvert_exporter": "python",
   "pygments_lexer": "ipython2",
   "version": "2.7.6"
  }
 },
 "nbformat": 4,
 "nbformat_minor": 5
}
