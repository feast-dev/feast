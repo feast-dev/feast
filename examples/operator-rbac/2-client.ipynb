{
 "cells": [
  {
   "metadata": {},
   "cell_type": "markdown",
   "source": [
    "## Feast Client with RBAC\n",
    "### Kubernetes RBAC Authorization\n",
    "\n",
    "## Feast Role-Based Access Control (RBAC) in Kubernetes  \n",
    "\n",
    "Feast **Role-Based Access Control (RBAC)** in Kubernetes supports authentication both **inside a Kubernetes pod** and for **external clients** using the `LOCAL_K8S_TOKEN` environment variable.  \n",
    "\n",
    "\n",
    "### Inside a Kubernetes Pod\n",
    "Feast automatically retrieves the Kubernetes ServiceAccount token from:\n",
    "```\n",
    "/var/run/secrets/kubernetes.io/serviceaccount/token\n",
    "```\n",
    "This means:\n",
    "- No manual configuration is needed inside a pod.\n",
    "- The token is mounted automatically and used for authentication.\n",
    "- Developer just need create the binding with role and service account accordingly.\n",
    "- Code Reference:  \n",
    "[Feast Kubernetes Auth Client Manager (Pod Token Usage)](https://github.com/feast-dev/feast/blob/master/sdk/python/feast/permissions/client/kubernetes_auth_client_manager.py#L15) \n",
    "-  Using a service account from a pod   [Example](https://github.com/feast-dev/feast/blob/master/examples/rbac-remote/client/k8s/)\n",
    "\n",
    "### Outside a Kubernetes Pod (External Clients & Local Testing)\n",
    " \n",
    "If running Feast outside of Kubernetes, authentication requires setting the token manually to the environment variable `LOCAL_K8S_TOKEN` :\n",
    "```sh\n",
    "export LOCAL_K8S_TOKEN=\"your-service-account-token\"\n",
    "```\n",
    "\n",
    "For more details, refer the user guide:  [Kubernetes RBAC Authorization](https://docs.feast.dev/master/getting-started/components/authz_manager#kubernetes-rbac-authorization)  \n"
   ],
   "id": "bb0145c9c1f6ebcc"
  },
  {
   "metadata": {},
   "cell_type": "markdown",
   "source": [
    "## Test Cases\n",
    "| User Type       | ServiceAccount               | RoleBinding Assigned | Expected Behavior in output                                |\n",
    "|----------------|-----------------------------|----------------------|------------------------------------------------------------|\n",
    "| **Read-Only**  | `feast-user-sa`              | `feast-reader`       | Can **read** from the feature store, but **cannot write**. |\n",
    "| **Unauthorized** | `feast-unauthorized-user-sa` | _None_               | **Access should be denied** in `test.py`.                  |\n",
    "| **Admin**      | `feast-admin-sa`             | `feast-writer`       | Can **read and write** feature store data.                 |"
   ],
   "id": "160681ba4ab3c2c5"
  },
  {
   "metadata": {},
   "cell_type": "markdown",
   "source": "###  Feature Store settings",
   "id": "6590c081efb1fe3c"
  },
  {
   "metadata": {
    "ExecuteTime": {
     "end_time": "2025-03-06T18:47:45.151296Z",
     "start_time": "2025-03-06T18:47:45.024854Z"
    }
   },
   "cell_type": "code",
   "source": "!cat client/feature_store.yaml",
   "id": "fac5f67ff391b5cf",
   "outputs": [
    {
     "name": "stdout",
     "output_type": "stream",
     "text": [
      "project: feast_rbac\r\n",
      "provider: local\r\n",
      "offline_store:\r\n",
      "    host: localhost\r\n",
      "    type: remote\r\n",
      "    port: 8081\r\n",
      "online_store:\r\n",
      "    path: http://localhost:8082\r\n",
      "    type: remote\r\n",
      "registry:\r\n",
      "    path: localhost:8083\r\n",
      "    registry_type: remote\r\n",
      "auth:\r\n",
      "    type: kubernetes\r\n",
      "entity_key_serialization_version: 3\r\n"
     ]
    }
   ],
   "execution_count": 1
  },
  {
   "metadata": {},
   "cell_type": "markdown",
   "source": "**The Operator client feature store ConfigMap** containing the `feature_store.yaml `settings. We can retrieve it and port froward to local as we are testing locally.",
   "id": "84f73e09711bff9f"
  },
  {
   "metadata": {
    "ExecuteTime": {
     "end_time": "2025-03-06T18:46:36.029308Z",
     "start_time": "2025-03-06T18:46:35.712532Z"
    }
   },
   "cell_type": "code",
   "source": "!kubectl get configmap feast-sample-kubernetes-auth-client -n feast -o jsonpath='{.data.feature_store\\.yaml}' ",
   "id": "456fb4df46f32380",
   "outputs": [
    {
     "name": "stdout",
     "output_type": "stream",
     "text": [
      "project: feast_rbac\r\n",
      "provider: local\r\n",
      "offline_store:\r\n",
      "    host: feast-sample-kubernetes-auth-offline.feast.svc.cluster.local\r\n",
      "    type: remote\r\n",
      "    port: 80\r\n",
      "online_store:\r\n",
      "    path: http://feast-sample-kubernetes-auth-online.feast.svc.cluster.local:80\r\n",
      "    type: remote\r\n",
      "registry:\r\n",
      "    path: feast-sample-kubernetes-auth-registry.feast.svc.cluster.local:80\r\n",
      "    registry_type: remote\r\n",
      "auth:\r\n",
      "    type: kubernetes\r\n",
      "entity_key_serialization_version: 3\r\n"
     ]
    }
   ],
   "execution_count": 34
  },
  {
   "metadata": {},
   "cell_type": "markdown",
   "source": "### The function below is executed to support the preparation of client testing.",
   "id": "ae61f4dca31f3466"
  },
  {
   "metadata": {},
   "cell_type": "markdown",
   "source": "Run Port Forwarding for All Services for local testing ",
   "id": "28636825ae8f676d"
  },
  {
   "metadata": {
    "ExecuteTime": {
     "end_time": "2025-03-06T18:47:55.237205Z",
     "start_time": "2025-03-06T18:47:55.226143Z"
    }
   },
   "cell_type": "code",
   "source": [
    "import subprocess\n",
    "\n",
    "# Define services and their local ports\n",
    "services = {\n",
    "    \"offline_store\": (\"feast-sample-kubernetes-auth-offline\", 8081),\n",
    "    \"online_store\": (\"feast-sample-kubernetes-auth-online\", 8082),\n",
    "    \"registry\": (\"feast-sample-kubernetes-auth-registry\", 8083),\n",
    "}\n",
    "\n",
    "# Start port-forwarding for each service\n",
    "port_forward_processes = {}\n",
    "for name, (service, local_port) in services.items():\n",
    "    cmd = f\"kubectl port-forward svc/{service} -n feast {local_port}:80\"\n",
    "    process = subprocess.Popen(cmd, shell=True)\n",
    "    port_forward_processes[name] = process\n",
    "    print(f\"Port forwarding {service} -> localhost:{local_port}\")"
   ],
   "id": "c014248190863e8a",
   "outputs": [
    {
     "name": "stdout",
     "output_type": "stream",
     "text": [
      "Port forwarding feast-sample-kubernetes-auth-offline -> localhost:8081\n",
      "Port forwarding feast-sample-kubernetes-auth-online -> localhost:8082\n",
      "Port forwarding feast-sample-kubernetes-auth-registry -> localhost:8083\n"
     ]
    }
   ],
   "execution_count": 2
  },
  {
   "metadata": {},
   "cell_type": "markdown",
   "source": "Function to retrieve a Kubernetes service account token and set it as an environment variable",
   "id": "c0eccef6379f442c"
  },
  {
   "metadata": {
    "ExecuteTime": {
     "end_time": "2025-03-06T18:48:00.150752Z",
     "start_time": "2025-03-06T18:48:00.143370Z"
    }
   },
   "cell_type": "code",
   "source": [
    "import subprocess\n",
    "import os\n",
    "\n",
    "def get_k8s_token(service_account):\n",
    "    namespace = \"feast\"\n",
    "\n",
    "    if not service_account:\n",
    "        raise ValueError(\"Service account name is required.\")\n",
    "\n",
    "    result = subprocess.run(\n",
    "        [\"kubectl\", \"create\", \"token\", service_account, \"-n\", namespace],\n",
    "        capture_output=True, text=True, check=True\n",
    "    )\n",
    "\n",
    "    token = result.stdout.strip()\n",
    "\n",
    "    if not token:\n",
    "        return None  # Silently return None if token retrieval fails\n",
    "\n",
    "    os.environ[\"LOCAL_K8S_TOKEN\"] = token\n",
    "    return \"Token Retrieved: ***** (hidden for security)\"\n"
   ],
   "id": "70bdbcd7b3fe44",
   "outputs": [],
   "execution_count": 3
  },
  {
   "metadata": {},
   "cell_type": "markdown",
   "source": [
    "**Generating training data**. The following test functions were copied from the `test_workflow.py` template but we added `try` blocks to print only \n",
    "the relevant error messages, since we expect to receive errors from the permission enforcement modules."
   ],
   "id": "8c9e27ec4ed8ca2c"
  },
  {
   "metadata": {
    "ExecuteTime": {
     "end_time": "2025-03-06T20:16:04.254201Z",
     "start_time": "2025-03-06T20:16:04.245605Z"
    }
   },
   "cell_type": "code",
   "source": [
    "from feast import FeatureStore\n",
    "from feast.data_source import PushMode\n",
    "from datetime import datetime\n",
    "import pandas as pd\n",
    "\n",
    "# Initialize Feature Store\n",
    "store = FeatureStore(repo_path=\"client\")\n",
    "\n",
    "def fetch_historical_features_entity_df(store: FeatureStore, for_batch_scoring: bool):\n",
    "    \"\"\"Fetch historical features for training or batch scoring.\"\"\"\n",
    "    try:\n",
    "        entity_df = pd.DataFrame.from_dict(\n",
    "            {\n",
    "                \"driver_id\": [1001, 1002, 1003],\n",
    "                \"event_timestamp\": [\n",
    "                    datetime(2021, 4, 12, 10, 59, 42),\n",
    "                    datetime(2021, 4, 12, 8, 12, 10),\n",
    "                    datetime(2021, 4, 12, 16, 40, 26),\n",
    "                ],\n",
    "                \"label_driver_reported_satisfaction\": [1, 5, 3],\n",
    "                \"val_to_add\": [1, 2, 3],\n",
    "                \"val_to_add_2\": [10, 20, 30],\n",
    "            }\n",
    "        )\n",
    "        if for_batch_scoring:\n",
    "            entity_df[\"event_timestamp\"] = pd.to_datetime(\"now\", utc=True)\n",
    "\n",
    "        training_df = store.get_historical_features(\n",
    "            entity_df=entity_df,\n",
    "            features=[\n",
    "                \"driver_hourly_stats:conv_rate\",\n",
    "                \"driver_hourly_stats:acc_rate\",\n",
    "                \"driver_hourly_stats:avg_daily_trips\",\n",
    "                \"transformed_conv_rate:conv_rate_plus_val1\",\n",
    "                \"transformed_conv_rate:conv_rate_plus_val2\",\n",
    "            ],\n",
    "        ).to_df()\n",
    "        print(f\"Successfully fetched {'batch scoring' if for_batch_scoring else 'training'} historical features:\\n\", training_df.head())\n",
    "\n",
    "    except PermissionError:\n",
    "        print(\"\\n*** PERMISSION DENIED *** Cannot fetch historical features.\")\n",
    "    except Exception as e:\n",
    "        print(f\"Unexpected error while fetching historical features: {e}\")\n",
    "\n",
    "def fetch_online_features(store: FeatureStore, source: str = \"\"):\n",
    "    \"\"\"Fetch online features from the feature store.\"\"\"\n",
    "    try:\n",
    "        entity_rows = [\n",
    "            {\n",
    "                \"driver_id\": 1001,\n",
    "                \"val_to_add\": 1000,\n",
    "                \"val_to_add_2\": 2000,\n",
    "            },\n",
    "            {\n",
    "                \"driver_id\": 1002,\n",
    "                \"val_to_add\": 1001,\n",
    "                \"val_to_add_2\": 2002,\n",
    "            },\n",
    "        ]\n",
    "        if source == \"feature_service\":\n",
    "            features_to_fetch = store.get_feature_service(\"driver_activity_v1\")\n",
    "        elif source == \"push\":\n",
    "            features_to_fetch = store.get_feature_service(\"driver_activity_v3\")\n",
    "        else:\n",
    "            features_to_fetch = [\n",
    "                \"driver_hourly_stats:acc_rate\",\n",
    "                \"transformed_conv_rate:conv_rate_plus_val1\",\n",
    "                \"transformed_conv_rate:conv_rate_plus_val2\",\n",
    "            ]\n",
    "\n",
    "        returned_features = store.get_online_features(\n",
    "            features=features_to_fetch,\n",
    "            entity_rows=entity_rows,\n",
    "        ).to_dict()\n",
    "\n",
    "        print(f\"Successfully fetched online features {'via feature service' if source else 'directly'}:\\n\")\n",
    "        for key, value in sorted(returned_features.items()):\n",
    "            print(f\"{key} : {value}\")\n",
    "\n",
    "    except PermissionError:\n",
    "        print(\"\\n*** PERMISSION DENIED *** Cannot fetch online features.\")\n",
    "    except Exception as e:\n",
    "        print(f\"Unexpected error while fetching online features: {e}\")\n",
    "\n",
    "def check_permissions():\n",
    "    \"\"\"Check user role, test various Feast operations,.\"\"\"\n",
    "\n",
    "    feature_views = []\n",
    "\n",
    "    # Step 1: List feature views\n",
    "    print(\"\\n--- List feature views ---\")\n",
    "    try:\n",
    "        feature_views = store.list_feature_views()\n",
    "        if not feature_views:\n",
    "            print(\"No feature views found. You might not have access or they haven't been created.\")\n",
    "            has_feature_view_access = False\n",
    "        else:\n",
    "            print(f\"Successfully listed {len(feature_views)} feature views:\")\n",
    "            for fv in feature_views:\n",
    "                print(f\"  - {fv.name}\")\n",
    "\n",
    "    except PermissionError:\n",
    "        print(\"\\n*** PERMISSION DENIED *** Cannot list feature views.\")\n",
    "        has_feature_view_access = False\n",
    "    except Exception as e:\n",
    "        print(f\"Unexpected error listing feature views: {e}\")\n",
    "        has_feature_view_access = False\n",
    "\n",
    "        # Step 2: Fetch Historical Features\n",
    "    print(\"\\n--- Fetching Historical Features for Training ---\")\n",
    "    fetch_historical_features_entity_df(store, for_batch_scoring=False)\n",
    "\n",
    "    print(\"\\n--- Fetching Historical Features for Batch Scoring ---\")\n",
    "    fetch_historical_features_entity_df(store, for_batch_scoring=True)\n",
    "\n",
    "    # Step 3: Apply Feature Store\n",
    "    print(\"\\n--- Write to Feature Store ---\")\n",
    "    try:\n",
    "        store.apply(feature_views)\n",
    "        print(\"User has write access to the feature store.\")\n",
    "    except PermissionError:\n",
    "        print(\"\\n*** PERMISSION DENIED *** User lacks permission to modify the feature store.\")\n",
    "    except Exception as e:\n",
    "        print(f\"Unexpected error testing write access: {e}\")\n",
    "\n",
    "    # Step 4: Fetch Online Features\n",
    "    print(\"\\n--- Fetching Online Features ---\")\n",
    "    fetch_online_features(store)\n",
    "\n",
    "    print(\"\\n--- Fetching Online Features via Feature Service ---\")\n",
    "    fetch_online_features(store, source=\"feature_service\")\n",
    "\n",
    "    print(\"\\n--- Fetching Online Features via Push Source ---\")\n",
    "    fetch_online_features(store, source=\"push\")\n",
    "\n",
    "    print(\"\\n--- Performing Push Source ---\")\n",
    "    # Step 5: Simulate Event Push (Streaming Ingestion)\n",
    "    try:\n",
    "        event_df = pd.DataFrame.from_dict(\n",
    "            {\n",
    "                \"driver_id\": [1001],\n",
    "                \"event_timestamp\": [datetime.now()],\n",
    "                \"created\": [datetime.now()],\n",
    "                \"conv_rate\": [1.0],\n",
    "                \"acc_rate\": [1.0],\n",
    "                \"avg_daily_trips\": [1000],\n",
    "            }\n",
    "        )\n",
    "        store.push(\"driver_stats_push_source\", event_df, to=PushMode.ONLINE_AND_OFFLINE)\n",
    "        print(\"Successfully pushed a test event.\")\n",
    "    except PermissionError:\n",
    "        print(\"\\n*** PERMISSION DENIED *** Cannot push event (no write access).\")\n",
    "    except Exception as e:\n",
    "        print(f\"Unexpected error while pushing event: {e}\")\n"
   ],
   "id": "934963c5f6b18930",
   "outputs": [],
   "execution_count": 51
  },
  {
   "metadata": {},
   "cell_type": "markdown",
   "source": [
    "### Test Read-Only Feast User \n",
    "**Step 1: Set the Token**"
   ],
   "id": "84e3f83699b8d83"
  },
  {
   "metadata": {
    "ExecuteTime": {
     "end_time": "2025-03-06T20:12:44.771268Z",
     "start_time": "2025-03-06T20:12:44.691353Z"
    }
   },
   "cell_type": "code",
   "source": "get_k8s_token(\"feast-user-sa\")",
   "id": "f1fe8baa02d27d38",
   "outputs": [
    {
     "data": {
      "text/plain": [
       "'Token Retrieved: ***** (hidden for security)'"
      ]
     },
     "execution_count": 48,
     "metadata": {},
     "output_type": "execute_result"
    }
   ],
   "execution_count": 48
  },
  {
   "metadata": {},
   "cell_type": "markdown",
   "source": "**Step 2: Test misc functions from offline, online, materialize_incremental, and others**",
   "id": "140c909fa8bcc6ab"
  },
  {
   "metadata": {
    "ExecuteTime": {
     "end_time": "2025-03-06T20:16:16.680582Z",
     "start_time": "2025-03-06T20:16:14.930480Z"
    }
   },
   "cell_type": "code",
   "source": [
    "# Run the permission check function\n",
    "check_permissions()\n"
   ],
   "id": "14b7ad38368db767",
   "outputs": [
    {
     "name": "stdout",
     "output_type": "stream",
     "text": [
      "\n",
      "--- List feature views ---\n",
      "Successfully listed 2 feature views:\n",
      "  - driver_hourly_stats\n",
      "  - driver_hourly_stats_fresh\n",
      "\n",
      "--- Fetching Historical Features for Training ---\n",
      "Handling connection for 8081\n",
      "Successfully fetched training historical features:\n",
      "    driver_id           event_timestamp  label_driver_reported_satisfaction  \\\n",
      "0       1001 2021-04-12 10:59:42+00:00                                   1   \n",
      "1       1002 2021-04-12 08:12:10+00:00                                   5   \n",
      "2       1003 2021-04-12 16:40:26+00:00                                   3   \n",
      "\n",
      "   val_to_add  val_to_add_2  conv_rate  acc_rate  avg_daily_trips  \\\n",
      "0           1            10   0.677818  0.453707              193   \n",
      "1           2            20   0.328160  0.900565              929   \n",
      "2           3            30   0.787191  0.958963              571   \n",
      "\n",
      "   conv_rate_plus_val1  conv_rate_plus_val2  \n",
      "0             1.677818            10.677818  \n",
      "1             2.328160            20.328160  \n",
      "2             3.787191            30.787191  \n",
      "\n",
      "--- Fetching Historical Features for Batch Scoring ---\n",
      "Handling connection for 8081\n",
      "Successfully fetched batch scoring historical features:\n",
      "    driver_id                  event_timestamp  \\\n",
      "0       1001 2025-03-06 20:16:15.556223+00:00   \n",
      "1       1002 2025-03-06 20:16:15.556223+00:00   \n",
      "2       1003 2025-03-06 20:16:15.556223+00:00   \n",
      "\n",
      "   label_driver_reported_satisfaction  val_to_add  val_to_add_2  conv_rate  \\\n",
      "0                                   1           1            10   0.782836   \n",
      "1                                   5           2            20   0.731948   \n",
      "2                                   3           3            30   0.613211   \n",
      "\n",
      "   acc_rate  avg_daily_trips  conv_rate_plus_val1  conv_rate_plus_val2  \n",
      "0  0.729726              652             1.782836            10.782836  \n",
      "1  0.384902              902             2.731948            20.731948  \n",
      "2  0.075386              101             3.613211            30.613211  \n",
      "\n",
      "--- Write to Feature Store ---\n",
      "\n",
      "*** PERMISSION DENIED *** User lacks permission to modify the feature store.\n",
      "\n",
      "--- Fetching Online Features ---\n",
      "Handling connection for 8082\n",
      "Successfully fetched online features directly:\n",
      "\n",
      "acc_rate : [None, None]\n",
      "conv_rate_plus_val1 : [None, None]\n",
      "conv_rate_plus_val2 : [None, None]\n",
      "driver_id : [1001, 1002]\n",
      "\n",
      "--- Fetching Online Features via Feature Service ---\n",
      "Handling connection for 8082\n",
      "Successfully fetched online features via feature service:\n",
      "\n",
      "conv_rate : [None, None]\n",
      "conv_rate_plus_val1 : [None, None]\n",
      "conv_rate_plus_val2 : [None, None]\n",
      "driver_id : [1001, 1002]\n",
      "\n",
      "--- Fetching Online Features via Push Source ---\n",
      "Handling connection for 8082\n",
      "Successfully fetched online features via feature service:\n",
      "\n",
      "acc_rate : [None, None]\n",
      "avg_daily_trips : [None, None]\n",
      "conv_rate : [None, None]\n",
      "conv_rate_plus_val1 : [None, None]\n",
      "conv_rate_plus_val2 : [None, None]\n",
      "driver_id : [1001, 1002]\n",
      "\n",
      "--- Performing Push Source ---\n",
      "Unexpected error while pushing event: \n"
     ]
    }
   ],
   "execution_count": 53
  },
  {
   "metadata": {},
   "cell_type": "markdown",
   "source": "### Test Unauthorized Feast User ",
   "id": "e5e63a172da6d6d7"
  },
  {
   "metadata": {
    "ExecuteTime": {
     "end_time": "2025-03-06T20:16:38.487573Z",
     "start_time": "2025-03-06T20:16:38.351889Z"
    }
   },
   "cell_type": "code",
   "source": [
    "# Retrieve and store the token\n",
    "get_k8s_token(\"feast-unauthorized-user-sa\")"
   ],
   "id": "a7b3a6578fcf5c3c",
   "outputs": [
    {
     "data": {
      "text/plain": [
       "'Token Retrieved: ***** (hidden for security)'"
      ]
     },
     "execution_count": 54,
     "metadata": {},
     "output_type": "execute_result"
    }
   ],
   "execution_count": 54
  },
  {
   "metadata": {
    "ExecuteTime": {
     "end_time": "2025-03-06T20:16:41.522132Z",
     "start_time": "2025-03-06T20:16:41.254668Z"
    }
   },
   "cell_type": "code",
   "source": "check_permissions()",
   "id": "7aea5658325ab008",
   "outputs": [
    {
     "name": "stdout",
     "output_type": "stream",
     "text": [
      "\n",
      "--- List feature views ---\n",
      "No feature views found. You might not have access or they haven't been created.\n",
      "\n",
      "--- Fetching Historical Features for Training ---\n",
      "\n",
      "*** PERMISSION DENIED *** Cannot fetch historical features.\n",
      "\n",
      "--- Fetching Historical Features for Batch Scoring ---\n",
      "\n",
      "*** PERMISSION DENIED *** Cannot fetch historical features.\n",
      "\n",
      "--- Write to Feature Store ---\n",
      "\n",
      "*** PERMISSION DENIED *** User lacks permission to modify the feature store.\n",
      "\n",
      "--- Fetching Online Features ---\n",
      "\n",
      "*** PERMISSION DENIED *** Cannot fetch online features.\n",
      "\n",
      "--- Fetching Online Features via Feature Service ---\n",
      "\n",
      "*** PERMISSION DENIED *** Cannot fetch online features.\n",
      "\n",
      "--- Fetching Online Features via Push Source ---\n",
      "\n",
      "*** PERMISSION DENIED *** Cannot fetch online features.\n",
      "\n",
      "--- Performing Push Source ---\n",
      "Unexpected error while pushing event: Unable to find push source 'driver_stats_push_source'.\n"
     ]
    }
   ],
   "execution_count": 55
  },
  {
   "metadata": {},
   "cell_type": "markdown",
   "source": "## Test Admin Feast User",
   "id": "cb78ced7c37ceb4c"
  },
  {
   "metadata": {
    "ExecuteTime": {
     "end_time": "2025-03-06T20:17:02.206503Z",
     "start_time": "2025-03-06T20:17:02.137409Z"
    }
   },
   "cell_type": "code",
   "source": [
    "# Retrieve and store the token\n",
    "get_k8s_token(\"feast-admin-sa\")"
   ],
   "id": "4f10aae116825619",
   "outputs": [
    {
     "data": {
      "text/plain": [
       "'Token Retrieved: ***** (hidden for security)'"
      ]
     },
     "execution_count": 56,
     "metadata": {},
     "output_type": "execute_result"
    }
   ],
   "execution_count": 56
  },
  {
   "metadata": {
    "ExecuteTime": {
     "end_time": "2025-03-06T20:17:07.799782Z",
     "start_time": "2025-03-06T20:17:05.946696Z"
    }
   },
   "cell_type": "code",
   "source": "check_permissions()",
   "id": "7a6133f052b9cfe1",
   "outputs": [
    {
     "name": "stdout",
     "output_type": "stream",
     "text": [
      "\n",
      "--- List feature views ---\n",
      "Successfully listed 2 feature views:\n",
      "  - driver_hourly_stats\n",
      "  - driver_hourly_stats_fresh\n",
      "\n",
      "--- Fetching Historical Features for Training ---\n",
      "Handling connection for 8081\n",
      "Successfully fetched training historical features:\n",
      "    driver_id           event_timestamp  label_driver_reported_satisfaction  \\\n",
      "0       1001 2021-04-12 10:59:42+00:00                                   1   \n",
      "1       1002 2021-04-12 08:12:10+00:00                                   5   \n",
      "2       1003 2021-04-12 16:40:26+00:00                                   3   \n",
      "\n",
      "   val_to_add  val_to_add_2  conv_rate  acc_rate  avg_daily_trips  \\\n",
      "0           1            10   0.677818  0.453707              193   \n",
      "1           2            20   0.328160  0.900565              929   \n",
      "2           3            30   0.787191  0.958963              571   \n",
      "\n",
      "   conv_rate_plus_val1  conv_rate_plus_val2  \n",
      "0             1.677818            10.677818  \n",
      "1             2.328160            20.328160  \n",
      "2             3.787191            30.787191  \n",
      "\n",
      "--- Fetching Historical Features for Batch Scoring ---\n",
      "Handling connection for 8081\n",
      "Successfully fetched batch scoring historical features:\n",
      "    driver_id                  event_timestamp  \\\n",
      "0       1001 2025-03-06 20:17:06.566035+00:00   \n",
      "1       1002 2025-03-06 20:17:06.566035+00:00   \n",
      "2       1003 2025-03-06 20:17:06.566035+00:00   \n",
      "\n",
      "   label_driver_reported_satisfaction  val_to_add  val_to_add_2  conv_rate  \\\n",
      "0                                   1           1            10   0.782836   \n",
      "1                                   5           2            20   0.731948   \n",
      "2                                   3           3            30   0.613211   \n",
      "\n",
      "   acc_rate  avg_daily_trips  conv_rate_plus_val1  conv_rate_plus_val2  \n",
      "0  0.729726              652             1.782836            10.782836  \n",
      "1  0.384902              902             2.731948            20.731948  \n",
      "2  0.075386              101             3.613211            30.613211  \n",
      "\n",
      "--- Write to Feature Store ---\n",
      "User has write access to the feature store.\n",
      "\n",
      "--- Fetching Online Features ---\n",
      "Handling connection for 8082\n",
      "Successfully fetched online features directly:\n",
      "\n",
      "acc_rate : [None, None]\n",
      "conv_rate_plus_val1 : [None, None]\n",
      "conv_rate_plus_val2 : [None, None]\n",
      "driver_id : [1001, 1002]\n",
      "\n",
      "--- Fetching Online Features via Feature Service ---\n",
      "Handling connection for 8082\n",
      "Successfully fetched online features via feature service:\n",
      "\n",
      "conv_rate : [None, None]\n",
      "conv_rate_plus_val1 : [None, None]\n",
      "conv_rate_plus_val2 : [None, None]\n",
      "driver_id : [1001, 1002]\n",
      "\n",
      "--- Fetching Online Features via Push Source ---\n",
      "Handling connection for 8082\n",
      "Successfully fetched online features via feature service:\n",
      "\n",
      "acc_rate : [None, None]\n",
      "avg_daily_trips : [None, None]\n",
      "conv_rate : [None, None]\n",
      "conv_rate_plus_val1 : [None, None]\n",
      "conv_rate_plus_val2 : [None, None]\n",
      "driver_id : [1001, 1002]\n",
      "\n",
      "--- Performing Push Source ---\n",
      "Unexpected error while pushing event: \n"
     ]
    }
   ],
   "execution_count": 57
  },
  {
   "metadata": {},
   "cell_type": "markdown",
   "source": [
    " **Note:**\n",
    "**Currently, remote materialization not available in Feast when using the Remote Client**\n",
    "**Workaround: Consider using running it from pod like**\n",
    "  \n",
    " `kubectl exec deploy/feast-sample-kubernetes-auth -itc online -- bash -c 'feast materialize-incremental $(date -u +\"%Y-%m-%dT%H:%M:%S\")`\n"
   ],
   "id": "e451c30649630b2f"
  },
  {
   "metadata": {},
   "cell_type": "markdown",
   "source": "Terminate the process",
   "id": "e88442b1bae2b327"
  },
  {
   "metadata": {
    "ExecuteTime": {
     "end_time": "2025-03-05T19:09:29.743583Z",
     "start_time": "2025-03-05T19:09:29.734671Z"
    }
   },
   "cell_type": "code",
   "source": [
    "for name, process in port_forward_processes.items():\n",
    "    process.terminate()\n",
    "    print(f\"Stopped port forwarding for {name}\")"
   ],
   "id": "2984d62766da122a",
   "outputs": [
    {
     "name": "stdout",
     "output_type": "stream",
     "text": [
      "Stopped port forwarding for offline_store\n",
      "Stopped port forwarding for online_store\n",
      "Stopped port forwarding for registry\n"
     ]
    }
   ],
   "execution_count": 25
  },
  {
   "metadata": {},
   "cell_type": "markdown",
   "source": "[Next: Uninstall the Operator and all Feast objects](./03-uninstall.ipynb)",
   "id": "38c54e92643e0bda"
  }
 ],
 "metadata": {
  "kernelspec": {
   "display_name": "Python 3",
   "language": "python",
   "name": "python3"
  },
  "language_info": {
   "codemirror_mode": {
    "name": "ipython",
    "version": 2
   },
   "file_extension": ".py",
   "mimetype": "text/x-python",
   "name": "python",
   "nbconvert_exporter": "python",
   "pygments_lexer": "ipython2",
   "version": "2.7.6"
  }
 },
 "nbformat": 4,
 "nbformat_minor": 5
}
