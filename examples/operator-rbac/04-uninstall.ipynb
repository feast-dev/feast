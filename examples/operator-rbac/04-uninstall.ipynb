{
 "cells": [
  {
   "metadata": {},
   "cell_type": "code",
   "outputs": [],
   "execution_count": null,
   "source": "## Uninstall",
   "id": "bd1a081f3f7f5752"
  },
  {
   "metadata": {},
   "cell_type": "markdown",
   "source": "### Uninstall the Operator and Feast Instance",
   "id": "1175f3d6c5ee9bf0"
  },
  {
   "metadata": {
    "ExecuteTime": {
     "end_time": "2025-03-14T14:45:22.053112Z",
     "start_time": "2025-03-14T14:45:15.816729Z"
    }
   },
   "cell_type": "code",
   "source": [
    "!kubectl delete -f ../../infra/feast-operator/config/samples/v1alpha1_featurestore_kubernetes_auth.yaml\n",
    "!kubectl delete -f ../../infra/feast-operator/dist/install.yaml"
   ],
   "id": "f4b4c6fa4a1fe0a8",
   "outputs": [
    {
     "name": "stdout",
     "output_type": "stream",
     "text": [
      "featurestore.feast.dev \"sample-kubernetes-auth\" deleted\r\n",
      "namespace \"feast-operator-system\" deleted\r\n",
      "customresourcedefinition.apiextensions.k8s.io \"featurestores.feast.dev\" deleted\r\n",
      "serviceaccount \"feast-operator-controller-manager\" deleted\r\n",
      "role.rbac.authorization.k8s.io \"feast-operator-leader-election-role\" deleted\r\n",
      "clusterrole.rbac.authorization.k8s.io \"feast-operator-featurestore-editor-role\" deleted\r\n",
      "clusterrole.rbac.authorization.k8s.io \"feast-operator-featurestore-viewer-role\" deleted\r\n",
      "clusterrole.rbac.authorization.k8s.io \"feast-operator-manager-role\" deleted\r\n",
      "clusterrole.rbac.authorization.k8s.io \"feast-operator-metrics-auth-role\" deleted\r\n",
      "clusterrole.rbac.authorization.k8s.io \"feast-operator-metrics-reader\" deleted\r\n",
      "rolebinding.rbac.authorization.k8s.io \"feast-operator-leader-election-rolebinding\" deleted\r\n",
      "clusterrolebinding.rbac.authorization.k8s.io \"feast-operator-manager-rolebinding\" deleted\r\n",
      "clusterrolebinding.rbac.authorization.k8s.io \"feast-operator-metrics-auth-rolebinding\" deleted\r\n",
      "service \"feast-operator-controller-manager-metrics-service\" deleted\r\n",
      "deployment.apps \"feast-operator-controller-manager\" deleted\r\n"
     ]
    }
   ],
   "execution_count": 4
  },
  {
   "metadata": {},
   "cell_type": "markdown",
   "source": "## Delete RoleBindings and ServiceAccounts\n",
   "id": "2a2aa884aeddfb99"
  },
  {
   "metadata": {
    "ExecuteTime": {
     "end_time": "2025-03-14T14:45:47.419179Z",
     "start_time": "2025-03-14T14:45:46.325817Z"
    }
   },
   "cell_type": "code",
   "source": [
    "!echo \"Deleting RoleBindings...\"\n",
    "!kubectl delete rolebinding feast-user-rolebinding -n feast --ignore-not-found\n",
    "!kubectl delete rolebinding feast-admin-rolebinding -n feast --ignore-not-found\n",
    "\n",
    "!echo \"Deleting ServiceAccounts...\"\n",
    "!kubectl delete serviceaccount feast-user-sa -n feast --ignore-not-found\n",
    "!kubectl delete serviceaccount feast-admin-sa -n feast --ignore-not-found\n",
    "!kubectl delete serviceaccount feast-unauthorized-user-sa -n feast --ignore-not-found\n"
   ],
   "id": "6ce30879d64bbd06",
   "outputs": [
    {
     "name": "stdout",
     "output_type": "stream",
     "text": [
      "Deleting RoleBindings...\r\n",
      "rolebinding.rbac.authorization.k8s.io \"feast-user-rolebinding\" deleted\r\n",
      "rolebinding.rbac.authorization.k8s.io \"feast-admin-rolebinding\" deleted\r\n",
      "Deleting ServiceAccounts...\r\n",
      "serviceaccount \"feast-user-sa\" deleted\r\n",
      "serviceaccount \"feast-admin-sa\" deleted\r\n",
      "serviceaccount \"feast-unauthorized-user-sa\" deleted\r\n"
     ]
    }
   ],
   "execution_count": 5
  },
  {
   "metadata": {},
   "cell_type": "markdown",
   "source": "### Delete Client Example Deployments",
   "id": "fa7a79763774f770"
  },
  {
   "metadata": {
    "ExecuteTime": {
     "end_time": "2025-03-14T14:46:05.998191Z",
     "start_time": "2025-03-14T14:46:05.344334Z"
    }
   },
   "cell_type": "code",
   "source": [
    "!kubectl delete -f client/admin_user_deployment.yaml\n",
    "!kubectl delete -f client/readonly_user_deployment.yaml\n",
    "!kubectl delete -f client/unauthorized_user_deployment.yaml\n",
    "!kubectl delete configmap client-feature-repo-config -n feast"
   ],
   "id": "7bc23b3eb0153c75",
   "outputs": [
    {
     "name": "stdout",
     "output_type": "stream",
     "text": [
      "deployment.apps \"client-admin-user\" deleted\r\n",
      "deployment.apps \"client-readonly-user\" deleted\r\n",
      "deployment.apps \"client-unauthorized-user\" deleted\r\n",
      "Error from server (NotFound): configmaps \"client-feature-repo-config\" not found\r\n"
     ]
    }
   ],
   "execution_count": 6
  },
  {
   "metadata": {},
   "cell_type": "markdown",
   "source": "### Validate all Objects Removed from Namespace and Delete the Namespace",
   "id": "ce8ef7c832d146dd"
  },
  {
   "metadata": {
    "ExecuteTime": {
     "end_time": "2025-03-14T14:46:14.626703Z",
     "start_time": "2025-03-14T14:46:14.429984Z"
    }
   },
   "cell_type": "code",
   "source": "!kubectl get all -n feast\n",
   "id": "587eb85352a8a353",
   "outputs": [
    {
     "name": "stdout",
     "output_type": "stream",
     "text": [
      "No resources found in feast namespace.\r\n"
     ]
    }
   ],
   "execution_count": 7
  },
  {
   "metadata": {
    "ExecuteTime": {
     "end_time": "2025-03-14T14:46:26.127988Z",
     "start_time": "2025-03-14T14:46:20.865605Z"
    }
   },
   "cell_type": "code",
   "source": "!kubectl delete namespace feast",
   "id": "7a0ce2d9e4a92828",
   "outputs": [
    {
     "name": "stdout",
     "output_type": "stream",
     "text": [
      "namespace \"feast\" deleted\r\n"
     ]
    }
   ],
   "execution_count": 8
  }
 ],
 "metadata": {
  "kernelspec": {
   "display_name": "Python 3",
   "language": "python",
   "name": "python3"
  },
  "language_info": {
   "codemirror_mode": {
    "name": "ipython",
    "version": 2
   },
   "file_extension": ".py",
   "mimetype": "text/x-python",
   "name": "python",
   "nbconvert_exporter": "python",
   "pygments_lexer": "ipython2",
   "version": "2.7.6"
  }
 },
 "nbformat": 4,
 "nbformat_minor": 5
}
