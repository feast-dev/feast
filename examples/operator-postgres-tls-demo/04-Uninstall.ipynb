{
 "cells": [
  {
   "cell_type": "markdown",
   "metadata": {},
   "source": [
    "## Uninstall the Operator and all Feast related objects"
   ]
  },
  {
   "cell_type": "code",
   "execution_count": null,
   "metadata": {},
   "outputs": [],
   "source": [
    "!kubectl delete -f ../../infra/feast-operator/config/samples/v1alpha1_featurestore_postgres_db_volumes_ssl.yaml\n",
    "# !kubectl delete -f ../../infra/feast-operator/dist/install.yaml"
   ]
  },
  {
   "cell_type": "markdown",
   "metadata": {},
   "source": [
    "## Uninstall the Postgresql using helm"
   ]
  },
  {
   "cell_type": "code",
   "execution_count": null,
   "metadata": {},
   "outputs": [],
   "source": [
    "# Uninstall the Helm release\n",
    "!helm uninstall postgresql\n",
    "\n",
    "# Delete the secrets\n",
    "!kubectl delete secret postgresql-server-certs\n",
    "!kubectl delete secret postgresql-client-certs\n",
    "\n",
    "# Remove the certificates directory\n",
    "!rm -rf postgres-tls-certs\n",
    "\n",
    "# Remove PV and PVC for clean up. some times those are not deleted automatically and can cause issues.\n",
    "# Delete all PVCs in the default namespace\n",
    "!kubectl delete pvc --all\n",
    "\n",
    "# Delete all PVs\n",
    "!kubectl delete pv --all"
   ]
  },
  {
   "cell_type": "markdown",
   "metadata": {},
   "source": [
    "Ensure everything has been removed, or is in the process of being terminated."
   ]
  },
  {
   "cell_type": "code",
   "execution_count": null,
   "metadata": {},
   "outputs": [],
   "source": [
    "!kubectl get all"
   ]
  }
 ],
 "metadata": {
  "kernelspec": {
   "display_name": "Python 3 (ipykernel)",
   "language": "python",
   "name": "python3"
  },
  "language_info": {
   "codemirror_mode": {
    "name": "ipython",
    "version": 3
   },
   "file_extension": ".py",
   "mimetype": "text/x-python",
   "name": "python",
   "nbconvert_exporter": "python",
   "pygments_lexer": "ipython3",
   "version": "3.11.10"
  }
 },
 "nbformat": 4,
 "nbformat_minor": 4
}
