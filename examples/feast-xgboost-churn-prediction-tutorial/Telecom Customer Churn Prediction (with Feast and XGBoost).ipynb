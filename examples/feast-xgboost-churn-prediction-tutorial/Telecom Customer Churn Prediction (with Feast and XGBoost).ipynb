{
 "cells": [
  {
   "cell_type": "markdown",
   "metadata": {},
   "source": [
    "# Telecom Customer Churn Prediction (with Feast and XGBoost)"
   ]
  },
  {
   "cell_type": "markdown",
   "metadata": {},
   "source": [
    "This tutorial will demonstrate the use of Feast in productionising a churn model. The tutorial is broken down into two sections\n",
    "\n",
    "1. Churn Modelling (without Feast): In this section we explore the data, refine it, train a model, and evaluate its performance.\n",
    "2. Churn Modelling (with Feast): In this section we introduce Feast for feature storage, management, as well as serving.\n",
    "\n",
    "\n",
    "This tutorial is an extension of [this](https://www.kaggle.com/pavanraj159/telecom-customer-churn-prediction/comments#6.-Model-Performances) Kaggle notebook"
   ]
  },
  {
   "cell_type": "markdown",
   "metadata": {
    "_uuid": "fa7e507381a982dfb9bcba253537c50ecd956230"
   },
   "source": [
    "## 1. Churn Modelling (without Feast)"
   ]
  },
  {
   "cell_type": "code",
   "execution_count": null,
   "metadata": {
    "_cell_guid": "b1076dfc-b9ad-4769-8c92-a6c4dae69d19",
    "_kg_hide-input": false,
    "_uuid": "8f2839f25d086af736a60e9eeb907d3b93b6e0e5"
   },
   "outputs": [],
   "source": [
    "import numpy as np\n",
    "import pandas as pd\n",
    "import os\n",
    "import matplotlib.pyplot as plt\n",
    "from PIL import  Image\n",
    "%matplotlib inline\n",
    "import pandas as pd\n",
    "import seaborn as sns\n",
    "import itertools\n",
    "import warnings\n",
    "warnings.filterwarnings(\"ignore\")\n",
    "import io\n",
    "import plotly.offline as py\n",
    "py.init_notebook_mode(connected=True)\n",
    "import plotly.graph_objs as go\n",
    "import plotly.tools as tls\n",
    "import plotly.figure_factory as ff\n",
    "import statsmodels, yellowbrick\n",
    "import sklearn # Tested with 0.22.1\n",
    "import imblearn\n",
    "from slugify import slugify"
   ]
  },
  {
   "cell_type": "markdown",
   "metadata": {},
   "source": [
    "### 1.1 Data"
   ]
  },
  {
   "cell_type": "code",
   "execution_count": 2,
   "metadata": {
    "_cell_guid": "79c7e3d0-c299-4dcb-8224-4455121ee9b0",
    "_uuid": "d629ff2d2480ee46fbb7e2d37f6b5fab8052498a"
   },
   "outputs": [
    {
     "data": {
      "text/html": [
       "<div>\n",
       "<style scoped>\n",
       "    .dataframe tbody tr th:only-of-type {\n",
       "        vertical-align: middle;\n",
       "    }\n",
       "\n",
       "    .dataframe tbody tr th {\n",
       "        vertical-align: top;\n",
       "    }\n",
       "\n",
       "    .dataframe thead th {\n",
       "        text-align: right;\n",
       "    }\n",
       "</style>\n",
       "<table border=\"1\" class=\"dataframe\">\n",
       "  <thead>\n",
       "    <tr style=\"text-align: right;\">\n",
       "      <th></th>\n",
       "      <th>customer_id</th>\n",
       "      <th>gender</th>\n",
       "      <th>SeniorCitizen</th>\n",
       "      <th>Partner</th>\n",
       "      <th>Dependents</th>\n",
       "      <th>tenure</th>\n",
       "      <th>PhoneService</th>\n",
       "      <th>MultipleLines</th>\n",
       "      <th>InternetService</th>\n",
       "      <th>OnlineSecurity</th>\n",
       "      <th>...</th>\n",
       "      <th>DeviceProtection</th>\n",
       "      <th>TechSupport</th>\n",
       "      <th>StreamingTV</th>\n",
       "      <th>StreamingMovies</th>\n",
       "      <th>Contract</th>\n",
       "      <th>PaperlessBilling</th>\n",
       "      <th>PaymentMethod</th>\n",
       "      <th>MonthlyCharges</th>\n",
       "      <th>TotalCharges</th>\n",
       "      <th>Churn</th>\n",
       "    </tr>\n",
       "  </thead>\n",
       "  <tbody>\n",
       "    <tr>\n",
       "      <th>0</th>\n",
       "      <td>7590-VHVEG</td>\n",
       "      <td>Female</td>\n",
       "      <td>0</td>\n",
       "      <td>Yes</td>\n",
       "      <td>No</td>\n",
       "      <td>1</td>\n",
       "      <td>No</td>\n",
       "      <td>No phone service</td>\n",
       "      <td>DSL</td>\n",
       "      <td>No</td>\n",
       "      <td>...</td>\n",
       "      <td>No</td>\n",
       "      <td>No</td>\n",
       "      <td>No</td>\n",
       "      <td>No</td>\n",
       "      <td>Month-to-month</td>\n",
       "      <td>Yes</td>\n",
       "      <td>Electronic check</td>\n",
       "      <td>29.85</td>\n",
       "      <td>29.85</td>\n",
       "      <td>No</td>\n",
       "    </tr>\n",
       "    <tr>\n",
       "      <th>1</th>\n",
       "      <td>5575-GNVDE</td>\n",
       "      <td>Male</td>\n",
       "      <td>0</td>\n",
       "      <td>No</td>\n",
       "      <td>No</td>\n",
       "      <td>34</td>\n",
       "      <td>Yes</td>\n",
       "      <td>No</td>\n",
       "      <td>DSL</td>\n",
       "      <td>Yes</td>\n",
       "      <td>...</td>\n",
       "      <td>Yes</td>\n",
       "      <td>No</td>\n",
       "      <td>No</td>\n",
       "      <td>No</td>\n",
       "      <td>One year</td>\n",
       "      <td>No</td>\n",
       "      <td>Mailed check</td>\n",
       "      <td>56.95</td>\n",
       "      <td>1889.5</td>\n",
       "      <td>No</td>\n",
       "    </tr>\n",
       "    <tr>\n",
       "      <th>2</th>\n",
       "      <td>3668-QPYBK</td>\n",
       "      <td>Male</td>\n",
       "      <td>0</td>\n",
       "      <td>No</td>\n",
       "      <td>No</td>\n",
       "      <td>2</td>\n",
       "      <td>Yes</td>\n",
       "      <td>No</td>\n",
       "      <td>DSL</td>\n",
       "      <td>Yes</td>\n",
       "      <td>...</td>\n",
       "      <td>No</td>\n",
       "      <td>No</td>\n",
       "      <td>No</td>\n",
       "      <td>No</td>\n",
       "      <td>Month-to-month</td>\n",
       "      <td>Yes</td>\n",
       "      <td>Mailed check</td>\n",
       "      <td>53.85</td>\n",
       "      <td>108.15</td>\n",
       "      <td>Yes</td>\n",
       "    </tr>\n",
       "    <tr>\n",
       "      <th>3</th>\n",
       "      <td>7795-CFOCW</td>\n",
       "      <td>Male</td>\n",
       "      <td>0</td>\n",
       "      <td>No</td>\n",
       "      <td>No</td>\n",
       "      <td>45</td>\n",
       "      <td>No</td>\n",
       "      <td>No phone service</td>\n",
       "      <td>DSL</td>\n",
       "      <td>Yes</td>\n",
       "      <td>...</td>\n",
       "      <td>Yes</td>\n",
       "      <td>Yes</td>\n",
       "      <td>No</td>\n",
       "      <td>No</td>\n",
       "      <td>One year</td>\n",
       "      <td>No</td>\n",
       "      <td>Bank transfer (automatic)</td>\n",
       "      <td>42.30</td>\n",
       "      <td>1840.75</td>\n",
       "      <td>No</td>\n",
       "    </tr>\n",
       "    <tr>\n",
       "      <th>4</th>\n",
       "      <td>9237-HQITU</td>\n",
       "      <td>Female</td>\n",
       "      <td>0</td>\n",
       "      <td>No</td>\n",
       "      <td>No</td>\n",
       "      <td>2</td>\n",
       "      <td>Yes</td>\n",
       "      <td>No</td>\n",
       "      <td>Fiber optic</td>\n",
       "      <td>No</td>\n",
       "      <td>...</td>\n",
       "      <td>No</td>\n",
       "      <td>No</td>\n",
       "      <td>No</td>\n",
       "      <td>No</td>\n",
       "      <td>Month-to-month</td>\n",
       "      <td>Yes</td>\n",
       "      <td>Electronic check</td>\n",
       "      <td>70.70</td>\n",
       "      <td>151.65</td>\n",
       "      <td>Yes</td>\n",
       "    </tr>\n",
       "  </tbody>\n",
       "</table>\n",
       "<p>5 rows × 21 columns</p>\n",
       "</div>"
      ],
      "text/plain": [
       "  customer_id  gender  SeniorCitizen Partner Dependents  tenure PhoneService  \\\n",
       "0  7590-VHVEG  Female              0     Yes         No       1           No   \n",
       "1  5575-GNVDE    Male              0      No         No      34          Yes   \n",
       "2  3668-QPYBK    Male              0      No         No       2          Yes   \n",
       "3  7795-CFOCW    Male              0      No         No      45           No   \n",
       "4  9237-HQITU  Female              0      No         No       2          Yes   \n",
       "\n",
       "      MultipleLines InternetService OnlineSecurity  ... DeviceProtection  \\\n",
       "0  No phone service             DSL             No  ...               No   \n",
       "1                No             DSL            Yes  ...              Yes   \n",
       "2                No             DSL            Yes  ...               No   \n",
       "3  No phone service             DSL            Yes  ...              Yes   \n",
       "4                No     Fiber optic             No  ...               No   \n",
       "\n",
       "  TechSupport StreamingTV StreamingMovies        Contract PaperlessBilling  \\\n",
       "0          No          No              No  Month-to-month              Yes   \n",
       "1          No          No              No        One year               No   \n",
       "2          No          No              No  Month-to-month              Yes   \n",
       "3         Yes          No              No        One year               No   \n",
       "4          No          No              No  Month-to-month              Yes   \n",
       "\n",
       "               PaymentMethod MonthlyCharges  TotalCharges Churn  \n",
       "0           Electronic check          29.85         29.85    No  \n",
       "1               Mailed check          56.95        1889.5    No  \n",
       "2               Mailed check          53.85        108.15   Yes  \n",
       "3  Bank transfer (automatic)          42.30       1840.75    No  \n",
       "4           Electronic check          70.70        151.65   Yes  \n",
       "\n",
       "[5 rows x 21 columns]"
      ]
     },
     "execution_count": 2,
     "metadata": {},
     "output_type": "execute_result"
    }
   ],
   "source": [
    "telcom = pd.read_csv('http://feast-examples.storage.googleapis.com/telco-churn-xgboost/telco_customer_churn.csv')\n",
    "telcom.head()"
   ]
  },
  {
   "cell_type": "markdown",
   "metadata": {
    "_uuid": "c8c010f36e29c116c6662301b08b0b0019d6e22e"
   },
   "source": [
    "### 1.2 Data Manipulation"
   ]
  },
  {
   "cell_type": "code",
   "execution_count": 3,
   "metadata": {
    "_uuid": "8b10c13086dff7182e399b849e31bc03df54a14e"
   },
   "outputs": [],
   "source": [
    "# Replacing spaces with null values in total charges column\n",
    "telcom['TotalCharges'] = telcom[\"TotalCharges\"].replace(\" \",np.nan)\n",
    "\n",
    "# Dropping null values from total charges column which contain .15% missing data \n",
    "telcom = telcom[telcom[\"TotalCharges\"].notnull()]\n",
    "telcom = telcom.reset_index()[telcom.columns]\n",
    "\n",
    "# Convert to float type\n",
    "telcom[\"TotalCharges\"] = telcom[\"TotalCharges\"].astype(float)\n",
    "\n",
    "# Replace 'No internet service' to No for the following columns\n",
    "replace_cols = [ 'OnlineSecurity', 'OnlineBackup', 'DeviceProtection',\n",
    "                'TechSupport','StreamingTV', 'StreamingMovies']\n",
    "for i in replace_cols : \n",
    "    telcom[i]  = telcom[i].replace({'No internet service' : 'No'})\n",
    "    \n",
    "# Replace binary values with strings\n",
    "telcom[\"SeniorCitizen\"] = telcom[\"SeniorCitizen\"].replace({1:\"Yes\",0:\"No\"})\n",
    "\n",
    "# Tenure to categorical column\n",
    "def tenure_lab(telcom) :\n",
    "    \n",
    "    if telcom[\"tenure\"] <= 12 :\n",
    "        return \"Tenure_0-12\"\n",
    "    elif (telcom[\"tenure\"] > 12) & (telcom[\"tenure\"] <= 24 ):\n",
    "        return \"Tenure_12-24\"\n",
    "    elif (telcom[\"tenure\"] > 24) & (telcom[\"tenure\"] <= 48) :\n",
    "        return \"Tenure_24-48\"\n",
    "    elif (telcom[\"tenure\"] > 48) & (telcom[\"tenure\"] <= 60) :\n",
    "        return \"Tenure_48-60\"\n",
    "    elif telcom[\"tenure\"] > 60 :\n",
    "        return \"Tenure_gt_60\"\n",
    "telcom[\"tenure_group\"] = telcom.apply(lambda telcom:tenure_lab(telcom),\n",
    "                                      axis = 1)\n",
    "\n",
    "# Separating churn and non churn customers\n",
    "churn     = telcom[telcom[\"Churn\"] == \"Yes\"]\n",
    "not_churn = telcom[telcom[\"Churn\"] == \"No\"]\n",
    "\n",
    "# Separating catagorical and numerical columns\n",
    "Id_col     = ['customerID']\n",
    "target_col = [\"Churn\"]\n",
    "cat_cols   = telcom.nunique()[telcom.nunique() < 6].keys().tolist()\n",
    "cat_cols   = [x for x in cat_cols if x not in target_col]\n",
    "num_cols   = [x for x in telcom.columns if x not in cat_cols + target_col + Id_col]\n"
   ]
  },
  {
   "cell_type": "markdown",
   "metadata": {
    "_uuid": "6dfa77b43fe1a1a301bab65186c2a9f90245ab7d"
   },
   "source": [
    "### 1.3 Data Processing"
   ]
  },
  {
   "cell_type": "code",
   "execution_count": 4,
   "metadata": {
    "_uuid": "8921591320c5e336ec5a2e1efc5ed3cb0f9ec1b2"
   },
   "outputs": [
    {
     "data": {
      "text/html": [
       "<div>\n",
       "<style scoped>\n",
       "    .dataframe tbody tr th:only-of-type {\n",
       "        vertical-align: middle;\n",
       "    }\n",
       "\n",
       "    .dataframe tbody tr th {\n",
       "        vertical-align: top;\n",
       "    }\n",
       "\n",
       "    .dataframe thead th {\n",
       "        text-align: right;\n",
       "    }\n",
       "</style>\n",
       "<table border=\"1\" class=\"dataframe\">\n",
       "  <thead>\n",
       "    <tr style=\"text-align: right;\">\n",
       "      <th></th>\n",
       "      <th>customer_id</th>\n",
       "      <th>gender</th>\n",
       "      <th>seniorcitizen</th>\n",
       "      <th>partner</th>\n",
       "      <th>dependents</th>\n",
       "      <th>phoneservice</th>\n",
       "      <th>onlinesecurity</th>\n",
       "      <th>onlinebackup</th>\n",
       "      <th>deviceprotection</th>\n",
       "      <th>techsupport</th>\n",
       "      <th>...</th>\n",
       "      <th>paymentmethod_electronic_check</th>\n",
       "      <th>paymentmethod_mailed_check</th>\n",
       "      <th>tenure_group_tenure_0_12</th>\n",
       "      <th>tenure_group_tenure_12_24</th>\n",
       "      <th>tenure_group_tenure_24_48</th>\n",
       "      <th>tenure_group_tenure_48_60</th>\n",
       "      <th>tenure_group_tenure_gt_60</th>\n",
       "      <th>tenure</th>\n",
       "      <th>monthlycharges</th>\n",
       "      <th>totalcharges</th>\n",
       "    </tr>\n",
       "  </thead>\n",
       "  <tbody>\n",
       "    <tr>\n",
       "      <th>0</th>\n",
       "      <td>7590-VHVEG</td>\n",
       "      <td>0</td>\n",
       "      <td>0</td>\n",
       "      <td>1</td>\n",
       "      <td>0</td>\n",
       "      <td>0</td>\n",
       "      <td>0</td>\n",
       "      <td>1</td>\n",
       "      <td>0</td>\n",
       "      <td>0</td>\n",
       "      <td>...</td>\n",
       "      <td>1</td>\n",
       "      <td>0</td>\n",
       "      <td>1</td>\n",
       "      <td>0</td>\n",
       "      <td>0</td>\n",
       "      <td>0</td>\n",
       "      <td>0</td>\n",
       "      <td>-1.280248</td>\n",
       "      <td>-1.161694</td>\n",
       "      <td>-0.994194</td>\n",
       "    </tr>\n",
       "    <tr>\n",
       "      <th>1</th>\n",
       "      <td>5575-GNVDE</td>\n",
       "      <td>1</td>\n",
       "      <td>0</td>\n",
       "      <td>0</td>\n",
       "      <td>0</td>\n",
       "      <td>1</td>\n",
       "      <td>1</td>\n",
       "      <td>0</td>\n",
       "      <td>1</td>\n",
       "      <td>0</td>\n",
       "      <td>...</td>\n",
       "      <td>0</td>\n",
       "      <td>1</td>\n",
       "      <td>0</td>\n",
       "      <td>0</td>\n",
       "      <td>1</td>\n",
       "      <td>0</td>\n",
       "      <td>0</td>\n",
       "      <td>0.064303</td>\n",
       "      <td>-0.260878</td>\n",
       "      <td>-0.173740</td>\n",
       "    </tr>\n",
       "    <tr>\n",
       "      <th>2</th>\n",
       "      <td>3668-QPYBK</td>\n",
       "      <td>1</td>\n",
       "      <td>0</td>\n",
       "      <td>0</td>\n",
       "      <td>0</td>\n",
       "      <td>1</td>\n",
       "      <td>1</td>\n",
       "      <td>1</td>\n",
       "      <td>0</td>\n",
       "      <td>0</td>\n",
       "      <td>...</td>\n",
       "      <td>0</td>\n",
       "      <td>1</td>\n",
       "      <td>1</td>\n",
       "      <td>0</td>\n",
       "      <td>0</td>\n",
       "      <td>0</td>\n",
       "      <td>0</td>\n",
       "      <td>-1.239504</td>\n",
       "      <td>-0.363923</td>\n",
       "      <td>-0.959649</td>\n",
       "    </tr>\n",
       "    <tr>\n",
       "      <th>3</th>\n",
       "      <td>7795-CFOCW</td>\n",
       "      <td>1</td>\n",
       "      <td>0</td>\n",
       "      <td>0</td>\n",
       "      <td>0</td>\n",
       "      <td>0</td>\n",
       "      <td>1</td>\n",
       "      <td>0</td>\n",
       "      <td>1</td>\n",
       "      <td>1</td>\n",
       "      <td>...</td>\n",
       "      <td>0</td>\n",
       "      <td>0</td>\n",
       "      <td>0</td>\n",
       "      <td>0</td>\n",
       "      <td>1</td>\n",
       "      <td>0</td>\n",
       "      <td>0</td>\n",
       "      <td>0.512486</td>\n",
       "      <td>-0.747850</td>\n",
       "      <td>-0.195248</td>\n",
       "    </tr>\n",
       "    <tr>\n",
       "      <th>4</th>\n",
       "      <td>9237-HQITU</td>\n",
       "      <td>0</td>\n",
       "      <td>0</td>\n",
       "      <td>0</td>\n",
       "      <td>0</td>\n",
       "      <td>1</td>\n",
       "      <td>0</td>\n",
       "      <td>0</td>\n",
       "      <td>0</td>\n",
       "      <td>0</td>\n",
       "      <td>...</td>\n",
       "      <td>1</td>\n",
       "      <td>0</td>\n",
       "      <td>1</td>\n",
       "      <td>0</td>\n",
       "      <td>0</td>\n",
       "      <td>0</td>\n",
       "      <td>0</td>\n",
       "      <td>-1.239504</td>\n",
       "      <td>0.196178</td>\n",
       "      <td>-0.940457</td>\n",
       "    </tr>\n",
       "  </tbody>\n",
       "</table>\n",
       "<p>5 rows × 35 columns</p>\n",
       "</div>"
      ],
      "text/plain": [
       "  customer_id  gender  seniorcitizen  partner  dependents  phoneservice  \\\n",
       "0  7590-VHVEG       0              0        1           0             0   \n",
       "1  5575-GNVDE       1              0        0           0             1   \n",
       "2  3668-QPYBK       1              0        0           0             1   \n",
       "3  7795-CFOCW       1              0        0           0             0   \n",
       "4  9237-HQITU       0              0        0           0             1   \n",
       "\n",
       "   onlinesecurity  onlinebackup  deviceprotection  techsupport  ...  \\\n",
       "0               0             1                 0            0  ...   \n",
       "1               1             0                 1            0  ...   \n",
       "2               1             1                 0            0  ...   \n",
       "3               1             0                 1            1  ...   \n",
       "4               0             0                 0            0  ...   \n",
       "\n",
       "   paymentmethod_electronic_check  paymentmethod_mailed_check  \\\n",
       "0                               1                           0   \n",
       "1                               0                           1   \n",
       "2                               0                           1   \n",
       "3                               0                           0   \n",
       "4                               1                           0   \n",
       "\n",
       "   tenure_group_tenure_0_12  tenure_group_tenure_12_24  \\\n",
       "0                         1                          0   \n",
       "1                         0                          0   \n",
       "2                         1                          0   \n",
       "3                         0                          0   \n",
       "4                         1                          0   \n",
       "\n",
       "   tenure_group_tenure_24_48  tenure_group_tenure_48_60  \\\n",
       "0                          0                          0   \n",
       "1                          1                          0   \n",
       "2                          0                          0   \n",
       "3                          1                          0   \n",
       "4                          0                          0   \n",
       "\n",
       "   tenure_group_tenure_gt_60    tenure  monthlycharges  totalcharges  \n",
       "0                          0 -1.280248       -1.161694     -0.994194  \n",
       "1                          0  0.064303       -0.260878     -0.173740  \n",
       "2                          0 -1.239504       -0.363923     -0.959649  \n",
       "3                          0  0.512486       -0.747850     -0.195248  \n",
       "4                          0 -1.239504        0.196178     -0.940457  \n",
       "\n",
       "[5 rows x 35 columns]"
      ]
     },
     "execution_count": 4,
     "metadata": {},
     "output_type": "execute_result"
    }
   ],
   "source": [
    "from sklearn.preprocessing import LabelEncoder\n",
    "from sklearn.preprocessing import StandardScaler\n",
    "\n",
    "# Customer id col\n",
    "Id_col     = ['customer_id']\n",
    "\n",
    "# Target columns\n",
    "target_col = [\"churn\"]\n",
    "\n",
    "# Categorical columns\n",
    "cat_cols   = telcom.nunique()[telcom.nunique() < 6].keys().tolist()\n",
    "cat_cols   = [x for x in cat_cols if x not in target_col]\n",
    "\n",
    "# Numerical columns\n",
    "num_cols   = [x for x in telcom.columns if x not in cat_cols + target_col + Id_col]\n",
    "\n",
    "# Binary columns with 2 values\n",
    "bin_cols   = telcom.nunique()[telcom.nunique() == 2].keys().tolist()\n",
    "\n",
    "# Columns more than 2 values\n",
    "multi_cols = [i for i in cat_cols if i not in bin_cols]\n",
    "\n",
    "# Label encoding Binary columns\n",
    "le = LabelEncoder()\n",
    "for i in bin_cols :\n",
    "    telcom[i] = le.fit_transform(telcom[i])\n",
    "    \n",
    "# Duplicating columns for multi value columns\n",
    "telcom = pd.get_dummies(data = telcom,columns = multi_cols )\n",
    "\n",
    "# Scaling Numerical columns\n",
    "std = StandardScaler()\n",
    "scaled = std.fit_transform(telcom[num_cols])\n",
    "scaled = pd.DataFrame(scaled,columns=num_cols)\n",
    "\n",
    "# Dropping original values merging scaled values for numerical columns\n",
    "df_telcom_og = telcom.copy()\n",
    "telcom = telcom.drop(columns = num_cols,axis = 1)\n",
    "telcom = telcom.merge(scaled,left_index=True,right_index=True,how = \"left\")\n",
    "\n",
    "# Clean up column names\n",
    "telcom.columns = [slugify(col, lowercase=True, separator='_') for col in telcom.columns]\n",
    "telcom.head()"
   ]
  },
  {
   "cell_type": "markdown",
   "metadata": {
    "_uuid": "9ec25cff71c0eb0f0c839a726cb06cb43462a53f"
   },
   "source": [
    "### 1.4 Descriptive Statistics"
   ]
  },
  {
   "cell_type": "code",
   "execution_count": 5,
   "metadata": {},
   "outputs": [
    {
     "data": {
      "text/html": [
       "<div>\n",
       "<style scoped>\n",
       "    .dataframe tbody tr th:only-of-type {\n",
       "        vertical-align: middle;\n",
       "    }\n",
       "\n",
       "    .dataframe tbody tr th {\n",
       "        vertical-align: top;\n",
       "    }\n",
       "\n",
       "    .dataframe thead th {\n",
       "        text-align: right;\n",
       "    }\n",
       "</style>\n",
       "<table border=\"1\" class=\"dataframe\">\n",
       "  <thead>\n",
       "    <tr style=\"text-align: right;\">\n",
       "      <th></th>\n",
       "      <th>count</th>\n",
       "      <th>unique</th>\n",
       "      <th>top</th>\n",
       "      <th>freq</th>\n",
       "      <th>mean</th>\n",
       "      <th>std</th>\n",
       "      <th>min</th>\n",
       "      <th>25%</th>\n",
       "      <th>50%</th>\n",
       "      <th>75%</th>\n",
       "      <th>max</th>\n",
       "    </tr>\n",
       "  </thead>\n",
       "  <tbody>\n",
       "    <tr>\n",
       "      <th>customer_id</th>\n",
       "      <td>7032</td>\n",
       "      <td>7032</td>\n",
       "      <td>0835-DUUIQ</td>\n",
       "      <td>1</td>\n",
       "      <td>NaN</td>\n",
       "      <td>NaN</td>\n",
       "      <td>NaN</td>\n",
       "      <td>NaN</td>\n",
       "      <td>NaN</td>\n",
       "      <td>NaN</td>\n",
       "      <td>NaN</td>\n",
       "    </tr>\n",
       "    <tr>\n",
       "      <th>gender</th>\n",
       "      <td>7032</td>\n",
       "      <td>NaN</td>\n",
       "      <td>NaN</td>\n",
       "      <td>NaN</td>\n",
       "      <td>0.504693</td>\n",
       "      <td>0.500014</td>\n",
       "      <td>0</td>\n",
       "      <td>0</td>\n",
       "      <td>1</td>\n",
       "      <td>1</td>\n",
       "      <td>1</td>\n",
       "    </tr>\n",
       "    <tr>\n",
       "      <th>seniorcitizen</th>\n",
       "      <td>7032</td>\n",
       "      <td>NaN</td>\n",
       "      <td>NaN</td>\n",
       "      <td>NaN</td>\n",
       "      <td>0.1624</td>\n",
       "      <td>0.368844</td>\n",
       "      <td>0</td>\n",
       "      <td>0</td>\n",
       "      <td>0</td>\n",
       "      <td>0</td>\n",
       "      <td>1</td>\n",
       "    </tr>\n",
       "    <tr>\n",
       "      <th>partner</th>\n",
       "      <td>7032</td>\n",
       "      <td>NaN</td>\n",
       "      <td>NaN</td>\n",
       "      <td>NaN</td>\n",
       "      <td>0.482509</td>\n",
       "      <td>0.499729</td>\n",
       "      <td>0</td>\n",
       "      <td>0</td>\n",
       "      <td>0</td>\n",
       "      <td>1</td>\n",
       "      <td>1</td>\n",
       "    </tr>\n",
       "    <tr>\n",
       "      <th>dependents</th>\n",
       "      <td>7032</td>\n",
       "      <td>NaN</td>\n",
       "      <td>NaN</td>\n",
       "      <td>NaN</td>\n",
       "      <td>0.298493</td>\n",
       "      <td>0.457629</td>\n",
       "      <td>0</td>\n",
       "      <td>0</td>\n",
       "      <td>0</td>\n",
       "      <td>1</td>\n",
       "      <td>1</td>\n",
       "    </tr>\n",
       "    <tr>\n",
       "      <th>phoneservice</th>\n",
       "      <td>7032</td>\n",
       "      <td>NaN</td>\n",
       "      <td>NaN</td>\n",
       "      <td>NaN</td>\n",
       "      <td>0.903299</td>\n",
       "      <td>0.295571</td>\n",
       "      <td>0</td>\n",
       "      <td>1</td>\n",
       "      <td>1</td>\n",
       "      <td>1</td>\n",
       "      <td>1</td>\n",
       "    </tr>\n",
       "    <tr>\n",
       "      <th>onlinesecurity</th>\n",
       "      <td>7032</td>\n",
       "      <td>NaN</td>\n",
       "      <td>NaN</td>\n",
       "      <td>NaN</td>\n",
       "      <td>0.286547</td>\n",
       "      <td>0.45218</td>\n",
       "      <td>0</td>\n",
       "      <td>0</td>\n",
       "      <td>0</td>\n",
       "      <td>1</td>\n",
       "      <td>1</td>\n",
       "    </tr>\n",
       "    <tr>\n",
       "      <th>onlinebackup</th>\n",
       "      <td>7032</td>\n",
       "      <td>NaN</td>\n",
       "      <td>NaN</td>\n",
       "      <td>NaN</td>\n",
       "      <td>0.344852</td>\n",
       "      <td>0.475354</td>\n",
       "      <td>0</td>\n",
       "      <td>0</td>\n",
       "      <td>0</td>\n",
       "      <td>1</td>\n",
       "      <td>1</td>\n",
       "    </tr>\n",
       "    <tr>\n",
       "      <th>deviceprotection</th>\n",
       "      <td>7032</td>\n",
       "      <td>NaN</td>\n",
       "      <td>NaN</td>\n",
       "      <td>NaN</td>\n",
       "      <td>0.343857</td>\n",
       "      <td>0.475028</td>\n",
       "      <td>0</td>\n",
       "      <td>0</td>\n",
       "      <td>0</td>\n",
       "      <td>1</td>\n",
       "      <td>1</td>\n",
       "    </tr>\n",
       "    <tr>\n",
       "      <th>techsupport</th>\n",
       "      <td>7032</td>\n",
       "      <td>NaN</td>\n",
       "      <td>NaN</td>\n",
       "      <td>NaN</td>\n",
       "      <td>0.290102</td>\n",
       "      <td>0.453842</td>\n",
       "      <td>0</td>\n",
       "      <td>0</td>\n",
       "      <td>0</td>\n",
       "      <td>1</td>\n",
       "      <td>1</td>\n",
       "    </tr>\n",
       "    <tr>\n",
       "      <th>streamingtv</th>\n",
       "      <td>7032</td>\n",
       "      <td>NaN</td>\n",
       "      <td>NaN</td>\n",
       "      <td>NaN</td>\n",
       "      <td>0.384386</td>\n",
       "      <td>0.486484</td>\n",
       "      <td>0</td>\n",
       "      <td>0</td>\n",
       "      <td>0</td>\n",
       "      <td>1</td>\n",
       "      <td>1</td>\n",
       "    </tr>\n",
       "    <tr>\n",
       "      <th>streamingmovies</th>\n",
       "      <td>7032</td>\n",
       "      <td>NaN</td>\n",
       "      <td>NaN</td>\n",
       "      <td>NaN</td>\n",
       "      <td>0.388367</td>\n",
       "      <td>0.487414</td>\n",
       "      <td>0</td>\n",
       "      <td>0</td>\n",
       "      <td>0</td>\n",
       "      <td>1</td>\n",
       "      <td>1</td>\n",
       "    </tr>\n",
       "    <tr>\n",
       "      <th>paperlessbilling</th>\n",
       "      <td>7032</td>\n",
       "      <td>NaN</td>\n",
       "      <td>NaN</td>\n",
       "      <td>NaN</td>\n",
       "      <td>0.592719</td>\n",
       "      <td>0.491363</td>\n",
       "      <td>0</td>\n",
       "      <td>0</td>\n",
       "      <td>1</td>\n",
       "      <td>1</td>\n",
       "      <td>1</td>\n",
       "    </tr>\n",
       "    <tr>\n",
       "      <th>churn</th>\n",
       "      <td>7032</td>\n",
       "      <td>NaN</td>\n",
       "      <td>NaN</td>\n",
       "      <td>NaN</td>\n",
       "      <td>0.265785</td>\n",
       "      <td>0.441782</td>\n",
       "      <td>0</td>\n",
       "      <td>0</td>\n",
       "      <td>0</td>\n",
       "      <td>1</td>\n",
       "      <td>1</td>\n",
       "    </tr>\n",
       "    <tr>\n",
       "      <th>multiplelines_no</th>\n",
       "      <td>7032</td>\n",
       "      <td>NaN</td>\n",
       "      <td>NaN</td>\n",
       "      <td>NaN</td>\n",
       "      <td>0.481371</td>\n",
       "      <td>0.499688</td>\n",
       "      <td>0</td>\n",
       "      <td>0</td>\n",
       "      <td>0</td>\n",
       "      <td>1</td>\n",
       "      <td>1</td>\n",
       "    </tr>\n",
       "    <tr>\n",
       "      <th>multiplelines_no_phone_service</th>\n",
       "      <td>7032</td>\n",
       "      <td>NaN</td>\n",
       "      <td>NaN</td>\n",
       "      <td>NaN</td>\n",
       "      <td>0.0967008</td>\n",
       "      <td>0.295571</td>\n",
       "      <td>0</td>\n",
       "      <td>0</td>\n",
       "      <td>0</td>\n",
       "      <td>0</td>\n",
       "      <td>1</td>\n",
       "    </tr>\n",
       "    <tr>\n",
       "      <th>multiplelines_yes</th>\n",
       "      <td>7032</td>\n",
       "      <td>NaN</td>\n",
       "      <td>NaN</td>\n",
       "      <td>NaN</td>\n",
       "      <td>0.421928</td>\n",
       "      <td>0.493902</td>\n",
       "      <td>0</td>\n",
       "      <td>0</td>\n",
       "      <td>0</td>\n",
       "      <td>1</td>\n",
       "      <td>1</td>\n",
       "    </tr>\n",
       "    <tr>\n",
       "      <th>internetservice_dsl</th>\n",
       "      <td>7032</td>\n",
       "      <td>NaN</td>\n",
       "      <td>NaN</td>\n",
       "      <td>NaN</td>\n",
       "      <td>0.343572</td>\n",
       "      <td>0.474934</td>\n",
       "      <td>0</td>\n",
       "      <td>0</td>\n",
       "      <td>0</td>\n",
       "      <td>1</td>\n",
       "      <td>1</td>\n",
       "    </tr>\n",
       "    <tr>\n",
       "      <th>internetservice_fiber_optic</th>\n",
       "      <td>7032</td>\n",
       "      <td>NaN</td>\n",
       "      <td>NaN</td>\n",
       "      <td>NaN</td>\n",
       "      <td>0.440273</td>\n",
       "      <td>0.496455</td>\n",
       "      <td>0</td>\n",
       "      <td>0</td>\n",
       "      <td>0</td>\n",
       "      <td>1</td>\n",
       "      <td>1</td>\n",
       "    </tr>\n",
       "    <tr>\n",
       "      <th>internetservice_no</th>\n",
       "      <td>7032</td>\n",
       "      <td>NaN</td>\n",
       "      <td>NaN</td>\n",
       "      <td>NaN</td>\n",
       "      <td>0.216155</td>\n",
       "      <td>0.41165</td>\n",
       "      <td>0</td>\n",
       "      <td>0</td>\n",
       "      <td>0</td>\n",
       "      <td>0</td>\n",
       "      <td>1</td>\n",
       "    </tr>\n",
       "    <tr>\n",
       "      <th>contract_month_to_month</th>\n",
       "      <td>7032</td>\n",
       "      <td>NaN</td>\n",
       "      <td>NaN</td>\n",
       "      <td>NaN</td>\n",
       "      <td>0.551052</td>\n",
       "      <td>0.497422</td>\n",
       "      <td>0</td>\n",
       "      <td>0</td>\n",
       "      <td>1</td>\n",
       "      <td>1</td>\n",
       "      <td>1</td>\n",
       "    </tr>\n",
       "    <tr>\n",
       "      <th>contract_one_year</th>\n",
       "      <td>7032</td>\n",
       "      <td>NaN</td>\n",
       "      <td>NaN</td>\n",
       "      <td>NaN</td>\n",
       "      <td>0.209329</td>\n",
       "      <td>0.406858</td>\n",
       "      <td>0</td>\n",
       "      <td>0</td>\n",
       "      <td>0</td>\n",
       "      <td>0</td>\n",
       "      <td>1</td>\n",
       "    </tr>\n",
       "    <tr>\n",
       "      <th>contract_two_year</th>\n",
       "      <td>7032</td>\n",
       "      <td>NaN</td>\n",
       "      <td>NaN</td>\n",
       "      <td>NaN</td>\n",
       "      <td>0.239619</td>\n",
       "      <td>0.426881</td>\n",
       "      <td>0</td>\n",
       "      <td>0</td>\n",
       "      <td>0</td>\n",
       "      <td>0</td>\n",
       "      <td>1</td>\n",
       "    </tr>\n",
       "    <tr>\n",
       "      <th>paymentmethod_bank_transfer_automatic</th>\n",
       "      <td>7032</td>\n",
       "      <td>NaN</td>\n",
       "      <td>NaN</td>\n",
       "      <td>NaN</td>\n",
       "      <td>0.219283</td>\n",
       "      <td>0.41379</td>\n",
       "      <td>0</td>\n",
       "      <td>0</td>\n",
       "      <td>0</td>\n",
       "      <td>0</td>\n",
       "      <td>1</td>\n",
       "    </tr>\n",
       "    <tr>\n",
       "      <th>paymentmethod_credit_card_automatic</th>\n",
       "      <td>7032</td>\n",
       "      <td>NaN</td>\n",
       "      <td>NaN</td>\n",
       "      <td>NaN</td>\n",
       "      <td>0.216297</td>\n",
       "      <td>0.411748</td>\n",
       "      <td>0</td>\n",
       "      <td>0</td>\n",
       "      <td>0</td>\n",
       "      <td>0</td>\n",
       "      <td>1</td>\n",
       "    </tr>\n",
       "    <tr>\n",
       "      <th>paymentmethod_electronic_check</th>\n",
       "      <td>7032</td>\n",
       "      <td>NaN</td>\n",
       "      <td>NaN</td>\n",
       "      <td>NaN</td>\n",
       "      <td>0.33632</td>\n",
       "      <td>0.472483</td>\n",
       "      <td>0</td>\n",
       "      <td>0</td>\n",
       "      <td>0</td>\n",
       "      <td>1</td>\n",
       "      <td>1</td>\n",
       "    </tr>\n",
       "    <tr>\n",
       "      <th>paymentmethod_mailed_check</th>\n",
       "      <td>7032</td>\n",
       "      <td>NaN</td>\n",
       "      <td>NaN</td>\n",
       "      <td>NaN</td>\n",
       "      <td>0.2281</td>\n",
       "      <td>0.419637</td>\n",
       "      <td>0</td>\n",
       "      <td>0</td>\n",
       "      <td>0</td>\n",
       "      <td>0</td>\n",
       "      <td>1</td>\n",
       "    </tr>\n",
       "    <tr>\n",
       "      <th>tenure_group_tenure_0_12</th>\n",
       "      <td>7032</td>\n",
       "      <td>NaN</td>\n",
       "      <td>NaN</td>\n",
       "      <td>NaN</td>\n",
       "      <td>0.3093</td>\n",
       "      <td>0.462238</td>\n",
       "      <td>0</td>\n",
       "      <td>0</td>\n",
       "      <td>0</td>\n",
       "      <td>1</td>\n",
       "      <td>1</td>\n",
       "    </tr>\n",
       "    <tr>\n",
       "      <th>tenure_group_tenure_12_24</th>\n",
       "      <td>7032</td>\n",
       "      <td>NaN</td>\n",
       "      <td>NaN</td>\n",
       "      <td>NaN</td>\n",
       "      <td>0.14562</td>\n",
       "      <td>0.35275</td>\n",
       "      <td>0</td>\n",
       "      <td>0</td>\n",
       "      <td>0</td>\n",
       "      <td>0</td>\n",
       "      <td>1</td>\n",
       "    </tr>\n",
       "    <tr>\n",
       "      <th>tenure_group_tenure_24_48</th>\n",
       "      <td>7032</td>\n",
       "      <td>NaN</td>\n",
       "      <td>NaN</td>\n",
       "      <td>NaN</td>\n",
       "      <td>0.226678</td>\n",
       "      <td>0.418712</td>\n",
       "      <td>0</td>\n",
       "      <td>0</td>\n",
       "      <td>0</td>\n",
       "      <td>0</td>\n",
       "      <td>1</td>\n",
       "    </tr>\n",
       "    <tr>\n",
       "      <th>tenure_group_tenure_48_60</th>\n",
       "      <td>7032</td>\n",
       "      <td>NaN</td>\n",
       "      <td>NaN</td>\n",
       "      <td>NaN</td>\n",
       "      <td>0.118316</td>\n",
       "      <td>0.323005</td>\n",
       "      <td>0</td>\n",
       "      <td>0</td>\n",
       "      <td>0</td>\n",
       "      <td>0</td>\n",
       "      <td>1</td>\n",
       "    </tr>\n",
       "    <tr>\n",
       "      <th>tenure_group_tenure_gt_60</th>\n",
       "      <td>7032</td>\n",
       "      <td>NaN</td>\n",
       "      <td>NaN</td>\n",
       "      <td>NaN</td>\n",
       "      <td>0.200085</td>\n",
       "      <td>0.400092</td>\n",
       "      <td>0</td>\n",
       "      <td>0</td>\n",
       "      <td>0</td>\n",
       "      <td>0</td>\n",
       "      <td>1</td>\n",
       "    </tr>\n",
       "    <tr>\n",
       "      <th>tenure</th>\n",
       "      <td>7032</td>\n",
       "      <td>NaN</td>\n",
       "      <td>NaN</td>\n",
       "      <td>NaN</td>\n",
       "      <td>-1.12664e-16</td>\n",
       "      <td>1.00007</td>\n",
       "      <td>-1.28025</td>\n",
       "      <td>-0.954296</td>\n",
       "      <td>-0.139417</td>\n",
       "      <td>0.919926</td>\n",
       "      <td>1.61257</td>\n",
       "    </tr>\n",
       "    <tr>\n",
       "      <th>monthlycharges</th>\n",
       "      <td>7032</td>\n",
       "      <td>NaN</td>\n",
       "      <td>NaN</td>\n",
       "      <td>NaN</td>\n",
       "      <td>6.06265e-17</td>\n",
       "      <td>1.00007</td>\n",
       "      <td>-1.54728</td>\n",
       "      <td>-0.970977</td>\n",
       "      <td>0.184544</td>\n",
       "      <td>0.833148</td>\n",
       "      <td>1.79338</td>\n",
       "    </tr>\n",
       "    <tr>\n",
       "      <th>totalcharges</th>\n",
       "      <td>7032</td>\n",
       "      <td>NaN</td>\n",
       "      <td>NaN</td>\n",
       "      <td>NaN</td>\n",
       "      <td>-1.11906e-16</td>\n",
       "      <td>1.00007</td>\n",
       "      <td>-0.999069</td>\n",
       "      <td>-0.830249</td>\n",
       "      <td>-0.390815</td>\n",
       "      <td>0.666827</td>\n",
       "      <td>2.82426</td>\n",
       "    </tr>\n",
       "  </tbody>\n",
       "</table>\n",
       "</div>"
      ],
      "text/plain": [
       "                                      count unique         top freq  \\\n",
       "customer_id                            7032   7032  0835-DUUIQ    1   \n",
       "gender                                 7032    NaN         NaN  NaN   \n",
       "seniorcitizen                          7032    NaN         NaN  NaN   \n",
       "partner                                7032    NaN         NaN  NaN   \n",
       "dependents                             7032    NaN         NaN  NaN   \n",
       "phoneservice                           7032    NaN         NaN  NaN   \n",
       "onlinesecurity                         7032    NaN         NaN  NaN   \n",
       "onlinebackup                           7032    NaN         NaN  NaN   \n",
       "deviceprotection                       7032    NaN         NaN  NaN   \n",
       "techsupport                            7032    NaN         NaN  NaN   \n",
       "streamingtv                            7032    NaN         NaN  NaN   \n",
       "streamingmovies                        7032    NaN         NaN  NaN   \n",
       "paperlessbilling                       7032    NaN         NaN  NaN   \n",
       "churn                                  7032    NaN         NaN  NaN   \n",
       "multiplelines_no                       7032    NaN         NaN  NaN   \n",
       "multiplelines_no_phone_service         7032    NaN         NaN  NaN   \n",
       "multiplelines_yes                      7032    NaN         NaN  NaN   \n",
       "internetservice_dsl                    7032    NaN         NaN  NaN   \n",
       "internetservice_fiber_optic            7032    NaN         NaN  NaN   \n",
       "internetservice_no                     7032    NaN         NaN  NaN   \n",
       "contract_month_to_month                7032    NaN         NaN  NaN   \n",
       "contract_one_year                      7032    NaN         NaN  NaN   \n",
       "contract_two_year                      7032    NaN         NaN  NaN   \n",
       "paymentmethod_bank_transfer_automatic  7032    NaN         NaN  NaN   \n",
       "paymentmethod_credit_card_automatic    7032    NaN         NaN  NaN   \n",
       "paymentmethod_electronic_check         7032    NaN         NaN  NaN   \n",
       "paymentmethod_mailed_check             7032    NaN         NaN  NaN   \n",
       "tenure_group_tenure_0_12               7032    NaN         NaN  NaN   \n",
       "tenure_group_tenure_12_24              7032    NaN         NaN  NaN   \n",
       "tenure_group_tenure_24_48              7032    NaN         NaN  NaN   \n",
       "tenure_group_tenure_48_60              7032    NaN         NaN  NaN   \n",
       "tenure_group_tenure_gt_60              7032    NaN         NaN  NaN   \n",
       "tenure                                 7032    NaN         NaN  NaN   \n",
       "monthlycharges                         7032    NaN         NaN  NaN   \n",
       "totalcharges                           7032    NaN         NaN  NaN   \n",
       "\n",
       "                                              mean       std       min  \\\n",
       "customer_id                                    NaN       NaN       NaN   \n",
       "gender                                    0.504693  0.500014         0   \n",
       "seniorcitizen                               0.1624  0.368844         0   \n",
       "partner                                   0.482509  0.499729         0   \n",
       "dependents                                0.298493  0.457629         0   \n",
       "phoneservice                              0.903299  0.295571         0   \n",
       "onlinesecurity                            0.286547   0.45218         0   \n",
       "onlinebackup                              0.344852  0.475354         0   \n",
       "deviceprotection                          0.343857  0.475028         0   \n",
       "techsupport                               0.290102  0.453842         0   \n",
       "streamingtv                               0.384386  0.486484         0   \n",
       "streamingmovies                           0.388367  0.487414         0   \n",
       "paperlessbilling                          0.592719  0.491363         0   \n",
       "churn                                     0.265785  0.441782         0   \n",
       "multiplelines_no                          0.481371  0.499688         0   \n",
       "multiplelines_no_phone_service           0.0967008  0.295571         0   \n",
       "multiplelines_yes                         0.421928  0.493902         0   \n",
       "internetservice_dsl                       0.343572  0.474934         0   \n",
       "internetservice_fiber_optic               0.440273  0.496455         0   \n",
       "internetservice_no                        0.216155   0.41165         0   \n",
       "contract_month_to_month                   0.551052  0.497422         0   \n",
       "contract_one_year                         0.209329  0.406858         0   \n",
       "contract_two_year                         0.239619  0.426881         0   \n",
       "paymentmethod_bank_transfer_automatic     0.219283   0.41379         0   \n",
       "paymentmethod_credit_card_automatic       0.216297  0.411748         0   \n",
       "paymentmethod_electronic_check             0.33632  0.472483         0   \n",
       "paymentmethod_mailed_check                  0.2281  0.419637         0   \n",
       "tenure_group_tenure_0_12                    0.3093  0.462238         0   \n",
       "tenure_group_tenure_12_24                  0.14562   0.35275         0   \n",
       "tenure_group_tenure_24_48                 0.226678  0.418712         0   \n",
       "tenure_group_tenure_48_60                 0.118316  0.323005         0   \n",
       "tenure_group_tenure_gt_60                 0.200085  0.400092         0   \n",
       "tenure                                -1.12664e-16   1.00007  -1.28025   \n",
       "monthlycharges                         6.06265e-17   1.00007  -1.54728   \n",
       "totalcharges                          -1.11906e-16   1.00007 -0.999069   \n",
       "\n",
       "                                            25%       50%       75%      max  \n",
       "customer_id                                 NaN       NaN       NaN      NaN  \n",
       "gender                                        0         1         1        1  \n",
       "seniorcitizen                                 0         0         0        1  \n",
       "partner                                       0         0         1        1  \n",
       "dependents                                    0         0         1        1  \n",
       "phoneservice                                  1         1         1        1  \n",
       "onlinesecurity                                0         0         1        1  \n",
       "onlinebackup                                  0         0         1        1  \n",
       "deviceprotection                              0         0         1        1  \n",
       "techsupport                                   0         0         1        1  \n",
       "streamingtv                                   0         0         1        1  \n",
       "streamingmovies                               0         0         1        1  \n",
       "paperlessbilling                              0         1         1        1  \n",
       "churn                                         0         0         1        1  \n",
       "multiplelines_no                              0         0         1        1  \n",
       "multiplelines_no_phone_service                0         0         0        1  \n",
       "multiplelines_yes                             0         0         1        1  \n",
       "internetservice_dsl                           0         0         1        1  \n",
       "internetservice_fiber_optic                   0         0         1        1  \n",
       "internetservice_no                            0         0         0        1  \n",
       "contract_month_to_month                       0         1         1        1  \n",
       "contract_one_year                             0         0         0        1  \n",
       "contract_two_year                             0         0         0        1  \n",
       "paymentmethod_bank_transfer_automatic         0         0         0        1  \n",
       "paymentmethod_credit_card_automatic           0         0         0        1  \n",
       "paymentmethod_electronic_check                0         0         1        1  \n",
       "paymentmethod_mailed_check                    0         0         0        1  \n",
       "tenure_group_tenure_0_12                      0         0         1        1  \n",
       "tenure_group_tenure_12_24                     0         0         0        1  \n",
       "tenure_group_tenure_24_48                     0         0         0        1  \n",
       "tenure_group_tenure_48_60                     0         0         0        1  \n",
       "tenure_group_tenure_gt_60                     0         0         0        1  \n",
       "tenure                                -0.954296 -0.139417  0.919926  1.61257  \n",
       "monthlycharges                        -0.970977  0.184544  0.833148  1.79338  \n",
       "totalcharges                          -0.830249 -0.390815  0.666827  2.82426  "
      ]
     },
     "execution_count": 5,
     "metadata": {},
     "output_type": "execute_result"
    }
   ],
   "source": [
    "telcom.describe(include='all').T"
   ]
  },
  {
   "cell_type": "markdown",
   "metadata": {
    "_uuid": "82a7617e37906622dbe00a1783a13cbf382d2513"
   },
   "source": [
    "### 1.5 Correlation Matrix"
   ]
  },
  {
   "cell_type": "code",
   "execution_count": 6,
   "metadata": {
    "_uuid": "b52cf9c7f402ed706e82221e3f8601fdeea9ab27"
   },
   "outputs": [
    {
     "data": {
      "application/vnd.plotly.v1+json": {
       "config": {
        "linkText": "Export to plot.ly",
        "plotlyServerURL": "https://plot.ly",
        "showLink": false
       },
       "data": [
        {
         "colorbar": {
          "title": {
           "side": "right",
           "text": "Pearson Correlation coefficient"
          }
         },
         "colorscale": [
          [
           0,
           "#440154"
          ],
          [
           0.1111111111111111,
           "#482878"
          ],
          [
           0.2222222222222222,
           "#3e4989"
          ],
          [
           0.3333333333333333,
           "#31688e"
          ],
          [
           0.4444444444444444,
           "#26828e"
          ],
          [
           0.5555555555555556,
           "#1f9e89"
          ],
          [
           0.6666666666666666,
           "#35b779"
          ],
          [
           0.7777777777777778,
           "#6ece58"
          ],
          [
           0.8888888888888888,
           "#b5de2b"
          ],
          [
           1,
           "#fde725"
          ]
         ],
         "type": "heatmap",
         "x": [
          "gender",
          "seniorcitizen",
          "partner",
          "dependents",
          "phoneservice",
          "onlinesecurity",
          "onlinebackup",
          "deviceprotection",
          "techsupport",
          "streamingtv",
          "streamingmovies",
          "paperlessbilling",
          "churn",
          "multiplelines_no",
          "multiplelines_no_phone_service",
          "multiplelines_yes",
          "internetservice_dsl",
          "internetservice_fiber_optic",
          "internetservice_no",
          "contract_month_to_month",
          "contract_one_year",
          "contract_two_year",
          "paymentmethod_bank_transfer_automatic",
          "paymentmethod_credit_card_automatic",
          "paymentmethod_electronic_check",
          "paymentmethod_mailed_check",
          "tenure_group_tenure_0_12",
          "tenure_group_tenure_12_24",
          "tenure_group_tenure_24_48",
          "tenure_group_tenure_48_60",
          "tenure_group_tenure_gt_60",
          "tenure",
          "monthlycharges",
          "totalcharges"
         ],
         "y": [
          "gender",
          "seniorcitizen",
          "partner",
          "dependents",
          "phoneservice",
          "onlinesecurity",
          "onlinebackup",
          "deviceprotection",
          "techsupport",
          "streamingtv",
          "streamingmovies",
          "paperlessbilling",
          "churn",
          "multiplelines_no",
          "multiplelines_no_phone_service",
          "multiplelines_yes",
          "internetservice_dsl",
          "internetservice_fiber_optic",
          "internetservice_no",
          "contract_month_to_month",
          "contract_one_year",
          "contract_two_year",
          "paymentmethod_bank_transfer_automatic",
          "paymentmethod_credit_card_automatic",
          "paymentmethod_electronic_check",
          "paymentmethod_mailed_check",
          "tenure_group_tenure_0_12",
          "tenure_group_tenure_12_24",
          "tenure_group_tenure_24_48",
          "tenure_group_tenure_48_60",
          "tenure_group_tenure_gt_60",
          "tenure",
          "monthlycharges",
          "totalcharges"
         ],
         "z": [
          [
           1,
           -0.001819390613419179,
           -0.0013790513218356025,
           0.010348917127614397,
           -0.007514979909200033,
           -0.01632782307070617,
           -0.013092839264555001,
           -0.0008067457759124324,
           -0.008507162405232782,
           -0.0071243969867245535,
           -0.010105418366566195,
           -0.011901894766838502,
           -0.008544643224947218,
           0.0043346914502916285,
           0.0075149799091999425,
           -0.008882737146286056,
           0.00758357610303961,
           -0.011189259276385864,
           0.004744965758849955,
           -0.0032507651194551004,
           0.0077548529142672145,
           -0.003603167413572989,
           -0.015973079031173835,
           0.001631872518613598,
           0.0008437084888753327,
           0.01319936726545174,
           -0.0010503798619876774,
           -0.0006494991207074467,
           -0.010516394125351592,
           -0.004318975744551275,
           0.01627881894278637,
           0.005285371870295646,
           -0.013779327268354416,
           4.783950839776602e-05
          ],
          [
           -0.001819390613419179,
           1,
           0.01695661453202187,
           -0.21055006112684216,
           0.008391611911217043,
           -0.0385763901686064,
           0.06666279065142021,
           0.059513871482029225,
           -0.060576839406188035,
           0.10544501753678828,
           0.11984236746151568,
           0.15625775052783097,
           0.1505410534156757,
           -0.13637672686229402,
           -0.008391611911217034,
           0.14299625086621018,
           -0.10827563872848943,
           0.25492331502717946,
           -0.18251949495535458,
           0.13775207088551514,
           -0.0464907545657889,
           -0.11620511425710835,
           -0.01623474200582214,
           -0.024359419683712323,
           0.17132216591713703,
           -0.15298719260173027,
           -0.02771322371899571,
           0.0018604411671567017,
           0.02038346087056509,
           0.01418568213097567,
           -0.0024069937431968856,
           0.01568347989913396,
           0.21987422950593646,
           0.10241060539532633
          ],
          [
           -0.0013790513218356025,
           0.01695661453202187,
           1,
           0.45226888584550023,
           0.018397189302703662,
           0.14334606167364233,
           0.14184917072520303,
           0.1535564364182745,
           0.12020601780298455,
           0.12448262672518244,
           0.11810820943292764,
           -0.013956696136191696,
           -0.14998192562006138,
           -0.13002839561671578,
           -0.018397189302703666,
           0.1425612874681736,
           -0.0010430787434336079,
           0.0012346095228208073,
           -0.0002855204740384597,
           -0.2802019157901561,
           0.08306706395255747,
           0.24733370647615796,
           0.11140561212215645,
           0.08232738919649572,
           -0.08320661736633733,
           -0.09694798339506473,
           -0.30506147447521575,
           -0.048481275955609554,
           0.028467762106169584,
           0.10534126166196492,
           0.28035324824529767,
           0.38191150910757077,
           0.09782497186892049,
           0.31907236323857324
          ],
          [
           0.010348917127614397,
           -0.21055006112684216,
           0.45226888584550023,
           1,
           -0.001077812708067608,
           0.08078553224088346,
           0.023638813060609963,
           0.013899668260943368,
           0.06305315799997827,
           -0.01649868035801052,
           -0.03837492560091315,
           -0.11013068597336993,
           -0.16312843938822,
           0.023387669506115295,
           0.0010778127080674446,
           -0.024306661314620996,
           0.05159321756471237,
           -0.16410089031864167,
           0.13838288994798562,
           -0.2297147909213749,
           0.06922205672629726,
           0.2016993304297039,
           0.05236890928127545,
           0.06113408322897806,
           -0.1492739811934336,
           0.05644841359590588,
           -0.1453791450700764,
           -0.0014594010172321779,
           0.02464494581436856,
           0.03141940765317757,
           0.1180897178470907,
           0.16338596691556453,
           -0.11234295350128225,
           0.0646532494217739
          ],
          [
           -0.007514979909200033,
           0.008391611911217043,
           0.018397189302703662,
           -0.001077812708067608,
           1,
           -0.09167570469500017,
           -0.05213341919796151,
           -0.07007561533228862,
           -0.09513849428922488,
           -0.021382711870578185,
           -0.03347749718236395,
           0.016696123642784135,
           0.011691398865422323,
           0.31521775126801543,
           -1,
           0.2795295400049995,
           -0.45225528090657086,
           0.29018311793843365,
           0.1718171065699321,
           -0.0012425134067734023,
           -0.0031417807184111624,
           0.0044422513152849235,
           0.008271245210923577,
           -0.006916252198127548,
           0.0027471183312986857,
           -0.004462839400732194,
           -0.00694955039725527,
           0.012306612692869211,
           -0.014777815951004124,
           -0.009750281447949313,
           0.020515848357693,
           0.007877333295041818,
           0.2480330664757158,
           0.11300826095473893
          ],
          [
           -0.01632782307070617,
           -0.0385763901686064,
           0.14334606167364233,
           0.08078553224088346,
           -0.09167570469500017,
           1,
           0.28328454262626757,
           0.274875003842449,
           0.35445796164509147,
           0.1755144708953688,
           0.18742584957299618,
           -0.004051250607988492,
           -0.17126992353351678,
           -0.15167751168612081,
           0.09167570469500017,
           0.0985919934252315,
           0.3203433737595294,
           -0.03050626904076453,
           -0.33279949932167546,
           -0.24684428487400414,
           0.10065777311969464,
           0.19169819815673583,
           0.09436639279979232,
           0.11547320256635303,
           -0.11229466175861408,
           -0.07991768713640306,
           -0.24240887436050382,
           -0.0556619409198579,
           0.0076950987178344265,
           0.0716632710172793,
           0.26322845571231857,
           0.32829748818662485,
           0.2964469592375873,
           0.41261876950713655
          ],
          [
           -0.013092839264555001,
           0.06666279065142021,
           0.14184917072520303,
           0.023638813060609963,
           -0.05213341919796151,
           0.28328454262626757,
           1,
           0.30305766643807824,
           0.29370469187781045,
           0.2816010622259753,
           0.27452301070772545,
           0.12705603268686044,
           -0.08230696876508349,
           -0.2307241996493635,
           0.05213341919796151,
           0.2022283972825372,
           0.15676460995441888,
           0.16594028590307677,
           -0.3809903317320751,
           -0.16439302987919688,
           0.08411316021806066,
           0.11139068731904943,
           0.0869415675760231,
           0.09045518641091457,
           -0.00036426636786500763,
           -0.17407470231312427,
           -0.26736609150996915,
           -0.08408097138202993,
           0.023085000444599418,
           0.09919210454041022,
           0.2787875817043761,
           0.36113847824658735,
           0.4415290881871007,
           0.510100290145439
          ],
          [
           -0.0008067457759124324,
           0.059513871482029225,
           0.1535564364182745,
           0.013899668260943368,
           -0.07007561533228862,
           0.274875003842449,
           0.30305766643807824,
           1,
           0.33285005080469243,
           0.3899237975094597,
           0.4023088228216018,
           0.10407904724402045,
           -0.06619251684228997,
           -0.24084736328107104,
           0.07007561533228862,
           0.201732824517757,
           0.14514955473692903,
           0.17635617323471664,
           -0.3801513548956378,
           -0.22598757731112262,
           0.10291089629343353,
           0.16524753554250074,
           0.08304690185342707,
           0.11125168129784246,
           -0.003308493511411254,
           -0.18732483013668594,
           -0.2739200544387702,
           -0.07733200729381666,
           0.0449724925036831,
           0.07685425917962475,
           0.2755370112516221,
           0.3615199952862194,
           0.48260691224313995,
           0.5228814865154369
          ],
          [
           -0.008507162405232782,
           -0.060576839406188035,
           0.12020601780298455,
           0.06305315799997827,
           -0.09513849428922488,
           0.35445796164509147,
           0.29370469187781045,
           0.33285005080469243,
           1,
           0.277548599200549,
           0.2801552432906342,
           0.03753587307318976,
           -0.16471590834411207,
           -0.15553386914722026,
           0.09513849428922488,
           0.10042125595413272,
           0.3121832985222757,
           -0.020298967520709605,
           -0.33569508671869736,
           -0.28549086901033593,
           0.09625836225380952,
           0.24092408252256528,
           0.10047200087443556,
           0.11702370730984143,
           -0.11480726996437085,
           -0.08463055196615278,
           -0.23862820953475447,
           -0.07201850701116608,
           0.022136746625123563,
           0.06270980841796413,
           0.26539627802277554,
           0.325288454100009,
           0.33830139143424953,
           0.4328683682410939
          ],
          [
           -0.0071243969867245535,
           0.10544501753678828,
           0.12448262672518244,
           -0.01649868035801052,
           -0.021382711870578185,
           0.1755144708953688,
           0.2816010622259753,
           0.3899237975094597,
           0.277548599200549,
           1,
           0.5333800979319763,
           0.22424119793848596,
           0.06325398027519404,
           -0.26746641467807136,
           0.021382711870577976,
           0.25780350066730157,
           0.014973379079172382,
           0.3297441152730512,
           -0.41495062156578044,
           -0.11254989712217289,
           0.061929689963200855,
           0.07212357537070835,
           0.04612070051242859,
           0.040010276337768505,
           0.1447470086556032,
           -0.2477115493728633,
           -0.22076087097198827,
           -0.050234026791169964,
           0.02882937792536747,
           0.08796930347195206,
           0.1981501311372027,
           0.280263628074823,
           0.6296678921767406,
           0.5157090769923935
          ],
          [
           -0.010105418366566195,
           0.11984236746151568,
           0.11810820943292764,
           -0.03837492560091315,
           -0.03347749718236395,
           0.18742584957299618,
           0.27452301070772545,
           0.4023088228216018,
           0.2801552432906342,
           0.5333800979319763,
           1,
           0.21158250423808916,
           0.06085993668146301,
           -0.2759953197780627,
           0.03347749718236395,
           0.2591943175468362,
           0.02562310861129719,
           0.3224574540559222,
           -0.41844975538334045,
           -0.11786687989290552,
           0.06477997824381859,
           0.07560257919382919,
           0.04875484714119087,
           0.048398314068082315,
           0.13742008269944622,
           -0.2502897149395328,
           -0.2213881765552116,
           -0.054338325985925064,
           0.02504810987080452,
           0.08661557153323526,
           0.20754366554274195,
           0.2854022671060787,
           0.6272347301103788,
           0.5198665357835017
          ],
          [
           -0.011901894766838502,
           0.15625775052783097,
           -0.013956696136191696,
           -0.11013068597336993,
           0.016696123642784135,
           -0.004051250607988492,
           0.12705603268686044,
           0.10407904724402045,
           0.03753587307318976,
           0.22424119793848596,
           0.21158250423808916,
           1,
           0.19145432108006671,
           -0.1519737778021082,
           -0.016696123642784142,
           0.1637457730112591,
           -0.06338966821876392,
           0.32647017160380964,
           -0.3205922451174622,
           0.16829626845602835,
           -0.052278164693773076,
           -0.1462807050684952,
           -0.017468900682392235,
           -0.013726285095880284,
           0.20842668228002995,
           -0.20398064814312206,
           -0.003859801258113621,
           0.003328006906514837,
           -0.005388027856510724,
           0.010626123397145876,
           -0.001414839543993747,
           0.004823156615386272,
           0.3519304153712528,
           0.15782978286591698
          ],
          [
           -0.008544643224947218,
           0.1505410534156757,
           -0.14998192562006138,
           -0.16312843938822,
           0.011691398865422323,
           -0.17126992353351678,
           -0.08230696876508349,
           -0.06619251684228997,
           -0.16471590834411207,
           0.06325398027519404,
           0.06085993668146301,
           0.19145432108006671,
           1,
           -0.03265360299730401,
           -0.01169139886542221,
           0.040032739872523634,
           -0.12414142842590645,
           0.30746259069818205,
           -0.22757762044656818,
           0.40456455007784087,
           -0.17822502328994053,
           -0.30155233962397837,
           -0.1181359978280296,
           -0.1346868372340906,
           0.30145463790858057,
           -0.09077284582582087,
           0.3196275743451608,
           0.019928968647699895,
           -0.07585881574899747,
           -0.10079964105628228,
           -0.2260781096915624,
           -0.3540493589532626,
           0.1928582184700881,
           -0.1994840835675715
          ],
          [
           0.0043346914502916285,
           -0.13637672686229402,
           -0.13002839561671578,
           0.023387669506115295,
           0.31521775126801543,
           -0.15167751168612081,
           -0.2307241996493635,
           -0.24084736328107104,
           -0.15553386914722026,
           -0.26746641467807136,
           -0.2759953197780627,
           -0.1519737778021082,
           -0.03265360299730401,
           1,
           -0.3152177512680155,
           -0.8230760279128654,
           -0.06951498798055156,
           -0.19053099387424138,
           0.3099843327828031,
           0.08679791861868207,
           0.0016944436455045328,
           -0.1027560050227385,
           -0.06966277653167001,
           -0.06371157499118037,
           -0.0809902106781048,
           0.22239547449983668,
           0.25617128287621094,
           0.05170274575687212,
           -0.03215707580783382,
           -0.08063023581160907,
           -0.2427981631428492,
           -0.323890766966285,
           -0.3385136039067215,
           -0.39676537714107735
          ],
          [
           0.0075149799091999425,
           -0.008391611911217034,
           -0.018397189302703666,
           0.0010778127080674446,
           -1,
           0.09167570469500017,
           0.05213341919796151,
           0.07007561533228862,
           0.09513849428922488,
           0.021382711870577976,
           0.03347749718236395,
           -0.016696123642784142,
           -0.01169139886542221,
           -0.3152177512680155,
           1,
           -0.2795295400049995,
           0.45225528090657086,
           -0.29018311793843365,
           -0.1718171065699321,
           0.0012425134067734103,
           0.0031417807184113207,
           -0.004442251315284906,
           -0.008271245210923579,
           0.006916252198127564,
           -0.0027471183312986857,
           0.004462839400732508,
           0.006949550397255344,
           -0.012306612692869208,
           0.014777815951004133,
           0.009750281447949528,
           -0.02051584835769357,
           -0.007877333295041807,
           -0.2480330664757158,
           -0.1130082609547389
          ],
          [
           -0.008882737146286056,
           0.14299625086621018,
           0.1425612874681736,
           -0.024306661314620996,
           0.2795295400049995,
           0.0985919934252315,
           0.2022283972825372,
           0.201732824517757,
           0.10042125595413272,
           0.25780350066730157,
           0.2591943175468362,
           0.1637457730112591,
           0.040032739872523634,
           -0.8230760279128654,
           -0.2795295400049995,
           1,
           -0.2003183214156725,
           0.3664202566051166,
           -0.21079354712189471,
           -0.08855832218643561,
           -0.003594461398434266,
           0.10661820819152797,
           0.07542871730303179,
           0.06031899094084278,
           0.08358299305536028,
           -0.22767156949803466,
           -0.26333120743722876,
           -0.04494367118136859,
           0.023690157563696343,
           0.07573985650934924,
           0.25792003827196397,
           0.33239924473562554,
           0.4909121973267493,
           0.4690421356971826
          ],
          [
           0.00758357610303961,
           -0.10827563872848943,
           -0.0010430787434336079,
           0.05159321756471237,
           -0.45225528090657086,
           0.3203433737595294,
           0.15676460995441888,
           0.14514955473692903,
           0.3121832985222757,
           0.014973379079172382,
           0.02562310861129719,
           -0.06338966821876392,
           -0.12414142842590645,
           -0.06951498798055156,
           0.45225528090657086,
           -0.2003183214156725,
           1,
           -0.6416356650534906,
           -0.3799117751052334,
           -0.06522632996531619,
           0.04729967349374622,
           0.030923714855574744,
           0.02475954021490298,
           0.05122176476699011,
           -0.10429333541089097,
           0.04275388869901973,
           -0.0014704079413737543,
           -0.013428683581908657,
           -0.0004678565419111244,
           -0.00079001062411148,
           0.014665913237832425,
           0.013786269825793156,
           -0.16136793538251534,
           -0.052189866637419764
          ],
          [
           -0.011189259276385864,
           0.25492331502717946,
           0.0012346095228208073,
           -0.16410089031864167,
           0.29018311793843365,
           -0.03050626904076453,
           0.16594028590307677,
           0.17635617323471664,
           -0.020298967520709605,
           0.3297441152730512,
           0.3224574540559222,
           0.32647017160380964,
           0.30746259069818205,
           -0.19053099387424138,
           -0.29018311793843365,
           0.3664202566051166,
           -0.6416356650534906,
           1,
           -0.4657363343235562,
           0.24301351814831268,
           -0.07680902975096314,
           -0.20996452908904545,
           -0.022778855291876635,
           -0.050551991558036385,
           0.3357634768102139,
           -0.3059839224841771,
           -0.021440560786684968,
           -0.0014940221824271288,
           0.005613761063888361,
           0.01746632456448475,
           0.0061120739544805805,
           0.017929529906438778,
           0.7871948529419658,
           0.3607687920142481
          ],
          [
           0.004744965758849955,
           -0.18251949495535458,
           -0.0002855204740384597,
           0.13838288994798562,
           0.1718171065699321,
           -0.33279949932167546,
           -0.3809903317320751,
           -0.3801513548956378,
           -0.33569508671869736,
           -0.41495062156578044,
           -0.41844975538334045,
           -0.3205922451174622,
           -0.22757762044656818,
           0.3099843327828031,
           -0.1718171065699321,
           -0.21079354712189471,
           -0.3799117751052334,
           -0.4657363343235562,
           1,
           -0.217823505545489,
           0.038061459724733744,
           0.21754205606911817,
           -0.0010943032992050863,
           0.0018701145623306124,
           -0.2846082097225956,
           0.3196937439459745,
           0.027554030004254233,
           0.01729491162511594,
           -0.006230482005525746,
           -0.020153136101165186,
           -0.024291768931540957,
           -0.037528889581619734,
           -0.7631910615169571,
           -0.37487836259896
          ],
          [
           -0.0032507651194551004,
           0.13775207088551514,
           -0.2802019157901561,
           -0.2297147909213749,
           -0.0012425134067734023,
           -0.24684428487400414,
           -0.16439302987919688,
           -0.22598757731112262,
           -0.28549086901033593,
           -0.11254989712217289,
           -0.11786687989290552,
           0.16829626845602835,
           0.40456455007784087,
           0.08679791861868207,
           0.0012425134067734103,
           -0.08855832218643561,
           -0.06522632996531619,
           0.24301351814831268,
           -0.217823505545489,
           1,
           -0.5700527848944215,
           -0.6219327447713561,
           -0.18015909738683936,
           -0.20496021669474843,
           0.33087881370583405,
           0.006208692442055045,
           0.49205202568054424,
           0.14000368638519403,
           -0.05215631834144274,
           -0.19870886170688193,
           -0.47691223651608966,
           -0.649345648869048,
           0.0589334582292538,
           -0.4467758743246882
          ],
          [
           0.0077548529142672145,
           -0.0464907545657889,
           0.08306706395255747,
           0.06922205672629726,
           -0.0031417807184111624,
           0.10065777311969464,
           0.08411316021806066,
           0.10291089629343353,
           0.09625836225380952,
           0.061929689963200855,
           0.06477997824381859,
           -0.052278164693773076,
           -0.17822502328994053,
           0.0016944436455045328,
           0.0031417807184113207,
           -0.003594461398434266,
           0.04729967349374622,
           -0.07680902975096314,
           0.038061459724733744,
           -0.5700527848944215,
           1,
           -0.28884268256780254,
           0.05762874929825631,
           0.06758968145792751,
           -0.10954646682258033,
           0.0001971241890499786,
           -0.2512993032332009,
           -0.017196458507178478,
           0.15389327309228798,
           0.15891681528381144,
           0.01614171428694319,
           0.2023384083649546,
           0.004809615120440435,
           0.17056928655718714
          ],
          [
           -0.003603167413572989,
           -0.11620511425710835,
           0.24733370647615796,
           0.2016993304297039,
           0.0044422513152849235,
           0.19169819815673583,
           0.11139068731904943,
           0.16524753554250074,
           0.24092408252256528,
           0.07212357537070835,
           0.07560257919382919,
           -0.1462807050684952,
           -0.30155233962397837,
           -0.1027560050227385,
           -0.004442251315284906,
           0.10661820819152797,
           0.030923714855574744,
           -0.20996452908904545,
           0.21754205606911817,
           -0.6219327447713561,
           -0.28884268256780254,
           1,
           0.1550042180767056,
           0.17440993895950943,
           -0.28114743393395547,
           -0.007422540118618717,
           -0.33385014178843664,
           -0.14674905438081498,
           -0.08589992270093438,
           0.08008211690632902,
           0.5403360993105428,
           0.5638005002286687,
           -0.07325607300641665,
           0.35803561609140894
          ],
          [
           -0.015973079031173835,
           -0.01623474200582214,
           0.11140561212215645,
           0.05236890928127545,
           0.008271245210923577,
           0.09436639279979232,
           0.0869415675760231,
           0.08304690185342707,
           0.10047200087443556,
           0.04612070051242859,
           0.04875484714119087,
           -0.017468900682392235,
           -0.1181359978280296,
           -0.06966277653167001,
           -0.008271245210923579,
           0.07542871730303179,
           0.02475954021490298,
           -0.022778855291876635,
           -0.0010943032992050863,
           -0.18015909738683936,
           0.05762874929825631,
           0.1550042180767056,
           1,
           -0.27842319712065355,
           -0.3772703602158491,
           -0.28809669563791657,
           -0.18585512574019983,
           -0.04632871286727803,
           0.02172285552026243,
           0.060183035947993645,
           0.1842491799195877,
           0.24382246495742915,
           0.04240972759459293,
           0.18611944938877964
          ],
          [
           0.001631872518613598,
           -0.024359419683712323,
           0.08232738919649572,
           0.06113408322897806,
           -0.006916252198127548,
           0.11547320256635303,
           0.09045518641091457,
           0.11125168129784246,
           0.11702370730984143,
           0.040010276337768505,
           0.048398314068082315,
           -0.013726285095880284,
           -0.1346868372340906,
           -0.06371157499118037,
           0.006916252198127564,
           0.06031899094084278,
           0.05122176476699011,
           -0.050551991558036385,
           0.0018701145623306124,
           -0.20496021669474843,
           0.06758968145792751,
           0.17440993895950943,
           -0.27842319712065355,
           1,
           -0.37397801626928234,
           -0.28558254792863036,
           -0.18416488323856553,
           -0.03964706284937272,
           0.028232511385228868,
           0.048166948994686994,
           0.17929367300430438,
           0.23280034413314615,
           0.030054608328366407,
           0.1826633671546002
          ],
          [
           0.0008437084888753327,
           0.17132216591713703,
           -0.08320661736633733,
           -0.1492739811934336,
           0.0027471183312986857,
           -0.11229466175861408,
           -0.00036426636786500763,
           -0.003308493511411254,
           -0.11480726996437085,
           0.1447470086556032,
           0.13742008269944622,
           0.20842668228002995,
           0.30145463790858057,
           -0.0809902106781048,
           -0.0027471183312986857,
           0.08358299305536028,
           -0.10429333541089097,
           0.3357634768102139,
           -0.2846082097225956,
           0.33087881370583405,
           -0.10954646682258033,
           -0.28114743393395547,
           -0.3772703602158491,
           -0.37397801626928234,
           1,
           -0.3869714587097063,
           0.1605298863682866,
           0.030386796069204806,
           -0.011569992641797876,
           -0.030584308144429393,
           -0.1754558932547761,
           -0.21019749610817867,
           0.27111737739356384,
           -0.060436278689198375
          ],
          [
           0.01319936726545174,
           -0.15298719260173027,
           -0.09694798339506473,
           0.05644841359590588,
           -0.004462839400732194,
           -0.07991768713640306,
           -0.17407470231312427,
           -0.18732483013668594,
           -0.08463055196615278,
           -0.2477115493728633,
           -0.2502897149395328,
           -0.20398064814312206,
           -0.09077284582582087,
           0.22239547449983668,
           0.004462839400732508,
           -0.22767156949803466,
           0.04275388869901973,
           -0.3059839224841771,
           0.3196937439459745,
           0.006208692442055045,
           0.0001971241890499786,
           -0.007422540118618717,
           -0.28809669563791657,
           -0.28558254792863036,
           -0.3869714587097063,
           1,
           0.18322236745325193,
           0.05037142820607642,
           -0.03609490261093368,
           -0.07217004405828796,
           -0.16005348763614577,
           -0.23218078070201725,
           -0.37656828808083825,
           -0.29470837017550655
          ],
          [
           -0.0010503798619876774,
           -0.02771322371899571,
           -0.30506147447521575,
           -0.1453791450700764,
           -0.00694955039725527,
           -0.24240887436050382,
           -0.26736609150996915,
           -0.2739200544387702,
           -0.23862820953475447,
           -0.22076087097198827,
           -0.2213881765552116,
           -0.003859801258113621,
           0.3196275743451608,
           0.25617128287621094,
           0.006949550397255344,
           -0.26333120743722876,
           -0.0014704079413737543,
           -0.021440560786684968,
           0.027554030004254233,
           0.49205202568054424,
           -0.2512993032332009,
           -0.33385014178843664,
           -0.18585512574019983,
           -0.18416488323856553,
           0.1605298863682866,
           0.18322236745325193,
           1,
           -0.2762680073398803,
           -0.3623015030946614,
           -0.2451384283025972,
           -0.33468123603042815,
           -0.7543297340826929,
           -0.19188064290675352,
           -0.5924430690900127
          ],
          [
           -0.0006494991207074467,
           0.0018604411671567017,
           -0.048481275955609554,
           -0.0014594010172321779,
           0.012306612692869211,
           -0.0556619409198579,
           -0.08408097138202993,
           -0.07733200729381666,
           -0.07201850701116608,
           -0.050234026791169964,
           -0.054338325985925064,
           0.003328006906514837,
           0.019928968647699895,
           0.05170274575687212,
           -0.012306612692869208,
           -0.04494367118136859,
           -0.013428683581908657,
           -0.0014940221824271288,
           0.01729491162511594,
           0.14000368638519403,
           -0.017196458507178478,
           -0.14674905438081498,
           -0.04632871286727803,
           -0.03964706284937272,
           0.030386796069204806,
           0.05037142820607642,
           -0.2762680073398803,
           1,
           -0.2235164922454485,
           -0.15123448603095185,
           -0.20647658168386077,
           -0.23667330012633156,
           -0.04722022100509185,
           -0.21074518016919763
          ],
          [
           -0.010516394125351592,
           0.02038346087056509,
           0.028467762106169584,
           0.02464494581436856,
           -0.014777815951004124,
           0.0076950987178344265,
           0.023085000444599418,
           0.0449724925036831,
           0.022136746625123563,
           0.02882937792536747,
           0.02504810987080452,
           -0.005388027856510724,
           -0.07585881574899747,
           -0.03215707580783382,
           0.014777815951004133,
           0.023690157563696343,
           -0.0004678565419111244,
           0.005613761063888361,
           -0.006230482005525746,
           -0.05215631834144274,
           0.15389327309228798,
           -0.08589992270093438,
           0.02172285552026243,
           0.028232511385228868,
           -0.011569992641797876,
           -0.03609490261093368,
           -0.3623015030946614,
           -0.2235164922454485,
           1,
           -0.19833089664036088,
           -0.270776108381858,
           0.08315302530583908,
           0.020378382125023714,
           0.025594453789595965
          ],
          [
           -0.004318975744551275,
           0.01418568213097567,
           0.10534126166196492,
           0.03141940765317757,
           -0.009750281447949313,
           0.0716632710172793,
           0.09919210454041022,
           0.07685425917962475,
           0.06270980841796413,
           0.08796930347195206,
           0.08661557153323526,
           0.010626123397145876,
           -0.10079964105628228,
           -0.08063023581160907,
           0.009750281447949528,
           0.07573985650934924,
           -0.00079001062411148,
           0.01746632456448475,
           -0.020153136101165186,
           -0.19870886170688193,
           0.15891681528381144,
           0.08008211690632902,
           0.060183035947993645,
           0.048166948994686994,
           -0.030584308144429393,
           -0.07217004405828796,
           -0.2451384283025972,
           -0.15123448603095185,
           -0.19833089664036088,
           1,
           -0.18321102469526726,
           0.3293670640558551,
           0.07004784345008332,
           0.2529046056409522
          ],
          [
           0.01627881894278637,
           -0.0024069937431968856,
           0.28035324824529767,
           0.1180897178470907,
           0.020515848357693,
           0.26322845571231857,
           0.2787875817043761,
           0.2755370112516221,
           0.26539627802277554,
           0.1981501311372027,
           0.20754366554274195,
           -0.001414839543993747,
           -0.2260781096915624,
           -0.2427981631428492,
           -0.02051584835769357,
           0.25792003827196397,
           0.014665913237832425,
           0.0061120739544805805,
           -0.024291768931540957,
           -0.47691223651608966,
           0.01614171428694319,
           0.5403360993105428,
           0.1842491799195877,
           0.17929367300430438,
           -0.1754558932547761,
           -0.16005348763614577,
           -0.33468123603042815,
           -0.20647658168386077,
           -0.270776108381858,
           -0.18321102469526726,
           1,
           0.7272367846079387,
           0.18543957041906836,
           0.6393119430257832
          ],
          [
           0.005285371870295646,
           0.01568347989913396,
           0.38191150910757077,
           0.16338596691556453,
           0.007877333295041818,
           0.32829748818662485,
           0.36113847824658735,
           0.3615199952862194,
           0.325288454100009,
           0.280263628074823,
           0.2854022671060787,
           0.004823156615386272,
           -0.3540493589532626,
           -0.323890766966285,
           -0.007877333295041807,
           0.33239924473562554,
           0.013786269825793156,
           0.017929529906438778,
           -0.037528889581619734,
           -0.649345648869048,
           0.2023384083649546,
           0.5638005002286687,
           0.24382246495742915,
           0.23280034413314615,
           -0.21019749610817867,
           -0.23218078070201725,
           -0.7543297340826929,
           -0.23667330012633156,
           0.08315302530583908,
           0.3293670640558551,
           0.7272367846079387,
           1,
           0.2468617666408947,
           0.8258804609332017
          ],
          [
           -0.013779327268354416,
           0.21987422950593646,
           0.09782497186892049,
           -0.11234295350128225,
           0.2480330664757158,
           0.2964469592375873,
           0.4415290881871007,
           0.48260691224313995,
           0.33830139143424953,
           0.6296678921767406,
           0.6272347301103788,
           0.3519304153712528,
           0.1928582184700881,
           -0.3385136039067215,
           -0.2480330664757158,
           0.4909121973267493,
           -0.16136793538251534,
           0.7871948529419658,
           -0.7631910615169571,
           0.0589334582292538,
           0.004809615120440435,
           -0.07325607300641665,
           0.04240972759459293,
           0.030054608328366407,
           0.27111737739356384,
           -0.37656828808083825,
           -0.19188064290675352,
           -0.04722022100509185,
           0.020378382125023714,
           0.07004784345008332,
           0.18543957041906836,
           0.2468617666408947,
           1,
           0.6510648032262032
          ],
          [
           4.783950839776602e-05,
           0.10241060539532633,
           0.31907236323857324,
           0.0646532494217739,
           0.11300826095473893,
           0.41261876950713655,
           0.510100290145439,
           0.5228814865154369,
           0.4328683682410939,
           0.5157090769923935,
           0.5198665357835017,
           0.15782978286591698,
           -0.1994840835675715,
           -0.39676537714107735,
           -0.1130082609547389,
           0.4690421356971826,
           -0.052189866637419764,
           0.3607687920142481,
           -0.37487836259896,
           -0.4467758743246882,
           0.17056928655718714,
           0.35803561609140894,
           0.18611944938877964,
           0.1826633671546002,
           -0.060436278689198375,
           -0.29470837017550655,
           -0.5924430690900127,
           -0.21074518016919763,
           0.025594453789595965,
           0.2529046056409522,
           0.6393119430257832,
           0.8258804609332017,
           0.6510648032262032,
           1
          ]
         ]
        }
       ],
       "layout": {
        "autosize": false,
        "height": 720,
        "margin": {
         "b": 210,
         "l": 210,
         "r": 0,
         "t": 25
        },
        "template": {
         "data": {
          "bar": [
           {
            "error_x": {
             "color": "#2a3f5f"
            },
            "error_y": {
             "color": "#2a3f5f"
            },
            "marker": {
             "line": {
              "color": "#E5ECF6",
              "width": 0.5
             }
            },
            "type": "bar"
           }
          ],
          "barpolar": [
           {
            "marker": {
             "line": {
              "color": "#E5ECF6",
              "width": 0.5
             }
            },
            "type": "barpolar"
           }
          ],
          "carpet": [
           {
            "aaxis": {
             "endlinecolor": "#2a3f5f",
             "gridcolor": "white",
             "linecolor": "white",
             "minorgridcolor": "white",
             "startlinecolor": "#2a3f5f"
            },
            "baxis": {
             "endlinecolor": "#2a3f5f",
             "gridcolor": "white",
             "linecolor": "white",
             "minorgridcolor": "white",
             "startlinecolor": "#2a3f5f"
            },
            "type": "carpet"
           }
          ],
          "choropleth": [
           {
            "colorbar": {
             "outlinewidth": 0,
             "ticks": ""
            },
            "type": "choropleth"
           }
          ],
          "contour": [
           {
            "colorbar": {
             "outlinewidth": 0,
             "ticks": ""
            },
            "colorscale": [
             [
              0,
              "#0d0887"
             ],
             [
              0.1111111111111111,
              "#46039f"
             ],
             [
              0.2222222222222222,
              "#7201a8"
             ],
             [
              0.3333333333333333,
              "#9c179e"
             ],
             [
              0.4444444444444444,
              "#bd3786"
             ],
             [
              0.5555555555555556,
              "#d8576b"
             ],
             [
              0.6666666666666666,
              "#ed7953"
             ],
             [
              0.7777777777777778,
              "#fb9f3a"
             ],
             [
              0.8888888888888888,
              "#fdca26"
             ],
             [
              1,
              "#f0f921"
             ]
            ],
            "type": "contour"
           }
          ],
          "contourcarpet": [
           {
            "colorbar": {
             "outlinewidth": 0,
             "ticks": ""
            },
            "type": "contourcarpet"
           }
          ],
          "heatmap": [
           {
            "colorbar": {
             "outlinewidth": 0,
             "ticks": ""
            },
            "colorscale": [
             [
              0,
              "#0d0887"
             ],
             [
              0.1111111111111111,
              "#46039f"
             ],
             [
              0.2222222222222222,
              "#7201a8"
             ],
             [
              0.3333333333333333,
              "#9c179e"
             ],
             [
              0.4444444444444444,
              "#bd3786"
             ],
             [
              0.5555555555555556,
              "#d8576b"
             ],
             [
              0.6666666666666666,
              "#ed7953"
             ],
             [
              0.7777777777777778,
              "#fb9f3a"
             ],
             [
              0.8888888888888888,
              "#fdca26"
             ],
             [
              1,
              "#f0f921"
             ]
            ],
            "type": "heatmap"
           }
          ],
          "heatmapgl": [
           {
            "colorbar": {
             "outlinewidth": 0,
             "ticks": ""
            },
            "colorscale": [
             [
              0,
              "#0d0887"
             ],
             [
              0.1111111111111111,
              "#46039f"
             ],
             [
              0.2222222222222222,
              "#7201a8"
             ],
             [
              0.3333333333333333,
              "#9c179e"
             ],
             [
              0.4444444444444444,
              "#bd3786"
             ],
             [
              0.5555555555555556,
              "#d8576b"
             ],
             [
              0.6666666666666666,
              "#ed7953"
             ],
             [
              0.7777777777777778,
              "#fb9f3a"
             ],
             [
              0.8888888888888888,
              "#fdca26"
             ],
             [
              1,
              "#f0f921"
             ]
            ],
            "type": "heatmapgl"
           }
          ],
          "histogram": [
           {
            "marker": {
             "colorbar": {
              "outlinewidth": 0,
              "ticks": ""
             }
            },
            "type": "histogram"
           }
          ],
          "histogram2d": [
           {
            "colorbar": {
             "outlinewidth": 0,
             "ticks": ""
            },
            "colorscale": [
             [
              0,
              "#0d0887"
             ],
             [
              0.1111111111111111,
              "#46039f"
             ],
             [
              0.2222222222222222,
              "#7201a8"
             ],
             [
              0.3333333333333333,
              "#9c179e"
             ],
             [
              0.4444444444444444,
              "#bd3786"
             ],
             [
              0.5555555555555556,
              "#d8576b"
             ],
             [
              0.6666666666666666,
              "#ed7953"
             ],
             [
              0.7777777777777778,
              "#fb9f3a"
             ],
             [
              0.8888888888888888,
              "#fdca26"
             ],
             [
              1,
              "#f0f921"
             ]
            ],
            "type": "histogram2d"
           }
          ],
          "histogram2dcontour": [
           {
            "colorbar": {
             "outlinewidth": 0,
             "ticks": ""
            },
            "colorscale": [
             [
              0,
              "#0d0887"
             ],
             [
              0.1111111111111111,
              "#46039f"
             ],
             [
              0.2222222222222222,
              "#7201a8"
             ],
             [
              0.3333333333333333,
              "#9c179e"
             ],
             [
              0.4444444444444444,
              "#bd3786"
             ],
             [
              0.5555555555555556,
              "#d8576b"
             ],
             [
              0.6666666666666666,
              "#ed7953"
             ],
             [
              0.7777777777777778,
              "#fb9f3a"
             ],
             [
              0.8888888888888888,
              "#fdca26"
             ],
             [
              1,
              "#f0f921"
             ]
            ],
            "type": "histogram2dcontour"
           }
          ],
          "mesh3d": [
           {
            "colorbar": {
             "outlinewidth": 0,
             "ticks": ""
            },
            "type": "mesh3d"
           }
          ],
          "parcoords": [
           {
            "line": {
             "colorbar": {
              "outlinewidth": 0,
              "ticks": ""
             }
            },
            "type": "parcoords"
           }
          ],
          "pie": [
           {
            "automargin": true,
            "type": "pie"
           }
          ],
          "scatter": [
           {
            "marker": {
             "colorbar": {
              "outlinewidth": 0,
              "ticks": ""
             }
            },
            "type": "scatter"
           }
          ],
          "scatter3d": [
           {
            "line": {
             "colorbar": {
              "outlinewidth": 0,
              "ticks": ""
             }
            },
            "marker": {
             "colorbar": {
              "outlinewidth": 0,
              "ticks": ""
             }
            },
            "type": "scatter3d"
           }
          ],
          "scattercarpet": [
           {
            "marker": {
             "colorbar": {
              "outlinewidth": 0,
              "ticks": ""
             }
            },
            "type": "scattercarpet"
           }
          ],
          "scattergeo": [
           {
            "marker": {
             "colorbar": {
              "outlinewidth": 0,
              "ticks": ""
             }
            },
            "type": "scattergeo"
           }
          ],
          "scattergl": [
           {
            "marker": {
             "colorbar": {
              "outlinewidth": 0,
              "ticks": ""
             }
            },
            "type": "scattergl"
           }
          ],
          "scattermapbox": [
           {
            "marker": {
             "colorbar": {
              "outlinewidth": 0,
              "ticks": ""
             }
            },
            "type": "scattermapbox"
           }
          ],
          "scatterpolar": [
           {
            "marker": {
             "colorbar": {
              "outlinewidth": 0,
              "ticks": ""
             }
            },
            "type": "scatterpolar"
           }
          ],
          "scatterpolargl": [
           {
            "marker": {
             "colorbar": {
              "outlinewidth": 0,
              "ticks": ""
             }
            },
            "type": "scatterpolargl"
           }
          ],
          "scatterternary": [
           {
            "marker": {
             "colorbar": {
              "outlinewidth": 0,
              "ticks": ""
             }
            },
            "type": "scatterternary"
           }
          ],
          "surface": [
           {
            "colorbar": {
             "outlinewidth": 0,
             "ticks": ""
            },
            "colorscale": [
             [
              0,
              "#0d0887"
             ],
             [
              0.1111111111111111,
              "#46039f"
             ],
             [
              0.2222222222222222,
              "#7201a8"
             ],
             [
              0.3333333333333333,
              "#9c179e"
             ],
             [
              0.4444444444444444,
              "#bd3786"
             ],
             [
              0.5555555555555556,
              "#d8576b"
             ],
             [
              0.6666666666666666,
              "#ed7953"
             ],
             [
              0.7777777777777778,
              "#fb9f3a"
             ],
             [
              0.8888888888888888,
              "#fdca26"
             ],
             [
              1,
              "#f0f921"
             ]
            ],
            "type": "surface"
           }
          ],
          "table": [
           {
            "cells": {
             "fill": {
              "color": "#EBF0F8"
             },
             "line": {
              "color": "white"
             }
            },
            "header": {
             "fill": {
              "color": "#C8D4E3"
             },
             "line": {
              "color": "white"
             }
            },
            "type": "table"
           }
          ]
         },
         "layout": {
          "annotationdefaults": {
           "arrowcolor": "#2a3f5f",
           "arrowhead": 0,
           "arrowwidth": 1
          },
          "coloraxis": {
           "colorbar": {
            "outlinewidth": 0,
            "ticks": ""
           }
          },
          "colorscale": {
           "diverging": [
            [
             0,
             "#8e0152"
            ],
            [
             0.1,
             "#c51b7d"
            ],
            [
             0.2,
             "#de77ae"
            ],
            [
             0.3,
             "#f1b6da"
            ],
            [
             0.4,
             "#fde0ef"
            ],
            [
             0.5,
             "#f7f7f7"
            ],
            [
             0.6,
             "#e6f5d0"
            ],
            [
             0.7,
             "#b8e186"
            ],
            [
             0.8,
             "#7fbc41"
            ],
            [
             0.9,
             "#4d9221"
            ],
            [
             1,
             "#276419"
            ]
           ],
           "sequential": [
            [
             0,
             "#0d0887"
            ],
            [
             0.1111111111111111,
             "#46039f"
            ],
            [
             0.2222222222222222,
             "#7201a8"
            ],
            [
             0.3333333333333333,
             "#9c179e"
            ],
            [
             0.4444444444444444,
             "#bd3786"
            ],
            [
             0.5555555555555556,
             "#d8576b"
            ],
            [
             0.6666666666666666,
             "#ed7953"
            ],
            [
             0.7777777777777778,
             "#fb9f3a"
            ],
            [
             0.8888888888888888,
             "#fdca26"
            ],
            [
             1,
             "#f0f921"
            ]
           ],
           "sequentialminus": [
            [
             0,
             "#0d0887"
            ],
            [
             0.1111111111111111,
             "#46039f"
            ],
            [
             0.2222222222222222,
             "#7201a8"
            ],
            [
             0.3333333333333333,
             "#9c179e"
            ],
            [
             0.4444444444444444,
             "#bd3786"
            ],
            [
             0.5555555555555556,
             "#d8576b"
            ],
            [
             0.6666666666666666,
             "#ed7953"
            ],
            [
             0.7777777777777778,
             "#fb9f3a"
            ],
            [
             0.8888888888888888,
             "#fdca26"
            ],
            [
             1,
             "#f0f921"
            ]
           ]
          },
          "colorway": [
           "#636efa",
           "#EF553B",
           "#00cc96",
           "#ab63fa",
           "#FFA15A",
           "#19d3f3",
           "#FF6692",
           "#B6E880",
           "#FF97FF",
           "#FECB52"
          ],
          "font": {
           "color": "#2a3f5f"
          },
          "geo": {
           "bgcolor": "white",
           "lakecolor": "white",
           "landcolor": "#E5ECF6",
           "showlakes": true,
           "showland": true,
           "subunitcolor": "white"
          },
          "hoverlabel": {
           "align": "left"
          },
          "hovermode": "closest",
          "mapbox": {
           "style": "light"
          },
          "paper_bgcolor": "white",
          "plot_bgcolor": "#E5ECF6",
          "polar": {
           "angularaxis": {
            "gridcolor": "white",
            "linecolor": "white",
            "ticks": ""
           },
           "bgcolor": "#E5ECF6",
           "radialaxis": {
            "gridcolor": "white",
            "linecolor": "white",
            "ticks": ""
           }
          },
          "scene": {
           "xaxis": {
            "backgroundcolor": "#E5ECF6",
            "gridcolor": "white",
            "gridwidth": 2,
            "linecolor": "white",
            "showbackground": true,
            "ticks": "",
            "zerolinecolor": "white"
           },
           "yaxis": {
            "backgroundcolor": "#E5ECF6",
            "gridcolor": "white",
            "gridwidth": 2,
            "linecolor": "white",
            "showbackground": true,
            "ticks": "",
            "zerolinecolor": "white"
           },
           "zaxis": {
            "backgroundcolor": "#E5ECF6",
            "gridcolor": "white",
            "gridwidth": 2,
            "linecolor": "white",
            "showbackground": true,
            "ticks": "",
            "zerolinecolor": "white"
           }
          },
          "shapedefaults": {
           "line": {
            "color": "#2a3f5f"
           }
          },
          "ternary": {
           "aaxis": {
            "gridcolor": "white",
            "linecolor": "white",
            "ticks": ""
           },
           "baxis": {
            "gridcolor": "white",
            "linecolor": "white",
            "ticks": ""
           },
           "bgcolor": "#E5ECF6",
           "caxis": {
            "gridcolor": "white",
            "linecolor": "white",
            "ticks": ""
           }
          },
          "title": {
           "x": 0.05
          },
          "xaxis": {
           "automargin": true,
           "gridcolor": "white",
           "linecolor": "white",
           "ticks": "",
           "title": {
            "standoff": 15
           },
           "zerolinecolor": "white",
           "zerolinewidth": 2
          },
          "yaxis": {
           "automargin": true,
           "gridcolor": "white",
           "linecolor": "white",
           "ticks": "",
           "title": {
            "standoff": 15
           },
           "zerolinecolor": "white",
           "zerolinewidth": 2
          }
         }
        },
        "title": {
         "text": "Correlation Matrix for variables"
        },
        "width": 800,
        "xaxis": {
         "tickfont": {
          "size": 9
         }
        },
        "yaxis": {
         "tickfont": {
          "size": 9
         }
        }
       }
      },
      "text/html": [
       "<div>\n",
       "        \n",
       "        \n",
       "            <div id=\"299bb951-b103-4a8e-a300-e93153fe1acc\" class=\"plotly-graph-div\" style=\"height:720px; width:800px;\"></div>\n",
       "            <script type=\"text/javascript\">\n",
       "                require([\"plotly\"], function(Plotly) {\n",
       "                    window.PLOTLYENV=window.PLOTLYENV || {};\n",
       "                    \n",
       "                if (document.getElementById(\"299bb951-b103-4a8e-a300-e93153fe1acc\")) {\n",
       "                    Plotly.newPlot(\n",
       "                        '299bb951-b103-4a8e-a300-e93153fe1acc',\n",
       "                        [{\"colorbar\": {\"title\": {\"side\": \"right\", \"text\": \"Pearson Correlation coefficient\"}}, \"colorscale\": [[0.0, \"#440154\"], [0.1111111111111111, \"#482878\"], [0.2222222222222222, \"#3e4989\"], [0.3333333333333333, \"#31688e\"], [0.4444444444444444, \"#26828e\"], [0.5555555555555556, \"#1f9e89\"], [0.6666666666666666, \"#35b779\"], [0.7777777777777778, \"#6ece58\"], [0.8888888888888888, \"#b5de2b\"], [1.0, \"#fde725\"]], \"type\": \"heatmap\", \"x\": [\"gender\", \"seniorcitizen\", \"partner\", \"dependents\", \"phoneservice\", \"onlinesecurity\", \"onlinebackup\", \"deviceprotection\", \"techsupport\", \"streamingtv\", \"streamingmovies\", \"paperlessbilling\", \"churn\", \"multiplelines_no\", \"multiplelines_no_phone_service\", \"multiplelines_yes\", \"internetservice_dsl\", \"internetservice_fiber_optic\", \"internetservice_no\", \"contract_month_to_month\", \"contract_one_year\", \"contract_two_year\", \"paymentmethod_bank_transfer_automatic\", \"paymentmethod_credit_card_automatic\", \"paymentmethod_electronic_check\", \"paymentmethod_mailed_check\", \"tenure_group_tenure_0_12\", \"tenure_group_tenure_12_24\", \"tenure_group_tenure_24_48\", \"tenure_group_tenure_48_60\", \"tenure_group_tenure_gt_60\", \"tenure\", \"monthlycharges\", \"totalcharges\"], \"y\": [\"gender\", \"seniorcitizen\", \"partner\", \"dependents\", \"phoneservice\", \"onlinesecurity\", \"onlinebackup\", \"deviceprotection\", \"techsupport\", \"streamingtv\", \"streamingmovies\", \"paperlessbilling\", \"churn\", \"multiplelines_no\", \"multiplelines_no_phone_service\", \"multiplelines_yes\", \"internetservice_dsl\", \"internetservice_fiber_optic\", \"internetservice_no\", \"contract_month_to_month\", \"contract_one_year\", \"contract_two_year\", \"paymentmethod_bank_transfer_automatic\", \"paymentmethod_credit_card_automatic\", \"paymentmethod_electronic_check\", \"paymentmethod_mailed_check\", \"tenure_group_tenure_0_12\", \"tenure_group_tenure_12_24\", \"tenure_group_tenure_24_48\", \"tenure_group_tenure_48_60\", \"tenure_group_tenure_gt_60\", \"tenure\", \"monthlycharges\", \"totalcharges\"], \"z\": [[1.0, -0.001819390613419179, -0.0013790513218356025, 0.010348917127614397, -0.007514979909200033, -0.01632782307070617, -0.013092839264555001, -0.0008067457759124324, -0.008507162405232782, -0.0071243969867245535, -0.010105418366566195, -0.011901894766838502, -0.008544643224947218, 0.0043346914502916285, 0.0075149799091999425, -0.008882737146286056, 0.00758357610303961, -0.011189259276385864, 0.004744965758849955, -0.0032507651194551004, 0.0077548529142672145, -0.003603167413572989, -0.015973079031173835, 0.001631872518613598, 0.0008437084888753327, 0.01319936726545174, -0.0010503798619876774, -0.0006494991207074467, -0.010516394125351592, -0.004318975744551275, 0.01627881894278637, 0.005285371870295646, -0.013779327268354416, 4.783950839776602e-05], [-0.001819390613419179, 1.0, 0.01695661453202187, -0.21055006112684216, 0.008391611911217043, -0.0385763901686064, 0.06666279065142021, 0.059513871482029225, -0.060576839406188035, 0.10544501753678828, 0.11984236746151568, 0.15625775052783097, 0.1505410534156757, -0.13637672686229402, -0.008391611911217034, 0.14299625086621018, -0.10827563872848943, 0.25492331502717946, -0.18251949495535458, 0.13775207088551514, -0.0464907545657889, -0.11620511425710835, -0.01623474200582214, -0.024359419683712323, 0.17132216591713703, -0.15298719260173027, -0.02771322371899571, 0.0018604411671567017, 0.02038346087056509, 0.01418568213097567, -0.0024069937431968856, 0.01568347989913396, 0.21987422950593646, 0.10241060539532633], [-0.0013790513218356025, 0.01695661453202187, 1.0, 0.45226888584550023, 0.018397189302703662, 0.14334606167364233, 0.14184917072520303, 0.1535564364182745, 0.12020601780298455, 0.12448262672518244, 0.11810820943292764, -0.013956696136191696, -0.14998192562006138, -0.13002839561671578, -0.018397189302703666, 0.1425612874681736, -0.0010430787434336079, 0.0012346095228208073, -0.0002855204740384597, -0.2802019157901561, 0.08306706395255747, 0.24733370647615796, 0.11140561212215645, 0.08232738919649572, -0.08320661736633733, -0.09694798339506473, -0.30506147447521575, -0.048481275955609554, 0.028467762106169584, 0.10534126166196492, 0.28035324824529767, 0.38191150910757077, 0.09782497186892049, 0.31907236323857324], [0.010348917127614397, -0.21055006112684216, 0.45226888584550023, 1.0, -0.001077812708067608, 0.08078553224088346, 0.023638813060609963, 0.013899668260943368, 0.06305315799997827, -0.01649868035801052, -0.03837492560091315, -0.11013068597336993, -0.16312843938822, 0.023387669506115295, 0.0010778127080674446, -0.024306661314620996, 0.05159321756471237, -0.16410089031864167, 0.13838288994798562, -0.2297147909213749, 0.06922205672629726, 0.2016993304297039, 0.05236890928127545, 0.06113408322897806, -0.1492739811934336, 0.05644841359590588, -0.1453791450700764, -0.0014594010172321779, 0.02464494581436856, 0.03141940765317757, 0.1180897178470907, 0.16338596691556453, -0.11234295350128225, 0.0646532494217739], [-0.007514979909200033, 0.008391611911217043, 0.018397189302703662, -0.001077812708067608, 1.0, -0.09167570469500017, -0.05213341919796151, -0.07007561533228862, -0.09513849428922488, -0.021382711870578185, -0.03347749718236395, 0.016696123642784135, 0.011691398865422323, 0.31521775126801543, -1.0, 0.2795295400049995, -0.45225528090657086, 0.29018311793843365, 0.1718171065699321, -0.0012425134067734023, -0.0031417807184111624, 0.0044422513152849235, 0.008271245210923577, -0.006916252198127548, 0.0027471183312986857, -0.004462839400732194, -0.00694955039725527, 0.012306612692869211, -0.014777815951004124, -0.009750281447949313, 0.020515848357693, 0.007877333295041818, 0.2480330664757158, 0.11300826095473893], [-0.01632782307070617, -0.0385763901686064, 0.14334606167364233, 0.08078553224088346, -0.09167570469500017, 1.0, 0.28328454262626757, 0.274875003842449, 0.35445796164509147, 0.1755144708953688, 0.18742584957299618, -0.004051250607988492, -0.17126992353351678, -0.15167751168612081, 0.09167570469500017, 0.0985919934252315, 0.3203433737595294, -0.03050626904076453, -0.33279949932167546, -0.24684428487400414, 0.10065777311969464, 0.19169819815673583, 0.09436639279979232, 0.11547320256635303, -0.11229466175861408, -0.07991768713640306, -0.24240887436050382, -0.0556619409198579, 0.0076950987178344265, 0.0716632710172793, 0.26322845571231857, 0.32829748818662485, 0.2964469592375873, 0.41261876950713655], [-0.013092839264555001, 0.06666279065142021, 0.14184917072520303, 0.023638813060609963, -0.05213341919796151, 0.28328454262626757, 1.0, 0.30305766643807824, 0.29370469187781045, 0.2816010622259753, 0.27452301070772545, 0.12705603268686044, -0.08230696876508349, -0.2307241996493635, 0.05213341919796151, 0.2022283972825372, 0.15676460995441888, 0.16594028590307677, -0.3809903317320751, -0.16439302987919688, 0.08411316021806066, 0.11139068731904943, 0.0869415675760231, 0.09045518641091457, -0.00036426636786500763, -0.17407470231312427, -0.26736609150996915, -0.08408097138202993, 0.023085000444599418, 0.09919210454041022, 0.2787875817043761, 0.36113847824658735, 0.4415290881871007, 0.510100290145439], [-0.0008067457759124324, 0.059513871482029225, 0.1535564364182745, 0.013899668260943368, -0.07007561533228862, 0.274875003842449, 0.30305766643807824, 1.0, 0.33285005080469243, 0.3899237975094597, 0.4023088228216018, 0.10407904724402045, -0.06619251684228997, -0.24084736328107104, 0.07007561533228862, 0.201732824517757, 0.14514955473692903, 0.17635617323471664, -0.3801513548956378, -0.22598757731112262, 0.10291089629343353, 0.16524753554250074, 0.08304690185342707, 0.11125168129784246, -0.003308493511411254, -0.18732483013668594, -0.2739200544387702, -0.07733200729381666, 0.0449724925036831, 0.07685425917962475, 0.2755370112516221, 0.3615199952862194, 0.48260691224313995, 0.5228814865154369], [-0.008507162405232782, -0.060576839406188035, 0.12020601780298455, 0.06305315799997827, -0.09513849428922488, 0.35445796164509147, 0.29370469187781045, 0.33285005080469243, 1.0, 0.277548599200549, 0.2801552432906342, 0.03753587307318976, -0.16471590834411207, -0.15553386914722026, 0.09513849428922488, 0.10042125595413272, 0.3121832985222757, -0.020298967520709605, -0.33569508671869736, -0.28549086901033593, 0.09625836225380952, 0.24092408252256528, 0.10047200087443556, 0.11702370730984143, -0.11480726996437085, -0.08463055196615278, -0.23862820953475447, -0.07201850701116608, 0.022136746625123563, 0.06270980841796413, 0.26539627802277554, 0.325288454100009, 0.33830139143424953, 0.4328683682410939], [-0.0071243969867245535, 0.10544501753678828, 0.12448262672518244, -0.01649868035801052, -0.021382711870578185, 0.1755144708953688, 0.2816010622259753, 0.3899237975094597, 0.277548599200549, 1.0, 0.5333800979319763, 0.22424119793848596, 0.06325398027519404, -0.26746641467807136, 0.021382711870577976, 0.25780350066730157, 0.014973379079172382, 0.3297441152730512, -0.41495062156578044, -0.11254989712217289, 0.061929689963200855, 0.07212357537070835, 0.04612070051242859, 0.040010276337768505, 0.1447470086556032, -0.2477115493728633, -0.22076087097198827, -0.050234026791169964, 0.02882937792536747, 0.08796930347195206, 0.1981501311372027, 0.280263628074823, 0.6296678921767406, 0.5157090769923935], [-0.010105418366566195, 0.11984236746151568, 0.11810820943292764, -0.03837492560091315, -0.03347749718236395, 0.18742584957299618, 0.27452301070772545, 0.4023088228216018, 0.2801552432906342, 0.5333800979319763, 1.0, 0.21158250423808916, 0.06085993668146301, -0.2759953197780627, 0.03347749718236395, 0.2591943175468362, 0.02562310861129719, 0.3224574540559222, -0.41844975538334045, -0.11786687989290552, 0.06477997824381859, 0.07560257919382919, 0.04875484714119087, 0.048398314068082315, 0.13742008269944622, -0.2502897149395328, -0.2213881765552116, -0.054338325985925064, 0.02504810987080452, 0.08661557153323526, 0.20754366554274195, 0.2854022671060787, 0.6272347301103788, 0.5198665357835017], [-0.011901894766838502, 0.15625775052783097, -0.013956696136191696, -0.11013068597336993, 0.016696123642784135, -0.004051250607988492, 0.12705603268686044, 0.10407904724402045, 0.03753587307318976, 0.22424119793848596, 0.21158250423808916, 1.0, 0.19145432108006671, -0.1519737778021082, -0.016696123642784142, 0.1637457730112591, -0.06338966821876392, 0.32647017160380964, -0.3205922451174622, 0.16829626845602835, -0.052278164693773076, -0.1462807050684952, -0.017468900682392235, -0.013726285095880284, 0.20842668228002995, -0.20398064814312206, -0.003859801258113621, 0.003328006906514837, -0.005388027856510724, 0.010626123397145876, -0.001414839543993747, 0.004823156615386272, 0.3519304153712528, 0.15782978286591698], [-0.008544643224947218, 0.1505410534156757, -0.14998192562006138, -0.16312843938822, 0.011691398865422323, -0.17126992353351678, -0.08230696876508349, -0.06619251684228997, -0.16471590834411207, 0.06325398027519404, 0.06085993668146301, 0.19145432108006671, 1.0, -0.03265360299730401, -0.01169139886542221, 0.040032739872523634, -0.12414142842590645, 0.30746259069818205, -0.22757762044656818, 0.40456455007784087, -0.17822502328994053, -0.30155233962397837, -0.1181359978280296, -0.1346868372340906, 0.30145463790858057, -0.09077284582582087, 0.3196275743451608, 0.019928968647699895, -0.07585881574899747, -0.10079964105628228, -0.2260781096915624, -0.3540493589532626, 0.1928582184700881, -0.1994840835675715], [0.0043346914502916285, -0.13637672686229402, -0.13002839561671578, 0.023387669506115295, 0.31521775126801543, -0.15167751168612081, -0.2307241996493635, -0.24084736328107104, -0.15553386914722026, -0.26746641467807136, -0.2759953197780627, -0.1519737778021082, -0.03265360299730401, 1.0, -0.3152177512680155, -0.8230760279128654, -0.06951498798055156, -0.19053099387424138, 0.3099843327828031, 0.08679791861868207, 0.0016944436455045328, -0.1027560050227385, -0.06966277653167001, -0.06371157499118037, -0.0809902106781048, 0.22239547449983668, 0.25617128287621094, 0.05170274575687212, -0.03215707580783382, -0.08063023581160907, -0.2427981631428492, -0.323890766966285, -0.3385136039067215, -0.39676537714107735], [0.0075149799091999425, -0.008391611911217034, -0.018397189302703666, 0.0010778127080674446, -1.0, 0.09167570469500017, 0.05213341919796151, 0.07007561533228862, 0.09513849428922488, 0.021382711870577976, 0.03347749718236395, -0.016696123642784142, -0.01169139886542221, -0.3152177512680155, 1.0, -0.2795295400049995, 0.45225528090657086, -0.29018311793843365, -0.1718171065699321, 0.0012425134067734103, 0.0031417807184113207, -0.004442251315284906, -0.008271245210923579, 0.006916252198127564, -0.0027471183312986857, 0.004462839400732508, 0.006949550397255344, -0.012306612692869208, 0.014777815951004133, 0.009750281447949528, -0.02051584835769357, -0.007877333295041807, -0.2480330664757158, -0.1130082609547389], [-0.008882737146286056, 0.14299625086621018, 0.1425612874681736, -0.024306661314620996, 0.2795295400049995, 0.0985919934252315, 0.2022283972825372, 0.201732824517757, 0.10042125595413272, 0.25780350066730157, 0.2591943175468362, 0.1637457730112591, 0.040032739872523634, -0.8230760279128654, -0.2795295400049995, 1.0, -0.2003183214156725, 0.3664202566051166, -0.21079354712189471, -0.08855832218643561, -0.003594461398434266, 0.10661820819152797, 0.07542871730303179, 0.06031899094084278, 0.08358299305536028, -0.22767156949803466, -0.26333120743722876, -0.04494367118136859, 0.023690157563696343, 0.07573985650934924, 0.25792003827196397, 0.33239924473562554, 0.4909121973267493, 0.4690421356971826], [0.00758357610303961, -0.10827563872848943, -0.0010430787434336079, 0.05159321756471237, -0.45225528090657086, 0.3203433737595294, 0.15676460995441888, 0.14514955473692903, 0.3121832985222757, 0.014973379079172382, 0.02562310861129719, -0.06338966821876392, -0.12414142842590645, -0.06951498798055156, 0.45225528090657086, -0.2003183214156725, 1.0, -0.6416356650534906, -0.3799117751052334, -0.06522632996531619, 0.04729967349374622, 0.030923714855574744, 0.02475954021490298, 0.05122176476699011, -0.10429333541089097, 0.04275388869901973, -0.0014704079413737543, -0.013428683581908657, -0.0004678565419111244, -0.00079001062411148, 0.014665913237832425, 0.013786269825793156, -0.16136793538251534, -0.052189866637419764], [-0.011189259276385864, 0.25492331502717946, 0.0012346095228208073, -0.16410089031864167, 0.29018311793843365, -0.03050626904076453, 0.16594028590307677, 0.17635617323471664, -0.020298967520709605, 0.3297441152730512, 0.3224574540559222, 0.32647017160380964, 0.30746259069818205, -0.19053099387424138, -0.29018311793843365, 0.3664202566051166, -0.6416356650534906, 1.0, -0.4657363343235562, 0.24301351814831268, -0.07680902975096314, -0.20996452908904545, -0.022778855291876635, -0.050551991558036385, 0.3357634768102139, -0.3059839224841771, -0.021440560786684968, -0.0014940221824271288, 0.005613761063888361, 0.01746632456448475, 0.0061120739544805805, 0.017929529906438778, 0.7871948529419658, 0.3607687920142481], [0.004744965758849955, -0.18251949495535458, -0.0002855204740384597, 0.13838288994798562, 0.1718171065699321, -0.33279949932167546, -0.3809903317320751, -0.3801513548956378, -0.33569508671869736, -0.41495062156578044, -0.41844975538334045, -0.3205922451174622, -0.22757762044656818, 0.3099843327828031, -0.1718171065699321, -0.21079354712189471, -0.3799117751052334, -0.4657363343235562, 1.0, -0.217823505545489, 0.038061459724733744, 0.21754205606911817, -0.0010943032992050863, 0.0018701145623306124, -0.2846082097225956, 0.3196937439459745, 0.027554030004254233, 0.01729491162511594, -0.006230482005525746, -0.020153136101165186, -0.024291768931540957, -0.037528889581619734, -0.7631910615169571, -0.37487836259896], [-0.0032507651194551004, 0.13775207088551514, -0.2802019157901561, -0.2297147909213749, -0.0012425134067734023, -0.24684428487400414, -0.16439302987919688, -0.22598757731112262, -0.28549086901033593, -0.11254989712217289, -0.11786687989290552, 0.16829626845602835, 0.40456455007784087, 0.08679791861868207, 0.0012425134067734103, -0.08855832218643561, -0.06522632996531619, 0.24301351814831268, -0.217823505545489, 1.0, -0.5700527848944215, -0.6219327447713561, -0.18015909738683936, -0.20496021669474843, 0.33087881370583405, 0.006208692442055045, 0.49205202568054424, 0.14000368638519403, -0.05215631834144274, -0.19870886170688193, -0.47691223651608966, -0.649345648869048, 0.0589334582292538, -0.4467758743246882], [0.0077548529142672145, -0.0464907545657889, 0.08306706395255747, 0.06922205672629726, -0.0031417807184111624, 0.10065777311969464, 0.08411316021806066, 0.10291089629343353, 0.09625836225380952, 0.061929689963200855, 0.06477997824381859, -0.052278164693773076, -0.17822502328994053, 0.0016944436455045328, 0.0031417807184113207, -0.003594461398434266, 0.04729967349374622, -0.07680902975096314, 0.038061459724733744, -0.5700527848944215, 1.0, -0.28884268256780254, 0.05762874929825631, 0.06758968145792751, -0.10954646682258033, 0.0001971241890499786, -0.2512993032332009, -0.017196458507178478, 0.15389327309228798, 0.15891681528381144, 0.01614171428694319, 0.2023384083649546, 0.004809615120440435, 0.17056928655718714], [-0.003603167413572989, -0.11620511425710835, 0.24733370647615796, 0.2016993304297039, 0.0044422513152849235, 0.19169819815673583, 0.11139068731904943, 0.16524753554250074, 0.24092408252256528, 0.07212357537070835, 0.07560257919382919, -0.1462807050684952, -0.30155233962397837, -0.1027560050227385, -0.004442251315284906, 0.10661820819152797, 0.030923714855574744, -0.20996452908904545, 0.21754205606911817, -0.6219327447713561, -0.28884268256780254, 1.0, 0.1550042180767056, 0.17440993895950943, -0.28114743393395547, -0.007422540118618717, -0.33385014178843664, -0.14674905438081498, -0.08589992270093438, 0.08008211690632902, 0.5403360993105428, 0.5638005002286687, -0.07325607300641665, 0.35803561609140894], [-0.015973079031173835, -0.01623474200582214, 0.11140561212215645, 0.05236890928127545, 0.008271245210923577, 0.09436639279979232, 0.0869415675760231, 0.08304690185342707, 0.10047200087443556, 0.04612070051242859, 0.04875484714119087, -0.017468900682392235, -0.1181359978280296, -0.06966277653167001, -0.008271245210923579, 0.07542871730303179, 0.02475954021490298, -0.022778855291876635, -0.0010943032992050863, -0.18015909738683936, 0.05762874929825631, 0.1550042180767056, 1.0, -0.27842319712065355, -0.3772703602158491, -0.28809669563791657, -0.18585512574019983, -0.04632871286727803, 0.02172285552026243, 0.060183035947993645, 0.1842491799195877, 0.24382246495742915, 0.04240972759459293, 0.18611944938877964], [0.001631872518613598, -0.024359419683712323, 0.08232738919649572, 0.06113408322897806, -0.006916252198127548, 0.11547320256635303, 0.09045518641091457, 0.11125168129784246, 0.11702370730984143, 0.040010276337768505, 0.048398314068082315, -0.013726285095880284, -0.1346868372340906, -0.06371157499118037, 0.006916252198127564, 0.06031899094084278, 0.05122176476699011, -0.050551991558036385, 0.0018701145623306124, -0.20496021669474843, 0.06758968145792751, 0.17440993895950943, -0.27842319712065355, 1.0, -0.37397801626928234, -0.28558254792863036, -0.18416488323856553, -0.03964706284937272, 0.028232511385228868, 0.048166948994686994, 0.17929367300430438, 0.23280034413314615, 0.030054608328366407, 0.1826633671546002], [0.0008437084888753327, 0.17132216591713703, -0.08320661736633733, -0.1492739811934336, 0.0027471183312986857, -0.11229466175861408, -0.00036426636786500763, -0.003308493511411254, -0.11480726996437085, 0.1447470086556032, 0.13742008269944622, 0.20842668228002995, 0.30145463790858057, -0.0809902106781048, -0.0027471183312986857, 0.08358299305536028, -0.10429333541089097, 0.3357634768102139, -0.2846082097225956, 0.33087881370583405, -0.10954646682258033, -0.28114743393395547, -0.3772703602158491, -0.37397801626928234, 1.0, -0.3869714587097063, 0.1605298863682866, 0.030386796069204806, -0.011569992641797876, -0.030584308144429393, -0.1754558932547761, -0.21019749610817867, 0.27111737739356384, -0.060436278689198375], [0.01319936726545174, -0.15298719260173027, -0.09694798339506473, 0.05644841359590588, -0.004462839400732194, -0.07991768713640306, -0.17407470231312427, -0.18732483013668594, -0.08463055196615278, -0.2477115493728633, -0.2502897149395328, -0.20398064814312206, -0.09077284582582087, 0.22239547449983668, 0.004462839400732508, -0.22767156949803466, 0.04275388869901973, -0.3059839224841771, 0.3196937439459745, 0.006208692442055045, 0.0001971241890499786, -0.007422540118618717, -0.28809669563791657, -0.28558254792863036, -0.3869714587097063, 1.0, 0.18322236745325193, 0.05037142820607642, -0.03609490261093368, -0.07217004405828796, -0.16005348763614577, -0.23218078070201725, -0.37656828808083825, -0.29470837017550655], [-0.0010503798619876774, -0.02771322371899571, -0.30506147447521575, -0.1453791450700764, -0.00694955039725527, -0.24240887436050382, -0.26736609150996915, -0.2739200544387702, -0.23862820953475447, -0.22076087097198827, -0.2213881765552116, -0.003859801258113621, 0.3196275743451608, 0.25617128287621094, 0.006949550397255344, -0.26333120743722876, -0.0014704079413737543, -0.021440560786684968, 0.027554030004254233, 0.49205202568054424, -0.2512993032332009, -0.33385014178843664, -0.18585512574019983, -0.18416488323856553, 0.1605298863682866, 0.18322236745325193, 1.0, -0.2762680073398803, -0.3623015030946614, -0.2451384283025972, -0.33468123603042815, -0.7543297340826929, -0.19188064290675352, -0.5924430690900127], [-0.0006494991207074467, 0.0018604411671567017, -0.048481275955609554, -0.0014594010172321779, 0.012306612692869211, -0.0556619409198579, -0.08408097138202993, -0.07733200729381666, -0.07201850701116608, -0.050234026791169964, -0.054338325985925064, 0.003328006906514837, 0.019928968647699895, 0.05170274575687212, -0.012306612692869208, -0.04494367118136859, -0.013428683581908657, -0.0014940221824271288, 0.01729491162511594, 0.14000368638519403, -0.017196458507178478, -0.14674905438081498, -0.04632871286727803, -0.03964706284937272, 0.030386796069204806, 0.05037142820607642, -0.2762680073398803, 1.0, -0.2235164922454485, -0.15123448603095185, -0.20647658168386077, -0.23667330012633156, -0.04722022100509185, -0.21074518016919763], [-0.010516394125351592, 0.02038346087056509, 0.028467762106169584, 0.02464494581436856, -0.014777815951004124, 0.0076950987178344265, 0.023085000444599418, 0.0449724925036831, 0.022136746625123563, 0.02882937792536747, 0.02504810987080452, -0.005388027856510724, -0.07585881574899747, -0.03215707580783382, 0.014777815951004133, 0.023690157563696343, -0.0004678565419111244, 0.005613761063888361, -0.006230482005525746, -0.05215631834144274, 0.15389327309228798, -0.08589992270093438, 0.02172285552026243, 0.028232511385228868, -0.011569992641797876, -0.03609490261093368, -0.3623015030946614, -0.2235164922454485, 1.0, -0.19833089664036088, -0.270776108381858, 0.08315302530583908, 0.020378382125023714, 0.025594453789595965], [-0.004318975744551275, 0.01418568213097567, 0.10534126166196492, 0.03141940765317757, -0.009750281447949313, 0.0716632710172793, 0.09919210454041022, 0.07685425917962475, 0.06270980841796413, 0.08796930347195206, 0.08661557153323526, 0.010626123397145876, -0.10079964105628228, -0.08063023581160907, 0.009750281447949528, 0.07573985650934924, -0.00079001062411148, 0.01746632456448475, -0.020153136101165186, -0.19870886170688193, 0.15891681528381144, 0.08008211690632902, 0.060183035947993645, 0.048166948994686994, -0.030584308144429393, -0.07217004405828796, -0.2451384283025972, -0.15123448603095185, -0.19833089664036088, 1.0, -0.18321102469526726, 0.3293670640558551, 0.07004784345008332, 0.2529046056409522], [0.01627881894278637, -0.0024069937431968856, 0.28035324824529767, 0.1180897178470907, 0.020515848357693, 0.26322845571231857, 0.2787875817043761, 0.2755370112516221, 0.26539627802277554, 0.1981501311372027, 0.20754366554274195, -0.001414839543993747, -0.2260781096915624, -0.2427981631428492, -0.02051584835769357, 0.25792003827196397, 0.014665913237832425, 0.0061120739544805805, -0.024291768931540957, -0.47691223651608966, 0.01614171428694319, 0.5403360993105428, 0.1842491799195877, 0.17929367300430438, -0.1754558932547761, -0.16005348763614577, -0.33468123603042815, -0.20647658168386077, -0.270776108381858, -0.18321102469526726, 1.0, 0.7272367846079387, 0.18543957041906836, 0.6393119430257832], [0.005285371870295646, 0.01568347989913396, 0.38191150910757077, 0.16338596691556453, 0.007877333295041818, 0.32829748818662485, 0.36113847824658735, 0.3615199952862194, 0.325288454100009, 0.280263628074823, 0.2854022671060787, 0.004823156615386272, -0.3540493589532626, -0.323890766966285, -0.007877333295041807, 0.33239924473562554, 0.013786269825793156, 0.017929529906438778, -0.037528889581619734, -0.649345648869048, 0.2023384083649546, 0.5638005002286687, 0.24382246495742915, 0.23280034413314615, -0.21019749610817867, -0.23218078070201725, -0.7543297340826929, -0.23667330012633156, 0.08315302530583908, 0.3293670640558551, 0.7272367846079387, 1.0, 0.2468617666408947, 0.8258804609332017], [-0.013779327268354416, 0.21987422950593646, 0.09782497186892049, -0.11234295350128225, 0.2480330664757158, 0.2964469592375873, 0.4415290881871007, 0.48260691224313995, 0.33830139143424953, 0.6296678921767406, 0.6272347301103788, 0.3519304153712528, 0.1928582184700881, -0.3385136039067215, -0.2480330664757158, 0.4909121973267493, -0.16136793538251534, 0.7871948529419658, -0.7631910615169571, 0.0589334582292538, 0.004809615120440435, -0.07325607300641665, 0.04240972759459293, 0.030054608328366407, 0.27111737739356384, -0.37656828808083825, -0.19188064290675352, -0.04722022100509185, 0.020378382125023714, 0.07004784345008332, 0.18543957041906836, 0.2468617666408947, 1.0, 0.6510648032262032], [4.783950839776602e-05, 0.10241060539532633, 0.31907236323857324, 0.0646532494217739, 0.11300826095473893, 0.41261876950713655, 0.510100290145439, 0.5228814865154369, 0.4328683682410939, 0.5157090769923935, 0.5198665357835017, 0.15782978286591698, -0.1994840835675715, -0.39676537714107735, -0.1130082609547389, 0.4690421356971826, -0.052189866637419764, 0.3607687920142481, -0.37487836259896, -0.4467758743246882, 0.17056928655718714, 0.35803561609140894, 0.18611944938877964, 0.1826633671546002, -0.060436278689198375, -0.29470837017550655, -0.5924430690900127, -0.21074518016919763, 0.025594453789595965, 0.2529046056409522, 0.6393119430257832, 0.8258804609332017, 0.6510648032262032, 1.0]]}],\n",
       "                        {\"autosize\": false, \"height\": 720, \"margin\": {\"b\": 210, \"l\": 210, \"r\": 0, \"t\": 25}, \"template\": {\"data\": {\"bar\": [{\"error_x\": {\"color\": \"#2a3f5f\"}, \"error_y\": {\"color\": \"#2a3f5f\"}, \"marker\": {\"line\": {\"color\": \"#E5ECF6\", \"width\": 0.5}}, \"type\": \"bar\"}], \"barpolar\": [{\"marker\": {\"line\": {\"color\": \"#E5ECF6\", \"width\": 0.5}}, \"type\": \"barpolar\"}], \"carpet\": [{\"aaxis\": {\"endlinecolor\": \"#2a3f5f\", \"gridcolor\": \"white\", \"linecolor\": \"white\", \"minorgridcolor\": \"white\", \"startlinecolor\": \"#2a3f5f\"}, \"baxis\": {\"endlinecolor\": \"#2a3f5f\", \"gridcolor\": \"white\", \"linecolor\": \"white\", \"minorgridcolor\": \"white\", \"startlinecolor\": \"#2a3f5f\"}, \"type\": \"carpet\"}], \"choropleth\": [{\"colorbar\": {\"outlinewidth\": 0, \"ticks\": \"\"}, \"type\": \"choropleth\"}], \"contour\": [{\"colorbar\": {\"outlinewidth\": 0, \"ticks\": \"\"}, \"colorscale\": [[0.0, \"#0d0887\"], [0.1111111111111111, \"#46039f\"], [0.2222222222222222, \"#7201a8\"], [0.3333333333333333, \"#9c179e\"], [0.4444444444444444, \"#bd3786\"], [0.5555555555555556, \"#d8576b\"], [0.6666666666666666, \"#ed7953\"], [0.7777777777777778, \"#fb9f3a\"], [0.8888888888888888, \"#fdca26\"], [1.0, \"#f0f921\"]], \"type\": \"contour\"}], \"contourcarpet\": [{\"colorbar\": {\"outlinewidth\": 0, \"ticks\": \"\"}, \"type\": \"contourcarpet\"}], \"heatmap\": [{\"colorbar\": {\"outlinewidth\": 0, \"ticks\": \"\"}, \"colorscale\": [[0.0, \"#0d0887\"], [0.1111111111111111, \"#46039f\"], [0.2222222222222222, \"#7201a8\"], [0.3333333333333333, \"#9c179e\"], [0.4444444444444444, \"#bd3786\"], [0.5555555555555556, \"#d8576b\"], [0.6666666666666666, \"#ed7953\"], [0.7777777777777778, \"#fb9f3a\"], [0.8888888888888888, \"#fdca26\"], [1.0, \"#f0f921\"]], \"type\": \"heatmap\"}], \"heatmapgl\": [{\"colorbar\": {\"outlinewidth\": 0, \"ticks\": \"\"}, \"colorscale\": [[0.0, \"#0d0887\"], [0.1111111111111111, \"#46039f\"], [0.2222222222222222, \"#7201a8\"], [0.3333333333333333, \"#9c179e\"], [0.4444444444444444, \"#bd3786\"], [0.5555555555555556, \"#d8576b\"], [0.6666666666666666, \"#ed7953\"], [0.7777777777777778, \"#fb9f3a\"], [0.8888888888888888, \"#fdca26\"], [1.0, \"#f0f921\"]], \"type\": \"heatmapgl\"}], \"histogram\": [{\"marker\": {\"colorbar\": {\"outlinewidth\": 0, \"ticks\": \"\"}}, \"type\": \"histogram\"}], \"histogram2d\": [{\"colorbar\": {\"outlinewidth\": 0, \"ticks\": \"\"}, \"colorscale\": [[0.0, \"#0d0887\"], [0.1111111111111111, \"#46039f\"], [0.2222222222222222, \"#7201a8\"], [0.3333333333333333, \"#9c179e\"], [0.4444444444444444, \"#bd3786\"], [0.5555555555555556, \"#d8576b\"], [0.6666666666666666, \"#ed7953\"], [0.7777777777777778, \"#fb9f3a\"], [0.8888888888888888, \"#fdca26\"], [1.0, \"#f0f921\"]], \"type\": \"histogram2d\"}], \"histogram2dcontour\": [{\"colorbar\": {\"outlinewidth\": 0, \"ticks\": \"\"}, \"colorscale\": [[0.0, \"#0d0887\"], [0.1111111111111111, \"#46039f\"], [0.2222222222222222, \"#7201a8\"], [0.3333333333333333, \"#9c179e\"], [0.4444444444444444, \"#bd3786\"], [0.5555555555555556, \"#d8576b\"], [0.6666666666666666, \"#ed7953\"], [0.7777777777777778, \"#fb9f3a\"], [0.8888888888888888, \"#fdca26\"], [1.0, \"#f0f921\"]], \"type\": \"histogram2dcontour\"}], \"mesh3d\": [{\"colorbar\": {\"outlinewidth\": 0, \"ticks\": \"\"}, \"type\": \"mesh3d\"}], \"parcoords\": [{\"line\": {\"colorbar\": {\"outlinewidth\": 0, \"ticks\": \"\"}}, \"type\": \"parcoords\"}], \"pie\": [{\"automargin\": true, \"type\": \"pie\"}], \"scatter\": [{\"marker\": {\"colorbar\": {\"outlinewidth\": 0, \"ticks\": \"\"}}, \"type\": \"scatter\"}], \"scatter3d\": [{\"line\": {\"colorbar\": {\"outlinewidth\": 0, \"ticks\": \"\"}}, \"marker\": {\"colorbar\": {\"outlinewidth\": 0, \"ticks\": \"\"}}, \"type\": \"scatter3d\"}], \"scattercarpet\": [{\"marker\": {\"colorbar\": {\"outlinewidth\": 0, \"ticks\": \"\"}}, \"type\": \"scattercarpet\"}], \"scattergeo\": [{\"marker\": {\"colorbar\": {\"outlinewidth\": 0, \"ticks\": \"\"}}, \"type\": \"scattergeo\"}], \"scattergl\": [{\"marker\": {\"colorbar\": {\"outlinewidth\": 0, \"ticks\": \"\"}}, \"type\": \"scattergl\"}], \"scattermapbox\": [{\"marker\": {\"colorbar\": {\"outlinewidth\": 0, \"ticks\": \"\"}}, \"type\": \"scattermapbox\"}], \"scatterpolar\": [{\"marker\": {\"colorbar\": {\"outlinewidth\": 0, \"ticks\": \"\"}}, \"type\": \"scatterpolar\"}], \"scatterpolargl\": [{\"marker\": {\"colorbar\": {\"outlinewidth\": 0, \"ticks\": \"\"}}, \"type\": \"scatterpolargl\"}], \"scatterternary\": [{\"marker\": {\"colorbar\": {\"outlinewidth\": 0, \"ticks\": \"\"}}, \"type\": \"scatterternary\"}], \"surface\": [{\"colorbar\": {\"outlinewidth\": 0, \"ticks\": \"\"}, \"colorscale\": [[0.0, \"#0d0887\"], [0.1111111111111111, \"#46039f\"], [0.2222222222222222, \"#7201a8\"], [0.3333333333333333, \"#9c179e\"], [0.4444444444444444, \"#bd3786\"], [0.5555555555555556, \"#d8576b\"], [0.6666666666666666, \"#ed7953\"], [0.7777777777777778, \"#fb9f3a\"], [0.8888888888888888, \"#fdca26\"], [1.0, \"#f0f921\"]], \"type\": \"surface\"}], \"table\": [{\"cells\": {\"fill\": {\"color\": \"#EBF0F8\"}, \"line\": {\"color\": \"white\"}}, \"header\": {\"fill\": {\"color\": \"#C8D4E3\"}, \"line\": {\"color\": \"white\"}}, \"type\": \"table\"}]}, \"layout\": {\"annotationdefaults\": {\"arrowcolor\": \"#2a3f5f\", \"arrowhead\": 0, \"arrowwidth\": 1}, \"coloraxis\": {\"colorbar\": {\"outlinewidth\": 0, \"ticks\": \"\"}}, \"colorscale\": {\"diverging\": [[0, \"#8e0152\"], [0.1, \"#c51b7d\"], [0.2, \"#de77ae\"], [0.3, \"#f1b6da\"], [0.4, \"#fde0ef\"], [0.5, \"#f7f7f7\"], [0.6, \"#e6f5d0\"], [0.7, \"#b8e186\"], [0.8, \"#7fbc41\"], [0.9, \"#4d9221\"], [1, \"#276419\"]], \"sequential\": [[0.0, \"#0d0887\"], [0.1111111111111111, \"#46039f\"], [0.2222222222222222, \"#7201a8\"], [0.3333333333333333, \"#9c179e\"], [0.4444444444444444, \"#bd3786\"], [0.5555555555555556, \"#d8576b\"], [0.6666666666666666, \"#ed7953\"], [0.7777777777777778, \"#fb9f3a\"], [0.8888888888888888, \"#fdca26\"], [1.0, \"#f0f921\"]], \"sequentialminus\": [[0.0, \"#0d0887\"], [0.1111111111111111, \"#46039f\"], [0.2222222222222222, \"#7201a8\"], [0.3333333333333333, \"#9c179e\"], [0.4444444444444444, \"#bd3786\"], [0.5555555555555556, \"#d8576b\"], [0.6666666666666666, \"#ed7953\"], [0.7777777777777778, \"#fb9f3a\"], [0.8888888888888888, \"#fdca26\"], [1.0, \"#f0f921\"]]}, \"colorway\": [\"#636efa\", \"#EF553B\", \"#00cc96\", \"#ab63fa\", \"#FFA15A\", \"#19d3f3\", \"#FF6692\", \"#B6E880\", \"#FF97FF\", \"#FECB52\"], \"font\": {\"color\": \"#2a3f5f\"}, \"geo\": {\"bgcolor\": \"white\", \"lakecolor\": \"white\", \"landcolor\": \"#E5ECF6\", \"showlakes\": true, \"showland\": true, \"subunitcolor\": \"white\"}, \"hoverlabel\": {\"align\": \"left\"}, \"hovermode\": \"closest\", \"mapbox\": {\"style\": \"light\"}, \"paper_bgcolor\": \"white\", \"plot_bgcolor\": \"#E5ECF6\", \"polar\": {\"angularaxis\": {\"gridcolor\": \"white\", \"linecolor\": \"white\", \"ticks\": \"\"}, \"bgcolor\": \"#E5ECF6\", \"radialaxis\": {\"gridcolor\": \"white\", \"linecolor\": \"white\", \"ticks\": \"\"}}, \"scene\": {\"xaxis\": {\"backgroundcolor\": \"#E5ECF6\", \"gridcolor\": \"white\", \"gridwidth\": 2, \"linecolor\": \"white\", \"showbackground\": true, \"ticks\": \"\", \"zerolinecolor\": \"white\"}, \"yaxis\": {\"backgroundcolor\": \"#E5ECF6\", \"gridcolor\": \"white\", \"gridwidth\": 2, \"linecolor\": \"white\", \"showbackground\": true, \"ticks\": \"\", \"zerolinecolor\": \"white\"}, \"zaxis\": {\"backgroundcolor\": \"#E5ECF6\", \"gridcolor\": \"white\", \"gridwidth\": 2, \"linecolor\": \"white\", \"showbackground\": true, \"ticks\": \"\", \"zerolinecolor\": \"white\"}}, \"shapedefaults\": {\"line\": {\"color\": \"#2a3f5f\"}}, \"ternary\": {\"aaxis\": {\"gridcolor\": \"white\", \"linecolor\": \"white\", \"ticks\": \"\"}, \"baxis\": {\"gridcolor\": \"white\", \"linecolor\": \"white\", \"ticks\": \"\"}, \"bgcolor\": \"#E5ECF6\", \"caxis\": {\"gridcolor\": \"white\", \"linecolor\": \"white\", \"ticks\": \"\"}}, \"title\": {\"x\": 0.05}, \"xaxis\": {\"automargin\": true, \"gridcolor\": \"white\", \"linecolor\": \"white\", \"ticks\": \"\", \"title\": {\"standoff\": 15}, \"zerolinecolor\": \"white\", \"zerolinewidth\": 2}, \"yaxis\": {\"automargin\": true, \"gridcolor\": \"white\", \"linecolor\": \"white\", \"ticks\": \"\", \"title\": {\"standoff\": 15}, \"zerolinecolor\": \"white\", \"zerolinewidth\": 2}}}, \"title\": {\"text\": \"Correlation Matrix for variables\"}, \"width\": 800, \"xaxis\": {\"tickfont\": {\"size\": 9}}, \"yaxis\": {\"tickfont\": {\"size\": 9}}},\n",
       "                        {\"responsive\": true}\n",
       "                    ).then(function(){\n",
       "                            \n",
       "var gd = document.getElementById('299bb951-b103-4a8e-a300-e93153fe1acc');\n",
       "var x = new MutationObserver(function (mutations, observer) {{\n",
       "        var display = window.getComputedStyle(gd).display;\n",
       "        if (!display || display === 'none') {{\n",
       "            console.log([gd, 'removed!']);\n",
       "            Plotly.purge(gd);\n",
       "            observer.disconnect();\n",
       "        }}\n",
       "}});\n",
       "\n",
       "// Listen for the removal of the full notebook cells\n",
       "var notebookContainer = gd.closest('#notebook-container');\n",
       "if (notebookContainer) {{\n",
       "    x.observe(notebookContainer, {childList: true});\n",
       "}}\n",
       "\n",
       "// Listen for the clearing of the current output cell\n",
       "var outputEl = gd.closest('.output');\n",
       "if (outputEl) {{\n",
       "    x.observe(outputEl, {childList: true});\n",
       "}}\n",
       "\n",
       "                        })\n",
       "                };\n",
       "                });\n",
       "            </script>\n",
       "        </div>"
      ]
     },
     "metadata": {},
     "output_type": "display_data"
    }
   ],
   "source": [
    "correlation = telcom.corr()\n",
    "matrix_cols = correlation.columns.tolist()\n",
    "corr_array = np.array(correlation)\n",
    "trace = go.Heatmap(z=corr_array,\n",
    "                   x=matrix_cols,\n",
    "                   y=matrix_cols,\n",
    "                   colorscale=\"Viridis\",\n",
    "                   colorbar=dict(title=\"Pearson Correlation coefficient\",\n",
    "                                 titleside=\"right\"\n",
    "                                 ),\n",
    "                   )\n",
    "layout = go.Layout(dict(title=\"Correlation Matrix for variables\",\n",
    "                        autosize=False,\n",
    "                        height=720,\n",
    "                        width=800,\n",
    "                        margin=dict(r=0, l=210,\n",
    "                                    t=25, b=210,\n",
    "                                    ),\n",
    "                        yaxis=dict(tickfont=dict(size=9)),\n",
    "                        xaxis=dict(tickfont=dict(size=9))\n",
    "                        )\n",
    "                   )\n",
    "fig = go.Figure(data=[trace], layout=layout)\n",
    "py.iplot(fig)\n"
   ]
  },
  {
   "cell_type": "markdown",
   "metadata": {
    "_uuid": "f944336cbe67efb3422b79864d9478e2cfbdc860"
   },
   "source": [
    "### 1.6 Data Preparation for Training"
   ]
  },
  {
   "cell_type": "code",
   "execution_count": 7,
   "metadata": {},
   "outputs": [],
   "source": [
    "from sklearn.model_selection import train_test_split\n",
    "from sklearn.linear_model import LogisticRegression\n",
    "from sklearn.metrics import confusion_matrix,accuracy_score,classification_report\n",
    "from sklearn.metrics import roc_auc_score,roc_curve,scorer\n",
    "from sklearn.metrics import f1_score\n",
    "import statsmodels.api as sm\n",
    "from sklearn.metrics import precision_score,recall_score\n",
    "from yellowbrick.classifier import DiscriminationThreshold\n",
    "\n",
    "# Split into a train and test set\n",
    "train, test = train_test_split(telcom,test_size = .25 ,random_state = 111)\n",
    "    \n",
    "# Seperating dependent and independent variables\n",
    "cols    = [i for i in telcom.columns if i not in Id_col + target_col]\n",
    "training_x = train[cols]\n",
    "training_y = train[target_col]\n",
    "testing_x  = test[cols]\n",
    "testing_y  = test[target_col]"
   ]
  },
  {
   "cell_type": "markdown",
   "metadata": {},
   "source": [
    "### 1.7 Training"
   ]
  },
  {
   "cell_type": "code",
   "execution_count": 8,
   "metadata": {
    "scrolled": true
   },
   "outputs": [],
   "source": [
    "from xgboost import XGBClassifier\n",
    "\n",
    "model = XGBClassifier(base_score=0.5, booster='gbtree', colsample_bylevel=1,\n",
    "                      colsample_bytree=1, gamma=0, learning_rate=0.9, max_delta_step=0,\n",
    "                      max_depth=7, min_child_weight=1, missing=None, n_estimators=100,\n",
    "                      n_jobs=1, nthread=None, objective='binary:logistic', random_state=0,\n",
    "                      reg_alpha=0, reg_lambda=1, scale_pos_weight=1, seed=None,\n",
    "                      silent=True, subsample=1)\n",
    "\n",
    "# Train model\n",
    "model.fit(training_x, training_y)\n",
    "predictions = model.predict(testing_x)\n",
    "probabilities = model.predict_proba(testing_x)"
   ]
  },
  {
   "cell_type": "markdown",
   "metadata": {},
   "source": [
    "### 1.8 Analysis"
   ]
  },
  {
   "cell_type": "code",
   "execution_count": null,
   "metadata": {},
   "outputs": [
    {
     "name": "stdout",
     "output_type": "stream",
     "text": [
      "XGBClassifier(base_score=0.5, booster='gbtree', colsample_bylevel=1,\n",
      "              colsample_bynode=1, colsample_bytree=1, gamma=0, gpu_id=-1,\n",
      "              importance_type='gain', interaction_constraints=None,\n",
      "              learning_rate=0.9, max_delta_step=0, max_depth=7,\n",
      "              min_child_weight=1, missing=nan, monotone_constraints=None,\n",
      "              n_estimators=100, n_jobs=1, nthread=1, num_parallel_tree=1,\n",
      "              objective='binary:logistic', random_state=0, reg_alpha=0,\n",
      "              reg_lambda=1, scale_pos_weight=1, seed=0, silent=True,\n",
      "              subsample=1, tree_method=None, validate_parameters=False,\n",
      "              verbosity=None)\n",
      "\n",
      " Classification report : \n",
      "               precision    recall  f1-score   support\n",
      "\n",
      "           0       0.81      0.86      0.83      1268\n",
      "           1       0.56      0.47      0.51       490\n",
      "\n",
      "    accuracy                           0.75      1758\n",
      "   macro avg       0.69      0.67      0.67      1758\n",
      "weighted avg       0.74      0.75      0.74      1758\n",
      "\n",
      "Accuracy   Score :  0.7514220705346986\n",
      "Area under curve :  0.6655250112663361 \n",
      "\n"
     ]
    },
    {
     "name": "stderr",
     "output_type": "stream",
     "text": [
      "/home/willem/.pyenv/versions/3.7.4/lib/python3.7/site-packages/plotly/tools.py:465: DeprecationWarning:\n",
      "\n",
      "plotly.tools.make_subplots is deprecated, please use plotly.subplots.make_subplots instead\n",
      "\n"
     ]
    },
    {
     "data": {
      "application/vnd.plotly.v1+json": {
       "config": {
        "linkText": "Export to plot.ly",
        "plotlyServerURL": "https://plot.ly",
        "showLink": false
       },
       "data": [
        {
         "colorscale": [
          [
           0,
           "rgb(0,0,255)"
          ],
          [
           0.1,
           "rgb(51,153,255)"
          ],
          [
           0.2,
           "rgb(102,204,255)"
          ],
          [
           0.3,
           "rgb(153,204,255)"
          ],
          [
           0.4,
           "rgb(204,204,255)"
          ],
          [
           0.5,
           "rgb(255,255,255)"
          ],
          [
           0.6,
           "rgb(255,204,255)"
          ],
          [
           0.7,
           "rgb(255,153,255)"
          ],
          [
           0.8,
           "rgb(255,102,204)"
          ],
          [
           0.9,
           "rgb(255,102,102)"
          ],
          [
           1,
           "rgb(255,0,0)"
          ]
         ],
         "name": "matrix",
         "showscale": false,
         "type": "heatmap",
         "x": [
          "Not churn",
          "Churn"
         ],
         "xaxis": "x",
         "y": [
          "Not churn",
          "Churn"
         ],
         "yaxis": "y",
         "z": [
          [
           1090,
           178
          ],
          [
           259,
           231
          ]
         ]
        },
        {
         "line": {
          "color": "rgb(22, 96, 167)",
          "width": 2
         },
         "name": "Roc : 0.6655250112663361",
         "type": "scatter",
         "x": [
          0,
          0,
          0,
          0.0015772870662460567,
          0.0015772870662460567,
          0.0031545741324921135,
          0.0031545741324921135,
          0.003943217665615142,
          0.003943217665615142,
          0.003943217665615142,
          0.003943217665615142,
          0.00473186119873817,
          0.00473186119873817,
          0.005520504731861199,
          0.005520504731861199,
          0.006309148264984227,
          0.006309148264984227,
          0.007097791798107256,
          0.007097791798107256,
          0.008675078864353312,
          0.008675078864353312,
          0.00946372239747634,
          0.00946372239747634,
          0.01025236593059937,
          0.01025236593059937,
          0.011041009463722398,
          0.011041009463722398,
          0.011829652996845425,
          0.011829652996845425,
          0.013406940063091483,
          0.013406940063091483,
          0.017350157728706624,
          0.017350157728706624,
          0.018138801261829655,
          0.018138801261829655,
          0.01892744479495268,
          0.01892744479495268,
          0.01971608832807571,
          0.01971608832807571,
          0.02050473186119874,
          0.02050473186119874,
          0.021293375394321766,
          0.021293375394321766,
          0.02444794952681388,
          0.02444794952681388,
          0.025236593059936908,
          0.025236593059936908,
          0.026813880126182965,
          0.026813880126182965,
          0.027602523659305992,
          0.027602523659305992,
          0.028391167192429023,
          0.028391167192429023,
          0.02917981072555205,
          0.02917981072555205,
          0.030757097791798107,
          0.030757097791798107,
          0.031545741324921134,
          0.031545741324921134,
          0.03391167192429022,
          0.03391167192429022,
          0.03470031545741325,
          0.03470031545741325,
          0.03548895899053628,
          0.03548895899053628,
          0.03627760252365931,
          0.03627760252365931,
          0.03785488958990536,
          0.03785488958990536,
          0.04022082018927445,
          0.04022082018927445,
          0.04100946372239748,
          0.04100946372239748,
          0.0417981072555205,
          0.0417981072555205,
          0.04258675078864353,
          0.04258675078864353,
          0.04416403785488959,
          0.04416403785488959,
          0.044952681388012616,
          0.044952681388012616,
          0.04574132492113565,
          0.04574132492113565,
          0.04652996845425868,
          0.04652996845425868,
          0.050473186119873815,
          0.050473186119873815,
          0.051261829652996846,
          0.051261829652996846,
          0.05362776025236593,
          0.05362776025236593,
          0.05441640378548896,
          0.05441640378548896,
          0.055205047318611984,
          0.055205047318611984,
          0.055993690851735015,
          0.055993690851735015,
          0.056782334384858045,
          0.056782334384858045,
          0.057570977917981075,
          0.057570977917981075,
          0.0583596214511041,
          0.0583596214511041,
          0.061514195583596214,
          0.061514195583596214,
          0.062302839116719244,
          0.062302839116719244,
          0.0638801261829653,
          0.0638801261829653,
          0.06466876971608833,
          0.06466876971608833,
          0.06545741324921135,
          0.06545741324921135,
          0.06782334384858044,
          0.06782334384858044,
          0.07018927444794952,
          0.07018927444794952,
          0.07176656151419558,
          0.07176656151419558,
          0.07334384858044164,
          0.07334384858044164,
          0.07413249211356467,
          0.07413249211356467,
          0.07570977917981073,
          0.07570977917981073,
          0.07649842271293375,
          0.07649842271293375,
          0.07807570977917981,
          0.07807570977917981,
          0.08201892744479496,
          0.08201892744479496,
          0.083596214511041,
          0.083596214511041,
          0.08517350157728706,
          0.08517350157728706,
          0.0859621451104101,
          0.0859621451104101,
          0.08675078864353312,
          0.08675078864353312,
          0.08753943217665615,
          0.08753943217665615,
          0.08990536277602523,
          0.08990536277602523,
          0.09069400630914827,
          0.09069400630914827,
          0.0914826498422713,
          0.0914826498422713,
          0.09542586750788644,
          0.09542586750788644,
          0.09779179810725552,
          0.09779179810725552,
          0.09936908517350158,
          0.09936908517350158,
          0.10252365930599369,
          0.10252365930599369,
          0.10331230283911672,
          0.10331230283911672,
          0.10488958990536278,
          0.10488958990536278,
          0.10646687697160884,
          0.10646687697160884,
          0.10725552050473186,
          0.10725552050473186,
          0.10962145110410094,
          0.10962145110410094,
          0.11041009463722397,
          0.11041009463722397,
          0.11277602523659307,
          0.11277602523659307,
          0.11356466876971609,
          0.11356466876971609,
          0.11593059936908517,
          0.11593059936908517,
          0.11829652996845426,
          0.11829652996845426,
          0.12066246056782334,
          0.12066246056782334,
          0.12145110410094637,
          0.12145110410094637,
          0.1222397476340694,
          0.1222397476340694,
          0.12460567823343849,
          0.12460567823343849,
          0.12618296529968454,
          0.12618296529968454,
          0.12854889589905363,
          0.12854889589905363,
          0.12933753943217666,
          0.12933753943217666,
          0.13249211356466878,
          0.13249211356466878,
          0.13485804416403785,
          0.13485804416403785,
          0.13564668769716087,
          0.13564668769716087,
          0.13643533123028392,
          0.13643533123028392,
          0.138801261829653,
          0.138801261829653,
          0.14274447949526814,
          0.14274447949526814,
          0.1443217665615142,
          0.1443217665615142,
          0.14511041009463724,
          0.14511041009463724,
          0.14589905362776026,
          0.14589905362776026,
          0.14668769716088328,
          0.14668769716088328,
          0.14826498422712933,
          0.14826498422712933,
          0.15063091482649843,
          0.15063091482649843,
          0.1529968454258675,
          0.1529968454258675,
          0.15378548895899052,
          0.15378548895899052,
          0.1553627760252366,
          0.1553627760252366,
          0.15694006309148265,
          0.15694006309148265,
          0.15851735015772872,
          0.16009463722397477,
          0.16009463722397477,
          0.1640378548895899,
          0.1640378548895899,
          0.16561514195583596,
          0.16561514195583596,
          0.16640378548895898,
          0.16640378548895898,
          0.16876971608832808,
          0.16876971608832808,
          0.17034700315457413,
          0.17034700315457413,
          0.17113564668769715,
          0.17113564668769715,
          0.17271293375394323,
          0.17271293375394323,
          0.17429022082018927,
          0.17429022082018927,
          0.17586750788643532,
          0.17586750788643532,
          0.17665615141955837,
          0.17665615141955837,
          0.17823343848580442,
          0.17823343848580442,
          0.17902208201892744,
          0.17902208201892744,
          0.17981072555205047,
          0.1805993690851735,
          0.1829652996845426,
          0.1829652996845426,
          0.18454258675078863,
          0.18454258675078863,
          0.18533123028391169,
          0.18533123028391169,
          0.18848580441640378,
          0.18848580441640378,
          0.1892744479495268,
          0.1892744479495268,
          0.19085173501577288,
          0.19085173501577288,
          0.1916403785488959,
          0.1916403785488959,
          0.19400630914826497,
          0.19400630914826497,
          0.19479495268138802,
          0.19479495268138802,
          0.19558359621451105,
          0.19558359621451105,
          0.19873817034700317,
          0.19873817034700317,
          0.1995268138801262,
          0.1995268138801262,
          0.20189274447949526,
          0.20189274447949526,
          0.20268138801261829,
          0.20268138801261829,
          0.20347003154574134,
          0.20347003154574134,
          0.2058359621451104,
          0.2058359621451104,
          0.2082018927444795,
          0.2082018927444795,
          0.2113564668769716,
          0.2113564668769716,
          0.21293375394321767,
          0.21293375394321767,
          0.21845425867507887,
          0.21845425867507887,
          0.2200315457413249,
          0.2200315457413249,
          0.221608832807571,
          0.221608832807571,
          0.222397476340694,
          0.222397476340694,
          0.22318611987381703,
          0.22318611987381703,
          0.22555205047318613,
          0.22555205047318613,
          0.22712933753943218,
          0.22712933753943218,
          0.2279179810725552,
          0.2279179810725552,
          0.2334384858044164,
          0.2334384858044164,
          0.2358044164037855,
          0.2358044164037855,
          0.23738170347003154,
          0.23738170347003154,
          0.23817034700315456,
          0.23817034700315456,
          0.24290220820189273,
          0.24290220820189273,
          0.24369085173501578,
          0.24369085173501578,
          0.2444794952681388,
          0.2444794952681388,
          0.24526813880126183,
          0.24526813880126183,
          0.24684542586750788,
          0.24684542586750788,
          0.250788643533123,
          0.250788643533123,
          0.25236593059936907,
          0.25236593059936907,
          0.2539432176656151,
          0.2539432176656151,
          0.2547318611987382,
          0.2547318611987382,
          0.2586750788643533,
          0.2586750788643533,
          0.26025236593059936,
          0.26025236593059936,
          0.2610410094637224,
          0.2610410094637224,
          0.26498422712933756,
          0.26498422712933756,
          0.2665615141955836,
          0.2665615141955836,
          0.26735015772870663,
          0.26735015772870663,
          0.26813880126182965,
          0.26813880126182965,
          0.2689274447949527,
          0.2689274447949527,
          0.27208201892744477,
          0.27208201892744477,
          0.27602523659305994,
          0.27602523659305994,
          0.27996845425867506,
          0.27996845425867506,
          0.2823343848580442,
          0.2823343848580442,
          0.2831230283911672,
          0.2831230283911672,
          0.28785488958990535,
          0.28785488958990535,
          0.29652996845425866,
          0.29652996845425866,
          0.2996845425867508,
          0.2996845425867508,
          0.30126182965299686,
          0.30126182965299686,
          0.3020504731861199,
          0.3020504731861199,
          0.305993690851735,
          0.305993690851735,
          0.30757097791798105,
          0.30757097791798105,
          0.3194006309148265,
          0.3194006309148265,
          0.32097791798107256,
          0.32097791798107256,
          0.3225552050473186,
          0.3225552050473186,
          0.32413249211356465,
          0.32413249211356465,
          0.3249211356466877,
          0.3249211356466877,
          0.32965299684542587,
          0.32965299684542587,
          0.3312302839116719,
          0.3312302839116719,
          0.334384858044164,
          0.334384858044164,
          0.3351735015772871,
          0.3351735015772871,
          0.33753943217665616,
          0.33753943217665616,
          0.3383280757097792,
          0.3383280757097792,
          0.3501577287066246,
          0.3501577287066246,
          0.35331230283911674,
          0.35331230283911674,
          0.35646687697160884,
          0.35646687697160884,
          0.3588328075709779,
          0.3588328075709779,
          0.36198738170347006,
          0.36198738170347006,
          0.3635646687697161,
          0.3635646687697161,
          0.3659305993690852,
          0.3659305993690852,
          0.36829652996845424,
          0.36829652996845424,
          0.37302839116719244,
          0.37302839116719244,
          0.3777602523659306,
          0.3777602523659306,
          0.3824921135646688,
          0.3824921135646688,
          0.3840694006309148,
          0.3840694006309148,
          0.3864353312302839,
          0.3864353312302839,
          0.388801261829653,
          0.388801261829653,
          0.38958990536277605,
          0.38958990536277605,
          0.3943217665615142,
          0.3943217665615142,
          0.39668769716088326,
          0.39668769716088326,
          0.3998422712933754,
          0.3998422712933754,
          0.40536277602523657,
          0.40536277602523657,
          0.4061514195583596,
          0.4061514195583596,
          0.4069400630914827,
          0.4069400630914827,
          0.4235015772870662,
          0.4235015772870662,
          0.42586750788643535,
          0.42586750788643535,
          0.42665615141955837,
          0.42665615141955837,
          0.4274447949526814,
          0.4274447949526814,
          0.4282334384858044,
          0.4282334384858044,
          0.43217665615141954,
          0.43217665615141954,
          0.43454258675078866,
          0.43454258675078866,
          0.43769716088328076,
          0.43769716088328076,
          0.444006309148265,
          0.444006309148265,
          0.444794952681388,
          0.444794952681388,
          0.44558359621451105,
          0.44558359621451105,
          0.44637223974763407,
          0.44637223974763407,
          0.44873817034700314,
          0.44873817034700314,
          0.4503154574132492,
          0.4503154574132492,
          0.4518927444794953,
          0.4518927444794953,
          0.45347003154574134,
          0.45347003154574134,
          0.45425867507886436,
          0.45425867507886436,
          0.4558359621451104,
          0.4558359621451104,
          0.47003154574132494,
          0.47003154574132494,
          0.47318611987381703,
          0.47318611987381703,
          0.47870662460567825,
          0.47870662460567825,
          0.48580441640378547,
          0.48580441640378547,
          0.49290220820189273,
          0.49290220820189273,
          0.4960567823343849,
          0.4960567823343849,
          0.49842271293375395,
          0.49842271293375395,
          0.5023659305993691,
          0.5023659305993691,
          0.5063091482649842,
          0.5063091482649842,
          0.5126182965299685,
          0.5126182965299685,
          0.5134069400630915,
          0.5134069400630915,
          0.5165615141955836,
          0.5165615141955836,
          0.5205047318611987,
          0.5205047318611987,
          0.5331230283911672,
          0.5331230283911672,
          0.5528391167192429,
          0.5528391167192429,
          0.554416403785489,
          0.554416403785489,
          0.5662460567823344,
          0.5662460567823344,
          0.5717665615141956,
          0.5717665615141956,
          0.5741324921135647,
          0.5741324921135647,
          0.5757097791798107,
          0.5757097791798107,
          0.5891167192429022,
          0.5906940063091483,
          0.5954258675078864,
          0.5954258675078864,
          0.6041009463722398,
          0.6041009463722398,
          0.6072555205047319,
          0.6072555205047319,
          0.6088328075709779,
          0.6088328075709779,
          0.612776025236593,
          0.612776025236593,
          0.6151419558359621,
          0.6151419558359621,
          0.6238170347003155,
          0.6238170347003155,
          0.6246056782334385,
          0.6246056782334385,
          0.6348580441640379,
          0.6348580441640379,
          0.63801261829653,
          0.63801261829653,
          0.6482649842271293,
          0.6482649842271293,
          0.6529968454258676,
          0.6529968454258676,
          0.6648264984227129,
          0.6648264984227129,
          0.6758675078864353,
          0.6758675078864353,
          0.6892744479495269,
          0.6892744479495269,
          0.7011041009463722,
          0.7011041009463722,
          0.7089905362776026,
          0.7089905362776026,
          0.7342271293375394,
          0.7342271293375394,
          0.7570977917981072,
          0.7570977917981072,
          0.7941640378548895,
          0.7941640378548895,
          0.8138801261829653,
          0.8138801261829653,
          0.8422712933753943,
          0.8422712933753943,
          0.8698738170347003,
          0.8698738170347003,
          0.8738170347003155,
          0.8738170347003155,
          0.8832807570977917,
          0.8832807570977917,
          0.8848580441640379,
          0.8848580441640379,
          0.9069400630914827,
          0.9069400630914827,
          0.9353312302839116,
          0.9353312302839116,
          1
         ],
         "xaxis": "x2",
         "y": [
          0,
          0.0020408163265306124,
          0.006122448979591836,
          0.006122448979591836,
          0.01020408163265306,
          0.01020408163265306,
          0.0163265306122449,
          0.0163265306122449,
          0.024489795918367346,
          0.02857142857142857,
          0.03877551020408163,
          0.03877551020408163,
          0.04081632653061224,
          0.04081632653061224,
          0.05714285714285714,
          0.05714285714285714,
          0.05918367346938776,
          0.05918367346938776,
          0.07142857142857142,
          0.07142857142857142,
          0.07551020408163266,
          0.07551020408163266,
          0.07755102040816327,
          0.07755102040816327,
          0.08571428571428572,
          0.08571428571428572,
          0.09183673469387756,
          0.09183673469387756,
          0.09387755102040816,
          0.09387755102040816,
          0.09591836734693877,
          0.09591836734693877,
          0.09795918367346938,
          0.09795918367346938,
          0.10408163265306122,
          0.10408163265306122,
          0.11632653061224489,
          0.11632653061224489,
          0.11836734693877551,
          0.11836734693877551,
          0.1326530612244898,
          0.1326530612244898,
          0.1346938775510204,
          0.1346938775510204,
          0.13877551020408163,
          0.13877551020408163,
          0.1489795918367347,
          0.1489795918367347,
          0.1510204081632653,
          0.1510204081632653,
          0.16938775510204082,
          0.17142857142857143,
          0.17346938775510204,
          0.17346938775510204,
          0.17959183673469387,
          0.17959183673469387,
          0.1816326530612245,
          0.1816326530612245,
          0.1836734693877551,
          0.1836734693877551,
          0.19183673469387755,
          0.19183673469387755,
          0.20408163265306123,
          0.20408163265306123,
          0.20612244897959184,
          0.20612244897959184,
          0.21224489795918366,
          0.21224489795918366,
          0.21428571428571427,
          0.21428571428571427,
          0.21836734693877552,
          0.21836734693877552,
          0.22448979591836735,
          0.22448979591836735,
          0.22857142857142856,
          0.22857142857142856,
          0.23469387755102042,
          0.23469387755102042,
          0.23877551020408164,
          0.23877551020408164,
          0.24081632653061225,
          0.24081632653061225,
          0.24897959183673468,
          0.24897959183673468,
          0.2510204081632653,
          0.2510204081632653,
          0.25918367346938775,
          0.25918367346938775,
          0.26326530612244897,
          0.26326530612244897,
          0.2857142857142857,
          0.2857142857142857,
          0.28775510204081634,
          0.28775510204081634,
          0.2897959183673469,
          0.2897959183673469,
          0.29591836734693877,
          0.29591836734693877,
          0.2979591836734694,
          0.2979591836734694,
          0.3040816326530612,
          0.3040816326530612,
          0.31020408163265306,
          0.31020408163265306,
          0.3122448979591837,
          0.3122448979591837,
          0.3142857142857143,
          0.3142857142857143,
          0.32040816326530613,
          0.32040816326530613,
          0.32653061224489793,
          0.32653061224489793,
          0.3306122448979592,
          0.3306122448979592,
          0.3326530612244898,
          0.3326530612244898,
          0.3346938775510204,
          0.3346938775510204,
          0.336734693877551,
          0.336734693877551,
          0.33877551020408164,
          0.33877551020408164,
          0.3408163265306122,
          0.3408163265306122,
          0.3469387755102041,
          0.3469387755102041,
          0.35306122448979593,
          0.35306122448979593,
          0.3551020408163265,
          0.3551020408163265,
          0.35918367346938773,
          0.35918367346938773,
          0.36122448979591837,
          0.36122448979591837,
          0.363265306122449,
          0.363265306122449,
          0.3653061224489796,
          0.3653061224489796,
          0.3693877551020408,
          0.3693877551020408,
          0.37142857142857144,
          0.37142857142857144,
          0.373469387755102,
          0.373469387755102,
          0.37551020408163266,
          0.37551020408163266,
          0.3816326530612245,
          0.3816326530612245,
          0.38571428571428573,
          0.38571428571428573,
          0.3877551020408163,
          0.3877551020408163,
          0.38979591836734695,
          0.38979591836734695,
          0.39183673469387753,
          0.39183673469387753,
          0.39387755102040817,
          0.39387755102040817,
          0.3979591836734694,
          0.3979591836734694,
          0.4,
          0.4,
          0.4020408163265306,
          0.4020408163265306,
          0.41020408163265304,
          0.41020408163265304,
          0.4122448979591837,
          0.4122448979591837,
          0.41836734693877553,
          0.41836734693877553,
          0.4204081632653061,
          0.4204081632653061,
          0.42244897959183675,
          0.42244897959183675,
          0.42448979591836733,
          0.42448979591836733,
          0.42653061224489797,
          0.42653061224489797,
          0.42857142857142855,
          0.42857142857142855,
          0.4326530612244898,
          0.4326530612244898,
          0.43673469387755104,
          0.43673469387755104,
          0.4387755102040816,
          0.4387755102040816,
          0.4448979591836735,
          0.4448979591836735,
          0.45102040816326533,
          0.45102040816326533,
          0.4530612244897959,
          0.4530612244897959,
          0.45510204081632655,
          0.45510204081632655,
          0.45714285714285713,
          0.45714285714285713,
          0.45918367346938777,
          0.45918367346938777,
          0.4714285714285714,
          0.4714285714285714,
          0.47346938775510206,
          0.47346938775510206,
          0.4816326530612245,
          0.4816326530612245,
          0.48367346938775513,
          0.48367346938775513,
          0.4857142857142857,
          0.4857142857142857,
          0.5020408163265306,
          0.5020408163265306,
          0.5040816326530613,
          0.5040816326530613,
          0.5061224489795918,
          0.5061224489795918,
          0.5102040816326531,
          0.5102040816326531,
          0.5122448979591837,
          0.5122448979591837,
          0.5224489795918368,
          0.5224489795918368,
          0.5244897959183673,
          0.5244897959183673,
          0.5244897959183673,
          0.5265306122448979,
          0.5265306122448979,
          0.5306122448979592,
          0.5306122448979592,
          0.536734693877551,
          0.536734693877551,
          0.5387755102040817,
          0.5387755102040817,
          0.5408163265306123,
          0.5408163265306123,
          0.5428571428571428,
          0.5428571428571428,
          0.5469387755102041,
          0.5469387755102041,
          0.5530612244897959,
          0.5530612244897959,
          0.5551020408163265,
          0.5551020408163265,
          0.5653061224489796,
          0.5653061224489796,
          0.5673469387755102,
          0.5673469387755102,
          0.5714285714285714,
          0.5714285714285714,
          0.573469387755102,
          0.573469387755102,
          0.5755102040816327,
          0.5755102040816327,
          0.5775510204081633,
          0.5775510204081633,
          0.5795918367346938,
          0.5795918367346938,
          0.5836734693877551,
          0.5836734693877551,
          0.5897959183673469,
          0.5897959183673469,
          0.5918367346938775,
          0.5918367346938775,
          0.5938775510204082,
          0.5938775510204082,
          0.5959183673469388,
          0.5959183673469388,
          0.5979591836734693,
          0.5979591836734693,
          0.6020408163265306,
          0.6020408163265306,
          0.6040816326530613,
          0.6040816326530613,
          0.6061224489795919,
          0.6061224489795919,
          0.6122448979591837,
          0.6122448979591837,
          0.6163265306122448,
          0.6163265306122448,
          0.6183673469387755,
          0.6183673469387755,
          0.6204081632653061,
          0.6204081632653061,
          0.6224489795918368,
          0.6224489795918368,
          0.6244897959183674,
          0.6244897959183674,
          0.6285714285714286,
          0.6285714285714286,
          0.6306122448979592,
          0.6306122448979592,
          0.6326530612244898,
          0.6326530612244898,
          0.6346938775510204,
          0.6346938775510204,
          0.636734693877551,
          0.636734693877551,
          0.6387755102040816,
          0.6387755102040816,
          0.6428571428571429,
          0.6428571428571429,
          0.6489795918367347,
          0.6489795918367347,
          0.6530612244897959,
          0.6530612244897959,
          0.6551020408163265,
          0.6551020408163265,
          0.6571428571428571,
          0.6571428571428571,
          0.6632653061224489,
          0.6632653061224489,
          0.6673469387755102,
          0.6673469387755102,
          0.6693877551020408,
          0.6693877551020408,
          0.6755102040816326,
          0.6755102040816326,
          0.6775510204081633,
          0.6775510204081633,
          0.6795918367346939,
          0.6795918367346939,
          0.6836734693877551,
          0.6836734693877551,
          0.6857142857142857,
          0.6857142857142857,
          0.6877551020408164,
          0.6877551020408164,
          0.689795918367347,
          0.689795918367347,
          0.6918367346938775,
          0.6918367346938775,
          0.6938775510204082,
          0.6938775510204082,
          0.6979591836734694,
          0.6979591836734694,
          0.7020408163265306,
          0.7020408163265306,
          0.7040816326530612,
          0.7040816326530612,
          0.7061224489795919,
          0.7061224489795919,
          0.7081632653061225,
          0.7081632653061225,
          0.710204081632653,
          0.710204081632653,
          0.7122448979591837,
          0.7122448979591837,
          0.7163265306122449,
          0.7163265306122449,
          0.7204081632653061,
          0.7204081632653061,
          0.7244897959183674,
          0.7244897959183674,
          0.7326530612244898,
          0.7326530612244898,
          0.7346938775510204,
          0.7346938775510204,
          0.736734693877551,
          0.736734693877551,
          0.7408163265306122,
          0.7408163265306122,
          0.7428571428571429,
          0.7428571428571429,
          0.7448979591836735,
          0.7448979591836735,
          0.746938775510204,
          0.746938775510204,
          0.7510204081632653,
          0.7510204081632653,
          0.7591836734693878,
          0.7591836734693878,
          0.7653061224489796,
          0.7653061224489796,
          0.7673469387755102,
          0.7673469387755102,
          0.7693877551020408,
          0.7693877551020408,
          0.773469387755102,
          0.773469387755102,
          0.7775510204081633,
          0.7775510204081633,
          0.7795918367346939,
          0.7795918367346939,
          0.7816326530612245,
          0.7816326530612245,
          0.7836734693877551,
          0.7836734693877551,
          0.7857142857142857,
          0.7857142857142857,
          0.789795918367347,
          0.789795918367347,
          0.7918367346938775,
          0.7918367346938775,
          0.7938775510204081,
          0.7938775510204081,
          0.7959183673469388,
          0.7959183673469388,
          0.7979591836734694,
          0.7979591836734694,
          0.8,
          0.8,
          0.8020408163265306,
          0.8020408163265306,
          0.8040816326530612,
          0.8040816326530612,
          0.8081632653061225,
          0.8081632653061225,
          0.810204081632653,
          0.810204081632653,
          0.8142857142857143,
          0.8142857142857143,
          0.8163265306122449,
          0.8163265306122449,
          0.8183673469387756,
          0.8183673469387756,
          0.8204081632653061,
          0.8204081632653061,
          0.8224489795918367,
          0.8224489795918367,
          0.8244897959183674,
          0.8244897959183674,
          0.826530612244898,
          0.826530612244898,
          0.8346938775510204,
          0.8346938775510204,
          0.8367346938775511,
          0.8367346938775511,
          0.8428571428571429,
          0.8428571428571429,
          0.8469387755102041,
          0.8469387755102041,
          0.8489795918367347,
          0.8489795918367347,
          0.8510204081632653,
          0.8510204081632653,
          0.8530612244897959,
          0.8530612244897959,
          0.8551020408163266,
          0.8551020408163266,
          0.8571428571428571,
          0.8571428571428571,
          0.8591836734693877,
          0.8591836734693877,
          0.8612244897959184,
          0.8612244897959184,
          0.863265306122449,
          0.863265306122449,
          0.8653061224489796,
          0.8653061224489796,
          0.8693877551020408,
          0.8693877551020408,
          0.8714285714285714,
          0.8714285714285714,
          0.8734693877551021,
          0.8734693877551021,
          0.8755102040816326,
          0.8755102040816326,
          0.8775510204081632,
          0.8775510204081632,
          0.8795918367346939,
          0.8795918367346939,
          0.8816326530612245,
          0.8816326530612245,
          0.8857142857142857,
          0.8857142857142857,
          0.8877551020408163,
          0.8877551020408163,
          0.889795918367347,
          0.889795918367347,
          0.8918367346938776,
          0.8918367346938776,
          0.8938775510204081,
          0.8938775510204081,
          0.8959183673469387,
          0.8959183673469387,
          0.9,
          0.9,
          0.9020408163265307,
          0.9020408163265307,
          0.9040816326530612,
          0.9040816326530612,
          0.9081632653061225,
          0.9081632653061225,
          0.9102040816326531,
          0.9102040816326531,
          0.9122448979591836,
          0.9122448979591836,
          0.9142857142857143,
          0.9142857142857143,
          0.9163265306122449,
          0.9163265306122449,
          0.9183673469387755,
          0.9183673469387755,
          0.9204081632653062,
          0.9204081632653062,
          0.9224489795918367,
          0.9224489795918367,
          0.9244897959183673,
          0.9244897959183673,
          0.926530612244898,
          0.926530612244898,
          0.9285714285714286,
          0.9285714285714286,
          0.9306122448979591,
          0.9306122448979591,
          0.9346938775510204,
          0.9346938775510204,
          0.936734693877551,
          0.936734693877551,
          0.9387755102040817,
          0.9387755102040817,
          0.9408163265306122,
          0.9408163265306122,
          0.9408163265306122,
          0.9408163265306122,
          0.9428571428571428,
          0.9428571428571428,
          0.9448979591836735,
          0.9448979591836735,
          0.9469387755102041,
          0.9469387755102041,
          0.9489795918367347,
          0.9489795918367347,
          0.9510204081632653,
          0.9510204081632653,
          0.9530612244897959,
          0.9530612244897959,
          0.9551020408163265,
          0.9551020408163265,
          0.9571428571428572,
          0.9571428571428572,
          0.9591836734693877,
          0.9591836734693877,
          0.963265306122449,
          0.963265306122449,
          0.9653061224489796,
          0.9653061224489796,
          0.9673469387755103,
          0.9673469387755103,
          0.9693877551020408,
          0.9693877551020408,
          0.9714285714285714,
          0.9714285714285714,
          0.9734693877551021,
          0.9734693877551021,
          0.9755102040816327,
          0.9755102040816327,
          0.9775510204081632,
          0.9775510204081632,
          0.9795918367346939,
          0.9795918367346939,
          0.9816326530612245,
          0.9816326530612245,
          0.9836734693877551,
          0.9836734693877551,
          0.9857142857142858,
          0.9857142857142858,
          0.9877551020408163,
          0.9877551020408163,
          0.9897959183673469,
          0.9897959183673469,
          0.9918367346938776,
          0.9918367346938776,
          0.9938775510204082,
          0.9938775510204082,
          0.9959183673469387,
          0.9959183673469387,
          0.9979591836734694,
          0.9979591836734694,
          1,
          1
         ],
         "yaxis": "y2"
        },
        {
         "line": {
          "color": "rgb(205, 12, 24)",
          "dash": "dot",
          "width": 2
         },
         "type": "scatter",
         "x": [
          0,
          1
         ],
         "xaxis": "x2",
         "y": [
          0,
          1
         ],
         "yaxis": "y2"
        },
        {
         "marker": {
          "color": [
           0.40381771326065063,
           0.28717586398124695,
           0.019390283152461052,
           0.018444739282131195,
           0.01538677979260683,
           0.014990396797657013,
           0.014325669966638088,
           0.013916175812482834,
           0.012448116205632687,
           0.01242363452911377,
           0.012042813934385777,
           0.012016979977488518,
           0.011734840460121632,
           0.011441107839345932,
           0.01139832753688097,
           0.009455341845750809,
           0.009003291837871075,
           0.008989614434540272,
           0.00892818532884121,
           0.008804365992546082,
           0.00837039016187191,
           0.008362136781215668,
           0.008307449519634247,
           0.008072943426668644,
           0.00748491520062089,
           0.007470999378710985,
           0.006756791844964027,
           0.006560647860169411,
           0.006558740511536598,
           0.006327662151306868,
           0.0055321562103927135,
           0.00406095152720809,
           0
          ],
          "colorscale": [
           [
            0,
            "rgb(0,0,255)"
           ],
           [
            0.1,
            "rgb(51,153,255)"
           ],
           [
            0.2,
            "rgb(102,204,255)"
           ],
           [
            0.3,
            "rgb(153,204,255)"
           ],
           [
            0.4,
            "rgb(204,204,255)"
           ],
           [
            0.5,
            "rgb(255,255,255)"
           ],
           [
            0.6,
            "rgb(255,204,255)"
           ],
           [
            0.7,
            "rgb(255,153,255)"
           ],
           [
            0.8,
            "rgb(255,102,204)"
           ],
           [
            0.9,
            "rgb(255,102,102)"
           ],
           [
            1,
            "rgb(255,0,0)"
           ]
          ],
          "line": {
           "color": "black",
           "width": 0.6
          }
         },
         "name": "coefficients",
         "type": "bar",
         "x": [
          "internetservice_fiber_optic",
          "contract_month_to_month",
          "internetservice_dsl",
          "tenure_group_tenure_0_12",
          "phoneservice",
          "contract_one_year",
          "tenure",
          "tenure_group_tenure_48_60",
          "internetservice_no",
          "seniorcitizen",
          "onlinesecurity",
          "techsupport",
          "streamingmovies",
          "multiplelines_no",
          "contract_two_year",
          "paymentmethod_electronic_check",
          "onlinebackup",
          "totalcharges",
          "paymentmethod_bank_transfer_automatic",
          "tenure_group_tenure_24_48",
          "monthlycharges",
          "paperlessbilling",
          "streamingtv",
          "multiplelines_yes",
          "paymentmethod_mailed_check",
          "gender",
          "dependents",
          "partner",
          "tenure_group_tenure_12_24",
          "deviceprotection",
          "paymentmethod_credit_card_automatic",
          "tenure_group_tenure_gt_60",
          "multiplelines_no_phone_service"
         ],
         "xaxis": "x3",
         "y": [
          0.40381771326065063,
          0.28717586398124695,
          0.019390283152461052,
          0.018444739282131195,
          0.01538677979260683,
          0.014990396797657013,
          0.014325669966638088,
          0.013916175812482834,
          0.012448116205632687,
          0.01242363452911377,
          0.012042813934385777,
          0.012016979977488518,
          0.011734840460121632,
          0.011441107839345932,
          0.01139832753688097,
          0.009455341845750809,
          0.009003291837871075,
          0.008989614434540272,
          0.00892818532884121,
          0.008804365992546082,
          0.00837039016187191,
          0.008362136781215668,
          0.008307449519634247,
          0.008072943426668644,
          0.00748491520062089,
          0.007470999378710985,
          0.006756791844964027,
          0.006560647860169411,
          0.006558740511536598,
          0.006327662151306868,
          0.0055321562103927135,
          0.00406095152720809,
          0
         ],
         "yaxis": "y3"
        }
       ],
       "layout": {
        "annotations": [
         {
          "font": {
           "size": 16
          },
          "showarrow": false,
          "text": "Confusion Matrix",
          "x": 0.225,
          "xanchor": "center",
          "xref": "paper",
          "y": 1,
          "yanchor": "bottom",
          "yref": "paper"
         },
         {
          "font": {
           "size": 16
          },
          "showarrow": false,
          "text": "Receiver operating characteristic",
          "x": 0.775,
          "xanchor": "center",
          "xref": "paper",
          "y": 1,
          "yanchor": "bottom",
          "yref": "paper"
         },
         {
          "font": {
           "size": 16
          },
          "showarrow": false,
          "text": "Feature Importances",
          "x": 0.5,
          "xanchor": "center",
          "xref": "paper",
          "y": 0.375,
          "yanchor": "bottom",
          "yref": "paper"
         }
        ],
        "autosize": false,
        "height": 900,
        "margin": {
         "b": 195
        },
        "paper_bgcolor": "rgba(240,240,240, 0.95)",
        "plot_bgcolor": "rgba(240,240,240, 0.95)",
        "showlegend": false,
        "template": {
         "data": {
          "bar": [
           {
            "error_x": {
             "color": "#2a3f5f"
            },
            "error_y": {
             "color": "#2a3f5f"
            },
            "marker": {
             "line": {
              "color": "#E5ECF6",
              "width": 0.5
             }
            },
            "type": "bar"
           }
          ],
          "barpolar": [
           {
            "marker": {
             "line": {
              "color": "#E5ECF6",
              "width": 0.5
             }
            },
            "type": "barpolar"
           }
          ],
          "carpet": [
           {
            "aaxis": {
             "endlinecolor": "#2a3f5f",
             "gridcolor": "white",
             "linecolor": "white",
             "minorgridcolor": "white",
             "startlinecolor": "#2a3f5f"
            },
            "baxis": {
             "endlinecolor": "#2a3f5f",
             "gridcolor": "white",
             "linecolor": "white",
             "minorgridcolor": "white",
             "startlinecolor": "#2a3f5f"
            },
            "type": "carpet"
           }
          ],
          "choropleth": [
           {
            "colorbar": {
             "outlinewidth": 0,
             "ticks": ""
            },
            "type": "choropleth"
           }
          ],
          "contour": [
           {
            "colorbar": {
             "outlinewidth": 0,
             "ticks": ""
            },
            "colorscale": [
             [
              0,
              "#0d0887"
             ],
             [
              0.1111111111111111,
              "#46039f"
             ],
             [
              0.2222222222222222,
              "#7201a8"
             ],
             [
              0.3333333333333333,
              "#9c179e"
             ],
             [
              0.4444444444444444,
              "#bd3786"
             ],
             [
              0.5555555555555556,
              "#d8576b"
             ],
             [
              0.6666666666666666,
              "#ed7953"
             ],
             [
              0.7777777777777778,
              "#fb9f3a"
             ],
             [
              0.8888888888888888,
              "#fdca26"
             ],
             [
              1,
              "#f0f921"
             ]
            ],
            "type": "contour"
           }
          ],
          "contourcarpet": [
           {
            "colorbar": {
             "outlinewidth": 0,
             "ticks": ""
            },
            "type": "contourcarpet"
           }
          ],
          "heatmap": [
           {
            "colorbar": {
             "outlinewidth": 0,
             "ticks": ""
            },
            "colorscale": [
             [
              0,
              "#0d0887"
             ],
             [
              0.1111111111111111,
              "#46039f"
             ],
             [
              0.2222222222222222,
              "#7201a8"
             ],
             [
              0.3333333333333333,
              "#9c179e"
             ],
             [
              0.4444444444444444,
              "#bd3786"
             ],
             [
              0.5555555555555556,
              "#d8576b"
             ],
             [
              0.6666666666666666,
              "#ed7953"
             ],
             [
              0.7777777777777778,
              "#fb9f3a"
             ],
             [
              0.8888888888888888,
              "#fdca26"
             ],
             [
              1,
              "#f0f921"
             ]
            ],
            "type": "heatmap"
           }
          ],
          "heatmapgl": [
           {
            "colorbar": {
             "outlinewidth": 0,
             "ticks": ""
            },
            "colorscale": [
             [
              0,
              "#0d0887"
             ],
             [
              0.1111111111111111,
              "#46039f"
             ],
             [
              0.2222222222222222,
              "#7201a8"
             ],
             [
              0.3333333333333333,
              "#9c179e"
             ],
             [
              0.4444444444444444,
              "#bd3786"
             ],
             [
              0.5555555555555556,
              "#d8576b"
             ],
             [
              0.6666666666666666,
              "#ed7953"
             ],
             [
              0.7777777777777778,
              "#fb9f3a"
             ],
             [
              0.8888888888888888,
              "#fdca26"
             ],
             [
              1,
              "#f0f921"
             ]
            ],
            "type": "heatmapgl"
           }
          ],
          "histogram": [
           {
            "marker": {
             "colorbar": {
              "outlinewidth": 0,
              "ticks": ""
             }
            },
            "type": "histogram"
           }
          ],
          "histogram2d": [
           {
            "colorbar": {
             "outlinewidth": 0,
             "ticks": ""
            },
            "colorscale": [
             [
              0,
              "#0d0887"
             ],
             [
              0.1111111111111111,
              "#46039f"
             ],
             [
              0.2222222222222222,
              "#7201a8"
             ],
             [
              0.3333333333333333,
              "#9c179e"
             ],
             [
              0.4444444444444444,
              "#bd3786"
             ],
             [
              0.5555555555555556,
              "#d8576b"
             ],
             [
              0.6666666666666666,
              "#ed7953"
             ],
             [
              0.7777777777777778,
              "#fb9f3a"
             ],
             [
              0.8888888888888888,
              "#fdca26"
             ],
             [
              1,
              "#f0f921"
             ]
            ],
            "type": "histogram2d"
           }
          ],
          "histogram2dcontour": [
           {
            "colorbar": {
             "outlinewidth": 0,
             "ticks": ""
            },
            "colorscale": [
             [
              0,
              "#0d0887"
             ],
             [
              0.1111111111111111,
              "#46039f"
             ],
             [
              0.2222222222222222,
              "#7201a8"
             ],
             [
              0.3333333333333333,
              "#9c179e"
             ],
             [
              0.4444444444444444,
              "#bd3786"
             ],
             [
              0.5555555555555556,
              "#d8576b"
             ],
             [
              0.6666666666666666,
              "#ed7953"
             ],
             [
              0.7777777777777778,
              "#fb9f3a"
             ],
             [
              0.8888888888888888,
              "#fdca26"
             ],
             [
              1,
              "#f0f921"
             ]
            ],
            "type": "histogram2dcontour"
           }
          ],
          "mesh3d": [
           {
            "colorbar": {
             "outlinewidth": 0,
             "ticks": ""
            },
            "type": "mesh3d"
           }
          ],
          "parcoords": [
           {
            "line": {
             "colorbar": {
              "outlinewidth": 0,
              "ticks": ""
             }
            },
            "type": "parcoords"
           }
          ],
          "pie": [
           {
            "automargin": true,
            "type": "pie"
           }
          ],
          "scatter": [
           {
            "marker": {
             "colorbar": {
              "outlinewidth": 0,
              "ticks": ""
             }
            },
            "type": "scatter"
           }
          ],
          "scatter3d": [
           {
            "line": {
             "colorbar": {
              "outlinewidth": 0,
              "ticks": ""
             }
            },
            "marker": {
             "colorbar": {
              "outlinewidth": 0,
              "ticks": ""
             }
            },
            "type": "scatter3d"
           }
          ],
          "scattercarpet": [
           {
            "marker": {
             "colorbar": {
              "outlinewidth": 0,
              "ticks": ""
             }
            },
            "type": "scattercarpet"
           }
          ],
          "scattergeo": [
           {
            "marker": {
             "colorbar": {
              "outlinewidth": 0,
              "ticks": ""
             }
            },
            "type": "scattergeo"
           }
          ],
          "scattergl": [
           {
            "marker": {
             "colorbar": {
              "outlinewidth": 0,
              "ticks": ""
             }
            },
            "type": "scattergl"
           }
          ],
          "scattermapbox": [
           {
            "marker": {
             "colorbar": {
              "outlinewidth": 0,
              "ticks": ""
             }
            },
            "type": "scattermapbox"
           }
          ],
          "scatterpolar": [
           {
            "marker": {
             "colorbar": {
              "outlinewidth": 0,
              "ticks": ""
             }
            },
            "type": "scatterpolar"
           }
          ],
          "scatterpolargl": [
           {
            "marker": {
             "colorbar": {
              "outlinewidth": 0,
              "ticks": ""
             }
            },
            "type": "scatterpolargl"
           }
          ],
          "scatterternary": [
           {
            "marker": {
             "colorbar": {
              "outlinewidth": 0,
              "ticks": ""
             }
            },
            "type": "scatterternary"
           }
          ],
          "surface": [
           {
            "colorbar": {
             "outlinewidth": 0,
             "ticks": ""
            },
            "colorscale": [
             [
              0,
              "#0d0887"
             ],
             [
              0.1111111111111111,
              "#46039f"
             ],
             [
              0.2222222222222222,
              "#7201a8"
             ],
             [
              0.3333333333333333,
              "#9c179e"
             ],
             [
              0.4444444444444444,
              "#bd3786"
             ],
             [
              0.5555555555555556,
              "#d8576b"
             ],
             [
              0.6666666666666666,
              "#ed7953"
             ],
             [
              0.7777777777777778,
              "#fb9f3a"
             ],
             [
              0.8888888888888888,
              "#fdca26"
             ],
             [
              1,
              "#f0f921"
             ]
            ],
            "type": "surface"
           }
          ],
          "table": [
           {
            "cells": {
             "fill": {
              "color": "#EBF0F8"
             },
             "line": {
              "color": "white"
             }
            },
            "header": {
             "fill": {
              "color": "#C8D4E3"
             },
             "line": {
              "color": "white"
             }
            },
            "type": "table"
           }
          ]
         },
         "layout": {
          "annotationdefaults": {
           "arrowcolor": "#2a3f5f",
           "arrowhead": 0,
           "arrowwidth": 1
          },
          "coloraxis": {
           "colorbar": {
            "outlinewidth": 0,
            "ticks": ""
           }
          },
          "colorscale": {
           "diverging": [
            [
             0,
             "#8e0152"
            ],
            [
             0.1,
             "#c51b7d"
            ],
            [
             0.2,
             "#de77ae"
            ],
            [
             0.3,
             "#f1b6da"
            ],
            [
             0.4,
             "#fde0ef"
            ],
            [
             0.5,
             "#f7f7f7"
            ],
            [
             0.6,
             "#e6f5d0"
            ],
            [
             0.7,
             "#b8e186"
            ],
            [
             0.8,
             "#7fbc41"
            ],
            [
             0.9,
             "#4d9221"
            ],
            [
             1,
             "#276419"
            ]
           ],
           "sequential": [
            [
             0,
             "#0d0887"
            ],
            [
             0.1111111111111111,
             "#46039f"
            ],
            [
             0.2222222222222222,
             "#7201a8"
            ],
            [
             0.3333333333333333,
             "#9c179e"
            ],
            [
             0.4444444444444444,
             "#bd3786"
            ],
            [
             0.5555555555555556,
             "#d8576b"
            ],
            [
             0.6666666666666666,
             "#ed7953"
            ],
            [
             0.7777777777777778,
             "#fb9f3a"
            ],
            [
             0.8888888888888888,
             "#fdca26"
            ],
            [
             1,
             "#f0f921"
            ]
           ],
           "sequentialminus": [
            [
             0,
             "#0d0887"
            ],
            [
             0.1111111111111111,
             "#46039f"
            ],
            [
             0.2222222222222222,
             "#7201a8"
            ],
            [
             0.3333333333333333,
             "#9c179e"
            ],
            [
             0.4444444444444444,
             "#bd3786"
            ],
            [
             0.5555555555555556,
             "#d8576b"
            ],
            [
             0.6666666666666666,
             "#ed7953"
            ],
            [
             0.7777777777777778,
             "#fb9f3a"
            ],
            [
             0.8888888888888888,
             "#fdca26"
            ],
            [
             1,
             "#f0f921"
            ]
           ]
          },
          "colorway": [
           "#636efa",
           "#EF553B",
           "#00cc96",
           "#ab63fa",
           "#FFA15A",
           "#19d3f3",
           "#FF6692",
           "#B6E880",
           "#FF97FF",
           "#FECB52"
          ],
          "font": {
           "color": "#2a3f5f"
          },
          "geo": {
           "bgcolor": "white",
           "lakecolor": "white",
           "landcolor": "#E5ECF6",
           "showlakes": true,
           "showland": true,
           "subunitcolor": "white"
          },
          "hoverlabel": {
           "align": "left"
          },
          "hovermode": "closest",
          "mapbox": {
           "style": "light"
          },
          "paper_bgcolor": "white",
          "plot_bgcolor": "#E5ECF6",
          "polar": {
           "angularaxis": {
            "gridcolor": "white",
            "linecolor": "white",
            "ticks": ""
           },
           "bgcolor": "#E5ECF6",
           "radialaxis": {
            "gridcolor": "white",
            "linecolor": "white",
            "ticks": ""
           }
          },
          "scene": {
           "xaxis": {
            "backgroundcolor": "#E5ECF6",
            "gridcolor": "white",
            "gridwidth": 2,
            "linecolor": "white",
            "showbackground": true,
            "ticks": "",
            "zerolinecolor": "white"
           },
           "yaxis": {
            "backgroundcolor": "#E5ECF6",
            "gridcolor": "white",
            "gridwidth": 2,
            "linecolor": "white",
            "showbackground": true,
            "ticks": "",
            "zerolinecolor": "white"
           },
           "zaxis": {
            "backgroundcolor": "#E5ECF6",
            "gridcolor": "white",
            "gridwidth": 2,
            "linecolor": "white",
            "showbackground": true,
            "ticks": "",
            "zerolinecolor": "white"
           }
          },
          "shapedefaults": {
           "line": {
            "color": "#2a3f5f"
           }
          },
          "ternary": {
           "aaxis": {
            "gridcolor": "white",
            "linecolor": "white",
            "ticks": ""
           },
           "baxis": {
            "gridcolor": "white",
            "linecolor": "white",
            "ticks": ""
           },
           "bgcolor": "#E5ECF6",
           "caxis": {
            "gridcolor": "white",
            "linecolor": "white",
            "ticks": ""
           }
          },
          "title": {
           "x": 0.05
          },
          "xaxis": {
           "automargin": true,
           "gridcolor": "white",
           "linecolor": "white",
           "ticks": "",
           "title": {
            "standoff": 15
           },
           "zerolinecolor": "white",
           "zerolinewidth": 2
          },
          "yaxis": {
           "automargin": true,
           "gridcolor": "white",
           "linecolor": "white",
           "ticks": "",
           "title": {
            "standoff": 15
           },
           "zerolinecolor": "white",
           "zerolinewidth": 2
          }
         }
        },
        "title": {
         "text": "Model performance"
        },
        "width": 800,
        "xaxis": {
         "anchor": "y",
         "domain": [
          0,
          0.45
         ]
        },
        "xaxis2": {
         "anchor": "y2",
         "domain": [
          0.55,
          1
         ],
         "title": {
          "text": "false positive rate"
         }
        },
        "xaxis3": {
         "anchor": "y3",
         "domain": [
          0,
          1
         ],
         "showgrid": true,
         "tickangle": 90,
         "tickfont": {
          "size": 10
         }
        },
        "yaxis": {
         "anchor": "x",
         "domain": [
          0.625,
          1
         ]
        },
        "yaxis2": {
         "anchor": "x2",
         "domain": [
          0.625,
          1
         ],
         "title": {
          "text": "true positive rate"
         }
        },
        "yaxis3": {
         "anchor": "x3",
         "domain": [
          0,
          0.375
         ]
        }
       }
      },
      "text/html": [
       "<div>\n",
       "        \n",
       "        \n",
       "            <div id=\"c76371cb-6579-4551-89d5-c56de18ea0ed\" class=\"plotly-graph-div\" style=\"height:900px; width:800px;\"></div>\n",
       "            <script type=\"text/javascript\">\n",
       "                require([\"plotly\"], function(Plotly) {\n",
       "                    window.PLOTLYENV=window.PLOTLYENV || {};\n",
       "                    \n",
       "                if (document.getElementById(\"c76371cb-6579-4551-89d5-c56de18ea0ed\")) {\n",
       "                    Plotly.newPlot(\n",
       "                        'c76371cb-6579-4551-89d5-c56de18ea0ed',\n",
       "                        [{\"colorscale\": [[0.0, \"rgb(0,0,255)\"], [0.1, \"rgb(51,153,255)\"], [0.2, \"rgb(102,204,255)\"], [0.3, \"rgb(153,204,255)\"], [0.4, \"rgb(204,204,255)\"], [0.5, \"rgb(255,255,255)\"], [0.6, \"rgb(255,204,255)\"], [0.7, \"rgb(255,153,255)\"], [0.8, \"rgb(255,102,204)\"], [0.9, \"rgb(255,102,102)\"], [1.0, \"rgb(255,0,0)\"]], \"name\": \"matrix\", \"showscale\": false, \"type\": \"heatmap\", \"x\": [\"Not churn\", \"Churn\"], \"xaxis\": \"x\", \"y\": [\"Not churn\", \"Churn\"], \"yaxis\": \"y\", \"z\": [[1090, 178], [259, 231]]}, {\"line\": {\"color\": \"rgb(22, 96, 167)\", \"width\": 2}, \"name\": \"Roc : 0.6655250112663361\", \"type\": \"scatter\", \"x\": [0.0, 0.0, 0.0, 0.0015772870662460567, 0.0015772870662460567, 0.0031545741324921135, 0.0031545741324921135, 0.003943217665615142, 0.003943217665615142, 0.003943217665615142, 0.003943217665615142, 0.00473186119873817, 0.00473186119873817, 0.005520504731861199, 0.005520504731861199, 0.006309148264984227, 0.006309148264984227, 0.007097791798107256, 0.007097791798107256, 0.008675078864353312, 0.008675078864353312, 0.00946372239747634, 0.00946372239747634, 0.01025236593059937, 0.01025236593059937, 0.011041009463722398, 0.011041009463722398, 0.011829652996845425, 0.011829652996845425, 0.013406940063091483, 0.013406940063091483, 0.017350157728706624, 0.017350157728706624, 0.018138801261829655, 0.018138801261829655, 0.01892744479495268, 0.01892744479495268, 0.01971608832807571, 0.01971608832807571, 0.02050473186119874, 0.02050473186119874, 0.021293375394321766, 0.021293375394321766, 0.02444794952681388, 0.02444794952681388, 0.025236593059936908, 0.025236593059936908, 0.026813880126182965, 0.026813880126182965, 0.027602523659305992, 0.027602523659305992, 0.028391167192429023, 0.028391167192429023, 0.02917981072555205, 0.02917981072555205, 0.030757097791798107, 0.030757097791798107, 0.031545741324921134, 0.031545741324921134, 0.03391167192429022, 0.03391167192429022, 0.03470031545741325, 0.03470031545741325, 0.03548895899053628, 0.03548895899053628, 0.03627760252365931, 0.03627760252365931, 0.03785488958990536, 0.03785488958990536, 0.04022082018927445, 0.04022082018927445, 0.04100946372239748, 0.04100946372239748, 0.0417981072555205, 0.0417981072555205, 0.04258675078864353, 0.04258675078864353, 0.04416403785488959, 0.04416403785488959, 0.044952681388012616, 0.044952681388012616, 0.04574132492113565, 0.04574132492113565, 0.04652996845425868, 0.04652996845425868, 0.050473186119873815, 0.050473186119873815, 0.051261829652996846, 0.051261829652996846, 0.05362776025236593, 0.05362776025236593, 0.05441640378548896, 0.05441640378548896, 0.055205047318611984, 0.055205047318611984, 0.055993690851735015, 0.055993690851735015, 0.056782334384858045, 0.056782334384858045, 0.057570977917981075, 0.057570977917981075, 0.0583596214511041, 0.0583596214511041, 0.061514195583596214, 0.061514195583596214, 0.062302839116719244, 0.062302839116719244, 0.0638801261829653, 0.0638801261829653, 0.06466876971608833, 0.06466876971608833, 0.06545741324921135, 0.06545741324921135, 0.06782334384858044, 0.06782334384858044, 0.07018927444794952, 0.07018927444794952, 0.07176656151419558, 0.07176656151419558, 0.07334384858044164, 0.07334384858044164, 0.07413249211356467, 0.07413249211356467, 0.07570977917981073, 0.07570977917981073, 0.07649842271293375, 0.07649842271293375, 0.07807570977917981, 0.07807570977917981, 0.08201892744479496, 0.08201892744479496, 0.083596214511041, 0.083596214511041, 0.08517350157728706, 0.08517350157728706, 0.0859621451104101, 0.0859621451104101, 0.08675078864353312, 0.08675078864353312, 0.08753943217665615, 0.08753943217665615, 0.08990536277602523, 0.08990536277602523, 0.09069400630914827, 0.09069400630914827, 0.0914826498422713, 0.0914826498422713, 0.09542586750788644, 0.09542586750788644, 0.09779179810725552, 0.09779179810725552, 0.09936908517350158, 0.09936908517350158, 0.10252365930599369, 0.10252365930599369, 0.10331230283911672, 0.10331230283911672, 0.10488958990536278, 0.10488958990536278, 0.10646687697160884, 0.10646687697160884, 0.10725552050473186, 0.10725552050473186, 0.10962145110410094, 0.10962145110410094, 0.11041009463722397, 0.11041009463722397, 0.11277602523659307, 0.11277602523659307, 0.11356466876971609, 0.11356466876971609, 0.11593059936908517, 0.11593059936908517, 0.11829652996845426, 0.11829652996845426, 0.12066246056782334, 0.12066246056782334, 0.12145110410094637, 0.12145110410094637, 0.1222397476340694, 0.1222397476340694, 0.12460567823343849, 0.12460567823343849, 0.12618296529968454, 0.12618296529968454, 0.12854889589905363, 0.12854889589905363, 0.12933753943217666, 0.12933753943217666, 0.13249211356466878, 0.13249211356466878, 0.13485804416403785, 0.13485804416403785, 0.13564668769716087, 0.13564668769716087, 0.13643533123028392, 0.13643533123028392, 0.138801261829653, 0.138801261829653, 0.14274447949526814, 0.14274447949526814, 0.1443217665615142, 0.1443217665615142, 0.14511041009463724, 0.14511041009463724, 0.14589905362776026, 0.14589905362776026, 0.14668769716088328, 0.14668769716088328, 0.14826498422712933, 0.14826498422712933, 0.15063091482649843, 0.15063091482649843, 0.1529968454258675, 0.1529968454258675, 0.15378548895899052, 0.15378548895899052, 0.1553627760252366, 0.1553627760252366, 0.15694006309148265, 0.15694006309148265, 0.15851735015772872, 0.16009463722397477, 0.16009463722397477, 0.1640378548895899, 0.1640378548895899, 0.16561514195583596, 0.16561514195583596, 0.16640378548895898, 0.16640378548895898, 0.16876971608832808, 0.16876971608832808, 0.17034700315457413, 0.17034700315457413, 0.17113564668769715, 0.17113564668769715, 0.17271293375394323, 0.17271293375394323, 0.17429022082018927, 0.17429022082018927, 0.17586750788643532, 0.17586750788643532, 0.17665615141955837, 0.17665615141955837, 0.17823343848580442, 0.17823343848580442, 0.17902208201892744, 0.17902208201892744, 0.17981072555205047, 0.1805993690851735, 0.1829652996845426, 0.1829652996845426, 0.18454258675078863, 0.18454258675078863, 0.18533123028391169, 0.18533123028391169, 0.18848580441640378, 0.18848580441640378, 0.1892744479495268, 0.1892744479495268, 0.19085173501577288, 0.19085173501577288, 0.1916403785488959, 0.1916403785488959, 0.19400630914826497, 0.19400630914826497, 0.19479495268138802, 0.19479495268138802, 0.19558359621451105, 0.19558359621451105, 0.19873817034700317, 0.19873817034700317, 0.1995268138801262, 0.1995268138801262, 0.20189274447949526, 0.20189274447949526, 0.20268138801261829, 0.20268138801261829, 0.20347003154574134, 0.20347003154574134, 0.2058359621451104, 0.2058359621451104, 0.2082018927444795, 0.2082018927444795, 0.2113564668769716, 0.2113564668769716, 0.21293375394321767, 0.21293375394321767, 0.21845425867507887, 0.21845425867507887, 0.2200315457413249, 0.2200315457413249, 0.221608832807571, 0.221608832807571, 0.222397476340694, 0.222397476340694, 0.22318611987381703, 0.22318611987381703, 0.22555205047318613, 0.22555205047318613, 0.22712933753943218, 0.22712933753943218, 0.2279179810725552, 0.2279179810725552, 0.2334384858044164, 0.2334384858044164, 0.2358044164037855, 0.2358044164037855, 0.23738170347003154, 0.23738170347003154, 0.23817034700315456, 0.23817034700315456, 0.24290220820189273, 0.24290220820189273, 0.24369085173501578, 0.24369085173501578, 0.2444794952681388, 0.2444794952681388, 0.24526813880126183, 0.24526813880126183, 0.24684542586750788, 0.24684542586750788, 0.250788643533123, 0.250788643533123, 0.25236593059936907, 0.25236593059936907, 0.2539432176656151, 0.2539432176656151, 0.2547318611987382, 0.2547318611987382, 0.2586750788643533, 0.2586750788643533, 0.26025236593059936, 0.26025236593059936, 0.2610410094637224, 0.2610410094637224, 0.26498422712933756, 0.26498422712933756, 0.2665615141955836, 0.2665615141955836, 0.26735015772870663, 0.26735015772870663, 0.26813880126182965, 0.26813880126182965, 0.2689274447949527, 0.2689274447949527, 0.27208201892744477, 0.27208201892744477, 0.27602523659305994, 0.27602523659305994, 0.27996845425867506, 0.27996845425867506, 0.2823343848580442, 0.2823343848580442, 0.2831230283911672, 0.2831230283911672, 0.28785488958990535, 0.28785488958990535, 0.29652996845425866, 0.29652996845425866, 0.2996845425867508, 0.2996845425867508, 0.30126182965299686, 0.30126182965299686, 0.3020504731861199, 0.3020504731861199, 0.305993690851735, 0.305993690851735, 0.30757097791798105, 0.30757097791798105, 0.3194006309148265, 0.3194006309148265, 0.32097791798107256, 0.32097791798107256, 0.3225552050473186, 0.3225552050473186, 0.32413249211356465, 0.32413249211356465, 0.3249211356466877, 0.3249211356466877, 0.32965299684542587, 0.32965299684542587, 0.3312302839116719, 0.3312302839116719, 0.334384858044164, 0.334384858044164, 0.3351735015772871, 0.3351735015772871, 0.33753943217665616, 0.33753943217665616, 0.3383280757097792, 0.3383280757097792, 0.3501577287066246, 0.3501577287066246, 0.35331230283911674, 0.35331230283911674, 0.35646687697160884, 0.35646687697160884, 0.3588328075709779, 0.3588328075709779, 0.36198738170347006, 0.36198738170347006, 0.3635646687697161, 0.3635646687697161, 0.3659305993690852, 0.3659305993690852, 0.36829652996845424, 0.36829652996845424, 0.37302839116719244, 0.37302839116719244, 0.3777602523659306, 0.3777602523659306, 0.3824921135646688, 0.3824921135646688, 0.3840694006309148, 0.3840694006309148, 0.3864353312302839, 0.3864353312302839, 0.388801261829653, 0.388801261829653, 0.38958990536277605, 0.38958990536277605, 0.3943217665615142, 0.3943217665615142, 0.39668769716088326, 0.39668769716088326, 0.3998422712933754, 0.3998422712933754, 0.40536277602523657, 0.40536277602523657, 0.4061514195583596, 0.4061514195583596, 0.4069400630914827, 0.4069400630914827, 0.4235015772870662, 0.4235015772870662, 0.42586750788643535, 0.42586750788643535, 0.42665615141955837, 0.42665615141955837, 0.4274447949526814, 0.4274447949526814, 0.4282334384858044, 0.4282334384858044, 0.43217665615141954, 0.43217665615141954, 0.43454258675078866, 0.43454258675078866, 0.43769716088328076, 0.43769716088328076, 0.444006309148265, 0.444006309148265, 0.444794952681388, 0.444794952681388, 0.44558359621451105, 0.44558359621451105, 0.44637223974763407, 0.44637223974763407, 0.44873817034700314, 0.44873817034700314, 0.4503154574132492, 0.4503154574132492, 0.4518927444794953, 0.4518927444794953, 0.45347003154574134, 0.45347003154574134, 0.45425867507886436, 0.45425867507886436, 0.4558359621451104, 0.4558359621451104, 0.47003154574132494, 0.47003154574132494, 0.47318611987381703, 0.47318611987381703, 0.47870662460567825, 0.47870662460567825, 0.48580441640378547, 0.48580441640378547, 0.49290220820189273, 0.49290220820189273, 0.4960567823343849, 0.4960567823343849, 0.49842271293375395, 0.49842271293375395, 0.5023659305993691, 0.5023659305993691, 0.5063091482649842, 0.5063091482649842, 0.5126182965299685, 0.5126182965299685, 0.5134069400630915, 0.5134069400630915, 0.5165615141955836, 0.5165615141955836, 0.5205047318611987, 0.5205047318611987, 0.5331230283911672, 0.5331230283911672, 0.5528391167192429, 0.5528391167192429, 0.554416403785489, 0.554416403785489, 0.5662460567823344, 0.5662460567823344, 0.5717665615141956, 0.5717665615141956, 0.5741324921135647, 0.5741324921135647, 0.5757097791798107, 0.5757097791798107, 0.5891167192429022, 0.5906940063091483, 0.5954258675078864, 0.5954258675078864, 0.6041009463722398, 0.6041009463722398, 0.6072555205047319, 0.6072555205047319, 0.6088328075709779, 0.6088328075709779, 0.612776025236593, 0.612776025236593, 0.6151419558359621, 0.6151419558359621, 0.6238170347003155, 0.6238170347003155, 0.6246056782334385, 0.6246056782334385, 0.6348580441640379, 0.6348580441640379, 0.63801261829653, 0.63801261829653, 0.6482649842271293, 0.6482649842271293, 0.6529968454258676, 0.6529968454258676, 0.6648264984227129, 0.6648264984227129, 0.6758675078864353, 0.6758675078864353, 0.6892744479495269, 0.6892744479495269, 0.7011041009463722, 0.7011041009463722, 0.7089905362776026, 0.7089905362776026, 0.7342271293375394, 0.7342271293375394, 0.7570977917981072, 0.7570977917981072, 0.7941640378548895, 0.7941640378548895, 0.8138801261829653, 0.8138801261829653, 0.8422712933753943, 0.8422712933753943, 0.8698738170347003, 0.8698738170347003, 0.8738170347003155, 0.8738170347003155, 0.8832807570977917, 0.8832807570977917, 0.8848580441640379, 0.8848580441640379, 0.9069400630914827, 0.9069400630914827, 0.9353312302839116, 0.9353312302839116, 1.0], \"xaxis\": \"x2\", \"y\": [0.0, 0.0020408163265306124, 0.006122448979591836, 0.006122448979591836, 0.01020408163265306, 0.01020408163265306, 0.0163265306122449, 0.0163265306122449, 0.024489795918367346, 0.02857142857142857, 0.03877551020408163, 0.03877551020408163, 0.04081632653061224, 0.04081632653061224, 0.05714285714285714, 0.05714285714285714, 0.05918367346938776, 0.05918367346938776, 0.07142857142857142, 0.07142857142857142, 0.07551020408163266, 0.07551020408163266, 0.07755102040816327, 0.07755102040816327, 0.08571428571428572, 0.08571428571428572, 0.09183673469387756, 0.09183673469387756, 0.09387755102040816, 0.09387755102040816, 0.09591836734693877, 0.09591836734693877, 0.09795918367346938, 0.09795918367346938, 0.10408163265306122, 0.10408163265306122, 0.11632653061224489, 0.11632653061224489, 0.11836734693877551, 0.11836734693877551, 0.1326530612244898, 0.1326530612244898, 0.1346938775510204, 0.1346938775510204, 0.13877551020408163, 0.13877551020408163, 0.1489795918367347, 0.1489795918367347, 0.1510204081632653, 0.1510204081632653, 0.16938775510204082, 0.17142857142857143, 0.17346938775510204, 0.17346938775510204, 0.17959183673469387, 0.17959183673469387, 0.1816326530612245, 0.1816326530612245, 0.1836734693877551, 0.1836734693877551, 0.19183673469387755, 0.19183673469387755, 0.20408163265306123, 0.20408163265306123, 0.20612244897959184, 0.20612244897959184, 0.21224489795918366, 0.21224489795918366, 0.21428571428571427, 0.21428571428571427, 0.21836734693877552, 0.21836734693877552, 0.22448979591836735, 0.22448979591836735, 0.22857142857142856, 0.22857142857142856, 0.23469387755102042, 0.23469387755102042, 0.23877551020408164, 0.23877551020408164, 0.24081632653061225, 0.24081632653061225, 0.24897959183673468, 0.24897959183673468, 0.2510204081632653, 0.2510204081632653, 0.25918367346938775, 0.25918367346938775, 0.26326530612244897, 0.26326530612244897, 0.2857142857142857, 0.2857142857142857, 0.28775510204081634, 0.28775510204081634, 0.2897959183673469, 0.2897959183673469, 0.29591836734693877, 0.29591836734693877, 0.2979591836734694, 0.2979591836734694, 0.3040816326530612, 0.3040816326530612, 0.31020408163265306, 0.31020408163265306, 0.3122448979591837, 0.3122448979591837, 0.3142857142857143, 0.3142857142857143, 0.32040816326530613, 0.32040816326530613, 0.32653061224489793, 0.32653061224489793, 0.3306122448979592, 0.3306122448979592, 0.3326530612244898, 0.3326530612244898, 0.3346938775510204, 0.3346938775510204, 0.336734693877551, 0.336734693877551, 0.33877551020408164, 0.33877551020408164, 0.3408163265306122, 0.3408163265306122, 0.3469387755102041, 0.3469387755102041, 0.35306122448979593, 0.35306122448979593, 0.3551020408163265, 0.3551020408163265, 0.35918367346938773, 0.35918367346938773, 0.36122448979591837, 0.36122448979591837, 0.363265306122449, 0.363265306122449, 0.3653061224489796, 0.3653061224489796, 0.3693877551020408, 0.3693877551020408, 0.37142857142857144, 0.37142857142857144, 0.373469387755102, 0.373469387755102, 0.37551020408163266, 0.37551020408163266, 0.3816326530612245, 0.3816326530612245, 0.38571428571428573, 0.38571428571428573, 0.3877551020408163, 0.3877551020408163, 0.38979591836734695, 0.38979591836734695, 0.39183673469387753, 0.39183673469387753, 0.39387755102040817, 0.39387755102040817, 0.3979591836734694, 0.3979591836734694, 0.4, 0.4, 0.4020408163265306, 0.4020408163265306, 0.41020408163265304, 0.41020408163265304, 0.4122448979591837, 0.4122448979591837, 0.41836734693877553, 0.41836734693877553, 0.4204081632653061, 0.4204081632653061, 0.42244897959183675, 0.42244897959183675, 0.42448979591836733, 0.42448979591836733, 0.42653061224489797, 0.42653061224489797, 0.42857142857142855, 0.42857142857142855, 0.4326530612244898, 0.4326530612244898, 0.43673469387755104, 0.43673469387755104, 0.4387755102040816, 0.4387755102040816, 0.4448979591836735, 0.4448979591836735, 0.45102040816326533, 0.45102040816326533, 0.4530612244897959, 0.4530612244897959, 0.45510204081632655, 0.45510204081632655, 0.45714285714285713, 0.45714285714285713, 0.45918367346938777, 0.45918367346938777, 0.4714285714285714, 0.4714285714285714, 0.47346938775510206, 0.47346938775510206, 0.4816326530612245, 0.4816326530612245, 0.48367346938775513, 0.48367346938775513, 0.4857142857142857, 0.4857142857142857, 0.5020408163265306, 0.5020408163265306, 0.5040816326530613, 0.5040816326530613, 0.5061224489795918, 0.5061224489795918, 0.5102040816326531, 0.5102040816326531, 0.5122448979591837, 0.5122448979591837, 0.5224489795918368, 0.5224489795918368, 0.5244897959183673, 0.5244897959183673, 0.5244897959183673, 0.5265306122448979, 0.5265306122448979, 0.5306122448979592, 0.5306122448979592, 0.536734693877551, 0.536734693877551, 0.5387755102040817, 0.5387755102040817, 0.5408163265306123, 0.5408163265306123, 0.5428571428571428, 0.5428571428571428, 0.5469387755102041, 0.5469387755102041, 0.5530612244897959, 0.5530612244897959, 0.5551020408163265, 0.5551020408163265, 0.5653061224489796, 0.5653061224489796, 0.5673469387755102, 0.5673469387755102, 0.5714285714285714, 0.5714285714285714, 0.573469387755102, 0.573469387755102, 0.5755102040816327, 0.5755102040816327, 0.5775510204081633, 0.5775510204081633, 0.5795918367346938, 0.5795918367346938, 0.5836734693877551, 0.5836734693877551, 0.5897959183673469, 0.5897959183673469, 0.5918367346938775, 0.5918367346938775, 0.5938775510204082, 0.5938775510204082, 0.5959183673469388, 0.5959183673469388, 0.5979591836734693, 0.5979591836734693, 0.6020408163265306, 0.6020408163265306, 0.6040816326530613, 0.6040816326530613, 0.6061224489795919, 0.6061224489795919, 0.6122448979591837, 0.6122448979591837, 0.6163265306122448, 0.6163265306122448, 0.6183673469387755, 0.6183673469387755, 0.6204081632653061, 0.6204081632653061, 0.6224489795918368, 0.6224489795918368, 0.6244897959183674, 0.6244897959183674, 0.6285714285714286, 0.6285714285714286, 0.6306122448979592, 0.6306122448979592, 0.6326530612244898, 0.6326530612244898, 0.6346938775510204, 0.6346938775510204, 0.636734693877551, 0.636734693877551, 0.6387755102040816, 0.6387755102040816, 0.6428571428571429, 0.6428571428571429, 0.6489795918367347, 0.6489795918367347, 0.6530612244897959, 0.6530612244897959, 0.6551020408163265, 0.6551020408163265, 0.6571428571428571, 0.6571428571428571, 0.6632653061224489, 0.6632653061224489, 0.6673469387755102, 0.6673469387755102, 0.6693877551020408, 0.6693877551020408, 0.6755102040816326, 0.6755102040816326, 0.6775510204081633, 0.6775510204081633, 0.6795918367346939, 0.6795918367346939, 0.6836734693877551, 0.6836734693877551, 0.6857142857142857, 0.6857142857142857, 0.6877551020408164, 0.6877551020408164, 0.689795918367347, 0.689795918367347, 0.6918367346938775, 0.6918367346938775, 0.6938775510204082, 0.6938775510204082, 0.6979591836734694, 0.6979591836734694, 0.7020408163265306, 0.7020408163265306, 0.7040816326530612, 0.7040816326530612, 0.7061224489795919, 0.7061224489795919, 0.7081632653061225, 0.7081632653061225, 0.710204081632653, 0.710204081632653, 0.7122448979591837, 0.7122448979591837, 0.7163265306122449, 0.7163265306122449, 0.7204081632653061, 0.7204081632653061, 0.7244897959183674, 0.7244897959183674, 0.7326530612244898, 0.7326530612244898, 0.7346938775510204, 0.7346938775510204, 0.736734693877551, 0.736734693877551, 0.7408163265306122, 0.7408163265306122, 0.7428571428571429, 0.7428571428571429, 0.7448979591836735, 0.7448979591836735, 0.746938775510204, 0.746938775510204, 0.7510204081632653, 0.7510204081632653, 0.7591836734693878, 0.7591836734693878, 0.7653061224489796, 0.7653061224489796, 0.7673469387755102, 0.7673469387755102, 0.7693877551020408, 0.7693877551020408, 0.773469387755102, 0.773469387755102, 0.7775510204081633, 0.7775510204081633, 0.7795918367346939, 0.7795918367346939, 0.7816326530612245, 0.7816326530612245, 0.7836734693877551, 0.7836734693877551, 0.7857142857142857, 0.7857142857142857, 0.789795918367347, 0.789795918367347, 0.7918367346938775, 0.7918367346938775, 0.7938775510204081, 0.7938775510204081, 0.7959183673469388, 0.7959183673469388, 0.7979591836734694, 0.7979591836734694, 0.8, 0.8, 0.8020408163265306, 0.8020408163265306, 0.8040816326530612, 0.8040816326530612, 0.8081632653061225, 0.8081632653061225, 0.810204081632653, 0.810204081632653, 0.8142857142857143, 0.8142857142857143, 0.8163265306122449, 0.8163265306122449, 0.8183673469387756, 0.8183673469387756, 0.8204081632653061, 0.8204081632653061, 0.8224489795918367, 0.8224489795918367, 0.8244897959183674, 0.8244897959183674, 0.826530612244898, 0.826530612244898, 0.8346938775510204, 0.8346938775510204, 0.8367346938775511, 0.8367346938775511, 0.8428571428571429, 0.8428571428571429, 0.8469387755102041, 0.8469387755102041, 0.8489795918367347, 0.8489795918367347, 0.8510204081632653, 0.8510204081632653, 0.8530612244897959, 0.8530612244897959, 0.8551020408163266, 0.8551020408163266, 0.8571428571428571, 0.8571428571428571, 0.8591836734693877, 0.8591836734693877, 0.8612244897959184, 0.8612244897959184, 0.863265306122449, 0.863265306122449, 0.8653061224489796, 0.8653061224489796, 0.8693877551020408, 0.8693877551020408, 0.8714285714285714, 0.8714285714285714, 0.8734693877551021, 0.8734693877551021, 0.8755102040816326, 0.8755102040816326, 0.8775510204081632, 0.8775510204081632, 0.8795918367346939, 0.8795918367346939, 0.8816326530612245, 0.8816326530612245, 0.8857142857142857, 0.8857142857142857, 0.8877551020408163, 0.8877551020408163, 0.889795918367347, 0.889795918367347, 0.8918367346938776, 0.8918367346938776, 0.8938775510204081, 0.8938775510204081, 0.8959183673469387, 0.8959183673469387, 0.9, 0.9, 0.9020408163265307, 0.9020408163265307, 0.9040816326530612, 0.9040816326530612, 0.9081632653061225, 0.9081632653061225, 0.9102040816326531, 0.9102040816326531, 0.9122448979591836, 0.9122448979591836, 0.9142857142857143, 0.9142857142857143, 0.9163265306122449, 0.9163265306122449, 0.9183673469387755, 0.9183673469387755, 0.9204081632653062, 0.9204081632653062, 0.9224489795918367, 0.9224489795918367, 0.9244897959183673, 0.9244897959183673, 0.926530612244898, 0.926530612244898, 0.9285714285714286, 0.9285714285714286, 0.9306122448979591, 0.9306122448979591, 0.9346938775510204, 0.9346938775510204, 0.936734693877551, 0.936734693877551, 0.9387755102040817, 0.9387755102040817, 0.9408163265306122, 0.9408163265306122, 0.9408163265306122, 0.9408163265306122, 0.9428571428571428, 0.9428571428571428, 0.9448979591836735, 0.9448979591836735, 0.9469387755102041, 0.9469387755102041, 0.9489795918367347, 0.9489795918367347, 0.9510204081632653, 0.9510204081632653, 0.9530612244897959, 0.9530612244897959, 0.9551020408163265, 0.9551020408163265, 0.9571428571428572, 0.9571428571428572, 0.9591836734693877, 0.9591836734693877, 0.963265306122449, 0.963265306122449, 0.9653061224489796, 0.9653061224489796, 0.9673469387755103, 0.9673469387755103, 0.9693877551020408, 0.9693877551020408, 0.9714285714285714, 0.9714285714285714, 0.9734693877551021, 0.9734693877551021, 0.9755102040816327, 0.9755102040816327, 0.9775510204081632, 0.9775510204081632, 0.9795918367346939, 0.9795918367346939, 0.9816326530612245, 0.9816326530612245, 0.9836734693877551, 0.9836734693877551, 0.9857142857142858, 0.9857142857142858, 0.9877551020408163, 0.9877551020408163, 0.9897959183673469, 0.9897959183673469, 0.9918367346938776, 0.9918367346938776, 0.9938775510204082, 0.9938775510204082, 0.9959183673469387, 0.9959183673469387, 0.9979591836734694, 0.9979591836734694, 1.0, 1.0], \"yaxis\": \"y2\"}, {\"line\": {\"color\": \"rgb(205, 12, 24)\", \"dash\": \"dot\", \"width\": 2}, \"type\": \"scatter\", \"x\": [0, 1], \"xaxis\": \"x2\", \"y\": [0, 1], \"yaxis\": \"y2\"}, {\"marker\": {\"color\": [0.40381771326065063, 0.28717586398124695, 0.019390283152461052, 0.018444739282131195, 0.01538677979260683, 0.014990396797657013, 0.014325669966638088, 0.013916175812482834, 0.012448116205632687, 0.01242363452911377, 0.012042813934385777, 0.012016979977488518, 0.011734840460121632, 0.011441107839345932, 0.01139832753688097, 0.009455341845750809, 0.009003291837871075, 0.008989614434540272, 0.00892818532884121, 0.008804365992546082, 0.00837039016187191, 0.008362136781215668, 0.008307449519634247, 0.008072943426668644, 0.00748491520062089, 0.007470999378710985, 0.006756791844964027, 0.006560647860169411, 0.006558740511536598, 0.006327662151306868, 0.0055321562103927135, 0.00406095152720809, 0.0], \"colorscale\": [[0.0, \"rgb(0,0,255)\"], [0.1, \"rgb(51,153,255)\"], [0.2, \"rgb(102,204,255)\"], [0.3, \"rgb(153,204,255)\"], [0.4, \"rgb(204,204,255)\"], [0.5, \"rgb(255,255,255)\"], [0.6, \"rgb(255,204,255)\"], [0.7, \"rgb(255,153,255)\"], [0.8, \"rgb(255,102,204)\"], [0.9, \"rgb(255,102,102)\"], [1.0, \"rgb(255,0,0)\"]], \"line\": {\"color\": \"black\", \"width\": 0.6}}, \"name\": \"coefficients\", \"type\": \"bar\", \"x\": [\"internetservice_fiber_optic\", \"contract_month_to_month\", \"internetservice_dsl\", \"tenure_group_tenure_0_12\", \"phoneservice\", \"contract_one_year\", \"tenure\", \"tenure_group_tenure_48_60\", \"internetservice_no\", \"seniorcitizen\", \"onlinesecurity\", \"techsupport\", \"streamingmovies\", \"multiplelines_no\", \"contract_two_year\", \"paymentmethod_electronic_check\", \"onlinebackup\", \"totalcharges\", \"paymentmethod_bank_transfer_automatic\", \"tenure_group_tenure_24_48\", \"monthlycharges\", \"paperlessbilling\", \"streamingtv\", \"multiplelines_yes\", \"paymentmethod_mailed_check\", \"gender\", \"dependents\", \"partner\", \"tenure_group_tenure_12_24\", \"deviceprotection\", \"paymentmethod_credit_card_automatic\", \"tenure_group_tenure_gt_60\", \"multiplelines_no_phone_service\"], \"xaxis\": \"x3\", \"y\": [0.40381771326065063, 0.28717586398124695, 0.019390283152461052, 0.018444739282131195, 0.01538677979260683, 0.014990396797657013, 0.014325669966638088, 0.013916175812482834, 0.012448116205632687, 0.01242363452911377, 0.012042813934385777, 0.012016979977488518, 0.011734840460121632, 0.011441107839345932, 0.01139832753688097, 0.009455341845750809, 0.009003291837871075, 0.008989614434540272, 0.00892818532884121, 0.008804365992546082, 0.00837039016187191, 0.008362136781215668, 0.008307449519634247, 0.008072943426668644, 0.00748491520062089, 0.007470999378710985, 0.006756791844964027, 0.006560647860169411, 0.006558740511536598, 0.006327662151306868, 0.0055321562103927135, 0.00406095152720809, 0.0], \"yaxis\": \"y3\"}],\n",
       "                        {\"annotations\": [{\"font\": {\"size\": 16}, \"showarrow\": false, \"text\": \"Confusion Matrix\", \"x\": 0.225, \"xanchor\": \"center\", \"xref\": \"paper\", \"y\": 1.0, \"yanchor\": \"bottom\", \"yref\": \"paper\"}, {\"font\": {\"size\": 16}, \"showarrow\": false, \"text\": \"Receiver operating characteristic\", \"x\": 0.775, \"xanchor\": \"center\", \"xref\": \"paper\", \"y\": 1.0, \"yanchor\": \"bottom\", \"yref\": \"paper\"}, {\"font\": {\"size\": 16}, \"showarrow\": false, \"text\": \"Feature Importances\", \"x\": 0.5, \"xanchor\": \"center\", \"xref\": \"paper\", \"y\": 0.375, \"yanchor\": \"bottom\", \"yref\": \"paper\"}], \"autosize\": false, \"height\": 900, \"margin\": {\"b\": 195}, \"paper_bgcolor\": \"rgba(240,240,240, 0.95)\", \"plot_bgcolor\": \"rgba(240,240,240, 0.95)\", \"showlegend\": false, \"template\": {\"data\": {\"bar\": [{\"error_x\": {\"color\": \"#2a3f5f\"}, \"error_y\": {\"color\": \"#2a3f5f\"}, \"marker\": {\"line\": {\"color\": \"#E5ECF6\", \"width\": 0.5}}, \"type\": \"bar\"}], \"barpolar\": [{\"marker\": {\"line\": {\"color\": \"#E5ECF6\", \"width\": 0.5}}, \"type\": \"barpolar\"}], \"carpet\": [{\"aaxis\": {\"endlinecolor\": \"#2a3f5f\", \"gridcolor\": \"white\", \"linecolor\": \"white\", \"minorgridcolor\": \"white\", \"startlinecolor\": \"#2a3f5f\"}, \"baxis\": {\"endlinecolor\": \"#2a3f5f\", \"gridcolor\": \"white\", \"linecolor\": \"white\", \"minorgridcolor\": \"white\", \"startlinecolor\": \"#2a3f5f\"}, \"type\": \"carpet\"}], \"choropleth\": [{\"colorbar\": {\"outlinewidth\": 0, \"ticks\": \"\"}, \"type\": \"choropleth\"}], \"contour\": [{\"colorbar\": {\"outlinewidth\": 0, \"ticks\": \"\"}, \"colorscale\": [[0.0, \"#0d0887\"], [0.1111111111111111, \"#46039f\"], [0.2222222222222222, \"#7201a8\"], [0.3333333333333333, \"#9c179e\"], [0.4444444444444444, \"#bd3786\"], [0.5555555555555556, \"#d8576b\"], [0.6666666666666666, \"#ed7953\"], [0.7777777777777778, \"#fb9f3a\"], [0.8888888888888888, \"#fdca26\"], [1.0, \"#f0f921\"]], \"type\": \"contour\"}], \"contourcarpet\": [{\"colorbar\": {\"outlinewidth\": 0, \"ticks\": \"\"}, \"type\": \"contourcarpet\"}], \"heatmap\": [{\"colorbar\": {\"outlinewidth\": 0, \"ticks\": \"\"}, \"colorscale\": [[0.0, \"#0d0887\"], [0.1111111111111111, \"#46039f\"], [0.2222222222222222, \"#7201a8\"], [0.3333333333333333, \"#9c179e\"], [0.4444444444444444, \"#bd3786\"], [0.5555555555555556, \"#d8576b\"], [0.6666666666666666, \"#ed7953\"], [0.7777777777777778, \"#fb9f3a\"], [0.8888888888888888, \"#fdca26\"], [1.0, \"#f0f921\"]], \"type\": \"heatmap\"}], \"heatmapgl\": [{\"colorbar\": {\"outlinewidth\": 0, \"ticks\": \"\"}, \"colorscale\": [[0.0, \"#0d0887\"], [0.1111111111111111, \"#46039f\"], [0.2222222222222222, \"#7201a8\"], [0.3333333333333333, \"#9c179e\"], [0.4444444444444444, \"#bd3786\"], [0.5555555555555556, \"#d8576b\"], [0.6666666666666666, \"#ed7953\"], [0.7777777777777778, \"#fb9f3a\"], [0.8888888888888888, \"#fdca26\"], [1.0, \"#f0f921\"]], \"type\": \"heatmapgl\"}], \"histogram\": [{\"marker\": {\"colorbar\": {\"outlinewidth\": 0, \"ticks\": \"\"}}, \"type\": \"histogram\"}], \"histogram2d\": [{\"colorbar\": {\"outlinewidth\": 0, \"ticks\": \"\"}, \"colorscale\": [[0.0, \"#0d0887\"], [0.1111111111111111, \"#46039f\"], [0.2222222222222222, \"#7201a8\"], [0.3333333333333333, \"#9c179e\"], [0.4444444444444444, \"#bd3786\"], [0.5555555555555556, \"#d8576b\"], [0.6666666666666666, \"#ed7953\"], [0.7777777777777778, \"#fb9f3a\"], [0.8888888888888888, \"#fdca26\"], [1.0, \"#f0f921\"]], \"type\": \"histogram2d\"}], \"histogram2dcontour\": [{\"colorbar\": {\"outlinewidth\": 0, \"ticks\": \"\"}, \"colorscale\": [[0.0, \"#0d0887\"], [0.1111111111111111, \"#46039f\"], [0.2222222222222222, \"#7201a8\"], [0.3333333333333333, \"#9c179e\"], [0.4444444444444444, \"#bd3786\"], [0.5555555555555556, \"#d8576b\"], [0.6666666666666666, \"#ed7953\"], [0.7777777777777778, \"#fb9f3a\"], [0.8888888888888888, \"#fdca26\"], [1.0, \"#f0f921\"]], \"type\": \"histogram2dcontour\"}], \"mesh3d\": [{\"colorbar\": {\"outlinewidth\": 0, \"ticks\": \"\"}, \"type\": \"mesh3d\"}], \"parcoords\": [{\"line\": {\"colorbar\": {\"outlinewidth\": 0, \"ticks\": \"\"}}, \"type\": \"parcoords\"}], \"pie\": [{\"automargin\": true, \"type\": \"pie\"}], \"scatter\": [{\"marker\": {\"colorbar\": {\"outlinewidth\": 0, \"ticks\": \"\"}}, \"type\": \"scatter\"}], \"scatter3d\": [{\"line\": {\"colorbar\": {\"outlinewidth\": 0, \"ticks\": \"\"}}, \"marker\": {\"colorbar\": {\"outlinewidth\": 0, \"ticks\": \"\"}}, \"type\": \"scatter3d\"}], \"scattercarpet\": [{\"marker\": {\"colorbar\": {\"outlinewidth\": 0, \"ticks\": \"\"}}, \"type\": \"scattercarpet\"}], \"scattergeo\": [{\"marker\": {\"colorbar\": {\"outlinewidth\": 0, \"ticks\": \"\"}}, \"type\": \"scattergeo\"}], \"scattergl\": [{\"marker\": {\"colorbar\": {\"outlinewidth\": 0, \"ticks\": \"\"}}, \"type\": \"scattergl\"}], \"scattermapbox\": [{\"marker\": {\"colorbar\": {\"outlinewidth\": 0, \"ticks\": \"\"}}, \"type\": \"scattermapbox\"}], \"scatterpolar\": [{\"marker\": {\"colorbar\": {\"outlinewidth\": 0, \"ticks\": \"\"}}, \"type\": \"scatterpolar\"}], \"scatterpolargl\": [{\"marker\": {\"colorbar\": {\"outlinewidth\": 0, \"ticks\": \"\"}}, \"type\": \"scatterpolargl\"}], \"scatterternary\": [{\"marker\": {\"colorbar\": {\"outlinewidth\": 0, \"ticks\": \"\"}}, \"type\": \"scatterternary\"}], \"surface\": [{\"colorbar\": {\"outlinewidth\": 0, \"ticks\": \"\"}, \"colorscale\": [[0.0, \"#0d0887\"], [0.1111111111111111, \"#46039f\"], [0.2222222222222222, \"#7201a8\"], [0.3333333333333333, \"#9c179e\"], [0.4444444444444444, \"#bd3786\"], [0.5555555555555556, \"#d8576b\"], [0.6666666666666666, \"#ed7953\"], [0.7777777777777778, \"#fb9f3a\"], [0.8888888888888888, \"#fdca26\"], [1.0, \"#f0f921\"]], \"type\": \"surface\"}], \"table\": [{\"cells\": {\"fill\": {\"color\": \"#EBF0F8\"}, \"line\": {\"color\": \"white\"}}, \"header\": {\"fill\": {\"color\": \"#C8D4E3\"}, \"line\": {\"color\": \"white\"}}, \"type\": \"table\"}]}, \"layout\": {\"annotationdefaults\": {\"arrowcolor\": \"#2a3f5f\", \"arrowhead\": 0, \"arrowwidth\": 1}, \"coloraxis\": {\"colorbar\": {\"outlinewidth\": 0, \"ticks\": \"\"}}, \"colorscale\": {\"diverging\": [[0, \"#8e0152\"], [0.1, \"#c51b7d\"], [0.2, \"#de77ae\"], [0.3, \"#f1b6da\"], [0.4, \"#fde0ef\"], [0.5, \"#f7f7f7\"], [0.6, \"#e6f5d0\"], [0.7, \"#b8e186\"], [0.8, \"#7fbc41\"], [0.9, \"#4d9221\"], [1, \"#276419\"]], \"sequential\": [[0.0, \"#0d0887\"], [0.1111111111111111, \"#46039f\"], [0.2222222222222222, \"#7201a8\"], [0.3333333333333333, \"#9c179e\"], [0.4444444444444444, \"#bd3786\"], [0.5555555555555556, \"#d8576b\"], [0.6666666666666666, \"#ed7953\"], [0.7777777777777778, \"#fb9f3a\"], [0.8888888888888888, \"#fdca26\"], [1.0, \"#f0f921\"]], \"sequentialminus\": [[0.0, \"#0d0887\"], [0.1111111111111111, \"#46039f\"], [0.2222222222222222, \"#7201a8\"], [0.3333333333333333, \"#9c179e\"], [0.4444444444444444, \"#bd3786\"], [0.5555555555555556, \"#d8576b\"], [0.6666666666666666, \"#ed7953\"], [0.7777777777777778, \"#fb9f3a\"], [0.8888888888888888, \"#fdca26\"], [1.0, \"#f0f921\"]]}, \"colorway\": [\"#636efa\", \"#EF553B\", \"#00cc96\", \"#ab63fa\", \"#FFA15A\", \"#19d3f3\", \"#FF6692\", \"#B6E880\", \"#FF97FF\", \"#FECB52\"], \"font\": {\"color\": \"#2a3f5f\"}, \"geo\": {\"bgcolor\": \"white\", \"lakecolor\": \"white\", \"landcolor\": \"#E5ECF6\", \"showlakes\": true, \"showland\": true, \"subunitcolor\": \"white\"}, \"hoverlabel\": {\"align\": \"left\"}, \"hovermode\": \"closest\", \"mapbox\": {\"style\": \"light\"}, \"paper_bgcolor\": \"white\", \"plot_bgcolor\": \"#E5ECF6\", \"polar\": {\"angularaxis\": {\"gridcolor\": \"white\", \"linecolor\": \"white\", \"ticks\": \"\"}, \"bgcolor\": \"#E5ECF6\", \"radialaxis\": {\"gridcolor\": \"white\", \"linecolor\": \"white\", \"ticks\": \"\"}}, \"scene\": {\"xaxis\": {\"backgroundcolor\": \"#E5ECF6\", \"gridcolor\": \"white\", \"gridwidth\": 2, \"linecolor\": \"white\", \"showbackground\": true, \"ticks\": \"\", \"zerolinecolor\": \"white\"}, \"yaxis\": {\"backgroundcolor\": \"#E5ECF6\", \"gridcolor\": \"white\", \"gridwidth\": 2, \"linecolor\": \"white\", \"showbackground\": true, \"ticks\": \"\", \"zerolinecolor\": \"white\"}, \"zaxis\": {\"backgroundcolor\": \"#E5ECF6\", \"gridcolor\": \"white\", \"gridwidth\": 2, \"linecolor\": \"white\", \"showbackground\": true, \"ticks\": \"\", \"zerolinecolor\": \"white\"}}, \"shapedefaults\": {\"line\": {\"color\": \"#2a3f5f\"}}, \"ternary\": {\"aaxis\": {\"gridcolor\": \"white\", \"linecolor\": \"white\", \"ticks\": \"\"}, \"baxis\": {\"gridcolor\": \"white\", \"linecolor\": \"white\", \"ticks\": \"\"}, \"bgcolor\": \"#E5ECF6\", \"caxis\": {\"gridcolor\": \"white\", \"linecolor\": \"white\", \"ticks\": \"\"}}, \"title\": {\"x\": 0.05}, \"xaxis\": {\"automargin\": true, \"gridcolor\": \"white\", \"linecolor\": \"white\", \"ticks\": \"\", \"title\": {\"standoff\": 15}, \"zerolinecolor\": \"white\", \"zerolinewidth\": 2}, \"yaxis\": {\"automargin\": true, \"gridcolor\": \"white\", \"linecolor\": \"white\", \"ticks\": \"\", \"title\": {\"standoff\": 15}, \"zerolinecolor\": \"white\", \"zerolinewidth\": 2}}}, \"title\": {\"text\": \"Model performance\"}, \"width\": 800, \"xaxis\": {\"anchor\": \"y\", \"domain\": [0.0, 0.45]}, \"xaxis2\": {\"anchor\": \"y2\", \"domain\": [0.55, 1.0], \"title\": {\"text\": \"false positive rate\"}}, \"xaxis3\": {\"anchor\": \"y3\", \"domain\": [0.0, 1.0], \"showgrid\": true, \"tickangle\": 90, \"tickfont\": {\"size\": 10}}, \"yaxis\": {\"anchor\": \"x\", \"domain\": [0.625, 1.0]}, \"yaxis2\": {\"anchor\": \"x2\", \"domain\": [0.625, 1.0], \"title\": {\"text\": \"true positive rate\"}}, \"yaxis3\": {\"anchor\": \"x3\", \"domain\": [0.0, 0.375]}},\n",
       "                        {\"responsive\": true}\n",
       "                    ).then(function(){\n",
       "                            \n",
       "var gd = document.getElementById('c76371cb-6579-4551-89d5-c56de18ea0ed');\n",
       "var x = new MutationObserver(function (mutations, observer) {{\n",
       "        var display = window.getComputedStyle(gd).display;\n",
       "        if (!display || display === 'none') {{\n",
       "            console.log([gd, 'removed!']);\n",
       "            Plotly.purge(gd);\n",
       "            observer.disconnect();\n",
       "        }}\n",
       "}});\n",
       "\n",
       "// Listen for the removal of the full notebook cells\n",
       "var notebookContainer = gd.closest('#notebook-container');\n",
       "if (notebookContainer) {{\n",
       "    x.observe(notebookContainer, {childList: true});\n",
       "}}\n",
       "\n",
       "// Listen for the clearing of the current output cell\n",
       "var outputEl = gd.closest('.output');\n",
       "if (outputEl) {{\n",
       "    x.observe(outputEl, {childList: true});\n",
       "}}\n",
       "\n",
       "                        })\n",
       "                };\n",
       "                });\n",
       "            </script>\n",
       "        </div>"
      ]
     },
     "metadata": {},
     "output_type": "display_data"
    }
   ],
   "source": [
    "coefficients = pd.DataFrame(model.feature_importances_)\n",
    "column_df = pd.DataFrame(cols)\n",
    "coef_sumry = (pd.merge(coefficients, column_df, left_index=True,\n",
    "                       right_index=True, how=\"left\"))\n",
    "coef_sumry.columns = [\"coefficients\", \"features\"]\n",
    "coef_sumry = coef_sumry.sort_values(by=\"coefficients\", ascending=False)\n",
    "\n",
    "print(model)\n",
    "print(\"\\n Classification report : \\n\", classification_report(testing_y, predictions))\n",
    "print(\"Accuracy   Score : \", accuracy_score(testing_y, predictions))\n",
    "# confusion matrix\n",
    "conf_matrix = confusion_matrix(testing_y, predictions)\n",
    "# roc_auc_score\n",
    "model_roc_auc = roc_auc_score(testing_y, predictions)\n",
    "print(\"Area under curve : \", model_roc_auc, \"\\n\")\n",
    "fpr, tpr, thresholds = roc_curve(testing_y, probabilities[:, 1])\n",
    "\n",
    "# plot confusion matrix\n",
    "trace1 = go.Heatmap(z=conf_matrix,\n",
    "                    x=[\"Not churn\", \"Churn\"],\n",
    "                    y=[\"Not churn\", \"Churn\"],\n",
    "                    showscale=False, colorscale=\"Picnic\",\n",
    "                    name=\"matrix\")\n",
    "\n",
    "# plot roc curve\n",
    "trace2 = go.Scatter(x=fpr, y=tpr,\n",
    "                    name=\"Roc : \" + str(model_roc_auc),\n",
    "                    line=dict(color=('rgb(22, 96, 167)'), width=2))\n",
    "trace3 = go.Scatter(x=[0, 1], y=[0, 1],\n",
    "                    line=dict(color=('rgb(205, 12, 24)'), width=2,\n",
    "                              dash='dot'))\n",
    "\n",
    "# plot coeffs\n",
    "trace4 = go.Bar(x=coef_sumry[\"features\"], y=coef_sumry[\"coefficients\"],\n",
    "                name=\"coefficients\",\n",
    "                marker=dict(color=coef_sumry[\"coefficients\"],\n",
    "                            colorscale=\"Picnic\",\n",
    "                            line=dict(width=.6, color=\"black\")))\n",
    "\n",
    "# subplots\n",
    "fig = tls.make_subplots(rows=2, cols=2, specs=[[{}, {}], [{'colspan': 2}, None]],\n",
    "                        subplot_titles=('Confusion Matrix',\n",
    "                                        'Receiver operating characteristic',\n",
    "                                        'Feature Importances'))\n",
    "\n",
    "fig.append_trace(trace1, 1, 1)\n",
    "fig.append_trace(trace2, 1, 2)\n",
    "fig.append_trace(trace3, 1, 2)\n",
    "fig.append_trace(trace4, 2, 1)\n",
    "\n",
    "fig['layout'].update(showlegend=False, title=\"Model performance\",\n",
    "                     autosize=False, height=900, width=800,\n",
    "                     plot_bgcolor='rgba(240,240,240, 0.95)',\n",
    "                     paper_bgcolor='rgba(240,240,240, 0.95)',\n",
    "                     margin=dict(b=195))\n",
    "fig[\"layout\"][\"xaxis2\"].update(dict(title=\"false positive rate\"))\n",
    "fig[\"layout\"][\"yaxis2\"].update(dict(title=\"true positive rate\"))\n",
    "fig[\"layout\"][\"xaxis3\"].update(dict(showgrid=True, tickfont=dict(size=10),\n",
    "                                    tickangle=90))\n",
    "py.iplot(fig)\n",
    "\n",
    "visualizer = DiscriminationThreshold(model)\n",
    "visualizer.fit(training_x, training_y)\n",
    "visualizer.poof()"
   ]
  },
  {
   "cell_type": "markdown",
   "metadata": {},
   "source": [
    "## 2. Churn Modelling (with Feast)"
   ]
  },
  {
   "cell_type": "markdown",
   "metadata": {},
   "source": [
    "1. Make sure your features are registered with Feast and that data is being published to stores\n",
    "2. Train your model\n",
    "3. Serve your model"
   ]
  },
  {
   "cell_type": "markdown",
   "metadata": {},
   "source": [
    "### 2.1 Configure Feast"
   ]
  },
  {
   "cell_type": "code",
   "execution_count": 540,
   "metadata": {},
   "outputs": [],
   "source": [
    "os.environ['FEAST_CORE_URL'] = 'localhost:6565'\n",
    "os.environ['FEAST_ONLINE_URL'] = 'localhost:6566'\n",
    "os.environ['FEAST_BATCH_URL'] = 'localhost:6567'\n",
    "os.environ['FEAST_PROJECT'] = 'default'"
   ]
  },
  {
   "cell_type": "code",
   "execution_count": 527,
   "metadata": {},
   "outputs": [],
   "source": [
    "from feast import Client, FeatureSet, Entity, ValueType"
   ]
  },
  {
   "cell_type": "code",
   "execution_count": 528,
   "metadata": {},
   "outputs": [],
   "source": [
    "client = Client(core_url=os.environ['FEAST_CORE_URL'])\n",
    "client.set_project(os.environ['FEAST_PROJECT'])"
   ]
  },
  {
   "cell_type": "markdown",
   "metadata": {},
   "source": [
    "### 2.2 Create a Feature Set"
   ]
  },
  {
   "cell_type": "code",
   "execution_count": 529,
   "metadata": {},
   "outputs": [],
   "source": [
    "customer_churn_fs = FeatureSet('customer_churn')"
   ]
  },
  {
   "cell_type": "code",
   "execution_count": 530,
   "metadata": {},
   "outputs": [],
   "source": [
    "# Add a datetime column to todays date\n",
    "telcom['datetime'] = pd.Series([dt.datetime.now()] * len(entity_df))"
   ]
  },
  {
   "cell_type": "code",
   "execution_count": 278,
   "metadata": {},
   "outputs": [
    {
     "name": "stdout",
     "output_type": "stream",
     "text": [
      "Entity customer_id(ValueType.STRING) manually updated (replacing an existing field).\n",
      "Feature gender (ValueType.INT64) added from dataframe.\n",
      "Feature seniorcitizen (ValueType.INT64) added from dataframe.\n",
      "Feature partner (ValueType.INT64) added from dataframe.\n",
      "Feature dependents (ValueType.INT64) added from dataframe.\n",
      "Feature phoneservice (ValueType.INT64) added from dataframe.\n",
      "Feature onlinesecurity (ValueType.INT64) added from dataframe.\n",
      "Feature onlinebackup (ValueType.INT64) added from dataframe.\n",
      "Feature deviceprotection (ValueType.INT64) added from dataframe.\n",
      "Feature techsupport (ValueType.INT64) added from dataframe.\n",
      "Feature streamingtv (ValueType.INT64) added from dataframe.\n",
      "Feature streamingmovies (ValueType.INT64) added from dataframe.\n",
      "Feature paperlessbilling (ValueType.INT64) added from dataframe.\n",
      "Feature churn (ValueType.INT64) added from dataframe.\n",
      "Feature multiplelines_no (ValueType.INT64) added from dataframe.\n",
      "Feature multiplelines_no_phone_service (ValueType.INT64) added from dataframe.\n",
      "Feature multiplelines_yes (ValueType.INT64) added from dataframe.\n",
      "Feature internetservice_dsl (ValueType.INT64) added from dataframe.\n",
      "Feature internetservice_fiber_optic (ValueType.INT64) added from dataframe.\n",
      "Feature internetservice_no (ValueType.INT64) added from dataframe.\n",
      "Feature contract_month_to_month (ValueType.INT64) added from dataframe.\n",
      "Feature contract_one_year (ValueType.INT64) added from dataframe.\n",
      "Feature contract_two_year (ValueType.INT64) added from dataframe.\n",
      "Feature paymentmethod_bank_transfer_automatic (ValueType.INT64) added from dataframe.\n",
      "Feature paymentmethod_credit_card_automatic (ValueType.INT64) added from dataframe.\n",
      "Feature paymentmethod_electronic_check (ValueType.INT64) added from dataframe.\n",
      "Feature paymentmethod_mailed_check (ValueType.INT64) added from dataframe.\n",
      "Feature tenure_group_tenure_0_12 (ValueType.INT64) added from dataframe.\n",
      "Feature tenure_group_tenure_12_24 (ValueType.INT64) added from dataframe.\n",
      "Feature tenure_group_tenure_24_48 (ValueType.INT64) added from dataframe.\n",
      "Feature tenure_group_tenure_48_60 (ValueType.INT64) added from dataframe.\n",
      "Feature tenure_group_tenure_gt_60 (ValueType.INT64) added from dataframe.\n",
      "Feature tenure (ValueType.DOUBLE) added from dataframe.\n",
      "Feature monthlycharges (ValueType.DOUBLE) added from dataframe.\n",
      "Feature totalcharges (ValueType.DOUBLE) added from dataframe.\n",
      "\n"
     ]
    }
   ],
   "source": [
    "customer_churn_fs.infer_fields_from_df(telcom, entities=[Entity(name='customer_id', dtype=ValueType.STRING)])"
   ]
  },
  {
   "cell_type": "code",
   "execution_count": 281,
   "metadata": {},
   "outputs": [
    {
     "name": "stdout",
     "output_type": "stream",
     "text": [
      "Feature set updated/created: \"customer_churn:1\"\n"
     ]
    }
   ],
   "source": [
    "client.apply(customer_churn_fs)"
   ]
  },
  {
   "cell_type": "code",
   "execution_count": 285,
   "metadata": {},
   "outputs": [
    {
     "name": "stdout",
     "output_type": "stream",
     "text": [
      "{\n",
      "  \"spec\": {\n",
      "    \"name\": \"customer_churn\",\n",
      "    \"version\": 1,\n",
      "    \"entities\": [\n",
      "      {\n",
      "        \"name\": \"customer_id\",\n",
      "        \"valueType\": \"STRING\"\n",
      "      }\n",
      "    ],\n",
      "    \"features\": [\n",
      "      {\n",
      "        \"name\": \"churn\",\n",
      "        \"valueType\": \"INT64\"\n",
      "      },\n",
      "      {\n",
      "        \"name\": \"seniorcitizen\",\n",
      "        \"valueType\": \"INT64\"\n",
      "      },\n",
      "      {\n",
      "        \"name\": \"contract_month_to_month\",\n",
      "        \"valueType\": \"INT64\"\n",
      "      },\n",
      "      {\n",
      "        \"name\": \"streamingmovies\",\n",
      "        \"valueType\": \"INT64\"\n",
      "      },\n",
      "      {\n",
      "        \"name\": \"dependents\",\n",
      "        \"valueType\": \"INT64\"\n",
      "      },\n",
      "      {\n",
      "        \"name\": \"paymentmethod_credit_card_automatic\",\n",
      "        \"valueType\": \"INT64\"\n",
      "      },\n",
      "      {\n",
      "        \"name\": \"multiplelines_no_phone_service\",\n",
      "        \"valueType\": \"INT64\"\n",
      "      },\n",
      "      {\n",
      "        \"name\": \"techsupport\",\n",
      "        \"valueType\": \"INT64\"\n",
      "      },\n",
      "      {\n",
      "        \"name\": \"internetservice_no\",\n",
      "        \"valueType\": \"INT64\"\n",
      "      },\n",
      "      {\n",
      "        \"name\": \"tenure_group_tenure_gt_60\",\n",
      "        \"valueType\": \"INT64\"\n",
      "      },\n",
      "      {\n",
      "        \"name\": \"phoneservice\",\n",
      "        \"valueType\": \"INT64\"\n",
      "      },\n",
      "      {\n",
      "        \"name\": \"deviceprotection\",\n",
      "        \"valueType\": \"INT64\"\n",
      "      },\n",
      "      {\n",
      "        \"name\": \"tenure\",\n",
      "        \"valueType\": \"DOUBLE\"\n",
      "      },\n",
      "      {\n",
      "        \"name\": \"internetservice_fiber_optic\",\n",
      "        \"valueType\": \"INT64\"\n",
      "      },\n",
      "      {\n",
      "        \"name\": \"multiplelines_no\",\n",
      "        \"valueType\": \"INT64\"\n",
      "      },\n",
      "      {\n",
      "        \"name\": \"monthlycharges\",\n",
      "        \"valueType\": \"DOUBLE\"\n",
      "      },\n",
      "      {\n",
      "        \"name\": \"gender\",\n",
      "        \"valueType\": \"INT64\"\n",
      "      },\n",
      "      {\n",
      "        \"name\": \"internetservice_dsl\",\n",
      "        \"valueType\": \"INT64\"\n",
      "      },\n",
      "      {\n",
      "        \"name\": \"onlinebackup\",\n",
      "        \"valueType\": \"INT64\"\n",
      "      },\n",
      "      {\n",
      "        \"name\": \"paymentmethod_electronic_check\",\n",
      "        \"valueType\": \"INT64\"\n",
      "      },\n",
      "      {\n",
      "        \"name\": \"tenure_group_tenure_48_60\",\n",
      "        \"valueType\": \"INT64\"\n",
      "      },\n",
      "      {\n",
      "        \"name\": \"paymentmethod_bank_transfer_automatic\",\n",
      "        \"valueType\": \"INT64\"\n",
      "      },\n",
      "      {\n",
      "        \"name\": \"totalcharges\",\n",
      "        \"valueType\": \"DOUBLE\"\n",
      "      },\n",
      "      {\n",
      "        \"name\": \"paymentmethod_mailed_check\",\n",
      "        \"valueType\": \"INT64\"\n",
      "      },\n",
      "      {\n",
      "        \"name\": \"tenure_group_tenure_0_12\",\n",
      "        \"valueType\": \"INT64\"\n",
      "      },\n",
      "      {\n",
      "        \"name\": \"tenure_group_tenure_12_24\",\n",
      "        \"valueType\": \"INT64\"\n",
      "      },\n",
      "      {\n",
      "        \"name\": \"multiplelines_yes\",\n",
      "        \"valueType\": \"INT64\"\n",
      "      },\n",
      "      {\n",
      "        \"name\": \"tenure_group_tenure_24_48\",\n",
      "        \"valueType\": \"INT64\"\n",
      "      },\n",
      "      {\n",
      "        \"name\": \"streamingtv\",\n",
      "        \"valueType\": \"INT64\"\n",
      "      },\n",
      "      {\n",
      "        \"name\": \"onlinesecurity\",\n",
      "        \"valueType\": \"INT64\"\n",
      "      },\n",
      "      {\n",
      "        \"name\": \"contract_one_year\",\n",
      "        \"valueType\": \"INT64\"\n",
      "      },\n",
      "      {\n",
      "        \"name\": \"paperlessbilling\",\n",
      "        \"valueType\": \"INT64\"\n",
      "      },\n",
      "      {\n",
      "        \"name\": \"contract_two_year\",\n",
      "        \"valueType\": \"INT64\"\n",
      "      },\n",
      "      {\n",
      "        \"name\": \"partner\",\n",
      "        \"valueType\": \"INT64\"\n",
      "      }\n",
      "    ],\n",
      "    \"maxAge\": \"0s\",\n",
      "    \"source\": {\n",
      "      \"type\": \"KAFKA\",\n",
      "      \"kafkaSourceConfig\": {\n",
      "        \"bootstrapServers\": \"10.202.250.99:31190\",\n",
      "        \"topic\": \"feast\"\n",
      "      }\n",
      "    },\n",
      "    \"project\": \"default\"\n",
      "  },\n",
      "  \"meta\": {\n",
      "    \"createdTimestamp\": \"2020-03-15T07:47:52Z\",\n",
      "    \"status\": \"STATUS_READY\"\n",
      "  }\n",
      "}\n"
     ]
    }
   ],
   "source": [
    "customer_churn_fs = client.get_feature_set('customer_churn')\n",
    "print(client.get_feature_set('customer_churn'))"
   ]
  },
  {
   "cell_type": "markdown",
   "metadata": {},
   "source": [
    "### 2.3 Load Features Into Feast"
   ]
  },
  {
   "cell_type": "code",
   "execution_count": 286,
   "metadata": {},
   "outputs": [
    {
     "name": "stderr",
     "output_type": "stream",
     "text": [
      "\r",
      "  0%|          | 0/7032 [00:00<?, ?rows/s]"
     ]
    },
    {
     "name": "stdout",
     "output_type": "stream",
     "text": [
      "Waiting for feature set to be ready for ingestion...\n"
     ]
    },
    {
     "name": "stderr",
     "output_type": "stream",
     "text": [
      "100%|██████████| 7032/7032 [00:02<00:00, 2771.19rows/s]"
     ]
    },
    {
     "name": "stdout",
     "output_type": "stream",
     "text": [
      "Ingestion complete!\n",
      "\n",
      "Ingestion statistics:\n",
      "Success: 7032/7032\n",
      "Removing temporary file(s)...\n"
     ]
    },
    {
     "name": "stderr",
     "output_type": "stream",
     "text": [
      "\n"
     ]
    }
   ],
   "source": [
    "client.ingest(customer_churn_fs, telcom)"
   ]
  },
  {
   "cell_type": "markdown",
   "metadata": {},
   "source": [
    "### 2.4 (Optional) Create a Model Class"
   ]
  },
  {
   "cell_type": "code",
   "execution_count": 537,
   "metadata": {},
   "outputs": [],
   "source": [
    "import joblib\n",
    "import os\n",
    "\n",
    "from feast import Client\n",
    "from feast.serving.ServingService_pb2 import GetOnlineFeaturesRequest\n",
    "from feast.types.Value_pb2 import Value\n",
    "from sklearn.model_selection import train_test_split\n",
    "from xgboost import XGBClassifier\n",
    "from pandas import DataFrame\n",
    "\n",
    "\n",
    "class ChurnModel:\n",
    "    def __init__(self, features, target, model_path=None):\n",
    "        # Set up Feast clients to retrieve training and online serving data\n",
    "        self._feast_online_client = Client(serving_url=os.environ['FEAST_ONLINE_URL'])\n",
    "        self._feast_batch_client = Client(serving_url=os.environ['FEAST_BATCH_URL'],\n",
    "                                          core_url=os.environ['FEAST_CORE_URL'])\n",
    "        self._feast_project = os.environ['FEAST_PROJECT']\n",
    "\n",
    "        # Path to either save models after training or load models for serving\n",
    "        self._model = None\n",
    "        self._model_path = model_path\n",
    "        self._features = features\n",
    "        self._target = target\n",
    "\n",
    "    def train(self, entity_df):\n",
    "        # Initialize a new XGBoost model\n",
    "        self._model = XGBClassifier(base_score=0.5, booster='gbtree', colsample_bylevel=1,\n",
    "                                    colsample_bytree=1, gamma=0, learning_rate=0.1, max_delta_step=0,\n",
    "                                    max_depth=7, min_child_weight=1, missing=None, n_estimators=50,\n",
    "                                    n_jobs=1, nthread=None, objective='binary:logistic', random_state=0,\n",
    "                                    reg_alpha=0, reg_lambda=1, scale_pos_weight=1, seed=None,\n",
    "                                    silent=True, subsample=1)\n",
    "\n",
    "        # Get training dataset from Feast\n",
    "        train_x, test_x, train_y, test_y = self._get_training_data(entity_df)\n",
    "\n",
    "        # Train model\n",
    "        self._model.fit(train_x, train_y, early_stopping_rounds=40, eval_set=[(test_x, test_y)])\n",
    "\n",
    "    def _get_training_data(self, entity_df):\n",
    "        # Add the target variable to our feature list\n",
    "        features = self._features + [self._target]\n",
    "\n",
    "        # Retrieve training dataset from Feast\n",
    "        dataset = self._feast_batch_client.get_batch_features(\n",
    "            feature_refs=features,\n",
    "            entity_rows=entity_df,\n",
    "            default_project=self._feast_project).to_dataframe()\n",
    "\n",
    "        # Split into a train and test set\n",
    "        return train_test_split(dataset[self._features], dataset[self._target],\n",
    "                                test_size=0.25, random_state=111)\n",
    "\n",
    "    def predict(self, customer_ids):\n",
    "        # Load external model if no model exists\n",
    "        if not self._model:\n",
    "            self._model = joblib.load(self._model_path)\n",
    "\n",
    "        # Get online features from Feast for the list of customers\n",
    "        prediction = self._model.predict(data=self._get_online_features(customer_ids))\n",
    "\n",
    "        # Return churn predictions\n",
    "        return prediction\n",
    "\n",
    "    def _get_online_features(self, customer_ids):\n",
    "        # Build request out of entities (customer ids)\n",
    "        entity_rows = []\n",
    "        for customer_id in customer_ids:\n",
    "            entity_rows.append(\n",
    "                GetOnlineFeaturesRequest.EntityRow(fields={'customer_id': Value(string_val=customer_id)})\n",
    "            )\n",
    "\n",
    "        # Retrieve online features from Feast for given entities\n",
    "        data = self._feast_online_client.get_online_features(feature_refs=self._features,\n",
    "                                                             entity_rows=entity_rows,\n",
    "                                                             default_project=self._feast_project)\n",
    "        # Convert to Pandas dataframe\n",
    "        features_dict = dict.fromkeys(self._features)\n",
    "        for row in data.field_values:\n",
    "            for feature in features_dict.keys():\n",
    "                if features_dict[feature] is None:\n",
    "                    features_dict[feature] = []\n",
    "                features_dict[feature].append(row.fields[self._feast_project + '/' + feature].int64_val)\n",
    "        return DataFrame.from_dict(features_dict)\n",
    "\n",
    "    def save_model(self, model_path=None):\n",
    "        # Export trained model to local path### 2.2 Create a Feature Set\n",
    "        if not model_path:\n",
    "            model_path = self._model_path\n",
    "        joblib.dump(self._model, model_path)"
   ]
  },
  {
   "cell_type": "markdown",
   "metadata": {},
   "source": [
    "### 2.5 Define Features and Target"
   ]
  },
  {
   "cell_type": "code",
   "execution_count": 534,
   "metadata": {},
   "outputs": [],
   "source": [
    "features = [\n",
    " 'gender',\n",
    " 'seniorcitizen',\n",
    " 'partner',\n",
    " 'dependents',\n",
    " 'phoneservice',\n",
    " 'onlinesecurity',\n",
    " 'onlinebackup',\n",
    " 'deviceprotecti### 2.4 (Optional) Create a Model Classon',\n",
    " 'techsupport',\n",
    " 'streamingtv',\n",
    " 'streamingmovies',\n",
    " 'paperlessbilling',\n",
    " 'multiplelines_no',\n",
    " 'multiplelines_no_phone_service',\n",
    " 'multiplelines_yes',\n",
    " 'internetservice_dsl',\n",
    " 'internetservice_fiber_optic',\n",
    " 'internetservice_no',\n",
    " 'contract_month_to_month',\n",
    " 'contract_one_year',\n",
    " 'contract_two_year',\n",
    " 'paymentmethod_bank_transfer_automatic',\n",
    " 'paymentmethod_credit_card_automatic',\n",
    " 'paymentmethod_electronic_check',\n",
    " 'paymentmethod_mailed_check',\n",
    " 'tenure_group_tenure_0_12',\n",
    " 'tenure_group_tenure_12_24',\n",
    " 'tenure_group_tenure_24_48',\n",
    " 'tenure_group_tenure_48_60',\n",
    " 'tenure_group_tenure_gt_60',\n",
    " 'tenure',\n",
    " 'monthlycharges',\n",
    " 'totalcharges']\n",
    "\n",
    "target = 'churn'"
   ]
  },
  {
   "cell_type": "code",
   "execution_count": 459,
   "metadata": {},
   "outputs": [],
   "source": [
    "cm = ChurnModel(features=features, target=target)"
   ]
  },
  {
   "cell_type": "markdown",
   "metadata": {},
   "source": [
    "### 2.6 Train Model"
   ]
  },
  {
   "cell_type": "code",
   "execution_count": 460,
   "metadata": {
    "scrolled": false
   },
   "outputs": [
    {
     "name": "stdout",
     "output_type": "stream",
     "text": [
      "[0]\tvalidation_0-error:0.22071\n",
      "Will train until validation_0-error hasn't improved in 40 rounds.\n",
      "[1]\tvalidation_0-error:0.21900\n",
      "[2]\tvalidation_0-error:0.21786\n",
      "[3]\tvalidation_0-error:0.22071\n",
      "[4]\tvalidation_0-error:0.21388\n",
      "[5]\tvalidation_0-error:0.21388\n",
      "[6]\tvalidation_0-error:0.21786\n",
      "[7]\tvalidation_0-error:0.21445\n",
      "[8]\tvalidation_0-error:0.21388\n",
      "[9]\tvalidation_0-error:0.20990\n",
      "[10]\tvalidation_0-error:0.21160\n",
      "[11]\tvalidation_0-error:0.20819\n",
      "[12]\tvalidation_0-error:0.21160\n",
      "[13]\tvalidation_0-error:0.21104\n",
      "[14]\tvalidation_0-error:0.21274\n",
      "[15]\tvalidation_0-error:0.21104\n",
      "[16]\tvalidation_0-error:0.20933\n",
      "[17]\tvalidation_0-error:0.20990\n",
      "[18]\tvalidation_0-error:0.21104\n",
      "[19]\tvalidation_0-error:0.20990\n",
      "[20]\tvalidation_0-error:0.20649\n",
      "[21]\tvalidation_0-error:0.20649\n",
      "[22]\tvalidation_0-error:0.20535\n",
      "[23]\tvalidation_0-error:0.20421\n",
      "[24]\tvalidation_0-error:0.20592\n",
      "[25]\tvalidation_0-error:0.20762\n",
      "[26]\tvalidation_0-error:0.20649\n",
      "[27]\tvalidation_0-error:0.20933\n",
      "[28]\tvalidation_0-error:0.20876\n",
      "[29]\tvalidation_0-error:0.20990\n",
      "[30]\tvalidation_0-error:0.20876\n",
      "[31]\tvalidation_0-error:0.20933\n",
      "[32]\tvalidation_0-error:0.20876\n",
      "[33]\tvalidation_0-error:0.20933\n",
      "[34]\tvalidation_0-error:0.20876\n",
      "[35]\tvalidation_0-error:0.20819\n",
      "[36]\tvalidation_0-error:0.20876\n",
      "[37]\tvalidation_0-error:0.21104\n",
      "[38]\tvalidation_0-error:0.21104\n",
      "[39]\tvalidation_0-error:0.21160\n",
      "[40]\tvalidation_0-error:0.21104\n",
      "[41]\tvalidation_0-error:0.21104\n",
      "[42]\tvalidation_0-error:0.21047\n",
      "[43]\tvalidation_0-error:0.21160\n",
      "[44]\tvalidation_0-error:0.21104\n",
      "[45]\tvalidation_0-error:0.20933\n",
      "[46]\tvalidation_0-error:0.21104\n",
      "[47]\tvalidation_0-error:0.21047\n",
      "[48]\tvalidation_0-error:0.21047\n",
      "[49]\tvalidation_0-error:0.21047\n"
     ]
    }
   ],
   "source": [
    "cm.train(entity_df)"
   ]
  },
  {
   "cell_type": "markdown",
   "metadata": {},
   "source": [
    "### 2.7 Predict"
   ]
  },
  {
   "cell_type": "code",
   "execution_count": 503,
   "metadata": {},
   "outputs": [],
   "source": [
    "churn_prediction = cm.predict(['9237-HQITU', '9305-CDSKC', '7892-POOKP', '4190-MFLUW', '6467-CHFZW', '8665-UTDHZ'])"
   ]
  },
  {
   "cell_type": "code",
   "execution_count": 504,
   "metadata": {},
   "outputs": [
    {
     "name": "stdout",
     "output_type": "stream",
     "text": [
      "[0 0 1 0 1 0]\n"
     ]
    }
   ],
   "source": [
    "print(churn_prediction)"
   ]
  }
 ],
 "metadata": {
  "kernelspec": {
   "display_name": "Python 3",
   "language": "python",
   "name": "python3"
  },
  "language_info": {
   "codemirror_mode": {
    "name": "ipython",
    "version": 3
   },
   "file_extension": ".py",
   "mimetype": "text/x-python",
   "name": "python",
   "nbconvert_exporter": "python",
   "pygments_lexer": "ipython3",
   "version": "3.7.4"
  },
  "pycharm": {
   "stem_cell": {
    "cell_type": "raw",
    "metadata": {
     "collapsed": false
    },
    "source": []
   }
  }
 },
 "nbformat": 4,
 "nbformat_minor": 4
}
