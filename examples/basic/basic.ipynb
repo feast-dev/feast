{
 "cells": [
  {
   "cell_type": "markdown",
   "source": [
    "# Feast Basic Customer Transactions Example"
   ],
   "metadata": {
    "collapsed": false
   }
  },
  {
   "cell_type": "markdown",
   "metadata": {},
   "source": [
    "This is a minimal example of using Feast. In this example we will\n",
    "1. Create a synthetic customer feature dataset\n",
    "2. Register a feature set to represent these features in Feast\n",
    "3. Ingest these features into Feast\n",
    "4. Create a feature query to retrieve historical feature data\n",
    "5. Create a feature query to retrieve online feature data"
   ]
  },
  {
   "cell_type": "markdown",
   "metadata": {},
   "source": [
    "### 1. Clone Feast and install all dependencies"
   ]
  },
  {
   "cell_type": "code",
   "execution_count": null,
   "metadata": {},
   "outputs": [],
   "source": [
    "!rm -rf feast \\\n",
    "&& git clone https://github.com/gojek/feast.git \\\n",
    "&& cd feast/sdk/python/ &&  pip install --upgrade --quiet -e . \\\n",
    "&& pip install --quiet --upgrade pandas numpy protobuf"
   ]
  },
  {
   "cell_type": "markdown",
   "metadata": {},
   "source": [
    "### 2. Import necessary modules"
   ]
  },
  {
   "cell_type": "code",
   "execution_count": 8,
   "metadata": {},
   "outputs": [],
   "source": [
    "import pandas as pd\n",
    "import numpy as np\n",
    "from pytz import timezone, utc\n",
    "from feast import Client, FeatureSet, Entity, ValueType\n",
    "from feast.serving.ServingService_pb2 import GetOnlineFeaturesRequest\n",
    "from feast.types.Value_pb2 import Value as Value\n",
    "from google.protobuf.duration_pb2 import Duration\n",
    "from datetime import datetime, timedelta\n",
    "from random import randrange\n",
    "import random"
   ]
  },
  {
   "cell_type": "markdown",
   "metadata": {},
   "source": [
    "### 3. Configure Feast services and connect the Feast client"
   ]
  },
  {
   "cell_type": "code",
   "execution_count": 9,
   "metadata": {},
   "outputs": [],
   "source": [
    "CORE_URL = 'localhost:6565'\n",
    "ONLINE_SERVING_URL = 'localhost:6566'\n",
    "BATCH_SERVING_URL = 'localhost:6567'"
   ]
  },
  {
   "cell_type": "code",
   "execution_count": 10,
   "metadata": {},
   "outputs": [],
   "source": [
    "client = Client(core_url=CORE_URL, serving_url=BATCH_SERVING_URL) # Connect to Feast Core"
   ]
  },
  {
   "cell_type": "markdown",
   "metadata": {},
   "source": [
    "### 4. Create synthetic customer features"
   ]
  },
  {
   "cell_type": "markdown",
   "metadata": {},
   "source": [
    "Here we will create customer features for 5 customers over a month. Each customer will have a set of features for every day."
   ]
  },
  {
   "cell_type": "code",
   "execution_count": 24,
   "metadata": {},
   "outputs": [],
   "source": [
    "days = [datetime.utcnow().replace(hour=0, minute=0, second=0, microsecond=0).replace(tzinfo=utc) \\\n",
    "        - timedelta(day) for day in range(31)]\n",
    "\n",
    "customers = [1001, 1002, 1003, 1004, 1005]"
   ]
  },
  {
   "cell_type": "code",
   "execution_count": 25,
   "metadata": {},
   "outputs": [
    {
     "name": "stdout",
     "output_type": "stream",
     "text": [
      "                   datetime  customer_id  daily_transactions  \\\n",
      "0 2019-12-08 00:00:00+00:00         1001            1.418540   \n",
      "1 2019-12-08 00:00:00+00:00         1002            4.231620   \n",
      "2 2019-12-08 00:00:00+00:00         1003            2.125182   \n",
      "3 2019-12-08 00:00:00+00:00         1004            6.328034   \n",
      "4 2019-12-08 00:00:00+00:00         1005            0.009291   \n",
      "5 2019-12-07 00:00:00+00:00         1001            1.199422   \n",
      "6 2019-12-07 00:00:00+00:00         1002            4.296611   \n",
      "7 2019-12-07 00:00:00+00:00         1003            8.178577   \n",
      "8 2019-12-07 00:00:00+00:00         1004            4.351829   \n",
      "9 2019-12-07 00:00:00+00:00         1005            5.066446   \n",
      "\n",
      "   total_transactions  \n",
      "0                  34  \n",
      "1                  93  \n",
      "2                  56  \n",
      "3                  95  \n",
      "4                  49  \n",
      "5                  16  \n",
      "6                  90  \n",
      "7                  14  \n",
      "8                  22  \n",
      "9                  44  \n"
     ]
    }
   ],
   "source": [
    "customer_features = pd.DataFrame(\n",
    "    {\n",
    "        \"datetime\": [day for day in days for customer in customers],\n",
    "        \"customer_id\": [customer for day in days for customer in customers],\n",
    "        \"daily_transactions\": [np.random.rand() * 10 for _ in range(len(days) * len(customers))],\n",
    "        \"total_transactions\": [np.random.randint(100) for _ in range(len(days) * len(customers))],\n",
    "    }\n",
    ")\n",
    "\n",
    "print(customer_features.head(10))"
   ]
  },
  {
   "cell_type": "markdown",
   "metadata": {},
   "source": [
    "### 5. Create feature set for customer features"
   ]
  },
  {
   "cell_type": "markdown",
   "metadata": {},
   "source": [
    "Now we will create a feature set for these features. Feature sets are essentially a schema that represent\n",
    "feature values. Feature sets allow Feast to both identify feature values and their structure. \n",
    "\n",
    "In this case we need to define any entity columns as well as the maximum age. The entity column in this case is \"customer_id\". Max age is set to 1 day (defined in seconds). This means that for each feature query during retrieval, the serving API will only retrieve features up to a maximum of 1 day per provided timestamp and entity combination. "
   ]
  },
  {
   "cell_type": "code",
   "execution_count": 13,
   "metadata": {},
   "outputs": [],
   "source": [
    "customer_fs = FeatureSet(\n",
    "    \"customer_transactions\",\n",
    "    max_age=Duration(seconds=86400),\n",
    "    entities=[Entity(name='customer_id', dtype=ValueType.INT64)]\n",
    ")"
   ]
  },
  {
   "cell_type": "markdown",
   "metadata": {},
   "source": [
    "Here we are automatically inferring the schema from the provided dataset"
   ]
  },
  {
   "cell_type": "code",
   "execution_count": 26,
   "metadata": {},
   "outputs": [
    {
     "name": "stdout",
     "output_type": "stream",
     "text": [
      "Feature daily_transactions (ValueType.DOUBLE) added from dataframe.\n",
      " Feature total_transactions (ValueType.INT64) added from dataframe.\n",
      " \n"
     ]
    }
   ],
   "source": [
    "customer_fs.infer_fields_from_df(customer_features, replace_existing_features=True)"
   ]
  },
  {
   "cell_type": "markdown",
   "metadata": {},
   "source": [
    "### 6. Register feature set with Feast Core"
   ]
  },
  {
   "cell_type": "markdown",
   "metadata": {},
   "source": [
    "The apply() method will register the provided feature set with Feast core, allowing users to retrieve features from this feature set"
   ]
  },
  {
   "cell_type": "code",
   "execution_count": 16,
   "metadata": {},
   "outputs": [
    {
     "name": "stdout",
     "output_type": "stream",
     "text": [
      "No change detected or applied: customer_transactions\n"
     ]
    }
   ],
   "source": [
    "client.apply(customer_fs)"
   ]
  },
  {
   "cell_type": "markdown",
   "metadata": {},
   "source": [
    "We test the retrieval of this feature set object (not its data), to ensure that we have the latest version"
   ]
  },
  {
   "cell_type": "code",
   "execution_count": 17,
   "metadata": {},
   "outputs": [
    {
     "name": "stdout",
     "output_type": "stream",
     "text": [
      "{\n",
      "  \"name\": \"customer_transactions\",\n",
      "  \"version\": 3,\n",
      "  \"entities\": [\n",
      "    {\n",
      "      \"name\": \"customer_id\",\n",
      "      \"valueType\": \"INT64\"\n",
      "    }\n",
      "  ],\n",
      "  \"features\": [\n",
      "    {\n",
      "      \"name\": \"daily_transactions\",\n",
      "      \"valueType\": \"DOUBLE\"\n",
      "    },\n",
      "    {\n",
      "      \"name\": \"total_transactions\",\n",
      "      \"valueType\": \"INT64\"\n",
      "    }\n",
      "  ],\n",
      "  \"maxAge\": \"86400s\",\n",
      "  \"source\": {\n",
      "    \"type\": \"KAFKA\",\n",
      "    \"kafkaSourceConfig\": {\n",
      "      \"bootstrapServers\": \"10.202.112.114:9092\",\n",
      "      \"topic\": \"feast-features\"\n",
      "    }\n",
      "  }\n",
      "}\n"
     ]
    }
   ],
   "source": [
    "customer_fs = client.get_feature_set(\"customer_transactions\")\n",
    "print(customer_fs)"
   ]
  },
  {
   "cell_type": "markdown",
   "metadata": {},
   "source": [
    "### 7. Ingest data into Feast for a feature set"
   ]
  },
  {
   "cell_type": "code",
   "execution_count": 27,
   "metadata": {},
   "outputs": [
    {
     "name": "stderr",
     "output_type": "stream",
     "text": [
      "\r",
      "  0%|          | 0/155 [00:00<?, ?rows/s]"
     ]
    },
    {
     "name": "stdout",
     "output_type": "stream",
     "text": [
      "\n",
      "(ingest table to kafka) Ingestion started for customer_transactions:3\n"
     ]
    },
    {
     "name": "stderr",
     "output_type": "stream",
     "text": [
      "100%|██████████| 155/155 [00:00<00:00, 636.84rows/s]\n",
      "  0%|          | 0/155 [00:00<?, ?rows/s]"
     ]
    },
    {
     "name": "stdout",
     "output_type": "stream",
     "text": [
      "\n",
      "Ingestion statistics:\n",
      "Success: 155/155\n"
     ]
    },
    {
     "name": "stderr",
     "output_type": "stream",
     "text": [
      "\n"
     ]
    }
   ],
   "source": [
    "client.ingest(\"customer_transactions\", customer_features)"
   ]
  },
  {
   "cell_type": "markdown",
   "metadata": {},
   "source": [
    "### 8. Create a batch retrieval query"
   ]
  },
  {
   "cell_type": "markdown",
   "metadata": {},
   "source": [
    "In order to retrieve historical feature data, the user must provide an entity_rows dataframe. This dataframe contains a combination of timestamps and entities. In this case, the user must provide both customer_ids and timestamps. \n",
    "\n",
    "We will randomly generate timestamps over the last 30 days, and assign customer_ids to them. When these entity rows are sent to the Feast Serving API to retrieve feature values, along with a list of feature ids, Feast is then able to attach the correct feature values to each entity row. The one exception is if the feature values fall outside of the maximum age window."
   ]
  },
  {
   "cell_type": "code",
   "execution_count": 30,
   "metadata": {},
   "outputs": [
    {
     "name": "stdout",
     "output_type": "stream",
     "text": [
      "                          datetime  customer_id\n",
      "0 2019-11-27 02:02:25.325169+00:00         1001\n",
      "1 2019-12-06 00:27:25.325198+00:00         1002\n",
      "2 2019-12-06 15:04:25.325205+00:00         1003\n",
      "3 2019-12-02 04:57:25.325210+00:00         1004\n",
      "4 2019-12-04 11:16:25.325215+00:00         1005\n",
      "5 2019-12-08 03:53:25.325220+00:00         1001\n",
      "6 2019-12-07 21:49:25.325226+00:00         1002\n",
      "7 2019-12-07 16:14:25.325231+00:00         1003\n",
      "8 2019-11-29 06:05:25.325236+00:00         1004\n",
      "9 2019-11-27 15:01:25.325241+00:00         1005\n"
     ]
    }
   ],
   "source": [
    "event_timestamps = [datetime.utcnow().replace(tzinfo=utc) - timedelta(days=randrange(15), hours=randrange(24), minutes=randrange(60)) for day in range(30)]\n",
    "\n",
    "entity_rows = pd.DataFrame(\n",
    "    {\n",
    "        \"datetime\": event_timestamps,\n",
    "        \"customer_id\": [customers[idx % len(customers)] for idx in range(len(event_timestamps))],\n",
    "    }\n",
    ")\n",
    "\n",
    "print(entity_rows.head(10))"
   ]
  },
  {
   "cell_type": "markdown",
   "metadata": {},
   "source": [
    "### 9. Retrieve historical/batch features"
   ]
  },
  {
   "cell_type": "code",
   "execution_count": 32,
   "metadata": {},
   "outputs": [
    {
     "name": "stdout",
     "output_type": "stream",
     "text": [
      "                                   uuid                  event_timestamp  \\\n",
      "0  9dd6adfe-c8fb-472f-9db6-913827f240dd 2019-11-27 02:02:25.325169+00:00   \n",
      "1  5a84f26d-cb3c-4767-8d71-b3cb76e060b4 2019-12-08 03:53:25.325220+00:00   \n",
      "2  d458db71-ff1b-4520-8d2d-cba03bed3118 2019-12-01 18:50:25.325246+00:00   \n",
      "3  cf6fb51b-4396-442a-a5b7-615550755ac7 2019-12-05 14:35:25.325271+00:00   \n",
      "4  b92b0eed-f2e2-49e3-8f1b-b1d3c3cf3072 2019-12-03 10:17:25.325295+00:00   \n",
      "5  af4f716a-6c89-48ec-81c8-cb5bbd13e610 2019-11-27 21:01:25.325320+00:00   \n",
      "6  c50e69f0-32ed-4af2-93f5-89bd202500ec 2019-12-06 00:27:25.325198+00:00   \n",
      "7  fde6a2bb-91ce-4c9f-9112-9e579dcbde1e 2019-12-07 21:49:25.325226+00:00   \n",
      "8  c281728f-64a4-4808-91f4-c75d2a2b0329 2019-11-29 16:51:25.325251+00:00   \n",
      "9  81e9007c-64b2-48db-9c34-1923a3fd088e 2019-12-06 15:36:25.325275+00:00   \n",
      "\n",
      "   customer_id  customer_transactions_v3_daily_transactions  \\\n",
      "0         1001                                          NaN   \n",
      "1         1001                                      1.41854   \n",
      "2         1001                                          NaN   \n",
      "3         1001                                          NaN   \n",
      "4         1001                                          NaN   \n",
      "5         1001                                          NaN   \n",
      "6         1002                                          NaN   \n",
      "7         1002                                          NaN   \n",
      "8         1002                                          NaN   \n",
      "9         1002                                          NaN   \n",
      "\n",
      "   customer_transactions_v3_total_transactions  \n",
      "0                                          NaN  \n",
      "1                                         34.0  \n",
      "2                                          NaN  \n",
      "3                                          NaN  \n",
      "4                                          NaN  \n",
      "5                                          NaN  \n",
      "6                                          NaN  \n",
      "7                                          NaN  \n",
      "8                                          NaN  \n",
      "9                                          NaN  \n"
     ]
    }
   ],
   "source": [
    "job = client.get_batch_features(\n",
    "                            feature_ids=[\n",
    "                                f\"customer_transactions:{customer_fs.version}:daily_transactions\", \n",
    "                                f\"customer_transactions:{customer_fs.version}:total_transactions\", \n",
    "                               ],\n",
    "                            entity_rows=entity_rows\n",
    "                         )\n",
    "df = job.to_dataframe()\n",
    "print(df.head(10))"
   ]
  },
  {
   "cell_type": "markdown",
   "metadata": {},
   "source": [
    "### 10. Retrieve online features"
   ]
  },
  {
   "cell_type": "markdown",
   "metadata": {},
   "source": [
    "The process of retrieving features from the online API is very similar to that of the batch API. The only major difference is that users do not have to provide timestamps (only the latest features are returned, as long as they are within the maximum age window)"
   ]
  },
  {
   "cell_type": "code",
   "execution_count": 36,
   "metadata": {},
   "outputs": [],
   "source": [
    "online_client = Client(core_url=CORE_URL, serving_url=ONLINE_SERVING_URL)"
   ]
  },
  {
   "cell_type": "markdown",
   "metadata": {},
   "source": [
    "The example below retrieves online features for a single customer: \"1001\""
   ]
  },
  {
   "cell_type": "code",
   "execution_count": 37,
   "metadata": {},
   "outputs": [
    {
     "ename": "ConnectionError",
     "evalue": "Connection timed out while attempting to connect to Feast Serving gRPC server 10.202.112.114:6566 ",
     "output_type": "error",
     "traceback": [
      "\u001b[0;31m\u001b[0m",
      "\u001b[0;31mFutureTimeoutError\u001b[0mTraceback (most recent call last)",
      "\u001b[0;32m/opt/notebooks/feast/sdk/python/feast/client.py\u001b[0m in \u001b[0;36m_connect_serving\u001b[0;34m(self, skip_if_connected)\u001b[0m\n\u001b[1;32m    199\u001b[0m             grpc.channel_ready_future(self.__serving_channel).result(\n\u001b[0;32m--> 200\u001b[0;31m                 \u001b[0mtimeout\u001b[0m\u001b[0;34m=\u001b[0m\u001b[0mGRPC_CONNECTION_TIMEOUT_DEFAULT\u001b[0m\u001b[0;34m\u001b[0m\u001b[0;34m\u001b[0m\u001b[0m\n\u001b[0m\u001b[1;32m    201\u001b[0m             )\n",
      "\u001b[0;32m/opt/conda/lib/python3.7/site-packages/grpc/_utilities.py\u001b[0m in \u001b[0;36mresult\u001b[0;34m(self, timeout)\u001b[0m\n\u001b[1;32m    139\u001b[0m     \u001b[0;32mdef\u001b[0m \u001b[0mresult\u001b[0m\u001b[0;34m(\u001b[0m\u001b[0mself\u001b[0m\u001b[0;34m,\u001b[0m \u001b[0mtimeout\u001b[0m\u001b[0;34m=\u001b[0m\u001b[0;32mNone\u001b[0m\u001b[0;34m)\u001b[0m\u001b[0;34m:\u001b[0m\u001b[0;34m\u001b[0m\u001b[0;34m\u001b[0m\u001b[0m\n\u001b[0;32m--> 140\u001b[0;31m         \u001b[0mself\u001b[0m\u001b[0;34m.\u001b[0m\u001b[0m_block\u001b[0m\u001b[0;34m(\u001b[0m\u001b[0mtimeout\u001b[0m\u001b[0;34m)\u001b[0m\u001b[0;34m\u001b[0m\u001b[0;34m\u001b[0m\u001b[0m\n\u001b[0m\u001b[1;32m    141\u001b[0m \u001b[0;34m\u001b[0m\u001b[0m\n",
      "\u001b[0;32m/opt/conda/lib/python3.7/site-packages/grpc/_utilities.py\u001b[0m in \u001b[0;36m_block\u001b[0;34m(self, timeout)\u001b[0m\n\u001b[1;32m     85\u001b[0m                         \u001b[0;32mif\u001b[0m \u001b[0mremaining\u001b[0m \u001b[0;34m<\u001b[0m \u001b[0;36m0\u001b[0m\u001b[0;34m:\u001b[0m\u001b[0;34m\u001b[0m\u001b[0;34m\u001b[0m\u001b[0m\n\u001b[0;32m---> 86\u001b[0;31m                             \u001b[0;32mraise\u001b[0m \u001b[0mgrpc\u001b[0m\u001b[0;34m.\u001b[0m\u001b[0mFutureTimeoutError\u001b[0m\u001b[0;34m(\u001b[0m\u001b[0;34m)\u001b[0m\u001b[0;34m\u001b[0m\u001b[0;34m\u001b[0m\u001b[0m\n\u001b[0m\u001b[1;32m     87\u001b[0m                         \u001b[0;32melse\u001b[0m\u001b[0;34m:\u001b[0m\u001b[0;34m\u001b[0m\u001b[0;34m\u001b[0m\u001b[0m\n",
      "\u001b[0;31mFutureTimeoutError\u001b[0m: ",
      "\nDuring handling of the above exception, another exception occurred:\n",
      "\u001b[0;31mConnectionError\u001b[0mTraceback (most recent call last)",
      "\u001b[0;32m<ipython-input-37-4cec522606bd>\u001b[0m in \u001b[0;36m<module>\u001b[0;34m\u001b[0m\n\u001b[1;32m      8\u001b[0m             fields={\n\u001b[1;32m      9\u001b[0m                 \"customer_id\": Value(\n\u001b[0;32m---> 10\u001b[0;31m                     int64_val=1001)\n\u001b[0m\u001b[1;32m     11\u001b[0m             }\n\u001b[1;32m     12\u001b[0m         )\n",
      "\u001b[0;32m/opt/notebooks/feast/sdk/python/feast/client.py\u001b[0m in \u001b[0;36mget_online_features\u001b[0;34m(self, feature_ids, entity_rows)\u001b[0m\n\u001b[1;32m    461\u001b[0m         \"\"\"\n\u001b[1;32m    462\u001b[0m \u001b[0;34m\u001b[0m\u001b[0m\n\u001b[0;32m--> 463\u001b[0;31m         \u001b[0mself\u001b[0m\u001b[0;34m.\u001b[0m\u001b[0m_connect_serving\u001b[0m\u001b[0;34m(\u001b[0m\u001b[0;34m)\u001b[0m\u001b[0;34m\u001b[0m\u001b[0;34m\u001b[0m\u001b[0m\n\u001b[0m\u001b[1;32m    464\u001b[0m \u001b[0;34m\u001b[0m\u001b[0m\n\u001b[1;32m    465\u001b[0m         return self._serving_service_stub.GetOnlineFeatures(\n",
      "\u001b[0;32m/opt/notebooks/feast/sdk/python/feast/client.py\u001b[0m in \u001b[0;36m_connect_serving\u001b[0;34m(self, skip_if_connected)\u001b[0m\n\u001b[1;32m    202\u001b[0m         \u001b[0;32mexcept\u001b[0m \u001b[0mgrpc\u001b[0m\u001b[0;34m.\u001b[0m\u001b[0mFutureTimeoutError\u001b[0m\u001b[0;34m:\u001b[0m\u001b[0;34m\u001b[0m\u001b[0;34m\u001b[0m\u001b[0m\n\u001b[1;32m    203\u001b[0m             raise ConnectionError(\n\u001b[0;32m--> 204\u001b[0;31m                 \u001b[0;34mf\"Connection timed out while attempting to connect to Feast \"\u001b[0m\u001b[0;34m\u001b[0m\u001b[0;34m\u001b[0m\u001b[0m\n\u001b[0m\u001b[1;32m    205\u001b[0m                 \u001b[0;34mf\"Serving gRPC server {self.serving_url} \"\u001b[0m\u001b[0;34m\u001b[0m\u001b[0;34m\u001b[0m\u001b[0m\n\u001b[1;32m    206\u001b[0m             )\n",
      "\u001b[0;31mConnectionError\u001b[0m: Connection timed out while attempting to connect to Feast Serving gRPC server 10.202.112.114:6566 "
     ]
    }
   ],
   "source": [
    "online_features = online_client.get_online_features(\n",
    "    feature_ids=[\n",
    "        f\"customer_transactions:{customer_fs.version}:daily_transactions\",\n",
    "        f\"customer_transactions:{customer_fs.version}:total_transactions\",\n",
    "    ],\n",
    "    entity_rows=[\n",
    "        GetOnlineFeaturesRequest.EntityRow(\n",
    "            fields={\n",
    "                \"customer_id\": Value(\n",
    "                    int64_val=1001)\n",
    "            }\n",
    "        )\n",
    "    ],\n",
    ")"
   ]
  },
  {
   "cell_type": "code",
   "execution_count": null,
   "metadata": {},
   "outputs": [],
   "source": [
    "print(online_features)"
   ]
  }
 ],
 "metadata": {
  "kernelspec": {
   "display_name": "Python 3",
   "language": "python",
   "name": "python3"
  },
  "language_info": {
   "codemirror_mode": {
    "name": "ipython",
    "version": 3
   },
   "file_extension": ".py",
   "mimetype": "text/x-python",
   "name": "python",
   "nbconvert_exporter": "python",
   "pygments_lexer": "ipython3",
   "version": "3.7.4"
  },
  "pycharm": {
   "stem_cell": {
    "cell_type": "raw",
    "source": [],
    "metadata": {
     "collapsed": false
    }
   }
  }
 },
 "nbformat": 4,
 "nbformat_minor": 2
}