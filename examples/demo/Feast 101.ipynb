{
 "cells": [
  {
   "cell_type": "markdown",
   "metadata": {},
   "source": [
    "# Feast 101 - Driver Trips Example"
   ]
  },
  {
   "cell_type": "markdown",
   "metadata": {},
   "source": [
    "![Feast Data Flow](./images/data-flow.png)"
   ]
  },
  {
   "cell_type": "markdown",
   "metadata": {},
   "source": [
    "## Setup"
   ]
  },
  {
   "cell_type": "markdown",
   "metadata": {},
   "source": [
    "0. Install docker, kubernetes (minikube or Docker Desktop), helm\n",
    "1. git clone https://github.com/feast-dev/feast && cd feast\n",
    "2. kubectl create secret generic feast-postgresql --from-literal=postgresql-password=password\n",
    "3. kubectl create secret generic feast-gcp-service-account --from-file=credentials.json=/path/to/key.json\n",
    "4. helm install demo infra/charts/feast --values infra/charts/feast/values-demo.yaml\n",
    "5. kubectl get pods\n",
    "```\n",
    "NAME                                               READY   STATUS    RESTARTS   AGE\n",
    "demo-feast-core-7f75dc4d48-dzxhb                   1/1     Running   1          24m\n",
    "demo-feast-jupyter-66bd6bc54f-fjxvh                1/1     Running   0          24m\n",
    "demo-feast-online-serving-68d89cc996-xvxrj         1/1     Running   4          24m\n",
    "demo-postgresql-0                                  1/1     Running   0          24m\n",
    "demo-prometheus-statsd-exporter-799f847b6b-6472n   1/1     Running   0          24m\n",
    "demo-redis-master-0                                1/1     Running   0          24m\n",
    "demo-redis-slave-0                                 1/1     Running   0          24m\n",
    "demo-redis-slave-1                                 1/1     Running   0          22m\n",
    "```\n",
    "6. kubectl port-forward demo-feast-jupyter-66bd6bc54f-fjxvh 8888:8888"
   ]
  },
  {
   "cell_type": "markdown",
   "metadata": {},
   "source": [
    "## Features Registry (Feast Core)"
   ]
  },
  {
   "cell_type": "markdown",
   "metadata": {},
   "source": [
    "### Configuration"
   ]
  },
  {
   "cell_type": "code",
   "execution_count": null,
   "metadata": {},
   "outputs": [],
   "source": [
    "import os"
   ]
  },
  {
   "cell_type": "code",
   "execution_count": 54,
   "metadata": {},
   "outputs": [],
   "source": [
    "# os.environ['FEAST_SPARK_LAUNCHER'] = 'standalone'\n",
    "# os.environ['FEAST_SPARK_STANDALONE_MASTER'] = 'local[*]'\n",
    "# os.environ['FEAST_SPARK_HOME'] = os.path.dirname(pyspark.__file__)\n",
    "# os.environ['FEAST_SPARK_EXTRA_OPTIONS'] = '--jars https://storage.googleapis.com/hadoop-lib/gcs/gcs-connector-hadoop2-latest.jar'\\\n",
    "# ' --conf spark.hadoop.fs.gs.impl=com.google.cloud.hadoop.fs.gcs.GoogleHadoopFileSystem'"
   ]
  },
  {
   "cell_type": "code",
   "execution_count": null,
   "metadata": {},
   "outputs": [],
   "source": [
    "os.environ['FEAST_SPARK_STAGING_LOCATION'] = \"gs://feast-templocation-kf-feast/demo/staging/\"\n",
    "os.environ['FEAST_HISTORICAL_FEATURE_OUTPUT_LOCATION'] = \"gs://feast-templocation-kf-feast/demo/output\""
   ]
  },
  {
   "cell_type": "code",
   "execution_count": 4,
   "metadata": {},
   "outputs": [],
   "source": [
    "# os.environ['GOOGLE_APPLICATION_CREDENTIALS'] = \"/path/to/key\""
   ]
  },
  {
   "cell_type": "markdown",
   "metadata": {},
   "source": [
    "### Basic Imports and Feast Client initialization"
   ]
  },
  {
   "cell_type": "code",
   "execution_count": 71,
   "metadata": {},
   "outputs": [],
   "source": [
    "import os\n",
    "\n",
    "from feast import Client, Feature, Entity, ValueType, FeatureTable\n",
    "from feast.data_source import FileSource, KafkaSource\n",
    "from feast.data_format import ParquetFormat, AvroFormat"
   ]
  },
  {
   "cell_type": "code",
   "execution_count": 65,
   "metadata": {},
   "outputs": [],
   "source": [
    "CORE_HOST = os.getenv(\"DEMO_FEAST_CORE_SERVICE_HOST\", \"localhost\")\n",
    "SERVING_HOST = os.getenv(\"DEMO_FEAST_ONLINE_SERVING_SERVICE_HOST\", \"localhost\")\n",
    "REDIS_HOST = os.getenv('DEMO_REDIS_MASTER_SERVICE_HOST', 'localhost')\n",
    "\n",
    "client = Client(\n",
    "    core_url=f\"{CORE_HOST}:6565\",\n",
    "    serving_url=f\"{SERVING_HOST}:6566\",    \n",
    "    redis_host=REDIS_HOST\n",
    ")"
   ]
  },
  {
   "cell_type": "markdown",
   "metadata": {},
   "source": [
    "### Declare Features"
   ]
  },
  {
   "cell_type": "code",
   "execution_count": 66,
   "metadata": {},
   "outputs": [],
   "source": [
    "driver_id = Entity(name=\"driver_id\", description=\"Driver identifier\", value_type=ValueType.INT64)"
   ]
  },
  {
   "cell_type": "code",
   "execution_count": 68,
   "metadata": {},
   "outputs": [],
   "source": [
    "# Daily updated features \n",
    "acc_rate = Feature(\"acc_rate\", ValueType.FLOAT)\n",
    "conv_rate = Feature(\"conv_rate\", ValueType.FLOAT)\n",
    "avg_daily_trips = Feature(\"avg_daily_trips\", ValueType.INT32)\n",
    "\n",
    "# Real-time updated features\n",
    "trips_today = Feature(\"trips_today\", ValueType.INT32)"
   ]
  },
  {
   "cell_type": "markdown",
   "metadata": {},
   "source": [
    "```python\n",
    "FeatureTable(\n",
    "    name = \"driver_statistics\",\n",
    "    entities = [\"driver_id\"],\n",
    "    features = [\n",
    "        acc_rate,\n",
    "        conv_rate,\n",
    "        avg_daily_trips\n",
    "    ]\n",
    "    ...\n",
    ")\n",
    "```\n",
    "\n",
    "\n",
    "```python\n",
    "FeatureTable(\n",
    "    name = \"driver_trips\",\n",
    "    entities = [\"driver_id\"],\n",
    "    features = [\n",
    "        trips_today\n",
    "    ]\n",
    "    ...\n",
    ")\n",
    "\n",
    "```"
   ]
  },
  {
   "cell_type": "markdown",
   "metadata": {},
   "source": [
    "![Features Join](./images/features-join.png)"
   ]
  },
  {
   "cell_type": "markdown",
   "metadata": {},
   "source": [
    "```python\n",
    "FeatureTable(\n",
    "    ...,\n",
    "    batch_source=FileSource(  # Required\n",
    "        file_format=ParquetFormat(),\n",
    "        file_url=\"gs://feast-demo-data-lake\",\n",
    "        ...\n",
    "    ),\n",
    "    stream_source=KafkaSource(  # Optional\n",
    "        bootstrap_servers=\"...\",\n",
    "        topic=\"driver_trips\",\n",
    "        ...\n",
    "    )\n",
    "```"
   ]
  },
  {
   "cell_type": "code",
   "execution_count": null,
   "metadata": {},
   "outputs": [],
   "source": []
  },
  {
   "cell_type": "code",
   "execution_count": 69,
   "metadata": {},
   "outputs": [],
   "source": [
    "driver_statistics = FeatureTable(\n",
    "    name = \"driver_statistics\",\n",
    "    entities = [\"driver_id\"],\n",
    "    features = [\n",
    "        acc_rate,\n",
    "        conv_rate,\n",
    "        avg_daily_trips\n",
    "    ],\n",
    "    batch_source=FileSource(\n",
    "        event_timestamp_column=\"datetime\",\n",
    "        created_timestamp_column=\"created\",\n",
    "        file_format=ParquetFormat(),\n",
    "        file_url=\"gs://feast-demo-data-lake/driver_statistics\",\n",
    "        date_partition_column=\"date\"\n",
    "    )\n",
    ")"
   ]
  },
  {
   "cell_type": "code",
   "execution_count": 70,
   "metadata": {},
   "outputs": [],
   "source": [
    "driver_trips = FeatureTable(\n",
    "    name = \"driver_trips\",\n",
    "    entities = [\"driver_id\"],\n",
    "    features = [\n",
    "        trips_today\n",
    "    ],\n",
    "    batch_source=FileSource(\n",
    "        event_timestamp_column=\"datetime\",\n",
    "        created_timestamp_column=\"created\",\n",
    "        file_format=ParquetFormat(),\n",
    "        file_url=\"gs://feast-demo-data-lake/driver_trips\",\n",
    "        date_partition_column=\"date\"\n",
    "    )\n",
    ")"
   ]
  },
  {
   "cell_type": "markdown",
   "metadata": {},
   "source": [
    "### Registering entities and feature tables in Feast Core"
   ]
  },
  {
   "cell_type": "code",
   "execution_count": 11,
   "metadata": {},
   "outputs": [],
   "source": [
    "client.apply_entity(driver_id)\n",
    "client.apply_feature_table(driver_statistics)\n",
    "client.apply_feature_table(driver_trips)"
   ]
  },
  {
   "cell_type": "code",
   "execution_count": 12,
   "metadata": {},
   "outputs": [
    {
     "name": "stdout",
     "output_type": "stream",
     "text": [
      "spec:\n",
      "  name: driver_statistics\n",
      "  entities:\n",
      "  - driver_id\n",
      "  features:\n",
      "  - name: acc_rate\n",
      "    valueType: FLOAT\n",
      "  - name: conv_rate\n",
      "    valueType: FLOAT\n",
      "  - name: avg_daily_trips\n",
      "    valueType: INT32\n",
      "  batchSource:\n",
      "    type: BATCH_FILE\n",
      "    eventTimestampColumn: datetime\n",
      "    datePartitionColumn: date\n",
      "    createdTimestampColumn: created\n",
      "    fileOptions:\n",
      "      fileFormat:\n",
      "        parquetFormat: {}\n",
      "      fileUrl: gs://feast-demo-data-lake/driver_statistics\n",
      "meta:\n",
      "  createdTimestamp: '2020-10-20T06:52:16Z'\n",
      "\n",
      "spec:\n",
      "  name: driver_trips\n",
      "  entities:\n",
      "  - driver_id\n",
      "  features:\n",
      "  - name: trips_today\n",
      "    valueType: INT32\n",
      "  batchSource:\n",
      "    type: BATCH_FILE\n",
      "    eventTimestampColumn: datetime\n",
      "    datePartitionColumn: date\n",
      "    createdTimestampColumn: created\n",
      "    fileOptions:\n",
      "      fileFormat:\n",
      "        parquetFormat: {}\n",
      "      fileUrl: gs://feast-demo-data-lake/driver_trips\n",
      "meta:\n",
      "  createdTimestamp: '2020-10-20T14:01:44Z'\n",
      "\n"
     ]
    }
   ],
   "source": [
    "print(client.get_feature_table(\"driver_statistics\").to_yaml())\n",
    "print(client.get_feature_table(\"driver_trips\").to_yaml())"
   ]
  },
  {
   "cell_type": "markdown",
   "metadata": {},
   "source": [
    "### Populating batch source"
   ]
  },
  {
   "cell_type": "code",
   "execution_count": 13,
   "metadata": {},
   "outputs": [],
   "source": [
    "import pandas as pd\n",
    "import numpy as np\n",
    "from datetime import datetime"
   ]
  },
  {
   "cell_type": "code",
   "execution_count": 14,
   "metadata": {},
   "outputs": [],
   "source": [
    "def generate_entities():\n",
    "    return np.random.choice(999999, size=100, replace=False)"
   ]
  },
  {
   "cell_type": "code",
   "execution_count": 15,
   "metadata": {},
   "outputs": [],
   "source": [
    "def generate_trips(entities):\n",
    "    df = pd.DataFrame(columns=[\"driver_id\", \"trips_today\", \"datetime\", \"created\"])\n",
    "    df['driver_id'] = entities\n",
    "    df['trips_today'] = np.random.randint(0, 1000, size=100).astype(np.int32)\n",
    "    df['datetime'] = pd.to_datetime(\n",
    "            np.random.randint(\n",
    "                datetime(2020, 10, 10).timestamp(),\n",
    "                datetime(2020, 10, 20).timestamp(),\n",
    "                size=100),\n",
    "        unit=\"s\"\n",
    "    )\n",
    "    df['created'] = pd.to_datetime(datetime.now())\n",
    "    return df\n",
    "    "
   ]
  },
  {
   "cell_type": "code",
   "execution_count": 16,
   "metadata": {},
   "outputs": [],
   "source": [
    "def generate_stats(entities):\n",
    "    df = pd.DataFrame(columns=[\"driver_id\", \"conv_rate\", \"acc_rate\", \"avg_daily_trips\", \"datetime\", \"created\"])\n",
    "    df['driver_id'] = entities\n",
    "    df['conv_rate'] = np.random.random(size=100).astype(np.float32)\n",
    "    df['acc_rate'] = np.random.random(size=100).astype(np.float32)\n",
    "    df['avg_daily_trips'] = np.random.randint(0, 1000, size=100).astype(np.int32)\n",
    "    df['datetime'] = pd.to_datetime(\n",
    "            np.random.randint(\n",
    "                datetime(2020, 10, 10).timestamp(),\n",
    "                datetime(2020, 10, 20).timestamp(),\n",
    "                size=100),\n",
    "        unit=\"s\"\n",
    "    )\n",
    "    df['created'] = pd.to_datetime(datetime.now())\n",
    "    return df"
   ]
  },
  {
   "cell_type": "code",
   "execution_count": 17,
   "metadata": {},
   "outputs": [],
   "source": [
    "entities = generate_entities()\n",
    "stats_df = generate_stats(entities)\n",
    "trips_df = generate_trips(entities)"
   ]
  },
  {
   "cell_type": "code",
   "execution_count": 18,
   "metadata": {},
   "outputs": [
    {
     "data": {
      "text/plain": [
       "driver_id                   int64\n",
       "conv_rate                 float32\n",
       "acc_rate                  float32\n",
       "avg_daily_trips             int32\n",
       "datetime           datetime64[ns]\n",
       "created            datetime64[ns]\n",
       "dtype: object"
      ]
     },
     "execution_count": 18,
     "metadata": {},
     "output_type": "execute_result"
    }
   ],
   "source": [
    "stats_df.dtypes"
   ]
  },
  {
   "cell_type": "code",
   "execution_count": null,
   "metadata": {},
   "outputs": [],
   "source": [
    "#!gsutil -m rm -r 'gs://feast-demo-data-lake/driver_statistics/'\n",
    "#!gsutil -m rm -r 'gs://feast-demo-data-lake/driver_trips/'"
   ]
  },
  {
   "cell_type": "code",
   "execution_count": 27,
   "metadata": {},
   "outputs": [
    {
     "name": "stdout",
     "output_type": "stream",
     "text": [
      "Removing temporary file(s)...\n",
      "Data has been successfully ingested into FeatureTable batch source.\n",
      "Removing temporary file(s)...\n",
      "Data has been successfully ingested into FeatureTable batch source.\n"
     ]
    }
   ],
   "source": [
    "client.ingest(driver_statistics, stats_df)\n",
    "client.ingest(driver_trips, trips_df)"
   ]
  },
  {
   "cell_type": "code",
   "execution_count": 28,
   "metadata": {},
   "outputs": [
    {
     "name": "stdout",
     "output_type": "stream",
     "text": [
      "gs://feast-demo-data-lake/driver_statistics/date=2020-10-09/0db7e166e0c54d8ca24325df642ae07f.parquet\n",
      "gs://feast-demo-data-lake/driver_statistics/date=2020-10-10/567b6633d2e645a3af9e5db39d44f120.parquet\n",
      "gs://feast-demo-data-lake/driver_statistics/date=2020-10-11/fb78ef63c2b14ca093ddd7c700e9abef.parquet\n",
      "gs://feast-demo-data-lake/driver_statistics/date=2020-10-12/9a36a19e056c4b7b998b6221492e4c6c.parquet\n",
      "gs://feast-demo-data-lake/driver_statistics/date=2020-10-13/9c50b1c80cda40759da776bbafeef793.parquet\n",
      "gs://feast-demo-data-lake/driver_statistics/date=2020-10-14/e997f7bf9fc34bbca3198d91a4cbf2fe.parquet\n",
      "gs://feast-demo-data-lake/driver_statistics/date=2020-10-15/fca72f76472948e6a884632f99233845.parquet\n",
      "gs://feast-demo-data-lake/driver_statistics/date=2020-10-16/ce5634d71dd346a3963780a0b7bbac0a.parquet\n",
      "gs://feast-demo-data-lake/driver_statistics/date=2020-10-17/c3dffa56ad164058abb1c3775b22f8fd.parquet\n",
      "gs://feast-demo-data-lake/driver_statistics/date=2020-10-18/d1f8f71e05974fec9d649e5bae49f7e1.parquet\n",
      "gs://feast-demo-data-lake/driver_statistics/date=2020-10-19/7044934bdf1241f5aa090fdce535dc45.parquet\n",
      "gs://feast-demo-data-lake/driver_trips/date=2020-10-09/147b217e8a2648c1969e20aa795ed531.parquet\n",
      "gs://feast-demo-data-lake/driver_trips/date=2020-10-10/04257e2d12cb4804a24986c4ee91e2da.parquet\n",
      "gs://feast-demo-data-lake/driver_trips/date=2020-10-11/d5881c5c85714e459b95c21049daac57.parquet\n",
      "gs://feast-demo-data-lake/driver_trips/date=2020-10-12/681d05e35fd14ae494836e3ba9cb370a.parquet\n",
      "gs://feast-demo-data-lake/driver_trips/date=2020-10-13/fe315291b8114f3b9e93156d916fd4dc.parquet\n",
      "gs://feast-demo-data-lake/driver_trips/date=2020-10-14/40486361bf1842bcbc162d002d103543.parquet\n",
      "gs://feast-demo-data-lake/driver_trips/date=2020-10-15/8c98651a0a5444919ba6e50bbb726ec7.parquet\n",
      "gs://feast-demo-data-lake/driver_trips/date=2020-10-16/7152dfd71d004a07a84221d26ba39a73.parquet\n",
      "gs://feast-demo-data-lake/driver_trips/date=2020-10-17/8997c36d944040ea90699b00aeca5a24.parquet\n",
      "gs://feast-demo-data-lake/driver_trips/date=2020-10-18/0380ecff082e4175aa45c845c3ce96c2.parquet\n",
      "gs://feast-demo-data-lake/driver_trips/date=2020-10-19/b9546e52a2a74ac0a206cac34b789eec.parquet\n"
     ]
    }
   ],
   "source": [
    "!gsutil ls 'gs://feast-demo-data-lake/driver_statistics/**'\n",
    "!gsutil ls 'gs://feast-demo-data-lake/driver_trips/**'"
   ]
  },
  {
   "cell_type": "markdown",
   "metadata": {},
   "source": [
    "## Historical Retrieval For Training"
   ]
  },
  {
   "cell_type": "markdown",
   "metadata": {},
   "source": [
    "### Point-in-time correction"
   ]
  },
  {
   "cell_type": "markdown",
   "metadata": {},
   "source": [
    "![Point In Time](./images/pit-2.png)"
   ]
  },
  {
   "cell_type": "code",
   "execution_count": 58,
   "metadata": {},
   "outputs": [],
   "source": [
    "import gcsfs\n",
    "from pyarrow.parquet import ParquetDataset"
   ]
  },
  {
   "cell_type": "code",
   "execution_count": 59,
   "metadata": {},
   "outputs": [],
   "source": [
    "def read_remote_parquet(path):\n",
    "    fs = gcsfs.GCSFileSystem()\n",
    "    files = [\"gs://\" + path for path in gcsfs.GCSFileSystem().glob(path)]\n",
    "    ds = ParquetDataset(files, filesystem=fs)\n",
    "    return ds.read().to_pandas()"
   ]
  },
  {
   "cell_type": "code",
   "execution_count": 77,
   "metadata": {},
   "outputs": [
    {
     "data": {
      "text/html": [
       "<div>\n",
       "<style scoped>\n",
       "    .dataframe tbody tr th:only-of-type {\n",
       "        vertical-align: middle;\n",
       "    }\n",
       "\n",
       "    .dataframe tbody tr th {\n",
       "        vertical-align: top;\n",
       "    }\n",
       "\n",
       "    .dataframe thead th {\n",
       "        text-align: right;\n",
       "    }\n",
       "</style>\n",
       "<table border=\"1\" class=\"dataframe\">\n",
       "  <thead>\n",
       "    <tr style=\"text-align: right;\">\n",
       "      <th></th>\n",
       "      <th>driver_id</th>\n",
       "      <th>event_timestamp</th>\n",
       "    </tr>\n",
       "  </thead>\n",
       "  <tbody>\n",
       "    <tr>\n",
       "      <th>0</th>\n",
       "      <td>330184</td>\n",
       "      <td>2020-10-19 09:07:43</td>\n",
       "    </tr>\n",
       "    <tr>\n",
       "      <th>1</th>\n",
       "      <td>333896</td>\n",
       "      <td>2020-10-18 21:19:01</td>\n",
       "    </tr>\n",
       "    <tr>\n",
       "      <th>2</th>\n",
       "      <td>522128</td>\n",
       "      <td>2020-10-18 00:10:16</td>\n",
       "    </tr>\n",
       "    <tr>\n",
       "      <th>3</th>\n",
       "      <td>789025</td>\n",
       "      <td>2020-10-18 19:41:26</td>\n",
       "    </tr>\n",
       "    <tr>\n",
       "      <th>4</th>\n",
       "      <td>836898</td>\n",
       "      <td>2020-10-18 19:25:35</td>\n",
       "    </tr>\n",
       "    <tr>\n",
       "      <th>5</th>\n",
       "      <td>61720</td>\n",
       "      <td>2020-10-19 15:08:43</td>\n",
       "    </tr>\n",
       "    <tr>\n",
       "      <th>6</th>\n",
       "      <td>43893</td>\n",
       "      <td>2020-10-17 17:31:12</td>\n",
       "    </tr>\n",
       "    <tr>\n",
       "      <th>7</th>\n",
       "      <td>390750</td>\n",
       "      <td>2020-10-19 05:27:16</td>\n",
       "    </tr>\n",
       "    <tr>\n",
       "      <th>8</th>\n",
       "      <td>99001</td>\n",
       "      <td>2020-10-19 03:28:45</td>\n",
       "    </tr>\n",
       "    <tr>\n",
       "      <th>9</th>\n",
       "      <td>794802</td>\n",
       "      <td>2020-10-18 15:09:06</td>\n",
       "    </tr>\n",
       "  </tbody>\n",
       "</table>\n",
       "</div>"
      ],
      "text/plain": [
       "   driver_id     event_timestamp\n",
       "0     330184 2020-10-19 09:07:43\n",
       "1     333896 2020-10-18 21:19:01\n",
       "2     522128 2020-10-18 00:10:16\n",
       "3     789025 2020-10-18 19:41:26\n",
       "4     836898 2020-10-18 19:25:35\n",
       "5      61720 2020-10-19 15:08:43\n",
       "6      43893 2020-10-17 17:31:12\n",
       "7     390750 2020-10-19 05:27:16\n",
       "8      99001 2020-10-19 03:28:45\n",
       "9     794802 2020-10-18 15:09:06"
      ]
     },
     "execution_count": 77,
     "metadata": {},
     "output_type": "execute_result"
    }
   ],
   "source": [
    "entities_with_timestamp = pd.DataFrame(columns=['driver_id', 'event_timestamp'])\n",
    "entities_with_timestamp['driver_id'] = np.random.choice(entities, 10, replace=False)\n",
    "entities_with_timestamp['event_timestamp'] = pd.to_datetime(np.random.randint(\n",
    "    datetime(2020, 10, 18).timestamp(),\n",
    "    datetime(2020, 10, 20).timestamp(),\n",
    "    size=10), unit='s')\n",
    "entities_with_timestamp"
   ]
  },
  {
   "cell_type": "code",
   "execution_count": 81,
   "metadata": {},
   "outputs": [],
   "source": [
    "job = client.get_historical_features(\n",
    "    feature_refs=[\n",
    "        \"driver_statistics:avg_daily_trips\",\n",
    "        \"driver_statistics:conv_rate\",\n",
    "        \"driver_statistics:acc_rate\",\n",
    "        \"driver_trips:trips_today\"\n",
    "    ], \n",
    "    entity_source=entities_with_timestamp\n",
    ")"
   ]
  },
  {
   "cell_type": "code",
   "execution_count": 82,
   "metadata": {},
   "outputs": [
    {
     "data": {
      "text/plain": [
       "'gs://feast-templocation-kf-feast/demo/output'"
      ]
     },
     "execution_count": 82,
     "metadata": {},
     "output_type": "execute_result"
    }
   ],
   "source": [
    "job.get_output_file_uri()"
   ]
  },
  {
   "cell_type": "code",
   "execution_count": 83,
   "metadata": {},
   "outputs": [
    {
     "data": {
      "text/html": [
       "<div>\n",
       "<style scoped>\n",
       "    .dataframe tbody tr th:only-of-type {\n",
       "        vertical-align: middle;\n",
       "    }\n",
       "\n",
       "    .dataframe tbody tr th {\n",
       "        vertical-align: top;\n",
       "    }\n",
       "\n",
       "    .dataframe thead th {\n",
       "        text-align: right;\n",
       "    }\n",
       "</style>\n",
       "<table border=\"1\" class=\"dataframe\">\n",
       "  <thead>\n",
       "    <tr style=\"text-align: right;\">\n",
       "      <th></th>\n",
       "      <th>driver_id</th>\n",
       "      <th>event_timestamp</th>\n",
       "      <th>driver_statistics__acc_rate</th>\n",
       "      <th>driver_statistics__conv_rate</th>\n",
       "      <th>driver_statistics__avg_daily_trips</th>\n",
       "      <th>driver_trips__trips_today</th>\n",
       "    </tr>\n",
       "  </thead>\n",
       "  <tbody>\n",
       "    <tr>\n",
       "      <th>0</th>\n",
       "      <td>522128</td>\n",
       "      <td>2020-10-18 00:10:16</td>\n",
       "      <td>0.013687</td>\n",
       "      <td>0.162499</td>\n",
       "      <td>892</td>\n",
       "      <td>883</td>\n",
       "    </tr>\n",
       "    <tr>\n",
       "      <th>1</th>\n",
       "      <td>330184</td>\n",
       "      <td>2020-10-19 09:07:43</td>\n",
       "      <td>0.788955</td>\n",
       "      <td>0.836066</td>\n",
       "      <td>912</td>\n",
       "      <td>642</td>\n",
       "    </tr>\n",
       "    <tr>\n",
       "      <th>2</th>\n",
       "      <td>390750</td>\n",
       "      <td>2020-10-19 05:27:16</td>\n",
       "      <td>0.061170</td>\n",
       "      <td>0.715991</td>\n",
       "      <td>865</td>\n",
       "      <td>119</td>\n",
       "    </tr>\n",
       "    <tr>\n",
       "      <th>3</th>\n",
       "      <td>836898</td>\n",
       "      <td>2020-10-18 19:25:35</td>\n",
       "      <td>0.882056</td>\n",
       "      <td>0.061671</td>\n",
       "      <td>155</td>\n",
       "      <td>573</td>\n",
       "    </tr>\n",
       "    <tr>\n",
       "      <th>4</th>\n",
       "      <td>61720</td>\n",
       "      <td>2020-10-19 15:08:43</td>\n",
       "      <td>0.958883</td>\n",
       "      <td>0.400128</td>\n",
       "      <td>113</td>\n",
       "      <td>415</td>\n",
       "    </tr>\n",
       "    <tr>\n",
       "      <th>5</th>\n",
       "      <td>99001</td>\n",
       "      <td>2020-10-19 03:28:45</td>\n",
       "      <td>0.790018</td>\n",
       "      <td>0.855180</td>\n",
       "      <td>644</td>\n",
       "      <td>972</td>\n",
       "    </tr>\n",
       "    <tr>\n",
       "      <th>6</th>\n",
       "      <td>333896</td>\n",
       "      <td>2020-10-18 21:19:01</td>\n",
       "      <td>0.315527</td>\n",
       "      <td>0.015839</td>\n",
       "      <td>275</td>\n",
       "      <td>377</td>\n",
       "    </tr>\n",
       "    <tr>\n",
       "      <th>7</th>\n",
       "      <td>43893</td>\n",
       "      <td>2020-10-17 17:31:12</td>\n",
       "      <td>0.316299</td>\n",
       "      <td>0.044608</td>\n",
       "      <td>209</td>\n",
       "      <td>805</td>\n",
       "    </tr>\n",
       "    <tr>\n",
       "      <th>8</th>\n",
       "      <td>794802</td>\n",
       "      <td>2020-10-18 15:09:06</td>\n",
       "      <td>0.661202</td>\n",
       "      <td>0.471721</td>\n",
       "      <td>770</td>\n",
       "      <td>403</td>\n",
       "    </tr>\n",
       "    <tr>\n",
       "      <th>9</th>\n",
       "      <td>789025</td>\n",
       "      <td>2020-10-18 19:41:26</td>\n",
       "      <td>0.391900</td>\n",
       "      <td>0.729488</td>\n",
       "      <td>891</td>\n",
       "      <td>43</td>\n",
       "    </tr>\n",
       "  </tbody>\n",
       "</table>\n",
       "</div>"
      ],
      "text/plain": [
       "   driver_id     event_timestamp  driver_statistics__acc_rate  \\\n",
       "0     522128 2020-10-18 00:10:16                     0.013687   \n",
       "1     330184 2020-10-19 09:07:43                     0.788955   \n",
       "2     390750 2020-10-19 05:27:16                     0.061170   \n",
       "3     836898 2020-10-18 19:25:35                     0.882056   \n",
       "4      61720 2020-10-19 15:08:43                     0.958883   \n",
       "5      99001 2020-10-19 03:28:45                     0.790018   \n",
       "6     333896 2020-10-18 21:19:01                     0.315527   \n",
       "7      43893 2020-10-17 17:31:12                     0.316299   \n",
       "8     794802 2020-10-18 15:09:06                     0.661202   \n",
       "9     789025 2020-10-18 19:41:26                     0.391900   \n",
       "\n",
       "   driver_statistics__conv_rate  driver_statistics__avg_daily_trips  \\\n",
       "0                      0.162499                                 892   \n",
       "1                      0.836066                                 912   \n",
       "2                      0.715991                                 865   \n",
       "3                      0.061671                                 155   \n",
       "4                      0.400128                                 113   \n",
       "5                      0.855180                                 644   \n",
       "6                      0.015839                                 275   \n",
       "7                      0.044608                                 209   \n",
       "8                      0.471721                                 770   \n",
       "9                      0.729488                                 891   \n",
       "\n",
       "   driver_trips__trips_today  \n",
       "0                        883  \n",
       "1                        642  \n",
       "2                        119  \n",
       "3                        573  \n",
       "4                        415  \n",
       "5                        972  \n",
       "6                        377  \n",
       "7                        805  \n",
       "8                        403  \n",
       "9                         43  "
      ]
     },
     "execution_count": 83,
     "metadata": {},
     "output_type": "execute_result"
    }
   ],
   "source": [
    "read_remote_parquet(job.get_output_file_uri() + '/part-*')"
   ]
  },
  {
   "cell_type": "markdown",
   "metadata": {},
   "source": [
    "... Train your model here ..."
   ]
  },
  {
   "cell_type": "markdown",
   "metadata": {},
   "source": [
    "## Populating Online Storage with Batch Ingestion"
   ]
  },
  {
   "cell_type": "code",
   "execution_count": 62,
   "metadata": {},
   "outputs": [],
   "source": [
    "job = client.start_offline_to_online_ingestion(\n",
    "    driver_statistics,\n",
    "    datetime(2020, 10, 10),\n",
    "    datetime(2020, 10, 20)\n",
    ")"
   ]
  },
  {
   "cell_type": "code",
   "execution_count": 27,
   "metadata": {},
   "outputs": [
    {
     "data": {
      "text/plain": [
       "<SparkJobStatus.STARTING: 0>"
      ]
     },
     "execution_count": 27,
     "metadata": {},
     "output_type": "execute_result"
    }
   ],
   "source": [
    "job.get_status()"
   ]
  },
  {
   "cell_type": "code",
   "execution_count": 30,
   "metadata": {},
   "outputs": [
    {
     "data": {
      "text/plain": [
       "[{'driver_id': 416975},\n",
       " {'driver_id': 139796},\n",
       " {'driver_id': 667201},\n",
       " {'driver_id': 459097},\n",
       " {'driver_id': 549040},\n",
       " {'driver_id': 775871},\n",
       " {'driver_id': 232140},\n",
       " {'driver_id': 137533},\n",
       " {'driver_id': 353207},\n",
       " {'driver_id': 258085}]"
      ]
     },
     "execution_count": 30,
     "metadata": {},
     "output_type": "execute_result"
    }
   ],
   "source": [
    "entities_sample = np.random.choice(entities, 10, replace=False)\n",
    "entities_sample = [{\"driver_id\": e} for e in entities_sample]\n",
    "entities_sample"
   ]
  },
  {
   "cell_type": "code",
   "execution_count": 31,
   "metadata": {},
   "outputs": [],
   "source": [
    "features = client.get_online_features(\n",
    "    feature_refs=[\"driver_statistics:avg_daily_trips\"],\n",
    "    entity_rows=entities_sample).to_dict()"
   ]
  },
  {
   "cell_type": "code",
   "execution_count": 32,
   "metadata": {},
   "outputs": [
    {
     "data": {
      "text/html": [
       "<div>\n",
       "<style scoped>\n",
       "    .dataframe tbody tr th:only-of-type {\n",
       "        vertical-align: middle;\n",
       "    }\n",
       "\n",
       "    .dataframe tbody tr th {\n",
       "        vertical-align: top;\n",
       "    }\n",
       "\n",
       "    .dataframe thead th {\n",
       "        text-align: right;\n",
       "    }\n",
       "</style>\n",
       "<table border=\"1\" class=\"dataframe\">\n",
       "  <thead>\n",
       "    <tr style=\"text-align: right;\">\n",
       "      <th></th>\n",
       "      <th>driver_id</th>\n",
       "      <th>driver_statistics:avg_daily_trips</th>\n",
       "    </tr>\n",
       "  </thead>\n",
       "  <tbody>\n",
       "    <tr>\n",
       "      <th>0</th>\n",
       "      <td>416975</td>\n",
       "      <td>526</td>\n",
       "    </tr>\n",
       "    <tr>\n",
       "      <th>1</th>\n",
       "      <td>139796</td>\n",
       "      <td>329</td>\n",
       "    </tr>\n",
       "    <tr>\n",
       "      <th>2</th>\n",
       "      <td>667201</td>\n",
       "      <td>875</td>\n",
       "    </tr>\n",
       "    <tr>\n",
       "      <th>3</th>\n",
       "      <td>459097</td>\n",
       "      <td>260</td>\n",
       "    </tr>\n",
       "    <tr>\n",
       "      <th>4</th>\n",
       "      <td>549040</td>\n",
       "      <td>867</td>\n",
       "    </tr>\n",
       "    <tr>\n",
       "      <th>5</th>\n",
       "      <td>775871</td>\n",
       "      <td>122</td>\n",
       "    </tr>\n",
       "    <tr>\n",
       "      <th>6</th>\n",
       "      <td>232140</td>\n",
       "      <td>699</td>\n",
       "    </tr>\n",
       "    <tr>\n",
       "      <th>7</th>\n",
       "      <td>137533</td>\n",
       "      <td>756</td>\n",
       "    </tr>\n",
       "    <tr>\n",
       "      <th>8</th>\n",
       "      <td>353207</td>\n",
       "      <td>861</td>\n",
       "    </tr>\n",
       "    <tr>\n",
       "      <th>9</th>\n",
       "      <td>258085</td>\n",
       "      <td>441</td>\n",
       "    </tr>\n",
       "  </tbody>\n",
       "</table>\n",
       "</div>"
      ],
      "text/plain": [
       "   driver_id  driver_statistics:avg_daily_trips\n",
       "0     416975                                526\n",
       "1     139796                                329\n",
       "2     667201                                875\n",
       "3     459097                                260\n",
       "4     549040                                867\n",
       "5     775871                                122\n",
       "6     232140                                699\n",
       "7     137533                                756\n",
       "8     353207                                861\n",
       "9     258085                                441"
      ]
     },
     "execution_count": 32,
     "metadata": {},
     "output_type": "execute_result"
    }
   ],
   "source": [
    "pd.DataFrame(features)"
   ]
  },
  {
   "cell_type": "markdown",
   "metadata": {},
   "source": [
    ".. Run your production prediction here .."
   ]
  },
  {
   "cell_type": "markdown",
   "metadata": {},
   "source": [
    "## Ingestion from Streaming (real-time) Source"
   ]
  },
  {
   "cell_type": "code",
   "execution_count": 33,
   "metadata": {},
   "outputs": [],
   "source": [
    "import json\n",
    "import pytz\n",
    "import io\n",
    "import avro.schema\n",
    "from avro.io import BinaryEncoder, DatumWriter\n",
    "from confluent_kafka import Producer"
   ]
  },
  {
   "cell_type": "code",
   "execution_count": 34,
   "metadata": {},
   "outputs": [],
   "source": [
    "KAFKA_BROKER = \"kafka:9092\""
   ]
  },
  {
   "cell_type": "code",
   "execution_count": 35,
   "metadata": {},
   "outputs": [],
   "source": [
    "avro_schema_json = json.dumps({\n",
    "    \"type\": \"record\",\n",
    "    \"name\": \"DriverTrips\",\n",
    "    \"fields\": [\n",
    "        {\"name\": \"driver_id\", \"type\": \"long\"},\n",
    "        {\"name\": \"trips_today\", \"type\": \"int\"},\n",
    "        {\n",
    "            \"name\": \"datetime\",\n",
    "            \"type\": {\"type\": \"long\", \"logicalType\": \"timestamp-micros\"},\n",
    "        },\n",
    "    ],\n",
    "})"
   ]
  },
  {
   "cell_type": "code",
   "execution_count": 36,
   "metadata": {},
   "outputs": [],
   "source": [
    "driver_trips.stream_source = KafkaSource(\n",
    "    event_timestamp_column=\"datetime\",\n",
    "    created_timestamp_column=\"datetime\",\n",
    "    bootstrap_servers=KAFKA_BROKER,\n",
    "    topic=\"driver_trips\",\n",
    "    message_format=AvroFormat(avro_schema_json)\n",
    ")\n",
    "client.apply_feature_table(driver_trips)"
   ]
  },
  {
   "cell_type": "code",
   "execution_count": 37,
   "metadata": {},
   "outputs": [],
   "source": [
    "job = client.start_stream_to_online_ingestion(\n",
    "    driver_trips\n",
    ")"
   ]
  },
  {
   "cell_type": "code",
   "execution_count": 38,
   "metadata": {},
   "outputs": [],
   "source": [
    "def send_avro_record_to_kafka(topic, record):\n",
    "    value_schema = avro.schema.parse(avro_schema_json)\n",
    "    writer = DatumWriter(value_schema)\n",
    "    bytes_writer = io.BytesIO()\n",
    "    encoder = BinaryEncoder(bytes_writer)\n",
    "    writer.write(record, encoder)\n",
    "    \n",
    "    producer = Producer({\n",
    "        \"bootstrap.servers\": KAFKA_BROKER,\n",
    "    })\n",
    "    producer.produce(topic=topic, value=bytes_writer.getvalue())\n",
    "    producer.flush()"
   ]
  },
  {
   "cell_type": "code",
   "execution_count": null,
   "metadata": {},
   "outputs": [],
   "source": [
    "for record in trips_df.drop(columns=['created']).to_dict('record'):\n",
    "    record[\"datetime\"] = (\n",
    "        record[\"datetime\"].to_pydatetime().replace(tzinfo=pytz.utc)\n",
    "    )\n",
    "\n",
    "    send_avro_record_to_kafka(topic=\"driver_trips\", record=record)"
   ]
  },
  {
   "cell_type": "markdown",
   "metadata": {},
   "source": [
    "### Retrieving joined features from several feature tables"
   ]
  },
  {
   "cell_type": "code",
   "execution_count": null,
   "metadata": {},
   "outputs": [],
   "source": [
    "entities_sample = np.random.choice(entities, 10)\n",
    "entities_sample = [{\"driver_id\": e} for e in entities_sample]\n",
    "entities_sample"
   ]
  },
  {
   "cell_type": "code",
   "execution_count": null,
   "metadata": {},
   "outputs": [],
   "source": [
    "features = client.get_online_features(\n",
    "    feature_refs=[\"driver_statistics:avg_daily_trips\", \"driver_trips:trips_today\"],\n",
    "    entity_rows=entities_sample).to_dict()"
   ]
  },
  {
   "cell_type": "code",
   "execution_count": null,
   "metadata": {},
   "outputs": [],
   "source": [
    "pd.DataFrame(features)"
   ]
  },
  {
   "cell_type": "code",
   "execution_count": 40,
   "metadata": {},
   "outputs": [],
   "source": [
    "job.cancel()"
   ]
  },
  {
   "cell_type": "code",
   "execution_count": null,
   "metadata": {},
   "outputs": [],
   "source": []
  }
 ],
 "metadata": {
  "kernelspec": {
   "display_name": "Python 3",
   "language": "python",
   "name": "python3"
  },
  "language_info": {
   "codemirror_mode": {
    "name": "ipython",
    "version": 3
   },
   "file_extension": ".py",
   "mimetype": "text/x-python",
   "name": "python",
   "nbconvert_exporter": "python",
   "pygments_lexer": "ipython3",
   "version": "3.7.9"
  }
 },
 "nbformat": 4,
 "nbformat_minor": 4
}
