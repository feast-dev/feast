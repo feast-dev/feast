{
 "cells": [
  {
   "cell_type": "markdown",
   "id": "a52c80c4-1ea2-4d1e-b582-fac51081e76d",
   "metadata": {},
   "source": [
    "<center><img src=https://raw.githubusercontent.com/feast-dev/feast/master/docs/assets/feast_logo.png width=400/></center>"
   ]
  },
  {
   "cell_type": "markdown",
   "id": "576a8e30-fe4c-4eda-bc56-9edd7fde3385",
   "metadata": {},
   "source": [
    "# Credit Risk Data Preparation"
   ]
  },
  {
   "cell_type": "markdown",
   "id": "1f3fbd5a-1587-4b4e-9263-a57490657337",
   "metadata": {},
   "source": [
    "Predicting credit risk is an important task for financial institutions. If a bank can accurately determine the probability that a borrower will pay back a future loan, then they can make better decisions on loan terms and approvals. Getting credit risk right is critical to offering good financial services, and getting credit risk wrong could mean going out of business.\n",
    "\n",
    "AI models have played a central role in modern credit risk assessment systems. In this example, we develop a credit risk model to predict whether a future loan will be good or bad, given some context data (presumably supplied from the loan application). We use the modeling process to demonstrate how Feast can be used to facilitate the serving of data for training and inference use-cases.\n",
    "\n",
    "In this notebook, we prepare the data."
   ]
  },
  {
   "cell_type": "markdown",
   "id": "4d05715f-ddb8-42de-8f0c-212dcbad9e0e",
   "metadata": {},
   "source": [
    "### Setup"
   ]
  },
  {
   "cell_type": "markdown",
   "id": "6fba29f9-db1f-4ceb-b066-5b2df2c95d33",
   "metadata": {},
   "source": [
    "*The following code assumes that you have read the example README.md file, and that you have setup an environment where the code can be run. Please make sure you have addressed the prerequisite needs.*"
   ]
  },
  {
   "cell_type": "code",
   "execution_count": 1,
   "id": "8a897b19-6f82-4631-ae51-8a23182ff267",
   "metadata": {},
   "outputs": [],
   "source": [
    "# Import Python libraries\n",
    "import os\n",
    "import random\n",
    "import warnings\n",
    "import datetime as dt\n",
    "import pandas as pd\n",
    "import seaborn as sns\n",
    "from sklearn.datasets import fetch_openml\n",
    "from sklearn.model_selection import train_test_split"
   ]
  },
  {
   "cell_type": "code",
   "execution_count": 2,
   "id": "b944ed48-54b3-43fa-8373-ce788d7e71af",
   "metadata": {},
   "outputs": [],
   "source": [
    "# suppress warning messages for example flow (don't run if you want to see warnings)\n",
    "warnings.filterwarnings('ignore')"
   ]
  },
  {
   "cell_type": "markdown",
   "id": "cfb4dfd0-f583-4aa0-bd39-3ff9fbb80db0",
   "metadata": {},
   "source": [
    "### Pull the Data"
   ]
  },
  {
   "cell_type": "markdown",
   "id": "3c206dfc-d551-4002-ae63-ccbb981768fa",
   "metadata": {},
   "source": [
    "The data we will use to train the model is from the [OpenML](https://www.openml.org/) dataset [credit-g](https://www.openml.org/search?type=data&sort=runs&status=active&id=31), obtained from a 1994 German study. More details on the data can be found in the `DESC` attribute and `details` map (see below)."
   ]
  },
  {
   "cell_type": "code",
   "execution_count": 3,
   "id": "31a9e964-bdb3-4ae4-b2b4-64bbe0ab93a3",
   "metadata": {},
   "outputs": [],
   "source": [
    "data = fetch_openml(name=\"credit-g\", version=1, parser='auto')"
   ]
  },
  {
   "cell_type": "code",
   "execution_count": 4,
   "id": "58dbf7c2-f40b-4965-baac-6903a27ef622",
   "metadata": {},
   "outputs": [
    {
     "name": "stdout",
     "output_type": "stream",
     "text": [
      "**Author**: Dr. Hans Hofmann  \n",
      "**Source**: [UCI](https://archive.ics.uci.edu/ml/datasets/statlog+(german+credit+data)) - 1994    \n",
      "**Please cite**: [UCI](https://archive.ics.uci.edu/ml/citation_policy.html)\n",
      "\n",
      "**German Credit dataset**  \n",
      "This dataset classifies people described by a set of attributes as good or bad credit risks.\n",
      "\n",
      "This dataset comes with a cost matrix: \n",
      "``` \n",
      "Good  Bad (predicted)  \n",
      "Good   0    1   (actual)  \n",
      "Bad    5    0  \n",
      "```\n",
      "\n",
      "It is worse to class a customer as good when they are bad (5), than it is to class a customer as bad when they are good (1).  \n",
      "\n",
      "### Attribute description  \n",
      "\n",
      "1. Status of existing checking account, in Deutsche Mark.  \n",
      "2. Duration in months  \n",
      "3. Credit history (credits taken, paid back duly, delays, critical accounts)  \n",
      "4. Purpose of the credit (car, television,...)  \n",
      "5. Credit amount  \n",
      "6. Status of savings account/bonds, in Deutsche Mark.  \n",
      "7. Present employment, in number of years.  \n",
      "8. Installment rate in percentage of disposable income  \n",
      "9. Personal status (married, single,...) and sex  \n",
      "10. Other debtors / guarantors  \n",
      "11. Present residence since X years  \n",
      "12. Property (e.g. real estate)  \n",
      "13. Age in years  \n",
      "14. Other installment plans (banks, stores)  \n",
      "15. Housing (rent, own,...)  \n",
      "16. Number of existing credits at this bank  \n",
      "17. Job  \n",
      "18. Number of people being liable to provide maintenance for  \n",
      "19. Telephone (yes,no)  \n",
      "20. Foreign worker (yes,no)\n",
      "\n",
      "Downloaded from openml.org.\n"
     ]
    }
   ],
   "source": [
    "print(data.DESCR)"
   ]
  },
  {
   "cell_type": "code",
   "execution_count": 5,
   "id": "53de57ec-0fb6-4b51-9c27-696b059a1847",
   "metadata": {},
   "outputs": [
    {
     "name": "stdout",
     "output_type": "stream",
     "text": [
      "Original data url:   https://archive.ics.uci.edu/ml/datasets/statlog+(german+credit+data)\n",
      "Paper url:           https://dl.acm.org/doi/abs/10.1145/967900.968104\n"
     ]
    }
   ],
   "source": [
    "print(\"Original data url: \".ljust(20), data.details[\"original_data_url\"])\n",
    "print(\"Paper url: \".ljust(20), data.details[\"paper_url\"])"
   ]
  },
  {
   "cell_type": "markdown",
   "id": "2fbb001e-0cfe-497b-a626-59225026ced9",
   "metadata": {},
   "source": []
  },
  {
   "cell_type": "markdown",
   "id": "6b2c2514-484e-46cb-aedc-89a301266f44",
   "metadata": {},
   "source": [
    "### High-Level Data Inspection"
   ]
  },
  {
   "cell_type": "markdown",
   "id": "a76af306-caba-403d-a9cb-b5de12573075",
   "metadata": {},
   "source": [
    "Let's inspect the data to see high level details like data types and size. We also want to make sure there are no glaring issues (like a large number of null values)."
   ]
  },
  {
   "cell_type": "code",
   "execution_count": 6,
   "id": "20fb82c4-ed8d-42f8-b386-c7ebdc9bf786",
   "metadata": {},
   "outputs": [
    {
     "name": "stdout",
     "output_type": "stream",
     "text": [
      "<class 'pandas.core.frame.DataFrame'>\n",
      "RangeIndex: 1000 entries, 0 to 999\n",
      "Data columns (total 21 columns):\n",
      " #   Column                  Non-Null Count  Dtype   \n",
      "---  ------                  --------------  -----   \n",
      " 0   checking_status         1000 non-null   category\n",
      " 1   duration                1000 non-null   int64   \n",
      " 2   credit_history          1000 non-null   category\n",
      " 3   purpose                 1000 non-null   category\n",
      " 4   credit_amount           1000 non-null   int64   \n",
      " 5   savings_status          1000 non-null   category\n",
      " 6   employment              1000 non-null   category\n",
      " 7   installment_commitment  1000 non-null   int64   \n",
      " 8   personal_status         1000 non-null   category\n",
      " 9   other_parties           1000 non-null   category\n",
      " 10  residence_since         1000 non-null   int64   \n",
      " 11  property_magnitude      1000 non-null   category\n",
      " 12  age                     1000 non-null   int64   \n",
      " 13  other_payment_plans     1000 non-null   category\n",
      " 14  housing                 1000 non-null   category\n",
      " 15  existing_credits        1000 non-null   int64   \n",
      " 16  job                     1000 non-null   category\n",
      " 17  num_dependents          1000 non-null   int64   \n",
      " 18  own_telephone           1000 non-null   category\n",
      " 19  foreign_worker          1000 non-null   category\n",
      " 20  class                   1000 non-null   category\n",
      "dtypes: category(14), int64(7)\n",
      "memory usage: 71.0 KB\n"
     ]
    }
   ],
   "source": [
    "df = data.frame\n",
    "df.info()"
   ]
  },
  {
   "cell_type": "markdown",
   "id": "a384932a-40df-45f6-bfbc-a9cf6c708f1b",
   "metadata": {},
   "source": [
    "We see that there are 21 columns, each with 1000 non-null values. The first 20 columns are contextual fields with `Dtype` of `category` or `int64`, while the last field is actually the target variable, `class`, which we wish to predict. \n",
    "\n",
    "From the description (above), the `class` tells us whether a loan to a customer was \"good\" or \"bad\". We are anticipating that patterns in the contextual data, as well as their relationship to the class outcomes, can give insight into loan classification. In the following notebooks, we will build a loan classification model that seeks to encode these patterns and relationships in its weights, such that given a new loan application (context data), the model can predict whether the loan (if approved) will be good or bad in the future."
   ]
  },
  {
   "cell_type": "markdown",
   "id": "4c93544e-0011-4ab4-aeb0-31521f5f00dc",
   "metadata": {},
   "source": [
    "### Split the Data"
   ]
  },
  {
   "cell_type": "markdown",
   "id": "79ef26f7-8d0a-4f6a-8c4c-2d7812632787",
   "metadata": {},
   "source": [
    "Next, we split the data into a `train` and `test` set, which we will use to train and then test a model. The test set will allow us to more accurately assess the model's performance on data that it has not seen during the training phase."
   ]
  },
  {
   "cell_type": "code",
   "execution_count": 7,
   "id": "34ce513f-450b-45d7-8d44-dc7bc82b771c",
   "metadata": {},
   "outputs": [],
   "source": [
    "# Split data into train and test datasets\n",
    "# We use arbitrarily chosen random seed = 142 for some reproducibility\n",
    "SEED = 142\n",
    "train, test = train_test_split(df, test_size=0.2, random_state=SEED)"
   ]
  },
  {
   "cell_type": "markdown",
   "id": "f13c9984-1469-4c3f-93dc-79aa18c4e223",
   "metadata": {},
   "source": [
    "### Exploratory Data Analysis"
   ]
  },
  {
   "cell_type": "markdown",
   "id": "36cdd28f-280b-443f-a18b-af2f20dc4529",
   "metadata": {},
   "source": [
    "Before building a model, a data scientist needs to gain understanding of the data to make sure it meets important statistical assumptions, and to identify potential opportunities and issues. As the purpose of this particular example is to show Feast working with, we will take the view of a data scientist looking to build a quick baseline model to establish some low-end metrics.\n",
    "\n",
    "Note that this data set is very \"clean\", as it has already been prepared. In real-life, production credit risk data can be much more complex, and have many issues that need to be understood and addressed before modeling."
   ]
  },
  {
   "cell_type": "markdown",
   "id": "d4ab9d0d-5d1a-44ad-998c-285a116a6c8c",
   "metadata": {},
   "source": [
    "Let's look at counts for the target variable `class`, which tells us whether a (historical) loan was good or bad. We can see that there were many more good loans than bad, making the dataset imbalanced."
   ]
  },
  {
   "cell_type": "code",
   "execution_count": 8,
   "id": "d2dc9067-7ee2-4199-8375-d84ab915b2c8",
   "metadata": {},
   "outputs": [
    {
     "data": {
      "image/png": "[encoded data removed]",
      "text/plain": [
       "<Figure size 640x480 with 1 Axes>"
      ]
     },
     "metadata": {},
     "output_type": "display_data"
    }
   ],
   "source": [
    "# plot the target variable \"class\"\n",
    "p = sns.histplot(train[\"class\"], ec=\"w\", lw=4)\n",
    "_ = p.set_title(\"Bad vs. Good Loan Count\")\n",
    "_ = p.spines[\"top\"].set_visible(False)\n",
    "_ = p.spines[\"right\"].set_visible(False)"
   ]
  },
  {
   "cell_type": "markdown",
   "id": "d08e9891-9616-43e8-8bc4-713fb929baaa",
   "metadata": {},
   "source": [
    "Now, view the first few records of the context data."
   ]
  },
  {
   "cell_type": "code",
   "execution_count": 10,
   "id": "d490cb94-8b6f-4cf3-823b-8cd5ce27f784",
   "metadata": {},
   "outputs": [
    {
     "data": {
      "text/html": [
       "<div>\n",
       "<style scoped>\n",
       "    .dataframe tbody tr th:only-of-type {\n",
       "        vertical-align: middle;\n",
       "    }\n",
       "\n",
       "    .dataframe tbody tr th {\n",
       "        vertical-align: top;\n",
       "    }\n",
       "\n",
       "    .dataframe thead th {\n",
       "        text-align: right;\n",
       "    }\n",
       "</style>\n",
       "<table border=\"1\" class=\"dataframe\">\n",
       "  <thead>\n",
       "    <tr style=\"text-align: right;\">\n",
       "      <th></th>\n",
       "      <th>18</th>\n",
       "      <th>764</th>\n",
       "      <th>504</th>\n",
       "      <th>454</th>\n",
       "      <th>453</th>\n",
       "    </tr>\n",
       "  </thead>\n",
       "  <tbody>\n",
       "    <tr>\n",
       "      <th>checking_status</th>\n",
       "      <td>0&lt;=X&lt;200</td>\n",
       "      <td>no checking</td>\n",
       "      <td>&lt;0</td>\n",
       "      <td>&lt;0</td>\n",
       "      <td>no checking</td>\n",
       "    </tr>\n",
       "    <tr>\n",
       "      <th>duration</th>\n",
       "      <td>24</td>\n",
       "      <td>24</td>\n",
       "      <td>24</td>\n",
       "      <td>24</td>\n",
       "      <td>24</td>\n",
       "    </tr>\n",
       "    <tr>\n",
       "      <th>credit_history</th>\n",
       "      <td>existing paid</td>\n",
       "      <td>critical/other existing credit</td>\n",
       "      <td>existing paid</td>\n",
       "      <td>existing paid</td>\n",
       "      <td>existing paid</td>\n",
       "    </tr>\n",
       "    <tr>\n",
       "      <th>purpose</th>\n",
       "      <td>used car</td>\n",
       "      <td>new car</td>\n",
       "      <td>new car</td>\n",
       "      <td>new car</td>\n",
       "      <td>used car</td>\n",
       "    </tr>\n",
       "    <tr>\n",
       "      <th>credit_amount</th>\n",
       "      <td>12579</td>\n",
       "      <td>2463</td>\n",
       "      <td>1207</td>\n",
       "      <td>4817</td>\n",
       "      <td>2670</td>\n",
       "    </tr>\n",
       "    <tr>\n",
       "      <th>savings_status</th>\n",
       "      <td>&lt;100</td>\n",
       "      <td>100&lt;=X&lt;500</td>\n",
       "      <td>&lt;100</td>\n",
       "      <td>&lt;100</td>\n",
       "      <td>&lt;100</td>\n",
       "    </tr>\n",
       "    <tr>\n",
       "      <th>employment</th>\n",
       "      <td>&gt;=7</td>\n",
       "      <td>4&lt;=X&lt;7</td>\n",
       "      <td>&lt;1</td>\n",
       "      <td>4&lt;=X&lt;7</td>\n",
       "      <td>&gt;=7</td>\n",
       "    </tr>\n",
       "    <tr>\n",
       "      <th>installment_commitment</th>\n",
       "      <td>4</td>\n",
       "      <td>4</td>\n",
       "      <td>4</td>\n",
       "      <td>2</td>\n",
       "      <td>4</td>\n",
       "    </tr>\n",
       "    <tr>\n",
       "      <th>personal_status</th>\n",
       "      <td>female div/dep/mar</td>\n",
       "      <td>male mar/wid</td>\n",
       "      <td>female div/dep/mar</td>\n",
       "      <td>male single</td>\n",
       "      <td>male single</td>\n",
       "    </tr>\n",
       "    <tr>\n",
       "      <th>other_parties</th>\n",
       "      <td>none</td>\n",
       "      <td>none</td>\n",
       "      <td>none</td>\n",
       "      <td>co applicant</td>\n",
       "      <td>none</td>\n",
       "    </tr>\n",
       "    <tr>\n",
       "      <th>residence_since</th>\n",
       "      <td>2</td>\n",
       "      <td>3</td>\n",
       "      <td>4</td>\n",
       "      <td>3</td>\n",
       "      <td>4</td>\n",
       "    </tr>\n",
       "    <tr>\n",
       "      <th>property_magnitude</th>\n",
       "      <td>no known property</td>\n",
       "      <td>life insurance</td>\n",
       "      <td>life insurance</td>\n",
       "      <td>life insurance</td>\n",
       "      <td>car</td>\n",
       "    </tr>\n",
       "    <tr>\n",
       "      <th>age</th>\n",
       "      <td>44</td>\n",
       "      <td>27</td>\n",
       "      <td>24</td>\n",
       "      <td>31</td>\n",
       "      <td>35</td>\n",
       "    </tr>\n",
       "    <tr>\n",
       "      <th>other_payment_plans</th>\n",
       "      <td>none</td>\n",
       "      <td>none</td>\n",
       "      <td>none</td>\n",
       "      <td>none</td>\n",
       "      <td>none</td>\n",
       "    </tr>\n",
       "    <tr>\n",
       "      <th>housing</th>\n",
       "      <td>for free</td>\n",
       "      <td>own</td>\n",
       "      <td>rent</td>\n",
       "      <td>own</td>\n",
       "      <td>own</td>\n",
       "    </tr>\n",
       "    <tr>\n",
       "      <th>existing_credits</th>\n",
       "      <td>1</td>\n",
       "      <td>2</td>\n",
       "      <td>1</td>\n",
       "      <td>1</td>\n",
       "      <td>1</td>\n",
       "    </tr>\n",
       "    <tr>\n",
       "      <th>job</th>\n",
       "      <td>high qualif/self emp/mgmt</td>\n",
       "      <td>skilled</td>\n",
       "      <td>skilled</td>\n",
       "      <td>skilled</td>\n",
       "      <td>high qualif/self emp/mgmt</td>\n",
       "    </tr>\n",
       "    <tr>\n",
       "      <th>num_dependents</th>\n",
       "      <td>1</td>\n",
       "      <td>1</td>\n",
       "      <td>1</td>\n",
       "      <td>1</td>\n",
       "      <td>1</td>\n",
       "    </tr>\n",
       "    <tr>\n",
       "      <th>own_telephone</th>\n",
       "      <td>yes</td>\n",
       "      <td>yes</td>\n",
       "      <td>none</td>\n",
       "      <td>yes</td>\n",
       "      <td>yes</td>\n",
       "    </tr>\n",
       "    <tr>\n",
       "      <th>foreign_worker</th>\n",
       "      <td>yes</td>\n",
       "      <td>yes</td>\n",
       "      <td>yes</td>\n",
       "      <td>yes</td>\n",
       "      <td>yes</td>\n",
       "    </tr>\n",
       "    <tr>\n",
       "      <th>class</th>\n",
       "      <td>bad</td>\n",
       "      <td>good</td>\n",
       "      <td>bad</td>\n",
       "      <td>bad</td>\n",
       "      <td>good</td>\n",
       "    </tr>\n",
       "  </tbody>\n",
       "</table>\n",
       "</div>"
      ],
      "text/plain": [
       "                                              18   \\\n",
       "checking_status                          0<=X<200   \n",
       "duration                                       24   \n",
       "credit_history                      existing paid   \n",
       "purpose                                  used car   \n",
       "credit_amount                               12579   \n",
       "savings_status                               <100   \n",
       "employment                                    >=7   \n",
       "installment_commitment                          4   \n",
       "personal_status                female div/dep/mar   \n",
       "other_parties                                none   \n",
       "residence_since                                 2   \n",
       "property_magnitude              no known property   \n",
       "age                                            44   \n",
       "other_payment_plans                          none   \n",
       "housing                                  for free   \n",
       "existing_credits                                1   \n",
       "job                     high qualif/self emp/mgmt   \n",
       "num_dependents                                  1   \n",
       "own_telephone                                 yes   \n",
       "foreign_worker                                yes   \n",
       "class                                         bad   \n",
       "\n",
       "                                                   764                 504  \\\n",
       "checking_status                            no checking                  <0   \n",
       "duration                                            24                  24   \n",
       "credit_history          critical/other existing credit       existing paid   \n",
       "purpose                                        new car             new car   \n",
       "credit_amount                                     2463                1207   \n",
       "savings_status                              100<=X<500                <100   \n",
       "employment                                      4<=X<7                  <1   \n",
       "installment_commitment                               4                   4   \n",
       "personal_status                           male mar/wid  female div/dep/mar   \n",
       "other_parties                                     none                none   \n",
       "residence_since                                      3                   4   \n",
       "property_magnitude                      life insurance      life insurance   \n",
       "age                                                 27                  24   \n",
       "other_payment_plans                               none                none   \n",
       "housing                                            own                rent   \n",
       "existing_credits                                     2                   1   \n",
       "job                                            skilled             skilled   \n",
       "num_dependents                                       1                   1   \n",
       "own_telephone                                      yes                none   \n",
       "foreign_worker                                     yes                 yes   \n",
       "class                                             good                 bad   \n",
       "\n",
       "                                   454                        453  \n",
       "checking_status                     <0                no checking  \n",
       "duration                            24                         24  \n",
       "credit_history           existing paid              existing paid  \n",
       "purpose                        new car                   used car  \n",
       "credit_amount                     4817                       2670  \n",
       "savings_status                    <100                       <100  \n",
       "employment                      4<=X<7                        >=7  \n",
       "installment_commitment               2                          4  \n",
       "personal_status            male single                male single  \n",
       "other_parties             co applicant                       none  \n",
       "residence_since                      3                          4  \n",
       "property_magnitude      life insurance                        car  \n",
       "age                                 31                         35  \n",
       "other_payment_plans               none                       none  \n",
       "housing                            own                        own  \n",
       "existing_credits                     1                          1  \n",
       "job                            skilled  high qualif/self emp/mgmt  \n",
       "num_dependents                       1                          1  \n",
       "own_telephone                      yes                        yes  \n",
       "foreign_worker                     yes                        yes  \n",
       "class                              bad                       good  "
      ]
     },
     "execution_count": 10,
     "metadata": {},
     "output_type": "execute_result"
    }
   ],
   "source": [
    "# View first records in training data (transposed)\n",
    "train.head().T"
   ]
  },
  {
   "cell_type": "markdown",
   "id": "6825a3ed-2495-4ded-8f5f-1c64041ba5ac",
   "metadata": {},
   "source": [
    "### Feature Engineering"
   ]
  },
  {
   "cell_type": "markdown",
   "id": "5f50349a-4d7e-4c3d-b5a7-a6bb5a5718c3",
   "metadata": {},
   "source": [
    "Once data columns have been prepared so that they can be used to train an AI model, it is common to refer to them as \"features\". The process of preparing features is referred to as \"feature engineering\".\n",
    "\n",
    "As we are creating a rather simple baseline model, we will ignore the categorical columns in favor of simplicity, noting that we are potentially leaving a lot of useful information out. "
   ]
  },
  {
   "cell_type": "code",
   "execution_count": 11,
   "id": "6573e223-5bcf-4e1d-a807-e2dc5ceaf9e2",
   "metadata": {},
   "outputs": [],
   "source": [
    "# Filter on numeric feature columns\n",
    "train_num = train.loc[\n",
    "    :, \n",
    "    (train.dtypes == \"int64\")\n",
    "].astype(float)\n",
    "test_num = test.loc[\n",
    "    :,\n",
    "    (test.dtypes == \"int64\")\n",
    "].astype(float)"
   ]
  },
  {
   "cell_type": "markdown",
   "id": "0017646c-e112-4a7f-9704-5c9f547f08d0",
   "metadata": {},
   "source": [
    "We'll also split out the target (label) data, as this generally is recorded separately from the contextual data in real-life, and it is often worked with separately in AI modeling. In the process, let's also engineer `class` into a numerical column, from categorical (\"good\" | \"bad\") to float (1.0 | 0.0)."
   ]
  },
  {
   "cell_type": "code",
   "execution_count": 12,
   "id": "cb930659-f6d0-4448-ad1d-f3dbaf6933ef",
   "metadata": {},
   "outputs": [],
   "source": [
    "# Make \"class\" target variable numeric\n",
    "train_y = (train[\"class\"] == \"good\").astype(float)\n",
    "test_y = (test[\"class\"] == \"good\").astype(float)"
   ]
  },
  {
   "cell_type": "markdown",
   "id": "a451c9a3-0390-4d5a-b687-c59f52445eb1",
   "metadata": {},
   "source": [
    "### Additional Data Preparation (For Demonstrating Feast)"
   ]
  },
  {
   "cell_type": "markdown",
   "id": "dc4e7653-b118-44c3-ade3-f1b217b112fc",
   "metadata": {},
   "source": [
    "At this point, it's important to bring up that Feast was developed primarily to work with production data. Feast requires datasets to have IDs and timestamps, which it uses in joins.\n",
    "\n",
    "In a real loan application scenario, the application fields (in a database) would be associated with a timestamp, while the actual loan outcome (label) would be determined much later and recorded separately with a different timestamp.\n",
    "\n",
    "In order to demonstrate Feast capabilities, such as point-in-time joins, we will mock IDs and timestamps for this data. For IDs, we will use the original dataframe index values. For the timestamps, we will generate random values between \"Tue Sep 24 12:00:00 2024\" and \"Wed Oct  9 12:00:00 2024\".\n",
    "\n",
    "(Note that we do not set the seed here, so that we can get different timestamps in the range; therefore, you will see different timestamps when you run the following code.)"
   ]
  },
  {
   "cell_type": "code",
   "execution_count": 13,
   "id": "9d6ec4f6-9410-4858-a440-45dccaa0896b",
   "metadata": {},
   "outputs": [],
   "source": [
    "# Make index into \"ID\" column\n",
    "train_num = train_num.reset_index(names=[\"ID\"])\n",
    "test_num = test_num.reset_index(names=[\"ID\"])"
   ]
  },
  {
   "cell_type": "code",
   "execution_count": 14,
   "id": "055f2cb7-3abf-4d01-be60-e4c7b8ad1988",
   "metadata": {},
   "outputs": [],
   "source": [
    "# Add mock timestamps\n",
    "time_format = \"%a %b %d %H:%M:%S %Y\"\n",
    "date = dt.datetime.strptime(\"Wed Oct  9 12:00:00 2023\", time_format)\n",
    "end = int(date.timestamp())\n",
    "start = int((date - dt.timedelta(days=15)).timestamp())  # 'Tue Sep 24 12:00:00 2023'\n",
    "\n",
    "def make_tstamp(start, end):\n",
    "    dtime = dt.datetime.fromtimestamp(random.randint(start, end)).ctime()\n",
    "    return dtime\n",
    "    \n",
    "train_num[\"application_timestamp\"] = pd.to_datetime([\n",
    "    make_tstamp(start, end) for _ in range(0, len(train_num))\n",
    "])\n",
    "test_num[\"application_timestamp\"] = pd.to_datetime([\n",
    "    make_tstamp(start, end) for _ in range(0, len(test_num))\n",
    "])\n"
   ]
  },
  {
   "cell_type": "markdown",
   "id": "b821ab17-5cbc-4ee8-8a0d-dcc3318aceff",
   "metadata": {},
   "source": [
    "Let's check that the newly created \"ID\" and \"application_timestamp\" fields were created as expected."
   ]
  },
  {
   "cell_type": "code",
   "execution_count": 15,
   "id": "9516fc5c-7c25-4e60-acba-7400ab6bab42",
   "metadata": {},
   "outputs": [
    {
     "data": {
      "text/html": [
       "<div>\n",
       "<style scoped>\n",
       "    .dataframe tbody tr th:only-of-type {\n",
       "        vertical-align: middle;\n",
       "    }\n",
       "\n",
       "    .dataframe tbody tr th {\n",
       "        vertical-align: top;\n",
       "    }\n",
       "\n",
       "    .dataframe thead th {\n",
       "        text-align: right;\n",
       "    }\n",
       "</style>\n",
       "<table border=\"1\" class=\"dataframe\">\n",
       "  <thead>\n",
       "    <tr style=\"text-align: right;\">\n",
       "      <th></th>\n",
       "      <th>ID</th>\n",
       "      <th>duration</th>\n",
       "      <th>credit_amount</th>\n",
       "      <th>installment_commitment</th>\n",
       "      <th>residence_since</th>\n",
       "      <th>age</th>\n",
       "      <th>existing_credits</th>\n",
       "      <th>num_dependents</th>\n",
       "      <th>application_timestamp</th>\n",
       "    </tr>\n",
       "  </thead>\n",
       "  <tbody>\n",
       "    <tr>\n",
       "      <th>0</th>\n",
       "      <td>18</td>\n",
       "      <td>24.0</td>\n",
       "      <td>12579.0</td>\n",
       "      <td>4.0</td>\n",
       "      <td>2.0</td>\n",
       "      <td>44.0</td>\n",
       "      <td>1.0</td>\n",
       "      <td>1.0</td>\n",
       "      <td>2023-10-04 11:18:21</td>\n",
       "    </tr>\n",
       "    <tr>\n",
       "      <th>1</th>\n",
       "      <td>764</td>\n",
       "      <td>24.0</td>\n",
       "      <td>2463.0</td>\n",
       "      <td>4.0</td>\n",
       "      <td>3.0</td>\n",
       "      <td>27.0</td>\n",
       "      <td>2.0</td>\n",
       "      <td>1.0</td>\n",
       "      <td>2023-10-05 07:35:12</td>\n",
       "    </tr>\n",
       "    <tr>\n",
       "      <th>2</th>\n",
       "      <td>504</td>\n",
       "      <td>24.0</td>\n",
       "      <td>1207.0</td>\n",
       "      <td>4.0</td>\n",
       "      <td>4.0</td>\n",
       "      <td>24.0</td>\n",
       "      <td>1.0</td>\n",
       "      <td>1.0</td>\n",
       "      <td>2023-10-07 04:44:01</td>\n",
       "    </tr>\n",
       "    <tr>\n",
       "      <th>3</th>\n",
       "      <td>454</td>\n",
       "      <td>24.0</td>\n",
       "      <td>4817.0</td>\n",
       "      <td>2.0</td>\n",
       "      <td>3.0</td>\n",
       "      <td>31.0</td>\n",
       "      <td>1.0</td>\n",
       "      <td>1.0</td>\n",
       "      <td>2023-09-25 01:35:05</td>\n",
       "    </tr>\n",
       "    <tr>\n",
       "      <th>4</th>\n",
       "      <td>453</td>\n",
       "      <td>24.0</td>\n",
       "      <td>2670.0</td>\n",
       "      <td>4.0</td>\n",
       "      <td>4.0</td>\n",
       "      <td>35.0</td>\n",
       "      <td>1.0</td>\n",
       "      <td>1.0</td>\n",
       "      <td>2023-09-25 11:41:04</td>\n",
       "    </tr>\n",
       "  </tbody>\n",
       "</table>\n",
       "</div>"
      ],
      "text/plain": [
       "    ID  duration  credit_amount  installment_commitment  residence_since  \\\n",
       "0   18      24.0        12579.0                     4.0              2.0   \n",
       "1  764      24.0         2463.0                     4.0              3.0   \n",
       "2  504      24.0         1207.0                     4.0              4.0   \n",
       "3  454      24.0         4817.0                     2.0              3.0   \n",
       "4  453      24.0         2670.0                     4.0              4.0   \n",
       "\n",
       "    age  existing_credits  num_dependents application_timestamp  \n",
       "0  44.0               1.0             1.0   2023-10-04 11:18:21  \n",
       "1  27.0               2.0             1.0   2023-10-05 07:35:12  \n",
       "2  24.0               1.0             1.0   2023-10-07 04:44:01  \n",
       "3  31.0               1.0             1.0   2023-09-25 01:35:05  \n",
       "4  35.0               1.0             1.0   2023-09-25 11:41:04  "
      ]
     },
     "execution_count": 15,
     "metadata": {},
     "output_type": "execute_result"
    }
   ],
   "source": [
    "# Check numerical features (first few records)\n",
    "train_num.head()"
   ]
  },
  {
   "cell_type": "markdown",
   "id": "72b2105a-b459-4715-aa53-6fe69fc4a210",
   "metadata": {},
   "source": [
    "We'll also generate counterpart IDs and timestamps on the label data. To mimic real-life data, let's add a variable lag from the application timestamp of 30 to 90 days."
   ]
  },
  {
   "cell_type": "code",
   "execution_count": 16,
   "id": "b472ab83-fcc5-465d-a09e-17b7a06c590f",
   "metadata": {},
   "outputs": [],
   "source": [
    "# Cast as dataframe and create ID field\n",
    "train_y = train_y.to_frame().reset_index(names=[\"ID\"])\n",
    "test_y = test_y.to_frame().reset_index(names=[\"ID\"])"
   ]
  },
  {
   "cell_type": "code",
   "execution_count": 17,
   "id": "e214478b-ed9b-4354-ba6f-4117813c56c3",
   "metadata": {},
   "outputs": [],
   "source": [
    "# Add (lagged) label timestamps (30 to 90 days)\n",
    "def create_lagged_tstamp(tstamp):\n",
    "    lagged_tstamp = (\n",
    "        # dt.datetime.strptime(tstamp, time_format)\n",
    "        tstamp\n",
    "        + dt.timedelta(days=random.randint(30,90), hours=random.randint(0,24))\n",
    "    ).ctime()\n",
    "    return lagged_tstamp\n",
    "    \n",
    "train_y[\"outcome_timestamp\"] = pd.to_datetime(train_num.application_timestamp.apply(create_lagged_tstamp))\n",
    "test_y[\"outcome_timestamp\"] = pd.to_datetime(test_num.application_timestamp.apply(create_lagged_tstamp))"
   ]
  },
  {
   "cell_type": "code",
   "execution_count": 18,
   "id": "e265e27d-d7a7-43ed-b5ce-75eacb263f69",
   "metadata": {},
   "outputs": [
    {
     "data": {
      "text/html": [
       "<div>\n",
       "<style scoped>\n",
       "    .dataframe tbody tr th:only-of-type {\n",
       "        vertical-align: middle;\n",
       "    }\n",
       "\n",
       "    .dataframe tbody tr th {\n",
       "        vertical-align: top;\n",
       "    }\n",
       "\n",
       "    .dataframe thead th {\n",
       "        text-align: right;\n",
       "    }\n",
       "</style>\n",
       "<table border=\"1\" class=\"dataframe\">\n",
       "  <thead>\n",
       "    <tr style=\"text-align: right;\">\n",
       "      <th></th>\n",
       "      <th>ID</th>\n",
       "      <th>class</th>\n",
       "      <th>outcome_timestamp</th>\n",
       "    </tr>\n",
       "  </thead>\n",
       "  <tbody>\n",
       "    <tr>\n",
       "      <th>0</th>\n",
       "      <td>18</td>\n",
       "      <td>0.0</td>\n",
       "      <td>2023-11-15 16:18:21</td>\n",
       "    </tr>\n",
       "    <tr>\n",
       "      <th>1</th>\n",
       "      <td>764</td>\n",
       "      <td>1.0</td>\n",
       "      <td>2023-12-20 14:35:12</td>\n",
       "    </tr>\n",
       "    <tr>\n",
       "      <th>2</th>\n",
       "      <td>504</td>\n",
       "      <td>0.0</td>\n",
       "      <td>2023-12-12 04:44:01</td>\n",
       "    </tr>\n",
       "    <tr>\n",
       "      <th>3</th>\n",
       "      <td>454</td>\n",
       "      <td>0.0</td>\n",
       "      <td>2023-11-04 19:35:05</td>\n",
       "    </tr>\n",
       "    <tr>\n",
       "      <th>4</th>\n",
       "      <td>453</td>\n",
       "      <td>1.0</td>\n",
       "      <td>2023-10-29 09:41:04</td>\n",
       "    </tr>\n",
       "  </tbody>\n",
       "</table>\n",
       "</div>"
      ],
      "text/plain": [
       "    ID  class   outcome_timestamp\n",
       "0   18    0.0 2023-11-15 16:18:21\n",
       "1  764    1.0 2023-12-20 14:35:12\n",
       "2  504    0.0 2023-12-12 04:44:01\n",
       "3  454    0.0 2023-11-04 19:35:05\n",
       "4  453    1.0 2023-10-29 09:41:04"
      ]
     },
     "execution_count": 18,
     "metadata": {},
     "output_type": "execute_result"
    }
   ],
   "source": [
    "train_y.head()"
   ]
  },
  {
   "cell_type": "markdown",
   "id": "06406ee2-df4f-4dbb-bff0-a592a8e3da37",
   "metadata": {},
   "source": [
    "To verify that we have introduced a lag for the class outcome, check the `outcome timestamp` for the 5 records above against the `application_timestamp` further up. You should see a difference of 30 to 90 days."
   ]
  },
  {
   "cell_type": "markdown",
   "id": "e720ce24-e092-4fcd-be3e-68bb18f4d2a7",
   "metadata": {},
   "source": [
    "### Save Datasets"
   ]
  },
  {
   "cell_type": "markdown",
   "id": "5cae0578-8431-46c7-8d64-e52146f47d46",
   "metadata": {},
   "source": [
    "Now that we have our features and target data prepared, let's save it to local parquet files in the `data` directory (parquet is one of the file formats supported by Feast). \n",
    "\n",
    "One more step we will add is splitting the context data columnwise and saving it in two files. This step is contrived--we don't usually split data when we don't need to--but it will allow us to demonstrate later how Feast can easily join datasets (a common need in Data Science projects)."
   ]
  },
  {
   "cell_type": "code",
   "execution_count": 19,
   "id": "cebef56c-1f54-4d31-a545-75d708d38579",
   "metadata": {},
   "outputs": [],
   "source": [
    "# Create the data directory if it doesn't exist\n",
    "os.makedirs(\"Feature_Store/data\", exist_ok=True)\n",
    "\n",
    "# Split and save data\n",
    "a_cols = ['ID', 'duration', 'credit_amount', 'installment_commitment', 'application_timestamp']\n",
    "b_cols = ['ID', 'residence_since', 'age', 'existing_credits', 'num_dependents','application_timestamp']\n",
    "\n",
    "train_num[a_cols].to_parquet(\"Feature_Store/data/train_a.parquet\", engine=\"pyarrow\")\n",
    "train_num[b_cols].to_parquet(\"Feature_Store/data/train_b.parquet\", engine=\"pyarrow\")\n",
    "test_num.to_parquet(\"Feature_Store/data/test.parquet\", engine=\"pyarrow\")\n",
    "\n",
    "train_y.to_parquet(\"Feature_Store/data/train_y.parquet\", engine=\"pyarrow\")\n",
    "test_y.to_parquet(\"Feature_Store/data/test_y.parquet\", engine=\"pyarrow\")"
   ]
  },
  {
   "cell_type": "markdown",
   "id": "d8d5de9f-bd27-4e95-802c-b121743dd1b0",
   "metadata": {},
   "source": [
    "We have saved the following files to the `Feature_Store/data` directory: \n",
    "- `train_a.parquet` (training data, a columns)\n",
    "- `train_b.parquet` (training data, b columns)\n",
    "- `train_y.parquet` (training outcomes)\n",
    "- `test.parquet` (test data)\n",
    "- `test_y.parquet` (test outcomes)"
   ]
  },
  {
   "cell_type": "markdown",
   "id": "af6355dc-ff5b-4b3f-b0bd-3c4020ef67e8",
   "metadata": {},
   "source": [
    "With the feature data prepared, we are ready to setup and deploy the feature store. \n",
    "\n",
    "Continue with the [02_Credit_Risk_Model_Training.ipynb](02_Credit_Risk_Model_Training.ipynb) notebook."
   ]
  }
 ],
 "metadata": {
  "kernelspec": {
   "display_name": "Python 3 (ipykernel)",
   "language": "python",
   "name": "python3"
  },
  "language_info": {
   "codemirror_mode": {
    "name": "ipython",
    "version": 3
   },
   "file_extension": ".py",
   "mimetype": "text/x-python",
   "name": "python",
   "nbconvert_exporter": "python",
   "pygments_lexer": "ipython3",
   "version": "3.11.7"
  }
 },
 "nbformat": 4,
 "nbformat_minor": 5
}
