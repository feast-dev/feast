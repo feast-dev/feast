{
 "cells": [
  {
   "cell_type": "markdown",
   "metadata": {
    "id": "9_Y997DzvOMI"
   },
   "source": [
    "## Step 1: Install Feast\n",
    "\n",
    "Install Feast using pip:\n"
   ]
  },
  {
   "cell_type": "code",
   "execution_count": 1,
   "metadata": {
    "colab": {
     "base_uri": "https://localhost:8080/"
    },
    "id": "80FnswHOvJUd",
    "outputId": "c55e3f7b-e0d5-447e-d44e-3067a3c984ea"
   },
   "outputs": [
    {
     "name": "stdout",
     "output_type": "stream",
     "text": [
      "Note: you may need to restart the kernel to use updated packages.\n"
     ]
    }
   ],
   "source": [
    "pip install feast -U -q"
   ]
  },
  {
   "cell_type": "markdown",
   "metadata": {
    "id": "OZetvs5xx4GP"
   },
   "source": [
    "## Step 2: Create a feature repository\n",
    "\n",
    "A feature repository is a directory that contains the configuration of the feature store and individual features. This configuration is written as code (Python/YAML) and it's highly recommended that teams track it centrally using git. See [Feature Repository](https://docs.feast.dev/reference/feature-repository) for a detailed explanation of feature repositories.\n",
    "\n",
    "The easiest way to create a new feature repository to use the `feast init` command:"
   ]
  },
  {
   "cell_type": "code",
   "execution_count": 1,
   "metadata": {
    "colab": {
     "base_uri": "https://localhost:8080/"
    },
    "id": "IhirSkgUvYau",
    "outputId": "2f1d9a75-5d92-4571-8531-a876adc90265"
   },
   "outputs": [
    {
     "name": "stdout",
     "output_type": "stream",
     "text": [
      "\n",
      "Creating a new Feast repository in /home/willem/Projects/feast/examples/quickstart/feature_repo.\n",
      "\n"
     ]
    }
   ],
   "source": [
    "%%sh\n",
    "feast init feature_repo"
   ]
  },
  {
   "cell_type": "markdown",
   "metadata": {
    "id": "OdTASZPvyKCe"
   },
   "source": [
    "### Inspecting the feature repository\n",
    "\n",
    "Let's take a look at the repo itself. It breaks down into\n",
    "\n",
    "\n",
    "*   `data/` contains the raw parquet data\n",
    "*   `example.py` contains demo feature definitions\n",
    "*   `feature_store.yaml` contains a demo setup configuring where data sources are\n",
    "\n"
   ]
  },
  {
   "cell_type": "code",
   "execution_count": 2,
   "metadata": {
    "colab": {
     "base_uri": "https://localhost:8080/"
    },
    "id": "9jXuzt4ovzA3",
    "outputId": "180100db-6710-4d27-d1e8-0a7f40c5319e"
   },
   "outputs": [
    {
     "name": "stdout",
     "output_type": "stream",
     "text": [
      "/home/willem/Projects/feast/examples/quickstart/feature_repo\n"
     ]
    }
   ],
   "source": [
    "%cd feature_repo"
   ]
  },
  {
   "cell_type": "code",
   "execution_count": 3,
   "metadata": {},
   "outputs": [
    {
     "name": "stdout",
     "output_type": "stream",
     "text": [
      "data  example.py  feature_store.yaml\r\n"
     ]
    }
   ],
   "source": [
    "!ls"
   ]
  },
  {
   "cell_type": "markdown",
   "metadata": {
    "id": "rRL8-ubWzUFy"
   },
   "source": [
    "## Step 3: Applying and deploying feature definitions\n",
    "\n",
    "`feast apply` scans python files in the current directory for feature definitions and deploys infrastructure according to `feature_store.yaml`"
   ]
  },
  {
   "cell_type": "code",
   "execution_count": 4,
   "metadata": {
    "colab": {
     "base_uri": "https://localhost:8080/"
    },
    "id": "RYKCKKrcxYZG",
    "outputId": "40655dac-4683-4881-c888-b3bffea01e51"
   },
   "outputs": [
    {
     "name": "stdout",
     "output_type": "stream",
     "text": [
      "Registered entity driver_id\n",
      "Registered feature view driver_hourly_stats\n",
      "Deploying infrastructure for driver_hourly_stats\n"
     ]
    }
   ],
   "source": [
    "%%sh\n",
    "feast apply"
   ]
  },
  {
   "cell_type": "markdown",
   "metadata": {
    "id": "ngl7HCtmz3hG"
   },
   "source": [
    "## Step 4: Materialize features\n",
    "\n",
    "We now serialize these features since the beginning of time to prepare for model training / serving (note: `materialize-incremental` serializes all new features since the last `materialize` call)"
   ]
  },
  {
   "cell_type": "code",
   "execution_count": 5,
   "metadata": {
    "colab": {
     "base_uri": "https://localhost:8080/"
    },
    "id": "xQpFfcGFwU-S",
    "outputId": "efb9be88-3768-42a4-8d90-e3b3165d7fdc"
   },
   "outputs": [],
   "source": [
    "from datetime import datetime"
   ]
  },
  {
   "cell_type": "code",
   "execution_count": 6,
   "metadata": {},
   "outputs": [
    {
     "name": "stdout",
     "output_type": "stream",
     "text": [
      "Materializing \u001B[1m\u001B[32m1\u001B[0m feature views to \u001B[1m\u001B[32m2021-08-08 11:53:37-07:00\u001B[0m into the \u001B[1m\u001B[32msqlite\u001B[0m online store.\n",
      "\n",
      "\u001B[1m\u001B[32mdriver_hourly_stats\u001B[0m from \u001B[1m\u001B[32m2021-08-08 01:53:37-07:00\u001B[0m to \u001B[1m\u001B[32m2021-08-08 11:53:37-07:00\u001B[0m:\n",
      "100%|███████████████████████████████████████████████████████████████| 5/5 [00:00<00:00, 1033.44it/s]\n"
     ]
    }
   ],
   "source": [
    "!feast materialize-incremental {datetime.now().isoformat()}"
   ]
  },
  {
   "cell_type": "markdown",
   "metadata": {
    "id": "l7t12bhH4i9H"
   },
   "source": [
    "### Inspect materialized features\n",
    "\n",
    "Note that now there are `online_store.db` and `registry.db`, which store the materialized features and schema information, respectively"
   ]
  },
  {
   "cell_type": "code",
   "execution_count": 7,
   "metadata": {
    "colab": {
     "base_uri": "https://localhost:8080/"
    },
    "id": "aVIgSYhI4cvR",
    "outputId": "7558ffc4-a9cd-4d30-81ea-7398879c7bba"
   },
   "outputs": [
    {
     "name": "stdout",
     "output_type": "stream",
     "text": [
      "driver_stats.parquet  online_store.db  registry.db\r\n"
     ]
    }
   ],
   "source": [
    "!ls data"
   ]
  },
  {
   "cell_type": "markdown",
   "metadata": {
    "id": "hoo8GHb_2E0k"
   },
   "source": [
    "## Step 5: Fetch features for offline / online cases"
   ]
  },
  {
   "cell_type": "markdown",
   "metadata": {
    "id": "uV7rtRQgzyf0"
   },
   "source": [
    "### Read some historical data for model training\n",
    "\n",
    "We pass in the 'entities' aka the unique identifiers of the example features we want as well as the feature names we want to extract.\n",
    "\n",
    "Note that we include timestamps because want the features for the same driver at various timestamps to be used in a model"
   ]
  },
  {
   "cell_type": "code",
   "execution_count": 8,
   "metadata": {
    "colab": {
     "base_uri": "https://localhost:8080/"
    },
    "id": "C6Fzia7YwBzz",
    "outputId": "f3623388-8cbb-463f-d4f8-24d58587dd52"
   },
   "outputs": [
    {
     "name": "stdout",
     "output_type": "stream",
     "text": [
      "----- Feature schema -----\n",
      "\n",
      "<class 'pandas.core.frame.DataFrame'>\n",
      "Int64Index: 5 entries, 0 to 4\n",
      "Data columns (total 5 columns):\n",
      " #   Column           Non-Null Count  Dtype              \n",
      "---  ------           --------------  -----              \n",
      " 0   event_timestamp  5 non-null      datetime64[ns, UTC]\n",
      " 1   driver_id        5 non-null      int64              \n",
      " 2   conv_rate        5 non-null      float32            \n",
      " 3   acc_rate         5 non-null      float32            \n",
      " 4   avg_daily_trips  5 non-null      int32              \n",
      "dtypes: datetime64[ns, UTC](1), float32(2), int32(1), int64(1)\n",
      "memory usage: 180.0 bytes\n",
      "None\n",
      "\n",
      "----- Example features -----\n",
      "\n",
      "                   event_timestamp  driver_id  conv_rate  acc_rate  \\\n",
      "0 2021-08-08 14:59:19.238912+00:00       1005   0.730167  0.866257   \n",
      "1 2021-08-08 16:50:19.238910+00:00       1004   0.313922  0.563453   \n",
      "2 2021-08-08 17:41:19.238909+00:00       1003   0.630335  0.210270   \n",
      "3 2021-08-08 18:18:19.238907+00:00       1002   0.341512  0.827776   \n",
      "4 2021-08-08 18:43:19.238898+00:00       1001   0.574784  0.899539   \n",
      "\n",
      "   avg_daily_trips  \n",
      "0               14  \n",
      "1              193  \n",
      "2              828  \n",
      "3              492  \n",
      "4              979  \n"
     ]
    }
   ],
   "source": [
    "from datetime import datetime, timedelta\n",
    "import pandas as pd\n",
    "\n",
    "from feast import FeatureStore\n",
    "\n",
    "# The entity dataframe is the dataframe we want to enrich with feature values\n",
    "entity_df = pd.DataFrame.from_dict(\n",
    "    {\n",
    "        \"driver_id\": [1001, 1002, 1003, 1004, 1005],\n",
    "        \"event_timestamp\": [\n",
    "            datetime.now() - timedelta(minutes=11),\n",
    "            datetime.now() - timedelta(minutes=36),\n",
    "            datetime.now() - timedelta(minutes=73),\n",
    "            datetime.now() - timedelta(minutes=124),\n",
    "            datetime.now() - timedelta(minutes=235),\n",
    "        ],\n",
    "    }\n",
    ")\n",
    "\n",
    "store = FeatureStore(repo_path=\".\")\n",
    "\n",
    "training_df = store.get_historical_features(\n",
    "    entity_df=entity_df,\n",
    "    features=[\n",
    "        \"driver_hourly_stats:conv_rate\",\n",
    "        \"driver_hourly_stats:acc_rate\",\n",
    "        \"driver_hourly_stats:avg_daily_trips\",\n",
    "    ],\n",
    ").to_df()\n",
    "\n",
    "print(\"----- Feature schema -----\\n\")\n",
    "print(training_df.info())\n",
    "\n",
    "print()\n",
    "print(\"----- Example features -----\\n\")\n",
    "print(training_df.head())"
   ]
  },
  {
   "cell_type": "markdown",
   "metadata": {
    "id": "GNecKOaI0J2Z"
   },
   "source": [
    "### Read features at serving time\n"
   ]
  },
  {
   "cell_type": "markdown",
   "metadata": {},
   "source": [
    "We can also read the latest feature values from the online feature store using `get_online_features()`"
   ]
  },
  {
   "cell_type": "code",
   "execution_count": 9,
   "metadata": {
    "colab": {
     "base_uri": "https://localhost:8080/"
    },
    "id": "a-PUsUWUxoH9",
    "outputId": "aa5cb333-b7d4-4e32-9dc8-c994121acef8"
   },
   "outputs": [
    {
     "name": "stdout",
     "output_type": "stream",
     "text": [
      "{'acc_rate': [0.899538516998291, 0.8277764916419983],\n",
      " 'avg_daily_trips': [979, 492],\n",
      " 'conv_rate': [0.5747835636138916, 0.34151211380958557],\n",
      " 'driver_id': [1001, 1002]}\n"
     ]
    }
   ],
   "source": [
    "from pprint import pprint\n",
    "from feast import FeatureStore\n",
    "\n",
    "store = FeatureStore(repo_path=\".\")\n",
    "\n",
    "feature_vector = store.get_online_features(\n",
    "    features=[\n",
    "        \"driver_hourly_stats:conv_rate\",\n",
    "        \"driver_hourly_stats:acc_rate\",\n",
    "        \"driver_hourly_stats:avg_daily_trips\",\n",
    "    ],\n",
    "    entity_rows=[\n",
    "        {\"driver_id\": 1001},\n",
    "        {\"driver_id\": 1002},\n",
    "    ],\n",
    ").to_dict()\n",
    "\n",
    "pprint(feature_vector)"
   ]
  }
 ],
 "metadata": {
  "colab": {
   "collapsed_sections": [
    "ngl7HCtmz3hG"
   ],
   "include_colab_link": true,
   "name": "Feast Codelab",
   "provenance": [],
   "toc_visible": true
  },
  "kernelspec": {
   "display_name": "Python 3.8.2 64-bit",
   "language": "python",
   "name": "python38264bit8a4130d6bb294dfdaa1f6d018c5a2f85"
  },
  "language_info": {
   "codemirror_mode": {
    "name": "ipython",
    "version": 3
   },
   "file_extension": ".py",
   "mimetype": "text/x-python",
   "name": "python",
   "nbconvert_exporter": "python",
   "pygments_lexer": "ipython3",
   "version": "3.7.7"
  }
 },
 "nbformat": 4,
 "nbformat_minor": 1
}