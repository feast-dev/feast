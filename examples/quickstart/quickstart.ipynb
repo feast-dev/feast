{
  "cells": [
    {
      "cell_type": "markdown",
      "metadata": {
        "id": "p5JTeKfCVBZf"
      },
      "source": [
        "# Overview\n",
        "\n",
        "In this tutorial, we use feature stores to generate training data and power online model inference for a ride-sharing driver satisfaction prediction model. Feast addresses several common issues in this flow:\n",
        "1. **Training-serving skew and complex data joins:** Feature values often exist across multiple tables. Joining these datasets can be complicated, slow, and error-prone.\n",
        "  - Feast joins these tables with battle-tested logic that ensures *point-in-time* correctness so future feature values do not leak to models.\n",
        "  - Feast alerts users to offline / online skew with data quality monitoring. \n",
        "2. **Online feature availability:** At inference time, models often need access to features that aren't readily available and need to be precomputed from other datasources. \n",
        "  - Feast manages deployment to a variety of online stores (e.g. DynamoDB, Redis, Google Cloud Datastore) and ensures necessary features are consistently *available* and *freshly computed* at inference time.\n",
        "3. **Feature reusability and model versioning:** Different teams within an organization are often unable to reuse features across projects, resulting in duplicate feature creation logic. Models have data dependencies that need to be versioned, for example when running A/B tests on model versions.\n",
        "  - Feast enables discovery of and collaboration on previously used features and enables versioning of sets of features (via *feature services*). \n",
        "  - Feast enables feature transformation so users can re-use transformation logic across online / offline usecases and across models.\n",
        "\n",
        "We will:\n",
        "- Deploy a local feature store with a Parquet file offline store and Sqlite online store.\n",
        "- Build a training dataset using our time series features from our Parquet files.\n",
        "- Materialize feature values from the offline store into the online store in preparation for low latency serving.\n",
        "- Read the latest features from the online store for inference."
      ]
    },
    {
      "cell_type": "markdown",
      "metadata": {
        "id": "9_Y997DzvOMI"
      },
      "source": [
        "## Step 1: Install Feast\n",
        "\n",
        "Install Feast (and Pygments for pretty printing) using pip:\n"
      ]
    },
    {
      "cell_type": "code",
      "execution_count": null,
      "metadata": {
        "colab": {
          "base_uri": "https://localhost:8080/"
        },
        "id": "rXNMAAJKQPG5",
        "outputId": "94fb2260-4453-45c9-ba77-5b384823a621"
      },
      "outputs": [],
      "source": [
        "%%sh\n",
        "pip install feast -U -q\n",
        "pip install Pygments -q\n",
        "echo \"Please restart your runtime now (Runtime -> Restart runtime). This ensures that the correct dependencies are loaded.\""
      ]
    },
    {
      "cell_type": "markdown",
      "metadata": {
        "collapsed": false,
        "id": "sOX_LwjaAhKz"
      },
      "source": [
        "**Reminder**: Please restart your runtime after installing Feast (Runtime -> Restart runtime). This ensures that the correct dependencies are loaded.\n"
      ]
    },
    {
      "cell_type": "markdown",
      "metadata": {
        "id": "OZetvs5xx4GP"
      },
      "source": [
        "## Step 2: Create a feature repository\n",
        "\n",
        "A feature repository is a directory that contains the configuration of the feature store and individual features. This configuration is written as code (Python/YAML) and it's highly recommended that teams track it centrally using git. See [Feature Repository](https://docs.feast.dev/reference/feature-repository) for a detailed explanation of feature repositories.\n",
        "\n",
        "The easiest way to create a new feature repository to use the `feast init` command. This creates a scaffolding with initial demo data.\n",
        "\n",
        "### Demo data scenario \n",
        "- We have surveyed some drivers for how satisfied they are with their experience in a ride-sharing app. \n",
        "- We want to generate predictions for driver satisfaction for the rest of the users so we can reach out to potentially dissatisfied users."
      ]
    },
    {
      "cell_type": "code",
      "execution_count": 1,
      "metadata": {
        "colab": {
          "base_uri": "https://localhost:8080/"
        },
        "id": "IhirSkgUvYau",
        "outputId": "664367b9-6a2a-493d-fd78-6495fb459fa2"
      },
      "outputs": [
        {
          "name": "stdout",
          "output_type": "stream",
          "text": [
            "Feast is an open source project that collects anonymized error reporting and usage statistics. To opt out or learn more see https://docs.feast.dev/reference/usage\n",
            "/usr/local/lib/python3.7/dist-packages/scipy/fft/__init__.py:97: DeprecationWarning: The module numpy.dual is deprecated.  Instead of using dual, use the functions directly from numpy or scipy.\n",
            "  from numpy.dual import register_func\n",
            "/usr/local/lib/python3.7/dist-packages/scipy/sparse/sputils.py:17: DeprecationWarning: `np.typeDict` is a deprecated alias for `np.sctypeDict`.\n",
            "  supported_dtypes = [np.typeDict[x] for x in supported_dtypes]\n",
            "\n",
            "Creating a new Feast repository in \u001b[1m\u001b[32m/content/feature_repo\u001b[0m.\n",
            "\n"
          ]
        }
      ],
      "source": [
        "!feast init feature_repo"
      ]
    },
    {
      "cell_type": "markdown",
      "metadata": {
        "id": "OdTASZPvyKCe"
      },
      "source": [
        "### Step 2a: Inspecting the feature repository\n",
        "\n",
        "Let's take a look at the demo repo itself. It breaks down into\n",
        "\n",
        "\n",
        "*   `data/` contains raw demo parquet data\n",
        "*   `example.py` contains demo feature definitions\n",
        "*   `feature_store.yaml` contains a demo setup configuring where data sources are\n",
        "\n"
      ]
    },
    {
      "cell_type": "code",
      "execution_count": 2,
      "metadata": {
        "colab": {
          "base_uri": "https://localhost:8080/"
        },
        "id": "9jXuzt4ovzA3",
        "outputId": "9e326892-f0cc-4d86-d0b2-f33f822f83a9"
      },
      "outputs": [
        {
          "name": "stdout",
          "output_type": "stream",
          "text": [
            "/content/feature_repo\n",
            ".:\n",
            "data  example.py  feature_store.yaml  __init__.py\n",
            "\n",
            "./data:\n",
            "driver_stats.parquet\n"
          ]
        }
      ],
      "source": [
        "%cd feature_repo\n",
        "!ls -R"
      ]
    },
    {
      "cell_type": "markdown",
      "metadata": {
        "id": "MJk_WNsbeUP6"
      },
      "source": [
        "### Step 2b: Inspecting the project configuration\n",
        "Let's inspect the setup of the project in `feature_store.yaml`. The key line defining the overall architecture of the feature store is the **provider**. This defines where the raw data exists (for generating training data & feature values for serving), and where to materialize feature values to in the online store (for serving). \n",
        "\n",
        "Valid values for  `provider` in `feature_store.yaml` are:\n",
        "\n",
        "*   local: use file source with SQLite/Redis\n",
        "*   gcp: use BigQuery/Snowflake with Google Cloud Datastore/Redis\n",
        "*   aws: use Redshift/Snowflake with DynamoDB/Redis\n",
        "\n",
        "Note that there are many other sources Feast works with, including Azure, Hive, Trino, and PostgreSQL via community plugins. See https://docs.feast.dev/getting-started/third-party-integrations for all supported datasources.\n",
        "A custom setup can also be made by following https://docs.feast.dev/v/master/how-to-guides/creating-a-custom-provider"
      ]
    },
    {
      "cell_type": "code",
      "execution_count": 3,
      "metadata": {
        "colab": {
          "base_uri": "https://localhost:8080/"
        },
        "id": "9_YJ--uYdtcP",
        "outputId": "af56a8da-9ca2-4dd9-f73c-a60dd3e1613a"
      },
      "outputs": [
        {
          "name": "stdout",
          "output_type": "stream",
          "text": [
            "\u001b[94mproject\u001b[39;49;00m: feature_repo\n",
            "\u001b[94mregistry\u001b[39;49;00m: data/registry.db\n",
            "\u001b[94mprovider\u001b[39;49;00m: local\n",
            "\u001b[94monline_store\u001b[39;49;00m:\n",
            "    \u001b[94mpath\u001b[39;49;00m: data/online_store.db\n"
          ]
        }
      ],
      "source": [
        "!pygmentize feature_store.yaml"
      ]
    },
    {
      "cell_type": "markdown",
      "metadata": {
        "id": "FnMlk4zshywp"
      },
      "source": [
        "### Inspecting the raw data\n",
        "\n",
        "The raw feature data we have in this demo is stored in a local parquet file. The dataset captures hourly stats of a driver in a ride-sharing app."
      ]
    },
    {
      "cell_type": "code",
      "execution_count": 4,
      "metadata": {
        "colab": {
          "base_uri": "https://localhost:8080/",
          "height": 423
        },
        "id": "sIF2lO59dwzi",
        "outputId": "8931930b-b32f-43e1-d45b-de230489c7b8"
      },
      "outputs": [
        {
          "data": {
            "text/html": [
              "\n",
              "  <div id=\"df-5e62c34a-e5aa-4230-bfc9-685de97aaec5\">\n",
              "    <div class=\"colab-df-container\">\n",
              "      <div>\n",
              "<style scoped>\n",
              "    .dataframe tbody tr th:only-of-type {\n",
              "        vertical-align: middle;\n",
              "    }\n",
              "\n",
              "    .dataframe tbody tr th {\n",
              "        vertical-align: top;\n",
              "    }\n",
              "\n",
              "    .dataframe thead th {\n",
              "        text-align: right;\n",
              "    }\n",
              "</style>\n",
              "<table border=\"1\" class=\"dataframe\">\n",
              "  <thead>\n",
              "    <tr style=\"text-align: right;\">\n",
              "      <th></th>\n",
              "      <th>event_timestamp</th>\n",
              "      <th>driver_id</th>\n",
              "      <th>conv_rate</th>\n",
              "      <th>acc_rate</th>\n",
              "      <th>avg_daily_trips</th>\n",
              "      <th>created</th>\n",
              "    </tr>\n",
              "  </thead>\n",
              "  <tbody>\n",
              "    <tr>\n",
              "      <th>0</th>\n",
              "      <td>2022-05-30 19:00:00+00:00</td>\n",
              "      <td>1005</td>\n",
              "      <td>0.061944</td>\n",
              "      <td>0.517414</td>\n",
              "      <td>467</td>\n",
              "      <td>2022-06-14 19:00:52.584</td>\n",
              "    </tr>\n",
              "    <tr>\n",
              "      <th>1</th>\n",
              "      <td>2022-05-30 20:00:00+00:00</td>\n",
              "      <td>1005</td>\n",
              "      <td>0.265881</td>\n",
              "      <td>0.636260</td>\n",
              "      <td>709</td>\n",
              "      <td>2022-06-14 19:00:52.584</td>\n",
              "    </tr>\n",
              "    <tr>\n",
              "      <th>2</th>\n",
              "      <td>2022-05-30 21:00:00+00:00</td>\n",
              "      <td>1005</td>\n",
              "      <td>0.830253</td>\n",
              "      <td>0.461117</td>\n",
              "      <td>731</td>\n",
              "      <td>2022-06-14 19:00:52.584</td>\n",
              "    </tr>\n",
              "    <tr>\n",
              "      <th>3</th>\n",
              "      <td>2022-05-30 22:00:00+00:00</td>\n",
              "      <td>1005</td>\n",
              "      <td>0.828208</td>\n",
              "      <td>0.520325</td>\n",
              "      <td>919</td>\n",
              "      <td>2022-06-14 19:00:52.584</td>\n",
              "    </tr>\n",
              "    <tr>\n",
              "      <th>4</th>\n",
              "      <td>2022-05-30 23:00:00+00:00</td>\n",
              "      <td>1005</td>\n",
              "      <td>0.375715</td>\n",
              "      <td>0.084719</td>\n",
              "      <td>874</td>\n",
              "      <td>2022-06-14 19:00:52.584</td>\n",
              "    </tr>\n",
              "    <tr>\n",
              "      <th>...</th>\n",
              "      <td>...</td>\n",
              "      <td>...</td>\n",
              "      <td>...</td>\n",
              "      <td>...</td>\n",
              "      <td>...</td>\n",
              "      <td>...</td>\n",
              "    </tr>\n",
              "    <tr>\n",
              "      <th>1802</th>\n",
              "      <td>2022-06-14 17:00:00+00:00</td>\n",
              "      <td>1001</td>\n",
              "      <td>0.016256</td>\n",
              "      <td>0.293051</td>\n",
              "      <td>908</td>\n",
              "      <td>2022-06-14 19:00:52.584</td>\n",
              "    </tr>\n",
              "    <tr>\n",
              "      <th>1803</th>\n",
              "      <td>2022-06-14 18:00:00+00:00</td>\n",
              "      <td>1001</td>\n",
              "      <td>0.651631</td>\n",
              "      <td>0.855919</td>\n",
              "      <td>685</td>\n",
              "      <td>2022-06-14 19:00:52.584</td>\n",
              "    </tr>\n",
              "    <tr>\n",
              "      <th>1804</th>\n",
              "      <td>2021-04-12 07:00:00+00:00</td>\n",
              "      <td>1001</td>\n",
              "      <td>0.828805</td>\n",
              "      <td>0.375509</td>\n",
              "      <td>106</td>\n",
              "      <td>2022-06-14 19:00:52.584</td>\n",
              "    </tr>\n",
              "    <tr>\n",
              "      <th>1805</th>\n",
              "      <td>2022-06-07 07:00:00+00:00</td>\n",
              "      <td>1003</td>\n",
              "      <td>0.324065</td>\n",
              "      <td>0.970185</td>\n",
              "      <td>824</td>\n",
              "      <td>2022-06-14 19:00:52.584</td>\n",
              "    </tr>\n",
              "    <tr>\n",
              "      <th>1806</th>\n",
              "      <td>2022-06-07 07:00:00+00:00</td>\n",
              "      <td>1003</td>\n",
              "      <td>0.324065</td>\n",
              "      <td>0.970185</td>\n",
              "      <td>824</td>\n",
              "      <td>2022-06-14 19:00:52.584</td>\n",
              "    </tr>\n",
              "  </tbody>\n",
              "</table>\n",
              "<p>1807 rows × 6 columns</p>\n",
              "</div>\n",
              "      <button class=\"colab-df-convert\" onclick=\"convertToInteractive('df-5e62c34a-e5aa-4230-bfc9-685de97aaec5')\"\n",
              "              title=\"Convert this dataframe to an interactive table.\"\n",
              "              style=\"display:none;\">\n",
              "        \n",
              "  <svg xmlns=\"http://www.w3.org/2000/svg\" height=\"24px\"viewBox=\"0 0 24 24\"\n",
              "       width=\"24px\">\n",
              "    <path d=\"M0 0h24v24H0V0z\" fill=\"none\"/>\n",
              "    <path d=\"M18.56 5.44l.94 2.06.94-2.06 2.06-.94-2.06-.94-.94-2.06-.94 2.06-2.06.94zm-11 1L8.5 8.5l.94-2.06 2.06-.94-2.06-.94L8.5 2.5l-.94 2.06-2.06.94zm10 10l.94 2.06.94-2.06 2.06-.94-2.06-.94-.94-2.06-.94 2.06-2.06.94z\"/><path d=\"M17.41 7.96l-1.37-1.37c-.4-.4-.92-.59-1.43-.59-.52 0-1.04.2-1.43.59L10.3 9.45l-7.72 7.72c-.78.78-.78 2.05 0 2.83L4 21.41c.39.39.9.59 1.41.59.51 0 1.02-.2 1.41-.59l7.78-7.78 2.81-2.81c.8-.78.8-2.07 0-2.86zM5.41 20L4 18.59l7.72-7.72 1.47 1.35L5.41 20z\"/>\n",
              "  </svg>\n",
              "      </button>\n",
              "      \n",
              "  <style>\n",
              "    .colab-df-container {\n",
              "      display:flex;\n",
              "      flex-wrap:wrap;\n",
              "      gap: 12px;\n",
              "    }\n",
              "\n",
              "    .colab-df-convert {\n",
              "      background-color: #E8F0FE;\n",
              "      border: none;\n",
              "      border-radius: 50%;\n",
              "      cursor: pointer;\n",
              "      display: none;\n",
              "      fill: #1967D2;\n",
              "      height: 32px;\n",
              "      padding: 0 0 0 0;\n",
              "      width: 32px;\n",
              "    }\n",
              "\n",
              "    .colab-df-convert:hover {\n",
              "      background-color: #E2EBFA;\n",
              "      box-shadow: 0px 1px 2px rgba(60, 64, 67, 0.3), 0px 1px 3px 1px rgba(60, 64, 67, 0.15);\n",
              "      fill: #174EA6;\n",
              "    }\n",
              "\n",
              "    [theme=dark] .colab-df-convert {\n",
              "      background-color: #3B4455;\n",
              "      fill: #D2E3FC;\n",
              "    }\n",
              "\n",
              "    [theme=dark] .colab-df-convert:hover {\n",
              "      background-color: #434B5C;\n",
              "      box-shadow: 0px 1px 3px 1px rgba(0, 0, 0, 0.15);\n",
              "      filter: drop-shadow(0px 1px 2px rgba(0, 0, 0, 0.3));\n",
              "      fill: #FFFFFF;\n",
              "    }\n",
              "  </style>\n",
              "\n",
              "      <script>\n",
              "        const buttonEl =\n",
              "          document.querySelector('#df-5e62c34a-e5aa-4230-bfc9-685de97aaec5 button.colab-df-convert');\n",
              "        buttonEl.style.display =\n",
              "          google.colab.kernel.accessAllowed ? 'block' : 'none';\n",
              "\n",
              "        async function convertToInteractive(key) {\n",
              "          const element = document.querySelector('#df-5e62c34a-e5aa-4230-bfc9-685de97aaec5');\n",
              "          const dataTable =\n",
              "            await google.colab.kernel.invokeFunction('convertToInteractive',\n",
              "                                                     [key], {});\n",
              "          if (!dataTable) return;\n",
              "\n",
              "          const docLinkHtml = 'Like what you see? Visit the ' +\n",
              "            '<a target=\"_blank\" href=https://colab.research.google.com/notebooks/data_table.ipynb>data table notebook</a>'\n",
              "            + ' to learn more about interactive tables.';\n",
              "          element.innerHTML = '';\n",
              "          dataTable['output_type'] = 'display_data';\n",
              "          await google.colab.output.renderOutput(dataTable, element);\n",
              "          const docLink = document.createElement('div');\n",
              "          docLink.innerHTML = docLinkHtml;\n",
              "          element.appendChild(docLink);\n",
              "        }\n",
              "      </script>\n",
              "    </div>\n",
              "  </div>\n",
              "  "
            ],
            "text/plain": [
              "               event_timestamp  driver_id  conv_rate  acc_rate  \\\n",
              "0    2022-05-30 19:00:00+00:00       1005   0.061944  0.517414   \n",
              "1    2022-05-30 20:00:00+00:00       1005   0.265881  0.636260   \n",
              "2    2022-05-30 21:00:00+00:00       1005   0.830253  0.461117   \n",
              "3    2022-05-30 22:00:00+00:00       1005   0.828208  0.520325   \n",
              "4    2022-05-30 23:00:00+00:00       1005   0.375715  0.084719   \n",
              "...                        ...        ...        ...       ...   \n",
              "1802 2022-06-14 17:00:00+00:00       1001   0.016256  0.293051   \n",
              "1803 2022-06-14 18:00:00+00:00       1001   0.651631  0.855919   \n",
              "1804 2021-04-12 07:00:00+00:00       1001   0.828805  0.375509   \n",
              "1805 2022-06-07 07:00:00+00:00       1003   0.324065  0.970185   \n",
              "1806 2022-06-07 07:00:00+00:00       1003   0.324065  0.970185   \n",
              "\n",
              "      avg_daily_trips                 created  \n",
              "0                 467 2022-06-14 19:00:52.584  \n",
              "1                 709 2022-06-14 19:00:52.584  \n",
              "2                 731 2022-06-14 19:00:52.584  \n",
              "3                 919 2022-06-14 19:00:52.584  \n",
              "4                 874 2022-06-14 19:00:52.584  \n",
              "...               ...                     ...  \n",
              "1802              908 2022-06-14 19:00:52.584  \n",
              "1803              685 2022-06-14 19:00:52.584  \n",
              "1804              106 2022-06-14 19:00:52.584  \n",
              "1805              824 2022-06-14 19:00:52.584  \n",
              "1806              824 2022-06-14 19:00:52.584  \n",
              "\n",
              "[1807 rows x 6 columns]"
            ]
          },
          "execution_count": 4,
          "metadata": {},
          "output_type": "execute_result"
        }
      ],
      "source": [
        "import pandas as pd\n",
        "\n",
        "pd.read_parquet(\"data/driver_stats.parquet\")"
      ]
    },
    {
      "cell_type": "markdown",
      "metadata": {
        "id": "rRL8-ubWzUFy"
      },
      "source": [
        "## Step 3: Register feature definitions and deploy your feature store\n",
        "\n",
        "`feast apply` scans python files in the current directory for feature/entity definitions and deploys infrastructure according to `feature_store.yaml`.\n",
        "\n"
      ]
    },
    {
      "cell_type": "markdown",
      "metadata": {
        "id": "5NS4INL5n7ze"
      },
      "source": [
        "### Step 3a: Inspecting feature definitions\n",
        "Let's inspect what `example.py` looks like (the only python file in the repo):"
      ]
    },
    {
      "cell_type": "code",
      "execution_count": 5,
      "metadata": {
        "colab": {
          "base_uri": "https://localhost:8080/"
        },
        "id": "DPqXCoNpL0SX",
        "outputId": "a31a40c4-e60a-4f62-ae1c-227ce0aedea4"
      },
      "outputs": [
        {
          "name": "stdout",
          "output_type": "stream",
          "text": [
            "\u001b[38;2;64;128;128;03m# This is an example feature definition file\u001b[39;00m\n",
            "\n",
            "\u001b[38;2;0;128;0;01mfrom\u001b[39;00m \u001b[38;2;0;0;255;01mdatetime\u001b[39;00m \u001b[38;2;0;128;0;01mimport\u001b[39;00m timedelta\n",
            "\n",
            "\u001b[38;2;0;128;0;01mfrom\u001b[39;00m \u001b[38;2;0;0;255;01mfeast\u001b[39;00m \u001b[38;2;0;128;0;01mimport\u001b[39;00m Entity, FeatureService, FeatureView, Field, FileSource, ValueType\n",
            "\u001b[38;2;0;128;0;01mfrom\u001b[39;00m \u001b[38;2;0;0;255;01mfeast\u001b[39;00m\u001b[38;2;0;0;255;01m.\u001b[39;00m\u001b[38;2;0;0;255;01mtypes\u001b[39;00m \u001b[38;2;0;128;0;01mimport\u001b[39;00m Float32, Int64\n",
            "\n",
            "\u001b[38;2;64;128;128;03m# Read data from parquet files. Parquet is convenient for local development mode. For\u001b[39;00m\n",
            "\u001b[38;2;64;128;128;03m# production, you can use your favorite DWH, such as BigQuery. See Feast documentation\u001b[39;00m\n",
            "\u001b[38;2;64;128;128;03m# for more info.\u001b[39;00m\n",
            "driver_hourly_stats \u001b[38;2;102;102;102m=\u001b[39m FileSource(\n",
            "    path\u001b[38;2;102;102;102m=\u001b[39m\u001b[38;2;186;33;33m\"\u001b[39m\u001b[38;2;186;33;33m/content/feature_repo/data/driver_stats.parquet\u001b[39m\u001b[38;2;186;33;33m\"\u001b[39m,\n",
            "    timestamp_field\u001b[38;2;102;102;102m=\u001b[39m\u001b[38;2;186;33;33m\"\u001b[39m\u001b[38;2;186;33;33mevent_timestamp\u001b[39m\u001b[38;2;186;33;33m\"\u001b[39m,\n",
            "    created_timestamp_column\u001b[38;2;102;102;102m=\u001b[39m\u001b[38;2;186;33;33m\"\u001b[39m\u001b[38;2;186;33;33mcreated\u001b[39m\u001b[38;2;186;33;33m\"\u001b[39m,\n",
            ")\n",
            "\n",
            "\u001b[38;2;64;128;128;03m# Define an entity for the driver. You can think of entity as a primary key used to\u001b[39;00m\n",
            "\u001b[38;2;64;128;128;03m# fetch features.\u001b[39;00m\n",
            "driver \u001b[38;2;102;102;102m=\u001b[39m Entity(name\u001b[38;2;102;102;102m=\u001b[39m\u001b[38;2;186;33;33m\"\u001b[39m\u001b[38;2;186;33;33mdriver\u001b[39m\u001b[38;2;186;33;33m\"\u001b[39m, join_keys\u001b[38;2;102;102;102m=\u001b[39m[\u001b[38;2;186;33;33m\"\u001b[39m\u001b[38;2;186;33;33mdriver_id\u001b[39m\u001b[38;2;186;33;33m\"\u001b[39m], value_type\u001b[38;2;102;102;102m=\u001b[39mValueType\u001b[38;2;102;102;102m.\u001b[39mINT64,)\n",
            "\n",
            "\u001b[38;2;64;128;128;03m# Our parquet files contain sample data that includes a driver_id column, timestamps and\u001b[39;00m\n",
            "\u001b[38;2;64;128;128;03m# three feature column. Here we define a Feature View that will allow us to serve this\u001b[39;00m\n",
            "\u001b[38;2;64;128;128;03m# data to our model online.\u001b[39;00m\n",
            "driver_hourly_stats_view \u001b[38;2;102;102;102m=\u001b[39m FeatureView(\n",
            "    name\u001b[38;2;102;102;102m=\u001b[39m\u001b[38;2;186;33;33m\"\u001b[39m\u001b[38;2;186;33;33mdriver_hourly_stats\u001b[39m\u001b[38;2;186;33;33m\"\u001b[39m,\n",
            "    entities\u001b[38;2;102;102;102m=\u001b[39m[\u001b[38;2;186;33;33m\"\u001b[39m\u001b[38;2;186;33;33mdriver\u001b[39m\u001b[38;2;186;33;33m\"\u001b[39m],\n",
            "    ttl\u001b[38;2;102;102;102m=\u001b[39mtimedelta(days\u001b[38;2;102;102;102m=\u001b[39m\u001b[38;2;102;102;102m1\u001b[39m),\n",
            "    schema\u001b[38;2;102;102;102m=\u001b[39m[\n",
            "        Field(name\u001b[38;2;102;102;102m=\u001b[39m\u001b[38;2;186;33;33m\"\u001b[39m\u001b[38;2;186;33;33mconv_rate\u001b[39m\u001b[38;2;186;33;33m\"\u001b[39m, dtype\u001b[38;2;102;102;102m=\u001b[39mFloat32),\n",
            "        Field(name\u001b[38;2;102;102;102m=\u001b[39m\u001b[38;2;186;33;33m\"\u001b[39m\u001b[38;2;186;33;33macc_rate\u001b[39m\u001b[38;2;186;33;33m\"\u001b[39m, dtype\u001b[38;2;102;102;102m=\u001b[39mFloat32),\n",
            "        Field(name\u001b[38;2;102;102;102m=\u001b[39m\u001b[38;2;186;33;33m\"\u001b[39m\u001b[38;2;186;33;33mavg_daily_trips\u001b[39m\u001b[38;2;186;33;33m\"\u001b[39m, dtype\u001b[38;2;102;102;102m=\u001b[39mInt64),\n",
            "    ],\n",
            "    online\u001b[38;2;102;102;102m=\u001b[39m\u001b[38;2;0;128;0;01mTrue\u001b[39;00m,\n",
            "    source\u001b[38;2;102;102;102m=\u001b[39mdriver_hourly_stats,\n",
            "    tags\u001b[38;2;102;102;102m=\u001b[39m{},\n",
            ")\n",
            "\n",
            "driver_stats_fs \u001b[38;2;102;102;102m=\u001b[39m FeatureService(\n",
            "    name\u001b[38;2;102;102;102m=\u001b[39m\u001b[38;2;186;33;33m\"\u001b[39m\u001b[38;2;186;33;33mdriver_activity\u001b[39m\u001b[38;2;186;33;33m\"\u001b[39m, features\u001b[38;2;102;102;102m=\u001b[39m[driver_hourly_stats_view]\n",
            ")\n"
          ]
        }
      ],
      "source": [
        "!pygmentize -f terminal16m example.py"
      ]
    },
    {
      "cell_type": "markdown",
      "metadata": {
        "id": "im_cc5HdoDno"
      },
      "source": [
        "### Step 3b: Applying feature definitions\n",
        "Now we run `feast apply` to register the feature views and entities defined in `example.py`, and sets up SQLite online store tables. Note that we had previously specified SQLite as the online store in `feature_store.yaml` by specifying a `local` provider."
      ]
    },
    {
      "cell_type": "code",
      "execution_count": 6,
      "metadata": {
        "colab": {
          "base_uri": "https://localhost:8080/"
        },
        "id": "RYKCKKrcxYZG",
        "outputId": "f34aa509-1dc6-4e50-e8ee-12897138f3b9"
      },
      "outputs": [
        {
          "name": "stdout",
          "output_type": "stream",
          "text": [
            "/usr/local/lib/python3.7/dist-packages/scipy/fft/__init__.py:97: DeprecationWarning: The module numpy.dual is deprecated.  Instead of using dual, use the functions directly from numpy or scipy.\n",
            "  from numpy.dual import register_func\n",
            "/usr/local/lib/python3.7/dist-packages/scipy/sparse/sputils.py:17: DeprecationWarning: `np.typeDict` is a deprecated alias for `np.sctypeDict`.\n",
            "  supported_dtypes = [np.typeDict[x] for x in supported_dtypes]\n",
            "Created entity \u001b[1m\u001b[32mdriver\u001b[0m\n",
            "Created feature view \u001b[1m\u001b[32mdriver_hourly_stats\u001b[0m\n",
            "Created feature service \u001b[1m\u001b[32mdriver_activity\u001b[0m\n",
            "\n",
            "Created sqlite table \u001b[1m\u001b[32mfeature_repo_driver_hourly_stats\u001b[0m\n",
            "\n"
          ]
        }
      ],
      "source": [
        "!feast apply"
      ]
    },
    {
      "cell_type": "markdown",
      "metadata": {
        "id": "uV7rtRQgzyf0"
      },
      "source": [
        "## Step 4: Generate training data\n",
        "\n",
        "To train a model, we need features and labels. Often, this label data is stored separately (e.g. you have one table storing user survey results and another set of tables with feature values). \n",
        "\n",
        "The user can query that table of labels with timestamps and pass that into Feast as an *entity dataframe* for training data generation. In many cases, Feast will also intelligently join relevant tables to create the relevant feature vectors.\n",
        "- Note that we include timestamps because want the features for the same driver at various timestamps to be used in a model."
      ]
    },
    {
      "cell_type": "code",
      "execution_count": 7,
      "metadata": {
        "colab": {
          "base_uri": "https://localhost:8080/"
        },
        "id": "C6Fzia7YwBzz",
        "outputId": "58c4c3dd-7a10-4f56-901d-1bb879ebbcb8"
      },
      "outputs": [
        {
          "name": "stderr",
          "output_type": "stream",
          "text": [
            "/usr/local/lib/python3.7/dist-packages/scipy/fft/__init__.py:97: DeprecationWarning: The module numpy.dual is deprecated.  Instead of using dual, use the functions directly from numpy or scipy.\n",
            "  from numpy.dual import register_func\n",
            "/usr/local/lib/python3.7/dist-packages/scipy/sparse/sputils.py:17: DeprecationWarning: `np.typeDict` is a deprecated alias for `np.sctypeDict`.\n",
            "  supported_dtypes = [np.typeDict[x] for x in supported_dtypes]\n"
          ]
        },
        {
          "name": "stdout",
          "output_type": "stream",
          "text": [
            "----- Feature schema -----\n",
            "\n",
            "<class 'pandas.core.frame.DataFrame'>\n",
            "Int64Index: 3 entries, 1080 to 359\n",
            "Data columns (total 6 columns):\n",
            " #   Column                              Non-Null Count  Dtype              \n",
            "---  ------                              --------------  -----              \n",
            " 0   driver_id                           3 non-null      int64              \n",
            " 1   label_driver_reported_satisfaction  3 non-null      int64              \n",
            " 2   event_timestamp                     3 non-null      datetime64[ns, UTC]\n",
            " 3   conv_rate                           3 non-null      float32            \n",
            " 4   acc_rate                            3 non-null      float32            \n",
            " 5   avg_daily_trips                     3 non-null      int32              \n",
            "dtypes: datetime64[ns, UTC](1), float32(2), int32(1), int64(2)\n",
            "memory usage: 132.0 bytes\n",
            "None\n",
            "\n",
            "----- Example features -----\n",
            "\n",
            "      driver_id  label_driver_reported_satisfaction  \\\n",
            "1080       1003                                   3   \n",
            "720        1002                                   5   \n",
            "359        1001                                   1   \n",
            "\n",
            "                      event_timestamp  conv_rate  acc_rate  avg_daily_trips  \n",
            "1080 2022-06-14 17:48:10.734341+00:00   0.525623  0.217880              488  \n",
            "720  2022-06-14 18:25:10.734338+00:00   0.181652  0.659991              974  \n",
            "359  2022-06-14 18:50:10.734322+00:00   0.651631  0.855919              685  \n"
          ]
        }
      ],
      "source": [
        "from datetime import datetime, timedelta\n",
        "import pandas as pd\n",
        "\n",
        "from feast import FeatureStore\n",
        "\n",
        "# The entity dataframe is the dataframe we want to enrich with feature values\n",
        "entity_df = pd.DataFrame.from_dict(\n",
        "    {\n",
        "        \"driver_id\": [1001, 1002, 1003],\n",
        "        \"label_driver_reported_satisfaction\": [1, 5, 3], \n",
        "        \"event_timestamp\": [\n",
        "            datetime.now() - timedelta(minutes=11),\n",
        "            datetime.now() - timedelta(minutes=36),\n",
        "            datetime.now() - timedelta(minutes=73),\n",
        "        ],\n",
        "    }\n",
        ")\n",
        "\n",
        "store = FeatureStore(repo_path=\".\")\n",
        "\n",
        "training_df = store.get_historical_features(\n",
        "    entity_df=entity_df,\n",
        "    features=[\n",
        "        \"driver_hourly_stats:conv_rate\",\n",
        "        \"driver_hourly_stats:acc_rate\",\n",
        "        \"driver_hourly_stats:avg_daily_trips\",\n",
        "    ],\n",
        ").to_df()\n",
        "\n",
        "print(\"----- Feature schema -----\\n\")\n",
        "print(training_df.info())\n",
        "\n",
        "print()\n",
        "print(\"----- Example features -----\\n\")\n",
        "print(training_df.head())"
      ]
    },
    {
      "cell_type": "markdown",
      "metadata": {
        "id": "ngl7HCtmz3hG"
      },
      "source": [
        "## Step 5: Load features into your online store"
      ]
    },
    {
      "cell_type": "markdown",
      "metadata": {
        "id": "KCXUpiQ_pmDk"
      },
      "source": [
        "### Step 5a: Using `feast materialize-incremental`\n",
        "\n",
        "We now serialize the latest values of features since the beginning of time to prepare for serving (note: `materialize-incremental` serializes all new features since the last `materialize` call).\n",
        "\n",
        "An alternative to using the CLI command is to use Python:\n",
        "\n",
        "```python\n",
        "from datetime import datetime\n",
        "store.materialize_incremental(datetime.datetime.now())\n",
        "```"
      ]
    },
    {
      "cell_type": "code",
      "execution_count": 8,
      "metadata": {
        "colab": {
          "base_uri": "https://localhost:8080/"
        },
        "id": "7Z6QxIebAhK5",
        "outputId": "9b54777d-2dd8-4ec3-b4e7-e3275800a980"
      },
      "outputs": [
        {
          "name": "stdout",
          "output_type": "stream",
          "text": [
            "/usr/local/lib/python3.7/dist-packages/scipy/fft/__init__.py:97: DeprecationWarning: The module numpy.dual is deprecated.  Instead of using dual, use the functions directly from numpy or scipy.\n",
            "  from numpy.dual import register_func\n",
            "/usr/local/lib/python3.7/dist-packages/scipy/sparse/sputils.py:17: DeprecationWarning: `np.typeDict` is a deprecated alias for `np.sctypeDict`.\n",
            "  supported_dtypes = [np.typeDict[x] for x in supported_dtypes]\n",
            "Materializing \u001b[1m\u001b[32m1\u001b[0m feature views to \u001b[1m\u001b[32m2022-06-14 19:01:13+00:00\u001b[0m into the \u001b[1m\u001b[32msqlite\u001b[0m online store.\n",
            "\n",
            "\u001b[1m\u001b[32mdriver_hourly_stats\u001b[0m from \u001b[1m\u001b[32m2022-06-13 19:01:14+00:00\u001b[0m to \u001b[1m\u001b[32m2022-06-14 19:01:13+00:00\u001b[0m:\n",
            "100%|████████████████████████████████████████████████████████████████| 5/5 [00:00<00:00, 403.44it/s]\n"
          ]
        }
      ],
      "source": [
        "from datetime import datetime\n",
        "!feast materialize-incremental {datetime.now().isoformat()}"
      ]
    },
    {
      "cell_type": "markdown",
      "metadata": {
        "id": "l7t12bhH4i9H"
      },
      "source": [
        "### Step 5b: Inspect materialized features\n",
        "\n",
        "Note that now there are `online_store.db` and `registry.db`, which store the materialized features and schema information, respectively."
      ]
    },
    {
      "cell_type": "code",
      "execution_count": 9,
      "metadata": {
        "colab": {
          "base_uri": "https://localhost:8080/"
        },
        "id": "aVIgSYhI4cvR",
        "outputId": "3c60f99c-2471-4343-83ed-cc60a6a9c3b2"
      },
      "outputs": [
        {
          "name": "stdout",
          "output_type": "stream",
          "text": [
            "--- Data directory ---\n",
            "driver_stats.parquet  online_store.db  registry.db\n",
            "\n",
            "--- Schema of online store ---\n",
            "['entity_key', 'feature_name', 'value', 'event_ts', 'created_ts']\n"
          ]
        }
      ],
      "source": [
        "print(\"--- Data directory ---\")\n",
        "!ls data\n",
        "\n",
        "import sqlite3\n",
        "import pandas as pd\n",
        "con = sqlite3.connect(\"data/online_store.db\")\n",
        "print(\"\\n--- Schema of online store ---\")\n",
        "print(\n",
        "    pd.read_sql_query(\n",
        "        \"SELECT * FROM feature_repo_driver_hourly_stats\", con).columns.tolist())\n",
        "con.close()"
      ]
    },
    {
      "cell_type": "markdown",
      "metadata": {
        "id": "AWcttaGalzAm"
      },
      "source": [
        "### Quick note on entity keys\n",
        "Note from the above command that the online store indexes by `entity_key`. \n",
        "\n",
        "[Entity keys](https://docs.feast.dev/getting-started/concepts/entity#entity-key) include a list of all entities needed (e.g. all relevant primary keys) to generate the feature vector. In this case, this is a serialized version of the `driver_id`. We use this later to fetch all features for a given driver at inference time."
      ]
    },
    {
      "cell_type": "markdown",
      "metadata": {
        "id": "GNecKOaI0J2Z"
      },
      "source": [
        "## Step 6: Fetching feature vectors for inference"
      ]
    },
    {
      "cell_type": "markdown",
      "metadata": {
        "id": "TBFlKRsOAhK8"
      },
      "source": [
        "At inference time, we need to quickly read the latest feature values for different drivers (which otherwise might have existed only in batch sources) from the online feature store using `get_online_features()`. These feature vectors can then be fed to the model."
      ]
    },
    {
      "cell_type": "code",
      "execution_count": 10,
      "metadata": {
        "colab": {
          "base_uri": "https://localhost:8080/"
        },
        "id": "a-PUsUWUxoH9",
        "outputId": "fc52dc04-db87-4f48-df36-d3941d485600"
      },
      "outputs": [
        {
          "name": "stdout",
          "output_type": "stream",
          "text": [
            "{'acc_rate': [0.11573542654514313, 0.19155333936214447],\n",
            " 'avg_daily_trips': [814, 64],\n",
            " 'conv_rate': [0.5311259031295776, 0.9771925806999207],\n",
            " 'driver_id': [1004, 1005]}\n"
          ]
        }
      ],
      "source": [
        "from pprint import pprint\n",
        "from feast import FeatureStore\n",
        "\n",
        "store = FeatureStore(repo_path=\".\")\n",
        "\n",
        "feature_vector = store.get_online_features(\n",
        "    features=[\n",
        "        \"driver_hourly_stats:conv_rate\",\n",
        "        \"driver_hourly_stats:acc_rate\",\n",
        "        \"driver_hourly_stats:avg_daily_trips\",\n",
        "    ],\n",
        "    entity_rows=[\n",
        "        {\"driver_id\": 1004},\n",
        "        {\"driver_id\": 1005},\n",
        "    ],\n",
        ").to_dict()\n",
        "\n",
        "pprint(feature_vector)"
      ]
    },
    {
      "cell_type": "markdown",
      "metadata": {
        "id": "SRY87OMBoK_Z"
      },
      "source": [
        "### Fetching features using feature services\n",
        "You can also use feature services to manage multiple features, and decouple feature view definitions and the features needed by end applications. The feature store can also be used to fetch either online or historical features using the same api below. More information can be found [here](https://docs.feast.dev/getting-started/concepts/feature-retrieval).\n",
        "\n",
        " The `driver_activity` feature service pulls all features from the `driver_hourly_stats` feature view:\n",
        "\n",
        "```python\n",
        "driver_stats_fs = FeatureService(\n",
        "    name=\"driver_activity\", features=[driver_hourly_stats_view]\n",
        ")\n",
        "```"
      ]
    },
    {
      "cell_type": "code",
      "execution_count": 22,
      "metadata": {
        "colab": {
          "base_uri": "https://localhost:8080/"
        },
        "id": "BrnAEKlPn9s8",
        "outputId": "45f7f075-5243-4fa7-dbd4-63c0c22a68cd"
      },
      "outputs": [
        {
          "name": "stdout",
          "output_type": "stream",
          "text": [
            "{'acc_rate': [0.11573542654514313, 0.19155333936214447],\n",
            " 'avg_daily_trips': [814, 64],\n",
            " 'conv_rate': [0.5311259031295776, 0.9771925806999207],\n",
            " 'driver_id': [1004, 1005]}\n"
          ]
        }
      ],
      "source": [
        "from feast import FeatureStore\n",
        "feature_store = FeatureStore('.')  # Initialize the feature store\n",
        "\n",
        "feature_service = feature_store.get_feature_service(\"driver_activity\")\n",
        "feature_vector = feature_store.get_online_features(\n",
        "    features=feature_service,\n",
        "    entity_rows=[\n",
        "        # {join_key: entity_value}\n",
        "        {\"driver_id\": 1004},\n",
        "        {\"driver_id\": 1005},\n",
        "    ],\n",
        ").to_dict()\n",
        "pprint(feature_vector)"
      ]
    },
    {
      "cell_type": "markdown",
      "metadata": {
        "id": "_dBcqkaCnOYv"
      },
      "source": [
        "## Step 7: Explore registered features with the Web UI"
      ]
    },
    {
      "cell_type": "code",
      "execution_count": 21,
      "metadata": {
        "colab": {
          "base_uri": "https://localhost:8080/",
          "height": 52
        },
        "id": "mCUPypyhl5TH",
        "outputId": "fb2475c3-b254-42e6-b638-7982d52d2a19"
      },
      "outputs": [
        {
          "name": "stdout",
          "output_type": "stream",
          "text": [
            "nohup: appending output to 'nohup.out'\n",
            "Open the Web UI at https://c6cuffvc4qm-496ff2e9c6d22116-8888-colab.googleusercontent.com/\n"
          ]
        }
      ],
      "source": [
        "from google.colab.output import eval_js\n",
        "host = eval_js(\"google.colab.kernel.proxyPort(8888)\")\n",
        "\n",
        "!nohup feast ui &\n",
        "\n",
        "print(f\"Open the Web UI at {host}\")"
      ]
    },
    {
      "cell_type": "markdown",
      "metadata": {
        "id": "lg68gH2sy6H1"
      },
      "source": [
        "# Next steps\n",
        "\n",
        "- Read the [Concepts](https://docs.feast.dev/getting-started/concepts/) page to understand the Feast data model and architecture.\n",
        "- Check out our [Tutorials](https://docs.feast.dev/tutorials/tutorials-overview) section for more examples on how to use Feast.\n",
        "- Follow our [Running Feast with Snowflake/GCP/AWS](https://docs.feast.dev/how-to-guides/feast-snowflake-gcp-aws) guide for a more in-depth tutorial on using Feast.\n",
        "- Join other Feast users and contributors in [Slack](https://slack.feast.dev/) and become part of the community!"
      ]
    }
  ],
  "metadata": {
    "colab": {
      "collapsed_sections": [],
      "name": "Feast Codelab",
      "provenance": []
    },
    "kernelspec": {
      "display_name": "Python 3",
      "name": "python3"
    },
    "language_info": {
      "name": "python"
    }
  },
  "nbformat": 4,
  "nbformat_minor": 0
}
