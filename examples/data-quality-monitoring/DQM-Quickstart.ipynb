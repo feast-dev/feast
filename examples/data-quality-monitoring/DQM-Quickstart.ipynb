{
 "cells": [
  {
   "cell_type": "code",
   "execution_count": null,
   "id": "7945b3fc-369a-47f1-8617-bcec53f46ff1",
   "metadata": {},
   "outputs": [],
   "source": [
    "%%sh\n",
    "pip install Pygments -q\n",
    "echo \"Please restart your runtime now (Runtime -> Restart runtime). This ensures that the correct dependencies are loaded.\""
   ]
  },
  {
   "cell_type": "markdown",
   "id": "687f6708-ebdc-40e4-b80a-b6d19661e491",
   "metadata": {},
   "source": [
    "# https://github.com/feast-dev/feast-gcp-fraud-tutorial/blob/main/notebooks/Validating_Online_Features_While_Detecting_Fraud.ipynb"
   ]
  },
  {
   "cell_type": "code",
   "execution_count": 1,
   "id": "799bef6e-01f9-4848-98db-f52a1f7c1287",
   "metadata": {},
   "outputs": [
    {
     "name": "stdout",
     "output_type": "stream",
     "text": [
      "\n",
      "Creating a new Feast repository in \u001b[1m\u001b[32m/home/francisco/github/feast/examples/data-quality-monitoring/dqm_repo\u001b[0m.\n",
      "\n"
     ]
    }
   ],
   "source": [
    "!rm -rf dqm_repo\n",
    "!feast init dqm_repo"
   ]
  },
  {
   "cell_type": "code",
   "execution_count": 2,
   "id": "59d631fb-4f5e-43d1-8d75-98d5920ca0ac",
   "metadata": {},
   "outputs": [
    {
     "name": "stdout",
     "output_type": "stream",
     "text": [
      "/home/francisco/github/feast/examples/data-quality-monitoring/dqm_repo\n",
      ".:\n",
      "data  example.py  feature_store.yaml  __init__.py  logs\n",
      "\n",
      "./data:\n",
      "driver_stats.parquet\n",
      "\n",
      "./logs:\n"
     ]
    }
   ],
   "source": [
    "%cd dqm_repo\n",
    "!mkdir logs\n",
    "!ls -R"
   ]
  },
  {
   "cell_type": "code",
   "execution_count": 3,
   "id": "8b9e69b6-a6a0-40dc-ba12-8b6053a86817",
   "metadata": {},
   "outputs": [
    {
     "name": "stdout",
     "output_type": "stream",
     "text": [
      "\u001b[94mproject\u001b[39;49;00m:\u001b[37m \u001b[39;49;00mdqm_repo\u001b[37m\u001b[39;49;00m\n",
      "\u001b[94mregistry\u001b[39;49;00m:\u001b[37m \u001b[39;49;00mdata/registry.db\u001b[37m\u001b[39;49;00m\n",
      "\u001b[94mprovider\u001b[39;49;00m:\u001b[37m \u001b[39;49;00mlocal\u001b[37m\u001b[39;49;00m\n",
      "\u001b[94monline_store\u001b[39;49;00m:\u001b[37m\u001b[39;49;00m\n",
      "\u001b[37m    \u001b[39;49;00m\u001b[94mpath\u001b[39;49;00m:\u001b[37m \u001b[39;49;00mdata/online_store.db\u001b[37m\u001b[39;49;00m\n",
      "\u001b[94mentity_key_serialization_version\u001b[39;49;00m:\u001b[37m \u001b[39;49;00m2\u001b[37m\u001b[39;49;00m\n"
     ]
    }
   ],
   "source": [
    "!pygmentize feature_store.yaml"
   ]
  },
  {
   "cell_type": "markdown",
   "id": "044b0c11-54d3-43e9-bafd-29a9d325ab2f",
   "metadata": {},
   "source": [
    "# Taking a look at our data"
   ]
  },
  {
   "cell_type": "code",
   "execution_count": 4,
   "id": "ddbaa5f6-63a3-4844-bfff-337e4299e18a",
   "metadata": {},
   "outputs": [
    {
     "data": {
      "text/html": [
       "<div>\n",
       "<style scoped>\n",
       "    .dataframe tbody tr th:only-of-type {\n",
       "        vertical-align: middle;\n",
       "    }\n",
       "\n",
       "    .dataframe tbody tr th {\n",
       "        vertical-align: top;\n",
       "    }\n",
       "\n",
       "    .dataframe thead th {\n",
       "        text-align: right;\n",
       "    }\n",
       "</style>\n",
       "<table border=\"1\" class=\"dataframe\">\n",
       "  <thead>\n",
       "    <tr style=\"text-align: right;\">\n",
       "      <th></th>\n",
       "      <th>event_timestamp</th>\n",
       "      <th>driver_id</th>\n",
       "      <th>conv_rate</th>\n",
       "      <th>acc_rate</th>\n",
       "      <th>avg_daily_trips</th>\n",
       "      <th>created</th>\n",
       "    </tr>\n",
       "  </thead>\n",
       "  <tbody>\n",
       "    <tr>\n",
       "      <th>0</th>\n",
       "      <td>2022-07-29 06:00:00+00:00</td>\n",
       "      <td>1005</td>\n",
       "      <td>0.617167</td>\n",
       "      <td>0.021683</td>\n",
       "      <td>433</td>\n",
       "      <td>2022-08-13 06:14:26.993</td>\n",
       "    </tr>\n",
       "    <tr>\n",
       "      <th>1</th>\n",
       "      <td>2022-07-29 07:00:00+00:00</td>\n",
       "      <td>1005</td>\n",
       "      <td>0.814462</td>\n",
       "      <td>0.942930</td>\n",
       "      <td>446</td>\n",
       "      <td>2022-08-13 06:14:26.993</td>\n",
       "    </tr>\n",
       "    <tr>\n",
       "      <th>2</th>\n",
       "      <td>2022-07-29 08:00:00+00:00</td>\n",
       "      <td>1005</td>\n",
       "      <td>0.749975</td>\n",
       "      <td>0.270762</td>\n",
       "      <td>467</td>\n",
       "      <td>2022-08-13 06:14:26.993</td>\n",
       "    </tr>\n",
       "    <tr>\n",
       "      <th>3</th>\n",
       "      <td>2022-07-29 09:00:00+00:00</td>\n",
       "      <td>1005</td>\n",
       "      <td>0.858458</td>\n",
       "      <td>0.396312</td>\n",
       "      <td>500</td>\n",
       "      <td>2022-08-13 06:14:26.993</td>\n",
       "    </tr>\n",
       "    <tr>\n",
       "      <th>4</th>\n",
       "      <td>2022-07-29 10:00:00+00:00</td>\n",
       "      <td>1005</td>\n",
       "      <td>0.386625</td>\n",
       "      <td>0.168782</td>\n",
       "      <td>699</td>\n",
       "      <td>2022-08-13 06:14:26.993</td>\n",
       "    </tr>\n",
       "  </tbody>\n",
       "</table>\n",
       "</div>"
      ],
      "text/plain": [
       "            event_timestamp  driver_id  conv_rate  acc_rate  avg_daily_trips  \\\n",
       "0 2022-07-29 06:00:00+00:00       1005   0.617167  0.021683              433   \n",
       "1 2022-07-29 07:00:00+00:00       1005   0.814462  0.942930              446   \n",
       "2 2022-07-29 08:00:00+00:00       1005   0.749975  0.270762              467   \n",
       "3 2022-07-29 09:00:00+00:00       1005   0.858458  0.396312              500   \n",
       "4 2022-07-29 10:00:00+00:00       1005   0.386625  0.168782              699   \n",
       "\n",
       "                  created  \n",
       "0 2022-08-13 06:14:26.993  \n",
       "1 2022-08-13 06:14:26.993  \n",
       "2 2022-08-13 06:14:26.993  \n",
       "3 2022-08-13 06:14:26.993  \n",
       "4 2022-08-13 06:14:26.993  "
      ]
     },
     "execution_count": 4,
     "metadata": {},
     "output_type": "execute_result"
    }
   ],
   "source": [
    "import pandas as pd\n",
    "\n",
    "pd.read_parquet(\"data/driver_stats.parquet\").head()"
   ]
  },
  {
   "cell_type": "code",
   "execution_count": 5,
   "id": "7bb41d5f-95de-40b0-815b-10437b40ee36",
   "metadata": {
    "tags": []
   },
   "outputs": [
    {
     "name": "stdout",
     "output_type": "stream",
     "text": [
      "\u001b[38;2;61;123;123;03m# This is an example feature definition file\u001b[39;00m\n",
      "\n",
      "\u001b[38;2;0;128;0;01mfrom\u001b[39;00m \u001b[38;2;0;0;255;01mdatetime\u001b[39;00m \u001b[38;2;0;128;0;01mimport\u001b[39;00m timedelta\n",
      "\n",
      "\u001b[38;2;0;128;0;01mfrom\u001b[39;00m \u001b[38;2;0;0;255;01mfeast\u001b[39;00m \u001b[38;2;0;128;0;01mimport\u001b[39;00m Entity, FeatureService, FeatureView, Field, FileSource\n",
      "\u001b[38;2;0;128;0;01mfrom\u001b[39;00m \u001b[38;2;0;0;255;01mfeast\u001b[39;00m\u001b[38;2;0;0;255;01m.\u001b[39;00m\u001b[38;2;0;0;255;01mtypes\u001b[39;00m \u001b[38;2;0;128;0;01mimport\u001b[39;00m Float32, Int64\n",
      "\n",
      "\u001b[38;2;61;123;123;03m# Read data from parquet files. Parquet is convenient for local development mode. For\u001b[39;00m\n",
      "\u001b[38;2;61;123;123;03m# production, you can use your favorite DWH, such as BigQuery. See Feast documentation\u001b[39;00m\n",
      "\u001b[38;2;61;123;123;03m# for more info.\u001b[39;00m\n",
      "driver_hourly_stats \u001b[38;2;102;102;102m=\u001b[39m FileSource(\n",
      "    name\u001b[38;2;102;102;102m=\u001b[39m\u001b[38;2;186;33;33m\"\u001b[39m\u001b[38;2;186;33;33mdriver_hourly_stats_source\u001b[39m\u001b[38;2;186;33;33m\"\u001b[39m,\n",
      "    path\u001b[38;2;102;102;102m=\u001b[39m\u001b[38;2;186;33;33m\"\u001b[39m\u001b[38;2;186;33;33m/home/francisco/github/feast/examples/data-quality-monitoring/dqm_repo/data/driver_stats.parquet\u001b[39m\u001b[38;2;186;33;33m\"\u001b[39m,\n",
      "    timestamp_field\u001b[38;2;102;102;102m=\u001b[39m\u001b[38;2;186;33;33m\"\u001b[39m\u001b[38;2;186;33;33mevent_timestamp\u001b[39m\u001b[38;2;186;33;33m\"\u001b[39m,\n",
      "    created_timestamp_column\u001b[38;2;102;102;102m=\u001b[39m\u001b[38;2;186;33;33m\"\u001b[39m\u001b[38;2;186;33;33mcreated\u001b[39m\u001b[38;2;186;33;33m\"\u001b[39m,\n",
      ")\n",
      "\n",
      "\u001b[38;2;61;123;123;03m# Define an entity for the driver. You can think of entity as a primary key used to\u001b[39;00m\n",
      "\u001b[38;2;61;123;123;03m# fetch features.\u001b[39;00m\n",
      "driver \u001b[38;2;102;102;102m=\u001b[39m Entity(name\u001b[38;2;102;102;102m=\u001b[39m\u001b[38;2;186;33;33m\"\u001b[39m\u001b[38;2;186;33;33mdriver\u001b[39m\u001b[38;2;186;33;33m\"\u001b[39m, join_keys\u001b[38;2;102;102;102m=\u001b[39m[\u001b[38;2;186;33;33m\"\u001b[39m\u001b[38;2;186;33;33mdriver_id\u001b[39m\u001b[38;2;186;33;33m\"\u001b[39m])\n",
      "\n",
      "\u001b[38;2;61;123;123;03m# Our parquet files contain sample data that includes a driver_id column, timestamps and\u001b[39;00m\n",
      "\u001b[38;2;61;123;123;03m# three feature column. Here we define a Feature View that will allow us to serve this\u001b[39;00m\n",
      "\u001b[38;2;61;123;123;03m# data to our model online.\u001b[39;00m\n",
      "driver_hourly_stats_view \u001b[38;2;102;102;102m=\u001b[39m FeatureView(\n",
      "    name\u001b[38;2;102;102;102m=\u001b[39m\u001b[38;2;186;33;33m\"\u001b[39m\u001b[38;2;186;33;33mdriver_hourly_stats\u001b[39m\u001b[38;2;186;33;33m\"\u001b[39m,\n",
      "    entities\u001b[38;2;102;102;102m=\u001b[39m[driver],\n",
      "    ttl\u001b[38;2;102;102;102m=\u001b[39mtimedelta(days\u001b[38;2;102;102;102m=\u001b[39m\u001b[38;2;102;102;102m1\u001b[39m),\n",
      "    schema\u001b[38;2;102;102;102m=\u001b[39m[\n",
      "        Field(name\u001b[38;2;102;102;102m=\u001b[39m\u001b[38;2;186;33;33m\"\u001b[39m\u001b[38;2;186;33;33mconv_rate\u001b[39m\u001b[38;2;186;33;33m\"\u001b[39m, dtype\u001b[38;2;102;102;102m=\u001b[39mFloat32),\n",
      "        Field(name\u001b[38;2;102;102;102m=\u001b[39m\u001b[38;2;186;33;33m\"\u001b[39m\u001b[38;2;186;33;33macc_rate\u001b[39m\u001b[38;2;186;33;33m\"\u001b[39m, dtype\u001b[38;2;102;102;102m=\u001b[39mFloat32),\n",
      "        Field(name\u001b[38;2;102;102;102m=\u001b[39m\u001b[38;2;186;33;33m\"\u001b[39m\u001b[38;2;186;33;33mavg_daily_trips\u001b[39m\u001b[38;2;186;33;33m\"\u001b[39m, dtype\u001b[38;2;102;102;102m=\u001b[39mInt64),\n",
      "    ],\n",
      "    online\u001b[38;2;102;102;102m=\u001b[39m\u001b[38;2;0;128;0;01mTrue\u001b[39;00m,\n",
      "    source\u001b[38;2;102;102;102m=\u001b[39mdriver_hourly_stats,\n",
      "    tags\u001b[38;2;102;102;102m=\u001b[39m{},\n",
      ")\n",
      "\n",
      "driver_stats_fs \u001b[38;2;102;102;102m=\u001b[39m FeatureService(\n",
      "    name\u001b[38;2;102;102;102m=\u001b[39m\u001b[38;2;186;33;33m\"\u001b[39m\u001b[38;2;186;33;33mdriver_activity\u001b[39m\u001b[38;2;186;33;33m\"\u001b[39m, features\u001b[38;2;102;102;102m=\u001b[39m[driver_hourly_stats_view]\n",
      ")\n"
     ]
    }
   ],
   "source": [
    "!pygmentize -f terminal16m example.py"
   ]
  },
  {
   "cell_type": "markdown",
   "id": "3ceeb4a4-e6b6-4f89-913b-d05de9099cf9",
   "metadata": {},
   "source": [
    "# Configurations for online evaluation"
   ]
  },
  {
   "cell_type": "code",
   "execution_count": 6,
   "id": "abf204a6-adb0-4ed1-8d87-45fbf7cdd826",
   "metadata": {},
   "outputs": [],
   "source": [
    "feature_store = \\\n",
    "f\"\"\"project: dqm_repo\n",
    "registry: data/registry.db\n",
    "provider: local\n",
    "offline_store:\n",
    "    type: file\n",
    "online_store:\n",
    "    path: data/online_store.db\n",
    "entity_key_serialization_version: 2\n",
    "feature_server:\n",
    "    enabled: True\n",
    "    feature_logging:\n",
    "        enabled: True\n",
    "        flush_interval_secs: 60\n",
    "        write_to_disk_interval_secs: 10\n",
    "    \n",
    "go_feature_retrieval: False\n",
    "\"\"\"\n",
    "\n",
    "with open('feature_store.yaml', \"w\") as feature_store_file:\n",
    "    feature_store_file.write(feature_store)\n",
    "\n",
    "dqm_services = f\"\"\"\n",
    "from feast import FeatureService\n",
    "from feast.feature_logging import LoggingConfig\n",
    "from feast.infra.offline_stores.file_source import FileLoggingDestination\n",
    "\n",
    "from example import driver_hourly_stats, driver, driver_hourly_stats_view\n",
    "\n",
    "fs = FeatureService(\n",
    "    name=\"driver_activity\", \n",
    "    features=[driver_hourly_stats_view],\n",
    "    logging_config=LoggingConfig(\n",
    "        sample_rate=1.0,\n",
    "        destination=FileLoggingDestination(path=\"logs/\"),\n",
    "    )\n",
    ")\n",
    "\"\"\"\n",
    "    \n",
    "with open('dqm_services.py', \"w\") as dqm_services_file:\n",
    "    dqm_services_file.write(dqm_services)"
   ]
  },
  {
   "cell_type": "code",
   "execution_count": 7,
   "id": "f480a6a5-3b1f-4fbe-a95c-38767a8c9fa5",
   "metadata": {},
   "outputs": [
    {
     "name": "stdout",
     "output_type": "stream",
     "text": [
      "Created entity \u001b[1m\u001b[32mdriver\u001b[0m\n",
      "Created feature view \u001b[1m\u001b[32mdriver_hourly_stats\u001b[0m\n",
      "Created feature service \u001b[1m\u001b[32mdriver_activity\u001b[0m\n",
      "\n",
      "Created sqlite table \u001b[1m\u001b[32mdqm_repo_driver_hourly_stats\u001b[0m\n",
      "\n"
     ]
    }
   ],
   "source": [
    "!feast apply"
   ]
  },
  {
   "cell_type": "code",
   "execution_count": 8,
   "id": "2d21fbc8-cb4c-45d2-ac3a-7bc11759d03a",
   "metadata": {},
   "outputs": [
    {
     "name": "stdout",
     "output_type": "stream",
     "text": [
      "{\n",
      "  \"spec\": {\n",
      "    \"name\": \"reference_dataset\",\n",
      "    \"features\": [\n",
      "      \"driver_hourly_stats:conv_rate\",\n",
      "      \"driver_hourly_stats:acc_rate\",\n",
      "      \"driver_hourly_stats:avg_daily_trips\"\n",
      "    ],\n",
      "    \"joinKeys\": [\n",
      "      \"driver_id\",\n",
      "      \"label_driver_reported_satisfaction\"\n",
      "    ],\n",
      "    \"storage\": {\n",
      "      \"fileStorage\": {\n",
      "        \"fileFormat\": {\n",
      "          \"parquetFormat\": {}\n",
      "        },\n",
      "        \"uri\": \"data/driver_stats_reference.parquet\"\n",
      "      }\n",
      "    }\n",
      "  },\n",
      "  \"meta\": {\n",
      "    \"createdTimestamp\": \"2022-08-13T12:14:57.925228Z\",\n",
      "    \"minEventTimestamp\": \"2022-08-13T05:01:57.842691Z\",\n",
      "    \"maxEventTimestamp\": \"2022-08-13T06:03:57.842684Z\"\n",
      "  }\n",
      "}\n"
     ]
    },
    {
     "name": "stderr",
     "output_type": "stream",
     "text": [
      "/home/francisco/github/feast/sdk/python/feast/feature_store.py:1127: RuntimeWarning: Saving dataset is an experimental feature. This API is unstable and it could and most probably will be changed in the future. We do not guarantee that future changes will maintain backward compatibility.\n",
      "  warnings.warn(\n"
     ]
    }
   ],
   "source": [
    "from datetime import datetime, timedelta\n",
    "import pandas as pd\n",
    "\n",
    "from feast import FeatureStore\n",
    "from feast.infra.offline_stores.file_source import SavedDatasetFileStorage\n",
    "\n",
    "# The entity dataframe is the dataframe we want to enrich with feature values\n",
    "entity_df = pd.DataFrame.from_dict(\n",
    "    {\n",
    "        \"driver_id\": [1001, 1002, 1003],\n",
    "        \"label_driver_reported_satisfaction\": [1, 5, 3], \n",
    "        \"event_timestamp\": [\n",
    "            datetime.now() - timedelta(minutes=11),\n",
    "            datetime.now() - timedelta(minutes=36),\n",
    "            datetime.now() - timedelta(minutes=73),\n",
    "        ],\n",
    "    }\n",
    ")\n",
    "\n",
    "store = FeatureStore(repo_path=\".\")\n",
    "\n",
    "training_data_job = store.get_historical_features(\n",
    "    entity_df=entity_df,\n",
    "    features=[\n",
    "        \"driver_hourly_stats:conv_rate\",\n",
    "        \"driver_hourly_stats:acc_rate\",\n",
    "        \"driver_hourly_stats:avg_daily_trips\",\n",
    "    ],\n",
    ")\n",
    "\n",
    "reference_dataset = store.create_saved_dataset(\n",
    "    from_=training_data_job,\n",
    "    name=\"reference_dataset\",\n",
    "    storage=SavedDatasetFileStorage(path='data/driver_stats_reference.parquet')\n",
    ")\n",
    "\n",
    "print(reference_dataset)"
   ]
  },
  {
   "cell_type": "markdown",
   "id": "7a100e27-e130-4c00-b8fc-69f4d261df25",
   "metadata": {},
   "source": [
    "# Creating our own Expectations Profiler"
   ]
  },
  {
   "cell_type": "code",
   "execution_count": 52,
   "id": "ff168195-04bc-4c82-9c02-bb72b0b41375",
   "metadata": {},
   "outputs": [
    {
     "name": "stderr",
     "output_type": "stream",
     "text": [
      "/home/francisco/github/feast/sdk/python/feast/feature_store.py:1180: RuntimeWarning: Retrieving datasets is an experimental feature. This API is unstable and it could and most probably will be changed in the future. We do not guarantee that future changes will maintain backward compatibility.\n",
      "  warnings.warn(\n"
     ]
    }
   ],
   "source": [
    "from feast.dqm.profilers.ge_profiler import ge_profiler\n",
    "from great_expectations.dataset import PandasDataset\n",
    "from great_expectations.core.expectation_suite import ExpectationSuite\n",
    "\n",
    "# this profiler should pass\n",
    "@ge_profiler\n",
    "def user_features_profiler(dataset: PandasDataset) -> ExpectationSuite:\n",
    "    print(dataset.columns)\n",
    "    dataset.expect_column_to_exist(\"driver_id\")\n",
    "    dataset.expect_column_values_to_be_between(\"avg_daily_trips\", 0, 1000)\n",
    "    dataset.expect_column_values_to_be_between(\"conv_rate\", 0, 1)\n",
    "    dataset.expect_column_values_to_be_between(\"acc_rate\", 0, 1)\n",
    "    return dataset.get_expectation_suite()\n",
    "\n",
    "# this profiler should trigger failures\n",
    "@ge_profiler\n",
    "def user_features_profiler_fail(dataset: PandasDataset) -> ExpectationSuite:\n",
    "    dataset.expect_column_to_exist(\"this should fail\")\n",
    "    # dataset.expect_column_values_to_be_between(\"avg_daily_trips\", )\n",
    "    return dataset.get_expectation_suite()\n",
    "\n",
    "ds = store.get_saved_dataset('reference_dataset')\n",
    "validation_reference = ds.as_reference(name='user_features_profiler', profiler=user_features_profiler)\n",
    "validation_reference_fail = ds.as_reference(name='user_features_profiler_fail', profiler=user_features_profiler_fail)\n",
    "\n",
    "# print(training_data_job.to_df(validation_reference=validation_reference))\n",
    "# print(training_data_job.to_df(validation_reference=validation_reference_fail))"
   ]
  },
  {
   "cell_type": "code",
   "execution_count": 73,
   "id": "9acedac9-6b74-46d3-905f-b4d44c8db903",
   "metadata": {},
   "outputs": [],
   "source": [
    "@ge_profiler\n",
    "def profiler_with_unrealistic_expectations(dataset: PandasDataset) -> ExpectationSuite:\n",
    "    # need to create dataframe with corrupted data first\n",
    "    df = pd.DataFrame()\n",
    "    df[\"current_balance\"] = [100]\n",
    "    df[\"avg_passenger_count\"] = [0]\n",
    "\n",
    "    other_ds = PandasDataset(df)\n",
    "    other_ds.expect_column_max_to_be_between(\"current_balance\", -1000, -100)\n",
    "    other_ds.expect_column_values_to_be_in_set(\"avg_passenger_count\", value_set={0})\n",
    "\n",
    "    # this should pass\n",
    "    other_ds.expect_column_min_to_be_between(\"avg_passenger_count\", 0, 1000)\n",
    "\n",
    "    return other_ds.get_expectation_suite()\n",
    "\n",
    "@ge_profiler\n",
    "def profiler_with_unrealistic_expectations2(dataset: PandasDataset) -> ExpectationSuite:\n",
    "    # need to create dataframe with corrupted data first\n",
    "    df = pd.DataFrame()\n",
    "    df[\"current_balance\"] = [-100]\n",
    "    df[\"avg_passenger_count\"] = [0]\n",
    "\n",
    "    other_ds = PandasDataset(df)\n",
    "    other_ds.expect_column_max_to_be_between(\"current_balance\", -1000, -100)\n",
    "    other_ds.expect_column_values_to_be_in_set(\"avg_passenger_count\", value_set={0})\n",
    "\n",
    "    # this should pass\n",
    "    other_ds.expect_column_min_to_be_between(\"avg_passenger_count\", 0, 1000)\n",
    "\n",
    "    return other_ds.get_expectation_suite()\n"
   ]
  },
  {
   "cell_type": "code",
   "execution_count": 79,
   "id": "a78b84b0-220f-49a9-ab01-52a31b0c3d1a",
   "metadata": {},
   "outputs": [
    {
     "data": {
      "text/plain": [
       "False"
      ]
     },
     "execution_count": 79,
     "metadata": {},
     "output_type": "execute_result"
    }
   ],
   "source": [
    "ds.get_profile(profiler=profiler_with_unrealistic_expectations) ==  ds.get_profile(profiler=profiler_with_unrealistic_expectations2) "
   ]
  },
  {
   "cell_type": "code",
   "execution_count": 53,
   "id": "b4896a4d-1210-4b77-ac37-e44197874ee7",
   "metadata": {},
   "outputs": [
    {
     "data": {
      "text/plain": [
       "<GEProfile with expectations: []>"
      ]
     },
     "execution_count": 53,
     "metadata": {},
     "output_type": "execute_result"
    }
   ],
   "source": [
    "ds.get_profile(profiler=user_features_profiler_fail)"
   ]
  },
  {
   "cell_type": "code",
   "execution_count": 54,
   "id": "57cba067-bbab-4f24-a539-46e2fe8b173e",
   "metadata": {},
   "outputs": [
    {
     "data": {
      "text/plain": [
       "(feast.dqm.profilers.ge_profiler.GEProfiler,\n",
       " feast.saved_dataset.SavedDataset,\n",
       " pandas.core.frame.DataFrame)"
      ]
     },
     "execution_count": 54,
     "metadata": {},
     "output_type": "execute_result"
    }
   ],
   "source": [
    "type(user_features_profiler), type(ds), type(ds.to_df())"
   ]
  },
  {
   "cell_type": "code",
   "execution_count": 62,
   "id": "596c21ff-3d3a-46ee-9421-bc7b5a0862f5",
   "metadata": {},
   "outputs": [],
   "source": [
    "from great_expectations.dataset import PandasDataset\n",
    "from feast.dqm.profilers.ge_profiler import _prepare_dataset, _add_feature_metadata, GEProfile\n",
    "import great_expectations as ge"
   ]
  },
  {
   "cell_type": "code",
   "execution_count": 56,
   "id": "3dac7c08-6959-40d2-8561-a0339ff80f57",
   "metadata": {},
   "outputs": [],
   "source": [
    "dataset = _prepare_dataset(PandasDataset(ds.to_df()))\n",
    "# this doesn't appear to do anything but it's in the `analyze_dataset` method\n",
    "dataset = _add_feature_metadata(dataset)\n",
    "# It looks like when it fails it doesn't return anything\n",
    "gething = user_features_profiler_fail.user_defined_profiler(dataset)"
   ]
  },
  {
   "cell_type": "code",
   "execution_count": 57,
   "id": "0fb9f968-196f-459f-bf1a-3d52be15e6f5",
   "metadata": {},
   "outputs": [
    {
     "data": {
      "text/plain": [
       "{\n",
       "  \"data_asset_type\": \"Dataset\",\n",
       "  \"expectation_suite_name\": \"default\",\n",
       "  \"expectations\": [],\n",
       "  \"meta\": {\n",
       "    \"great_expectations_version\": \"0.14.13\"\n",
       "  },\n",
       "  \"ge_cloud_id\": null\n",
       "}"
      ]
     },
     "execution_count": 57,
     "metadata": {},
     "output_type": "execute_result"
    }
   ],
   "source": [
    "gething"
   ]
  },
  {
   "cell_type": "code",
   "execution_count": 64,
   "id": "80c9eaf7-6d50-4067-b21c-7f83e9e8c380",
   "metadata": {},
   "outputs": [
    {
     "data": {
      "text/plain": [
       "<GEProfile with expectations: []>"
      ]
     },
     "execution_count": 64,
     "metadata": {},
     "output_type": "execute_result"
    }
   ],
   "source": [
    "# and now we reproduce the empty expectation\n",
    "GEProfile(expectation_suite=gething)"
   ]
  },
  {
   "cell_type": "code",
   "execution_count": 65,
   "id": "9bb3be5e-d74c-46d0-ab7f-818be04ee5a3",
   "metadata": {},
   "outputs": [],
   "source": [
    "# so the root is the profiler and gething is returning nothing"
   ]
  },
  {
   "cell_type": "code",
   "execution_count": 66,
   "id": "8b5b04e5-8363-49f9-a533-294c2f8c2038",
   "metadata": {},
   "outputs": [
    {
     "data": {
      "text/plain": [
       "{\n",
       "  \"data_asset_type\": \"Dataset\",\n",
       "  \"expectation_suite_name\": \"default\",\n",
       "  \"expectations\": [],\n",
       "  \"meta\": {\n",
       "    \"great_expectations_version\": \"0.14.13\"\n",
       "  },\n",
       "  \"ge_cloud_id\": null\n",
       "}"
      ]
     },
     "execution_count": 66,
     "metadata": {},
     "output_type": "execute_result"
    }
   ],
   "source": [
    "user_features_profiler_fail.user_defined_profiler(dataset)"
   ]
  },
  {
   "cell_type": "code",
   "execution_count": 67,
   "id": "68a63967-851c-48e2-801b-57e2f0d0ad70",
   "metadata": {},
   "outputs": [
    {
     "data": {
      "text/plain": [
       "feast.dqm.profilers.ge_profiler.GEProfiler"
      ]
     },
     "execution_count": 67,
     "metadata": {},
     "output_type": "execute_result"
    }
   ],
   "source": [
    "type(user_features_profiler_fail), "
   ]
  },
  {
   "cell_type": "code",
   "execution_count": null,
   "id": "03852672-303c-48b5-8ec3-4c50e1658099",
   "metadata": {},
   "outputs": [],
   "source": []
  },
  {
   "cell_type": "code",
   "execution_count": 49,
   "id": "81dd3df0-3007-4326-821b-f3ec1be6e0cc",
   "metadata": {},
   "outputs": [
    {
     "data": {
      "text/plain": [
       "{\n",
       "  \"statistics\": {\n",
       "    \"evaluated_expectations\": 0,\n",
       "    \"successful_expectations\": 0,\n",
       "    \"unsuccessful_expectations\": 0,\n",
       "    \"success_percent\": null\n",
       "  },\n",
       "  \"success\": true,\n",
       "  \"meta\": {\n",
       "    \"great_expectations_version\": \"0.14.13\",\n",
       "    \"expectation_suite_name\": \"default\",\n",
       "    \"run_id\": {\n",
       "      \"run_time\": \"2022-08-13T12:31:49.160753+00:00\",\n",
       "      \"run_name\": null\n",
       "    },\n",
       "    \"batch_kwargs\": {\n",
       "      \"ge_batch_id\": \"e3236721-1b03-11ed-b9f1-83b88549211a\"\n",
       "    },\n",
       "    \"batch_markers\": {},\n",
       "    \"batch_parameters\": {},\n",
       "    \"validation_time\": \"20220813T123149.160715Z\",\n",
       "    \"expectation_suite_meta\": {\n",
       "      \"great_expectations_version\": \"0.14.13\"\n",
       "    }\n",
       "  },\n",
       "  \"results\": [],\n",
       "  \"evaluation_parameters\": {}\n",
       "}"
      ]
     },
     "execution_count": 49,
     "metadata": {},
     "output_type": "execute_result"
    }
   ],
   "source": [
    "ge.validate(dataset, expectation_suite=gething, result_format=\"COMPLETE\")"
   ]
  },
  {
   "cell_type": "code",
   "execution_count": 16,
   "id": "dba7d74f-d395-44a3-a95e-f0f4068ae9c6",
   "metadata": {},
   "outputs": [
    {
     "data": {
      "text/plain": [
       "<GEProfile with expectations: [\n",
       "  {\n",
       "    \"kwargs\": {\n",
       "      \"column\": \"driver_id\"\n",
       "    },\n",
       "    \"meta\": {},\n",
       "    \"expectation_type\": \"expect_column_to_exist\"\n",
       "  }\n",
       "]>"
      ]
     },
     "execution_count": 16,
     "metadata": {},
     "output_type": "execute_result"
    }
   ],
   "source": [
    "ds.get_profile(profiler=user_features_profiler_fail2)"
   ]
  },
  {
   "cell_type": "code",
   "execution_count": 11,
   "id": "6eb0f7ce-cdd5-4184-b64f-e03327e56dc2",
   "metadata": {},
   "outputs": [
    {
     "name": "stderr",
     "output_type": "stream",
     "text": [
      "/home/francisco/github/feast/sdk/python/feast/infra/offline_stores/offline_store.py:90: RuntimeWarning: Dataset validation is an experimental feature. This API is unstable and it could and most probably will be changed in the future. We do not guarantee that future changes will maintain backward compatibility.\n",
      "  warnings.warn(\n"
     ]
    },
    {
     "data": {
      "text/html": [
       "<div>\n",
       "<style scoped>\n",
       "    .dataframe tbody tr th:only-of-type {\n",
       "        vertical-align: middle;\n",
       "    }\n",
       "\n",
       "    .dataframe tbody tr th {\n",
       "        vertical-align: top;\n",
       "    }\n",
       "\n",
       "    .dataframe thead th {\n",
       "        text-align: right;\n",
       "    }\n",
       "</style>\n",
       "<table border=\"1\" class=\"dataframe\">\n",
       "  <thead>\n",
       "    <tr style=\"text-align: right;\">\n",
       "      <th></th>\n",
       "      <th>driver_id</th>\n",
       "      <th>label_driver_reported_satisfaction</th>\n",
       "      <th>event_timestamp</th>\n",
       "      <th>conv_rate</th>\n",
       "      <th>acc_rate</th>\n",
       "      <th>avg_daily_trips</th>\n",
       "    </tr>\n",
       "  </thead>\n",
       "  <tbody>\n",
       "    <tr>\n",
       "      <th>0</th>\n",
       "      <td>1002</td>\n",
       "      <td>5</td>\n",
       "      <td>2022-08-13 05:38:57.842689+00:00</td>\n",
       "      <td>0.534422</td>\n",
       "      <td>0.761452</td>\n",
       "      <td>841</td>\n",
       "    </tr>\n",
       "    <tr>\n",
       "      <th>1</th>\n",
       "      <td>1001</td>\n",
       "      <td>1</td>\n",
       "      <td>2022-08-13 06:03:57.842684+00:00</td>\n",
       "      <td>0.922234</td>\n",
       "      <td>0.012095</td>\n",
       "      <td>798</td>\n",
       "    </tr>\n",
       "    <tr>\n",
       "      <th>2</th>\n",
       "      <td>1003</td>\n",
       "      <td>3</td>\n",
       "      <td>2022-08-13 05:01:57.842691+00:00</td>\n",
       "      <td>0.733360</td>\n",
       "      <td>0.287259</td>\n",
       "      <td>925</td>\n",
       "    </tr>\n",
       "  </tbody>\n",
       "</table>\n",
       "</div>"
      ],
      "text/plain": [
       "   driver_id  label_driver_reported_satisfaction  \\\n",
       "0       1002                                   5   \n",
       "1       1001                                   1   \n",
       "2       1003                                   3   \n",
       "\n",
       "                   event_timestamp  conv_rate  acc_rate  avg_daily_trips  \n",
       "0 2022-08-13 05:38:57.842689+00:00   0.534422  0.761452              841  \n",
       "1 2022-08-13 06:03:57.842684+00:00   0.922234  0.012095              798  \n",
       "2 2022-08-13 05:01:57.842691+00:00   0.733360  0.287259              925  "
      ]
     },
     "execution_count": 11,
     "metadata": {},
     "output_type": "execute_result"
    }
   ],
   "source": [
    "training_data_job.to_df(validation_reference=validation_reference_fail)"
   ]
  },
  {
   "cell_type": "code",
   "execution_count": null,
   "id": "709d00e9-4041-4664-9bef-999fc389b75d",
   "metadata": {},
   "outputs": [],
   "source": []
  },
  {
   "cell_type": "code",
   "execution_count": null,
   "id": "54156930-025f-4c60-87df-95875bb99ce2",
   "metadata": {},
   "outputs": [],
   "source": []
  },
  {
   "cell_type": "code",
   "execution_count": 16,
   "id": "cbdb3bbb-c9fc-466f-8972-42a028dff341",
   "metadata": {},
   "outputs": [
    {
     "name": "stdout",
     "output_type": "stream",
     "text": [
      "Materializing \u001b[1m\u001b[32m1\u001b[0m feature views to \u001b[1m\u001b[32m2022-08-12 23:34:21-06:00\u001b[0m into the \u001b[1m\u001b[32msqlite\u001b[0m online store.\n",
      "\n",
      "\u001b[1m\u001b[32mdriver_hourly_stats\u001b[0m from \u001b[1m\u001b[32m2022-08-12 11:34:23-06:00\u001b[0m to \u001b[1m\u001b[32m2022-08-12 23:34:21-06:00\u001b[0m:\n",
      "100%|████████████████████████████████████████████████████████████████| 5/5 [00:00<00:00, 198.98it/s]\n"
     ]
    }
   ],
   "source": [
    "from datetime import datetime\n",
    "!feast materialize-incremental {datetime.now().isoformat()}"
   ]
  },
  {
   "cell_type": "code",
   "execution_count": 17,
   "id": "3dde262c-e4be-4e02-86df-91351d458700",
   "metadata": {},
   "outputs": [
    {
     "name": "stdout",
     "output_type": "stream",
     "text": [
      "--- Data directory ---\n",
      "driver_stats.parquet\t\tonline_store.db\n",
      "driver_stats_reference.parquet\tregistry.db\n",
      "\n",
      "--- Schema of online store ---\n",
      "                                          entity_key     feature_name  \\\n",
      "0  b'\\x02\\x00\\x00\\x00driver_id\\x04\\x00\\x00\\x00\\x0...        conv_rate   \n",
      "1  b'\\x02\\x00\\x00\\x00driver_id\\x04\\x00\\x00\\x00\\x0...         acc_rate   \n",
      "2  b'\\x02\\x00\\x00\\x00driver_id\\x04\\x00\\x00\\x00\\x0...  avg_daily_trips   \n",
      "3  b'\\x02\\x00\\x00\\x00driver_id\\x04\\x00\\x00\\x00\\x0...        conv_rate   \n",
      "4  b'\\x02\\x00\\x00\\x00driver_id\\x04\\x00\\x00\\x00\\x0...         acc_rate   \n",
      "5  b'\\x02\\x00\\x00\\x00driver_id\\x04\\x00\\x00\\x00\\x0...  avg_daily_trips   \n",
      "6  b'\\x02\\x00\\x00\\x00driver_id\\x04\\x00\\x00\\x00\\x0...        conv_rate   \n",
      "7  b'\\x02\\x00\\x00\\x00driver_id\\x04\\x00\\x00\\x00\\x0...         acc_rate   \n",
      "8  b'\\x02\\x00\\x00\\x00driver_id\\x04\\x00\\x00\\x00\\x0...  avg_daily_trips   \n",
      "9  b'\\x02\\x00\\x00\\x00driver_id\\x04\\x00\\x00\\x00\\x0...        conv_rate   \n",
      "\n",
      "               value             event_ts                  created_ts  \n",
      "0        b'5Y(\\xdc>'  2022-08-13 04:00:00  2022-08-13 05:34:06.235000  \n",
      "1     b'5\\xeb\\xa6/?'  2022-08-13 04:00:00  2022-08-13 05:34:06.235000  \n",
      "2       b' \\xbd\\x07'  2022-08-13 04:00:00  2022-08-13 05:34:06.235000  \n",
      "3        b'5O\\xefP?'  2022-08-13 04:00:00  2022-08-13 05:34:06.235000  \n",
      "4        b'5g?\\xf0>'  2022-08-13 04:00:00  2022-08-13 05:34:06.235000  \n",
      "5       b' \\x91\\x04'  2022-08-13 04:00:00  2022-08-13 05:34:06.235000  \n",
      "6        b'5_\\x80Q>'  2022-08-13 04:00:00  2022-08-13 05:34:06.235000  \n",
      "7        b'5#=\\x0b?'  2022-08-13 04:00:00  2022-08-13 05:34:06.235000  \n",
      "8              b' r'  2022-08-13 04:00:00  2022-08-13 05:34:06.235000  \n",
      "9  b'5\\xed\\xdc\\x94>'  2022-08-13 04:00:00  2022-08-13 05:34:06.235000  \n"
     ]
    }
   ],
   "source": [
    "print(\"--- Data directory ---\")\n",
    "!ls data\n",
    "\n",
    "import sqlite3\n",
    "import pandas as pd\n",
    "con = sqlite3.connect(\"data/online_store.db\")\n",
    "print(\"\\n--- Schema of online store ---\")\n",
    "print(\n",
    "    pd.read_sql_query(\"SELECT * FROM dqm_repo_driver_hourly_stats limit 10;\", con)\n",
    ")\n",
    "con.close()"
   ]
  },
  {
   "cell_type": "code",
   "execution_count": 18,
   "id": "5348f972-a46b-44e9-8082-e9a2bea85472",
   "metadata": {},
   "outputs": [
    {
     "name": "stdout",
     "output_type": "stream",
     "text": [
      "{'acc_rate': [0.4692337214946747, 0.5439016222953796],\n",
      " 'avg_daily_trips': [529, 114],\n",
      " 'conv_rate': [0.8161515593528748, 0.20459125936031342],\n",
      " 'driver_id': [1004, 1005]}\n"
     ]
    }
   ],
   "source": [
    "from pprint import pprint\n",
    "from feast import FeatureStore\n",
    "\n",
    "store = FeatureStore(repo_path=\".\")\n",
    "\n",
    "feature_vector = store.get_online_features(\n",
    "    features=[\n",
    "        \"driver_hourly_stats:conv_rate\",\n",
    "        \"driver_hourly_stats:acc_rate\",\n",
    "        \"driver_hourly_stats:avg_daily_trips\",\n",
    "    ],\n",
    "    entity_rows=[\n",
    "        {\"driver_id\": 1004},\n",
    "        {\"driver_id\": 1005},\n",
    "    ],\n",
    ").to_dict()\n",
    "\n",
    "pprint(feature_vector)\n"
   ]
  },
  {
   "cell_type": "code",
   "execution_count": 19,
   "id": "0ce59403-e754-4e11-90be-333da59fffe8",
   "metadata": {},
   "outputs": [
    {
     "name": "stdout",
     "output_type": "stream",
     "text": [
      "{'acc_rate': [0.4692337214946747, 0.5439016222953796],\n",
      " 'avg_daily_trips': [529, 114],\n",
      " 'conv_rate': [0.8161515593528748, 0.20459125936031342],\n",
      " 'driver_id': [1004, 1005]}\n"
     ]
    }
   ],
   "source": [
    "from feast import FeatureStore\n",
    "feature_store = FeatureStore('.')  # Initialize the feature store\n",
    "\n",
    "feature_service = feature_store.get_feature_service(\"driver_activity\")\n",
    "feature_vector = feature_store.get_online_features(\n",
    "    features=feature_service,\n",
    "    entity_rows=[\n",
    "        # {join_key: entity_value}\n",
    "        {\"driver_id\": 1004},\n",
    "        {\"driver_id\": 1005},\n",
    "    ],\n",
    ").to_dict()\n",
    "pprint(feature_vector)"
   ]
  },
  {
   "cell_type": "code",
   "execution_count": 20,
   "id": "5df7ed9d-0eb6-4118-9712-d5a2095c4135",
   "metadata": {},
   "outputs": [],
   "source": [
    "from feast.saved_dataset import ValidationReference\n",
    "\n",
    "ref = ValidationReference(\n",
    "    name='user_features_training_ref',\n",
    "    dataset_name=\"reference_dataset\",\n",
    "    profiler=user_features_profiler,\n",
    ")"
   ]
  },
  {
   "cell_type": "code",
   "execution_count": 21,
   "id": "a42cc816-4bcd-4c7e-b70b-f658021849da",
   "metadata": {},
   "outputs": [],
   "source": [
    "store.apply(ref)"
   ]
  },
  {
   "cell_type": "code",
   "execution_count": 23,
   "id": "b44429ba-ee7c-4484-b10e-834076016802",
   "metadata": {},
   "outputs": [],
   "source": [
    "import pandas as pd\n",
    "insert_df = pd.DataFrame({\n",
    "    \"driver_id\": [1003],\n",
    "    \"conv_rate\": [-1],\n",
    "    \"acc_rate\": [2],\n",
    "    \"avg_daily_trips\": [1500],\n",
    "    \"event_timestamp\": [datetime.now()],\n",
    "    \"created\": [datetime.now()],\n",
    "})\n",
    "\n",
    "store.write_to_online_store(\"driver_hourly_stats\", insert_df)"
   ]
  },
  {
   "cell_type": "code",
   "execution_count": null,
   "id": "067aa7aa-e176-496d-bc7d-0c5141f85d73",
   "metadata": {
    "tags": []
   },
   "outputs": [],
   "source": [
    "end_ts = datetime.now()\n",
    "start_ts = end_ts - timedelta(minutes=10)\n",
    "\n",
    "! feast validate --feature-service driver_activity --reference user_features_training_ref {start_ts.isoformat()} {end_ts.isoformat()}"
   ]
  },
  {
   "cell_type": "code",
   "execution_count": null,
   "id": "88be2c52-f90d-4c95-a581-5f2cd9af2314",
   "metadata": {},
   "outputs": [],
   "source": []
  }
 ],
 "metadata": {
  "kernelspec": {
   "display_name": "Python 3 (ipykernel)",
   "language": "python",
   "name": "python3"
  },
  "language_info": {
   "codemirror_mode": {
    "name": "ipython",
    "version": 3
   },
   "file_extension": ".py",
   "mimetype": "text/x-python",
   "name": "python",
   "nbconvert_exporter": "python",
   "pygments_lexer": "ipython3",
   "version": "3.8.13"
  }
 },
 "nbformat": 4,
 "nbformat_minor": 5
}
