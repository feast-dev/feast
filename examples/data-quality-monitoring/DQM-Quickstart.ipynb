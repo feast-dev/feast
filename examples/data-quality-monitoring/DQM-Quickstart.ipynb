{
 "cells": [
  {
   "cell_type": "code",
   "execution_count": 1,
   "id": "7945b3fc-369a-47f1-8617-bcec53f46ff1",
   "metadata": {},
   "outputs": [
    {
     "name": "stdout",
     "output_type": "stream",
     "text": [
      "Please restart your runtime now (Runtime -> Restart runtime). This ensures that the correct dependencies are loaded.\n"
     ]
    }
   ],
   "source": [
    "%%sh\n",
    "pip install Pygments -q\n",
    "echo \"Please restart your runtime now (Runtime -> Restart runtime). This ensures that the correct dependencies are loaded.\""
   ]
  },
  {
   "cell_type": "markdown",
   "id": "ded981b3-c3c8-48e7-b063-9674a484cb40",
   "metadata": {},
   "source": [
    "# Based on these tutorials:\n",
    "\n",
    "- https://docs.feast.dev/reference/dqm\n",
    "- https://docs.feast.dev/tutorials/validating-historical-features\n"
   ]
  },
  {
   "cell_type": "code",
   "execution_count": 1,
   "id": "7383b638-b26b-429d-9fb6-715064789509",
   "metadata": {},
   "outputs": [],
   "source": [
    "import feast"
   ]
  },
  {
   "cell_type": "code",
   "execution_count": 2,
   "id": "5c8ed134-927a-455f-a0dc-c797139898b6",
   "metadata": {},
   "outputs": [
    {
     "data": {
      "text/plain": [
       "'0.23.1.dev35+g32d20395'"
      ]
     },
     "execution_count": 2,
     "metadata": {},
     "output_type": "execute_result"
    }
   ],
   "source": [
    "feast.__version__"
   ]
  },
  {
   "cell_type": "code",
   "execution_count": 4,
   "id": "799bef6e-01f9-4848-98db-f52a1f7c1287",
   "metadata": {},
   "outputs": [
    {
     "name": "stdout",
     "output_type": "stream",
     "text": [
      "\n",
      "Creating a new Feast repository in \u001b[1m\u001b[32m/Users/franciscojavierarceo/GitHub/feast/examples/data-quality-monitoring/dqm_repo\u001b[0m.\n",
      "\n"
     ]
    }
   ],
   "source": [
    "!rm -rf dqm_repo\n",
    "!feast init dqm_repo"
   ]
  },
  {
   "cell_type": "code",
   "execution_count": 6,
   "id": "b4cedb95-d9d8-416f-b296-225fc3071b45",
   "metadata": {},
   "outputs": [
    {
     "name": "stdout",
     "output_type": "stream",
     "text": [
      "Feast SDK Version: \"feast 0.23.1.dev35+g32d20395\"\n"
     ]
    }
   ],
   "source": [
    "!feast version"
   ]
  },
  {
   "cell_type": "code",
   "execution_count": 7,
   "id": "59d631fb-4f5e-43d1-8d75-98d5920ca0ac",
   "metadata": {},
   "outputs": [
    {
     "name": "stdout",
     "output_type": "stream",
     "text": [
      "/Users/franciscojavierarceo/GitHub/feast/examples/data-quality-monitoring/dqm_repo\n",
      "__init__.py        example.py         \u001b[34mlogs\u001b[m\u001b[m\n",
      "\u001b[34mdata\u001b[m\u001b[m               feature_store.yaml\n",
      "\n",
      "./data:\n",
      "driver_stats.parquet\n",
      "\n",
      "./logs:\n"
     ]
    }
   ],
   "source": [
    "%cd dqm_repo\n",
    "!mkdir logs\n",
    "!ls -R"
   ]
  },
  {
   "cell_type": "code",
   "execution_count": 8,
   "id": "8b9e69b6-a6a0-40dc-ba12-8b6053a86817",
   "metadata": {},
   "outputs": [
    {
     "name": "stdout",
     "output_type": "stream",
     "text": [
      "\u001b[94mproject\u001b[39;49;00m:\u001b[37m \u001b[39;49;00mdqm_repo\u001b[37m\u001b[39;49;00m\n",
      "\u001b[94mregistry\u001b[39;49;00m:\u001b[37m \u001b[39;49;00mdata/registry.db\u001b[37m\u001b[39;49;00m\n",
      "\u001b[94mprovider\u001b[39;49;00m:\u001b[37m \u001b[39;49;00mlocal\u001b[37m\u001b[39;49;00m\n",
      "\u001b[94monline_store\u001b[39;49;00m:\u001b[37m\u001b[39;49;00m\n",
      "\u001b[37m    \u001b[39;49;00m\u001b[94mpath\u001b[39;49;00m:\u001b[37m \u001b[39;49;00mdata/online_store.db\u001b[37m\u001b[39;49;00m\n",
      "\u001b[94mentity_key_serialization_version\u001b[39;49;00m:\u001b[37m \u001b[39;49;00m2\u001b[37m\u001b[39;49;00m\n"
     ]
    }
   ],
   "source": [
    "!pygmentize feature_store.yaml"
   ]
  },
  {
   "cell_type": "code",
   "execution_count": 9,
   "id": "ddbaa5f6-63a3-4844-bfff-337e4299e18a",
   "metadata": {},
   "outputs": [
    {
     "data": {
      "text/html": [
       "<div>\n",
       "<style scoped>\n",
       "    .dataframe tbody tr th:only-of-type {\n",
       "        vertical-align: middle;\n",
       "    }\n",
       "\n",
       "    .dataframe tbody tr th {\n",
       "        vertical-align: top;\n",
       "    }\n",
       "\n",
       "    .dataframe thead th {\n",
       "        text-align: right;\n",
       "    }\n",
       "</style>\n",
       "<table border=\"1\" class=\"dataframe\">\n",
       "  <thead>\n",
       "    <tr style=\"text-align: right;\">\n",
       "      <th></th>\n",
       "      <th>event_timestamp</th>\n",
       "      <th>driver_id</th>\n",
       "      <th>conv_rate</th>\n",
       "      <th>acc_rate</th>\n",
       "      <th>avg_daily_trips</th>\n",
       "      <th>created</th>\n",
       "    </tr>\n",
       "  </thead>\n",
       "  <tbody>\n",
       "    <tr>\n",
       "      <th>0</th>\n",
       "      <td>2022-07-25 20:00:00+00:00</td>\n",
       "      <td>1005</td>\n",
       "      <td>0.934775</td>\n",
       "      <td>0.645397</td>\n",
       "      <td>464</td>\n",
       "      <td>2022-08-09 20:11:20.159</td>\n",
       "    </tr>\n",
       "    <tr>\n",
       "      <th>1</th>\n",
       "      <td>2022-07-25 21:00:00+00:00</td>\n",
       "      <td>1005</td>\n",
       "      <td>0.288393</td>\n",
       "      <td>0.138461</td>\n",
       "      <td>389</td>\n",
       "      <td>2022-08-09 20:11:20.159</td>\n",
       "    </tr>\n",
       "    <tr>\n",
       "      <th>2</th>\n",
       "      <td>2022-07-25 22:00:00+00:00</td>\n",
       "      <td>1005</td>\n",
       "      <td>0.755318</td>\n",
       "      <td>0.711767</td>\n",
       "      <td>875</td>\n",
       "      <td>2022-08-09 20:11:20.159</td>\n",
       "    </tr>\n",
       "    <tr>\n",
       "      <th>3</th>\n",
       "      <td>2022-07-25 23:00:00+00:00</td>\n",
       "      <td>1005</td>\n",
       "      <td>0.664952</td>\n",
       "      <td>0.911580</td>\n",
       "      <td>609</td>\n",
       "      <td>2022-08-09 20:11:20.159</td>\n",
       "    </tr>\n",
       "    <tr>\n",
       "      <th>4</th>\n",
       "      <td>2022-07-26 00:00:00+00:00</td>\n",
       "      <td>1005</td>\n",
       "      <td>0.970190</td>\n",
       "      <td>0.840818</td>\n",
       "      <td>493</td>\n",
       "      <td>2022-08-09 20:11:20.159</td>\n",
       "    </tr>\n",
       "    <tr>\n",
       "      <th>...</th>\n",
       "      <td>...</td>\n",
       "      <td>...</td>\n",
       "      <td>...</td>\n",
       "      <td>...</td>\n",
       "      <td>...</td>\n",
       "      <td>...</td>\n",
       "    </tr>\n",
       "    <tr>\n",
       "      <th>1802</th>\n",
       "      <td>2022-08-09 18:00:00+00:00</td>\n",
       "      <td>1001</td>\n",
       "      <td>0.970100</td>\n",
       "      <td>0.362816</td>\n",
       "      <td>94</td>\n",
       "      <td>2022-08-09 20:11:20.159</td>\n",
       "    </tr>\n",
       "    <tr>\n",
       "      <th>1803</th>\n",
       "      <td>2022-08-09 19:00:00+00:00</td>\n",
       "      <td>1001</td>\n",
       "      <td>0.827786</td>\n",
       "      <td>0.719152</td>\n",
       "      <td>654</td>\n",
       "      <td>2022-08-09 20:11:20.159</td>\n",
       "    </tr>\n",
       "    <tr>\n",
       "      <th>1804</th>\n",
       "      <td>2021-04-12 07:00:00+00:00</td>\n",
       "      <td>1001</td>\n",
       "      <td>0.564200</td>\n",
       "      <td>0.843841</td>\n",
       "      <td>736</td>\n",
       "      <td>2022-08-09 20:11:20.159</td>\n",
       "    </tr>\n",
       "    <tr>\n",
       "      <th>1805</th>\n",
       "      <td>2022-08-02 08:00:00+00:00</td>\n",
       "      <td>1003</td>\n",
       "      <td>0.933908</td>\n",
       "      <td>0.863545</td>\n",
       "      <td>587</td>\n",
       "      <td>2022-08-09 20:11:20.159</td>\n",
       "    </tr>\n",
       "    <tr>\n",
       "      <th>1806</th>\n",
       "      <td>2022-08-02 08:00:00+00:00</td>\n",
       "      <td>1003</td>\n",
       "      <td>0.933908</td>\n",
       "      <td>0.863545</td>\n",
       "      <td>587</td>\n",
       "      <td>2022-08-09 20:11:20.159</td>\n",
       "    </tr>\n",
       "  </tbody>\n",
       "</table>\n",
       "<p>1807 rows × 6 columns</p>\n",
       "</div>"
      ],
      "text/plain": [
       "               event_timestamp  driver_id  conv_rate  acc_rate  \\\n",
       "0    2022-07-25 20:00:00+00:00       1005   0.934775  0.645397   \n",
       "1    2022-07-25 21:00:00+00:00       1005   0.288393  0.138461   \n",
       "2    2022-07-25 22:00:00+00:00       1005   0.755318  0.711767   \n",
       "3    2022-07-25 23:00:00+00:00       1005   0.664952  0.911580   \n",
       "4    2022-07-26 00:00:00+00:00       1005   0.970190  0.840818   \n",
       "...                        ...        ...        ...       ...   \n",
       "1802 2022-08-09 18:00:00+00:00       1001   0.970100  0.362816   \n",
       "1803 2022-08-09 19:00:00+00:00       1001   0.827786  0.719152   \n",
       "1804 2021-04-12 07:00:00+00:00       1001   0.564200  0.843841   \n",
       "1805 2022-08-02 08:00:00+00:00       1003   0.933908  0.863545   \n",
       "1806 2022-08-02 08:00:00+00:00       1003   0.933908  0.863545   \n",
       "\n",
       "      avg_daily_trips                 created  \n",
       "0                 464 2022-08-09 20:11:20.159  \n",
       "1                 389 2022-08-09 20:11:20.159  \n",
       "2                 875 2022-08-09 20:11:20.159  \n",
       "3                 609 2022-08-09 20:11:20.159  \n",
       "4                 493 2022-08-09 20:11:20.159  \n",
       "...               ...                     ...  \n",
       "1802               94 2022-08-09 20:11:20.159  \n",
       "1803              654 2022-08-09 20:11:20.159  \n",
       "1804              736 2022-08-09 20:11:20.159  \n",
       "1805              587 2022-08-09 20:11:20.159  \n",
       "1806              587 2022-08-09 20:11:20.159  \n",
       "\n",
       "[1807 rows x 6 columns]"
      ]
     },
     "execution_count": 9,
     "metadata": {},
     "output_type": "execute_result"
    }
   ],
   "source": [
    "import pandas as pd\n",
    "\n",
    "pd.read_parquet(\"data/driver_stats.parquet\")"
   ]
  },
  {
   "cell_type": "code",
   "execution_count": 10,
   "id": "7bb41d5f-95de-40b0-815b-10437b40ee36",
   "metadata": {
    "tags": []
   },
   "outputs": [
    {
     "name": "stdout",
     "output_type": "stream",
     "text": [
      "\u001b[38;2;61;123;123;03m# This is an example feature definition file\u001b[39;00m\n",
      "\n",
      "\u001b[38;2;0;128;0;01mfrom\u001b[39;00m \u001b[38;2;0;0;255;01mdatetime\u001b[39;00m \u001b[38;2;0;128;0;01mimport\u001b[39;00m timedelta\n",
      "\n",
      "\u001b[38;2;0;128;0;01mfrom\u001b[39;00m \u001b[38;2;0;0;255;01mfeast\u001b[39;00m \u001b[38;2;0;128;0;01mimport\u001b[39;00m Entity, FeatureService, FeatureView, Field, FileSource\n",
      "\u001b[38;2;0;128;0;01mfrom\u001b[39;00m \u001b[38;2;0;0;255;01mfeast\u001b[39;00m\u001b[38;2;0;0;255;01m.\u001b[39;00m\u001b[38;2;0;0;255;01mtypes\u001b[39;00m \u001b[38;2;0;128;0;01mimport\u001b[39;00m Float32, Int64\n",
      "\n",
      "\u001b[38;2;61;123;123;03m# Read data from parquet files. Parquet is convenient for local development mode. For\u001b[39;00m\n",
      "\u001b[38;2;61;123;123;03m# production, you can use your favorite DWH, such as BigQuery. See Feast documentation\u001b[39;00m\n",
      "\u001b[38;2;61;123;123;03m# for more info.\u001b[39;00m\n",
      "driver_hourly_stats \u001b[38;2;102;102;102m=\u001b[39m FileSource(\n",
      "    name\u001b[38;2;102;102;102m=\u001b[39m\u001b[38;2;186;33;33m\"\u001b[39m\u001b[38;2;186;33;33mdriver_hourly_stats_source\u001b[39m\u001b[38;2;186;33;33m\"\u001b[39m,\n",
      "    path\u001b[38;2;102;102;102m=\u001b[39m\u001b[38;2;186;33;33m\"\u001b[39m\u001b[38;2;186;33;33m/Users/franciscojavierarceo/GitHub/feast/examples/data-quality-monitoring/dqm_repo/data/driver_stats.parquet\u001b[39m\u001b[38;2;186;33;33m\"\u001b[39m,\n",
      "    timestamp_field\u001b[38;2;102;102;102m=\u001b[39m\u001b[38;2;186;33;33m\"\u001b[39m\u001b[38;2;186;33;33mevent_timestamp\u001b[39m\u001b[38;2;186;33;33m\"\u001b[39m,\n",
      "    created_timestamp_column\u001b[38;2;102;102;102m=\u001b[39m\u001b[38;2;186;33;33m\"\u001b[39m\u001b[38;2;186;33;33mcreated\u001b[39m\u001b[38;2;186;33;33m\"\u001b[39m,\n",
      ")\n",
      "\n",
      "\u001b[38;2;61;123;123;03m# Define an entity for the driver. You can think of entity as a primary key used to\u001b[39;00m\n",
      "\u001b[38;2;61;123;123;03m# fetch features.\u001b[39;00m\n",
      "driver \u001b[38;2;102;102;102m=\u001b[39m Entity(name\u001b[38;2;102;102;102m=\u001b[39m\u001b[38;2;186;33;33m\"\u001b[39m\u001b[38;2;186;33;33mdriver\u001b[39m\u001b[38;2;186;33;33m\"\u001b[39m, join_keys\u001b[38;2;102;102;102m=\u001b[39m[\u001b[38;2;186;33;33m\"\u001b[39m\u001b[38;2;186;33;33mdriver_id\u001b[39m\u001b[38;2;186;33;33m\"\u001b[39m])\n",
      "\n",
      "\u001b[38;2;61;123;123;03m# Our parquet files contain sample data that includes a driver_id column, timestamps and\u001b[39;00m\n",
      "\u001b[38;2;61;123;123;03m# three feature column. Here we define a Feature View that will allow us to serve this\u001b[39;00m\n",
      "\u001b[38;2;61;123;123;03m# data to our model online.\u001b[39;00m\n",
      "driver_hourly_stats_view \u001b[38;2;102;102;102m=\u001b[39m FeatureView(\n",
      "    name\u001b[38;2;102;102;102m=\u001b[39m\u001b[38;2;186;33;33m\"\u001b[39m\u001b[38;2;186;33;33mdriver_hourly_stats\u001b[39m\u001b[38;2;186;33;33m\"\u001b[39m,\n",
      "    entities\u001b[38;2;102;102;102m=\u001b[39m[driver],\n",
      "    ttl\u001b[38;2;102;102;102m=\u001b[39mtimedelta(days\u001b[38;2;102;102;102m=\u001b[39m\u001b[38;2;102;102;102m1\u001b[39m),\n",
      "    schema\u001b[38;2;102;102;102m=\u001b[39m[\n",
      "        Field(name\u001b[38;2;102;102;102m=\u001b[39m\u001b[38;2;186;33;33m\"\u001b[39m\u001b[38;2;186;33;33mconv_rate\u001b[39m\u001b[38;2;186;33;33m\"\u001b[39m, dtype\u001b[38;2;102;102;102m=\u001b[39mFloat32),\n",
      "        Field(name\u001b[38;2;102;102;102m=\u001b[39m\u001b[38;2;186;33;33m\"\u001b[39m\u001b[38;2;186;33;33macc_rate\u001b[39m\u001b[38;2;186;33;33m\"\u001b[39m, dtype\u001b[38;2;102;102;102m=\u001b[39mFloat32),\n",
      "        Field(name\u001b[38;2;102;102;102m=\u001b[39m\u001b[38;2;186;33;33m\"\u001b[39m\u001b[38;2;186;33;33mavg_daily_trips\u001b[39m\u001b[38;2;186;33;33m\"\u001b[39m, dtype\u001b[38;2;102;102;102m=\u001b[39mInt64),\n",
      "    ],\n",
      "    online\u001b[38;2;102;102;102m=\u001b[39m\u001b[38;2;0;128;0;01mTrue\u001b[39;00m,\n",
      "    source\u001b[38;2;102;102;102m=\u001b[39mdriver_hourly_stats,\n",
      "    tags\u001b[38;2;102;102;102m=\u001b[39m{},\n",
      ")\n",
      "\n",
      "driver_stats_fs \u001b[38;2;102;102;102m=\u001b[39m FeatureService(\n",
      "    name\u001b[38;2;102;102;102m=\u001b[39m\u001b[38;2;186;33;33m\"\u001b[39m\u001b[38;2;186;33;33mdriver_activity\u001b[39m\u001b[38;2;186;33;33m\"\u001b[39m, features\u001b[38;2;102;102;102m=\u001b[39m[driver_hourly_stats_view]\n",
      ")\n"
     ]
    }
   ],
   "source": [
    "!pygmentize -f terminal16m example.py"
   ]
  },
  {
   "cell_type": "code",
   "execution_count": 11,
   "id": "bccf73f9-47fe-44a5-b188-d16bd008a018",
   "metadata": {},
   "outputs": [],
   "source": [
    "from datetime import timedelta\n",
    "\n",
    "from feast import Entity, FeatureService, FeatureView, Field, FileSource, BatchFeatureView\n",
    "from feast.types import Float32, Int64\n",
    "from feast.data_format import ParquetFormat\n",
    "\n",
    "\n",
    "# Read data from parquet files. Parquet is convenient for local development mode. For\n",
    "# production, you can use your favorite DWH, such as BigQuery. See Feast documentation\n",
    "# for more info.\n",
    "driver_hourly_stats = FileSource(\n",
    "    name=\"driver_hourly_stats_source\",\n",
    "    path=\"/home/francisco/github/feast/examples/data-quality-monitoring/dqm_repo/data/driver_stats.parquet\",\n",
    "    timestamp_field=\"event_timestamp\",\n",
    "    created_timestamp_column=\"created\",\n",
    "    file_format=ParquetFormat(),\n",
    ")\n",
    "\n",
    "# Define an entity for the driver. You can think of entity as a primary key used to\n",
    "# fetch features.\n",
    "driver = Entity(name=\"driver\", join_keys=[\"driver_id\"])\n",
    "\n",
    "# Our parquet files contain sample data that includes a driver_id column, timestamps and\n",
    "# three feature column. Here we define a Feature View that will allow us to serve this\n",
    "# data to our model online.\n",
    "driver_hourly_stats_view = FeatureView(\n",
    "    name=\"driver_hourly_stats\",\n",
    "    entities=[driver],\n",
    "    ttl=timedelta(days=1),\n",
    "    schema=[\n",
    "        Field(name=\"conv_rate\", dtype=Float32),\n",
    "        Field(name=\"acc_rate\", dtype=Float32),\n",
    "        Field(name=\"avg_daily_trips\", dtype=Int64),\n",
    "    ],\n",
    "    online=True,\n",
    "    source=driver_hourly_stats,\n",
    "    tags={},\n",
    ")"
   ]
  },
  {
   "cell_type": "code",
   "execution_count": 13,
   "id": "0dbcd5f7-9fd4-4d3d-ae72-d3f80c83abe1",
   "metadata": {},
   "outputs": [],
   "source": [
    "driver_hourly_stats_batch_view = BatchFeatureView(\n",
    "    name='driver_hourly_stats_batch',\n",
    "    entities=[driver],\n",
    "#     features=[\n",
    "#         Field(name=\"conv_rate\", dtype=Float32),\n",
    "#         Field(name=\"acc_rate\", dtype=Float32),\n",
    "#         Field(name=\"avg_daily_trips\", dtype=Int64),\n",
    "#     ],\n",
    "    ttl=timedelta(days=1),\n",
    "    source=driver_hourly_stats,\n",
    ")"
   ]
  },
  {
   "cell_type": "code",
   "execution_count": 14,
   "id": "ae97637a-ea09-468a-8e61-f1a2fcf752c4",
   "metadata": {},
   "outputs": [],
   "source": [
    "from feast.on_demand_feature_view import on_demand_feature_view\n",
    "\n",
    "@on_demand_feature_view(\n",
    "    schema=[\n",
    "        Field(name=\"conv_rate\", dtype=Float32),\n",
    "        Field(name=\"acc_rate\", dtype=Float32),\n",
    "        Field(name=\"avg_daily_trips\", dtype=Int64),\n",
    "    ],\n",
    "    sources=[\n",
    "      driver_hourly_stats_batch_view,\n",
    "    ]\n",
    ")\n",
    "\n",
    "def on_demand_stats(inp):\n",
    "    out = pd.DataFrame()\n",
    "    out[\"conv_rate\"] = inp[\"conv_rate\"] * 5.\n",
    "    return out"
   ]
  },
  {
   "cell_type": "code",
   "execution_count": 15,
   "id": "5eca5770-a180-4900-8d1c-2fdd8e1bd10c",
   "metadata": {},
   "outputs": [
    {
     "name": "stderr",
     "output_type": "stream",
     "text": [
      "/Users/franciscojavierarceo/GitHub/feast/sdk/python/feast/feature_store.py:537: RuntimeWarning: On demand feature view is an experimental feature. This API is stable, but the functionality does not scale well for offline retrieval\n",
      "  warnings.warn(\n"
     ]
    },
    {
     "ename": "KeyError",
     "evalue": "'conv_rate'",
     "output_type": "error",
     "traceback": [
      "\u001b[0;31m---------------------------------------------------------------------------\u001b[0m",
      "\u001b[0;31mKeyError\u001b[0m                                  Traceback (most recent call last)",
      "File \u001b[0;32m~/GitHub/feast/venv/lib/python3.8/site-packages/pandas/core/indexes/base.py:3621\u001b[0m, in \u001b[0;36mIndex.get_loc\u001b[0;34m(self, key, method, tolerance)\u001b[0m\n\u001b[1;32m   3620\u001b[0m \u001b[38;5;28;01mtry\u001b[39;00m:\n\u001b[0;32m-> 3621\u001b[0m     \u001b[38;5;28;01mreturn\u001b[39;00m \u001b[38;5;28;43mself\u001b[39;49m\u001b[38;5;241;43m.\u001b[39;49m\u001b[43m_engine\u001b[49m\u001b[38;5;241;43m.\u001b[39;49m\u001b[43mget_loc\u001b[49m\u001b[43m(\u001b[49m\u001b[43mcasted_key\u001b[49m\u001b[43m)\u001b[49m\n\u001b[1;32m   3622\u001b[0m \u001b[38;5;28;01mexcept\u001b[39;00m \u001b[38;5;167;01mKeyError\u001b[39;00m \u001b[38;5;28;01mas\u001b[39;00m err:\n",
      "File \u001b[0;32m~/GitHub/feast/venv/lib/python3.8/site-packages/pandas/_libs/index.pyx:136\u001b[0m, in \u001b[0;36mpandas._libs.index.IndexEngine.get_loc\u001b[0;34m()\u001b[0m\n",
      "File \u001b[0;32m~/GitHub/feast/venv/lib/python3.8/site-packages/pandas/_libs/index.pyx:163\u001b[0m, in \u001b[0;36mpandas._libs.index.IndexEngine.get_loc\u001b[0;34m()\u001b[0m\n",
      "File \u001b[0;32mpandas/_libs/hashtable_class_helper.pxi:5198\u001b[0m, in \u001b[0;36mpandas._libs.hashtable.PyObjectHashTable.get_item\u001b[0;34m()\u001b[0m\n",
      "File \u001b[0;32mpandas/_libs/hashtable_class_helper.pxi:5206\u001b[0m, in \u001b[0;36mpandas._libs.hashtable.PyObjectHashTable.get_item\u001b[0;34m()\u001b[0m\n",
      "\u001b[0;31mKeyError\u001b[0m: 'conv_rate'",
      "\nThe above exception was the direct cause of the following exception:\n",
      "\u001b[0;31mKeyError\u001b[0m                                  Traceback (most recent call last)",
      "Input \u001b[0;32mIn [15]\u001b[0m, in \u001b[0;36m<cell line: 4>\u001b[0;34m()\u001b[0m\n\u001b[1;32m      1\u001b[0m \u001b[38;5;28;01mfrom\u001b[39;00m \u001b[38;5;21;01mfeast\u001b[39;00m \u001b[38;5;28;01mimport\u001b[39;00m FeatureStore\n\u001b[1;32m      3\u001b[0m store \u001b[38;5;241m=\u001b[39m FeatureStore(repo_path\u001b[38;5;241m=\u001b[39m\u001b[38;5;124m\"\u001b[39m\u001b[38;5;124m.\u001b[39m\u001b[38;5;124m\"\u001b[39m)\n\u001b[0;32m----> 4\u001b[0m \u001b[43mstore\u001b[49m\u001b[38;5;241;43m.\u001b[39;49m\u001b[43mapply\u001b[49m\u001b[43m(\u001b[49m\u001b[43m[\u001b[49m\u001b[43mdriver\u001b[49m\u001b[43m,\u001b[49m\u001b[43m \u001b[49m\u001b[43mdriver_hourly_stats_batch_view\u001b[49m\u001b[43m,\u001b[49m\u001b[43m \u001b[49m\u001b[43mon_demand_stats\u001b[49m\u001b[43m]\u001b[49m\u001b[43m)\u001b[49m\n",
      "File \u001b[0;32m~/GitHub/feast/sdk/python/feast/usage.py:287\u001b[0m, in \u001b[0;36mlog_exceptions_and_usage.<locals>.decorator.<locals>.wrapper\u001b[0;34m(*args, **kwargs)\u001b[0m\n\u001b[1;32m    284\u001b[0m     ctx\u001b[38;5;241m.\u001b[39mtraceback \u001b[38;5;241m=\u001b[39m _trace_to_log(traceback)\n\u001b[1;32m    286\u001b[0m     \u001b[38;5;28;01mif\u001b[39;00m traceback:\n\u001b[0;32m--> 287\u001b[0m         \u001b[38;5;28;01mraise\u001b[39;00m exc\u001b[38;5;241m.\u001b[39mwith_traceback(traceback)\n\u001b[1;32m    289\u001b[0m     \u001b[38;5;28;01mraise\u001b[39;00m exc\n\u001b[1;32m    290\u001b[0m \u001b[38;5;28;01mfinally\u001b[39;00m:\n",
      "File \u001b[0;32m~/GitHub/feast/sdk/python/feast/usage.py:276\u001b[0m, in \u001b[0;36mlog_exceptions_and_usage.<locals>.decorator.<locals>.wrapper\u001b[0;34m(*args, **kwargs)\u001b[0m\n\u001b[1;32m    273\u001b[0m ctx\u001b[38;5;241m.\u001b[39mattributes\u001b[38;5;241m.\u001b[39mupdate(attrs)\n\u001b[1;32m    275\u001b[0m \u001b[38;5;28;01mtry\u001b[39;00m:\n\u001b[0;32m--> 276\u001b[0m     \u001b[38;5;28;01mreturn\u001b[39;00m \u001b[43mfunc\u001b[49m\u001b[43m(\u001b[49m\u001b[38;5;241;43m*\u001b[39;49m\u001b[43margs\u001b[49m\u001b[43m,\u001b[49m\u001b[43m \u001b[49m\u001b[38;5;241;43m*\u001b[39;49m\u001b[38;5;241;43m*\u001b[39;49m\u001b[43mkwargs\u001b[49m\u001b[43m)\u001b[49m\n\u001b[1;32m    277\u001b[0m \u001b[38;5;28;01mexcept\u001b[39;00m \u001b[38;5;167;01mException\u001b[39;00m:\n\u001b[1;32m    278\u001b[0m     \u001b[38;5;28;01mif\u001b[39;00m ctx\u001b[38;5;241m.\u001b[39mexception:\n\u001b[1;32m    279\u001b[0m         \u001b[38;5;66;03m# exception was already recorded\u001b[39;00m\n",
      "File \u001b[0;32m~/GitHub/feast/sdk/python/feast/feature_store.py:858\u001b[0m, in \u001b[0;36mFeatureStore.apply\u001b[0;34m(self, objects, objects_to_delete, partial)\u001b[0m\n\u001b[1;32m    854\u001b[0m \u001b[38;5;66;03m# Validate all feature views and make inferences.\u001b[39;00m\n\u001b[1;32m    855\u001b[0m \u001b[38;5;28mself\u001b[39m\u001b[38;5;241m.\u001b[39m_validate_all_feature_views(\n\u001b[1;32m    856\u001b[0m     views_to_update, odfvs_to_update, request_views_to_update, sfvs_to_update\n\u001b[1;32m    857\u001b[0m )\n\u001b[0;32m--> 858\u001b[0m \u001b[38;5;28;43mself\u001b[39;49m\u001b[38;5;241;43m.\u001b[39;49m\u001b[43m_make_inferences\u001b[49m\u001b[43m(\u001b[49m\n\u001b[1;32m    859\u001b[0m \u001b[43m    \u001b[49m\u001b[43mdata_sources_to_update\u001b[49m\u001b[43m,\u001b[49m\n\u001b[1;32m    860\u001b[0m \u001b[43m    \u001b[49m\u001b[43mentities_to_update\u001b[49m\u001b[43m,\u001b[49m\n\u001b[1;32m    861\u001b[0m \u001b[43m    \u001b[49m\u001b[43mviews_to_update\u001b[49m\u001b[43m,\u001b[49m\n\u001b[1;32m    862\u001b[0m \u001b[43m    \u001b[49m\u001b[43modfvs_to_update\u001b[49m\u001b[43m,\u001b[49m\n\u001b[1;32m    863\u001b[0m \u001b[43m    \u001b[49m\u001b[43msfvs_to_update\u001b[49m\u001b[43m,\u001b[49m\n\u001b[1;32m    864\u001b[0m \u001b[43m    \u001b[49m\u001b[43mservices_to_update\u001b[49m\u001b[43m,\u001b[49m\n\u001b[1;32m    865\u001b[0m \u001b[43m\u001b[49m\u001b[43m)\u001b[49m\n\u001b[1;32m    867\u001b[0m \u001b[38;5;66;03m# Add all objects to the registry and update the provider's infrastructure.\u001b[39;00m\n\u001b[1;32m    868\u001b[0m \u001b[38;5;28;01mfor\u001b[39;00m ds \u001b[38;5;129;01min\u001b[39;00m data_sources_to_update:\n",
      "File \u001b[0;32m~/GitHub/feast/sdk/python/feast/feature_store.py:592\u001b[0m, in \u001b[0;36mFeatureStore._make_inferences\u001b[0;34m(self, data_sources_to_update, entities_to_update, views_to_update, odfvs_to_update, sfvs_to_update, feature_services_to_update)\u001b[0m\n\u001b[1;32m    587\u001b[0m         \u001b[38;5;28;01mraise\u001b[39;00m \u001b[38;5;167;01mValueError\u001b[39;00m(\n\u001b[1;32m    588\u001b[0m             \u001b[38;5;124mf\u001b[39m\u001b[38;5;124m\"\u001b[39m\u001b[38;5;124mschema inference not yet supported for stream feature views. please define schema for stream feature view: \u001b[39m\u001b[38;5;132;01m{\u001b[39;00msfv\u001b[38;5;241m.\u001b[39mname\u001b[38;5;132;01m}\u001b[39;00m\u001b[38;5;124m\"\u001b[39m\n\u001b[1;32m    589\u001b[0m         )\n\u001b[1;32m    591\u001b[0m \u001b[38;5;28;01mfor\u001b[39;00m odfv \u001b[38;5;129;01min\u001b[39;00m odfvs_to_update:\n\u001b[0;32m--> 592\u001b[0m     \u001b[43modfv\u001b[49m\u001b[38;5;241;43m.\u001b[39;49m\u001b[43minfer_features\u001b[49m\u001b[43m(\u001b[49m\u001b[43m)\u001b[49m\n\u001b[1;32m    594\u001b[0m fvs_to_update_map \u001b[38;5;241m=\u001b[39m {\n\u001b[1;32m    595\u001b[0m     view\u001b[38;5;241m.\u001b[39mname: view \u001b[38;5;28;01mfor\u001b[39;00m view \u001b[38;5;129;01min\u001b[39;00m [\u001b[38;5;241m*\u001b[39mviews_to_update, \u001b[38;5;241m*\u001b[39msfvs_to_update]\n\u001b[1;32m    596\u001b[0m }\n\u001b[1;32m    597\u001b[0m \u001b[38;5;28;01mfor\u001b[39;00m feature_service \u001b[38;5;129;01min\u001b[39;00m feature_services_to_update:\n",
      "File \u001b[0;32m~/GitHub/feast/sdk/python/feast/on_demand_feature_view.py:361\u001b[0m, in \u001b[0;36mOnDemandFeatureView.infer_features\u001b[0;34m(self)\u001b[0m\n\u001b[1;32m    359\u001b[0m         sample_val \u001b[38;5;241m=\u001b[39m rand_df_value[dtype] \u001b[38;5;28;01mif\u001b[39;00m dtype \u001b[38;5;129;01min\u001b[39;00m rand_df_value \u001b[38;5;28;01melse\u001b[39;00m \u001b[38;5;28;01mNone\u001b[39;00m\n\u001b[1;32m    360\u001b[0m         df[\u001b[38;5;124mf\u001b[39m\u001b[38;5;124m\"\u001b[39m\u001b[38;5;132;01m{\u001b[39;00mfield\u001b[38;5;241m.\u001b[39mname\u001b[38;5;132;01m}\u001b[39;00m\u001b[38;5;124m\"\u001b[39m] \u001b[38;5;241m=\u001b[39m pd\u001b[38;5;241m.\u001b[39mSeries(sample_val, dtype\u001b[38;5;241m=\u001b[39mdtype)\n\u001b[0;32m--> 361\u001b[0m output_df: pd\u001b[38;5;241m.\u001b[39mDataFrame \u001b[38;5;241m=\u001b[39m \u001b[38;5;28;43mself\u001b[39;49m\u001b[38;5;241;43m.\u001b[39;49m\u001b[43mudf\u001b[49m\u001b[38;5;241;43m.\u001b[39;49m\u001b[38;5;21;43m__call__\u001b[39;49m\u001b[43m(\u001b[49m\u001b[43mdf\u001b[49m\u001b[43m)\u001b[49m\n\u001b[1;32m    362\u001b[0m inferred_features \u001b[38;5;241m=\u001b[39m []\n\u001b[1;32m    363\u001b[0m \u001b[38;5;28;01mfor\u001b[39;00m f, dt \u001b[38;5;129;01min\u001b[39;00m \u001b[38;5;28mzip\u001b[39m(output_df\u001b[38;5;241m.\u001b[39mcolumns, output_df\u001b[38;5;241m.\u001b[39mdtypes):\n",
      "Input \u001b[0;32mIn [14]\u001b[0m, in \u001b[0;36mon_demand_stats\u001b[0;34m(inp)\u001b[0m\n\u001b[1;32m      3\u001b[0m \u001b[38;5;129m@on_demand_feature_view\u001b[39m(\n\u001b[1;32m      4\u001b[0m     schema\u001b[38;5;241m=\u001b[39m[\n\u001b[1;32m      5\u001b[0m         Field(name\u001b[38;5;241m=\u001b[39m\u001b[38;5;124m\"\u001b[39m\u001b[38;5;124mconv_rate\u001b[39m\u001b[38;5;124m\"\u001b[39m, dtype\u001b[38;5;241m=\u001b[39mFloat32),\n\u001b[0;32m   (...)\u001b[0m\n\u001b[1;32m     13\u001b[0m \n\u001b[1;32m     14\u001b[0m \u001b[38;5;28;01mdef\u001b[39;00m \u001b[38;5;21mon_demand_stats\u001b[39m(inp):\n\u001b[1;32m     15\u001b[0m     out \u001b[38;5;241m=\u001b[39m pd\u001b[38;5;241m.\u001b[39mDataFrame()\n\u001b[0;32m---> 16\u001b[0m     out[\u001b[38;5;124m\"\u001b[39m\u001b[38;5;124mconv_rate\u001b[39m\u001b[38;5;124m\"\u001b[39m] \u001b[38;5;241m=\u001b[39m \u001b[43minp\u001b[49m\u001b[43m[\u001b[49m\u001b[38;5;124;43m\"\u001b[39;49m\u001b[38;5;124;43mconv_rate\u001b[39;49m\u001b[38;5;124;43m\"\u001b[39;49m\u001b[43m]\u001b[49m \u001b[38;5;241m*\u001b[39m \u001b[38;5;241m5.\u001b[39m\n\u001b[1;32m     17\u001b[0m     \u001b[38;5;28;01mreturn\u001b[39;00m out\n",
      "File \u001b[0;32m~/GitHub/feast/venv/lib/python3.8/site-packages/pandas/core/frame.py:3505\u001b[0m, in \u001b[0;36mDataFrame.__getitem__\u001b[0;34m(self, key)\u001b[0m\n\u001b[1;32m   3503\u001b[0m \u001b[38;5;28;01mif\u001b[39;00m \u001b[38;5;28mself\u001b[39m\u001b[38;5;241m.\u001b[39mcolumns\u001b[38;5;241m.\u001b[39mnlevels \u001b[38;5;241m>\u001b[39m \u001b[38;5;241m1\u001b[39m:\n\u001b[1;32m   3504\u001b[0m     \u001b[38;5;28;01mreturn\u001b[39;00m \u001b[38;5;28mself\u001b[39m\u001b[38;5;241m.\u001b[39m_getitem_multilevel(key)\n\u001b[0;32m-> 3505\u001b[0m indexer \u001b[38;5;241m=\u001b[39m \u001b[38;5;28;43mself\u001b[39;49m\u001b[38;5;241;43m.\u001b[39;49m\u001b[43mcolumns\u001b[49m\u001b[38;5;241;43m.\u001b[39;49m\u001b[43mget_loc\u001b[49m\u001b[43m(\u001b[49m\u001b[43mkey\u001b[49m\u001b[43m)\u001b[49m\n\u001b[1;32m   3506\u001b[0m \u001b[38;5;28;01mif\u001b[39;00m is_integer(indexer):\n\u001b[1;32m   3507\u001b[0m     indexer \u001b[38;5;241m=\u001b[39m [indexer]\n",
      "File \u001b[0;32m~/GitHub/feast/venv/lib/python3.8/site-packages/pandas/core/indexes/base.py:3623\u001b[0m, in \u001b[0;36mIndex.get_loc\u001b[0;34m(self, key, method, tolerance)\u001b[0m\n\u001b[1;32m   3621\u001b[0m     \u001b[38;5;28;01mreturn\u001b[39;00m \u001b[38;5;28mself\u001b[39m\u001b[38;5;241m.\u001b[39m_engine\u001b[38;5;241m.\u001b[39mget_loc(casted_key)\n\u001b[1;32m   3622\u001b[0m \u001b[38;5;28;01mexcept\u001b[39;00m \u001b[38;5;167;01mKeyError\u001b[39;00m \u001b[38;5;28;01mas\u001b[39;00m err:\n\u001b[0;32m-> 3623\u001b[0m     \u001b[38;5;28;01mraise\u001b[39;00m \u001b[38;5;167;01mKeyError\u001b[39;00m(key) \u001b[38;5;28;01mfrom\u001b[39;00m \u001b[38;5;21;01merr\u001b[39;00m\n\u001b[1;32m   3624\u001b[0m \u001b[38;5;28;01mexcept\u001b[39;00m \u001b[38;5;167;01mTypeError\u001b[39;00m:\n\u001b[1;32m   3625\u001b[0m     \u001b[38;5;66;03m# If we have a listlike key, _check_indexing_error will raise\u001b[39;00m\n\u001b[1;32m   3626\u001b[0m     \u001b[38;5;66;03m#  InvalidIndexError. Otherwise we fall through and re-raise\u001b[39;00m\n\u001b[1;32m   3627\u001b[0m     \u001b[38;5;66;03m#  the TypeError.\u001b[39;00m\n\u001b[1;32m   3628\u001b[0m     \u001b[38;5;28mself\u001b[39m\u001b[38;5;241m.\u001b[39m_check_indexing_error(key)\n",
      "\u001b[0;31mKeyError\u001b[0m: 'conv_rate'"
     ]
    }
   ],
   "source": [
    "from feast import FeatureStore\n",
    "\n",
    "store = FeatureStore(repo_path=\".\")\n",
    "\n",
    "store.apply([driver, driver_hourly_stats_batch_view, on_demand_stats])  # writing to the registry"
   ]
  },
  {
   "cell_type": "code",
   "execution_count": null,
   "id": "f72428ec-0e79-47a8-bebb-47559323da16",
   "metadata": {},
   "outputs": [],
   "source": []
  },
  {
   "cell_type": "code",
   "execution_count": null,
   "id": "9611a87d-26d0-4757-835b-8d4c33d1c42c",
   "metadata": {},
   "outputs": [],
   "source": []
  },
  {
   "cell_type": "code",
   "execution_count": 16,
   "id": "217df7fd-edc5-48c2-87c7-5c9be04b0747",
   "metadata": {},
   "outputs": [],
   "source": [
    "driver_stats_fs = FeatureService(\n",
    "    name=\"driver_activity\", \n",
    "    features=[driver_hourly_stats_view],\n",
    ")"
   ]
  },
  {
   "cell_type": "code",
   "execution_count": 17,
   "id": "f480a6a5-3b1f-4fbe-a95c-38767a8c9fa5",
   "metadata": {},
   "outputs": [
    {
     "name": "stdout",
     "output_type": "stream",
     "text": [
      "Created entity \u001b[1m\u001b[32mdriver\u001b[0m\n",
      "Created feature view \u001b[1m\u001b[32mdriver_hourly_stats\u001b[0m\n",
      "Created feature service \u001b[1m\u001b[32mdriver_activity\u001b[0m\n",
      "\n",
      "Created sqlite table \u001b[1m\u001b[32mdqm_repo_driver_hourly_stats\u001b[0m\n",
      "\n"
     ]
    }
   ],
   "source": [
    "!feast apply"
   ]
  },
  {
   "cell_type": "code",
   "execution_count": 18,
   "id": "2d21fbc8-cb4c-45d2-ac3a-7bc11759d03a",
   "metadata": {},
   "outputs": [
    {
     "name": "stdout",
     "output_type": "stream",
     "text": [
      "----- Feature schema -----\n",
      "\n",
      "<class 'pandas.core.frame.DataFrame'>\n",
      "RangeIndex: 3 entries, 0 to 2\n",
      "Data columns (total 6 columns):\n",
      " #   Column                              Non-Null Count  Dtype              \n",
      "---  ------                              --------------  -----              \n",
      " 0   driver_id                           3 non-null      int64              \n",
      " 1   label_driver_reported_satisfaction  3 non-null      int64              \n",
      " 2   event_timestamp                     3 non-null      datetime64[ns, UTC]\n",
      " 3   conv_rate                           3 non-null      float32            \n",
      " 4   acc_rate                            3 non-null      float32            \n",
      " 5   avg_daily_trips                     3 non-null      int32              \n",
      "dtypes: datetime64[ns, UTC](1), float32(2), int32(1), int64(2)\n",
      "memory usage: 236.0 bytes\n",
      "None\n",
      "\n",
      "----- Example features -----\n",
      "\n",
      "   driver_id  label_driver_reported_satisfaction  \\\n",
      "0       1002                                   5   \n",
      "1       1001                                   1   \n",
      "2       1003                                   3   \n",
      "\n",
      "                   event_timestamp  conv_rate  acc_rate  avg_daily_trips  \n",
      "0 2022-08-09 19:37:52.917735+00:00   0.054348  0.029196              526  \n",
      "1 2022-08-09 20:02:52.917724+00:00   0.827786  0.719152              654  \n",
      "2 2022-08-09 19:00:52.917738+00:00   0.955770  0.596370              970  \n"
     ]
    }
   ],
   "source": [
    "from datetime import datetime, timedelta\n",
    "import pandas as pd\n",
    "\n",
    "from feast import FeatureStore\n",
    "\n",
    "# The entity dataframe is the dataframe we want to enrich with feature values\n",
    "entity_df = pd.DataFrame.from_dict(\n",
    "    {\n",
    "        \"driver_id\": [1001, 1002, 1003],\n",
    "        \"label_driver_reported_satisfaction\": [1, 5, 3], \n",
    "        \"event_timestamp\": [\n",
    "            datetime.now() - timedelta(minutes=11),\n",
    "            datetime.now() - timedelta(minutes=36),\n",
    "            datetime.now() - timedelta(minutes=73),\n",
    "        ],\n",
    "    }\n",
    ")\n",
    "\n",
    "store = FeatureStore(repo_path=\".\")\n",
    "\n",
    "training_df = store.get_historical_features(\n",
    "    entity_df=entity_df,\n",
    "    features=[\n",
    "        \"driver_hourly_stats:conv_rate\",\n",
    "        \"driver_hourly_stats:acc_rate\",\n",
    "        \"driver_hourly_stats:avg_daily_trips\",\n",
    "    ],\n",
    ").to_df()\n",
    "\n",
    "print(\"----- Feature schema -----\\n\")\n",
    "print(training_df.info())\n",
    "\n",
    "print()\n",
    "print(\"----- Example features -----\\n\")\n",
    "print(training_df.head())"
   ]
  },
  {
   "cell_type": "code",
   "execution_count": 19,
   "id": "cbdb3bbb-c9fc-466f-8972-42a028dff341",
   "metadata": {},
   "outputs": [
    {
     "name": "stdout",
     "output_type": "stream",
     "text": [
      "Materializing \u001b[1m\u001b[32m1\u001b[0m feature views to \u001b[1m\u001b[32m2022-08-09 14:13:53-06:00\u001b[0m into the \u001b[1m\u001b[32msqlite\u001b[0m online store.\n",
      "\n",
      "\u001b[1m\u001b[32mdriver_hourly_stats\u001b[0m from \u001b[1m\u001b[32m2022-08-09 02:13:55-06:00\u001b[0m to \u001b[1m\u001b[32m2022-08-09 14:13:53-06:00\u001b[0m:\n",
      "100%|████████████████████████████████████████████████████████████████| 5/5 [00:00<00:00, 435.65it/s]\n"
     ]
    }
   ],
   "source": [
    "from datetime import datetime\n",
    "!feast materialize-incremental {datetime.now().isoformat()}"
   ]
  },
  {
   "cell_type": "code",
   "execution_count": 20,
   "id": "3dde262c-e4be-4e02-86df-91351d458700",
   "metadata": {},
   "outputs": [
    {
     "name": "stdout",
     "output_type": "stream",
     "text": [
      "--- Data directory ---\n",
      "driver_stats.parquet online_store.db      registry.db\n",
      "\n",
      "--- Schema of online store ---\n",
      "                                          entity_key     feature_name  \\\n",
      "0  b'\\x02\\x00\\x00\\x00driver_id\\x04\\x00\\x00\\x00\\x0...        conv_rate   \n",
      "1  b'\\x02\\x00\\x00\\x00driver_id\\x04\\x00\\x00\\x00\\x0...         acc_rate   \n",
      "2  b'\\x02\\x00\\x00\\x00driver_id\\x04\\x00\\x00\\x00\\x0...  avg_daily_trips   \n",
      "3  b'\\x02\\x00\\x00\\x00driver_id\\x04\\x00\\x00\\x00\\x0...        conv_rate   \n",
      "4  b'\\x02\\x00\\x00\\x00driver_id\\x04\\x00\\x00\\x00\\x0...         acc_rate   \n",
      "5  b'\\x02\\x00\\x00\\x00driver_id\\x04\\x00\\x00\\x00\\x0...  avg_daily_trips   \n",
      "6  b'\\x02\\x00\\x00\\x00driver_id\\x04\\x00\\x00\\x00\\x0...        conv_rate   \n",
      "7  b'\\x02\\x00\\x00\\x00driver_id\\x04\\x00\\x00\\x00\\x0...         acc_rate   \n",
      "8  b'\\x02\\x00\\x00\\x00driver_id\\x04\\x00\\x00\\x00\\x0...  avg_daily_trips   \n",
      "9  b'\\x02\\x00\\x00\\x00driver_id\\x04\\x00\\x00\\x00\\x0...        conv_rate   \n",
      "\n",
      "               value             event_ts                  created_ts  \n",
      "0        b'5S\\xadt?'  2022-08-09 19:00:00  2022-08-09 20:11:20.159000  \n",
      "1  b'5\\xbc\\xab\\x18?'  2022-08-09 19:00:00  2022-08-09 20:11:20.159000  \n",
      "2       b' \\xca\\x07'  2022-08-09 19:00:00  2022-08-09 20:11:20.159000  \n",
      "3     b'5G\\xcd\\xf0>'  2022-08-09 19:00:00  2022-08-09 20:11:20.159000  \n",
      "4        b'5)@\\x00>'  2022-08-09 19:00:00  2022-08-09 20:11:20.159000  \n",
      "5       b' \\xa2\\x02'  2022-08-09 19:00:00  2022-08-09 20:11:20.159000  \n",
      "6  b'5\\x01\\xb3\\xef>'  2022-08-09 19:00:00  2022-08-09 20:11:20.159000  \n",
      "7        b'5M\\xed3?'  2022-08-09 19:00:00  2022-08-09 20:11:20.159000  \n",
      "8       b' \\xb9\\x03'  2022-08-09 19:00:00  2022-08-09 20:11:20.159000  \n",
      "9     b'5\\xc5\\xe9S?'  2022-08-09 19:00:00  2022-08-09 20:11:20.159000  \n"
     ]
    }
   ],
   "source": [
    "print(\"--- Data directory ---\")\n",
    "!ls data\n",
    "\n",
    "import sqlite3\n",
    "import pandas as pd\n",
    "con = sqlite3.connect(\"data/online_store.db\")\n",
    "print(\"\\n--- Schema of online store ---\")\n",
    "print(\n",
    "    pd.read_sql_query(\n",
    "        \"SELECT * FROM dqm_repo_driver_hourly_stats limit 10;\", con)#.columns.tolist()\n",
    ")\n",
    "con.close()"
   ]
  },
  {
   "cell_type": "code",
   "execution_count": 21,
   "id": "5348f972-a46b-44e9-8082-e9a2bea85472",
   "metadata": {},
   "outputs": [
    {
     "name": "stdout",
     "output_type": "stream",
     "text": [
      "{'acc_rate': [0.12524475157260895, 0.7028396725654602],\n",
      " 'avg_daily_trips': [290, 441],\n",
      " 'conv_rate': [0.4703161418437958, 0.46816256642341614],\n",
      " 'driver_id': [1004, 1005]}\n"
     ]
    }
   ],
   "source": [
    "from pprint import pprint\n",
    "from feast import FeatureStore\n",
    "\n",
    "store = FeatureStore(repo_path=\".\")\n",
    "\n",
    "feature_vector = store.get_online_features(\n",
    "    features=[\n",
    "        \"driver_hourly_stats:conv_rate\",\n",
    "        \"driver_hourly_stats:acc_rate\",\n",
    "        \"driver_hourly_stats:avg_daily_trips\",\n",
    "    ],\n",
    "    entity_rows=[\n",
    "        {\"driver_id\": 1004},\n",
    "        {\"driver_id\": 1005},\n",
    "    ],\n",
    ").to_dict()\n",
    "\n",
    "pprint(feature_vector)\n"
   ]
  },
  {
   "cell_type": "code",
   "execution_count": 22,
   "id": "0ce59403-e754-4e11-90be-333da59fffe8",
   "metadata": {},
   "outputs": [
    {
     "name": "stdout",
     "output_type": "stream",
     "text": [
      "{'acc_rate': [0.12524475157260895, 0.7028396725654602],\n",
      " 'avg_daily_trips': [290, 441],\n",
      " 'conv_rate': [0.4703161418437958, 0.46816256642341614],\n",
      " 'driver_id': [1004, 1005]}\n"
     ]
    }
   ],
   "source": [
    "from feast import FeatureStore\n",
    "feature_store = FeatureStore('.')  # Initialize the feature store\n",
    "\n",
    "feature_service = feature_store.get_feature_service(\"driver_activity\")\n",
    "feature_vector = feature_store.get_online_features(\n",
    "    features=feature_service,\n",
    "    entity_rows=[\n",
    "        # {join_key: entity_value}\n",
    "        {\"driver_id\": 1004},\n",
    "        {\"driver_id\": 1005},\n",
    "    ],\n",
    ").to_dict()\n",
    "pprint(feature_vector)"
   ]
  },
  {
   "cell_type": "markdown",
   "id": "c664084a-42f1-4be2-a9f3-018cced91608",
   "metadata": {},
   "source": [
    "# Great Expectations"
   ]
  },
  {
   "cell_type": "code",
   "execution_count": 23,
   "id": "2b52f3b9-a43a-4770-a8a4-4b75c983e4bd",
   "metadata": {},
   "outputs": [],
   "source": [
    "feature_store = \\\n",
    "f\"\"\"project: dqm_repo\n",
    "registry: data/registry.db\n",
    "provider: local\n",
    "offline_store:\n",
    "    type: file\n",
    "online_store:\n",
    "    path: data/online_store.db\n",
    "entity_key_serialization_version: 2\n",
    "feature_server:\n",
    "    enabled: True\n",
    "    feature_logging:\n",
    "        enabled: True\n",
    "        flush_interval_secs: 60\n",
    "        write_to_disk_interval_secs: 10\n",
    "    \n",
    "go_feature_retrieval: False\n",
    "\"\"\"\n",
    "\n",
    "with open('feature_store.yaml', \"w\") as feature_store_file:\n",
    "    feature_store_file.write(feature_store)\n",
    "\n",
    "dqm_services = f\"\"\"\n",
    "from feast import FeatureService\n",
    "from feast.feature_logging import LoggingConfig\n",
    "from feast.infra.offline_stores.file_source import FileLoggingDestination\n",
    "\n",
    "from example import driver_hourly_stats, driver, driver_hourly_stats_view\n",
    "\n",
    "fs = FeatureService(\n",
    "    name=\"driver_activity\", \n",
    "    features=[driver_hourly_stats_view],\n",
    "    logging_config=LoggingConfig(\n",
    "        sample_rate=1.0,\n",
    "        destination=FileLoggingDestination(path=\"logs/\"),\n",
    "    )\n",
    ")\n",
    "\"\"\"\n",
    "    \n",
    "with open('dqm_services.py', \"w\") as dqm_services_file:\n",
    "    dqm_services_file.write(dqm_services)"
   ]
  },
  {
   "cell_type": "code",
   "execution_count": 24,
   "id": "4c3d79aa-9ad2-4a20-a527-f600d58ba829",
   "metadata": {},
   "outputs": [
    {
     "name": "stdout",
     "output_type": "stream",
     "text": [
      "Updated feature service \u001b[1m\u001b[33mdriver_activity\u001b[0m\n",
      "\tlogging_config: \u001b[1m\u001b[33m\u001b[0m -> \u001b[1m\u001b[92msample_rate: 1.0\n",
      "file_destination {\n",
      "  path: \"logs/\"\n",
      "}\n",
      "\u001b[0m\n",
      "\n",
      "\u001b[1m\u001b[94mNo changes to infrastructure\n"
     ]
    }
   ],
   "source": [
    "!feast apply"
   ]
  },
  {
   "cell_type": "code",
   "execution_count": 25,
   "id": "3c90d75f-23b7-4c6b-96a4-6689e2affb32",
   "metadata": {},
   "outputs": [],
   "source": [
    "from feast.infra.offline_stores.file_source import SavedDatasetFileStorage"
   ]
  },
  {
   "cell_type": "code",
   "execution_count": 26,
   "id": "42d7cee0-6d9c-4700-88d6-bf3e54f27620",
   "metadata": {},
   "outputs": [
    {
     "data": {
      "text/html": [
       "<div>\n",
       "<style scoped>\n",
       "    .dataframe tbody tr th:only-of-type {\n",
       "        vertical-align: middle;\n",
       "    }\n",
       "\n",
       "    .dataframe tbody tr th {\n",
       "        vertical-align: top;\n",
       "    }\n",
       "\n",
       "    .dataframe thead th {\n",
       "        text-align: right;\n",
       "    }\n",
       "</style>\n",
       "<table border=\"1\" class=\"dataframe\">\n",
       "  <thead>\n",
       "    <tr style=\"text-align: right;\">\n",
       "      <th></th>\n",
       "      <th>driver_id</th>\n",
       "      <th>label_driver_reported_satisfaction</th>\n",
       "      <th>event_timestamp</th>\n",
       "      <th>conv_rate</th>\n",
       "      <th>acc_rate</th>\n",
       "      <th>avg_daily_trips</th>\n",
       "    </tr>\n",
       "  </thead>\n",
       "  <tbody>\n",
       "    <tr>\n",
       "      <th>0</th>\n",
       "      <td>1002</td>\n",
       "      <td>5</td>\n",
       "      <td>2022-08-09 19:37:52.917735+00:00</td>\n",
       "      <td>0.054348</td>\n",
       "      <td>0.029196</td>\n",
       "      <td>526</td>\n",
       "    </tr>\n",
       "    <tr>\n",
       "      <th>1</th>\n",
       "      <td>1001</td>\n",
       "      <td>1</td>\n",
       "      <td>2022-08-09 20:02:52.917724+00:00</td>\n",
       "      <td>0.827786</td>\n",
       "      <td>0.719152</td>\n",
       "      <td>654</td>\n",
       "    </tr>\n",
       "    <tr>\n",
       "      <th>2</th>\n",
       "      <td>1003</td>\n",
       "      <td>3</td>\n",
       "      <td>2022-08-09 19:00:52.917738+00:00</td>\n",
       "      <td>0.955770</td>\n",
       "      <td>0.596370</td>\n",
       "      <td>970</td>\n",
       "    </tr>\n",
       "  </tbody>\n",
       "</table>\n",
       "</div>"
      ],
      "text/plain": [
       "   driver_id  label_driver_reported_satisfaction  \\\n",
       "0       1002                                   5   \n",
       "1       1001                                   1   \n",
       "2       1003                                   3   \n",
       "\n",
       "                   event_timestamp  conv_rate  acc_rate  avg_daily_trips  \n",
       "0 2022-08-09 19:37:52.917735+00:00   0.054348  0.029196              526  \n",
       "1 2022-08-09 20:02:52.917724+00:00   0.827786  0.719152              654  \n",
       "2 2022-08-09 19:00:52.917738+00:00   0.955770  0.596370              970  "
      ]
     },
     "execution_count": 26,
     "metadata": {},
     "output_type": "execute_result"
    }
   ],
   "source": [
    "training_df.head()"
   ]
  },
  {
   "cell_type": "code",
   "execution_count": 27,
   "id": "3c2c9e16-9095-4978-b96b-4ed370c34298",
   "metadata": {},
   "outputs": [
    {
     "data": {
      "text/plain": [
       "<FeatureService(name = driver_activity, _features = [], feature_view_projections = [FeatureViewProjection(name='driver_hourly_stats', name_alias='', desired_features=[], features=[conv_rate-Float32, acc_rate-Float32, avg_daily_trips-Int64], join_key_map={})], description = , tags = {}, owner = , created_timestamp = 2022-08-10 02:13:41.425728, last_updated_timestamp = 2022-08-10 02:13:41.425728, logging_config = None)>"
      ]
     },
     "execution_count": 27,
     "metadata": {},
     "output_type": "execute_result"
    }
   ],
   "source": [
    "feature_service"
   ]
  },
  {
   "cell_type": "code",
   "execution_count": 28,
   "id": "6859d5a0-1c83-402b-9172-92fb405cc876",
   "metadata": {},
   "outputs": [],
   "source": [
    "training_data_job = store.get_historical_features(\n",
    "    entity_df=entity_df,\n",
    "    features=feature_service,\n",
    "    full_feature_names=True, \n",
    ")"
   ]
  },
  {
   "cell_type": "code",
   "execution_count": 29,
   "id": "ea0ebf07-3861-46a8-97e8-b4d02ea08a2c",
   "metadata": {},
   "outputs": [
    {
     "name": "stderr",
     "output_type": "stream",
     "text": [
      "/Users/franciscojavierarceo/GitHub/feast/sdk/python/feast/feature_store.py:1127: RuntimeWarning: Saving dataset is an experimental feature. This API is unstable and it could and most probably will be changed in the future. We do not guarantee that future changes will maintain backward compatibility.\n",
      "  warnings.warn(\n"
     ]
    }
   ],
   "source": [
    "reference_dataset = store.create_saved_dataset(\n",
    "    from_=training_data_job,\n",
    "    name=\"reference_dataset\",\n",
    "    storage=SavedDatasetFileStorage(path='data/driver_stats.parquet')\n",
    ")"
   ]
  },
  {
   "cell_type": "code",
   "execution_count": 30,
   "id": "13e48738-d257-4d0b-b0f9-ede3c0226eaa",
   "metadata": {},
   "outputs": [],
   "source": [
    "from feast.dqm.profilers.ge_profiler import ge_profiler\n",
    "from great_expectations.dataset import PandasDataset\n",
    "from great_expectations.core.expectation_suite import ExpectationSuite"
   ]
  },
  {
   "cell_type": "code",
   "execution_count": 31,
   "id": "b6483946-5e89-48f6-980e-36ffe295593a",
   "metadata": {},
   "outputs": [
    {
     "data": {
      "text/plain": [
       "['driver_hourly_stats:conv_rate',\n",
       " 'driver_hourly_stats:acc_rate',\n",
       " 'driver_hourly_stats:avg_daily_trips']"
      ]
     },
     "execution_count": 31,
     "metadata": {},
     "output_type": "execute_result"
    }
   ],
   "source": [
    "reference_dataset.features"
   ]
  },
  {
   "cell_type": "code",
   "execution_count": 32,
   "id": "e6bec99e-f9bd-4dd8-a7c3-277238781710",
   "metadata": {},
   "outputs": [],
   "source": [
    "@ge_profiler\n",
    "def user_features_profiler(ds: PandasDataset) -> ExpectationSuite:\n",
    "    print(ds.columns)\n",
    "    ds.expect_column_to_exist(\"driver_id\")\n",
    "    ds.expect_column_values_to_be_between(\"driver_hourly_stats__avg_daily_trips\", 0, 1000)\n",
    "    ds.expect_column_values_to_be_between(\"driver_hourly_stats__conv_rate\", 0, 1)\n",
    "    ds.expect_column_values_to_be_between(\"driver_hourly_stats__acc_rate\", 0, 1)\n",
    "    return ds.get_expectation_suite()"
   ]
  },
  {
   "cell_type": "code",
   "execution_count": 33,
   "id": "af829fd0-bcdb-46bc-8458-af6231047b9c",
   "metadata": {
    "tags": []
   },
   "outputs": [
    {
     "name": "stdout",
     "output_type": "stream",
     "text": [
      "Index(['label_driver_reported_satisfaction', 'driver_id', 'event_timestamp',\n",
      "       'driver_hourly_stats__acc_rate', 'driver_hourly_stats__avg_daily_trips',\n",
      "       'driver_hourly_stats__conv_rate'],\n",
      "      dtype='object')\n"
     ]
    },
    {
     "data": {
      "text/plain": [
       "<GEProfile with expectations: [\n",
       "  {\n",
       "    \"kwargs\": {\n",
       "      \"column\": \"driver_id\"\n",
       "    },\n",
       "    \"meta\": {},\n",
       "    \"expectation_type\": \"expect_column_to_exist\"\n",
       "  },\n",
       "  {\n",
       "    \"kwargs\": {\n",
       "      \"column\": \"driver_hourly_stats__avg_daily_trips\",\n",
       "      \"min_value\": 0,\n",
       "      \"max_value\": 1000\n",
       "    },\n",
       "    \"meta\": {},\n",
       "    \"expectation_type\": \"expect_column_values_to_be_between\"\n",
       "  },\n",
       "  {\n",
       "    \"kwargs\": {\n",
       "      \"column\": \"driver_hourly_stats__conv_rate\",\n",
       "      \"min_value\": 0,\n",
       "      \"max_value\": 1\n",
       "    },\n",
       "    \"meta\": {},\n",
       "    \"expectation_type\": \"expect_column_values_to_be_between\"\n",
       "  },\n",
       "  {\n",
       "    \"kwargs\": {\n",
       "      \"column\": \"driver_hourly_stats__acc_rate\",\n",
       "      \"min_value\": 0,\n",
       "      \"max_value\": 1\n",
       "    },\n",
       "    \"meta\": {},\n",
       "    \"expectation_type\": \"expect_column_values_to_be_between\"\n",
       "  }\n",
       "]>"
      ]
     },
     "execution_count": 33,
     "metadata": {},
     "output_type": "execute_result"
    }
   ],
   "source": [
    "reference_dataset.get_profile(profiler=user_features_profiler)"
   ]
  },
  {
   "cell_type": "code",
   "execution_count": 34,
   "id": "cbd5c2ba-21e2-4e5b-a21a-3a425955023c",
   "metadata": {},
   "outputs": [
    {
     "name": "stderr",
     "output_type": "stream",
     "text": [
      "/Users/franciscojavierarceo/GitHub/feast/sdk/python/feast/feature_store.py:1180: RuntimeWarning: Retrieving datasets is an experimental feature. This API is unstable and it could and most probably will be changed in the future. We do not guarantee that future changes will maintain backward compatibility.\n",
      "  warnings.warn(\n"
     ]
    }
   ],
   "source": [
    "ds = store.get_saved_dataset('reference_dataset')"
   ]
  },
  {
   "cell_type": "code",
   "execution_count": 35,
   "id": "bdd84c32-4e06-40cb-803d-1af99c8a4329",
   "metadata": {},
   "outputs": [],
   "source": [
    "validation_reference = ds.as_reference(name='user_features_profiler', profiler=user_features_profiler)"
   ]
  },
  {
   "cell_type": "code",
   "execution_count": 36,
   "id": "b6f6d469-929f-4fc9-9461-ff4df70f3971",
   "metadata": {},
   "outputs": [
    {
     "data": {
      "text/html": [
       "<div>\n",
       "<style scoped>\n",
       "    .dataframe tbody tr th:only-of-type {\n",
       "        vertical-align: middle;\n",
       "    }\n",
       "\n",
       "    .dataframe tbody tr th {\n",
       "        vertical-align: top;\n",
       "    }\n",
       "\n",
       "    .dataframe thead th {\n",
       "        text-align: right;\n",
       "    }\n",
       "</style>\n",
       "<table border=\"1\" class=\"dataframe\">\n",
       "  <thead>\n",
       "    <tr style=\"text-align: right;\">\n",
       "      <th></th>\n",
       "      <th>label_driver_reported_satisfaction</th>\n",
       "      <th>driver_id</th>\n",
       "      <th>event_timestamp</th>\n",
       "      <th>driver_hourly_stats__acc_rate</th>\n",
       "      <th>driver_hourly_stats__avg_daily_trips</th>\n",
       "      <th>driver_hourly_stats__conv_rate</th>\n",
       "    </tr>\n",
       "  </thead>\n",
       "  <tbody>\n",
       "    <tr>\n",
       "      <th>0</th>\n",
       "      <td>3</td>\n",
       "      <td>1003</td>\n",
       "      <td>2022-08-09 19:00:52.917738+00:00</td>\n",
       "      <td>0.596370</td>\n",
       "      <td>970</td>\n",
       "      <td>0.955770</td>\n",
       "    </tr>\n",
       "    <tr>\n",
       "      <th>1</th>\n",
       "      <td>5</td>\n",
       "      <td>1002</td>\n",
       "      <td>2022-08-09 19:37:52.917735+00:00</td>\n",
       "      <td>0.029196</td>\n",
       "      <td>526</td>\n",
       "      <td>0.054348</td>\n",
       "    </tr>\n",
       "    <tr>\n",
       "      <th>2</th>\n",
       "      <td>1</td>\n",
       "      <td>1001</td>\n",
       "      <td>2022-08-09 20:02:52.917724+00:00</td>\n",
       "      <td>0.719152</td>\n",
       "      <td>654</td>\n",
       "      <td>0.827786</td>\n",
       "    </tr>\n",
       "  </tbody>\n",
       "</table>\n",
       "</div>"
      ],
      "text/plain": [
       "   label_driver_reported_satisfaction  driver_id  \\\n",
       "0                                   3       1003   \n",
       "1                                   5       1002   \n",
       "2                                   1       1001   \n",
       "\n",
       "                   event_timestamp  driver_hourly_stats__acc_rate  \\\n",
       "0 2022-08-09 19:00:52.917738+00:00                       0.596370   \n",
       "1 2022-08-09 19:37:52.917735+00:00                       0.029196   \n",
       "2 2022-08-09 20:02:52.917724+00:00                       0.719152   \n",
       "\n",
       "   driver_hourly_stats__avg_daily_trips  driver_hourly_stats__conv_rate  \n",
       "0                                   970                        0.955770  \n",
       "1                                   526                        0.054348  \n",
       "2                                   654                        0.827786  "
      ]
     },
     "execution_count": 36,
     "metadata": {},
     "output_type": "execute_result"
    }
   ],
   "source": [
    "ds.to_df()"
   ]
  },
  {
   "cell_type": "code",
   "execution_count": 37,
   "id": "4b969155-8db7-413f-99a6-25cbc395b9b2",
   "metadata": {
    "tags": []
   },
   "outputs": [
    {
     "name": "stdout",
     "output_type": "stream",
     "text": [
      "Index(['label_driver_reported_satisfaction', 'driver_id', 'event_timestamp',\n",
      "       'driver_hourly_stats__acc_rate', 'driver_hourly_stats__avg_daily_trips',\n",
      "       'driver_hourly_stats__conv_rate'],\n",
      "      dtype='object')\n"
     ]
    },
    {
     "data": {
      "text/plain": [
       "<GEProfile with expectations: [\n",
       "  {\n",
       "    \"kwargs\": {\n",
       "      \"column\": \"driver_id\"\n",
       "    },\n",
       "    \"meta\": {},\n",
       "    \"expectation_type\": \"expect_column_to_exist\"\n",
       "  },\n",
       "  {\n",
       "    \"kwargs\": {\n",
       "      \"column\": \"driver_hourly_stats__avg_daily_trips\",\n",
       "      \"min_value\": 0,\n",
       "      \"max_value\": 1000\n",
       "    },\n",
       "    \"meta\": {},\n",
       "    \"expectation_type\": \"expect_column_values_to_be_between\"\n",
       "  },\n",
       "  {\n",
       "    \"kwargs\": {\n",
       "      \"column\": \"driver_hourly_stats__conv_rate\",\n",
       "      \"min_value\": 0,\n",
       "      \"max_value\": 1\n",
       "    },\n",
       "    \"meta\": {},\n",
       "    \"expectation_type\": \"expect_column_values_to_be_between\"\n",
       "  },\n",
       "  {\n",
       "    \"kwargs\": {\n",
       "      \"column\": \"driver_hourly_stats__acc_rate\",\n",
       "      \"min_value\": 0,\n",
       "      \"max_value\": 1\n",
       "    },\n",
       "    \"meta\": {},\n",
       "    \"expectation_type\": \"expect_column_values_to_be_between\"\n",
       "  }\n",
       "]>"
      ]
     },
     "execution_count": 37,
     "metadata": {},
     "output_type": "execute_result"
    }
   ],
   "source": [
    "ds.get_profile(profiler=user_features_profiler)"
   ]
  },
  {
   "cell_type": "code",
   "execution_count": 38,
   "id": "c43dc429-2190-4401-8da4-12c42c8a9855",
   "metadata": {},
   "outputs": [
    {
     "data": {
      "text/plain": [
       "True"
      ]
     },
     "execution_count": 38,
     "metadata": {},
     "output_type": "execute_result"
    }
   ],
   "source": [
    "training_data_job.full_feature_names"
   ]
  },
  {
   "cell_type": "code",
   "execution_count": null,
   "id": "57a5d3b7-d673-4182-bcca-e0ba659221ff",
   "metadata": {},
   "outputs": [],
   "source": []
  },
  {
   "cell_type": "code",
   "execution_count": 39,
   "id": "c7244688-8178-4e06-b951-cc0a7a377e45",
   "metadata": {},
   "outputs": [
    {
     "ename": "KeyError",
     "evalue": "\"['created'] not in index\"",
     "output_type": "error",
     "traceback": [
      "\u001b[0;31m---------------------------------------------------------------------------\u001b[0m",
      "\u001b[0;31mKeyError\u001b[0m                                  Traceback (most recent call last)",
      "Input \u001b[0;32mIn [39]\u001b[0m, in \u001b[0;36m<cell line: 1>\u001b[0;34m()\u001b[0m\n\u001b[0;32m----> 1\u001b[0m \u001b[43mtraining_data_job\u001b[49m\u001b[38;5;241;43m.\u001b[39;49m\u001b[43mevaluation_function\u001b[49m\u001b[43m(\u001b[49m\u001b[43m)\u001b[49m\u001b[38;5;241m.\u001b[39mcompute()\n",
      "File \u001b[0;32m~/GitHub/feast/sdk/python/feast/infra/offline_stores/file.py:226\u001b[0m, in \u001b[0;36mFileOfflineStore.get_historical_features.<locals>.evaluate_historical_retrieval\u001b[0;34m()\u001b[0m\n\u001b[1;32m    222\u001b[0m all_join_keys \u001b[38;5;241m=\u001b[39m \u001b[38;5;28mlist\u001b[39m(\u001b[38;5;28mset\u001b[39m(all_join_keys \u001b[38;5;241m+\u001b[39m join_keys))\n\u001b[1;32m    224\u001b[0m df_to_join \u001b[38;5;241m=\u001b[39m _read_datasource(feature_view\u001b[38;5;241m.\u001b[39mbatch_source)\n\u001b[0;32m--> 226\u001b[0m df_to_join, timestamp_field \u001b[38;5;241m=\u001b[39m \u001b[43m_field_mapping\u001b[49m\u001b[43m(\u001b[49m\n\u001b[1;32m    227\u001b[0m \u001b[43m    \u001b[49m\u001b[43mdf_to_join\u001b[49m\u001b[43m,\u001b[49m\n\u001b[1;32m    228\u001b[0m \u001b[43m    \u001b[49m\u001b[43mfeature_view\u001b[49m\u001b[43m,\u001b[49m\n\u001b[1;32m    229\u001b[0m \u001b[43m    \u001b[49m\u001b[43mfeatures\u001b[49m\u001b[43m,\u001b[49m\n\u001b[1;32m    230\u001b[0m \u001b[43m    \u001b[49m\u001b[43mright_entity_key_columns\u001b[49m\u001b[43m,\u001b[49m\n\u001b[1;32m    231\u001b[0m \u001b[43m    \u001b[49m\u001b[43mentity_df_event_timestamp_col\u001b[49m\u001b[43m,\u001b[49m\n\u001b[1;32m    232\u001b[0m \u001b[43m    \u001b[49m\u001b[43mtimestamp_field\u001b[49m\u001b[43m,\u001b[49m\n\u001b[1;32m    233\u001b[0m \u001b[43m    \u001b[49m\u001b[43mfull_feature_names\u001b[49m\u001b[43m,\u001b[49m\n\u001b[1;32m    234\u001b[0m \u001b[43m\u001b[49m\u001b[43m)\u001b[49m\n\u001b[1;32m    236\u001b[0m df_to_join \u001b[38;5;241m=\u001b[39m _merge(entity_df_with_features, df_to_join, join_keys)\n\u001b[1;32m    238\u001b[0m df_to_join \u001b[38;5;241m=\u001b[39m _normalize_timestamp(\n\u001b[1;32m    239\u001b[0m     df_to_join, timestamp_field, created_timestamp_column\n\u001b[1;32m    240\u001b[0m )\n",
      "File \u001b[0;32m~/GitHub/feast/sdk/python/feast/infra/offline_stores/file.py:539\u001b[0m, in \u001b[0;36m_field_mapping\u001b[0;34m(df_to_join, feature_view, features, right_entity_key_columns, entity_df_event_timestamp_col, timestamp_field, full_feature_names)\u001b[0m\n\u001b[1;32m    536\u001b[0m df_to_join \u001b[38;5;241m=\u001b[39m _run_dask_field_mapping(df_to_join, columns_map)\n\u001b[1;32m    538\u001b[0m \u001b[38;5;66;03m# Select only the columns we need to join from the feature dataframe\u001b[39;00m\n\u001b[0;32m--> 539\u001b[0m df_to_join \u001b[38;5;241m=\u001b[39m \u001b[43mdf_to_join\u001b[49m\u001b[43m[\u001b[49m\u001b[43mright_entity_key_columns\u001b[49m\u001b[43m \u001b[49m\u001b[38;5;241;43m+\u001b[39;49m\u001b[43m \u001b[49m\u001b[43mfeature_names\u001b[49m\u001b[43m]\u001b[49m\n\u001b[1;32m    540\u001b[0m df_to_join \u001b[38;5;241m=\u001b[39m df_to_join\u001b[38;5;241m.\u001b[39mpersist()\n\u001b[1;32m    542\u001b[0m \u001b[38;5;66;03m# Make sure to not have duplicated columns\u001b[39;00m\n",
      "File \u001b[0;32m~/GitHub/feast/venv/lib/python3.8/site-packages/dask/dataframe/core.py:4215\u001b[0m, in \u001b[0;36mDataFrame.__getitem__\u001b[0;34m(self, key)\u001b[0m\n\u001b[1;32m   4209\u001b[0m         \u001b[38;5;28;01mreturn\u001b[39;00m \u001b[38;5;28mself\u001b[39m\u001b[38;5;241m.\u001b[39mloc[key]\n\u001b[1;32m   4211\u001b[0m \u001b[38;5;28;01mif\u001b[39;00m \u001b[38;5;28misinstance\u001b[39m(key, (np\u001b[38;5;241m.\u001b[39mndarray, \u001b[38;5;28mlist\u001b[39m)) \u001b[38;5;129;01mor\u001b[39;00m (\n\u001b[1;32m   4212\u001b[0m     \u001b[38;5;129;01mnot\u001b[39;00m is_dask_collection(key) \u001b[38;5;129;01mand\u001b[39;00m (is_series_like(key) \u001b[38;5;129;01mor\u001b[39;00m is_index_like(key))\n\u001b[1;32m   4213\u001b[0m ):\n\u001b[1;32m   4214\u001b[0m     \u001b[38;5;66;03m# error is raised from pandas\u001b[39;00m\n\u001b[0;32m-> 4215\u001b[0m     meta \u001b[38;5;241m=\u001b[39m \u001b[38;5;28;43mself\u001b[39;49m\u001b[38;5;241;43m.\u001b[39;49m\u001b[43m_meta\u001b[49m\u001b[43m[\u001b[49m\u001b[43m_extract_meta\u001b[49m\u001b[43m(\u001b[49m\u001b[43mkey\u001b[49m\u001b[43m)\u001b[49m\u001b[43m]\u001b[49m\n\u001b[1;32m   4217\u001b[0m     dsk \u001b[38;5;241m=\u001b[39m partitionwise_graph(operator\u001b[38;5;241m.\u001b[39mgetitem, name, \u001b[38;5;28mself\u001b[39m, key)\n\u001b[1;32m   4218\u001b[0m     graph \u001b[38;5;241m=\u001b[39m HighLevelGraph\u001b[38;5;241m.\u001b[39mfrom_collections(name, dsk, dependencies\u001b[38;5;241m=\u001b[39m[\u001b[38;5;28mself\u001b[39m])\n",
      "File \u001b[0;32m~/GitHub/feast/venv/lib/python3.8/site-packages/pandas/core/frame.py:3511\u001b[0m, in \u001b[0;36mDataFrame.__getitem__\u001b[0;34m(self, key)\u001b[0m\n\u001b[1;32m   3509\u001b[0m     \u001b[38;5;28;01mif\u001b[39;00m is_iterator(key):\n\u001b[1;32m   3510\u001b[0m         key \u001b[38;5;241m=\u001b[39m \u001b[38;5;28mlist\u001b[39m(key)\n\u001b[0;32m-> 3511\u001b[0m     indexer \u001b[38;5;241m=\u001b[39m \u001b[38;5;28;43mself\u001b[39;49m\u001b[38;5;241;43m.\u001b[39;49m\u001b[43mcolumns\u001b[49m\u001b[38;5;241;43m.\u001b[39;49m\u001b[43m_get_indexer_strict\u001b[49m\u001b[43m(\u001b[49m\u001b[43mkey\u001b[49m\u001b[43m,\u001b[49m\u001b[43m \u001b[49m\u001b[38;5;124;43m\"\u001b[39;49m\u001b[38;5;124;43mcolumns\u001b[39;49m\u001b[38;5;124;43m\"\u001b[39;49m\u001b[43m)\u001b[49m[\u001b[38;5;241m1\u001b[39m]\n\u001b[1;32m   3513\u001b[0m \u001b[38;5;66;03m# take() does not accept boolean indexers\u001b[39;00m\n\u001b[1;32m   3514\u001b[0m \u001b[38;5;28;01mif\u001b[39;00m \u001b[38;5;28mgetattr\u001b[39m(indexer, \u001b[38;5;124m\"\u001b[39m\u001b[38;5;124mdtype\u001b[39m\u001b[38;5;124m\"\u001b[39m, \u001b[38;5;28;01mNone\u001b[39;00m) \u001b[38;5;241m==\u001b[39m \u001b[38;5;28mbool\u001b[39m:\n",
      "File \u001b[0;32m~/GitHub/feast/venv/lib/python3.8/site-packages/pandas/core/indexes/base.py:5782\u001b[0m, in \u001b[0;36mIndex._get_indexer_strict\u001b[0;34m(self, key, axis_name)\u001b[0m\n\u001b[1;32m   5779\u001b[0m \u001b[38;5;28;01melse\u001b[39;00m:\n\u001b[1;32m   5780\u001b[0m     keyarr, indexer, new_indexer \u001b[38;5;241m=\u001b[39m \u001b[38;5;28mself\u001b[39m\u001b[38;5;241m.\u001b[39m_reindex_non_unique(keyarr)\n\u001b[0;32m-> 5782\u001b[0m \u001b[38;5;28;43mself\u001b[39;49m\u001b[38;5;241;43m.\u001b[39;49m\u001b[43m_raise_if_missing\u001b[49m\u001b[43m(\u001b[49m\u001b[43mkeyarr\u001b[49m\u001b[43m,\u001b[49m\u001b[43m \u001b[49m\u001b[43mindexer\u001b[49m\u001b[43m,\u001b[49m\u001b[43m \u001b[49m\u001b[43maxis_name\u001b[49m\u001b[43m)\u001b[49m\n\u001b[1;32m   5784\u001b[0m keyarr \u001b[38;5;241m=\u001b[39m \u001b[38;5;28mself\u001b[39m\u001b[38;5;241m.\u001b[39mtake(indexer)\n\u001b[1;32m   5785\u001b[0m \u001b[38;5;28;01mif\u001b[39;00m \u001b[38;5;28misinstance\u001b[39m(key, Index):\n\u001b[1;32m   5786\u001b[0m     \u001b[38;5;66;03m# GH 42790 - Preserve name from an Index\u001b[39;00m\n",
      "File \u001b[0;32m~/GitHub/feast/venv/lib/python3.8/site-packages/pandas/core/indexes/base.py:5845\u001b[0m, in \u001b[0;36mIndex._raise_if_missing\u001b[0;34m(self, key, indexer, axis_name)\u001b[0m\n\u001b[1;32m   5842\u001b[0m     \u001b[38;5;28;01mraise\u001b[39;00m \u001b[38;5;167;01mKeyError\u001b[39;00m(\u001b[38;5;124mf\u001b[39m\u001b[38;5;124m\"\u001b[39m\u001b[38;5;124mNone of [\u001b[39m\u001b[38;5;132;01m{\u001b[39;00mkey\u001b[38;5;132;01m}\u001b[39;00m\u001b[38;5;124m] are in the [\u001b[39m\u001b[38;5;132;01m{\u001b[39;00maxis_name\u001b[38;5;132;01m}\u001b[39;00m\u001b[38;5;124m]\u001b[39m\u001b[38;5;124m\"\u001b[39m)\n\u001b[1;32m   5844\u001b[0m not_found \u001b[38;5;241m=\u001b[39m \u001b[38;5;28mlist\u001b[39m(ensure_index(key)[missing_mask\u001b[38;5;241m.\u001b[39mnonzero()[\u001b[38;5;241m0\u001b[39m]]\u001b[38;5;241m.\u001b[39munique())\n\u001b[0;32m-> 5845\u001b[0m \u001b[38;5;28;01mraise\u001b[39;00m \u001b[38;5;167;01mKeyError\u001b[39;00m(\u001b[38;5;124mf\u001b[39m\u001b[38;5;124m\"\u001b[39m\u001b[38;5;132;01m{\u001b[39;00mnot_found\u001b[38;5;132;01m}\u001b[39;00m\u001b[38;5;124m not in index\u001b[39m\u001b[38;5;124m\"\u001b[39m)\n",
      "\u001b[0;31mKeyError\u001b[0m: \"['created'] not in index\""
     ]
    }
   ],
   "source": [
    "training_data_job.evaluation_function().compute()"
   ]
  },
  {
   "cell_type": "code",
   "execution_count": 40,
   "id": "9b972564-3519-4071-9847-a07c08a5ed26",
   "metadata": {},
   "outputs": [
    {
     "ename": "KeyError",
     "evalue": "\"['created'] not in index\"",
     "output_type": "error",
     "traceback": [
      "\u001b[0;31m---------------------------------------------------------------------------\u001b[0m",
      "\u001b[0;31mKeyError\u001b[0m                                  Traceback (most recent call last)",
      "Input \u001b[0;32mIn [40]\u001b[0m, in \u001b[0;36m<cell line: 1>\u001b[0;34m()\u001b[0m\n\u001b[0;32m----> 1\u001b[0m \u001b[43mtraining_data_job\u001b[49m\u001b[38;5;241;43m.\u001b[39;49m\u001b[43mto_df\u001b[49m\u001b[43m(\u001b[49m\u001b[43m)\u001b[49m\n",
      "File \u001b[0;32m~/GitHub/feast/sdk/python/feast/infra/offline_stores/offline_store.py:82\u001b[0m, in \u001b[0;36mRetrievalJob.to_df\u001b[0;34m(self, validation_reference)\u001b[0m\n\u001b[1;32m     74\u001b[0m \u001b[38;5;28;01mdef\u001b[39;00m \u001b[38;5;21mto_df\u001b[39m(\n\u001b[1;32m     75\u001b[0m     \u001b[38;5;28mself\u001b[39m, validation_reference: Optional[\u001b[38;5;124m\"\u001b[39m\u001b[38;5;124mValidationReference\u001b[39m\u001b[38;5;124m\"\u001b[39m] \u001b[38;5;241m=\u001b[39m \u001b[38;5;28;01mNone\u001b[39;00m\n\u001b[1;32m     76\u001b[0m ) \u001b[38;5;241m-\u001b[39m\u001b[38;5;241m>\u001b[39m pd\u001b[38;5;241m.\u001b[39mDataFrame:\n\u001b[1;32m     77\u001b[0m     \u001b[38;5;124;03m\"\"\"\u001b[39;00m\n\u001b[1;32m     78\u001b[0m \u001b[38;5;124;03m    Return dataset as Pandas DataFrame synchronously including on demand transforms\u001b[39;00m\n\u001b[1;32m     79\u001b[0m \u001b[38;5;124;03m    Args:\u001b[39;00m\n\u001b[1;32m     80\u001b[0m \u001b[38;5;124;03m        validation_reference: If provided resulting dataset will be validated against this reference profile.\u001b[39;00m\n\u001b[1;32m     81\u001b[0m \u001b[38;5;124;03m    \"\"\"\u001b[39;00m\n\u001b[0;32m---> 82\u001b[0m     features_df \u001b[38;5;241m=\u001b[39m \u001b[38;5;28;43mself\u001b[39;49m\u001b[38;5;241;43m.\u001b[39;49m\u001b[43m_to_df_internal\u001b[49m\u001b[43m(\u001b[49m\u001b[43m)\u001b[49m\n\u001b[1;32m     84\u001b[0m     \u001b[38;5;28;01mif\u001b[39;00m \u001b[38;5;28mself\u001b[39m\u001b[38;5;241m.\u001b[39mon_demand_feature_views:\n\u001b[1;32m     85\u001b[0m         \u001b[38;5;66;03m# TODO(adchia): Fix requirement to specify dependent feature views in feature_refs\u001b[39;00m\n\u001b[1;32m     86\u001b[0m         \u001b[38;5;28;01mfor\u001b[39;00m odfv \u001b[38;5;129;01min\u001b[39;00m \u001b[38;5;28mself\u001b[39m\u001b[38;5;241m.\u001b[39mon_demand_feature_views:\n",
      "File \u001b[0;32m~/GitHub/feast/sdk/python/feast/usage.py:287\u001b[0m, in \u001b[0;36mlog_exceptions_and_usage.<locals>.decorator.<locals>.wrapper\u001b[0;34m(*args, **kwargs)\u001b[0m\n\u001b[1;32m    284\u001b[0m     ctx\u001b[38;5;241m.\u001b[39mtraceback \u001b[38;5;241m=\u001b[39m _trace_to_log(traceback)\n\u001b[1;32m    286\u001b[0m     \u001b[38;5;28;01mif\u001b[39;00m traceback:\n\u001b[0;32m--> 287\u001b[0m         \u001b[38;5;28;01mraise\u001b[39;00m exc\u001b[38;5;241m.\u001b[39mwith_traceback(traceback)\n\u001b[1;32m    289\u001b[0m     \u001b[38;5;28;01mraise\u001b[39;00m exc\n\u001b[1;32m    290\u001b[0m \u001b[38;5;28;01mfinally\u001b[39;00m:\n",
      "File \u001b[0;32m~/GitHub/feast/sdk/python/feast/usage.py:276\u001b[0m, in \u001b[0;36mlog_exceptions_and_usage.<locals>.decorator.<locals>.wrapper\u001b[0;34m(*args, **kwargs)\u001b[0m\n\u001b[1;32m    273\u001b[0m ctx\u001b[38;5;241m.\u001b[39mattributes\u001b[38;5;241m.\u001b[39mupdate(attrs)\n\u001b[1;32m    275\u001b[0m \u001b[38;5;28;01mtry\u001b[39;00m:\n\u001b[0;32m--> 276\u001b[0m     \u001b[38;5;28;01mreturn\u001b[39;00m \u001b[43mfunc\u001b[49m\u001b[43m(\u001b[49m\u001b[38;5;241;43m*\u001b[39;49m\u001b[43margs\u001b[49m\u001b[43m,\u001b[49m\u001b[43m \u001b[49m\u001b[38;5;241;43m*\u001b[39;49m\u001b[38;5;241;43m*\u001b[39;49m\u001b[43mkwargs\u001b[49m\u001b[43m)\u001b[49m\n\u001b[1;32m    277\u001b[0m \u001b[38;5;28;01mexcept\u001b[39;00m \u001b[38;5;167;01mException\u001b[39;00m:\n\u001b[1;32m    278\u001b[0m     \u001b[38;5;28;01mif\u001b[39;00m ctx\u001b[38;5;241m.\u001b[39mexception:\n\u001b[1;32m    279\u001b[0m         \u001b[38;5;66;03m# exception was already recorded\u001b[39;00m\n",
      "File \u001b[0;32m~/GitHub/feast/sdk/python/feast/infra/offline_stores/file.py:78\u001b[0m, in \u001b[0;36mFileRetrievalJob._to_df_internal\u001b[0;34m(self)\u001b[0m\n\u001b[1;32m     75\u001b[0m \u001b[38;5;129m@log_exceptions_and_usage\u001b[39m\n\u001b[1;32m     76\u001b[0m \u001b[38;5;28;01mdef\u001b[39;00m \u001b[38;5;21m_to_df_internal\u001b[39m(\u001b[38;5;28mself\u001b[39m) \u001b[38;5;241m-\u001b[39m\u001b[38;5;241m>\u001b[39m pd\u001b[38;5;241m.\u001b[39mDataFrame:\n\u001b[1;32m     77\u001b[0m     \u001b[38;5;66;03m# Only execute the evaluation function to build the final historical retrieval dataframe at the last moment.\u001b[39;00m\n\u001b[0;32m---> 78\u001b[0m     df \u001b[38;5;241m=\u001b[39m \u001b[38;5;28;43mself\u001b[39;49m\u001b[38;5;241;43m.\u001b[39;49m\u001b[43mevaluation_function\u001b[49m\u001b[43m(\u001b[49m\u001b[43m)\u001b[49m\u001b[38;5;241m.\u001b[39mcompute()\n\u001b[1;32m     79\u001b[0m     df \u001b[38;5;241m=\u001b[39m df\u001b[38;5;241m.\u001b[39mreset_index(drop\u001b[38;5;241m=\u001b[39m\u001b[38;5;28;01mTrue\u001b[39;00m)\n\u001b[1;32m     80\u001b[0m     \u001b[38;5;28;01mreturn\u001b[39;00m df\n",
      "File \u001b[0;32m~/GitHub/feast/sdk/python/feast/infra/offline_stores/file.py:226\u001b[0m, in \u001b[0;36mFileOfflineStore.get_historical_features.<locals>.evaluate_historical_retrieval\u001b[0;34m()\u001b[0m\n\u001b[1;32m    222\u001b[0m all_join_keys \u001b[38;5;241m=\u001b[39m \u001b[38;5;28mlist\u001b[39m(\u001b[38;5;28mset\u001b[39m(all_join_keys \u001b[38;5;241m+\u001b[39m join_keys))\n\u001b[1;32m    224\u001b[0m df_to_join \u001b[38;5;241m=\u001b[39m _read_datasource(feature_view\u001b[38;5;241m.\u001b[39mbatch_source)\n\u001b[0;32m--> 226\u001b[0m df_to_join, timestamp_field \u001b[38;5;241m=\u001b[39m \u001b[43m_field_mapping\u001b[49m\u001b[43m(\u001b[49m\n\u001b[1;32m    227\u001b[0m \u001b[43m    \u001b[49m\u001b[43mdf_to_join\u001b[49m\u001b[43m,\u001b[49m\n\u001b[1;32m    228\u001b[0m \u001b[43m    \u001b[49m\u001b[43mfeature_view\u001b[49m\u001b[43m,\u001b[49m\n\u001b[1;32m    229\u001b[0m \u001b[43m    \u001b[49m\u001b[43mfeatures\u001b[49m\u001b[43m,\u001b[49m\n\u001b[1;32m    230\u001b[0m \u001b[43m    \u001b[49m\u001b[43mright_entity_key_columns\u001b[49m\u001b[43m,\u001b[49m\n\u001b[1;32m    231\u001b[0m \u001b[43m    \u001b[49m\u001b[43mentity_df_event_timestamp_col\u001b[49m\u001b[43m,\u001b[49m\n\u001b[1;32m    232\u001b[0m \u001b[43m    \u001b[49m\u001b[43mtimestamp_field\u001b[49m\u001b[43m,\u001b[49m\n\u001b[1;32m    233\u001b[0m \u001b[43m    \u001b[49m\u001b[43mfull_feature_names\u001b[49m\u001b[43m,\u001b[49m\n\u001b[1;32m    234\u001b[0m \u001b[43m\u001b[49m\u001b[43m)\u001b[49m\n\u001b[1;32m    236\u001b[0m df_to_join \u001b[38;5;241m=\u001b[39m _merge(entity_df_with_features, df_to_join, join_keys)\n\u001b[1;32m    238\u001b[0m df_to_join \u001b[38;5;241m=\u001b[39m _normalize_timestamp(\n\u001b[1;32m    239\u001b[0m     df_to_join, timestamp_field, created_timestamp_column\n\u001b[1;32m    240\u001b[0m )\n",
      "File \u001b[0;32m~/GitHub/feast/sdk/python/feast/infra/offline_stores/file.py:539\u001b[0m, in \u001b[0;36m_field_mapping\u001b[0;34m(df_to_join, feature_view, features, right_entity_key_columns, entity_df_event_timestamp_col, timestamp_field, full_feature_names)\u001b[0m\n\u001b[1;32m    536\u001b[0m df_to_join \u001b[38;5;241m=\u001b[39m _run_dask_field_mapping(df_to_join, columns_map)\n\u001b[1;32m    538\u001b[0m \u001b[38;5;66;03m# Select only the columns we need to join from the feature dataframe\u001b[39;00m\n\u001b[0;32m--> 539\u001b[0m df_to_join \u001b[38;5;241m=\u001b[39m \u001b[43mdf_to_join\u001b[49m\u001b[43m[\u001b[49m\u001b[43mright_entity_key_columns\u001b[49m\u001b[43m \u001b[49m\u001b[38;5;241;43m+\u001b[39;49m\u001b[43m \u001b[49m\u001b[43mfeature_names\u001b[49m\u001b[43m]\u001b[49m\n\u001b[1;32m    540\u001b[0m df_to_join \u001b[38;5;241m=\u001b[39m df_to_join\u001b[38;5;241m.\u001b[39mpersist()\n\u001b[1;32m    542\u001b[0m \u001b[38;5;66;03m# Make sure to not have duplicated columns\u001b[39;00m\n",
      "File \u001b[0;32m~/GitHub/feast/venv/lib/python3.8/site-packages/dask/dataframe/core.py:4215\u001b[0m, in \u001b[0;36mDataFrame.__getitem__\u001b[0;34m(self, key)\u001b[0m\n\u001b[1;32m   4209\u001b[0m         \u001b[38;5;28;01mreturn\u001b[39;00m \u001b[38;5;28mself\u001b[39m\u001b[38;5;241m.\u001b[39mloc[key]\n\u001b[1;32m   4211\u001b[0m \u001b[38;5;28;01mif\u001b[39;00m \u001b[38;5;28misinstance\u001b[39m(key, (np\u001b[38;5;241m.\u001b[39mndarray, \u001b[38;5;28mlist\u001b[39m)) \u001b[38;5;129;01mor\u001b[39;00m (\n\u001b[1;32m   4212\u001b[0m     \u001b[38;5;129;01mnot\u001b[39;00m is_dask_collection(key) \u001b[38;5;129;01mand\u001b[39;00m (is_series_like(key) \u001b[38;5;129;01mor\u001b[39;00m is_index_like(key))\n\u001b[1;32m   4213\u001b[0m ):\n\u001b[1;32m   4214\u001b[0m     \u001b[38;5;66;03m# error is raised from pandas\u001b[39;00m\n\u001b[0;32m-> 4215\u001b[0m     meta \u001b[38;5;241m=\u001b[39m \u001b[38;5;28;43mself\u001b[39;49m\u001b[38;5;241;43m.\u001b[39;49m\u001b[43m_meta\u001b[49m\u001b[43m[\u001b[49m\u001b[43m_extract_meta\u001b[49m\u001b[43m(\u001b[49m\u001b[43mkey\u001b[49m\u001b[43m)\u001b[49m\u001b[43m]\u001b[49m\n\u001b[1;32m   4217\u001b[0m     dsk \u001b[38;5;241m=\u001b[39m partitionwise_graph(operator\u001b[38;5;241m.\u001b[39mgetitem, name, \u001b[38;5;28mself\u001b[39m, key)\n\u001b[1;32m   4218\u001b[0m     graph \u001b[38;5;241m=\u001b[39m HighLevelGraph\u001b[38;5;241m.\u001b[39mfrom_collections(name, dsk, dependencies\u001b[38;5;241m=\u001b[39m[\u001b[38;5;28mself\u001b[39m])\n",
      "File \u001b[0;32m~/GitHub/feast/venv/lib/python3.8/site-packages/pandas/core/frame.py:3511\u001b[0m, in \u001b[0;36mDataFrame.__getitem__\u001b[0;34m(self, key)\u001b[0m\n\u001b[1;32m   3509\u001b[0m     \u001b[38;5;28;01mif\u001b[39;00m is_iterator(key):\n\u001b[1;32m   3510\u001b[0m         key \u001b[38;5;241m=\u001b[39m \u001b[38;5;28mlist\u001b[39m(key)\n\u001b[0;32m-> 3511\u001b[0m     indexer \u001b[38;5;241m=\u001b[39m \u001b[38;5;28;43mself\u001b[39;49m\u001b[38;5;241;43m.\u001b[39;49m\u001b[43mcolumns\u001b[49m\u001b[38;5;241;43m.\u001b[39;49m\u001b[43m_get_indexer_strict\u001b[49m\u001b[43m(\u001b[49m\u001b[43mkey\u001b[49m\u001b[43m,\u001b[49m\u001b[43m \u001b[49m\u001b[38;5;124;43m\"\u001b[39;49m\u001b[38;5;124;43mcolumns\u001b[39;49m\u001b[38;5;124;43m\"\u001b[39;49m\u001b[43m)\u001b[49m[\u001b[38;5;241m1\u001b[39m]\n\u001b[1;32m   3513\u001b[0m \u001b[38;5;66;03m# take() does not accept boolean indexers\u001b[39;00m\n\u001b[1;32m   3514\u001b[0m \u001b[38;5;28;01mif\u001b[39;00m \u001b[38;5;28mgetattr\u001b[39m(indexer, \u001b[38;5;124m\"\u001b[39m\u001b[38;5;124mdtype\u001b[39m\u001b[38;5;124m\"\u001b[39m, \u001b[38;5;28;01mNone\u001b[39;00m) \u001b[38;5;241m==\u001b[39m \u001b[38;5;28mbool\u001b[39m:\n",
      "File \u001b[0;32m~/GitHub/feast/venv/lib/python3.8/site-packages/pandas/core/indexes/base.py:5782\u001b[0m, in \u001b[0;36mIndex._get_indexer_strict\u001b[0;34m(self, key, axis_name)\u001b[0m\n\u001b[1;32m   5779\u001b[0m \u001b[38;5;28;01melse\u001b[39;00m:\n\u001b[1;32m   5780\u001b[0m     keyarr, indexer, new_indexer \u001b[38;5;241m=\u001b[39m \u001b[38;5;28mself\u001b[39m\u001b[38;5;241m.\u001b[39m_reindex_non_unique(keyarr)\n\u001b[0;32m-> 5782\u001b[0m \u001b[38;5;28;43mself\u001b[39;49m\u001b[38;5;241;43m.\u001b[39;49m\u001b[43m_raise_if_missing\u001b[49m\u001b[43m(\u001b[49m\u001b[43mkeyarr\u001b[49m\u001b[43m,\u001b[49m\u001b[43m \u001b[49m\u001b[43mindexer\u001b[49m\u001b[43m,\u001b[49m\u001b[43m \u001b[49m\u001b[43maxis_name\u001b[49m\u001b[43m)\u001b[49m\n\u001b[1;32m   5784\u001b[0m keyarr \u001b[38;5;241m=\u001b[39m \u001b[38;5;28mself\u001b[39m\u001b[38;5;241m.\u001b[39mtake(indexer)\n\u001b[1;32m   5785\u001b[0m \u001b[38;5;28;01mif\u001b[39;00m \u001b[38;5;28misinstance\u001b[39m(key, Index):\n\u001b[1;32m   5786\u001b[0m     \u001b[38;5;66;03m# GH 42790 - Preserve name from an Index\u001b[39;00m\n",
      "File \u001b[0;32m~/GitHub/feast/venv/lib/python3.8/site-packages/pandas/core/indexes/base.py:5845\u001b[0m, in \u001b[0;36mIndex._raise_if_missing\u001b[0;34m(self, key, indexer, axis_name)\u001b[0m\n\u001b[1;32m   5842\u001b[0m     \u001b[38;5;28;01mraise\u001b[39;00m \u001b[38;5;167;01mKeyError\u001b[39;00m(\u001b[38;5;124mf\u001b[39m\u001b[38;5;124m\"\u001b[39m\u001b[38;5;124mNone of [\u001b[39m\u001b[38;5;132;01m{\u001b[39;00mkey\u001b[38;5;132;01m}\u001b[39;00m\u001b[38;5;124m] are in the [\u001b[39m\u001b[38;5;132;01m{\u001b[39;00maxis_name\u001b[38;5;132;01m}\u001b[39;00m\u001b[38;5;124m]\u001b[39m\u001b[38;5;124m\"\u001b[39m)\n\u001b[1;32m   5844\u001b[0m not_found \u001b[38;5;241m=\u001b[39m \u001b[38;5;28mlist\u001b[39m(ensure_index(key)[missing_mask\u001b[38;5;241m.\u001b[39mnonzero()[\u001b[38;5;241m0\u001b[39m]]\u001b[38;5;241m.\u001b[39munique())\n\u001b[0;32m-> 5845\u001b[0m \u001b[38;5;28;01mraise\u001b[39;00m \u001b[38;5;167;01mKeyError\u001b[39;00m(\u001b[38;5;124mf\u001b[39m\u001b[38;5;124m\"\u001b[39m\u001b[38;5;132;01m{\u001b[39;00mnot_found\u001b[38;5;132;01m}\u001b[39;00m\u001b[38;5;124m not in index\u001b[39m\u001b[38;5;124m\"\u001b[39m)\n",
      "\u001b[0;31mKeyError\u001b[0m: \"['created'] not in index\""
     ]
    }
   ],
   "source": [
    "training_data_job.to_df()"
   ]
  },
  {
   "cell_type": "code",
   "execution_count": 41,
   "id": "f38bcb17-4c6e-4168-b64e-ff0dba5d8eea",
   "metadata": {},
   "outputs": [
    {
     "ename": "KeyError",
     "evalue": "\"['created'] not in index\"",
     "output_type": "error",
     "traceback": [
      "\u001b[0;31m---------------------------------------------------------------------------\u001b[0m",
      "\u001b[0;31mKeyError\u001b[0m                                  Traceback (most recent call last)",
      "Input \u001b[0;32mIn [41]\u001b[0m, in \u001b[0;36m<cell line: 1>\u001b[0;34m()\u001b[0m\n\u001b[0;32m----> 1\u001b[0m _ \u001b[38;5;241m=\u001b[39m \u001b[43mtraining_data_job\u001b[49m\u001b[38;5;241;43m.\u001b[39;49m\u001b[43mto_df\u001b[49m\u001b[43m(\u001b[49m\u001b[43mvalidation_reference\u001b[49m\u001b[38;5;241;43m=\u001b[39;49m\u001b[43mvalidation_reference\u001b[49m\u001b[43m)\u001b[49m\n",
      "File \u001b[0;32m~/GitHub/feast/sdk/python/feast/infra/offline_stores/offline_store.py:82\u001b[0m, in \u001b[0;36mRetrievalJob.to_df\u001b[0;34m(self, validation_reference)\u001b[0m\n\u001b[1;32m     74\u001b[0m \u001b[38;5;28;01mdef\u001b[39;00m \u001b[38;5;21mto_df\u001b[39m(\n\u001b[1;32m     75\u001b[0m     \u001b[38;5;28mself\u001b[39m, validation_reference: Optional[\u001b[38;5;124m\"\u001b[39m\u001b[38;5;124mValidationReference\u001b[39m\u001b[38;5;124m\"\u001b[39m] \u001b[38;5;241m=\u001b[39m \u001b[38;5;28;01mNone\u001b[39;00m\n\u001b[1;32m     76\u001b[0m ) \u001b[38;5;241m-\u001b[39m\u001b[38;5;241m>\u001b[39m pd\u001b[38;5;241m.\u001b[39mDataFrame:\n\u001b[1;32m     77\u001b[0m     \u001b[38;5;124;03m\"\"\"\u001b[39;00m\n\u001b[1;32m     78\u001b[0m \u001b[38;5;124;03m    Return dataset as Pandas DataFrame synchronously including on demand transforms\u001b[39;00m\n\u001b[1;32m     79\u001b[0m \u001b[38;5;124;03m    Args:\u001b[39;00m\n\u001b[1;32m     80\u001b[0m \u001b[38;5;124;03m        validation_reference: If provided resulting dataset will be validated against this reference profile.\u001b[39;00m\n\u001b[1;32m     81\u001b[0m \u001b[38;5;124;03m    \"\"\"\u001b[39;00m\n\u001b[0;32m---> 82\u001b[0m     features_df \u001b[38;5;241m=\u001b[39m \u001b[38;5;28;43mself\u001b[39;49m\u001b[38;5;241;43m.\u001b[39;49m\u001b[43m_to_df_internal\u001b[49m\u001b[43m(\u001b[49m\u001b[43m)\u001b[49m\n\u001b[1;32m     84\u001b[0m     \u001b[38;5;28;01mif\u001b[39;00m \u001b[38;5;28mself\u001b[39m\u001b[38;5;241m.\u001b[39mon_demand_feature_views:\n\u001b[1;32m     85\u001b[0m         \u001b[38;5;66;03m# TODO(adchia): Fix requirement to specify dependent feature views in feature_refs\u001b[39;00m\n\u001b[1;32m     86\u001b[0m         \u001b[38;5;28;01mfor\u001b[39;00m odfv \u001b[38;5;129;01min\u001b[39;00m \u001b[38;5;28mself\u001b[39m\u001b[38;5;241m.\u001b[39mon_demand_feature_views:\n",
      "File \u001b[0;32m~/GitHub/feast/sdk/python/feast/usage.py:287\u001b[0m, in \u001b[0;36mlog_exceptions_and_usage.<locals>.decorator.<locals>.wrapper\u001b[0;34m(*args, **kwargs)\u001b[0m\n\u001b[1;32m    284\u001b[0m     ctx\u001b[38;5;241m.\u001b[39mtraceback \u001b[38;5;241m=\u001b[39m _trace_to_log(traceback)\n\u001b[1;32m    286\u001b[0m     \u001b[38;5;28;01mif\u001b[39;00m traceback:\n\u001b[0;32m--> 287\u001b[0m         \u001b[38;5;28;01mraise\u001b[39;00m exc\u001b[38;5;241m.\u001b[39mwith_traceback(traceback)\n\u001b[1;32m    289\u001b[0m     \u001b[38;5;28;01mraise\u001b[39;00m exc\n\u001b[1;32m    290\u001b[0m \u001b[38;5;28;01mfinally\u001b[39;00m:\n",
      "File \u001b[0;32m~/GitHub/feast/sdk/python/feast/usage.py:276\u001b[0m, in \u001b[0;36mlog_exceptions_and_usage.<locals>.decorator.<locals>.wrapper\u001b[0;34m(*args, **kwargs)\u001b[0m\n\u001b[1;32m    273\u001b[0m ctx\u001b[38;5;241m.\u001b[39mattributes\u001b[38;5;241m.\u001b[39mupdate(attrs)\n\u001b[1;32m    275\u001b[0m \u001b[38;5;28;01mtry\u001b[39;00m:\n\u001b[0;32m--> 276\u001b[0m     \u001b[38;5;28;01mreturn\u001b[39;00m \u001b[43mfunc\u001b[49m\u001b[43m(\u001b[49m\u001b[38;5;241;43m*\u001b[39;49m\u001b[43margs\u001b[49m\u001b[43m,\u001b[49m\u001b[43m \u001b[49m\u001b[38;5;241;43m*\u001b[39;49m\u001b[38;5;241;43m*\u001b[39;49m\u001b[43mkwargs\u001b[49m\u001b[43m)\u001b[49m\n\u001b[1;32m    277\u001b[0m \u001b[38;5;28;01mexcept\u001b[39;00m \u001b[38;5;167;01mException\u001b[39;00m:\n\u001b[1;32m    278\u001b[0m     \u001b[38;5;28;01mif\u001b[39;00m ctx\u001b[38;5;241m.\u001b[39mexception:\n\u001b[1;32m    279\u001b[0m         \u001b[38;5;66;03m# exception was already recorded\u001b[39;00m\n",
      "File \u001b[0;32m~/GitHub/feast/sdk/python/feast/infra/offline_stores/file.py:78\u001b[0m, in \u001b[0;36mFileRetrievalJob._to_df_internal\u001b[0;34m(self)\u001b[0m\n\u001b[1;32m     75\u001b[0m \u001b[38;5;129m@log_exceptions_and_usage\u001b[39m\n\u001b[1;32m     76\u001b[0m \u001b[38;5;28;01mdef\u001b[39;00m \u001b[38;5;21m_to_df_internal\u001b[39m(\u001b[38;5;28mself\u001b[39m) \u001b[38;5;241m-\u001b[39m\u001b[38;5;241m>\u001b[39m pd\u001b[38;5;241m.\u001b[39mDataFrame:\n\u001b[1;32m     77\u001b[0m     \u001b[38;5;66;03m# Only execute the evaluation function to build the final historical retrieval dataframe at the last moment.\u001b[39;00m\n\u001b[0;32m---> 78\u001b[0m     df \u001b[38;5;241m=\u001b[39m \u001b[38;5;28;43mself\u001b[39;49m\u001b[38;5;241;43m.\u001b[39;49m\u001b[43mevaluation_function\u001b[49m\u001b[43m(\u001b[49m\u001b[43m)\u001b[49m\u001b[38;5;241m.\u001b[39mcompute()\n\u001b[1;32m     79\u001b[0m     df \u001b[38;5;241m=\u001b[39m df\u001b[38;5;241m.\u001b[39mreset_index(drop\u001b[38;5;241m=\u001b[39m\u001b[38;5;28;01mTrue\u001b[39;00m)\n\u001b[1;32m     80\u001b[0m     \u001b[38;5;28;01mreturn\u001b[39;00m df\n",
      "File \u001b[0;32m~/GitHub/feast/sdk/python/feast/infra/offline_stores/file.py:226\u001b[0m, in \u001b[0;36mFileOfflineStore.get_historical_features.<locals>.evaluate_historical_retrieval\u001b[0;34m()\u001b[0m\n\u001b[1;32m    222\u001b[0m all_join_keys \u001b[38;5;241m=\u001b[39m \u001b[38;5;28mlist\u001b[39m(\u001b[38;5;28mset\u001b[39m(all_join_keys \u001b[38;5;241m+\u001b[39m join_keys))\n\u001b[1;32m    224\u001b[0m df_to_join \u001b[38;5;241m=\u001b[39m _read_datasource(feature_view\u001b[38;5;241m.\u001b[39mbatch_source)\n\u001b[0;32m--> 226\u001b[0m df_to_join, timestamp_field \u001b[38;5;241m=\u001b[39m \u001b[43m_field_mapping\u001b[49m\u001b[43m(\u001b[49m\n\u001b[1;32m    227\u001b[0m \u001b[43m    \u001b[49m\u001b[43mdf_to_join\u001b[49m\u001b[43m,\u001b[49m\n\u001b[1;32m    228\u001b[0m \u001b[43m    \u001b[49m\u001b[43mfeature_view\u001b[49m\u001b[43m,\u001b[49m\n\u001b[1;32m    229\u001b[0m \u001b[43m    \u001b[49m\u001b[43mfeatures\u001b[49m\u001b[43m,\u001b[49m\n\u001b[1;32m    230\u001b[0m \u001b[43m    \u001b[49m\u001b[43mright_entity_key_columns\u001b[49m\u001b[43m,\u001b[49m\n\u001b[1;32m    231\u001b[0m \u001b[43m    \u001b[49m\u001b[43mentity_df_event_timestamp_col\u001b[49m\u001b[43m,\u001b[49m\n\u001b[1;32m    232\u001b[0m \u001b[43m    \u001b[49m\u001b[43mtimestamp_field\u001b[49m\u001b[43m,\u001b[49m\n\u001b[1;32m    233\u001b[0m \u001b[43m    \u001b[49m\u001b[43mfull_feature_names\u001b[49m\u001b[43m,\u001b[49m\n\u001b[1;32m    234\u001b[0m \u001b[43m\u001b[49m\u001b[43m)\u001b[49m\n\u001b[1;32m    236\u001b[0m df_to_join \u001b[38;5;241m=\u001b[39m _merge(entity_df_with_features, df_to_join, join_keys)\n\u001b[1;32m    238\u001b[0m df_to_join \u001b[38;5;241m=\u001b[39m _normalize_timestamp(\n\u001b[1;32m    239\u001b[0m     df_to_join, timestamp_field, created_timestamp_column\n\u001b[1;32m    240\u001b[0m )\n",
      "File \u001b[0;32m~/GitHub/feast/sdk/python/feast/infra/offline_stores/file.py:539\u001b[0m, in \u001b[0;36m_field_mapping\u001b[0;34m(df_to_join, feature_view, features, right_entity_key_columns, entity_df_event_timestamp_col, timestamp_field, full_feature_names)\u001b[0m\n\u001b[1;32m    536\u001b[0m df_to_join \u001b[38;5;241m=\u001b[39m _run_dask_field_mapping(df_to_join, columns_map)\n\u001b[1;32m    538\u001b[0m \u001b[38;5;66;03m# Select only the columns we need to join from the feature dataframe\u001b[39;00m\n\u001b[0;32m--> 539\u001b[0m df_to_join \u001b[38;5;241m=\u001b[39m \u001b[43mdf_to_join\u001b[49m\u001b[43m[\u001b[49m\u001b[43mright_entity_key_columns\u001b[49m\u001b[43m \u001b[49m\u001b[38;5;241;43m+\u001b[39;49m\u001b[43m \u001b[49m\u001b[43mfeature_names\u001b[49m\u001b[43m]\u001b[49m\n\u001b[1;32m    540\u001b[0m df_to_join \u001b[38;5;241m=\u001b[39m df_to_join\u001b[38;5;241m.\u001b[39mpersist()\n\u001b[1;32m    542\u001b[0m \u001b[38;5;66;03m# Make sure to not have duplicated columns\u001b[39;00m\n",
      "File \u001b[0;32m~/GitHub/feast/venv/lib/python3.8/site-packages/dask/dataframe/core.py:4215\u001b[0m, in \u001b[0;36mDataFrame.__getitem__\u001b[0;34m(self, key)\u001b[0m\n\u001b[1;32m   4209\u001b[0m         \u001b[38;5;28;01mreturn\u001b[39;00m \u001b[38;5;28mself\u001b[39m\u001b[38;5;241m.\u001b[39mloc[key]\n\u001b[1;32m   4211\u001b[0m \u001b[38;5;28;01mif\u001b[39;00m \u001b[38;5;28misinstance\u001b[39m(key, (np\u001b[38;5;241m.\u001b[39mndarray, \u001b[38;5;28mlist\u001b[39m)) \u001b[38;5;129;01mor\u001b[39;00m (\n\u001b[1;32m   4212\u001b[0m     \u001b[38;5;129;01mnot\u001b[39;00m is_dask_collection(key) \u001b[38;5;129;01mand\u001b[39;00m (is_series_like(key) \u001b[38;5;129;01mor\u001b[39;00m is_index_like(key))\n\u001b[1;32m   4213\u001b[0m ):\n\u001b[1;32m   4214\u001b[0m     \u001b[38;5;66;03m# error is raised from pandas\u001b[39;00m\n\u001b[0;32m-> 4215\u001b[0m     meta \u001b[38;5;241m=\u001b[39m \u001b[38;5;28;43mself\u001b[39;49m\u001b[38;5;241;43m.\u001b[39;49m\u001b[43m_meta\u001b[49m\u001b[43m[\u001b[49m\u001b[43m_extract_meta\u001b[49m\u001b[43m(\u001b[49m\u001b[43mkey\u001b[49m\u001b[43m)\u001b[49m\u001b[43m]\u001b[49m\n\u001b[1;32m   4217\u001b[0m     dsk \u001b[38;5;241m=\u001b[39m partitionwise_graph(operator\u001b[38;5;241m.\u001b[39mgetitem, name, \u001b[38;5;28mself\u001b[39m, key)\n\u001b[1;32m   4218\u001b[0m     graph \u001b[38;5;241m=\u001b[39m HighLevelGraph\u001b[38;5;241m.\u001b[39mfrom_collections(name, dsk, dependencies\u001b[38;5;241m=\u001b[39m[\u001b[38;5;28mself\u001b[39m])\n",
      "File \u001b[0;32m~/GitHub/feast/venv/lib/python3.8/site-packages/pandas/core/frame.py:3511\u001b[0m, in \u001b[0;36mDataFrame.__getitem__\u001b[0;34m(self, key)\u001b[0m\n\u001b[1;32m   3509\u001b[0m     \u001b[38;5;28;01mif\u001b[39;00m is_iterator(key):\n\u001b[1;32m   3510\u001b[0m         key \u001b[38;5;241m=\u001b[39m \u001b[38;5;28mlist\u001b[39m(key)\n\u001b[0;32m-> 3511\u001b[0m     indexer \u001b[38;5;241m=\u001b[39m \u001b[38;5;28;43mself\u001b[39;49m\u001b[38;5;241;43m.\u001b[39;49m\u001b[43mcolumns\u001b[49m\u001b[38;5;241;43m.\u001b[39;49m\u001b[43m_get_indexer_strict\u001b[49m\u001b[43m(\u001b[49m\u001b[43mkey\u001b[49m\u001b[43m,\u001b[49m\u001b[43m \u001b[49m\u001b[38;5;124;43m\"\u001b[39;49m\u001b[38;5;124;43mcolumns\u001b[39;49m\u001b[38;5;124;43m\"\u001b[39;49m\u001b[43m)\u001b[49m[\u001b[38;5;241m1\u001b[39m]\n\u001b[1;32m   3513\u001b[0m \u001b[38;5;66;03m# take() does not accept boolean indexers\u001b[39;00m\n\u001b[1;32m   3514\u001b[0m \u001b[38;5;28;01mif\u001b[39;00m \u001b[38;5;28mgetattr\u001b[39m(indexer, \u001b[38;5;124m\"\u001b[39m\u001b[38;5;124mdtype\u001b[39m\u001b[38;5;124m\"\u001b[39m, \u001b[38;5;28;01mNone\u001b[39;00m) \u001b[38;5;241m==\u001b[39m \u001b[38;5;28mbool\u001b[39m:\n",
      "File \u001b[0;32m~/GitHub/feast/venv/lib/python3.8/site-packages/pandas/core/indexes/base.py:5782\u001b[0m, in \u001b[0;36mIndex._get_indexer_strict\u001b[0;34m(self, key, axis_name)\u001b[0m\n\u001b[1;32m   5779\u001b[0m \u001b[38;5;28;01melse\u001b[39;00m:\n\u001b[1;32m   5780\u001b[0m     keyarr, indexer, new_indexer \u001b[38;5;241m=\u001b[39m \u001b[38;5;28mself\u001b[39m\u001b[38;5;241m.\u001b[39m_reindex_non_unique(keyarr)\n\u001b[0;32m-> 5782\u001b[0m \u001b[38;5;28;43mself\u001b[39;49m\u001b[38;5;241;43m.\u001b[39;49m\u001b[43m_raise_if_missing\u001b[49m\u001b[43m(\u001b[49m\u001b[43mkeyarr\u001b[49m\u001b[43m,\u001b[49m\u001b[43m \u001b[49m\u001b[43mindexer\u001b[49m\u001b[43m,\u001b[49m\u001b[43m \u001b[49m\u001b[43maxis_name\u001b[49m\u001b[43m)\u001b[49m\n\u001b[1;32m   5784\u001b[0m keyarr \u001b[38;5;241m=\u001b[39m \u001b[38;5;28mself\u001b[39m\u001b[38;5;241m.\u001b[39mtake(indexer)\n\u001b[1;32m   5785\u001b[0m \u001b[38;5;28;01mif\u001b[39;00m \u001b[38;5;28misinstance\u001b[39m(key, Index):\n\u001b[1;32m   5786\u001b[0m     \u001b[38;5;66;03m# GH 42790 - Preserve name from an Index\u001b[39;00m\n",
      "File \u001b[0;32m~/GitHub/feast/venv/lib/python3.8/site-packages/pandas/core/indexes/base.py:5845\u001b[0m, in \u001b[0;36mIndex._raise_if_missing\u001b[0;34m(self, key, indexer, axis_name)\u001b[0m\n\u001b[1;32m   5842\u001b[0m     \u001b[38;5;28;01mraise\u001b[39;00m \u001b[38;5;167;01mKeyError\u001b[39;00m(\u001b[38;5;124mf\u001b[39m\u001b[38;5;124m\"\u001b[39m\u001b[38;5;124mNone of [\u001b[39m\u001b[38;5;132;01m{\u001b[39;00mkey\u001b[38;5;132;01m}\u001b[39;00m\u001b[38;5;124m] are in the [\u001b[39m\u001b[38;5;132;01m{\u001b[39;00maxis_name\u001b[38;5;132;01m}\u001b[39;00m\u001b[38;5;124m]\u001b[39m\u001b[38;5;124m\"\u001b[39m)\n\u001b[1;32m   5844\u001b[0m not_found \u001b[38;5;241m=\u001b[39m \u001b[38;5;28mlist\u001b[39m(ensure_index(key)[missing_mask\u001b[38;5;241m.\u001b[39mnonzero()[\u001b[38;5;241m0\u001b[39m]]\u001b[38;5;241m.\u001b[39munique())\n\u001b[0;32m-> 5845\u001b[0m \u001b[38;5;28;01mraise\u001b[39;00m \u001b[38;5;167;01mKeyError\u001b[39;00m(\u001b[38;5;124mf\u001b[39m\u001b[38;5;124m\"\u001b[39m\u001b[38;5;132;01m{\u001b[39;00mnot_found\u001b[38;5;132;01m}\u001b[39;00m\u001b[38;5;124m not in index\u001b[39m\u001b[38;5;124m\"\u001b[39m)\n",
      "\u001b[0;31mKeyError\u001b[0m: \"['created'] not in index\""
     ]
    }
   ],
   "source": [
    "_ = training_data_job.to_df(validation_reference=validation_reference)"
   ]
  },
  {
   "cell_type": "code",
   "execution_count": 42,
   "id": "74d5ee16-6fe1-42e8-a2f7-484fc30b89fd",
   "metadata": {},
   "outputs": [
    {
     "data": {
      "text/html": [
       "<div>\n",
       "<style scoped>\n",
       "    .dataframe tbody tr th:only-of-type {\n",
       "        vertical-align: middle;\n",
       "    }\n",
       "\n",
       "    .dataframe tbody tr th {\n",
       "        vertical-align: top;\n",
       "    }\n",
       "\n",
       "    .dataframe thead th {\n",
       "        text-align: right;\n",
       "    }\n",
       "</style>\n",
       "<table border=\"1\" class=\"dataframe\">\n",
       "  <thead>\n",
       "    <tr style=\"text-align: right;\">\n",
       "      <th></th>\n",
       "      <th>driver_id</th>\n",
       "      <th>label_driver_reported_satisfaction</th>\n",
       "      <th>event_timestamp</th>\n",
       "      <th>conv_rate</th>\n",
       "      <th>acc_rate</th>\n",
       "      <th>avg_daily_trips</th>\n",
       "    </tr>\n",
       "  </thead>\n",
       "  <tbody>\n",
       "    <tr>\n",
       "      <th>0</th>\n",
       "      <td>1002</td>\n",
       "      <td>5</td>\n",
       "      <td>2022-08-09 19:37:52.917735+00:00</td>\n",
       "      <td>0.054348</td>\n",
       "      <td>0.029196</td>\n",
       "      <td>526</td>\n",
       "    </tr>\n",
       "    <tr>\n",
       "      <th>1</th>\n",
       "      <td>1001</td>\n",
       "      <td>1</td>\n",
       "      <td>2022-08-09 20:02:52.917724+00:00</td>\n",
       "      <td>0.827786</td>\n",
       "      <td>0.719152</td>\n",
       "      <td>654</td>\n",
       "    </tr>\n",
       "    <tr>\n",
       "      <th>2</th>\n",
       "      <td>1003</td>\n",
       "      <td>3</td>\n",
       "      <td>2022-08-09 19:00:52.917738+00:00</td>\n",
       "      <td>0.955770</td>\n",
       "      <td>0.596370</td>\n",
       "      <td>970</td>\n",
       "    </tr>\n",
       "  </tbody>\n",
       "</table>\n",
       "</div>"
      ],
      "text/plain": [
       "   driver_id  label_driver_reported_satisfaction  \\\n",
       "0       1002                                   5   \n",
       "1       1001                                   1   \n",
       "2       1003                                   3   \n",
       "\n",
       "                   event_timestamp  conv_rate  acc_rate  avg_daily_trips  \n",
       "0 2022-08-09 19:37:52.917735+00:00   0.054348  0.029196              526  \n",
       "1 2022-08-09 20:02:52.917724+00:00   0.827786  0.719152              654  \n",
       "2 2022-08-09 19:00:52.917738+00:00   0.955770  0.596370              970  "
      ]
     },
     "execution_count": 42,
     "metadata": {},
     "output_type": "execute_result"
    }
   ],
   "source": [
    "training_df"
   ]
  },
  {
   "cell_type": "code",
   "execution_count": 43,
   "id": "5df7ed9d-0eb6-4118-9712-d5a2095c4135",
   "metadata": {},
   "outputs": [],
   "source": [
    "from feast.saved_dataset import ValidationReference\n",
    "\n",
    "ref = ValidationReference(\n",
    "    name='user_features_training_ref',\n",
    "    dataset_name=\"reference_dataset\",\n",
    "    profiler=user_features_profiler,\n",
    ")"
   ]
  },
  {
   "cell_type": "code",
   "execution_count": null,
   "id": "592c1b49-08d7-4501-a2f1-950f97528b89",
   "metadata": {},
   "outputs": [],
   "source": []
  },
  {
   "cell_type": "code",
   "execution_count": 44,
   "id": "a42cc816-4bcd-4c7e-b70b-f658021849da",
   "metadata": {},
   "outputs": [],
   "source": [
    "store.apply(ref)"
   ]
  },
  {
   "cell_type": "code",
   "execution_count": 45,
   "id": "b44429ba-ee7c-4484-b10e-834076016802",
   "metadata": {},
   "outputs": [],
   "source": [
    "import pandas as pd\n",
    "insert_df = pd.DataFrame({\n",
    "    \"driver_id\": [1003],\n",
    "    \"conv_rate\": [-1],\n",
    "    \"acc_rate\": [2],\n",
    "    \"avg_daily_trips\": [1500],\n",
    "    \"event_timestamp\": [datetime.now()],\n",
    "    \"created\": [datetime.now()],\n",
    "})\n",
    "\n",
    "store.write_to_online_store(\"driver_hourly_stats\", insert_df)"
   ]
  },
  {
   "cell_type": "code",
   "execution_count": 46,
   "id": "067aa7aa-e176-496d-bc7d-0c5141f85d73",
   "metadata": {},
   "outputs": [
    {
     "name": "stdout",
     "output_type": "stream",
     "text": [
      "/Users/franciscojavierarceo/GitHub/feast/sdk/python/feast/feature_store.py:1180: RuntimeWarning: Retrieving datasets is an experimental feature. This API is unstable and it could and most probably will be changed in the future. We do not guarantee that future changes will maintain backward compatibility.\n",
      "  warnings.warn(\n",
      "/Users/franciscojavierarceo/GitHub/feast/sdk/python/feast/feature_store.py:2360: RuntimeWarning: Logged features validation is an experimental feature. This API is unstable and it could and most probably will be changed in the future. We do not guarantee that future changes will maintain backward compatibility.\n",
      "  warnings.warn(\n",
      "Traceback (most recent call last):\n",
      "  File \"/Users/franciscojavierarceo/GitHub/feast/venv/bin/feast\", line 33, in <module>\n",
      "    sys.exit(load_entry_point('feast', 'console_scripts', 'feast')())\n",
      "  File \"/Users/franciscojavierarceo/GitHub/feast/venv/lib/python3.8/site-packages/click/core.py\", line 1130, in __call__\n",
      "    return self.main(*args, **kwargs)\n",
      "  File \"/Users/franciscojavierarceo/GitHub/feast/venv/lib/python3.8/site-packages/click/core.py\", line 1055, in main\n",
      "    rv = self.invoke(ctx)\n",
      "  File \"/Users/franciscojavierarceo/GitHub/feast/venv/lib/python3.8/site-packages/click/core.py\", line 1657, in invoke\n",
      "    return _process_result(sub_ctx.command.invoke(sub_ctx))\n",
      "  File \"/Users/franciscojavierarceo/GitHub/feast/venv/lib/python3.8/site-packages/click/core.py\", line 1404, in invoke\n",
      "    return ctx.invoke(self.callback, **ctx.params)\n",
      "  File \"/Users/franciscojavierarceo/GitHub/feast/venv/lib/python3.8/site-packages/click/core.py\", line 760, in invoke\n",
      "    return __callback(*args, **kwargs)\n",
      "  File \"/Users/franciscojavierarceo/GitHub/feast/venv/lib/python3.8/site-packages/click/decorators.py\", line 26, in new_func\n",
      "    return f(get_current_context(), *args, **kwargs)\n",
      "  File \"/Users/franciscojavierarceo/GitHub/feast/sdk/python/feast/cli.py\", line 733, in validate\n",
      "    result = store.validate_logged_features(\n",
      "  File \"/Users/franciscojavierarceo/GitHub/feast/sdk/python/feast/usage.py\", line 276, in wrapper\n",
      "    return func(*args, **kwargs)\n",
      "  File \"/Users/franciscojavierarceo/GitHub/feast/sdk/python/feast/feature_store.py\", line 2380, in validate_logged_features\n",
      "    t = j.to_arrow(validation_reference=reference)\n",
      "  File \"/Users/franciscojavierarceo/GitHub/feast/sdk/python/feast/infra/offline_stores/offline_store.py\", line 130, in to_arrow\n",
      "    features_df = self._to_df_internal()\n",
      "  File \"/Users/franciscojavierarceo/GitHub/feast/sdk/python/feast/usage.py\", line 287, in wrapper\n",
      "    raise exc.with_traceback(traceback)\n",
      "  File \"/Users/franciscojavierarceo/GitHub/feast/sdk/python/feast/usage.py\", line 276, in wrapper\n",
      "    return func(*args, **kwargs)\n",
      "  File \"/Users/franciscojavierarceo/GitHub/feast/sdk/python/feast/infra/offline_stores/file.py\", line 78, in _to_df_internal\n",
      "    df = self.evaluation_function().compute()\n",
      "  File \"/Users/franciscojavierarceo/GitHub/feast/sdk/python/feast/infra/offline_stores/file.py\", line 297, in evaluate_offline_job\n",
      "    source_df = _read_datasource(data_source)\n",
      "  File \"/Users/franciscojavierarceo/GitHub/feast/sdk/python/feast/infra/offline_stores/file.py\", line 492, in _read_datasource\n",
      "    return dd.read_parquet(\n",
      "  File \"/Users/franciscojavierarceo/GitHub/feast/venv/lib/python3.8/site-packages/dask/dataframe/io/parquet/core.py\", line 330, in read_parquet\n",
      "    read_metadata_result = engine.read_metadata(\n",
      "  File \"/Users/franciscojavierarceo/GitHub/feast/venv/lib/python3.8/site-packages/dask/dataframe/io/parquet/arrow.py\", line 371, in read_metadata\n",
      "    dataset_info = cls._collect_dataset_info(\n",
      "  File \"/Users/franciscojavierarceo/GitHub/feast/venv/lib/python3.8/site-packages/dask/dataframe/io/parquet/arrow.py\", line 877, in _collect_dataset_info\n",
      "    raise ValueError(\n",
      "ValueError: No files satisfy the `require_extension` criteria (files must end with ('.parq', '.parquet')).\n",
      "\u001b[0m"
     ]
    }
   ],
   "source": [
    "end_ts = datetime.now()\n",
    "start_ts = end_ts - timedelta(minutes=10)\n",
    "\n",
    "! feast validate --feature-service driver_activity --reference user_features_training_ref {start_ts.isoformat()} {end_ts.isoformat()}"
   ]
  },
  {
   "cell_type": "code",
   "execution_count": null,
   "id": "88be2c52-f90d-4c95-a581-5f2cd9af2314",
   "metadata": {},
   "outputs": [],
   "source": []
  }
 ],
 "metadata": {
  "kernelspec": {
   "display_name": "Python 3 (ipykernel)",
   "language": "python",
   "name": "python3"
  },
  "language_info": {
   "codemirror_mode": {
    "name": "ipython",
    "version": 3
   },
   "file_extension": ".py",
   "mimetype": "text/x-python",
   "name": "python",
   "nbconvert_exporter": "python",
   "pygments_lexer": "ipython3",
   "version": "3.8.13"
  }
 },
 "nbformat": 4,
 "nbformat_minor": 5
}
