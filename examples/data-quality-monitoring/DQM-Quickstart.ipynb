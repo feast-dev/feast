{
 "cells": [
  {
   "cell_type": "code",
   "execution_count": 1,
   "id": "7945b3fc-369a-47f1-8617-bcec53f46ff1",
   "metadata": {},
   "outputs": [
    {
     "name": "stdout",
     "output_type": "stream",
     "text": [
      "Please restart your runtime now (Runtime -> Restart runtime). This ensures that the correct dependencies are loaded.\n"
     ]
    }
   ],
   "source": [
    "%%sh\n",
    "pip install Pygments -q\n",
    "echo \"Please restart your runtime now (Runtime -> Restart runtime). This ensures that the correct dependencies are loaded.\""
   ]
  },
  {
   "cell_type": "markdown",
   "id": "ded981b3-c3c8-48e7-b063-9674a484cb40",
   "metadata": {},
   "source": [
    "# Based on these tutorials:\n",
    "\n",
    "- https://docs.feast.dev/reference/dqm\n",
    "- https://docs.feast.dev/tutorials/validating-historical-features\n"
   ]
  },
  {
   "cell_type": "code",
   "execution_count": 1,
   "id": "799bef6e-01f9-4848-98db-f52a1f7c1287",
   "metadata": {},
   "outputs": [
    {
     "name": "stdout",
     "output_type": "stream",
     "text": [
      "\n",
      "Creating a new Feast repository in \u001b[1m\u001b[32m/home/francisco/github/feast/examples/data-quality-monitoring/dqm_repo\u001b[0m.\n",
      "\n"
     ]
    }
   ],
   "source": [
    "!rm -rf dqm_repo\n",
    "!feast init dqm_repo"
   ]
  },
  {
   "cell_type": "code",
   "execution_count": 2,
   "id": "59d631fb-4f5e-43d1-8d75-98d5920ca0ac",
   "metadata": {},
   "outputs": [
    {
     "name": "stdout",
     "output_type": "stream",
     "text": [
      "/home/francisco/github/feast/examples/data-quality-monitoring/dqm_repo\n",
      ".:\n",
      "data  example.py  feature_store.yaml  __init__.py  logs\n",
      "\n",
      "./data:\n",
      "driver_stats.parquet\n",
      "\n",
      "./logs:\n"
     ]
    }
   ],
   "source": [
    "%cd dqm_repo\n",
    "!mkdir logs\n",
    "!ls -R"
   ]
  },
  {
   "cell_type": "code",
   "execution_count": 3,
   "id": "8b9e69b6-a6a0-40dc-ba12-8b6053a86817",
   "metadata": {},
   "outputs": [
    {
     "name": "stdout",
     "output_type": "stream",
     "text": [
      "\u001b[94mproject\u001b[39;49;00m:\u001b[37m \u001b[39;49;00mdqm_repo\u001b[37m\u001b[39;49;00m\n",
      "\u001b[94mregistry\u001b[39;49;00m:\u001b[37m \u001b[39;49;00mdata/registry.db\u001b[37m\u001b[39;49;00m\n",
      "\u001b[94mprovider\u001b[39;49;00m:\u001b[37m \u001b[39;49;00mlocal\u001b[37m\u001b[39;49;00m\n",
      "\u001b[94monline_store\u001b[39;49;00m:\u001b[37m\u001b[39;49;00m\n",
      "\u001b[37m    \u001b[39;49;00m\u001b[94mpath\u001b[39;49;00m:\u001b[37m \u001b[39;49;00mdata/online_store.db\u001b[37m\u001b[39;49;00m\n",
      "\u001b[94mentity_key_serialization_version\u001b[39;49;00m:\u001b[37m \u001b[39;49;00m2\u001b[37m\u001b[39;49;00m\n"
     ]
    }
   ],
   "source": [
    "!pygmentize feature_store.yaml"
   ]
  },
  {
   "cell_type": "code",
   "execution_count": 4,
   "id": "ddbaa5f6-63a3-4844-bfff-337e4299e18a",
   "metadata": {},
   "outputs": [
    {
     "data": {
      "text/html": [
       "<div>\n",
       "<style scoped>\n",
       "    .dataframe tbody tr th:only-of-type {\n",
       "        vertical-align: middle;\n",
       "    }\n",
       "\n",
       "    .dataframe tbody tr th {\n",
       "        vertical-align: top;\n",
       "    }\n",
       "\n",
       "    .dataframe thead th {\n",
       "        text-align: right;\n",
       "    }\n",
       "</style>\n",
       "<table border=\"1\" class=\"dataframe\">\n",
       "  <thead>\n",
       "    <tr style=\"text-align: right;\">\n",
       "      <th></th>\n",
       "      <th>event_timestamp</th>\n",
       "      <th>driver_id</th>\n",
       "      <th>conv_rate</th>\n",
       "      <th>acc_rate</th>\n",
       "      <th>avg_daily_trips</th>\n",
       "      <th>created</th>\n",
       "    </tr>\n",
       "  </thead>\n",
       "  <tbody>\n",
       "    <tr>\n",
       "      <th>0</th>\n",
       "      <td>2022-07-28 05:00:00+00:00</td>\n",
       "      <td>1005</td>\n",
       "      <td>0.840626</td>\n",
       "      <td>0.487525</td>\n",
       "      <td>754</td>\n",
       "      <td>2022-08-12 05:47:40.134</td>\n",
       "    </tr>\n",
       "    <tr>\n",
       "      <th>1</th>\n",
       "      <td>2022-07-28 06:00:00+00:00</td>\n",
       "      <td>1005</td>\n",
       "      <td>0.942585</td>\n",
       "      <td>0.330828</td>\n",
       "      <td>580</td>\n",
       "      <td>2022-08-12 05:47:40.134</td>\n",
       "    </tr>\n",
       "    <tr>\n",
       "      <th>2</th>\n",
       "      <td>2022-07-28 07:00:00+00:00</td>\n",
       "      <td>1005</td>\n",
       "      <td>0.922485</td>\n",
       "      <td>0.177851</td>\n",
       "      <td>830</td>\n",
       "      <td>2022-08-12 05:47:40.134</td>\n",
       "    </tr>\n",
       "    <tr>\n",
       "      <th>3</th>\n",
       "      <td>2022-07-28 08:00:00+00:00</td>\n",
       "      <td>1005</td>\n",
       "      <td>0.839960</td>\n",
       "      <td>0.033974</td>\n",
       "      <td>120</td>\n",
       "      <td>2022-08-12 05:47:40.134</td>\n",
       "    </tr>\n",
       "    <tr>\n",
       "      <th>4</th>\n",
       "      <td>2022-07-28 09:00:00+00:00</td>\n",
       "      <td>1005</td>\n",
       "      <td>0.337953</td>\n",
       "      <td>0.362264</td>\n",
       "      <td>252</td>\n",
       "      <td>2022-08-12 05:47:40.134</td>\n",
       "    </tr>\n",
       "    <tr>\n",
       "      <th>...</th>\n",
       "      <td>...</td>\n",
       "      <td>...</td>\n",
       "      <td>...</td>\n",
       "      <td>...</td>\n",
       "      <td>...</td>\n",
       "      <td>...</td>\n",
       "    </tr>\n",
       "    <tr>\n",
       "      <th>1802</th>\n",
       "      <td>2022-08-12 03:00:00+00:00</td>\n",
       "      <td>1001</td>\n",
       "      <td>0.550637</td>\n",
       "      <td>0.392341</td>\n",
       "      <td>158</td>\n",
       "      <td>2022-08-12 05:47:40.134</td>\n",
       "    </tr>\n",
       "    <tr>\n",
       "      <th>1803</th>\n",
       "      <td>2022-08-12 04:00:00+00:00</td>\n",
       "      <td>1001</td>\n",
       "      <td>0.979974</td>\n",
       "      <td>0.097716</td>\n",
       "      <td>758</td>\n",
       "      <td>2022-08-12 05:47:40.134</td>\n",
       "    </tr>\n",
       "    <tr>\n",
       "      <th>1804</th>\n",
       "      <td>2021-04-12 07:00:00+00:00</td>\n",
       "      <td>1001</td>\n",
       "      <td>0.269647</td>\n",
       "      <td>0.906581</td>\n",
       "      <td>74</td>\n",
       "      <td>2022-08-12 05:47:40.134</td>\n",
       "    </tr>\n",
       "    <tr>\n",
       "      <th>1805</th>\n",
       "      <td>2022-08-04 17:00:00+00:00</td>\n",
       "      <td>1003</td>\n",
       "      <td>0.492565</td>\n",
       "      <td>0.314931</td>\n",
       "      <td>402</td>\n",
       "      <td>2022-08-12 05:47:40.134</td>\n",
       "    </tr>\n",
       "    <tr>\n",
       "      <th>1806</th>\n",
       "      <td>2022-08-04 17:00:00+00:00</td>\n",
       "      <td>1003</td>\n",
       "      <td>0.492565</td>\n",
       "      <td>0.314931</td>\n",
       "      <td>402</td>\n",
       "      <td>2022-08-12 05:47:40.134</td>\n",
       "    </tr>\n",
       "  </tbody>\n",
       "</table>\n",
       "<p>1807 rows × 6 columns</p>\n",
       "</div>"
      ],
      "text/plain": [
       "               event_timestamp  driver_id  conv_rate  acc_rate  \\\n",
       "0    2022-07-28 05:00:00+00:00       1005   0.840626  0.487525   \n",
       "1    2022-07-28 06:00:00+00:00       1005   0.942585  0.330828   \n",
       "2    2022-07-28 07:00:00+00:00       1005   0.922485  0.177851   \n",
       "3    2022-07-28 08:00:00+00:00       1005   0.839960  0.033974   \n",
       "4    2022-07-28 09:00:00+00:00       1005   0.337953  0.362264   \n",
       "...                        ...        ...        ...       ...   \n",
       "1802 2022-08-12 03:00:00+00:00       1001   0.550637  0.392341   \n",
       "1803 2022-08-12 04:00:00+00:00       1001   0.979974  0.097716   \n",
       "1804 2021-04-12 07:00:00+00:00       1001   0.269647  0.906581   \n",
       "1805 2022-08-04 17:00:00+00:00       1003   0.492565  0.314931   \n",
       "1806 2022-08-04 17:00:00+00:00       1003   0.492565  0.314931   \n",
       "\n",
       "      avg_daily_trips                 created  \n",
       "0                 754 2022-08-12 05:47:40.134  \n",
       "1                 580 2022-08-12 05:47:40.134  \n",
       "2                 830 2022-08-12 05:47:40.134  \n",
       "3                 120 2022-08-12 05:47:40.134  \n",
       "4                 252 2022-08-12 05:47:40.134  \n",
       "...               ...                     ...  \n",
       "1802              158 2022-08-12 05:47:40.134  \n",
       "1803              758 2022-08-12 05:47:40.134  \n",
       "1804               74 2022-08-12 05:47:40.134  \n",
       "1805              402 2022-08-12 05:47:40.134  \n",
       "1806              402 2022-08-12 05:47:40.134  \n",
       "\n",
       "[1807 rows x 6 columns]"
      ]
     },
     "execution_count": 4,
     "metadata": {},
     "output_type": "execute_result"
    }
   ],
   "source": [
    "import pandas as pd\n",
    "\n",
    "pd.read_parquet(\"data/driver_stats.parquet\")"
   ]
  },
  {
   "cell_type": "code",
   "execution_count": 5,
   "id": "7bb41d5f-95de-40b0-815b-10437b40ee36",
   "metadata": {
    "tags": []
   },
   "outputs": [
    {
     "name": "stdout",
     "output_type": "stream",
     "text": [
      "\u001b[38;2;61;123;123;03m# This is an example feature definition file\u001b[39;00m\n",
      "\n",
      "\u001b[38;2;0;128;0;01mfrom\u001b[39;00m \u001b[38;2;0;0;255;01mdatetime\u001b[39;00m \u001b[38;2;0;128;0;01mimport\u001b[39;00m timedelta\n",
      "\n",
      "\u001b[38;2;0;128;0;01mfrom\u001b[39;00m \u001b[38;2;0;0;255;01mfeast\u001b[39;00m \u001b[38;2;0;128;0;01mimport\u001b[39;00m Entity, FeatureService, FeatureView, Field, FileSource\n",
      "\u001b[38;2;0;128;0;01mfrom\u001b[39;00m \u001b[38;2;0;0;255;01mfeast\u001b[39;00m\u001b[38;2;0;0;255;01m.\u001b[39;00m\u001b[38;2;0;0;255;01mtypes\u001b[39;00m \u001b[38;2;0;128;0;01mimport\u001b[39;00m Float32, Int64\n",
      "\n",
      "\u001b[38;2;61;123;123;03m# Read data from parquet files. Parquet is convenient for local development mode. For\u001b[39;00m\n",
      "\u001b[38;2;61;123;123;03m# production, you can use your favorite DWH, such as BigQuery. See Feast documentation\u001b[39;00m\n",
      "\u001b[38;2;61;123;123;03m# for more info.\u001b[39;00m\n",
      "driver_hourly_stats \u001b[38;2;102;102;102m=\u001b[39m FileSource(\n",
      "    name\u001b[38;2;102;102;102m=\u001b[39m\u001b[38;2;186;33;33m\"\u001b[39m\u001b[38;2;186;33;33mdriver_hourly_stats_source\u001b[39m\u001b[38;2;186;33;33m\"\u001b[39m,\n",
      "    path\u001b[38;2;102;102;102m=\u001b[39m\u001b[38;2;186;33;33m\"\u001b[39m\u001b[38;2;186;33;33m/home/francisco/github/feast/examples/data-quality-monitoring/dqm_repo/data/driver_stats.parquet\u001b[39m\u001b[38;2;186;33;33m\"\u001b[39m,\n",
      "    timestamp_field\u001b[38;2;102;102;102m=\u001b[39m\u001b[38;2;186;33;33m\"\u001b[39m\u001b[38;2;186;33;33mevent_timestamp\u001b[39m\u001b[38;2;186;33;33m\"\u001b[39m,\n",
      "    created_timestamp_column\u001b[38;2;102;102;102m=\u001b[39m\u001b[38;2;186;33;33m\"\u001b[39m\u001b[38;2;186;33;33mcreated\u001b[39m\u001b[38;2;186;33;33m\"\u001b[39m,\n",
      ")\n",
      "\n",
      "\u001b[38;2;61;123;123;03m# Define an entity for the driver. You can think of entity as a primary key used to\u001b[39;00m\n",
      "\u001b[38;2;61;123;123;03m# fetch features.\u001b[39;00m\n",
      "driver \u001b[38;2;102;102;102m=\u001b[39m Entity(name\u001b[38;2;102;102;102m=\u001b[39m\u001b[38;2;186;33;33m\"\u001b[39m\u001b[38;2;186;33;33mdriver\u001b[39m\u001b[38;2;186;33;33m\"\u001b[39m, join_keys\u001b[38;2;102;102;102m=\u001b[39m[\u001b[38;2;186;33;33m\"\u001b[39m\u001b[38;2;186;33;33mdriver_id\u001b[39m\u001b[38;2;186;33;33m\"\u001b[39m])\n",
      "\n",
      "\u001b[38;2;61;123;123;03m# Our parquet files contain sample data that includes a driver_id column, timestamps and\u001b[39;00m\n",
      "\u001b[38;2;61;123;123;03m# three feature column. Here we define a Feature View that will allow us to serve this\u001b[39;00m\n",
      "\u001b[38;2;61;123;123;03m# data to our model online.\u001b[39;00m\n",
      "driver_hourly_stats_view \u001b[38;2;102;102;102m=\u001b[39m FeatureView(\n",
      "    name\u001b[38;2;102;102;102m=\u001b[39m\u001b[38;2;186;33;33m\"\u001b[39m\u001b[38;2;186;33;33mdriver_hourly_stats\u001b[39m\u001b[38;2;186;33;33m\"\u001b[39m,\n",
      "    entities\u001b[38;2;102;102;102m=\u001b[39m[driver],\n",
      "    ttl\u001b[38;2;102;102;102m=\u001b[39mtimedelta(days\u001b[38;2;102;102;102m=\u001b[39m\u001b[38;2;102;102;102m1\u001b[39m),\n",
      "    schema\u001b[38;2;102;102;102m=\u001b[39m[\n",
      "        Field(name\u001b[38;2;102;102;102m=\u001b[39m\u001b[38;2;186;33;33m\"\u001b[39m\u001b[38;2;186;33;33mconv_rate\u001b[39m\u001b[38;2;186;33;33m\"\u001b[39m, dtype\u001b[38;2;102;102;102m=\u001b[39mFloat32),\n",
      "        Field(name\u001b[38;2;102;102;102m=\u001b[39m\u001b[38;2;186;33;33m\"\u001b[39m\u001b[38;2;186;33;33macc_rate\u001b[39m\u001b[38;2;186;33;33m\"\u001b[39m, dtype\u001b[38;2;102;102;102m=\u001b[39mFloat32),\n",
      "        Field(name\u001b[38;2;102;102;102m=\u001b[39m\u001b[38;2;186;33;33m\"\u001b[39m\u001b[38;2;186;33;33mavg_daily_trips\u001b[39m\u001b[38;2;186;33;33m\"\u001b[39m, dtype\u001b[38;2;102;102;102m=\u001b[39mInt64),\n",
      "    ],\n",
      "    online\u001b[38;2;102;102;102m=\u001b[39m\u001b[38;2;0;128;0;01mTrue\u001b[39;00m,\n",
      "    source\u001b[38;2;102;102;102m=\u001b[39mdriver_hourly_stats,\n",
      "    tags\u001b[38;2;102;102;102m=\u001b[39m{},\n",
      ")\n",
      "\n",
      "driver_stats_fs \u001b[38;2;102;102;102m=\u001b[39m FeatureService(\n",
      "    name\u001b[38;2;102;102;102m=\u001b[39m\u001b[38;2;186;33;33m\"\u001b[39m\u001b[38;2;186;33;33mdriver_activity\u001b[39m\u001b[38;2;186;33;33m\"\u001b[39m, features\u001b[38;2;102;102;102m=\u001b[39m[driver_hourly_stats_view]\n",
      ")\n"
     ]
    }
   ],
   "source": [
    "!pygmentize -f terminal16m example.py"
   ]
  },
  {
   "cell_type": "code",
   "execution_count": 6,
   "id": "abf204a6-adb0-4ed1-8d87-45fbf7cdd826",
   "metadata": {},
   "outputs": [],
   "source": [
    "feature_store = \\\n",
    "f\"\"\"project: dqm_repo\n",
    "registry: data/registry.db\n",
    "provider: local\n",
    "offline_store:\n",
    "    type: file\n",
    "online_store:\n",
    "    path: data/online_store.db\n",
    "entity_key_serialization_version: 2\n",
    "feature_server:\n",
    "    enabled: True\n",
    "    feature_logging:\n",
    "        enabled: True\n",
    "        flush_interval_secs: 60\n",
    "        write_to_disk_interval_secs: 10\n",
    "    \n",
    "go_feature_retrieval: False\n",
    "\"\"\"\n",
    "\n",
    "with open('feature_store.yaml', \"w\") as feature_store_file:\n",
    "    feature_store_file.write(feature_store)\n",
    "\n",
    "dqm_services = f\"\"\"\n",
    "from feast import FeatureService\n",
    "from feast.feature_logging import LoggingConfig\n",
    "from feast.infra.offline_stores.file_source import FileLoggingDestination\n",
    "\n",
    "from example import driver_hourly_stats, driver, driver_hourly_stats_view\n",
    "\n",
    "fs = FeatureService(\n",
    "    name=\"driver_activity\", \n",
    "    features=[driver_hourly_stats_view],\n",
    "    logging_config=LoggingConfig(\n",
    "        sample_rate=1.0,\n",
    "        destination=FileLoggingDestination(path=\"logs/\"),\n",
    "    )\n",
    ")\n",
    "\"\"\"\n",
    "    \n",
    "with open('dqm_services.py', \"w\") as dqm_services_file:\n",
    "    dqm_services_file.write(dqm_services)"
   ]
  },
  {
   "cell_type": "code",
   "execution_count": 7,
   "id": "f480a6a5-3b1f-4fbe-a95c-38767a8c9fa5",
   "metadata": {},
   "outputs": [
    {
     "name": "stdout",
     "output_type": "stream",
     "text": [
      "Created entity \u001b[1m\u001b[32mdriver\u001b[0m\n",
      "Created feature view \u001b[1m\u001b[32mdriver_hourly_stats\u001b[0m\n",
      "Created feature service \u001b[1m\u001b[32mdriver_activity\u001b[0m\n",
      "\n",
      "Created sqlite table \u001b[1m\u001b[32mdqm_repo_driver_hourly_stats\u001b[0m\n",
      "\n"
     ]
    }
   ],
   "source": [
    "!feast apply"
   ]
  },
  {
   "cell_type": "code",
   "execution_count": 8,
   "id": "2d21fbc8-cb4c-45d2-ac3a-7bc11759d03a",
   "metadata": {},
   "outputs": [],
   "source": [
    "from datetime import datetime, timedelta\n",
    "import pandas as pd\n",
    "\n",
    "from feast import FeatureStore\n",
    "\n",
    "# The entity dataframe is the dataframe we want to enrich with feature values\n",
    "entity_df = pd.DataFrame.from_dict(\n",
    "    {\n",
    "        \"driver_id\": [1001, 1002, 1003],\n",
    "        \"label_driver_reported_satisfaction\": [1, 5, 3], \n",
    "        \"event_timestamp\": [\n",
    "            datetime.now() - timedelta(minutes=11),\n",
    "            datetime.now() - timedelta(minutes=36),\n",
    "            datetime.now() - timedelta(minutes=73),\n",
    "        ],\n",
    "    }\n",
    ")\n",
    "\n",
    "store = FeatureStore(repo_path=\".\")\n",
    "\n",
    "training_data_job = store.get_historical_features(\n",
    "    entity_df=entity_df,\n",
    "    features=[\n",
    "        \"driver_hourly_stats:conv_rate\",\n",
    "        \"driver_hourly_stats:acc_rate\",\n",
    "        \"driver_hourly_stats:avg_daily_trips\",\n",
    "    ],\n",
    ")"
   ]
  },
  {
   "cell_type": "code",
   "execution_count": 9,
   "id": "d6bf5b9e-bc9d-4910-9cd2-f4e86d230ace",
   "metadata": {},
   "outputs": [
    {
     "data": {
      "text/html": [
       "<div>\n",
       "<style scoped>\n",
       "    .dataframe tbody tr th:only-of-type {\n",
       "        vertical-align: middle;\n",
       "    }\n",
       "\n",
       "    .dataframe tbody tr th {\n",
       "        vertical-align: top;\n",
       "    }\n",
       "\n",
       "    .dataframe thead th {\n",
       "        text-align: right;\n",
       "    }\n",
       "</style>\n",
       "<table border=\"1\" class=\"dataframe\">\n",
       "  <thead>\n",
       "    <tr style=\"text-align: right;\">\n",
       "      <th></th>\n",
       "      <th>driver_id</th>\n",
       "      <th>label_driver_reported_satisfaction</th>\n",
       "      <th>event_timestamp</th>\n",
       "      <th>conv_rate</th>\n",
       "      <th>acc_rate</th>\n",
       "      <th>avg_daily_trips</th>\n",
       "    </tr>\n",
       "  </thead>\n",
       "  <tbody>\n",
       "    <tr>\n",
       "      <th>0</th>\n",
       "      <td>1002</td>\n",
       "      <td>5</td>\n",
       "      <td>2022-08-12 05:12:24.271472+00:00</td>\n",
       "      <td>0.138436</td>\n",
       "      <td>0.526138</td>\n",
       "      <td>295</td>\n",
       "    </tr>\n",
       "    <tr>\n",
       "      <th>1</th>\n",
       "      <td>1001</td>\n",
       "      <td>1</td>\n",
       "      <td>2022-08-12 05:37:24.271467+00:00</td>\n",
       "      <td>0.979974</td>\n",
       "      <td>0.097716</td>\n",
       "      <td>758</td>\n",
       "    </tr>\n",
       "    <tr>\n",
       "      <th>2</th>\n",
       "      <td>1003</td>\n",
       "      <td>3</td>\n",
       "      <td>2022-08-12 04:35:24.271474+00:00</td>\n",
       "      <td>0.924060</td>\n",
       "      <td>0.768807</td>\n",
       "      <td>370</td>\n",
       "    </tr>\n",
       "  </tbody>\n",
       "</table>\n",
       "</div>"
      ],
      "text/plain": [
       "   driver_id  label_driver_reported_satisfaction  \\\n",
       "0       1002                                   5   \n",
       "1       1001                                   1   \n",
       "2       1003                                   3   \n",
       "\n",
       "                   event_timestamp  conv_rate  acc_rate  avg_daily_trips  \n",
       "0 2022-08-12 05:12:24.271472+00:00   0.138436  0.526138              295  \n",
       "1 2022-08-12 05:37:24.271467+00:00   0.979974  0.097716              758  \n",
       "2 2022-08-12 04:35:24.271474+00:00   0.924060  0.768807              370  "
      ]
     },
     "execution_count": 9,
     "metadata": {},
     "output_type": "execute_result"
    }
   ],
   "source": [
    "training_data_job.to_df()"
   ]
  },
  {
   "cell_type": "code",
   "execution_count": 10,
   "id": "9a468544-bd8f-4922-888d-2ef129ef5a1e",
   "metadata": {},
   "outputs": [
    {
     "data": {
      "text/html": [
       "<div>\n",
       "<style scoped>\n",
       "    .dataframe tbody tr th:only-of-type {\n",
       "        vertical-align: middle;\n",
       "    }\n",
       "\n",
       "    .dataframe tbody tr th {\n",
       "        vertical-align: top;\n",
       "    }\n",
       "\n",
       "    .dataframe thead th {\n",
       "        text-align: right;\n",
       "    }\n",
       "</style>\n",
       "<table border=\"1\" class=\"dataframe\">\n",
       "  <thead>\n",
       "    <tr style=\"text-align: right;\">\n",
       "      <th></th>\n",
       "      <th>driver_id</th>\n",
       "      <th>label_driver_reported_satisfaction</th>\n",
       "      <th>event_timestamp</th>\n",
       "      <th>conv_rate</th>\n",
       "      <th>acc_rate</th>\n",
       "      <th>avg_daily_trips</th>\n",
       "    </tr>\n",
       "  </thead>\n",
       "  <tbody>\n",
       "    <tr>\n",
       "      <th>0</th>\n",
       "      <td>1002</td>\n",
       "      <td>5</td>\n",
       "      <td>2022-08-12 05:12:24.271472+00:00</td>\n",
       "      <td>0.138436</td>\n",
       "      <td>0.526138</td>\n",
       "      <td>295</td>\n",
       "    </tr>\n",
       "    <tr>\n",
       "      <th>1</th>\n",
       "      <td>1001</td>\n",
       "      <td>1</td>\n",
       "      <td>2022-08-12 05:37:24.271467+00:00</td>\n",
       "      <td>0.979974</td>\n",
       "      <td>0.097716</td>\n",
       "      <td>758</td>\n",
       "    </tr>\n",
       "    <tr>\n",
       "      <th>2</th>\n",
       "      <td>1003</td>\n",
       "      <td>3</td>\n",
       "      <td>2022-08-12 04:35:24.271474+00:00</td>\n",
       "      <td>0.924060</td>\n",
       "      <td>0.768807</td>\n",
       "      <td>370</td>\n",
       "    </tr>\n",
       "  </tbody>\n",
       "</table>\n",
       "</div>"
      ],
      "text/plain": [
       "   driver_id  label_driver_reported_satisfaction  \\\n",
       "0       1002                                   5   \n",
       "1       1001                                   1   \n",
       "2       1003                                   3   \n",
       "\n",
       "                   event_timestamp  conv_rate  acc_rate  avg_daily_trips  \n",
       "0 2022-08-12 05:12:24.271472+00:00   0.138436  0.526138              295  \n",
       "1 2022-08-12 05:37:24.271467+00:00   0.979974  0.097716              758  \n",
       "2 2022-08-12 04:35:24.271474+00:00   0.924060  0.768807              370  "
      ]
     },
     "execution_count": 10,
     "metadata": {},
     "output_type": "execute_result"
    }
   ],
   "source": [
    "training_data_job = store.get_historical_features(\n",
    "    entity_df=entity_df,\n",
    "    features=[\n",
    "        \"driver_hourly_stats:conv_rate\",\n",
    "        \"driver_hourly_stats:acc_rate\",\n",
    "        \"driver_hourly_stats:avg_daily_trips\",\n",
    "    ],\n",
    ")\n",
    "training_data_job.to_df()"
   ]
  },
  {
   "cell_type": "code",
   "execution_count": 11,
   "id": "acb243b6-e9f3-48a6-b1fa-1825786a3810",
   "metadata": {},
   "outputs": [
    {
     "name": "stderr",
     "output_type": "stream",
     "text": [
      "/home/francisco/github/feast/sdk/python/feast/feature_store.py:1127: RuntimeWarning: Saving dataset is an experimental feature. This API is unstable and it could and most probably will be changed in the future. We do not guarantee that future changes will maintain backward compatibility.\n",
      "  warnings.warn(\n"
     ]
    },
    {
     "data": {
      "text/plain": [
       "<SavedDataset(name = reference_dataset, features = ['driver_hourly_stats:conv_rate', 'driver_hourly_stats:acc_rate', 'driver_hourly_stats:avg_daily_trips'], join_keys = ['label_driver_reported_satisfaction', 'driver_id'], storage = <feast.infra.offline_stores.file_source.SavedDatasetFileStorage object at 0x7fa30fd6f820>, full_feature_names = False, tags = {}, feature_service_name = None, _retrieval_job = <feast.infra.offline_stores.file.FileRetrievalJob object at 0x7fa30f52aa30>, min_event_timestamp = 2022-08-12 04:35:24.271474+00:00, max_event_timestamp = 2022-08-12 05:37:24.271467+00:00, created_timestamp = 2022-08-12 11:48:44.634681, last_updated_timestamp = 2022-08-12 11:48:44.634681)>"
      ]
     },
     "execution_count": 11,
     "metadata": {},
     "output_type": "execute_result"
    }
   ],
   "source": [
    "from feast.infra.offline_stores.file_source import SavedDatasetFileStorage\n",
    "reference_dataset = store.create_saved_dataset(\n",
    "    from_=training_data_job,\n",
    "    name=\"reference_dataset\",\n",
    "    storage=SavedDatasetFileStorage(path='data/driver_stats_reference.parquet')\n",
    ")\n",
    "reference_dataset"
   ]
  },
  {
   "cell_type": "code",
   "execution_count": 20,
   "id": "ff168195-04bc-4c82-9c02-bb72b0b41375",
   "metadata": {},
   "outputs": [],
   "source": [
    "from feast.dqm.profilers.ge_profiler import ge_profiler\n",
    "from great_expectations.dataset import PandasDataset\n",
    "from great_expectations.core.expectation_suite import ExpectationSuite\n",
    "\n",
    "@ge_profiler\n",
    "def user_features_profiler(dataset: PandasDataset) -> ExpectationSuite:\n",
    "    print(dataset.columns)\n",
    "    dataset.expect_column_to_exist(\"driver_id\")\n",
    "    dataset.expect_column_values_to_be_between(\"avg_daily_trips\", 0, 1000)\n",
    "    dataset.expect_column_values_to_be_between(\"conv_rate\", 0, 1)\n",
    "    dataset.expect_column_values_to_be_between(\"acc_rate\", 0, 1)\n",
    "    return dataset.get_expectation_suite()"
   ]
  },
  {
   "cell_type": "code",
   "execution_count": 16,
   "id": "c0b1a8de-57de-460b-abc4-ec5ac2d8d484",
   "metadata": {},
   "outputs": [
    {
     "name": "stderr",
     "output_type": "stream",
     "text": [
      "/home/francisco/github/feast/sdk/python/feast/feature_store.py:1180: RuntimeWarning: Retrieving datasets is an experimental feature. This API is unstable and it could and most probably will be changed in the future. We do not guarantee that future changes will maintain backward compatibility.\n",
      "  warnings.warn(\n"
     ]
    }
   ],
   "source": [
    "ds = store.get_saved_dataset('reference_dataset')"
   ]
  },
  {
   "cell_type": "code",
   "execution_count": 19,
   "id": "64d9cad2-567b-4ba0-901a-030de7e99d1f",
   "metadata": {},
   "outputs": [
    {
     "data": {
      "text/html": [
       "<div>\n",
       "<style scoped>\n",
       "    .dataframe tbody tr th:only-of-type {\n",
       "        vertical-align: middle;\n",
       "    }\n",
       "\n",
       "    .dataframe tbody tr th {\n",
       "        vertical-align: top;\n",
       "    }\n",
       "\n",
       "    .dataframe thead th {\n",
       "        text-align: right;\n",
       "    }\n",
       "</style>\n",
       "<table border=\"1\" class=\"dataframe\">\n",
       "  <thead>\n",
       "    <tr style=\"text-align: right;\">\n",
       "      <th></th>\n",
       "      <th>driver_id</th>\n",
       "      <th>label_driver_reported_satisfaction</th>\n",
       "      <th>event_timestamp</th>\n",
       "      <th>conv_rate</th>\n",
       "      <th>acc_rate</th>\n",
       "      <th>avg_daily_trips</th>\n",
       "    </tr>\n",
       "  </thead>\n",
       "  <tbody>\n",
       "    <tr>\n",
       "      <th>0</th>\n",
       "      <td>1002</td>\n",
       "      <td>5</td>\n",
       "      <td>2022-08-12 05:12:24.271472+00:00</td>\n",
       "      <td>0.138436</td>\n",
       "      <td>0.526138</td>\n",
       "      <td>295</td>\n",
       "    </tr>\n",
       "    <tr>\n",
       "      <th>1</th>\n",
       "      <td>1001</td>\n",
       "      <td>1</td>\n",
       "      <td>2022-08-12 05:37:24.271467+00:00</td>\n",
       "      <td>0.979974</td>\n",
       "      <td>0.097716</td>\n",
       "      <td>758</td>\n",
       "    </tr>\n",
       "    <tr>\n",
       "      <th>2</th>\n",
       "      <td>1003</td>\n",
       "      <td>3</td>\n",
       "      <td>2022-08-12 04:35:24.271474+00:00</td>\n",
       "      <td>0.924060</td>\n",
       "      <td>0.768807</td>\n",
       "      <td>370</td>\n",
       "    </tr>\n",
       "  </tbody>\n",
       "</table>\n",
       "</div>"
      ],
      "text/plain": [
       "   driver_id  label_driver_reported_satisfaction  \\\n",
       "0       1002                                   5   \n",
       "1       1001                                   1   \n",
       "2       1003                                   3   \n",
       "\n",
       "                   event_timestamp  conv_rate  acc_rate  avg_daily_trips  \n",
       "0 2022-08-12 05:12:24.271472+00:00   0.138436  0.526138              295  \n",
       "1 2022-08-12 05:37:24.271467+00:00   0.979974  0.097716              758  \n",
       "2 2022-08-12 04:35:24.271474+00:00   0.924060  0.768807              370  "
      ]
     },
     "execution_count": 19,
     "metadata": {},
     "output_type": "execute_result"
    }
   ],
   "source": [
    "training_data_job.to_df()"
   ]
  },
  {
   "cell_type": "code",
   "execution_count": 18,
   "id": "55d04aa8-8d18-4c2f-9857-84d00289d789",
   "metadata": {},
   "outputs": [
    {
     "data": {
      "text/html": [
       "<div>\n",
       "<style scoped>\n",
       "    .dataframe tbody tr th:only-of-type {\n",
       "        vertical-align: middle;\n",
       "    }\n",
       "\n",
       "    .dataframe tbody tr th {\n",
       "        vertical-align: top;\n",
       "    }\n",
       "\n",
       "    .dataframe thead th {\n",
       "        text-align: right;\n",
       "    }\n",
       "</style>\n",
       "<table border=\"1\" class=\"dataframe\">\n",
       "  <thead>\n",
       "    <tr style=\"text-align: right;\">\n",
       "      <th></th>\n",
       "      <th>acc_rate</th>\n",
       "      <th>avg_daily_trips</th>\n",
       "      <th>event_timestamp</th>\n",
       "      <th>conv_rate</th>\n",
       "      <th>label_driver_reported_satisfaction</th>\n",
       "      <th>driver_id</th>\n",
       "    </tr>\n",
       "  </thead>\n",
       "  <tbody>\n",
       "    <tr>\n",
       "      <th>0</th>\n",
       "      <td>0.768807</td>\n",
       "      <td>370</td>\n",
       "      <td>2022-08-12 04:35:24.271474+00:00</td>\n",
       "      <td>0.924060</td>\n",
       "      <td>3</td>\n",
       "      <td>1003</td>\n",
       "    </tr>\n",
       "    <tr>\n",
       "      <th>1</th>\n",
       "      <td>0.526138</td>\n",
       "      <td>295</td>\n",
       "      <td>2022-08-12 05:12:24.271472+00:00</td>\n",
       "      <td>0.138436</td>\n",
       "      <td>5</td>\n",
       "      <td>1002</td>\n",
       "    </tr>\n",
       "    <tr>\n",
       "      <th>2</th>\n",
       "      <td>0.097716</td>\n",
       "      <td>758</td>\n",
       "      <td>2022-08-12 05:37:24.271467+00:00</td>\n",
       "      <td>0.979974</td>\n",
       "      <td>1</td>\n",
       "      <td>1001</td>\n",
       "    </tr>\n",
       "  </tbody>\n",
       "</table>\n",
       "</div>"
      ],
      "text/plain": [
       "   acc_rate  avg_daily_trips                  event_timestamp  conv_rate  \\\n",
       "0  0.768807              370 2022-08-12 04:35:24.271474+00:00   0.924060   \n",
       "1  0.526138              295 2022-08-12 05:12:24.271472+00:00   0.138436   \n",
       "2  0.097716              758 2022-08-12 05:37:24.271467+00:00   0.979974   \n",
       "\n",
       "   label_driver_reported_satisfaction  driver_id  \n",
       "0                                   3       1003  \n",
       "1                                   5       1002  \n",
       "2                                   1       1001  "
      ]
     },
     "execution_count": 18,
     "metadata": {},
     "output_type": "execute_result"
    }
   ],
   "source": [
    "ds.to_df()"
   ]
  },
  {
   "cell_type": "code",
   "execution_count": 21,
   "id": "23d328a4-9305-4336-89bf-f0cb70b8b045",
   "metadata": {},
   "outputs": [
    {
     "name": "stdout",
     "output_type": "stream",
     "text": [
      "Index(['acc_rate', 'avg_daily_trips', 'event_timestamp', 'conv_rate',\n",
      "       'label_driver_reported_satisfaction', 'driver_id'],\n",
      "      dtype='object')\n"
     ]
    },
    {
     "name": "stderr",
     "output_type": "stream",
     "text": [
      "/home/francisco/github/feast/sdk/python/feast/infra/offline_stores/offline_store.py:96: RuntimeWarning: Dataset validation is an experimental feature. This API is unstable and it could and most probably will be changed in the future. We do not guarantee that future changes will maintain backward compatibility.\n",
      "  warnings.warn(\n"
     ]
    }
   ],
   "source": [
    "validation_reference = ds.as_reference(name='user_features_profiler', profiler=user_features_profiler)\n",
    "_ = training_data_job.to_df(validation_reference=validation_reference)"
   ]
  },
  {
   "cell_type": "code",
   "execution_count": 22,
   "id": "cbdb3bbb-c9fc-466f-8972-42a028dff341",
   "metadata": {},
   "outputs": [
    {
     "name": "stdout",
     "output_type": "stream",
     "text": [
      "Materializing \u001b[1m\u001b[32m1\u001b[0m feature views to \u001b[1m\u001b[32m2022-08-11 23:50:26-06:00\u001b[0m into the \u001b[1m\u001b[32msqlite\u001b[0m online store.\n",
      "\n",
      "\u001b[1m\u001b[32mdriver_hourly_stats\u001b[0m from \u001b[1m\u001b[32m2022-08-11 11:50:28-06:00\u001b[0m to \u001b[1m\u001b[32m2022-08-11 23:50:26-06:00\u001b[0m:\n",
      "100%|████████████████████████████████████████████████████████████████| 5/5 [00:00<00:00, 623.43it/s]\n"
     ]
    }
   ],
   "source": [
    "from datetime import datetime\n",
    "!feast materialize-incremental {datetime.now().isoformat()}"
   ]
  },
  {
   "cell_type": "code",
   "execution_count": 23,
   "id": "3dde262c-e4be-4e02-86df-91351d458700",
   "metadata": {},
   "outputs": [
    {
     "name": "stdout",
     "output_type": "stream",
     "text": [
      "--- Data directory ---\n",
      "driver_stats.parquet\t\tonline_store.db\n",
      "driver_stats_reference.parquet\tregistry.db\n",
      "\n",
      "--- Schema of online store ---\n",
      "                                          entity_key     feature_name  \\\n",
      "0  b'\\x02\\x00\\x00\\x00driver_id\\x04\\x00\\x00\\x00\\x0...        conv_rate   \n",
      "1  b'\\x02\\x00\\x00\\x00driver_id\\x04\\x00\\x00\\x00\\x0...         acc_rate   \n",
      "2  b'\\x02\\x00\\x00\\x00driver_id\\x04\\x00\\x00\\x00\\x0...  avg_daily_trips   \n",
      "3  b'\\x02\\x00\\x00\\x00driver_id\\x04\\x00\\x00\\x00\\x0...        conv_rate   \n",
      "4  b'\\x02\\x00\\x00\\x00driver_id\\x04\\x00\\x00\\x00\\x0...         acc_rate   \n",
      "5  b'\\x02\\x00\\x00\\x00driver_id\\x04\\x00\\x00\\x00\\x0...  avg_daily_trips   \n",
      "6  b'\\x02\\x00\\x00\\x00driver_id\\x04\\x00\\x00\\x00\\x0...        conv_rate   \n",
      "7  b'\\x02\\x00\\x00\\x00driver_id\\x04\\x00\\x00\\x00\\x0...         acc_rate   \n",
      "8  b'\\x02\\x00\\x00\\x00driver_id\\x04\\x00\\x00\\x00\\x0...  avg_daily_trips   \n",
      "9  b'\\x02\\x00\\x00\\x00driver_id\\x04\\x00\\x00\\x00\\x0...        conv_rate   \n",
      "\n",
      "            value             event_ts                  created_ts  \n",
      "0     b'57\\x8fl?'  2022-08-12 04:00:00  2022-08-12 05:47:40.134000  \n",
      "1  b'5\\x82\\xd0D?'  2022-08-12 04:00:00  2022-08-12 05:47:40.134000  \n",
      "2    b' \\xf2\\x02'  2022-08-12 04:00:00  2022-08-12 05:47:40.134000  \n",
      "3  b'5.\\x9e\\x8a>'  2022-08-12 04:00:00  2022-08-12 05:47:40.134000  \n",
      "4        b'5,}x?'  2022-08-12 04:00:00  2022-08-12 05:47:40.134000  \n",
      "5    b' \\xba\\x02'  2022-08-12 04:00:00  2022-08-12 05:47:40.134000  \n",
      "6  b'5\\xa5\\xf5s?'  2022-08-12 04:00:00  2022-08-12 05:47:40.134000  \n",
      "7     b'5R$\\xfd>'  2022-08-12 04:00:00  2022-08-12 05:47:40.134000  \n",
      "8    b' \\xb2\\x07'  2022-08-12 04:00:00  2022-08-12 05:47:40.134000  \n",
      "9  b'5\\x8e\\xdfz?'  2022-08-12 04:00:00  2022-08-12 05:47:40.134000  \n"
     ]
    }
   ],
   "source": [
    "print(\"--- Data directory ---\")\n",
    "!ls data\n",
    "\n",
    "import sqlite3\n",
    "import pandas as pd\n",
    "con = sqlite3.connect(\"data/online_store.db\")\n",
    "print(\"\\n--- Schema of online store ---\")\n",
    "print(\n",
    "    pd.read_sql_query(\"SELECT * FROM dqm_repo_driver_hourly_stats limit 10;\", con)\n",
    ")\n",
    "con.close()"
   ]
  },
  {
   "cell_type": "code",
   "execution_count": 24,
   "id": "5348f972-a46b-44e9-8082-e9a2bea85472",
   "metadata": {},
   "outputs": [
    {
     "name": "stdout",
     "output_type": "stream",
     "text": [
      "{'acc_rate': [0.9706599712371826, 0.4944177269935608],\n",
      " 'avg_daily_trips': [314, 946],\n",
      " 'conv_rate': [0.27073806524276733, 0.9529669880867004],\n",
      " 'driver_id': [1004, 1005]}\n"
     ]
    }
   ],
   "source": [
    "from pprint import pprint\n",
    "from feast import FeatureStore\n",
    "\n",
    "store = FeatureStore(repo_path=\".\")\n",
    "\n",
    "feature_vector = store.get_online_features(\n",
    "    features=[\n",
    "        \"driver_hourly_stats:conv_rate\",\n",
    "        \"driver_hourly_stats:acc_rate\",\n",
    "        \"driver_hourly_stats:avg_daily_trips\",\n",
    "    ],\n",
    "    entity_rows=[\n",
    "        {\"driver_id\": 1004},\n",
    "        {\"driver_id\": 1005},\n",
    "    ],\n",
    ").to_dict()\n",
    "\n",
    "pprint(feature_vector)\n"
   ]
  },
  {
   "cell_type": "code",
   "execution_count": 25,
   "id": "0ce59403-e754-4e11-90be-333da59fffe8",
   "metadata": {},
   "outputs": [
    {
     "name": "stdout",
     "output_type": "stream",
     "text": [
      "{'acc_rate': [0.9706599712371826, 0.4944177269935608],\n",
      " 'avg_daily_trips': [314, 946],\n",
      " 'conv_rate': [0.27073806524276733, 0.9529669880867004],\n",
      " 'driver_id': [1004, 1005]}\n"
     ]
    }
   ],
   "source": [
    "from feast import FeatureStore\n",
    "feature_store = FeatureStore('.')  # Initialize the feature store\n",
    "\n",
    "feature_service = feature_store.get_feature_service(\"driver_activity\")\n",
    "feature_vector = feature_store.get_online_features(\n",
    "    features=feature_service,\n",
    "    entity_rows=[\n",
    "        # {join_key: entity_value}\n",
    "        {\"driver_id\": 1004},\n",
    "        {\"driver_id\": 1005},\n",
    "    ],\n",
    ").to_dict()\n",
    "pprint(feature_vector)"
   ]
  },
  {
   "cell_type": "code",
   "execution_count": 26,
   "id": "5df7ed9d-0eb6-4118-9712-d5a2095c4135",
   "metadata": {},
   "outputs": [],
   "source": [
    "from feast.saved_dataset import ValidationReference\n",
    "\n",
    "ref = ValidationReference(\n",
    "    name='user_features_training_ref',\n",
    "    dataset_name=\"reference_dataset\",\n",
    "    profiler=user_features_profiler,\n",
    ")"
   ]
  },
  {
   "cell_type": "code",
   "execution_count": 27,
   "id": "a42cc816-4bcd-4c7e-b70b-f658021849da",
   "metadata": {},
   "outputs": [],
   "source": [
    "store.apply(ref)"
   ]
  },
  {
   "cell_type": "code",
   "execution_count": 28,
   "id": "b44429ba-ee7c-4484-b10e-834076016802",
   "metadata": {},
   "outputs": [],
   "source": [
    "import pandas as pd\n",
    "insert_df = pd.DataFrame({\n",
    "    \"driver_id\": [1003],\n",
    "    \"conv_rate\": [-1],\n",
    "    \"acc_rate\": [2],\n",
    "    \"avg_daily_trips\": [1500],\n",
    "    \"event_timestamp\": [datetime.now()],\n",
    "    \"created\": [datetime.now()],\n",
    "})\n",
    "\n",
    "store.write_to_online_store(\"driver_hourly_stats\", insert_df)"
   ]
  },
  {
   "cell_type": "code",
   "execution_count": 29,
   "id": "067aa7aa-e176-496d-bc7d-0c5141f85d73",
   "metadata": {},
   "outputs": [
    {
     "name": "stdout",
     "output_type": "stream",
     "text": [
      "/home/francisco/github/feast/sdk/python/feast/feature_store.py:1180: RuntimeWarning: Retrieving datasets is an experimental feature. This API is unstable and it could and most probably will be changed in the future. We do not guarantee that future changes will maintain backward compatibility.\n",
      "  warnings.warn(\n",
      "/home/francisco/github/feast/sdk/python/feast/feature_store.py:2360: RuntimeWarning: Logged features validation is an experimental feature. This API is unstable and it could and most probably will be changed in the future. We do not guarantee that future changes will maintain backward compatibility.\n",
      "  warnings.warn(\n",
      "Traceback (most recent call last):\n",
      "  File \"/home/francisco/github/feast/venv/bin/feast\", line 33, in <module>\n",
      "    sys.exit(load_entry_point('feast', 'console_scripts', 'feast')())\n",
      "  File \"/home/francisco/github/feast/venv/lib/python3.8/site-packages/click/core.py\", line 1130, in __call__\n",
      "    return self.main(*args, **kwargs)\n",
      "  File \"/home/francisco/github/feast/venv/lib/python3.8/site-packages/click/core.py\", line 1055, in main\n",
      "    rv = self.invoke(ctx)\n",
      "  File \"/home/francisco/github/feast/venv/lib/python3.8/site-packages/click/core.py\", line 1657, in invoke\n",
      "    return _process_result(sub_ctx.command.invoke(sub_ctx))\n",
      "  File \"/home/francisco/github/feast/venv/lib/python3.8/site-packages/click/core.py\", line 1404, in invoke\n",
      "    return ctx.invoke(self.callback, **ctx.params)\n",
      "  File \"/home/francisco/github/feast/venv/lib/python3.8/site-packages/click/core.py\", line 760, in invoke\n",
      "    return __callback(*args, **kwargs)\n",
      "  File \"/home/francisco/github/feast/venv/lib/python3.8/site-packages/click/decorators.py\", line 26, in new_func\n",
      "    return f(get_current_context(), *args, **kwargs)\n",
      "  File \"/home/francisco/github/feast/sdk/python/feast/cli.py\", line 733, in validate\n",
      "    result = store.validate_logged_features(\n",
      "  File \"/home/francisco/github/feast/sdk/python/feast/usage.py\", line 276, in wrapper\n",
      "    return func(*args, **kwargs)\n",
      "  File \"/home/francisco/github/feast/sdk/python/feast/feature_store.py\", line 2380, in validate_logged_features\n",
      "    t = j.to_arrow(validation_reference=reference)\n",
      "  File \"/home/francisco/github/feast/sdk/python/feast/infra/offline_stores/offline_store.py\", line 130, in to_arrow\n",
      "    features_df = self._to_df_internal()\n",
      "  File \"/home/francisco/github/feast/sdk/python/feast/usage.py\", line 287, in wrapper\n",
      "    raise exc.with_traceback(traceback)\n",
      "  File \"/home/francisco/github/feast/sdk/python/feast/usage.py\", line 276, in wrapper\n",
      "    return func(*args, **kwargs)\n",
      "  File \"/home/francisco/github/feast/sdk/python/feast/infra/offline_stores/file.py\", line 78, in _to_df_internal\n",
      "    df = self.evaluation_function().compute()\n",
      "  File \"/home/francisco/github/feast/sdk/python/feast/infra/offline_stores/file.py\", line 297, in evaluate_offline_job\n",
      "    source_df = _read_datasource(data_source)\n",
      "  File \"/home/francisco/github/feast/sdk/python/feast/infra/offline_stores/file.py\", line 492, in _read_datasource\n",
      "    return dd.read_parquet(\n",
      "  File \"/home/francisco/github/feast/venv/lib/python3.8/site-packages/dask/dataframe/io/parquet/core.py\", line 330, in read_parquet\n",
      "    read_metadata_result = engine.read_metadata(\n",
      "  File \"/home/francisco/github/feast/venv/lib/python3.8/site-packages/dask/dataframe/io/parquet/arrow.py\", line 371, in read_metadata\n",
      "    dataset_info = cls._collect_dataset_info(\n",
      "  File \"/home/francisco/github/feast/venv/lib/python3.8/site-packages/dask/dataframe/io/parquet/arrow.py\", line 877, in _collect_dataset_info\n",
      "    raise ValueError(\n",
      "ValueError: No files satisfy the `require_extension` criteria (files must end with ('.parq', '.parquet')).\n",
      "\u001b[0m"
     ]
    }
   ],
   "source": [
    "end_ts = datetime.now()\n",
    "start_ts = end_ts - timedelta(minutes=10)\n",
    "\n",
    "! feast validate --feature-service driver_activity --reference user_features_training_ref {start_ts.isoformat()} {end_ts.isoformat()}"
   ]
  },
  {
   "cell_type": "code",
   "execution_count": null,
   "id": "88be2c52-f90d-4c95-a581-5f2cd9af2314",
   "metadata": {},
   "outputs": [],
   "source": []
  }
 ],
 "metadata": {
  "kernelspec": {
   "display_name": "Python 3 (ipykernel)",
   "language": "python",
   "name": "python3"
  },
  "language_info": {
   "codemirror_mode": {
    "name": "ipython",
    "version": 3
   },
   "file_extension": ".py",
   "mimetype": "text/x-python",
   "name": "python",
   "nbconvert_exporter": "python",
   "pygments_lexer": "ipython3",
   "version": "3.8.13"
  }
 },
 "nbformat": 4,
 "nbformat_minor": 5
}
