{
 "cells": [
  {
   "cell_type": "markdown",
   "id": "d75bb824-a6cf-493e-87a8-2ae1095cf918",
   "metadata": {},
   "source": [
    "## Online server"
   ]
  },
  {
   "cell_type": "code",
   "execution_count": 1,
   "id": "27a17dd4-08f5-4f01-b5a4-a76aa99952a1",
   "metadata": {},
   "outputs": [],
   "source": [
    "!lsof -i :6566\n",
    "# !kill -9 64859 98087"
   ]
  },
  {
   "cell_type": "code",
   "execution_count": null,
   "id": "897f5979-da53-4441-ac31-f5cd40abf6cd",
   "metadata": {},
   "outputs": [],
   "source": [
    "!echo $OBJC_DISABLE_INITIALIZE_FORK_SAFETY"
   ]
  },
  {
   "cell_type": "code",
   "execution_count": null,
   "id": "73b219c3-7782-4e09-9897-d01f44ccae2d",
   "metadata": {},
   "outputs": [],
   "source": [
    "from feast import FeatureStore\n",
    "store = FeatureStore(repo_path=\"rbac/feature_repo\")"
   ]
  },
  {
   "cell_type": "code",
   "execution_count": null,
   "id": "d1619739-f763-45bb-a1f1-53f6452bc60a",
   "metadata": {},
   "outputs": [],
   "source": [
    "store.serve(\n",
    "    host=\"localhost\",\n",
    "    port=6566,\n",
    "    type_=\"http\",\n",
    "    no_access_log=False,\n",
    "    workers=1,\n",
    "    metrics=False,\n",
    "    keep_alive_timeout=5,\n",
    "    registry_ttl_sec=5,\n",
    ")"
   ]
  },
  {
   "cell_type": "code",
   "execution_count": 2,
   "id": "bc804040-9cd0-4dbc-a63d-a81de9422605",
   "metadata": {},
   "outputs": [
    {
     "name": "stdout",
     "output_type": "stream",
     "text": [
      "08/09/2024 10:13:28 AM root WARNING: _list_feature_views will make breaking changes. Please use _list_batch_feature_views instead. _list_feature_views will behave like _list_all_feature_views in the future.\n",
      "08/09/2024 10:13:28 AM root WARNING: _list_feature_views will make breaking changes. Please use _list_batch_feature_views instead. _list_feature_views will behave like _list_all_feature_views in the future.\n",
      "127.0.0.1:56098 - \"POST /get-online-features HTTP/1.1\" 200\n",
      "08/09/2024 10:13:31 AM root WARNING: _list_feature_views will make breaking changes. Please use _list_batch_feature_views instead. _list_feature_views will behave like _list_all_feature_views in the future.\n",
      "08/09/2024 10:13:31 AM root WARNING: _list_feature_views will make breaking changes. Please use _list_batch_feature_views instead. _list_feature_views will behave like _list_all_feature_views in the future.\n",
      "127.0.0.1:56127 - \"POST /get-online-features HTTP/1.1\" 200\n",
      "08/09/2024 10:13:34 AM root WARNING: _list_feature_views will make breaking changes. Please use _list_batch_feature_views instead. _list_feature_views will behave like _list_all_feature_views in the future.\n",
      "08/09/2024 10:13:34 AM root WARNING: _list_feature_views will make breaking changes. Please use _list_batch_feature_views instead. _list_feature_views will behave like _list_all_feature_views in the future.\n",
      "127.0.0.1:56157 - \"POST /get-online-features HTTP/1.1\" 200\n",
      "^C\n",
      "[2024-08-09 10:14:48 +0200] [77213] [INFO] Handling signal: int\n",
      "[2024-08-09 10:14:48 +0200] [21977] [INFO] Shutting down\n",
      "[2024-08-09 10:14:48 +0200] [21977] [INFO] Error while closing socket [Errno 9] Bad file descriptor\n",
      "[2024-08-09 10:14:48 +0200] [21977] [INFO] Waiting for application shutdown.\n",
      "[2024-08-09 10:14:48 +0200] [21977] [INFO] Application shutdown complete.\n",
      "[2024-08-09 10:14:48 +0200] [21977] [INFO] Finished server process [21977]\n",
      "[2024-08-09 10:14:48 +0200] [77213] [ERROR] Worker (pid:21977) was sent SIGINT!\n"
     ]
    }
   ],
   "source": [
    "!feast -c rbac/feature_repo serve"
   ]
  },
  {
   "cell_type": "code",
   "execution_count": null,
   "id": "c3bc63e7-cf7c-4132-b39b-3cd75a1d6755",
   "metadata": {},
   "outputs": [],
   "source": []
  }
 ],
 "metadata": {
  "kernelspec": {
   "display_name": "Python 3 (ipykernel)",
   "language": "python",
   "name": "python3"
  },
  "language_info": {
   "codemirror_mode": {
    "name": "ipython",
    "version": 3
   },
   "file_extension": ".py",
   "mimetype": "text/x-python",
   "name": "python",
   "nbconvert_exporter": "python",
   "pygments_lexer": "ipython3",
   "version": "3.11.9"
  }
 },
 "nbformat": 4,
 "nbformat_minor": 5
}
