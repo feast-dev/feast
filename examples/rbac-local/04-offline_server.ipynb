{
 "cells": [
  {
   "cell_type": "markdown",
   "id": "36f5d04f-b456-4e65-91a8-482c91f854c1",
   "metadata": {},
   "source": [
    "## Offline server"
   ]
  },
  {
   "cell_type": "code",
   "execution_count": 1,
   "id": "86924e3b-d7dc-46e1-a9f4-05c8abee4da8",
   "metadata": {},
   "outputs": [],
   "source": [
    "!lsof -i :8815\n",
    "# !kill -9 64859 98087"
   ]
  },
  {
   "cell_type": "code",
   "execution_count": 2,
   "id": "73b219c3-7782-4e09-9897-d01f44ccae2d",
   "metadata": {},
   "outputs": [],
   "source": [
    "from feast import FeatureStore\n",
    "store = FeatureStore(repo_path=\"rbac/feature_repo\")"
   ]
  },
  {
   "cell_type": "code",
   "execution_count": 6,
   "id": "5400ee1b-de0a-4fe9-9003-83d0af0863e6",
   "metadata": {},
   "outputs": [
    {
     "name": "stderr",
     "output_type": "stream",
     "text": [
      "INFO:feast.permissions.auth.oidc_token_parser:Validated token\n",
      "INFO:feast.permissions.auth.oidc_token_parser:Extracted user batch_admin and roles ['batch_admin']\n",
      "INFO:feast.permissions.auth.oidc_token_parser:Validated token\n",
      "INFO:feast.permissions.auth.oidc_token_parser:Extracted user batch_admin and roles ['batch_admin']\n",
      "INFO:feast.permissions.auth.oidc_token_parser:Validated token\n",
      "INFO:feast.permissions.auth.oidc_token_parser:Extracted user batch_admin and roles ['batch_admin']\n"
     ]
    },
    {
     "name": "stdout",
     "output_type": "stream",
     "text": [
      "extracted user: batch_admin (['batch_admin'])\n",
      "extracted user: batch_admin (['batch_admin'])\n",
      "extracted user: batch_admin (['batch_admin'])\n"
     ]
    },
    {
     "name": "stderr",
     "output_type": "stream",
     "text": [
      "INFO:feast.permissions.auth.oidc_token_parser:Validated token\n",
      "INFO:feast.permissions.auth.oidc_token_parser:Extracted user batch_admin and roles ['batch_admin']\n",
      "INFO:feast.permissions.auth.oidc_token_parser:Validated token\n",
      "INFO:feast.permissions.auth.oidc_token_parser:Extracted user batch_admin and roles ['batch_admin']\n",
      "INFO:feast.permissions.auth.oidc_token_parser:Validated token\n",
      "INFO:feast.permissions.auth.oidc_token_parser:Extracted user batch_admin and roles ['batch_admin']\n"
     ]
    },
    {
     "name": "stdout",
     "output_type": "stream",
     "text": [
      "extracted user: batch_admin (['batch_admin'])\n",
      "extracted user: batch_admin (['batch_admin'])\n",
      "extracted user: batch_admin (['batch_admin'])\n"
     ]
    },
    {
     "name": "stderr",
     "output_type": "stream",
     "text": [
      "INFO:feast.permissions.auth.oidc_token_parser:Validated token\n",
      "INFO:feast.permissions.auth.oidc_token_parser:Extracted user admin and roles ['store_admin']\n",
      "INFO:feast.permissions.auth.oidc_token_parser:Validated token\n",
      "INFO:feast.permissions.auth.oidc_token_parser:Extracted user admin and roles ['store_admin']\n",
      "INFO:feast.permissions.auth.oidc_token_parser:Validated token\n",
      "INFO:feast.permissions.auth.oidc_token_parser:Extracted user admin and roles ['store_admin']\n"
     ]
    },
    {
     "name": "stdout",
     "output_type": "stream",
     "text": [
      "extracted user: admin (['store_admin'])\n",
      "extracted user: admin (['store_admin'])\n",
      "extracted user: admin (['store_admin'])\n"
     ]
    },
    {
     "name": "stderr",
     "output_type": "stream",
     "text": [
      "INFO:feast.permissions.auth.oidc_token_parser:Validated token\n",
      "INFO:feast.permissions.auth.oidc_token_parser:Extracted user admin and roles ['store_admin']\n",
      "INFO:feast.permissions.auth.oidc_token_parser:Validated token\n",
      "INFO:feast.permissions.auth.oidc_token_parser:Extracted user admin and roles ['store_admin']\n",
      "INFO:feast.permissions.auth.oidc_token_parser:Validated token\n",
      "INFO:feast.permissions.auth.oidc_token_parser:Extracted user admin and roles ['store_admin']\n"
     ]
    },
    {
     "name": "stdout",
     "output_type": "stream",
     "text": [
      "extracted user: admin (['store_admin'])\n",
      "extracted user: admin (['store_admin'])\n",
      "extracted user: admin (['store_admin'])\n"
     ]
    },
    {
     "name": "stderr",
     "output_type": "stream",
     "text": [
      "INFO:feast.permissions.auth.oidc_token_parser:Validated token\n",
      "INFO:feast.permissions.auth.oidc_token_parser:Extracted user admin and roles ['store_admin']\n",
      "INFO:feast.permissions.auth.oidc_token_parser:Validated token\n",
      "INFO:feast.permissions.auth.oidc_token_parser:Extracted user admin and roles ['store_admin']\n",
      "INFO:feast.permissions.auth.oidc_token_parser:Validated token\n",
      "INFO:feast.permissions.auth.oidc_token_parser:Extracted user admin and roles ['store_admin']\n"
     ]
    },
    {
     "name": "stdout",
     "output_type": "stream",
     "text": [
      "extracted user: admin (['store_admin'])\n",
      "extracted user: admin (['store_admin'])\n",
      "extracted user: admin (['store_admin'])\n"
     ]
    },
    {
     "name": "stderr",
     "output_type": "stream",
     "text": [
      "INFO:feast.permissions.auth.oidc_token_parser:Validated token\n",
      "INFO:feast.permissions.auth.oidc_token_parser:Extracted user admin and roles ['store_admin']\n",
      "INFO:feast.permissions.auth.oidc_token_parser:Validated token\n",
      "INFO:feast.permissions.auth.oidc_token_parser:Extracted user admin and roles ['store_admin']\n",
      "INFO:feast.permissions.auth.oidc_token_parser:Validated token\n",
      "INFO:feast.permissions.auth.oidc_token_parser:Extracted user admin and roles ['store_admin']\n"
     ]
    },
    {
     "name": "stdout",
     "output_type": "stream",
     "text": [
      "extracted user: admin (['store_admin'])\n",
      "extracted user: admin (['store_admin'])\n",
      "extracted user: admin (['store_admin'])\n"
     ]
    },
    {
     "ename": "KeyboardInterrupt",
     "evalue": "",
     "output_type": "error",
     "traceback": [
      "\u001b[0;31m---------------------------------------------------------------------------\u001b[0m",
      "\u001b[0;31mKeyboardInterrupt\u001b[0m                         Traceback (most recent call last)",
      "Cell \u001b[0;32mIn[6], line 1\u001b[0m\n\u001b[0;32m----> 1\u001b[0m \u001b[43mstore\u001b[49m\u001b[38;5;241;43m.\u001b[39;49m\u001b[43mserve_offline\u001b[49m\u001b[43m(\u001b[49m\u001b[38;5;124;43m\"\u001b[39;49m\u001b[38;5;124;43mlocalhost\u001b[39;49m\u001b[38;5;124;43m\"\u001b[39;49m\u001b[43m,\u001b[49m\u001b[43m \u001b[49m\u001b[38;5;241;43m8815\u001b[39;49m\u001b[43m)\u001b[49m\n",
      "File \u001b[0;32m~/projects/mlops/feast/rh-feast/sdk/python/feast/feature_store.py:1828\u001b[0m, in \u001b[0;36mFeatureStore.serve_offline\u001b[0;34m(self, host, port)\u001b[0m\n\u001b[1;32m   1825\u001b[0m \u001b[38;5;250m\u001b[39m\u001b[38;5;124;03m\"\"\"Start offline server locally on a given port.\"\"\"\u001b[39;00m\n\u001b[1;32m   1826\u001b[0m \u001b[38;5;28;01mfrom\u001b[39;00m \u001b[38;5;21;01mfeast\u001b[39;00m \u001b[38;5;28;01mimport\u001b[39;00m offline_server\n\u001b[0;32m-> 1828\u001b[0m \u001b[43moffline_server\u001b[49m\u001b[38;5;241;43m.\u001b[39;49m\u001b[43mstart_server\u001b[49m\u001b[43m(\u001b[49m\u001b[38;5;28;43mself\u001b[39;49m\u001b[43m,\u001b[49m\u001b[43m \u001b[49m\u001b[43mhost\u001b[49m\u001b[43m,\u001b[49m\u001b[43m \u001b[49m\u001b[43mport\u001b[49m\u001b[43m)\u001b[49m\n",
      "File \u001b[0;32m~/projects/mlops/feast/rh-feast/sdk/python/feast/offline_server.py:471\u001b[0m, in \u001b[0;36mstart_server\u001b[0;34m(store, host, port)\u001b[0m\n\u001b[1;32m    469\u001b[0m server \u001b[38;5;241m=\u001b[39m OfflineServer(store, location)\n\u001b[1;32m    470\u001b[0m logger\u001b[38;5;241m.\u001b[39minfo(\u001b[38;5;124mf\u001b[39m\u001b[38;5;124m\"\u001b[39m\u001b[38;5;124mOffline store server serving on \u001b[39m\u001b[38;5;132;01m{\u001b[39;00mlocation\u001b[38;5;132;01m}\u001b[39;00m\u001b[38;5;124m\"\u001b[39m)\n\u001b[0;32m--> 471\u001b[0m \u001b[43mserver\u001b[49m\u001b[38;5;241;43m.\u001b[39;49m\u001b[43mserve\u001b[49m\u001b[43m(\u001b[49m\u001b[43m)\u001b[49m\n",
      "File \u001b[0;32m~/miniconda3/envs/feast3.11/lib/python3.11/site-packages/pyarrow/_flight.pyx:3109\u001b[0m, in \u001b[0;36mpyarrow._flight.FlightServerBase.serve\u001b[0;34m()\u001b[0m\n",
      "\u001b[0;31mKeyboardInterrupt\u001b[0m: "
     ]
    }
   ],
   "source": [
    "store.serve_offline(\"localhost\", 8815)"
   ]
  },
  {
   "cell_type": "code",
   "execution_count": 5,
   "id": "8b822d5c-41d9-477a-8b42-c4701784bac2",
   "metadata": {},
   "outputs": [
    {
     "name": "stderr",
     "output_type": "stream",
     "text": [
      "WARNING:root:_list_feature_views will make breaking changes. Please use _list_batch_feature_views instead. _list_feature_views will behave like _list_all_feature_views in the future.\n"
     ]
    },
    {
     "name": "stdout",
     "output_type": "stream",
     "text": [
      "Materializing \u001b[1m\u001b[32m2\u001b[0m feature views to \u001b[1m\u001b[32m2024-08-08 17:24:56+02:00\u001b[0m into the \u001b[1m\u001b[32msqlite\u001b[0m online store.\n",
      "\n",
      "\u001b[1m\u001b[32mdriver_hourly_stats\u001b[0m from \u001b[1m\u001b[32m2024-08-07 17:24:56+02:00\u001b[0m to \u001b[1m\u001b[32m2024-08-08 17:24:56+02:00\u001b[0m:\n"
     ]
    },
    {
     "name": "stderr",
     "output_type": "stream",
     "text": [
      "100%|████████████████████████████████████████████████████████████████| 5/5 [00:00<00:00, 394.32it/s]\n"
     ]
    },
    {
     "name": "stdout",
     "output_type": "stream",
     "text": [
      "\u001b[1m\u001b[32mdriver_hourly_stats_fresh\u001b[0m from \u001b[1m\u001b[32m2024-08-07 17:24:56+02:00\u001b[0m to \u001b[1m\u001b[32m2024-08-08 19:24:56+02:00\u001b[0m:\n"
     ]
    },
    {
     "name": "stderr",
     "output_type": "stream",
     "text": [
      "100%|███████████████████████████████████████████████████████████████| 5/5 [00:00<00:00, 1378.98it/s]\n"
     ]
    }
   ],
   "source": [
    "from datetime import datetime\n",
    "store.materialize_incremental(end_date=datetime.now())"
   ]
  },
  {
   "cell_type": "code",
   "execution_count": null,
   "id": "ff854a14-4649-4d40-94fa-b6e2b8577afa",
   "metadata": {},
   "outputs": [],
   "source": []
  }
 ],
 "metadata": {
  "kernelspec": {
   "display_name": "Python 3 (ipykernel)",
   "language": "python",
   "name": "python3"
  },
  "language_info": {
   "codemirror_mode": {
    "name": "ipython",
    "version": 3
   },
   "file_extension": ".py",
   "mimetype": "text/x-python",
   "name": "python",
   "nbconvert_exporter": "python",
   "pygments_lexer": "ipython3",
   "version": "3.11.9"
  }
 },
 "nbformat": 4,
 "nbformat_minor": 5
}
