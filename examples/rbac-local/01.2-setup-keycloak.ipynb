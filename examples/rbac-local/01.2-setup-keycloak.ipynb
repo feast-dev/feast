{
 "cells": [
  {
   "cell_type": "markdown",
   "id": "e8952066-7a10-4c9b-a4b7-27be074ae269",
   "metadata": {},
   "source": [
    "## Create Keycloak resources"
   ]
  },
  {
   "cell_type": "markdown",
   "id": "7252812d-90eb-4752-91a7-d46b400bacd8",
   "metadata": {},
   "source": [
    "Wait until Keycloak is running"
   ]
  },
  {
   "cell_type": "code",
   "execution_count": 1,
   "id": "e5d13f76-f184-44f6-8542-54a61060e531",
   "metadata": {},
   "outputs": [
    {
     "name": "stdout",
     "output_type": "stream",
     "text": [
      "\u001b[1;39m{\n",
      "  \u001b[0m\u001b[1;34m\"Status\"\u001b[0m\u001b[1;39m: \u001b[0m\u001b[0;32m\"running\"\u001b[0m\u001b[1;39m,\n",
      "  \u001b[0m\u001b[1;34m\"Running\"\u001b[0m\u001b[1;39m: \u001b[0m\u001b[0;39mtrue\u001b[0m\u001b[1;39m,\n",
      "  \u001b[0m\u001b[1;34m\"Paused\"\u001b[0m\u001b[1;39m: \u001b[0m\u001b[0;39mfalse\u001b[0m\u001b[1;39m,\n",
      "  \u001b[0m\u001b[1;34m\"Restarting\"\u001b[0m\u001b[1;39m: \u001b[0m\u001b[0;39mfalse\u001b[0m\u001b[1;39m,\n",
      "  \u001b[0m\u001b[1;34m\"OOMKilled\"\u001b[0m\u001b[1;39m: \u001b[0m\u001b[0;39mfalse\u001b[0m\u001b[1;39m,\n",
      "  \u001b[0m\u001b[1;34m\"Dead\"\u001b[0m\u001b[1;39m: \u001b[0m\u001b[0;39mfalse\u001b[0m\u001b[1;39m,\n",
      "  \u001b[0m\u001b[1;34m\"Pid\"\u001b[0m\u001b[1;39m: \u001b[0m\u001b[0;39m8917\u001b[0m\u001b[1;39m,\n",
      "  \u001b[0m\u001b[1;34m\"ExitCode\"\u001b[0m\u001b[1;39m: \u001b[0m\u001b[0;39m0\u001b[0m\u001b[1;39m,\n",
      "  \u001b[0m\u001b[1;34m\"Error\"\u001b[0m\u001b[1;39m: \u001b[0m\u001b[0;32m\"\"\u001b[0m\u001b[1;39m,\n",
      "  \u001b[0m\u001b[1;34m\"StartedAt\"\u001b[0m\u001b[1;39m: \u001b[0m\u001b[0;32m\"2024-08-08T15:07:40.162311318Z\"\u001b[0m\u001b[1;39m,\n",
      "  \u001b[0m\u001b[1;34m\"FinishedAt\"\u001b[0m\u001b[1;39m: \u001b[0m\u001b[0;32m\"0001-01-01T00:00:00Z\"\u001b[0m\u001b[1;39m\n",
      "\u001b[1;39m}\u001b[0m\n"
     ]
    }
   ],
   "source": [
    "!docker inspect --format='json' my-keycloak | yq '.[0].State'"
   ]
  },
  {
   "cell_type": "markdown",
   "id": "cc9a6329-4e89-464c-ac48-dbbadaf72a2b",
   "metadata": {},
   "source": [
    "Then create a sample realm and client with some roles and users matching the test environment."
   ]
  },
  {
   "cell_type": "code",
   "execution_count": 11,
   "id": "d5c60591-f41d-4a5e-9b18-93385a889495",
   "metadata": {},
   "outputs": [],
   "source": [
    "import requests\n",
    "import json\n",
    "from dotenv import set_key\n",
    "\n",
    "OIDC_SERVER_URL = \"http://0.0.0.0:9999\"\n",
    "ADMIN_USERNAME = \"admin\"\n",
    "ADMIN_PASSWORD = \"admin\"\n",
    "\n",
    "access_token: str = \"\""
   ]
  },
  {
   "cell_type": "code",
   "execution_count": 3,
   "id": "d16969bc-423a-4d18-afa3-97a791b84b13",
   "metadata": {},
   "outputs": [],
   "source": [
    "def get_token():\n",
    "    token_url = f\"{OIDC_SERVER_URL}/realms/master/protocol/openid-connect/token\"\n",
    "\n",
    "    token_data = {\n",
    "        \"grant_type\": \"password\",\n",
    "        \"client_id\": \"admin-cli\",\n",
    "        \"username\": ADMIN_USERNAME,\n",
    "        \"password\": ADMIN_PASSWORD,\n",
    "    }\n",
    "\n",
    "    token_response = requests.post(token_url, data=token_data)\n",
    "    if token_response.status_code == 200:\n",
    "        global access_token\n",
    "        access_token = token_response.json()[\"access_token\"]\n",
    "        return access_token\n",
    "    else:\n",
    "        print(\n",
    "            f\"Failed to obtain access token: {token_response.status_code} - {token_response.text}\"\n",
    "        )\n",
    "        raise Exception(\"Not authenticated\")\n",
    "\n",
    "\n",
    "def keycloak_post(endpoint, data=None):\n",
    "    url = f\"{OIDC_SERVER_URL}/admin/{endpoint}\"\n",
    "    print(f\"Creating {endpoint}\")\n",
    "    global access_token\n",
    "    headers = {\n",
    "        \"Content-Type\": \"application/json\",\n",
    "        \"Authorization\": f\"Bearer {access_token}\",\n",
    "    }\n",
    "    response = requests.request(\"POST\", url, headers=headers, data=json.dumps(data))\n",
    "    print(f\"POST response.status_code is {response.status_code}\")\n",
    "    return response.status_code\n",
    "\n",
    "\n",
    "def keycloak_get(endpoint):\n",
    "    url = f\"{OIDC_SERVER_URL}/admin/{endpoint}\"\n",
    "    global access_token\n",
    "    headers = {\n",
    "        \"Content-Type\": \"application/json\",\n",
    "        \"Authorization\": f\"Bearer {access_token}\",\n",
    "    }\n",
    "    response = requests.request(\"GET\", url, headers=headers)\n",
    "    print(f\"GET response.status_code is {response.status_code}\")\n",
    "    return response.json()\n",
    "\n",
    "\n",
    "def create_realm(realm_name):\n",
    "    data = {\"realm\": realm_name, \"enabled\": \"true\"}\n",
    "    keycloak_post(\"realms\", data=data)\n",
    "    response = keycloak_get(f\"realms/{realm_name}\")\n",
    "    return response[\"id\"]\n",
    "\n",
    "\n",
    "def create_client(realm_name, client_name):\n",
    "    data = {\n",
    "        \"clientId\": client_name,\n",
    "        \"enabled\": \"true\",\n",
    "        \"redirectUris\": [\n",
    "            \"http://localhost:8000/*\",\n",
    "            \"http://127.0.0.1:8000/*\",\n",
    "            \"http://0.0.0.0:8000/*\",\n",
    "        ],\n",
    "        \"publicClient\": False,\n",
    "        \"authorizationServicesEnabled\": True,\n",
    "        \"protocol\": \"openid-connect\",\n",
    "        \"standardFlowEnabled\": True,\n",
    "        \"directAccessGrantsEnabled\": True,\n",
    "        \"serviceAccountsEnabled\": True,\n",
    "    }\n",
    "    keycloak_post(f\"realms/{realm_name}/clients\", data=data)\n",
    "    response = keycloak_get(f\"realms/{realm_name}/clients\")\n",
    "    client = None\n",
    "    for c in response:\n",
    "        if c[\"clientId\"] == client_name:\n",
    "            client = c\n",
    "            break\n",
    "    client_id = client[\"id\"]\n",
    "    client_secret = client[\"secret\"]\n",
    "    return client_id, client_secret\n",
    "\n",
    "\n",
    "def create_client_roles(realm_name, client_id, roles):\n",
    "    for role_name in roles:\n",
    "        data = {\"name\": role_name, \"clientRole\": True}\n",
    "        keycloak_post(f\"realms/{realm_name}/clients/{client_id}/roles\", data=data)\n",
    "\n",
    "    response = keycloak_get(f\"realms/{realm_name}/clients/{client_id}/roles\")\n",
    "    roles_by_name = dict((role[\"name\"], role[\"id\"]) for role in response)\n",
    "    print(roles_by_name)\n",
    "    return roles_by_name\n",
    "\n",
    "\n",
    "def create_user_with_roles(\n",
    "    realm_name, username, password, client_id, roles_by_name, roles\n",
    "):\n",
    "    data = {\n",
    "        \"username\": username,\n",
    "        \"enabled\": True,\n",
    "        \"email\": f\"{username}@poc.com\",\n",
    "        \"emailVerified\": True,\n",
    "        \"firstName\": \"user\",\n",
    "        \"lastName\": f\"{username}\",\n",
    "        \"credentials\": [{\"type\": \"password\", \"value\": password}],\n",
    "        \"realmRoles\": [],\n",
    "    }\n",
    "    keycloak_post(f\"realms/{realm_name}/users\", data=data)\n",
    "    response = keycloak_get(f\"realms/{realm_name}/users\")\n",
    "    user = None\n",
    "    for u in response:\n",
    "        if u[\"username\"] == username:\n",
    "            user = u\n",
    "            break\n",
    "    user_id = user[\"id\"]\n",
    "\n",
    "    data = [\n",
    "        {\n",
    "            \"id\": roles_by_name[role_name],\n",
    "            \"name\": role_name,\n",
    "        }\n",
    "        for role_name in roles\n",
    "    ]\n",
    "    keycloak_post(\n",
    "        f\"realms/{realm_name}/users/{user_id}/role-mappings/clients/{client_id}\",\n",
    "        data=data,\n",
    "    )"
   ]
  },
  {
   "cell_type": "code",
   "execution_count": 4,
   "id": "e097fac1-f2c3-4afe-b78c-2c8279e3a84e",
   "metadata": {},
   "outputs": [
    {
     "data": {
      "text/plain": [
       "'eyJhbGciOiJSUzI1NiIsInR5cCIgOiAiSldUIiwia2lkIiA6ICIweUNoR2N3ZG1ZNXRSNkJ5MGtVQjRmZDVPZTVqM2JLak5pX2hKUmc2ejdFIn0.eyJleHAiOjE3MjMxMzAyNTgsImlhdCI6MTcyMzEzMDE5OCwianRpIjoiNGNkOWRmMTQtZTYzYy00YTFiLTg1ODQtMGE4OGZkYTFiOGI2IiwiaXNzIjoiaHR0cDovLzAuMC4wLjA6OTk5OS9yZWFsbXMvbWFzdGVyIiwic3ViIjoiOTAyM2FjMTEtZWI0Yi00YjlkLTk2MDItNWJlMWRkMGU0NzRjIiwidHlwIjoiQmVhcmVyIiwiYXpwIjoiYWRtaW4tY2xpIiwic2Vzc2lvbl9zdGF0ZSI6ImNhYzg5YjAxLTMxOTYtNDMzZi1iMGJiLTBmZGY3MDUyNmZmNiIsImFjciI6IjEiLCJzY29wZSI6InByb2ZpbGUgZW1haWwiLCJzaWQiOiJjYWM4OWIwMS0zMTk2LTQzM2YtYjBiYi0wZmRmNzA1MjZmZjYiLCJlbWFpbF92ZXJpZmllZCI6ZmFsc2UsInByZWZlcnJlZF91c2VybmFtZSI6ImFkbWluIn0.xrLurTh9eiU4Kyqk6EGER5qaf9MPDJFT34xkUMYbl2ZmzUz8VnKSsJtFlkPSSgMhAprecjlPWLrKqRdAK35YKnXBFUBxEznCTa6fykdHh_3tuTbwt3vtLRxAogTDghnVsRL3VK295jnclUgQzaJUIoFGXgapfxihfn6em6PqBaYWEcKlbd0lhNA_BmAe-XFOnz2o6kUd0TGKCD43plhhL0QfpHmiJ509rqGkuywTgo5WTXFP52Zc6v9b3eReSNXefyuMtZA9gsyCxzhFl1azZh8CPe6UuadcTd1O0d4mbIRiIu2aUrjlplkFrB1KMSGSBD1MaS88PibetMth6P5xgg'"
      ]
     },
     "execution_count": 4,
     "metadata": {},
     "output_type": "execute_result"
    }
   ],
   "source": [
    "get_token()"
   ]
  },
  {
   "cell_type": "code",
   "execution_count": 5,
   "id": "f114fa41-8cea-486f-baf4-998cbf69fea4",
   "metadata": {},
   "outputs": [],
   "source": [
    "realm_name = \"rbac_example\"\n",
    "client_name = \"app\"\n",
    "password = \"password\""
   ]
  },
  {
   "cell_type": "code",
   "execution_count": 6,
   "id": "0f889548-9b60-448b-beed-ac3fc1890b13",
   "metadata": {},
   "outputs": [
    {
     "name": "stdout",
     "output_type": "stream",
     "text": [
      "Creating realms\n",
      "POST response.status_code is 201\n",
      "GET response.status_code is 200\n",
      "Creating realms/rbac_example/clients\n",
      "POST response.status_code is 201\n",
      "GET response.status_code is 200\n",
      "Creating realms/rbac_example/clients/1fcdfed3-9b28-421f-883d-cde6b000c26d/roles\n",
      "POST response.status_code is 201\n",
      "Creating realms/rbac_example/clients/1fcdfed3-9b28-421f-883d-cde6b000c26d/roles\n",
      "POST response.status_code is 201\n",
      "Creating realms/rbac_example/clients/1fcdfed3-9b28-421f-883d-cde6b000c26d/roles\n",
      "POST response.status_code is 201\n",
      "Creating realms/rbac_example/clients/1fcdfed3-9b28-421f-883d-cde6b000c26d/roles\n",
      "POST response.status_code is 201\n",
      "GET response.status_code is 200\n",
      "{'fresh_writer': '1d2cdaa5-efd7-471f-9b10-b68de2f11cd1', 'reader': '856f4a68-687a-4319-9441-588a6c18fb13', 'batch_admin': '42b414ab-4e43-4b3e-83a0-011393f2952a', 'store_admin': '9ad09a29-0493-47f5-83ad-5de081025c04', 'uma_protection': '0752be64-28bb-430e-8d3c-38ad0c8b1d1b'}\n"
     ]
    }
   ],
   "source": [
    "realm_id = create_realm(realm_name)\n",
    "client_id, client_secret = create_client(realm_name, client_name)\n",
    "\n",
    "roles_by_name = create_client_roles(\n",
    "    realm_name, client_id, [\"reader\", \"fresh_writer\", \"store_admin\", \"batch_admin\"]\n",
    ")"
   ]
  },
  {
   "cell_type": "code",
   "execution_count": 7,
   "id": "a3430d83-107d-44ad-acf2-0df810dff0ff",
   "metadata": {},
   "outputs": [
    {
     "name": "stdout",
     "output_type": "stream",
     "text": [
      "Creating realms/rbac_example/users\n",
      "POST response.status_code is 201\n",
      "GET response.status_code is 200\n",
      "Creating realms/rbac_example/users/345ce240-c1d6-4df7-8f86-f6717a24ae19/role-mappings/clients/1fcdfed3-9b28-421f-883d-cde6b000c26d\n",
      "POST response.status_code is 204\n",
      "Creating realms/rbac_example/users\n",
      "POST response.status_code is 201\n",
      "GET response.status_code is 200\n",
      "Creating realms/rbac_example/users/34a9dd95-8504-41f4-89f5-e243a9581f55/role-mappings/clients/1fcdfed3-9b28-421f-883d-cde6b000c26d\n",
      "POST response.status_code is 204\n",
      "Creating realms/rbac_example/users\n",
      "POST response.status_code is 201\n",
      "GET response.status_code is 200\n",
      "Creating realms/rbac_example/users/2b57245d-7cdf-4fef-b455-b1f1551c0bf3/role-mappings/clients/1fcdfed3-9b28-421f-883d-cde6b000c26d\n",
      "POST response.status_code is 204\n",
      "Creating realms/rbac_example/users\n",
      "POST response.status_code is 201\n",
      "GET response.status_code is 200\n",
      "Creating realms/rbac_example/users/c01fd547-036f-4efa-896c-9e8f3cf1f31e/role-mappings/clients/1fcdfed3-9b28-421f-883d-cde6b000c26d\n",
      "POST response.status_code is 204\n"
     ]
    }
   ],
   "source": [
    "create_user_with_roles(\n",
    "    realm_name, \"reader\", password, client_id, roles_by_name, [\"reader\"]\n",
    ")\n",
    "create_user_with_roles(\n",
    "    realm_name,\n",
    "    \"writer\",\n",
    "    password,\n",
    "    client_id,\n",
    "    roles_by_name,\n",
    "    [\"fresh_writer\"],\n",
    ")\n",
    "create_user_with_roles(\n",
    "    realm_name,\n",
    "    \"batch_admin\",\n",
    "    password,\n",
    "    client_id,\n",
    "    roles_by_name,\n",
    "    [\"batch_admin\"],\n",
    ")\n",
    "create_user_with_roles(\n",
    "    realm_name,\n",
    "    \"admin\",\n",
    "    password,\n",
    "    client_id,\n",
    "    roles_by_name,\n",
    "    [\"store_admin\"],\n",
    ")"
   ]
  },
  {
   "cell_type": "code",
   "execution_count": 8,
   "id": "54317f9e-476b-4b8e-864a-a07c54b549f4",
   "metadata": {},
   "outputs": [
    {
     "name": "stdout",
     "output_type": "stream",
     "text": [
      "Realm rbac_example setup completed.\n",
      "Client app created with ID 1fcdfed3-9b28-421f-883d-cde6b000c26d and secret eFGTp6ZJ0tARKYPbdMKUZ1J8PJNWfXR8\n",
      "Settings configured in .env\n"
     ]
    }
   ],
   "source": [
    "print(f\"Realm {realm_name} setup completed.\")\n",
    "print(\n",
    "    f\"Client {client_name} created with ID {client_id} and secret {client_secret}\"\n",
    ")\n",
    "\n",
    "env_file = \".env\"\n",
    "with open(env_file, \"w\") as file:\n",
    "    pass\n",
    "\n",
    "# Write property P=1 to the .env file\n",
    "set_key(env_file, \"OIDC_SERVER_URL\", OIDC_SERVER_URL)\n",
    "set_key(env_file, \"REALM\", realm_name)\n",
    "set_key(env_file, \"CLIENT_ID\", client_name)\n",
    "set_key(env_file, \"CLIENT_SECRET\", client_secret)\n",
    "set_key(env_file, \"PASSWORD\", password)\n",
    "print(f\"Settings configured in {env_file}\")"
   ]
  },
  {
   "cell_type": "markdown",
   "id": "35dcd5ed-4004-4570-965f-0f68668605d8",
   "metadata": {},
   "source": [
    "The [.env](.env) file contains the settings of the created realm, including the client secret to be used to connect the server."
   ]
  },
  {
   "cell_type": "code",
   "execution_count": 12,
   "id": "46a1e2c7-e379-461d-b0bf-82354378e830",
   "metadata": {},
   "outputs": [
    {
     "name": "stdout",
     "output_type": "stream",
     "text": [
      "OIDC_SERVER_URL='http://0.0.0.0:9999'\n",
      "REALM='rbac_example'\n",
      "CLIENT_ID='app'\n",
      "CLIENT_SECRET='eFGTp6ZJ0tARKYPbdMKUZ1J8PJNWfXR8'\n",
      "PASSWORD='password'\n"
     ]
    }
   ],
   "source": [
    "!cat .env"
   ]
  },
  {
   "cell_type": "code",
   "execution_count": null,
   "id": "d035826b-64d6-47cc-a48e-26eb29b31fc7",
   "metadata": {},
   "outputs": [],
   "source": []
  }
 ],
 "metadata": {
  "kernelspec": {
   "display_name": "Python 3 (ipykernel)",
   "language": "python",
   "name": "python3"
  },
  "language_info": {
   "codemirror_mode": {
    "name": "ipython",
    "version": 3
   },
   "file_extension": ".py",
   "mimetype": "text/x-python",
   "name": "python",
   "nbconvert_exporter": "python",
   "pygments_lexer": "ipython3",
   "version": "3.11.9"
  }
 },
 "nbformat": 4,
 "nbformat_minor": 5
}
