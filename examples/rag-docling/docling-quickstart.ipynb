{
 "cells": [
  {
   "cell_type": "markdown",
   "id": "b19cb54f-e63f-4d9b-b7ff-d18a30635cd2",
   "metadata": {},
   "source": [
    "# Overview\n",
    "\n",
    "In this tutorial, we'll use Feast to inject documents and structured data (i.e., features) into the context of an LLM (Large Language Model) to power a RAG Application (Retrieval Augmented Generation).\n",
    "\n",
    "Feast solves several common issues in this flow:\n",
    "1. **Online retrieval:** At inference time, LLMs often need access to data that isn't readily \n",
    "   available and needs to be precomputed from other data sources.\n",
    "   * Feast manages deployment to a variety of online stores (e.g. Milvus, DynamoDB, Redis, Google Cloud Datastore) and \n",
    "     ensures necessary features are consistently _available_ and _freshly computed_ at inference time.\n",
    "2. **Vector Search:** Feast has built support for vector similarity search that is easily configured declaritively so users can focus on their application.\n",
    "3. **Richer structured data:** Along with vector search, users can query standard structured fields to inject into the LLM context for better user experiences.\n",
    "4. **Feature/Context and versioning:** Different teams within an organization are often unable to reuse \n",
    "   data across projects and services, resulting in duplicate application logic. Models have data dependencies that need \n",
    "   to be versioned, for example when running A/B tests on model/prompt versions.\n",
    "   * Feast enables discovery of and collaboration on previously used documents, features, and enables versioning of sets of \n",
    "     data.\n",
    "\n",
    "We will:\n",
    "1. Deploy a local feature store with a **Parquet file offline store** and **Sqlite online store**.\n",
    "2. Write/materialize the data (i.e., feature values) from the offline store (a parquet file) into the online store (Sqlite).\n",
    "3. Serve the features using the Feast SDK\n",
    "4. Inject the document into the LLM's context to answer questions"
   ]
  },
  {
   "cell_type": "code",
   "execution_count": 1,
   "id": "425cf2f7-70b5-423c-a4f2-f470d8638135",
   "metadata": {},
   "outputs": [
    {
     "name": "stdout",
     "output_type": "stream",
     "text": [
      "Please restart your runtime now (Runtime -> Restart runtime). This ensures that the correct dependencies are loaded.\n"
     ]
    }
   ],
   "source": [
    "%%sh\n",
    "pip install feast -U -q\n",
    "echo \"Please restart your runtime now (Runtime -> Restart runtime). This ensures that the correct dependencies are loaded.\""
   ]
  },
  {
   "cell_type": "markdown",
   "id": "db162bb9-e262-4958-990d-fd8f3f1f1249",
   "metadata": {},
   "source": [
    "**Reminder**: Please restart your runtime after installing Feast (Runtime -> Restart runtime). This ensures that the correct dependencies are loaded."
   ]
  },
  {
   "cell_type": "markdown",
   "id": "a25cf84f-c255-4bb3-a3d7-e5512c1ba10d",
   "metadata": {},
   "source": [
    "## Step 2: Create a feature repository\n",
    "\n",
    "A feature repository is a directory that contains the configuration of the feature store and individual features. This configuration is written as code (Python/YAML) and it's highly recommended that teams track it centrally using git. See [Feature Repository](https://docs.feast.dev/reference/feature-repository) for a detailed explanation of feature repositories.\n",
    "\n",
    "The easiest way to create a new feature repository to use the `feast init` command. For this demo, you **do not** need to initialize a feast repo.\n",
    "\n",
    "\n",
    "### Demo data scenario \n",
    "- We data from Wikipedia about states that we have embedded into sentence embeddings to be used for vector retrieval in a RAG application.\n",
    "- We want to generate predictions for driver satisfaction for the rest of the users so we can reach out to potentially dissatisfied users."
   ]
  },
  {
   "cell_type": "code",
   "execution_count": 1,
   "id": "c07166a0-ff77-4bc7-b159-feb8f43aa3f0",
   "metadata": {},
   "outputs": [],
   "source": [
    "import feast"
   ]
  },
  {
   "cell_type": "markdown",
   "id": "c969b62f-4f58-49ed-ae23-ace1916de0c0",
   "metadata": {},
   "source": [
    "### Step 2a: Inspecting the feature repository\n",
    "\n",
    "Let's take a look at the demo repo itself. It breaks down into\n",
    "\n",
    "\n",
    "* `data/` contains raw demo parquet data\n",
    "* `example_repo.py` contains demo feature definitions\n",
    "* `feature_store.yaml` contains a demo setup configuring where data sources are\n",
    "* `test_workflow.py` showcases how to run all key Feast commands, including defining, retrieving, and pushing features.\n",
    "   * You can run this with `python test_workflow.py`."
   ]
  },
  {
   "cell_type": "code",
   "execution_count": 1,
   "id": "5d531836-5981-4a34-9367-51b09af18a8a",
   "metadata": {},
   "outputs": [
    {
     "name": "stdout",
     "output_type": "stream",
     "text": [
      "/Users/farceo/dev/feast/examples/rag-docling/feature_repo\n"
     ]
    },
    {
     "name": "stderr",
     "output_type": "stream",
     "text": [
      "/Users/farceo/dev/feast/.venv/lib/python3.11/site-packages/IPython/core/magics/osm.py:417: UserWarning: This is now an optional IPython functionality, setting dhist requires you to install the `pickleshare` library.\n",
      "  self.shell.db['dhist'] = compress_dhist(dhist)[-100:]\n"
     ]
    },
    {
     "name": "stdout",
     "output_type": "stream",
     "text": [
      "__init__.py        \u001b[1m\u001b[36mdata\u001b[m\u001b[m               feature_store.yaml\n",
      "\u001b[1m\u001b[36m__pycache__\u001b[m\u001b[m        example_repo.py    test_workflow.py\n",
      "\n",
      "./__pycache__:\n",
      "example_repo.cpython-311.pyc\n",
      "\n",
      "./data:\n",
      "docling_samples.parquet\n"
     ]
    }
   ],
   "source": [
    "%cd feature_repo/\n",
    "!ls -R"
   ]
  },
  {
   "cell_type": "markdown",
   "id": "d14a8073-5030-4d35-9c96-f5360aeaf39f",
   "metadata": {},
   "source": [
    "### Step 2b: Inspecting the project configuration\n",
    "Let's inspect the setup of the project in `feature_store.yaml`. \n",
    "\n",
    "The key line defining the overall architecture of the feature store is the **provider**. \n",
    "\n",
    "The provider value sets default offline and online stores. \n",
    "* The offline store provides the compute layer to process historical data (for generating training data & feature \n",
    "  values for serving). \n",
    "* The online store is a low latency store of the latest feature values (for powering real-time inference).\n",
    "\n",
    "Valid values for `provider` in `feature_store.yaml` are:\n",
    "\n",
    "* local: use file source with Milvus Lite\n",
    "* gcp: use BigQuery/Snowflake with Google Cloud Datastore/Redis\n",
    "* aws: use Redshift/Snowflake with DynamoDB/Redis\n",
    "\n",
    "Note that there are many other offline / online stores Feast works with, including Azure, Hive, Trino, and PostgreSQL via community plugins. See https://docs.feast.dev/roadmap for all supported connectors.\n",
    "\n",
    "A custom setup can also be made by following [Customizing Feast](https://docs.feast.dev/v/master/how-to-guides/customizing-feast)"
   ]
  },
  {
   "cell_type": "code",
   "execution_count": 2,
   "id": "14c830ef-f5a4-4867-ad5c-87e709df7057",
   "metadata": {},
   "outputs": [
    {
     "name": "stdout",
     "output_type": "stream",
     "text": [
      "\u001b[94mproject\u001b[39;49;00m:\u001b[37m \u001b[39;49;00mrag\u001b[37m\u001b[39;49;00m\n",
      "\u001b[94mprovider\u001b[39;49;00m:\u001b[37m \u001b[39;49;00mlocal\u001b[37m\u001b[39;49;00m\n",
      "\u001b[94mregistry\u001b[39;49;00m:\u001b[37m \u001b[39;49;00mdata/registry.db\u001b[37m\u001b[39;49;00m\n",
      "\u001b[94monline_store\u001b[39;49;00m:\u001b[37m\u001b[39;49;00m\n",
      "\u001b[37m  \u001b[39;49;00m\u001b[94mtype\u001b[39;49;00m:\u001b[37m \u001b[39;49;00mmilvus\u001b[37m\u001b[39;49;00m\n",
      "\u001b[37m  \u001b[39;49;00m\u001b[94mpath\u001b[39;49;00m:\u001b[37m \u001b[39;49;00mdata/online_store.db\u001b[37m\u001b[39;49;00m\n",
      "\u001b[37m  \u001b[39;49;00m\u001b[94mvector_enabled\u001b[39;49;00m:\u001b[37m \u001b[39;49;00mtrue\u001b[37m\u001b[39;49;00m\n",
      "\u001b[37m  \u001b[39;49;00m\u001b[94membedding_dim\u001b[39;49;00m:\u001b[37m \u001b[39;49;00m384\u001b[37m\u001b[39;49;00m\n",
      "\u001b[37m  \u001b[39;49;00m\u001b[94mindex_type\u001b[39;49;00m:\u001b[37m \u001b[39;49;00m\u001b[33m\"\u001b[39;49;00m\u001b[33mIVF_FLAT\u001b[39;49;00m\u001b[33m\"\u001b[39;49;00m\u001b[37m\u001b[39;49;00m\n",
      "\u001b[37m\u001b[39;49;00m\n",
      "\u001b[37m\u001b[39;49;00m\n",
      "\u001b[94moffline_store\u001b[39;49;00m:\u001b[37m\u001b[39;49;00m\n",
      "\u001b[37m  \u001b[39;49;00m\u001b[94mtype\u001b[39;49;00m:\u001b[37m \u001b[39;49;00mfile\u001b[37m\u001b[39;49;00m\n",
      "\u001b[94mentity_key_serialization_version\u001b[39;49;00m:\u001b[37m \u001b[39;49;00m3\u001b[37m\u001b[39;49;00m\n",
      "\u001b[37m# By default, no_auth for authentication and authorization, other possible values kubernetes and oidc. Refer the documentation for more details.\u001b[39;49;00m\u001b[37m\u001b[39;49;00m\n",
      "\u001b[94mauth\u001b[39;49;00m:\u001b[37m\u001b[39;49;00m\n",
      "\u001b[37m    \u001b[39;49;00m\u001b[94mtype\u001b[39;49;00m:\u001b[37m \u001b[39;49;00mno_auth\u001b[37m\u001b[39;49;00m\n"
     ]
    }
   ],
   "source": [
    "!pygmentize feature_store.yaml"
   ]
  },
  {
   "cell_type": "markdown",
   "id": "5ce80d1a-05d3-434d-bd1e-1ade8abd1f9f",
   "metadata": {},
   "source": [
    "### Inspecting the raw data\n",
    "\n",
    "The raw feature data we have in this demo is stored in a local parquet file. The dataset Wikipedia summaries of diferent cities."
   ]
  },
  {
   "cell_type": "code",
   "execution_count": 3,
   "id": "788a27ff-16a4-4b23-8c1c-ba27fd918aa5",
   "metadata": {},
   "outputs": [
    {
     "name": "stdout",
     "output_type": "stream",
     "text": [
      "embedding length = 384\n"
     ]
    }
   ],
   "source": [
    "import pandas as pd \n",
    "\n",
    "df = pd.read_parquet(\"./data/docling_samples.parquet\")\n",
    "df['chunk_embedding'] = df['chunk_embedding'].apply(lambda x: x.tolist())\n",
    "embedding_length = len(df['chunk_embedding'][0])\n",
    "print(f'embedding length = {embedding_length}')\n",
    "# can't store long text fields \n",
    "df.drop(['full_document_markdown', 'bytes'], axis=1, inplace=True)\n",
    "\n",
    "df.rename({\"chunk_embedding\": \"vector\"}, axis=1, inplace=True)"
   ]
  },
  {
   "cell_type": "code",
   "execution_count": 4,
   "id": "e433178c-51e8-49a7-884c-c9573082ad6d",
   "metadata": {},
   "outputs": [
    {
     "data": {
      "text/html": [
       "<div>\n",
       "<style scoped>\n",
       "    .dataframe tbody tr th:only-of-type {\n",
       "        vertical-align: middle;\n",
       "    }\n",
       "\n",
       "    .dataframe tbody tr th {\n",
       "        vertical-align: top;\n",
       "    }\n",
       "\n",
       "    .dataframe thead th {\n",
       "        text-align: right;\n",
       "    }\n",
       "</style>\n",
       "<table border=\"1\" class=\"dataframe\">\n",
       "  <thead>\n",
       "    <tr style=\"text-align: right;\">\n",
       "      <th></th>\n",
       "      <th>file_name</th>\n",
       "      <th>raw_chunk_markdown</th>\n",
       "      <th>vector</th>\n",
       "      <th>chunk_id</th>\n",
       "      <th>created</th>\n",
       "    </tr>\n",
       "  </thead>\n",
       "  <tbody>\n",
       "    <tr>\n",
       "      <th>0</th>\n",
       "      <td>2203.01017v2</td>\n",
       "      <td>Ahmed Nassar, Nikolaos Livathinos, Maksym Lysa...</td>\n",
       "      <td>[-0.056879762560129166, 0.01667858101427555, -...</td>\n",
       "      <td>6385912fa27a8dd602cea2afaa3ecc9a27229ebd508661...</td>\n",
       "      <td>2025-03-02 06:25:05.958118</td>\n",
       "    </tr>\n",
       "    <tr>\n",
       "      <th>1</th>\n",
       "      <td>2203.01017v2</td>\n",
       "      <td>a. Picture of a table:\\nTables organize valuab...</td>\n",
       "      <td>[0.050771258771419525, -0.0055733839981257915,...</td>\n",
       "      <td>ea0a2fb2f01aef67673594966c17092acfffc147b71a0a...</td>\n",
       "      <td>2025-03-02 06:25:05.958118</td>\n",
       "    </tr>\n",
       "    <tr>\n",
       "      <th>2</th>\n",
       "      <td>2203.01017v2</td>\n",
       "      <td>a. Picture of a table:\\ncomplex column/row-hea...</td>\n",
       "      <td>[-0.05088765174150467, 0.05101901665329933, -0...</td>\n",
       "      <td>0de91a3e11fdad41895df9da8e23aaede5fa3673b5a3e1...</td>\n",
       "      <td>2025-03-02 06:25:05.958118</td>\n",
       "    </tr>\n",
       "    <tr>\n",
       "      <th>3</th>\n",
       "      <td>2203.01017v2</td>\n",
       "      <td>a. Picture of a table:\\nmodel. The latter impr...</td>\n",
       "      <td>[0.011835305020213127, -0.09409898519515991, 0...</td>\n",
       "      <td>3e4296ff2bbe2bfde9a72a9594245eb923e9e3f44c239f...</td>\n",
       "      <td>2025-03-02 06:25:05.958118</td>\n",
       "    </tr>\n",
       "    <tr>\n",
       "      <th>4</th>\n",
       "      <td>2203.01017v2</td>\n",
       "      <td>a. Picture of a table:\\nwe can obtain the cont...</td>\n",
       "      <td>[-0.0068757119588553905, 0.006624480709433556,...</td>\n",
       "      <td>85d4ddd41c4274223f5061212990e7416886c7d1beffc7...</td>\n",
       "      <td>2025-03-02 06:25:05.958118</td>\n",
       "    </tr>\n",
       "  </tbody>\n",
       "</table>\n",
       "</div>"
      ],
      "text/plain": [
       "      file_name                                 raw_chunk_markdown  \\\n",
       "0  2203.01017v2  Ahmed Nassar, Nikolaos Livathinos, Maksym Lysa...   \n",
       "1  2203.01017v2  a. Picture of a table:\\nTables organize valuab...   \n",
       "2  2203.01017v2  a. Picture of a table:\\ncomplex column/row-hea...   \n",
       "3  2203.01017v2  a. Picture of a table:\\nmodel. The latter impr...   \n",
       "4  2203.01017v2  a. Picture of a table:\\nwe can obtain the cont...   \n",
       "\n",
       "                                              vector  \\\n",
       "0  [-0.056879762560129166, 0.01667858101427555, -...   \n",
       "1  [0.050771258771419525, -0.0055733839981257915,...   \n",
       "2  [-0.05088765174150467, 0.05101901665329933, -0...   \n",
       "3  [0.011835305020213127, -0.09409898519515991, 0...   \n",
       "4  [-0.0068757119588553905, 0.006624480709433556,...   \n",
       "\n",
       "                                            chunk_id  \\\n",
       "0  6385912fa27a8dd602cea2afaa3ecc9a27229ebd508661...   \n",
       "1  ea0a2fb2f01aef67673594966c17092acfffc147b71a0a...   \n",
       "2  0de91a3e11fdad41895df9da8e23aaede5fa3673b5a3e1...   \n",
       "3  3e4296ff2bbe2bfde9a72a9594245eb923e9e3f44c239f...   \n",
       "4  85d4ddd41c4274223f5061212990e7416886c7d1beffc7...   \n",
       "\n",
       "                     created  \n",
       "0 2025-03-02 06:25:05.958118  \n",
       "1 2025-03-02 06:25:05.958118  \n",
       "2 2025-03-02 06:25:05.958118  \n",
       "3 2025-03-02 06:25:05.958118  \n",
       "4 2025-03-02 06:25:05.958118  "
      ]
     },
     "metadata": {},
     "output_type": "display_data"
    }
   ],
   "source": [
    "from IPython.display import display\n",
    "\n",
    "display(df.head())"
   ]
  },
  {
   "cell_type": "markdown",
   "id": "ec07d38d-d0ff-4dc3-b041-3bf24de9e7e3",
   "metadata": {},
   "source": [
    "## Step 3: Register feature definitions and deploy your feature store\n",
    "\n",
    "`feast apply` scans python files in the current directory for feature/entity definitions and deploys infrastructure according to `feature_store.yaml`."
   ]
  },
  {
   "cell_type": "markdown",
   "id": "79409ca9-7552-4aa5-b95b-29f836a0d3a5",
   "metadata": {},
   "source": [
    "### Step 3a: Inspecting feature definitions\n",
    "Let's inspect what `example_repo.py` looks like:\n",
    "\n",
    "```python\n",
    "from datetime import timedelta\n",
    "\n",
    "from feast import (\n",
    "    FeatureView,\n",
    "    Field,\n",
    "    FileSource,\n",
    ")\n",
    "from feast.data_format import ParquetFormat\n",
    "from feast.types import Float32, Array, String, ValueType\n",
    "from feast import Entity\n",
    "\n",
    "chunk = Entity(\n",
    "    name=\"chunk_id\",\n",
    "    description=\"Chunk ID\",\n",
    "    value_type=ValueType.STRING,\n",
    ")\n",
    "\n",
    "parquet_file_path = \"./data/docling_samples.parquet\"\n",
    "\n",
    "source = FileSource(\n",
    "    file_format=ParquetFormat(),\n",
    "    path=parquet_file_path,\n",
    "    timestamp_field=\"created\",\n",
    ")\n",
    "\n",
    "city_embeddings_feature_view = FeatureView(\n",
    "    name=\"docling_fv\",\n",
    "    entities=[chunk],\n",
    "    schema=[\n",
    "        Field(name=\"file_name\", dtype=String),\n",
    "        Field(name=\"full_document_markdown\", dtype=String),\n",
    "        Field(name=\"raw_chunk_markdown\", dtype=String),\n",
    "        Field(\n",
    "            name=\"vector\",\n",
    "            dtype=Array(Float32),\n",
    "            vector_index=True,\n",
    "            vector_search_metric=\"COSINE\",\n",
    "        ),\n",
    "        Field(name=\"bytes\", dtype=String),\n",
    "        Field(name=\"chunk_id\", dtype=String),\n",
    "    ],\n",
    "    source=source,\n",
    "    ttl=timedelta(hours=2),\n",
    ")\n",
    "```"
   ]
  },
  {
   "cell_type": "markdown",
   "id": "76634929-c84a-4301-93d3-88292335bde0",
   "metadata": {},
   "source": [
    "### Step 3b: Applying feature definitions\n",
    "Now we run `feast apply` to register the feature views and entities defined in `example_repo.py`, and sets up SQLite online store tables. Note that we had previously specified SQLite as the online store in `feature_store.yaml` by specifying a `local` provider."
   ]
  },
  {
   "cell_type": "code",
   "execution_count": 5,
   "id": "63454dea-9d55-4188-b048-8b943fe80e3a",
   "metadata": {},
   "outputs": [],
   "source": [
    "%rm -rf .ipynb_checkpoints/"
   ]
  },
  {
   "cell_type": "code",
   "execution_count": 6,
   "id": "837e1530-e863-4e5f-b206-b6b4b3ca2aa2",
   "metadata": {},
   "outputs": [
    {
     "name": "stdout",
     "output_type": "stream",
     "text": [
      "/Users/farceo/dev/feast/.venv/lib/python3.11/site-packages/pymilvus/client/__init__.py:6: DeprecationWarning: pkg_resources is deprecated as an API. See https://setuptools.pypa.io/en/latest/pkg_resources.html\n",
      "  from pkg_resources import DistributionNotFound, get_distribution\n",
      "/Users/farceo/dev/feast/.venv/lib/python3.11/site-packages/pkg_resources/__init__.py:3142: DeprecationWarning: Deprecated call to `pkg_resources.declare_namespace('sphinxcontrib')`.\n",
      "Implementing implicit namespace packages (as specified in PEP 420) is preferred to `pkg_resources.declare_namespace`. See https://setuptools.pypa.io/en/latest/references/keywords.html#keyword-namespace-packages\n",
      "  declare_namespace(pkg)\n",
      "/Users/farceo/dev/feast/.venv/lib/python3.11/site-packages/environs/__init__.py:58: DeprecationWarning: The '__version_info__' attribute is deprecated and will be removed in in a future version. Use feature detection or 'packaging.Version(importlib.metadata.version(\"marshmallow\")).release' instead.\n",
      "  _SUPPORTS_LOAD_DEFAULT = ma.__version_info__ >= (3, 13)\n",
      "/Users/farceo/dev/feast/.venv/lib/python3.11/site-packages/pydantic/_internal/_fields.py:192: UserWarning: Field name \"vector_enabled\" in \"MilvusOnlineStoreConfig\" shadows an attribute in parent \"VectorStoreConfig\"\n",
      "  warnings.warn(\n",
      "No project found in the repository. Using project name rag defined in feature_store.yaml\n",
      "Applying changes for project rag\n",
      "/Users/farceo/dev/feast/sdk/python/feast/feature_store.py:579: RuntimeWarning: On demand feature view is an experimental feature. This API is stable, but the functionality does not scale well for offline retrieval\n",
      "  warnings.warn(\n",
      "Connecting to Milvus in local mode using /Users/farceo/dev/feast/examples/rag-docling/feature_repo/data/online_store.db\n",
      "huggingface/tokenizers: The current process just got forked, after parallelism has already been used. Disabling parallelism to avoid deadlocks...\n",
      "To disable this warning, you can either:\n",
      "\t- Avoid using `tokenizers` before the fork if possible\n",
      "\t- Explicitly set the environment variable TOKENIZERS_PARALLELISM=(true | false)\n",
      "03/03/2025 09:53:54 AM pymilvus.milvus_client.milvus_client DEBUG: Created new connection using: b9e0846da21b48b39734a9ad132c0811\n",
      "03/03/2025 09:53:54 AM pymilvus.milvus_client.milvus_client DEBUG: Successfully created collection: rag_docling_feature_view\n",
      "03/03/2025 09:53:54 AM pymilvus.milvus_client.milvus_client DEBUG: Successfully created an index on collection: rag_docling_feature_view\n",
      "Deploying infrastructure for \u001b[1m\u001b[32mdocling_feature_view\u001b[0m\n"
     ]
    }
   ],
   "source": [
    "! feast apply "
   ]
  },
  {
   "cell_type": "markdown",
   "id": "ad7654cc-865c-4bb4-8c0f-d3086c5d9f7e",
   "metadata": {},
   "source": [
    "## Step 5: Load features into your online store"
   ]
  },
  {
   "cell_type": "code",
   "execution_count": 7,
   "id": "34ded931-3de0-4951-aead-1e8ca1679cbe",
   "metadata": {},
   "outputs": [
    {
     "name": "stderr",
     "output_type": "stream",
     "text": [
      "/Users/farceo/dev/feast/.venv/lib/python3.11/site-packages/pymilvus/client/__init__.py:6: DeprecationWarning: pkg_resources is deprecated as an API. See https://setuptools.pypa.io/en/latest/pkg_resources.html\n",
      "  from pkg_resources import DistributionNotFound, get_distribution\n",
      "/Users/farceo/dev/feast/.venv/lib/python3.11/site-packages/pkg_resources/__init__.py:3142: DeprecationWarning: Deprecated call to `pkg_resources.declare_namespace('sphinxcontrib')`.\n",
      "Implementing implicit namespace packages (as specified in PEP 420) is preferred to `pkg_resources.declare_namespace`. See https://setuptools.pypa.io/en/latest/references/keywords.html#keyword-namespace-packages\n",
      "  declare_namespace(pkg)\n",
      "/Users/farceo/dev/feast/.venv/lib/python3.11/site-packages/environs/__init__.py:58: DeprecationWarning: The '__version_info__' attribute is deprecated and will be removed in in a future version. Use feature detection or 'packaging.Version(importlib.metadata.version(\"marshmallow\")).release' instead.\n",
      "  _SUPPORTS_LOAD_DEFAULT = ma.__version_info__ >= (3, 13)\n",
      "/Users/farceo/dev/feast/.venv/lib/python3.11/site-packages/pydantic/_internal/_fields.py:192: UserWarning: Field name \"vector_enabled\" in \"MilvusOnlineStoreConfig\" shadows an attribute in parent \"VectorStoreConfig\"\n",
      "  warnings.warn(\n"
     ]
    }
   ],
   "source": [
    "from datetime import datetime\n",
    "from feast import FeatureStore\n",
    "\n",
    "store = FeatureStore(repo_path=\".\")"
   ]
  },
  {
   "cell_type": "markdown",
   "id": "4c784d77-e96c-455c-9f1f-9183bab58d72",
   "metadata": {},
   "source": [
    "### Step 5a: Using `write_to_online_store`\n",
    "\n",
    "We now serialize the latest values of features since the beginning of time to prepare for serving. Note, `materialize_incremental` serializes all new features since the last `materialize` call, or since the time provided minus the `ttl` timedelta. In this case, this will be `CURRENT_TIME - 1 day` (`ttl` was set on the `FeatureView` instances in [feature_repo/feature_repo/example_repo.py](feature_repo/feature_repo/example_repo.py)). \n",
    "\n",
    "```bash\n",
    "CURRENT_TIME=$(date -u +\"%Y-%m-%dT%H:%M:%S\")\n",
    "feast materialize-incremental $CURRENT_TIME\n",
    "```\n",
    "\n",
    "An alternative to using the CLI command is to use Python:"
   ]
  },
  {
   "cell_type": "code",
   "execution_count": 8,
   "id": "a2655725-5cc4-4f07-ade4-dc5e705eed05",
   "metadata": {},
   "outputs": [
    {
     "name": "stdout",
     "output_type": "stream",
     "text": [
      "Connecting to Milvus in local mode using data/online_store.db\n"
     ]
    }
   ],
   "source": [
    "store.write_to_online_store(feature_view_name='docling_feature_view', df=df)"
   ]
  },
  {
   "cell_type": "markdown",
   "id": "b836e5b1-1fe2-4e9d-8c9a-bdc91da8254e",
   "metadata": {},
   "source": [
    "### Step 5b: Inspect materialized features\n",
    "\n",
    "Note that now there are `online_store.db` and `registry.db`, which store the materialized features and schema information, respectively."
   ]
  },
  {
   "cell_type": "code",
   "execution_count": 9,
   "id": "1307b1aa-fecf-4adf-aafc-f65d89ca735c",
   "metadata": {},
   "outputs": [
    {
     "data": {
      "text/html": [
       "<div>\n",
       "<style scoped>\n",
       "    .dataframe tbody tr th:only-of-type {\n",
       "        vertical-align: middle;\n",
       "    }\n",
       "\n",
       "    .dataframe tbody tr th {\n",
       "        vertical-align: top;\n",
       "    }\n",
       "\n",
       "    .dataframe thead th {\n",
       "        text-align: right;\n",
       "    }\n",
       "</style>\n",
       "<table border=\"1\" class=\"dataframe\">\n",
       "  <thead>\n",
       "    <tr style=\"text-align: right;\">\n",
       "      <th></th>\n",
       "      <th>chunk_id_pk</th>\n",
       "      <th>chunk_id</th>\n",
       "      <th>created_ts</th>\n",
       "      <th>event_ts</th>\n",
       "      <th>file_name</th>\n",
       "      <th>raw_chunk_markdown</th>\n",
       "      <th>vector</th>\n",
       "    </tr>\n",
       "  </thead>\n",
       "  <tbody>\n",
       "    <tr>\n",
       "      <th>0</th>\n",
       "      <td>0100000002000000080000006368756e6b5f6964020000...</td>\n",
       "      <td>002bce0097246931724ae35b1e1a0d13fbb2c1a97e6c04...</td>\n",
       "      <td>0</td>\n",
       "      <td>1740914705958118</td>\n",
       "      <td>2203.01017v2</td>\n",
       "      <td>a. Picture of a table:\\n95% on complex tables.</td>\n",
       "      <td>0.051321</td>\n",
       "    </tr>\n",
       "    <tr>\n",
       "      <th>1</th>\n",
       "      <td>0100000002000000080000006368756e6b5f6964020000...</td>\n",
       "      <td>002bce0097246931724ae35b1e1a0d13fbb2c1a97e6c04...</td>\n",
       "      <td>0</td>\n",
       "      <td>1740914705958118</td>\n",
       "      <td>2203.01017v2</td>\n",
       "      <td>a. Picture of a table:\\n95% on complex tables.</td>\n",
       "      <td>0.091583</td>\n",
       "    </tr>\n",
       "    <tr>\n",
       "      <th>2</th>\n",
       "      <td>0100000002000000080000006368756e6b5f6964020000...</td>\n",
       "      <td>002bce0097246931724ae35b1e1a0d13fbb2c1a97e6c04...</td>\n",
       "      <td>0</td>\n",
       "      <td>1740914705958118</td>\n",
       "      <td>2203.01017v2</td>\n",
       "      <td>a. Picture of a table:\\n95% on complex tables.</td>\n",
       "      <td>-0.039993</td>\n",
       "    </tr>\n",
       "    <tr>\n",
       "      <th>3</th>\n",
       "      <td>0100000002000000080000006368756e6b5f6964020000...</td>\n",
       "      <td>002bce0097246931724ae35b1e1a0d13fbb2c1a97e6c04...</td>\n",
       "      <td>0</td>\n",
       "      <td>1740914705958118</td>\n",
       "      <td>2203.01017v2</td>\n",
       "      <td>a. Picture of a table:\\n95% on complex tables.</td>\n",
       "      <td>0.028728</td>\n",
       "    </tr>\n",
       "    <tr>\n",
       "      <th>4</th>\n",
       "      <td>0100000002000000080000006368756e6b5f6964020000...</td>\n",
       "      <td>002bce0097246931724ae35b1e1a0d13fbb2c1a97e6c04...</td>\n",
       "      <td>0</td>\n",
       "      <td>1740914705958118</td>\n",
       "      <td>2203.01017v2</td>\n",
       "      <td>a. Picture of a table:\\n95% on complex tables.</td>\n",
       "      <td>-0.003588</td>\n",
       "    </tr>\n",
       "  </tbody>\n",
       "</table>\n",
       "</div>"
      ],
      "text/plain": [
       "                                         chunk_id_pk  \\\n",
       "0  0100000002000000080000006368756e6b5f6964020000...   \n",
       "1  0100000002000000080000006368756e6b5f6964020000...   \n",
       "2  0100000002000000080000006368756e6b5f6964020000...   \n",
       "3  0100000002000000080000006368756e6b5f6964020000...   \n",
       "4  0100000002000000080000006368756e6b5f6964020000...   \n",
       "\n",
       "                                            chunk_id  created_ts  \\\n",
       "0  002bce0097246931724ae35b1e1a0d13fbb2c1a97e6c04...           0   \n",
       "1  002bce0097246931724ae35b1e1a0d13fbb2c1a97e6c04...           0   \n",
       "2  002bce0097246931724ae35b1e1a0d13fbb2c1a97e6c04...           0   \n",
       "3  002bce0097246931724ae35b1e1a0d13fbb2c1a97e6c04...           0   \n",
       "4  002bce0097246931724ae35b1e1a0d13fbb2c1a97e6c04...           0   \n",
       "\n",
       "           event_ts     file_name  \\\n",
       "0  1740914705958118  2203.01017v2   \n",
       "1  1740914705958118  2203.01017v2   \n",
       "2  1740914705958118  2203.01017v2   \n",
       "3  1740914705958118  2203.01017v2   \n",
       "4  1740914705958118  2203.01017v2   \n",
       "\n",
       "                               raw_chunk_markdown    vector  \n",
       "0  a. Picture of a table:\\n95% on complex tables.  0.051321  \n",
       "1  a. Picture of a table:\\n95% on complex tables.  0.091583  \n",
       "2  a. Picture of a table:\\n95% on complex tables. -0.039993  \n",
       "3  a. Picture of a table:\\n95% on complex tables.  0.028728  \n",
       "4  a. Picture of a table:\\n95% on complex tables. -0.003588  "
      ]
     },
     "execution_count": 9,
     "metadata": {},
     "output_type": "execute_result"
    }
   ],
   "source": [
    "pymilvus_client = store._provider._online_store._connect(store.config)\n",
    "COLLECTION_NAME = pymilvus_client.list_collections()[0]\n",
    "\n",
    "milvus_query_result = pymilvus_client.query(\n",
    "    collection_name=COLLECTION_NAME,\n",
    "    filter=\"file_name == '2203.01017v2'\",\n",
    ")\n",
    "pd.DataFrame(milvus_query_result[0]).head()"
   ]
  },
  {
   "cell_type": "markdown",
   "id": "5fbf3921-e775-46b7-9915-d18c6592586f",
   "metadata": {},
   "source": [
    "### Quick note on entity keys\n",
    "Note from the above command that the online store indexes by `entity_key`. \n",
    "\n",
    "[Entity keys](https://docs.feast.dev/getting-started/concepts/entity#entity-key) include a list of all entities needed (e.g. all relevant primary keys) to generate the feature vector. In this case, this is a serialized version of the `driver_id`. We use this later to fetch all features for a given driver at inference time."
   ]
  },
  {
   "cell_type": "markdown",
   "id": "516f6e4a-2d37-4428-8dba-81620a65c2ad",
   "metadata": {},
   "source": [
    "## Step 6: Embedding a query using PyTorch and Sentence Transformers"
   ]
  },
  {
   "cell_type": "markdown",
   "id": "66b4e67d-6f94-4532-b107-abc4c0f002f1",
   "metadata": {},
   "source": [
    "During inference (e.g., during when a user submits a chat message) we need to embed the input text. This can be thought of as a feature transformation of the input data. In this example, we'll do this with a small Sentence Transformer from Hugging Face."
   ]
  },
  {
   "cell_type": "code",
   "execution_count": 10,
   "id": "5c7040e5-e09b-4d64-bd29-3df5e2daa6da",
   "metadata": {},
   "outputs": [],
   "source": [
    "from sentence_transformers import SentenceTransformer\n",
    "\n",
    "EMBED_MODEL_ID = \"sentence-transformers/all-MiniLM-L6-v2\"\n",
    "embedding_model = SentenceTransformer(EMBED_MODEL_ID)\n",
    "\n",
    "def embed_chunk(inputs):\n",
    "    output = {\n",
    "        \"query_embedding\": embedding_model.encode([\n",
    "            inputs[\"query_string\"]], normalize_embeddings=True,\n",
    "        ).tolist()[0]\n",
    "    }\n",
    "    return output"
   ]
  },
  {
   "cell_type": "code",
   "execution_count": 13,
   "id": "5a69d55c-6f70-4f63-a167-0a38e840e3b6",
   "metadata": {},
   "outputs": [
    {
     "data": {
      "text/plain": [
       "[0.011573407799005508,\n",
       " 0.025136204436421394,\n",
       " -0.03670184686779976,\n",
       " 0.05932486802339554,\n",
       " -0.0071490369737148285,\n",
       " -0.04119417816400528,\n",
       " 0.07708743214607239,\n",
       " 0.037442512810230255,\n",
       " 0.012449025176465511,\n",
       " -0.006117636803537607]"
      ]
     },
     "execution_count": 13,
     "metadata": {},
     "output_type": "execute_result"
    }
   ],
   "source": [
    "embed_chunk({\"query_string\": \"test\"})['query_embedding'][0:10]"
   ]
  },
  {
   "cell_type": "markdown",
   "id": "67868cdf-04e9-4086-bed8-050e4902ed71",
   "metadata": {},
   "source": [
    "## Step 7: Fetching real-time vectors and data for online inference"
   ]
  },
  {
   "cell_type": "markdown",
   "id": "29b9ae94-7daa-4d56-8bca-9339d09cd1ed",
   "metadata": {},
   "source": [
    "At inference time, we need to use vector similarity search through the document embeddings from the online feature store using `retrieve_online_documents_v2()` while passing the embedded query. These feature vectors can then be fed into the context of the LLM."
   ]
  },
  {
   "cell_type": "code",
   "execution_count": 15,
   "id": "583ffffc-d1c8-450c-8997-376bd3960f0e",
   "metadata": {},
   "outputs": [
    {
     "name": "stdout",
     "output_type": "stream",
     "text": [
      "Ahmed Nassar, Nikolaos Livathinos, Maksym Lysak, Peter Staar IBM Research\n",
      "{ ahn,nli,mly,taa @zurich.ibm.com }\n"
     ]
    }
   ],
   "source": [
    "sample_query = df['raw_chunk_markdown'].values[0] \n",
    "print(sample_query)"
   ]
  },
  {
   "cell_type": "code",
   "execution_count": 17,
   "id": "0c76a526-35dc-4af5-bd46-d181e3a8c23a",
   "metadata": {},
   "outputs": [],
   "source": [
    "query_embedding = embed_chunk({\"query_string\": sample_query})"
   ]
  },
  {
   "cell_type": "code",
   "execution_count": 24,
   "id": "d3099708-409b-4d9e-b1d6-8ad86de6fde2",
   "metadata": {},
   "outputs": [
    {
     "data": {
      "text/html": [
       "<div>\n",
       "<style scoped>\n",
       "    .dataframe tbody tr th:only-of-type {\n",
       "        vertical-align: middle;\n",
       "    }\n",
       "\n",
       "    .dataframe tbody tr th {\n",
       "        vertical-align: top;\n",
       "    }\n",
       "\n",
       "    .dataframe thead th {\n",
       "        text-align: right;\n",
       "    }\n",
       "</style>\n",
       "<table border=\"1\" class=\"dataframe\">\n",
       "  <thead>\n",
       "    <tr style=\"text-align: right;\">\n",
       "      <th></th>\n",
       "      <th>vector</th>\n",
       "      <th>file_name</th>\n",
       "      <th>raw_chunk_markdown</th>\n",
       "      <th>chunk_id</th>\n",
       "      <th>distance</th>\n",
       "    </tr>\n",
       "  </thead>\n",
       "  <tbody>\n",
       "    <tr>\n",
       "      <th>0</th>\n",
       "      <td>[-0.056879762560129166, 0.01667858101427555, -...</td>\n",
       "      <td>redp5110_sampled</td>\n",
       "      <td>1.2  Current state of IBM i security\\nthe empl...</td>\n",
       "      <td>246855c6650678a5b15f8e0cfa2d2670e249140ac2541e...</td>\n",
       "      <td>0.515772</td>\n",
       "    </tr>\n",
       "    <tr>\n",
       "      <th>1</th>\n",
       "      <td>[-0.056879762560129166, 0.01667858101427555, -...</td>\n",
       "      <td>2203.01017v2</td>\n",
       "      <td>Ahmed Nassar, Nikolaos Livathinos, Maksym Lysa...</td>\n",
       "      <td>6385912fa27a8dd602cea2afaa3ecc9a27229ebd508661...</td>\n",
       "      <td>1.000000</td>\n",
       "    </tr>\n",
       "    <tr>\n",
       "      <th>2</th>\n",
       "      <td>[-0.056879762560129166, 0.01667858101427555, -...</td>\n",
       "      <td>redp5110_sampled</td>\n",
       "      <td>We build confident, satisfied clients\\nNo one ...</td>\n",
       "      <td>8e0a5ad8fd2216eff21b4ac27efb018586ceb9ed4e3a34...</td>\n",
       "      <td>0.510600</td>\n",
       "    </tr>\n",
       "  </tbody>\n",
       "</table>\n",
       "</div>"
      ],
      "text/plain": [
       "                                              vector         file_name  \\\n",
       "0  [-0.056879762560129166, 0.01667858101427555, -...  redp5110_sampled   \n",
       "1  [-0.056879762560129166, 0.01667858101427555, -...      2203.01017v2   \n",
       "2  [-0.056879762560129166, 0.01667858101427555, -...  redp5110_sampled   \n",
       "\n",
       "                                  raw_chunk_markdown  \\\n",
       "0  1.2  Current state of IBM i security\\nthe empl...   \n",
       "1  Ahmed Nassar, Nikolaos Livathinos, Maksym Lysa...   \n",
       "2  We build confident, satisfied clients\\nNo one ...   \n",
       "\n",
       "                                            chunk_id  distance  \n",
       "0  246855c6650678a5b15f8e0cfa2d2670e249140ac2541e...  0.515772  \n",
       "1  6385912fa27a8dd602cea2afaa3ecc9a27229ebd508661...  1.000000  \n",
       "2  8e0a5ad8fd2216eff21b4ac27efb018586ceb9ed4e3a34...  0.510600  "
      ]
     },
     "metadata": {},
     "output_type": "display_data"
    }
   ],
   "source": [
    "from IPython.display import display\n",
    "\n",
    "# Retrieve top k documents\n",
    "context_data = store.retrieve_online_documents_v2(\n",
    "    features=[\n",
    "        \"docling_feature_view:vector\",\n",
    "        \"docling_feature_view:file_name\",\n",
    "        \"docling_feature_view:raw_chunk_markdown\",\n",
    "        \"docling_feature_view:chunk_id\",\n",
    "    ],\n",
    "    query=query_embedding['query_embedding'],\n",
    "    top_k=3,\n",
    "    distance_metric='COSINE',\n",
    ").to_df()\n",
    "\n",
    "display(context_data)"
   ]
  },
  {
   "cell_type": "code",
   "execution_count": 53,
   "id": "f6aa7d24-4a80-48ea-9732-0818f333dac7",
   "metadata": {},
   "outputs": [],
   "source": [
    " def format_documents(context_df):\n",
    "    output_context = \"\"\n",
    "    \n",
    "    # Remove duplicates based on 'chunk_id' (ensuring unique document chunks)\n",
    "    unique_documents = context_df.drop_duplicates(subset=[\"chunk_id\"])[\"raw_chunk_markdown\"]\n",
    "    \n",
    "    # Format each document\n",
    "    for i, document_text in enumerate(unique_documents):\n",
    "        output_context += f\"****START DOCUMENT {i}****\\n\"\n",
    "        output_context += f\"document = {{ {document_text.strip()} }}\\n\"\n",
    "        output_context += f\"****END DOCUMENT {i}****\\n\\n\"\n",
    "    \n",
    "    return output_context.strip()"
   ]
  },
  {
   "cell_type": "code",
   "execution_count": 54,
   "id": "5dd668d6-da81-48a2-a841-a9df1804bfa7",
   "metadata": {},
   "outputs": [],
   "source": [
    "RAG_CONTEXT = format_documents(context_data)"
   ]
  },
  {
   "cell_type": "code",
   "execution_count": 55,
   "id": "3978561a-79a0-48bb-86ca-d81293a0e618",
   "metadata": {},
   "outputs": [
    {
     "name": "stdout",
     "output_type": "stream",
     "text": [
      "****START DOCUMENT 0****\n",
      "document = { 1.2  Current state of IBM i security\n",
      "the employees that they manage. }\n",
      "****END DOCUMENT 0****\n",
      "\n",
      "****START DOCUMENT 1****\n",
      "document = { Ahmed Nassar, Nikolaos Livathinos, Maksym Lysak, Peter Staar IBM Research\n",
      "{ ahn,nli,mly,taa @zurich.ibm.com } }\n",
      "****END DOCUMENT 1****\n",
      "\n",
      "****START DOCUMENT 2****\n",
      "document = { We build confident, satisfied clients\n",
      "No one else has the vast consulting experiences, skills sharing and renown service offerings to do what we can do for you.\n",
      "Because no one else is IBM. }\n",
      "****END DOCUMENT 2****\n"
     ]
    }
   ],
   "source": [
    "print(RAG_CONTEXT)"
   ]
  },
  {
   "cell_type": "code",
   "execution_count": 56,
   "id": "09cad16f-4078-42de-80ee-2672dae5608a",
   "metadata": {},
   "outputs": [],
   "source": [
    "FULL_PROMPT = f\"\"\"\n",
    "You are an assistant for answering questions about a series of documents. You will be provided documentation from different documents. Provide a conversational answer.\n",
    "If you don't know the answer, just say \"I do not know.\" Don't make up an answer.\n",
    "\n",
    "Here are document(s) you should use when answer the users question:\n",
    "{RAG_CONTEXT}\n",
    "\"\"\""
   ]
  },
  {
   "cell_type": "code",
   "execution_count": 63,
   "id": "5d4b1739-e686-4d77-9f25-1cdec66f3773",
   "metadata": {},
   "outputs": [],
   "source": [
    "question = 'Who are the authors of the paper?'"
   ]
  },
  {
   "cell_type": "code",
   "execution_count": 60,
   "id": "7bb4a000-8ef3-4006-9c61-7d76fa865d28",
   "metadata": {},
   "outputs": [],
   "source": [
    "import os\n",
    "from openai import OpenAI\n",
    "\n",
    "client = OpenAI(\n",
    "    api_key=os.environ.get(\"OPENAI_API_KEY\"),\n",
    ")"
   ]
  },
  {
   "cell_type": "code",
   "execution_count": 65,
   "id": "da814147-9c78-4906-a84a-78fc88c2fc49",
   "metadata": {},
   "outputs": [],
   "source": [
    "response = client.chat.completions.create(\n",
    "    model=\"gpt-4o-mini\",\n",
    "    messages=[\n",
    "        {\"role\": \"system\", \"content\": FULL_PROMPT},\n",
    "        {\"role\": \"user\", \"content\": question}\n",
    "    ],\n",
    ")"
   ]
  },
  {
   "cell_type": "code",
   "execution_count": 66,
   "id": "68cbd8df-af73-4dbe-97a9-f3cd89f36f3d",
   "metadata": {},
   "outputs": [
    {
     "name": "stdout",
     "output_type": "stream",
     "text": [
      "The authors of the paper are Ahmed Nassar, Nikolaos Livathinos, Maksym Lysak, and Peter Staar from IBM Research.\n"
     ]
    }
   ],
   "source": [
    "print('\\n'.join([c.message.content for c in response.choices]))"
   ]
  },
  {
   "cell_type": "markdown",
   "id": "d4f01627-533b-49b0-9814-292360d064c6",
   "metadata": {},
   "source": [
    "# End"
   ]
  }
 ],
 "metadata": {
  "kernelspec": {
   "display_name": "Python 3 (ipykernel)",
   "language": "python",
   "name": "python3"
  },
  "language_info": {
   "codemirror_mode": {
    "name": "ipython",
    "version": 3
   },
   "file_extension": ".py",
   "mimetype": "text/x-python",
   "name": "python",
   "nbconvert_exporter": "python",
   "pygments_lexer": "ipython3",
   "version": "3.11.6"
  }
 },
 "nbformat": 4,
 "nbformat_minor": 5
}
