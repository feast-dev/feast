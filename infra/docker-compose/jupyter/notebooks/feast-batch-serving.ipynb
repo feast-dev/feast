{
 "cells": [
  {
   "cell_type": "markdown",
   "metadata": {},
   "source": [
    "# Feast Batch Serving\n",
    "This is an extension to `feast-quickstart` notebook to demonstrate the batch serving capability of Feast.\n",
    "\n",
    "## Prerequisite\n",
    "- A running Feast Serving service with store configuration that supports batch retrieval. (eg. BigQuery store)"
   ]
  },
  {
   "cell_type": "markdown",
   "metadata": {},
   "source": [
    "## Data Preparation\n"
   ]
  },
  {
   "cell_type": "code",
   "execution_count": 1,
   "metadata": {},
   "outputs": [],
   "source": [
    "import feast\n",
    "import numpy as np\n",
    "import pandas as pd\n",
    "from datetime import datetime, timedelta\n",
    "from feast.serving.ServingService_pb2 import GetOnlineFeaturesRequest\n",
    "from feast.types.Value_pb2 import Value as Value\n",
    "from feast.client import Client\n",
    "from feast.feature_set import FeatureSet"
   ]
  },
  {
   "cell_type": "code",
   "execution_count": 2,
   "metadata": {},
   "outputs": [],
   "source": [
    "client = feast.Client(core_url=\"core:6565\", serving_url=\"batch-serving:6567\")"
   ]
  },
  {
   "cell_type": "code",
   "execution_count": 3,
   "metadata": {},
   "outputs": [],
   "source": [
    "cust_trans_fs = FeatureSet.from_yaml(\"../features/cust_trans_fs.yaml\")"
   ]
  },
  {
   "cell_type": "code",
   "execution_count": 4,
   "metadata": {},
   "outputs": [
    {
     "name": "stdout",
     "output_type": "stream",
     "text": [
      "Feature set updated/created: \"customer_transactions:1\".\n"
     ]
    }
   ],
   "source": [
    "client.apply(cust_trans_fs)"
   ]
  },
  {
   "cell_type": "code",
   "execution_count": 5,
   "metadata": {},
   "outputs": [
    {
     "data": {
      "text/html": [
       "<div>\n",
       "<style scoped>\n",
       "    .dataframe tbody tr th:only-of-type {\n",
       "        vertical-align: middle;\n",
       "    }\n",
       "\n",
       "    .dataframe tbody tr th {\n",
       "        vertical-align: top;\n",
       "    }\n",
       "\n",
       "    .dataframe thead th {\n",
       "        text-align: right;\n",
       "    }\n",
       "</style>\n",
       "<table border=\"1\" class=\"dataframe\">\n",
       "  <thead>\n",
       "    <tr style=\"text-align: right;\">\n",
       "      <th></th>\n",
       "      <th>datetime</th>\n",
       "      <th>customer_id</th>\n",
       "      <th>daily_transactions</th>\n",
       "      <th>total_transactions</th>\n",
       "    </tr>\n",
       "  </thead>\n",
       "  <tbody>\n",
       "    <tr>\n",
       "      <th>0</th>\n",
       "      <td>2019-12-06 02:17:46.899904</td>\n",
       "      <td>10000</td>\n",
       "      <td>2.797627</td>\n",
       "      <td>175.978266</td>\n",
       "    </tr>\n",
       "    <tr>\n",
       "      <th>1</th>\n",
       "      <td>2019-12-06 02:17:46.899915</td>\n",
       "      <td>10001</td>\n",
       "      <td>4.931632</td>\n",
       "      <td>153.871975</td>\n",
       "    </tr>\n",
       "    <tr>\n",
       "      <th>2</th>\n",
       "      <td>2019-12-06 02:17:46.899922</td>\n",
       "      <td>10002</td>\n",
       "      <td>0.206628</td>\n",
       "      <td>108.558844</td>\n",
       "    </tr>\n",
       "    <tr>\n",
       "      <th>3</th>\n",
       "      <td>2019-12-06 02:17:46.899929</td>\n",
       "      <td>10003</td>\n",
       "      <td>2.354937</td>\n",
       "      <td>119.549455</td>\n",
       "    </tr>\n",
       "    <tr>\n",
       "      <th>4</th>\n",
       "      <td>2019-12-06 02:17:46.899937</td>\n",
       "      <td>10004</td>\n",
       "      <td>7.171423</td>\n",
       "      <td>115.345183</td>\n",
       "    </tr>\n",
       "  </tbody>\n",
       "</table>\n",
       "</div>"
      ],
      "text/plain": [
       "                    datetime  customer_id  daily_transactions  \\\n",
       "0 2019-12-06 02:17:46.899904        10000            2.797627   \n",
       "1 2019-12-06 02:17:46.899915        10001            4.931632   \n",
       "2 2019-12-06 02:17:46.899922        10002            0.206628   \n",
       "3 2019-12-06 02:17:46.899929        10003            2.354937   \n",
       "4 2019-12-06 02:17:46.899937        10004            7.171423   \n",
       "\n",
       "   total_transactions  \n",
       "0          175.978266  \n",
       "1          153.871975  \n",
       "2          108.558844  \n",
       "3          119.549455  \n",
       "4          115.345183  "
      ]
     },
     "execution_count": 5,
     "metadata": {},
     "output_type": "execute_result"
    }
   ],
   "source": [
    "offset = 10000\n",
    "nr_of_customers = 5\n",
    "customer_df = pd.DataFrame(\n",
    "    {\n",
    "        \"datetime\": [datetime.utcnow() for _ in range(nr_of_customers)],\n",
    "        \"customer_id\": [offset + inc for inc in range(nr_of_customers)],\n",
    "        \"daily_transactions\": [np.random.uniform(0, 10) for _ in range(nr_of_customers)],\n",
    "        \"total_transactions\": [np.random.uniform(100, 200) for _ in range(nr_of_customers)],\n",
    "    }\n",
    ")\n",
    "customer_df"
   ]
  },
  {
   "cell_type": "code",
   "execution_count": 6,
   "metadata": {},
   "outputs": [
    {
     "name": "stderr",
     "output_type": "stream",
     "text": [
      "100%|██████████| 5/5 [00:00<00:00,  7.24rows/s]"
     ]
    },
    {
     "name": "stdout",
     "output_type": "stream",
     "text": [
      "\n",
      "Ingested 5 rows into customer_transactions:1\n"
     ]
    },
    {
     "name": "stderr",
     "output_type": "stream",
     "text": [
      "\n"
     ]
    }
   ],
   "source": [
    "client.ingest(cust_trans_fs, dataframe=customer_df)"
   ]
  },
  {
   "cell_type": "markdown",
   "metadata": {
    "pycharm": {
     "name": "#%% md\n"
    }
   },
   "source": [
    "## Batch Retrieval\n",
    "Batch retrieval takes a dataframe containing the entities column and event timestamp as an input. The result would be the outer join of the input and the features. The input dataframe needs to have a column named `datetime` as event timestamp. No results will be returned if the difference between the feature ingestion timestamp and the `event_timestamp` is greater than the `maxAge` parameter specified in the feature set."
   ]
  },
  {
   "cell_type": "code",
   "execution_count": 7,
   "metadata": {
    "pycharm": {
     "name": "#%%\n"
    }
   },
   "outputs": [
    {
     "data": {
      "text/html": [
       "<div>\n",
       "<style scoped>\n",
       "    .dataframe tbody tr th:only-of-type {\n",
       "        vertical-align: middle;\n",
       "    }\n",
       "\n",
       "    .dataframe tbody tr th {\n",
       "        vertical-align: top;\n",
       "    }\n",
       "\n",
       "    .dataframe thead th {\n",
       "        text-align: right;\n",
       "    }\n",
       "</style>\n",
       "<table border=\"1\" class=\"dataframe\">\n",
       "  <thead>\n",
       "    <tr style=\"text-align: right;\">\n",
       "      <th></th>\n",
       "      <th>customer_transactions_v1_feature_timestamp</th>\n",
       "      <th>customer_id</th>\n",
       "      <th>event_timestamp</th>\n",
       "      <th>customer_transactions_v1_daily_transactions</th>\n",
       "      <th>customer_transactions_v1_total_transactions</th>\n",
       "    </tr>\n",
       "  </thead>\n",
       "  <tbody>\n",
       "    <tr>\n",
       "      <th>0</th>\n",
       "      <td>2019-12-06 02:17:46+00:00</td>\n",
       "      <td>10001</td>\n",
       "      <td>2019-12-06 02:17:55.612449+00:00</td>\n",
       "      <td>4.931632</td>\n",
       "      <td>153.871980</td>\n",
       "    </tr>\n",
       "    <tr>\n",
       "      <th>1</th>\n",
       "      <td>2019-12-06 02:17:46+00:00</td>\n",
       "      <td>10004</td>\n",
       "      <td>2019-12-06 02:17:55.612449+00:00</td>\n",
       "      <td>7.171423</td>\n",
       "      <td>115.345184</td>\n",
       "    </tr>\n",
       "    <tr>\n",
       "      <th>2</th>\n",
       "      <td>2019-12-06 02:17:46+00:00</td>\n",
       "      <td>10000</td>\n",
       "      <td>2019-12-06 02:17:55.612449+00:00</td>\n",
       "      <td>2.797627</td>\n",
       "      <td>175.978270</td>\n",
       "    </tr>\n",
       "    <tr>\n",
       "      <th>3</th>\n",
       "      <td>2019-12-06 02:17:46+00:00</td>\n",
       "      <td>10002</td>\n",
       "      <td>2019-12-06 02:17:55.612449+00:00</td>\n",
       "      <td>0.206628</td>\n",
       "      <td>108.558846</td>\n",
       "    </tr>\n",
       "    <tr>\n",
       "      <th>4</th>\n",
       "      <td>2019-12-06 02:17:46+00:00</td>\n",
       "      <td>10003</td>\n",
       "      <td>2019-12-06 02:17:55.612449+00:00</td>\n",
       "      <td>2.354937</td>\n",
       "      <td>119.549450</td>\n",
       "    </tr>\n",
       "  </tbody>\n",
       "</table>\n",
       "</div>"
      ],
      "text/plain": [
       "  customer_transactions_v1_feature_timestamp  customer_id  \\\n",
       "0                  2019-12-06 02:17:46+00:00        10001   \n",
       "1                  2019-12-06 02:17:46+00:00        10004   \n",
       "2                  2019-12-06 02:17:46+00:00        10000   \n",
       "3                  2019-12-06 02:17:46+00:00        10002   \n",
       "4                  2019-12-06 02:17:46+00:00        10003   \n",
       "\n",
       "                   event_timestamp  \\\n",
       "0 2019-12-06 02:17:55.612449+00:00   \n",
       "1 2019-12-06 02:17:55.612449+00:00   \n",
       "2 2019-12-06 02:17:55.612449+00:00   \n",
       "3 2019-12-06 02:17:55.612449+00:00   \n",
       "4 2019-12-06 02:17:55.612449+00:00   \n",
       "\n",
       "   customer_transactions_v1_daily_transactions  \\\n",
       "0                                     4.931632   \n",
       "1                                     7.171423   \n",
       "2                                     2.797627   \n",
       "3                                     0.206628   \n",
       "4                                     2.354937   \n",
       "\n",
       "   customer_transactions_v1_total_transactions  \n",
       "0                                   153.871980  \n",
       "1                                   115.345184  \n",
       "2                                   175.978270  \n",
       "3                                   108.558846  \n",
       "4                                   119.549450  "
      ]
     },
     "execution_count": 7,
     "metadata": {},
     "output_type": "execute_result"
    }
   ],
   "source": [
    "entity_df = customer_df[[\"customer_id\"]].assign(datetime=datetime.utcnow())\n",
    "feature_ids=[\n",
    "    \"customer_transactions:1:daily_transactions\",\n",
    "    \"customer_transactions:1:total_transactions\",\n",
    "]\n",
    "batch_job = client.get_batch_features(feature_ids, entity_df)\n",
    "batch_job.to_dataframe()"
   ]
  },
  {
   "cell_type": "code",
   "execution_count": 8,
   "metadata": {},
   "outputs": [
    {
     "data": {
      "text/html": [
       "<div>\n",
       "<style scoped>\n",
       "    .dataframe tbody tr th:only-of-type {\n",
       "        vertical-align: middle;\n",
       "    }\n",
       "\n",
       "    .dataframe tbody tr th {\n",
       "        vertical-align: top;\n",
       "    }\n",
       "\n",
       "    .dataframe thead th {\n",
       "        text-align: right;\n",
       "    }\n",
       "</style>\n",
       "<table border=\"1\" class=\"dataframe\">\n",
       "  <thead>\n",
       "    <tr style=\"text-align: right;\">\n",
       "      <th></th>\n",
       "      <th>customer_transactions_v1_feature_timestamp</th>\n",
       "      <th>customer_id</th>\n",
       "      <th>event_timestamp</th>\n",
       "      <th>customer_transactions_v1_daily_transactions</th>\n",
       "      <th>customer_transactions_v1_total_transactions</th>\n",
       "    </tr>\n",
       "  </thead>\n",
       "  <tbody>\n",
       "    <tr>\n",
       "      <th>0</th>\n",
       "      <td>None</td>\n",
       "      <td>10000</td>\n",
       "      <td>2020-01-05 02:18:43.900732+00:00</td>\n",
       "      <td>None</td>\n",
       "      <td>None</td>\n",
       "    </tr>\n",
       "    <tr>\n",
       "      <th>1</th>\n",
       "      <td>None</td>\n",
       "      <td>10001</td>\n",
       "      <td>2020-01-05 02:18:43.900732+00:00</td>\n",
       "      <td>None</td>\n",
       "      <td>None</td>\n",
       "    </tr>\n",
       "    <tr>\n",
       "      <th>2</th>\n",
       "      <td>None</td>\n",
       "      <td>10002</td>\n",
       "      <td>2020-01-05 02:18:43.900732+00:00</td>\n",
       "      <td>None</td>\n",
       "      <td>None</td>\n",
       "    </tr>\n",
       "    <tr>\n",
       "      <th>3</th>\n",
       "      <td>None</td>\n",
       "      <td>10003</td>\n",
       "      <td>2020-01-05 02:18:43.900732+00:00</td>\n",
       "      <td>None</td>\n",
       "      <td>None</td>\n",
       "    </tr>\n",
       "    <tr>\n",
       "      <th>4</th>\n",
       "      <td>None</td>\n",
       "      <td>10004</td>\n",
       "      <td>2020-01-05 02:18:43.900732+00:00</td>\n",
       "      <td>None</td>\n",
       "      <td>None</td>\n",
       "    </tr>\n",
       "  </tbody>\n",
       "</table>\n",
       "</div>"
      ],
      "text/plain": [
       "  customer_transactions_v1_feature_timestamp  customer_id  \\\n",
       "0                                       None        10000   \n",
       "1                                       None        10001   \n",
       "2                                       None        10002   \n",
       "3                                       None        10003   \n",
       "4                                       None        10004   \n",
       "\n",
       "                   event_timestamp  \\\n",
       "0 2020-01-05 02:18:43.900732+00:00   \n",
       "1 2020-01-05 02:18:43.900732+00:00   \n",
       "2 2020-01-05 02:18:43.900732+00:00   \n",
       "3 2020-01-05 02:18:43.900732+00:00   \n",
       "4 2020-01-05 02:18:43.900732+00:00   \n",
       "\n",
       "  customer_transactions_v1_daily_transactions  \\\n",
       "0                                        None   \n",
       "1                                        None   \n",
       "2                                        None   \n",
       "3                                        None   \n",
       "4                                        None   \n",
       "\n",
       "  customer_transactions_v1_total_transactions  \n",
       "0                                        None  \n",
       "1                                        None  \n",
       "2                                        None  \n",
       "3                                        None  \n",
       "4                                        None  "
      ]
     },
     "execution_count": 8,
     "metadata": {},
     "output_type": "execute_result"
    }
   ],
   "source": [
    "stale_entity_df = customer_df[[\"customer_id\"]].assign(datetime=datetime.utcnow() + timedelta(days=30))\n",
    "feature_ids=[\n",
    "    \"customer_transactions:1:daily_transactions\",\n",
    "    \"customer_transactions:1:total_transactions\",\n",
    "]\n",
    "batch_job = client.get_batch_features(feature_ids, stale_entity_df)\n",
    "batch_job.to_dataframe()"
   ]
  }
 ],
 "metadata": {
  "kernelspec": {
   "display_name": "Python 3",
   "language": "python",
   "name": "python3"
  },
  "language_info": {
   "codemirror_mode": {
    "name": "ipython",
    "version": 3
   },
   "file_extension": ".py",
   "mimetype": "text/x-python",
   "name": "python",
   "nbconvert_exporter": "python",
   "pygments_lexer": "ipython3",
   "version": "3.7.3"
  },
  "pycharm": {
   "stem_cell": {
    "cell_type": "raw",
    "metadata": {
     "collapsed": false
    },
    "source": []
   }
  }
 },
 "nbformat": 4,
 "nbformat_minor": 1
}
