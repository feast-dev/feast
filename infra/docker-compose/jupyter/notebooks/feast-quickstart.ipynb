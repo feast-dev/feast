{
 "cells": [
  {
   "cell_type": "markdown",
   "metadata": {},
   "source": [
    "# Feast Quick Start\n",
    "This is a quick example to demonstrate:\n",
    "- Register a feature set on Feast\n",
    "- Ingest features into Feast\n",
    "- Retrieve the ingested features from Feast\n",
    "- Update a feature"
   ]
  },
  {
   "cell_type": "code",
   "execution_count": 1,
   "metadata": {},
   "outputs": [],
   "source": [
    "import feast\n",
    "import numpy as np\n",
    "import pandas as pd\n",
    "from datetime import datetime\n",
    "from feast.serving.ServingService_pb2 import GetOnlineFeaturesRequest\n",
    "from feast.types.Value_pb2 import Value as Value\n",
    "from feast.client import Client\n",
    "from feast.feature_set import FeatureSet"
   ]
  },
  {
   "cell_type": "markdown",
   "metadata": {},
   "source": [
    "First, instantiate the client.\n",
    "Feast endpoints can be set via the following environmental variables: `FEAST_CORE_URL`, `FEAST_SERVING_URL`.\n",
    "Alternatively, they can also be passed in explicitly as follows:\n",
    "    \n",
    "`client = feast.Client(core_url=core:6565, serving_url=online-serving:6566)`"
   ]
  },
  {
   "cell_type": "code",
   "execution_count": 2,
   "metadata": {},
   "outputs": [],
   "source": [
    "client = feast.Client()"
   ]
  },
  {
   "cell_type": "markdown",
   "metadata": {},
   "source": [
    "## Register a feature set\n",
    "\n",
    "Let's create and register our first feature set. Below is an example of a basic customer transactions feature set that has been exported to YAML:\n",
    "```\n",
    "name: customer_transactions\n",
    "kind: feature_set\n",
    "entities:\n",
    "- name: customer_id\n",
    "  valueType: INT64\n",
    "features:\n",
    "- name: daily_transactions\n",
    "  valueType: FLOAT\n",
    "- name: total_transactions\n",
    "  valueType: FLOAT\n",
    "maxAge: 3600s    \n",
    "```"
   ]
  },
  {
   "cell_type": "code",
   "execution_count": 3,
   "metadata": {},
   "outputs": [],
   "source": [
    "cust_trans_fs = FeatureSet.from_yaml(\"../features/cust_trans_fs.yaml\")"
   ]
  },
  {
   "cell_type": "code",
   "execution_count": 4,
   "metadata": {},
   "outputs": [
    {
     "name": "stdout",
     "output_type": "stream",
     "text": [
      "Feature set updated/created: \"customer_transactions:1\".\n"
     ]
    }
   ],
   "source": [
    "client.apply(cust_trans_fs)"
   ]
  },
  {
   "cell_type": "markdown",
   "metadata": {},
   "source": [
    "## Ingest features into Feast\n",
    "The dataframe below contains the features and entities of the above feature set."
   ]
  },
  {
   "cell_type": "code",
   "execution_count": 5,
   "metadata": {},
   "outputs": [
    {
     "data": {
      "text/html": [
       "<div>\n",
       "<style scoped>\n",
       "    .dataframe tbody tr th:only-of-type {\n",
       "        vertical-align: middle;\n",
       "    }\n",
       "\n",
       "    .dataframe tbody tr th {\n",
       "        vertical-align: top;\n",
       "    }\n",
       "\n",
       "    .dataframe thead th {\n",
       "        text-align: right;\n",
       "    }\n",
       "</style>\n",
       "<table border=\"1\" class=\"dataframe\">\n",
       "  <thead>\n",
       "    <tr style=\"text-align: right;\">\n",
       "      <th></th>\n",
       "      <th>datetime</th>\n",
       "      <th>customer_id</th>\n",
       "      <th>daily_transactions</th>\n",
       "      <th>total_transactions</th>\n",
       "    </tr>\n",
       "  </thead>\n",
       "  <tbody>\n",
       "    <tr>\n",
       "      <th>0</th>\n",
       "      <td>2019-11-26 12:03:47.320634</td>\n",
       "      <td>10000</td>\n",
       "      <td>5.178112</td>\n",
       "      <td>110.670651</td>\n",
       "    </tr>\n",
       "    <tr>\n",
       "      <th>1</th>\n",
       "      <td>2019-11-26 12:03:47.320644</td>\n",
       "      <td>10001</td>\n",
       "      <td>0.268114</td>\n",
       "      <td>195.393913</td>\n",
       "    </tr>\n",
       "    <tr>\n",
       "      <th>2</th>\n",
       "      <td>2019-11-26 12:03:47.320651</td>\n",
       "      <td>10002</td>\n",
       "      <td>1.486614</td>\n",
       "      <td>136.929052</td>\n",
       "    </tr>\n",
       "    <tr>\n",
       "      <th>3</th>\n",
       "      <td>2019-11-26 12:03:47.320658</td>\n",
       "      <td>10003</td>\n",
       "      <td>9.676433</td>\n",
       "      <td>166.022999</td>\n",
       "    </tr>\n",
       "    <tr>\n",
       "      <th>4</th>\n",
       "      <td>2019-11-26 12:03:47.320665</td>\n",
       "      <td>10004</td>\n",
       "      <td>5.928573</td>\n",
       "      <td>165.687951</td>\n",
       "    </tr>\n",
       "  </tbody>\n",
       "</table>\n",
       "</div>"
      ],
      "text/plain": [
       "                    datetime  customer_id  daily_transactions  \\\n",
       "0 2019-11-26 12:03:47.320634        10000            5.178112   \n",
       "1 2019-11-26 12:03:47.320644        10001            0.268114   \n",
       "2 2019-11-26 12:03:47.320651        10002            1.486614   \n",
       "3 2019-11-26 12:03:47.320658        10003            9.676433   \n",
       "4 2019-11-26 12:03:47.320665        10004            5.928573   \n",
       "\n",
       "   total_transactions  \n",
       "0          110.670651  \n",
       "1          195.393913  \n",
       "2          136.929052  \n",
       "3          166.022999  \n",
       "4          165.687951  "
      ]
     },
     "execution_count": 5,
     "metadata": {},
     "output_type": "execute_result"
    }
   ],
   "source": [
    "offset = 10000\n",
    "nr_of_customers = 5\n",
    "customer_df = pd.DataFrame(\n",
    "    {\n",
    "        \"datetime\": [datetime.utcnow() for _ in range(nr_of_customers)],\n",
    "        \"customer_id\": [offset + inc for inc in range(nr_of_customers)],\n",
    "        \"daily_transactions\": [np.random.uniform(0, 10) for _ in range(nr_of_customers)],\n",
    "        \"total_transactions\": [np.random.uniform(100, 200) for _ in range(nr_of_customers)],\n",
    "    }\n",
    ")\n",
    "customer_df"
   ]
  },
  {
   "cell_type": "code",
   "execution_count": 6,
   "metadata": {},
   "outputs": [
    {
     "name": "stderr",
     "output_type": "stream",
     "text": [
      "  0%|          | 0/5 [00:00<?, ?rows/s]8rows/s]"
     ]
    },
    {
     "name": "stdout",
     "output_type": "stream",
     "text": [
      "\n",
      "Ingested 5 rows into customer_transactions:1\n"
     ]
    },
    {
     "name": "stderr",
     "output_type": "stream",
     "text": [
      "\n"
     ]
    }
   ],
   "source": [
    "client.ingest(cust_trans_fs, dataframe=customer_df)"
   ]
  },
  {
   "cell_type": "markdown",
   "metadata": {},
   "source": [
    "## Retrieve the ingested features from Feast\n",
    "Once the features are ingested, they can be retrieved from the Feast store for model training or prediction purposes."
   ]
  },
  {
   "cell_type": "code",
   "execution_count": 7,
   "metadata": {},
   "outputs": [
    {
     "data": {
      "text/plain": [
       "field_values {\n",
       "  fields {\n",
       "    key: \"customer_id\"\n",
       "    value {\n",
       "      int64_val: 10001\n",
       "    }\n",
       "  }\n",
       "  fields {\n",
       "    key: \"customer_transactions:1:daily_transactions\"\n",
       "    value {\n",
       "      float_val: 0.2681143283843994\n",
       "    }\n",
       "  }\n",
       "  fields {\n",
       "    key: \"customer_transactions:1:total_transactions\"\n",
       "    value {\n",
       "      float_val: 195.39390563964844\n",
       "    }\n",
       "  }\n",
       "}"
      ]
     },
     "execution_count": 7,
     "metadata": {},
     "output_type": "execute_result"
    }
   ],
   "source": [
    "client.get_online_features(\n",
    "    entity_rows=[\n",
    "        GetOnlineFeaturesRequest.EntityRow(\n",
    "            fields={\n",
    "                \"customer_id\": Value(\n",
    "                    int64_val=10001\n",
    "                )\n",
    "            }\n",
    "        )\n",
    "    ],\n",
    "    feature_ids=[\n",
    "        \"customer_transactions:1:daily_transactions\",\n",
    "        \"customer_transactions:1:total_transactions\",\n",
    "    ],\n",
    ")"
   ]
  },
  {
   "cell_type": "markdown",
   "metadata": {},
   "source": [
    "## Update a feature\n",
    "We can also update feature set which has been ingested."
   ]
  },
  {
   "cell_type": "code",
   "execution_count": 8,
   "metadata": {},
   "outputs": [],
   "source": [
    "cust_trans_fs_updated = FeatureSet.from_yaml(\"../features/cust_trans_fs_updated.yaml\")"
   ]
  },
  {
   "cell_type": "code",
   "execution_count": 9,
   "metadata": {},
   "outputs": [
    {
     "name": "stdout",
     "output_type": "stream",
     "text": [
      "Feature set updated/created: \"customer_transactions:2\".\n"
     ]
    }
   ],
   "source": [
    "client.apply(cust_trans_fs_updated)"
   ]
  },
  {
   "cell_type": "code",
   "execution_count": 10,
   "metadata": {},
   "outputs": [
    {
     "data": {
      "text/html": [
       "<div>\n",
       "<style scoped>\n",
       "    .dataframe tbody tr th:only-of-type {\n",
       "        vertical-align: middle;\n",
       "    }\n",
       "\n",
       "    .dataframe tbody tr th {\n",
       "        vertical-align: top;\n",
       "    }\n",
       "\n",
       "    .dataframe thead th {\n",
       "        text-align: right;\n",
       "    }\n",
       "</style>\n",
       "<table border=\"1\" class=\"dataframe\">\n",
       "  <thead>\n",
       "    <tr style=\"text-align: right;\">\n",
       "      <th></th>\n",
       "      <th>datetime</th>\n",
       "      <th>customer_id</th>\n",
       "      <th>daily_transactions</th>\n",
       "      <th>total_transactions</th>\n",
       "      <th>discounts</th>\n",
       "    </tr>\n",
       "  </thead>\n",
       "  <tbody>\n",
       "    <tr>\n",
       "      <th>0</th>\n",
       "      <td>2019-11-26 12:03:47.320634</td>\n",
       "      <td>10000</td>\n",
       "      <td>5.178112</td>\n",
       "      <td>110.670651</td>\n",
       "      <td>8.389938</td>\n",
       "    </tr>\n",
       "    <tr>\n",
       "      <th>1</th>\n",
       "      <td>2019-11-26 12:03:47.320644</td>\n",
       "      <td>10001</td>\n",
       "      <td>0.268114</td>\n",
       "      <td>195.393913</td>\n",
       "      <td>0.430047</td>\n",
       "    </tr>\n",
       "    <tr>\n",
       "      <th>2</th>\n",
       "      <td>2019-11-26 12:03:47.320651</td>\n",
       "      <td>10002</td>\n",
       "      <td>1.486614</td>\n",
       "      <td>136.929052</td>\n",
       "      <td>7.408917</td>\n",
       "    </tr>\n",
       "    <tr>\n",
       "      <th>3</th>\n",
       "      <td>2019-11-26 12:03:47.320658</td>\n",
       "      <td>10003</td>\n",
       "      <td>9.676433</td>\n",
       "      <td>166.022999</td>\n",
       "      <td>1.192721</td>\n",
       "    </tr>\n",
       "    <tr>\n",
       "      <th>4</th>\n",
       "      <td>2019-11-26 12:03:47.320665</td>\n",
       "      <td>10004</td>\n",
       "      <td>5.928573</td>\n",
       "      <td>165.687951</td>\n",
       "      <td>2.051037</td>\n",
       "    </tr>\n",
       "  </tbody>\n",
       "</table>\n",
       "</div>"
      ],
      "text/plain": [
       "                    datetime  customer_id  daily_transactions  \\\n",
       "0 2019-11-26 12:03:47.320634        10000            5.178112   \n",
       "1 2019-11-26 12:03:47.320644        10001            0.268114   \n",
       "2 2019-11-26 12:03:47.320651        10002            1.486614   \n",
       "3 2019-11-26 12:03:47.320658        10003            9.676433   \n",
       "4 2019-11-26 12:03:47.320665        10004            5.928573   \n",
       "\n",
       "   total_transactions  discounts  \n",
       "0          110.670651   8.389938  \n",
       "1          195.393913   0.430047  \n",
       "2          136.929052   7.408917  \n",
       "3          166.022999   1.192721  \n",
       "4          165.687951   2.051037  "
      ]
     },
     "execution_count": 10,
     "metadata": {},
     "output_type": "execute_result"
    }
   ],
   "source": [
    "discounts = [np.random.uniform(0, 10) for _ in range(nr_of_customers)]\n",
    "customer_df_updated = customer_df.assign(discounts=discounts)\n",
    "customer_df_updated"
   ]
  },
  {
   "cell_type": "code",
   "execution_count": 11,
   "metadata": {},
   "outputs": [
    {
     "name": "stderr",
     "output_type": "stream",
     "text": [
      "  0%|          | 0/5 [00:00<?, ?rows/s]6rows/s]"
     ]
    },
    {
     "name": "stdout",
     "output_type": "stream",
     "text": [
      "\n",
      "Ingested 5 rows into customer_transactions:2\n"
     ]
    },
    {
     "name": "stderr",
     "output_type": "stream",
     "text": [
      "\n"
     ]
    }
   ],
   "source": [
    "client.ingest(cust_trans_fs_updated, dataframe=customer_df_updated)"
   ]
  },
  {
   "cell_type": "code",
   "execution_count": 12,
   "metadata": {},
   "outputs": [
    {
     "data": {
      "text/plain": [
       "field_values {\n",
       "  fields {\n",
       "    key: \"customer_id\"\n",
       "    value {\n",
       "      int64_val: 10001\n",
       "    }\n",
       "  }\n",
       "  fields {\n",
       "    key: \"customer_transactions:2:daily_transactions\"\n",
       "    value {\n",
       "      float_val: 0.2681143283843994\n",
       "    }\n",
       "  }\n",
       "  fields {\n",
       "    key: \"customer_transactions:2:discounts\"\n",
       "    value {\n",
       "      float_val: 0.4300469756126404\n",
       "    }\n",
       "  }\n",
       "  fields {\n",
       "    key: \"customer_transactions:2:total_transactions\"\n",
       "    value {\n",
       "      float_val: 195.39390563964844\n",
       "    }\n",
       "  }\n",
       "}"
      ]
     },
     "execution_count": 12,
     "metadata": {},
     "output_type": "execute_result"
    }
   ],
   "source": [
    "client.get_online_features(\n",
    "    entity_rows=[\n",
    "        GetOnlineFeaturesRequest.EntityRow(\n",
    "            fields={\n",
    "                \"customer_id\": Value(\n",
    "                    int64_val=10001\n",
    "                )\n",
    "            }\n",
    "        )\n",
    "    ],\n",
    "    feature_ids=[\n",
    "        \"customer_transactions:2:daily_transactions\",\n",
    "        \"customer_transactions:2:total_transactions\",\n",
    "        \"customer_transactions:2:discounts\",\n",
    "    ],\n",
    ")"
   ]
  }
 ],
 "metadata": {
  "kernelspec": {
   "display_name": "Python 3",
   "language": "python",
   "name": "python3"
  },
  "language_info": {
   "codemirror_mode": {
    "name": "ipython",
    "version": 3
   },
   "file_extension": ".py",
   "mimetype": "text/x-python",
   "name": "python",
   "nbconvert_exporter": "python",
   "pygments_lexer": "ipython3",
   "version": "3.7.3"
  },
  "pycharm": {
   "stem_cell": {
    "cell_type": "raw",
    "source": [],
    "metadata": {
     "collapsed": false
    }
   }
  }
 },
 "nbformat": 4,
 "nbformat_minor": 1
}